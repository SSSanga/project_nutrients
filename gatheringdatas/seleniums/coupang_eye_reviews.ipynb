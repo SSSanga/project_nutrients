{
 "cells": [
  {
   "cell_type": "code",
   "execution_count": 1,
   "id": "51091f3f-a3a1-4b8f-a4c9-66f974ea2474",
   "metadata": {
    "tags": []
   },
   "outputs": [],
   "source": [
    "from selenium import webdriver\n",
    "import time\n",
    "import pandas as pd\n",
    "import pymongo as mg"
   ]
  },
  {
   "cell_type": "code",
   "execution_count": 2,
   "id": "6ee85d39-2cd2-4bf0-83f5-397525c13562",
   "metadata": {},
   "outputs": [],
   "source": [
    "from selenium.webdriver.chrome.options import Options\n",
    "import subprocess\n",
    "import shutil\n",
    "\n",
    "# 자신 맞는 chrome.exe 위치 변경 필요\n",
    "subprocess.Popen(r'C:\\Program Files\\Google\\Chrome\\Application\\chrome.exe --remote-debugging-port=9222 --user-data-dir=\"C:\\chrometemp\"')\n",
    "\n",
    "options = webdriver.ChromeOptions()\n",
    "options.add_experimental_option(\"debuggerAddress\", \"127.0.0.1:9222\")\n",
    "  # Experimental option as an argument"
   ]
  },
  {
   "cell_type": "code",
   "execution_count": 3,
   "id": "69c9ef11-a494-49eb-90fb-ae9f44d5e8ab",
   "metadata": {
    "tags": []
   },
   "outputs": [],
   "source": [
    "#open chrome browser\n",
    "browser = webdriver.Chrome(executable_path='../../../chromedriver.exe', options=options) #webdriver_selenium과 web을 연결해주기위함.\n",
    "browser.set_window_size(1560,2000)"
   ]
  },
  {
   "cell_type": "code",
   "execution_count": 4,
   "id": "3981b9b3-a508-4897-b158-f707dc3ab504",
   "metadata": {
    "tags": []
   },
   "outputs": [],
   "source": [
    "# url in address window\n",
    "browser.get('https://www.coupang.com/np/search?component=&q=%EB%88%88+%EC%98%81%EC%96%91%EC%A0%9C&channel=user')\n",
    "browser.implicitly_wait(5)"
   ]
  },
  {
   "cell_type": "code",
   "execution_count": 5,
   "id": "667e8ab2-5a50-4b74-8ce6-991675fd8ddd",
   "metadata": {
    "tags": []
   },
   "outputs": [],
   "source": [
    "client = mg.MongoClient(host='mongodb://localhost:27017')\n",
    "database = client['project_nutrients']\n",
    "collection = database['eyes_coupang_review']"
   ]
  },
  {
   "cell_type": "code",
   "execution_count": 6,
   "id": "684f195d-e9c8-4a03-a1be-c8a182071cb7",
   "metadata": {},
   "outputs": [],
   "source": [
    "# ## 마우스 커서 올려서 하위 메뉴를 보기\n",
    "from selenium.webdriver.common.action_chains import ActionChains"
   ]
  },
  {
   "cell_type": "code",
   "execution_count": 7,
   "id": "f56d8eb0-a250-4b0a-9ab2-e1a075ec1734",
   "metadata": {},
   "outputs": [],
   "source": [
    "# # 마우스 커서를 올릴 웹 요소 선택\n",
    "element_to_hover_over = browser.find_element_by_css_selector('#searchSortingList > ul')"
   ]
  },
  {
   "cell_type": "code",
   "execution_count": 8,
   "id": "68e46bbd-0414-4e7e-94cf-fa155feb2f3b",
   "metadata": {},
   "outputs": [],
   "source": [
    "# ActionChains 객체 생성\n",
    "action = ActionChains(browser)\n",
    "# 마우스를 웹 요소 위에 올리기 (호버)\n",
    "action.move_to_element(element_to_hover_over).perform()"
   ]
  },
  {
   "cell_type": "code",
   "execution_count": 9,
   "id": "96993a55-bd05-4b46-b872-49582eee13ef",
   "metadata": {},
   "outputs": [],
   "source": [
    "# 하위 목록의 웹 요소 선택: 60개씩 보기 \n",
    "sub_element = browser.find_element_by_css_selector('#searchSortingList > ul > li:nth-child(3) > label')\n",
    "# 하위 목록 클릭\n",
    "sub_element.click()"
   ]
  },
  {
   "cell_type": "code",
   "execution_count": null,
   "id": "fb2e2f96-af48-4d72-ac13-ca309aeb7513",
   "metadata": {},
   "outputs": [
    {
     "name": "stdout",
     "output_type": "stream",
     "text": [
      "현재 탭 제목: 쿠팡! - 눈 영양제\n",
      "새로운 탭 제목: 쿠팡! | 여에스더 루테인&지아잔틴 눈 30정, 1개\n",
      "26.6\n"
     ]
    }
   ],
   "source": [
    "from selenium.webdriver.support.ui import WebDriverWait\n",
    "from selenium.webdriver.support import expected_conditions as EC\n",
    "\n",
    "client = mg.MongoClient(host='mongodb://localhost:27017')\n",
    "database = client['project_nutrients']\n",
    "collection = database['coupang_eyes_review']\n",
    "\n",
    "column_name = ['product_name', 'review_date', 'review_content', 'review_star', 'review_writer']\n",
    "\n",
    "\n",
    "i=3  \n",
    "h=3\n",
    "review_list = []\n",
    "review_lists = []\n",
    "main_window = browser.current_window_handle  # 현재 창의 핸들 저장\n",
    "from selenium.webdriver.common.keys import Keys\n",
    "k=2\n",
    "for go in range(2, 12):\n",
    "    product_element_path = 'span.btn-page > a:nth-child({})'.format(k)\n",
    "    product_pagination = browser.find_element_by_css_selector(product_element_path)\n",
    "    click_product ='.search-product-wrap'\n",
    "    product_list = browser.find_elements_by_css_selector(click_product)\n",
    "    for product in product_list:\n",
    "        product.click()\n",
    "\n",
    "        browser.implicitly_wait(10)\n",
    "        print(f\"현재 탭 제목: {browser.title}\")   \n",
    "        time.sleep(2)\n",
    "\n",
    "        # 새로운 탭이 열릴 때까지 대기 (예시: 2개 이상의 창이 열리고, 그 중 하나가 현재 탬과 다른 창일 때까지 대기)\n",
    "        wait = WebDriverWait(browser, 10)\n",
    "        new_tab_handle = wait.until(EC.new_window_is_opened)\n",
    "\n",
    "        # 모든 탬의 핸들 가져오기\n",
    "        all_tab_handles = browser.window_handles\n",
    "\n",
    "        # 새로운 탬의 핸들 찾아 선택하기\n",
    "        for handle in all_tab_handles:\n",
    "            if handle != main_window:\n",
    "                new_tab_handle = handle\n",
    "\n",
    "        # 새로운 탬으로 전환하기\n",
    "        browser.switch_to.window(new_tab_handle)\n",
    "\n",
    "        # 필요한 작업 수행 및 정보 가져오기 (예시: 페이지 제목 가져오기)\n",
    "        print(f\"새로운 탭 제목: {browser.title}\")   \n",
    "\n",
    "        try :\n",
    "            # 상품평 클릭\n",
    "            browser.find_element_by_css_selector('#prod-review-nav-link').send_keys(Keys.ENTER)\n",
    "            page = browser.find_element_by_css_selector('.product-tab-review-count').text\n",
    "            page = page.replace(\",\", \"\")  # 쉼표 제거\n",
    "            page = page.replace(\"(\", \"\")  # 왼쪽 괄호 제거\n",
    "            page = page.replace(\")\", \"\")  # 오른쪽 괄호 제거\n",
    "\n",
    "            # 이제 정수로 변환 시도\n",
    "            try:\n",
    "                page_int = int(page)\n",
    "                review_page = page_int / 5\n",
    "                print(review_page)\n",
    "            except ValueError as e:\n",
    "                print(\"타입 변환 오류:\", e)\n",
    "\n",
    "\n",
    "            for go in range(1, page_int, 1):\n",
    "            # for go in range(1, 2 ,1):\n",
    "                element_path = 'div.sdp-review__article__page.js_reviewArticlePagingContainer > button:nth-child({})'.format(h)\n",
    "                pagination = browser.find_element_by_css_selector(element_path)\n",
    "                try:\n",
    "                    product = browser.find_element_by_css_selector(' article:nth-child({}) > div.sdp-review__article__list__info > div.sdp-review__article__list__info__product-info__name'.format(i)).text\n",
    "                except:\n",
    "                    product = str()\n",
    "                try:\n",
    "                    star = browser.find_element_by_css_selector('article:nth-child({}) > div.sdp-review__article__list__info > div.sdp-review__article__list__info__product-info > div.sdp-review__article__list__info__product-info__star-gray > div'.format(i)).get_attribute('data-rating')\n",
    "                except:\n",
    "                    star = str() \n",
    "                try:\n",
    "                    date = browser.find_element_by_css_selector('article:nth-child({}) > div.sdp-review__article__list__info > div.sdp-review__article__list__info__product-info > div.sdp-review__article__list__info__product-info__reg-date'.format(i)).text\n",
    "                except:\n",
    "                    date = str()\n",
    "                try:\n",
    "                    content = browser.find_element_by_css_selector('article:nth-child({}) > div.sdp-review__article__list__review.js_reviewArticleContentContainer > div'.format(i)).text\n",
    "                except:\n",
    "                    content = str()\n",
    "                try:\n",
    "                    writer = browser.find_element_by_css_selector('article:nth-child({}) > div.sdp-review__article__list__info > div.sdp-review__article__list__info__user > span'.format(i)).text\n",
    "                except:\n",
    "                    writer = str()\n",
    "\n",
    "                review_list= [product, date, content, star, writer]\n",
    "                review_lists.append(review_list)\n",
    "                \n",
    "                # print(별)\n",
    "                i = i + 1        \n",
    "                if i == 8 :\n",
    "                    pagination.click()\n",
    "                    time.sleep(1)\n",
    "                    h = h + 1\n",
    "                    i = 3\n",
    "\n",
    "                if h == 12:  # h 값이 12일 때 다시 3으로 초기화\n",
    "                    element_path = '.sdp-review__article__page.js_reviewArticlePagingContainer > button.sdp-review__article__page__next.sdp-review__article__page__next--active.js_reviewArticlePageNextBtn'\n",
    "                    pagination = browser.find_element_by_css_selector(element_path)\n",
    "                    h = 3\n",
    "\n",
    "                    print('실패: {}'.format(element_path))\n",
    "                    break\n",
    "            # 저장을 위한 작업 \n",
    "            df_coupang_liver = pd.DataFrame(data=review_lists, columns=column_name)\n",
    "            data_dict = df_coupang_liver.to_dict(orient='records')\n",
    "            collection.insert_many(data_dict)\n",
    "            review_lists = list()\n",
    "\n",
    "        except :\n",
    "            pass\n",
    "\n",
    "        time.sleep(3)\n",
    "        # 다시 메인 창으로 전환\n",
    "        browser.switch_to.window(main_window)\n",
    "        time.sleep(1)\n",
    "    product_pagination.click()\n",
    "    k=k+1\n",
    "    time.sleep(1)\n",
    "\n",
    "\n",
    "\n",
    "product_list[0].click()"
   ]
  }
 ],
 "metadata": {
  "kernelspec": {
   "display_name": "Python 3 (ipykernel)",
   "language": "python",
   "name": "python3"
  },
  "language_info": {
   "codemirror_mode": {
    "name": "ipython",
    "version": 3
   },
   "file_extension": ".py",
   "mimetype": "text/x-python",
   "name": "python",
   "nbconvert_exporter": "python",
   "pygments_lexer": "ipython3",
   "version": "3.11.3"
  }
 },
 "nbformat": 4,
 "nbformat_minor": 5
}
