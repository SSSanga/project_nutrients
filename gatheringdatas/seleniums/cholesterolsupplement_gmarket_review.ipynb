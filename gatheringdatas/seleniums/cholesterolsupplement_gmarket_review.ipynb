{
 "cells": [
  {
   "cell_type": "code",
   "execution_count": 250,
   "id": "010a00a6-85d9-4de6-9005-c8af563aa381",
   "metadata": {
    "tags": []
   },
   "outputs": [],
   "source": [
    "from selenium import webdriver\n",
    "import time"
   ]
  },
  {
   "cell_type": "code",
   "execution_count": 251,
   "id": "1e8e6362-cdec-4cb6-abca-11ffd731339e",
   "metadata": {
    "tags": []
   },
   "outputs": [],
   "source": [
    "# open chrome browser\n",
    "browser = webdriver.Chrome(executable_path='../../../chromedriver.exe')"
   ]
  },
  {
   "cell_type": "code",
   "execution_count": 252,
   "id": "4eeb515d-7e7c-4eca-b0fd-6f0e472b775c",
   "metadata": {
    "tags": []
   },
   "outputs": [],
   "source": [
    "# url in address window\n",
    "browser.get('https://search.11st.co.kr/pc/total-search?kwd=%25EC%25BD%259C%25EB%25A0%2588%25EC%258A%25A4%25ED%2585%258C%25EB%25A1%25A4%2520%25EC%2598%2581%25EC%2596%2591%25EC%25A0%259C&tabId=TOTAL_SEARCH')"
   ]
  },
  {
   "cell_type": "code",
   "execution_count": 253,
   "id": "adfd77a0-edc3-4d9e-ac0f-08de883a7205",
   "metadata": {
    "tags": []
   },
   "outputs": [],
   "source": [
    "browser.implicitly_wait(10)"
   ]
  },
  {
   "cell_type": "code",
   "execution_count": 254,
   "id": "7da4e4ea-b88e-45cb-bdca-6a534dbd3d7d",
   "metadata": {
    "tags": []
   },
   "outputs": [],
   "source": [
    "import pandas as pd\n",
    "import pymongo as mg\n",
    "import re # reqexpress function"
   ]
  },
  {
   "cell_type": "code",
   "execution_count": 255,
   "id": "a8b8b33f-f7c5-4e14-84ec-d8e21e3f4ac8",
   "metadata": {
    "tags": []
   },
   "outputs": [],
   "source": [
    "client = mg.MongoClient(host='mongodb://localhost:27017')\n",
    "database = client['project_nutrients']\n",
    "collection = database['cholesterolsupplement_gmarket_review']"
   ]
  },
  {
   "cell_type": "markdown",
   "id": "9fd5a7ea-3fcb-4c14-a3c4-6fbcadca936e",
   "metadata": {},
   "source": [
    "### 제품 클릭"
   ]
  },
  {
   "cell_type": "code",
   "execution_count": 256,
   "id": "8adebdf3-39e2-45fb-9b74-83fc6a3ebeaf",
   "metadata": {
    "tags": []
   },
   "outputs": [
    {
     "data": {
      "text/plain": [
       "101"
      ]
     },
     "execution_count": 256,
     "metadata": {},
     "output_type": "execute_result"
    }
   ],
   "source": [
    "click_path = '.c-search-list__item'\n",
    "cholesterolsupplement_list = browser.find_elements_by_css_selector(click_path)\n",
    "len(cholesterolsupplement_list)"
   ]
  },
  {
   "cell_type": "code",
   "execution_count": 257,
   "id": "d7514961-eaf2-4e6b-b7ef-8646f7205e02",
   "metadata": {
    "tags": []
   },
   "outputs": [
    {
     "ename": "KeyboardInterrupt",
     "evalue": "",
     "output_type": "error",
     "traceback": [
      "\u001b[1;31m---------------------------------------------------------------------------\u001b[0m",
      "\u001b[1;31mKeyboardInterrupt\u001b[0m                         Traceback (most recent call last)",
      "Cell \u001b[1;32mIn[257], line 3\u001b[0m\n\u001b[0;32m      1\u001b[0m \u001b[38;5;28;01mfor\u001b[39;00m cholesterolsupplement \u001b[38;5;129;01min\u001b[39;00m cholesterolsupplement_list:\n\u001b[0;32m      2\u001b[0m     cholesterolsupplement\u001b[38;5;241m.\u001b[39mclick()\n\u001b[1;32m----> 3\u001b[0m     time\u001b[38;5;241m.\u001b[39msleep(\u001b[38;5;241m2\u001b[39m)       \n",
      "\u001b[1;31mKeyboardInterrupt\u001b[0m: "
     ]
    }
   ],
   "source": [
    "# for cholesterolsupplement in cholesterolsupplement_list:\n",
    "#     cholesterolsupplement.click()\n",
    "#     time.sleep(2)       "
   ]
  },
  {
   "cell_type": "code",
   "execution_count": 258,
   "id": "8e14b10d-67e7-4cd0-860a-bb5f15776b21",
   "metadata": {
    "tags": []
   },
   "outputs": [
    {
     "ename": "IndentationError",
     "evalue": "unexpected indent (674093368.py, line 2)",
     "output_type": "error",
     "traceback": [
      "\u001b[1;36m  Cell \u001b[1;32mIn[258], line 2\u001b[1;36m\u001b[0m\n\u001b[1;33m    try:\u001b[0m\n\u001b[1;37m    ^\u001b[0m\n\u001b[1;31mIndentationError\u001b[0m\u001b[1;31m:\u001b[0m unexpected indent\n"
     ]
    }
   ],
   "source": [
    "# 서비스 앱에 대한 정보 가져오기\n",
    "    try:\n",
    "        product_name = browser.find_element_by_css_selector('#layBodyWrap > div > div.s_product.s_product_detail > div.l_product_cont_wrap > div > div.l_product_view_wrap > div.l_product_summary > div.l_product_side_info > div.c_product_info_title > h1').text\n",
    "    except :\n",
    "        product_name = str()\n",
    "  #  browser.find_element_by_css_selector('.text_num').click()\n",
    "    \n",
    "    try:\n",
    "        review_writer = browser.find_element_by_css_selector('.c_product_reviewer').text\n",
    "    except :\n",
    "        review_writer = str()\n",
    "    try:\n",
    "        review_date = browser.find_element_by_css_selector('p.side > span').text\n",
    "    except :\n",
    "        review_date = str()    \n",
    "    try:\n",
    "        review_star = browser.find_element_by_css_selector('div > p.grade').get_attribute('')\n",
    "    except :\n",
    "        review_star = str()\n",
    "    try:\n",
    "        review_content = browser.find_element_by_css_selector('').text\n",
    "    except :\n",
    "        review_content = str()"
   ]
  },
  {
   "cell_type": "code",
   "execution_count": null,
   "id": "683e2914-4fa4-4592-8464-28efc339fd94",
   "metadata": {},
   "outputs": [],
   "source": [
    "# 브라우저 종료\n",
    "browser.quit()"
   ]
  },
  {
   "cell_type": "code",
   "execution_count": 127,
   "id": "f28af628-b860-4254-b5d5-37febc93fc2b",
   "metadata": {
    "tags": []
   },
   "outputs": [
    {
     "ename": "NoSuchElementException",
     "evalue": "Message: no such element: Unable to locate element: {\"method\":\"css selector\",\"selector\":\".sdp-review__article__list__info__product-info__star-orange.js_reviewArticleRatingValue\"}\n  (Session info: chrome=117.0.5938.89)\n",
     "output_type": "error",
     "traceback": [
      "\u001b[1;31m---------------------------------------------------------------------------\u001b[0m",
      "\u001b[1;31mNoSuchElementException\u001b[0m                    Traceback (most recent call last)",
      "Cell \u001b[1;32mIn[127], line 11\u001b[0m\n\u001b[0;32m      8\u001b[0m \u001b[38;5;66;03m# 각 리뷰를 순환하면서 정보 가져오기\u001b[39;00m\n\u001b[0;32m      9\u001b[0m     \u001b[38;5;28;01mfor\u001b[39;00m review_element \u001b[38;5;129;01min\u001b[39;00m review_elements:\n\u001b[0;32m     10\u001b[0m         \u001b[38;5;66;03m# 별점 가져오기\u001b[39;00m\n\u001b[1;32m---> 11\u001b[0m         reviews_stars \u001b[38;5;241m=\u001b[39m \u001b[43mreview_element\u001b[49m\u001b[38;5;241;43m.\u001b[39;49m\u001b[43mfind_element_by_css_selector\u001b[49m\u001b[43m(\u001b[49m\u001b[38;5;124;43m'\u001b[39;49m\u001b[38;5;124;43m.sdp-review__article__list__info__product-info__star-orange.js_reviewArticleRatingValue\u001b[39;49m\u001b[38;5;124;43m'\u001b[39;49m\u001b[43m)\u001b[49m\u001b[38;5;241m.\u001b[39mget_attribute(\u001b[38;5;124m'\u001b[39m\u001b[38;5;124mdata-rating\u001b[39m\u001b[38;5;124m'\u001b[39m)\n\u001b[0;32m     13\u001b[0m         \u001b[38;5;66;03m# 날짜 가져오기\u001b[39;00m\n\u001b[0;32m     14\u001b[0m         reviews_date \u001b[38;5;241m=\u001b[39m review_element\u001b[38;5;241m.\u001b[39mfind_element_by_css_selector(\u001b[38;5;124m'\u001b[39m\u001b[38;5;124m.sdp-review__article__list__info__product-info__reg-date\u001b[39m\u001b[38;5;124m'\u001b[39m)\u001b[38;5;241m.\u001b[39mtext\n",
      "File \u001b[1;32m~\\anaconda3\\Lib\\site-packages\\selenium\\webdriver\\remote\\webelement.py:430\u001b[0m, in \u001b[0;36mWebElement.find_element_by_css_selector\u001b[1;34m(self, css_selector)\u001b[0m\n\u001b[0;32m    415\u001b[0m \u001b[38;5;28;01mdef\u001b[39;00m \u001b[38;5;21mfind_element_by_css_selector\u001b[39m(\u001b[38;5;28mself\u001b[39m, css_selector):\n\u001b[0;32m    416\u001b[0m \u001b[38;5;250m    \u001b[39m\u001b[38;5;124;03m\"\"\"Finds element within this element's children by CSS selector.\u001b[39;00m\n\u001b[0;32m    417\u001b[0m \n\u001b[0;32m    418\u001b[0m \u001b[38;5;124;03m    :Args:\u001b[39;00m\n\u001b[1;32m   (...)\u001b[0m\n\u001b[0;32m    428\u001b[0m \u001b[38;5;124;03m        element = element.find_element_by_css_selector('#foo')\u001b[39;00m\n\u001b[0;32m    429\u001b[0m \u001b[38;5;124;03m    \"\"\"\u001b[39;00m\n\u001b[1;32m--> 430\u001b[0m     \u001b[38;5;28;01mreturn\u001b[39;00m \u001b[38;5;28;43mself\u001b[39;49m\u001b[38;5;241;43m.\u001b[39;49m\u001b[43mfind_element\u001b[49m\u001b[43m(\u001b[49m\u001b[43mby\u001b[49m\u001b[38;5;241;43m=\u001b[39;49m\u001b[43mBy\u001b[49m\u001b[38;5;241;43m.\u001b[39;49m\u001b[43mCSS_SELECTOR\u001b[49m\u001b[43m,\u001b[49m\u001b[43m \u001b[49m\u001b[43mvalue\u001b[49m\u001b[38;5;241;43m=\u001b[39;49m\u001b[43mcss_selector\u001b[49m\u001b[43m)\u001b[49m\n",
      "File \u001b[1;32m~\\anaconda3\\Lib\\site-packages\\selenium\\webdriver\\remote\\webelement.py:658\u001b[0m, in \u001b[0;36mWebElement.find_element\u001b[1;34m(self, by, value)\u001b[0m\n\u001b[0;32m    655\u001b[0m         by \u001b[38;5;241m=\u001b[39m By\u001b[38;5;241m.\u001b[39mCSS_SELECTOR\n\u001b[0;32m    656\u001b[0m         value \u001b[38;5;241m=\u001b[39m \u001b[38;5;124m'\u001b[39m\u001b[38;5;124m[name=\u001b[39m\u001b[38;5;124m\"\u001b[39m\u001b[38;5;132;01m%s\u001b[39;00m\u001b[38;5;124m\"\u001b[39m\u001b[38;5;124m]\u001b[39m\u001b[38;5;124m'\u001b[39m \u001b[38;5;241m%\u001b[39m value\n\u001b[1;32m--> 658\u001b[0m \u001b[38;5;28;01mreturn\u001b[39;00m \u001b[38;5;28;43mself\u001b[39;49m\u001b[38;5;241;43m.\u001b[39;49m\u001b[43m_execute\u001b[49m\u001b[43m(\u001b[49m\u001b[43mCommand\u001b[49m\u001b[38;5;241;43m.\u001b[39;49m\u001b[43mFIND_CHILD_ELEMENT\u001b[49m\u001b[43m,\u001b[49m\n\u001b[0;32m    659\u001b[0m \u001b[43m                     \u001b[49m\u001b[43m{\u001b[49m\u001b[38;5;124;43m\"\u001b[39;49m\u001b[38;5;124;43musing\u001b[39;49m\u001b[38;5;124;43m\"\u001b[39;49m\u001b[43m:\u001b[49m\u001b[43m \u001b[49m\u001b[43mby\u001b[49m\u001b[43m,\u001b[49m\u001b[43m \u001b[49m\u001b[38;5;124;43m\"\u001b[39;49m\u001b[38;5;124;43mvalue\u001b[39;49m\u001b[38;5;124;43m\"\u001b[39;49m\u001b[43m:\u001b[49m\u001b[43m \u001b[49m\u001b[43mvalue\u001b[49m\u001b[43m}\u001b[49m\u001b[43m)\u001b[49m[\u001b[38;5;124m'\u001b[39m\u001b[38;5;124mvalue\u001b[39m\u001b[38;5;124m'\u001b[39m]\n",
      "File \u001b[1;32m~\\anaconda3\\Lib\\site-packages\\selenium\\webdriver\\remote\\webelement.py:633\u001b[0m, in \u001b[0;36mWebElement._execute\u001b[1;34m(self, command, params)\u001b[0m\n\u001b[0;32m    631\u001b[0m     params \u001b[38;5;241m=\u001b[39m {}\n\u001b[0;32m    632\u001b[0m params[\u001b[38;5;124m'\u001b[39m\u001b[38;5;124mid\u001b[39m\u001b[38;5;124m'\u001b[39m] \u001b[38;5;241m=\u001b[39m \u001b[38;5;28mself\u001b[39m\u001b[38;5;241m.\u001b[39m_id\n\u001b[1;32m--> 633\u001b[0m \u001b[38;5;28;01mreturn\u001b[39;00m \u001b[38;5;28;43mself\u001b[39;49m\u001b[38;5;241;43m.\u001b[39;49m\u001b[43m_parent\u001b[49m\u001b[38;5;241;43m.\u001b[39;49m\u001b[43mexecute\u001b[49m\u001b[43m(\u001b[49m\u001b[43mcommand\u001b[49m\u001b[43m,\u001b[49m\u001b[43m \u001b[49m\u001b[43mparams\u001b[49m\u001b[43m)\u001b[49m\n",
      "File \u001b[1;32m~\\anaconda3\\Lib\\site-packages\\selenium\\webdriver\\remote\\webdriver.py:321\u001b[0m, in \u001b[0;36mWebDriver.execute\u001b[1;34m(self, driver_command, params)\u001b[0m\n\u001b[0;32m    319\u001b[0m response \u001b[38;5;241m=\u001b[39m \u001b[38;5;28mself\u001b[39m\u001b[38;5;241m.\u001b[39mcommand_executor\u001b[38;5;241m.\u001b[39mexecute(driver_command, params)\n\u001b[0;32m    320\u001b[0m \u001b[38;5;28;01mif\u001b[39;00m response:\n\u001b[1;32m--> 321\u001b[0m     \u001b[38;5;28;43mself\u001b[39;49m\u001b[38;5;241;43m.\u001b[39;49m\u001b[43merror_handler\u001b[49m\u001b[38;5;241;43m.\u001b[39;49m\u001b[43mcheck_response\u001b[49m\u001b[43m(\u001b[49m\u001b[43mresponse\u001b[49m\u001b[43m)\u001b[49m\n\u001b[0;32m    322\u001b[0m     response[\u001b[38;5;124m'\u001b[39m\u001b[38;5;124mvalue\u001b[39m\u001b[38;5;124m'\u001b[39m] \u001b[38;5;241m=\u001b[39m \u001b[38;5;28mself\u001b[39m\u001b[38;5;241m.\u001b[39m_unwrap_value(\n\u001b[0;32m    323\u001b[0m         response\u001b[38;5;241m.\u001b[39mget(\u001b[38;5;124m'\u001b[39m\u001b[38;5;124mvalue\u001b[39m\u001b[38;5;124m'\u001b[39m, \u001b[38;5;28;01mNone\u001b[39;00m))\n\u001b[0;32m    324\u001b[0m     \u001b[38;5;28;01mreturn\u001b[39;00m response\n",
      "File \u001b[1;32m~\\anaconda3\\Lib\\site-packages\\selenium\\webdriver\\remote\\errorhandler.py:242\u001b[0m, in \u001b[0;36mErrorHandler.check_response\u001b[1;34m(self, response)\u001b[0m\n\u001b[0;32m    240\u001b[0m         alert_text \u001b[38;5;241m=\u001b[39m value[\u001b[38;5;124m'\u001b[39m\u001b[38;5;124malert\u001b[39m\u001b[38;5;124m'\u001b[39m]\u001b[38;5;241m.\u001b[39mget(\u001b[38;5;124m'\u001b[39m\u001b[38;5;124mtext\u001b[39m\u001b[38;5;124m'\u001b[39m)\n\u001b[0;32m    241\u001b[0m     \u001b[38;5;28;01mraise\u001b[39;00m exception_class(message, screen, stacktrace, alert_text)\n\u001b[1;32m--> 242\u001b[0m \u001b[38;5;28;01mraise\u001b[39;00m exception_class(message, screen, stacktrace)\n",
      "\u001b[1;31mNoSuchElementException\u001b[0m: Message: no such element: Unable to locate element: {\"method\":\"css selector\",\"selector\":\".sdp-review__article__list__info__product-info__star-orange.js_reviewArticleRatingValue\"}\n  (Session info: chrome=117.0.5938.89)\n"
     ]
    }
   ],
   "source": [
    "# 티몬? 쿠팡?\n",
    "\n",
    "# 리뷰 정보를 저장할 리스트 초기화\n",
    "reviews_list = list()\n",
    "\n",
    "# 리뷰 요소들을 선택하는 CSS 선택자\n",
    "for number in range(3,8): \n",
    "    review_elements = browser.find_elements_by_css_selector('article:nth-child({})'.format(number))\n",
    "\n",
    "# 각 리뷰를 순환하면서 정보 가져오기\n",
    "    for review_element in review_elements:\n",
    "        # 별점 가져오기\n",
    "        reviews_stars = review_element.find_element_by_css_selector('.sdp-review__article__list__info__product-info__star-orange.js_reviewArticleRatingValue').get_attribute('data-rating')\n",
    "\n",
    "        # 날짜 가져오기\n",
    "        reviews_date = review_element.find_element_by_css_selector('.sdp-review__article__list__info__product-info__reg-date').text\n",
    "\n",
    "        # 리뷰 내용 가져오기\n",
    "        reviews_content = review_element.find_element_by_css_selector('.sdp-review__article__list__review.js_reviewArticleContentContainer > div').text\n",
    "\n",
    "        # 리뷰 정보를 리스트에 추가\n",
    "        review_list = [reviews_stars, reviews_date, reviews_content]\n",
    "        reviews_list.append(review_list)\n",
    "\n",
    "# 모든 리뷰 정보가 담긴 리스트를 출력 또는 저장할 수 있습니다.\n",
    "print(reviews_list)\n"
   ]
  },
  {
   "cell_type": "code",
   "execution_count": 105,
   "id": "6fb87d60-3148-4ee9-89d7-559f05b87218",
   "metadata": {
    "tags": []
   },
   "outputs": [],
   "source": [
    "browser.find_element_by_css_selector('div.sdp-review__article__page.js_reviewArticlePagingContainer > button:nth-child(4)').click()"
   ]
  },
  {
   "cell_type": "code",
   "execution_count": 106,
   "id": "d3943343-0349-4ce7-9956-86ab751beacb",
   "metadata": {
    "tags": []
   },
   "outputs": [
    {
     "name": "stdout",
     "output_type": "stream",
     "text": [
      "성공 : div.sdp-review__article__page.js_reviewArticlePagingContainer > button:nth-child(3)\n",
      "실패 : div.sdp-review__article__page.js_reviewArticlePagingContainer > button:nth-child(3)\n",
      "성공 : div.sdp-review__article__page.js_reviewArticlePagingContainer > button:nth-child(4)\n",
      "실패 : div.sdp-review__article__page.js_reviewArticlePagingContainer > button:nth-child(4)\n",
      "성공 : div.sdp-review__article__page.js_reviewArticlePagingContainer > button:nth-child(5)\n",
      "실패 : div.sdp-review__article__page.js_reviewArticlePagingContainer > button:nth-child(5)\n",
      "성공 : div.sdp-review__article__page.js_reviewArticlePagingContainer > button:nth-child(6)\n",
      "실패 : div.sdp-review__article__page.js_reviewArticlePagingContainer > button:nth-child(6)\n",
      "성공 : div.sdp-review__article__page.js_reviewArticlePagingContainer > button:nth-child(7)\n",
      "실패 : div.sdp-review__article__page.js_reviewArticlePagingContainer > button:nth-child(7)\n",
      "성공 : div.sdp-review__article__page.js_reviewArticlePagingContainer > button:nth-child(8)\n",
      "실패 : div.sdp-review__article__page.js_reviewArticlePagingContainer > button:nth-child(8)\n",
      "성공 : div.sdp-review__article__page.js_reviewArticlePagingContainer > button:nth-child(9)\n",
      "실패 : div.sdp-review__article__page.js_reviewArticlePagingContainer > button:nth-child(9)\n",
      "성공 : div.sdp-review__article__page.js_reviewArticlePagingContainer > button:nth-child(10)\n",
      "실패 : div.sdp-review__article__page.js_reviewArticlePagingContainer > button:nth-child(10)\n",
      "성공 : div.sdp-review__article__page.js_reviewArticlePagingContainer > button:nth-child(11)\n",
      "실패 : div.sdp-review__article__page.js_reviewArticlePagingContainer > button:nth-child(11)\n"
     ]
    }
   ],
   "source": [
    "import time\n",
    "\n",
    "for page_number in range(3, 12):  # 첫 페이지는 tag 달라짐\n",
    "    element_path = 'div.sdp-review__article__page.js_reviewArticlePagingContainer > button:nth-child({})'.format(page_number)\n",
    "    try :\n",
    "        pagination = browser.find_element_by_css_selector(element_path)\n",
    "        pagination.click()    \n",
    "        print('성공 : {}'.format(element_path))\n",
    "        \n",
    "        time.sleep(3)\n",
    "        \n",
    "        # 리뷰 정보를 저장할 리스트 초기화\n",
    "        reviews_list = list()\n",
    "\n",
    "        # 리뷰 요소들을 선택하는 CSS 선택자\n",
    "        for number in range(3,8): \n",
    "            review_elements = browser.find_elements_by_css_selector('article:nth-child({})'.format(number))\n",
    "\n",
    "        # 각 리뷰를 순환하면서 정보 가져오기\n",
    "            for review_element in review_elements:\n",
    "                # 별점 가져오기\n",
    "                reviews_stars = review_element.find_element_by_css_selector('.sdp-review__article__list__info__product-info__star-orange.js_reviewArticleRatingValue').get_attribute('data-rating')\n",
    "\n",
    "                # 날짜 가져오기\n",
    "                reviews_date = review_element.find_element_by_css_selector('.sdp-review__article__list__info__product-info__reg-date').text\n",
    "\n",
    "                # 리뷰 내용 가져오기\n",
    "                reviews_content = review_element.find_element_by_css_selector('.sdp-review__article__list__review.js_reviewArticleContentContainer > div').text\n",
    "\n",
    "                # 리뷰 정보를 리스트에 추가\n",
    "                review_list = [reviews_stars, reviews_date, reviews_content]\n",
    "                reviews_list.append(review_list)\n",
    "                # 모든 리뷰 정보가 담긴 리스트를 출력 또는 저장할 수 있습니다.\n",
    "        print(reviews_list)\n",
    "        \n",
    "    except :\n",
    "        print('실패 : {}'.format(element_path))\n",
    "        pass"
   ]
  },
  {
   "cell_type": "code",
   "execution_count": 10,
   "id": "dfcba244-27f6-41b9-8f25-fb942e49acde",
   "metadata": {},
   "outputs": [
    {
     "data": {
      "text/plain": [
       "''"
      ]
     },
     "execution_count": 10,
     "metadata": {},
     "output_type": "execute_result"
    }
   ],
   "source": [
    "review_total_count_text = browser.find_element_by_css_selector('div.g1rdde').text\n",
    "review_total_count_text "
   ]
  },
  {
   "cell_type": "code",
   "execution_count": 93,
   "id": "eef4472c-6cdc-467b-8049-7c67539b11e4",
   "metadata": {
    "tags": []
   },
   "outputs": [
    {
     "name": "stdout",
     "output_type": "stream",
     "text": [
      "2 2\n"
     ]
    },
    {
     "data": {
      "text/plain": [
       "(2, int)"
      ]
     },
     "execution_count": 93,
     "metadata": {},
     "output_type": "execute_result"
    }
   ],
   "source": [
    "result_list = re.findall(r'\\d+', review_total_count_text)\n",
    "print(result_list[0], int(result_list[0]))\n",
    "\n",
    "review_total_count = int(result_list[0])  # 리뷰 총 갯수\n",
    "review_total_count, type(review_total_count)"
   ]
  },
  {
   "cell_type": "code",
   "execution_count": 78,
   "id": "fbbe88b3-65eb-4279-9eda-54d6ece25494",
   "metadata": {},
   "outputs": [
    {
     "ename": "WebDriverException",
     "evalue": "Message: disconnected: not connected to DevTools\n  (failed to check if window was closed: disconnected: not connected to DevTools)\n  (Session info: chrome=117.0.5938.89)\n",
     "output_type": "error",
     "traceback": [
      "\u001b[1;31m---------------------------------------------------------------------------\u001b[0m",
      "\u001b[1;31mWebDriverException\u001b[0m                        Traceback (most recent call last)",
      "Cell \u001b[1;32mIn[78], line 1\u001b[0m\n\u001b[1;32m----> 1\u001b[0m \u001b[43mbrowser\u001b[49m\u001b[38;5;241;43m.\u001b[39;49m\u001b[43mclose\u001b[49m\u001b[43m(\u001b[49m\u001b[43m)\u001b[49m\n",
      "File \u001b[1;32m~\\anaconda3\\Lib\\site-packages\\selenium\\webdriver\\remote\\webdriver.py:688\u001b[0m, in \u001b[0;36mWebDriver.close\u001b[1;34m(self)\u001b[0m\n\u001b[0;32m    681\u001b[0m \u001b[38;5;28;01mdef\u001b[39;00m \u001b[38;5;21mclose\u001b[39m(\u001b[38;5;28mself\u001b[39m):\n\u001b[0;32m    682\u001b[0m \u001b[38;5;250m    \u001b[39m\u001b[38;5;124;03m\"\"\"\u001b[39;00m\n\u001b[0;32m    683\u001b[0m \u001b[38;5;124;03m    Closes the current window.\u001b[39;00m\n\u001b[0;32m    684\u001b[0m \n\u001b[0;32m    685\u001b[0m \u001b[38;5;124;03m    :Usage:\u001b[39;00m\n\u001b[0;32m    686\u001b[0m \u001b[38;5;124;03m        driver.close()\u001b[39;00m\n\u001b[0;32m    687\u001b[0m \u001b[38;5;124;03m    \"\"\"\u001b[39;00m\n\u001b[1;32m--> 688\u001b[0m     \u001b[38;5;28;43mself\u001b[39;49m\u001b[38;5;241;43m.\u001b[39;49m\u001b[43mexecute\u001b[49m\u001b[43m(\u001b[49m\u001b[43mCommand\u001b[49m\u001b[38;5;241;43m.\u001b[39;49m\u001b[43mCLOSE\u001b[49m\u001b[43m)\u001b[49m\n",
      "File \u001b[1;32m~\\anaconda3\\Lib\\site-packages\\selenium\\webdriver\\remote\\webdriver.py:321\u001b[0m, in \u001b[0;36mWebDriver.execute\u001b[1;34m(self, driver_command, params)\u001b[0m\n\u001b[0;32m    319\u001b[0m response \u001b[38;5;241m=\u001b[39m \u001b[38;5;28mself\u001b[39m\u001b[38;5;241m.\u001b[39mcommand_executor\u001b[38;5;241m.\u001b[39mexecute(driver_command, params)\n\u001b[0;32m    320\u001b[0m \u001b[38;5;28;01mif\u001b[39;00m response:\n\u001b[1;32m--> 321\u001b[0m     \u001b[38;5;28;43mself\u001b[39;49m\u001b[38;5;241;43m.\u001b[39;49m\u001b[43merror_handler\u001b[49m\u001b[38;5;241;43m.\u001b[39;49m\u001b[43mcheck_response\u001b[49m\u001b[43m(\u001b[49m\u001b[43mresponse\u001b[49m\u001b[43m)\u001b[49m\n\u001b[0;32m    322\u001b[0m     response[\u001b[38;5;124m'\u001b[39m\u001b[38;5;124mvalue\u001b[39m\u001b[38;5;124m'\u001b[39m] \u001b[38;5;241m=\u001b[39m \u001b[38;5;28mself\u001b[39m\u001b[38;5;241m.\u001b[39m_unwrap_value(\n\u001b[0;32m    323\u001b[0m         response\u001b[38;5;241m.\u001b[39mget(\u001b[38;5;124m'\u001b[39m\u001b[38;5;124mvalue\u001b[39m\u001b[38;5;124m'\u001b[39m, \u001b[38;5;28;01mNone\u001b[39;00m))\n\u001b[0;32m    324\u001b[0m     \u001b[38;5;28;01mreturn\u001b[39;00m response\n",
      "File \u001b[1;32m~\\anaconda3\\Lib\\site-packages\\selenium\\webdriver\\remote\\errorhandler.py:242\u001b[0m, in \u001b[0;36mErrorHandler.check_response\u001b[1;34m(self, response)\u001b[0m\n\u001b[0;32m    240\u001b[0m         alert_text \u001b[38;5;241m=\u001b[39m value[\u001b[38;5;124m'\u001b[39m\u001b[38;5;124malert\u001b[39m\u001b[38;5;124m'\u001b[39m]\u001b[38;5;241m.\u001b[39mget(\u001b[38;5;124m'\u001b[39m\u001b[38;5;124mtext\u001b[39m\u001b[38;5;124m'\u001b[39m)\n\u001b[0;32m    241\u001b[0m     \u001b[38;5;28;01mraise\u001b[39;00m exception_class(message, screen, stacktrace, alert_text)\n\u001b[1;32m--> 242\u001b[0m \u001b[38;5;28;01mraise\u001b[39;00m exception_class(message, screen, stacktrace)\n",
      "\u001b[1;31mWebDriverException\u001b[0m: Message: disconnected: not connected to DevTools\n  (failed to check if window was closed: disconnected: not connected to DevTools)\n  (Session info: chrome=117.0.5938.89)\n"
     ]
    }
   ],
   "source": [
    "browser.close()"
   ]
  },
  {
   "cell_type": "code",
   "execution_count": null,
   "id": "e8c921bf-7fdb-4d33-b129-f55584b772f8",
   "metadata": {},
   "outputs": [],
   "source": []
  }
 ],
 "metadata": {
  "kernelspec": {
   "display_name": "Python 3 (ipykernel)",
   "language": "python",
   "name": "python3"
  },
  "language_info": {
   "codemirror_mode": {
    "name": "ipython",
    "version": 3
   },
   "file_extension": ".py",
   "mimetype": "text/x-python",
   "name": "python",
   "nbconvert_exporter": "python",
   "pygments_lexer": "ipython3",
   "version": "3.11.3"
  }
 },
 "nbformat": 4,
 "nbformat_minor": 5
}
