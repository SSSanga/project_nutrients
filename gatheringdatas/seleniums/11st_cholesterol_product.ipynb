{
 "cells": [
  {
   "cell_type": "code",
   "execution_count": 59,
   "id": "591ca1cd-faf3-4b39-9a31-201f2f2972a7",
   "metadata": {
    "tags": []
   },
   "outputs": [],
   "source": [
    "from selenium import webdriver\n",
    "import time"
   ]
  },
  {
   "cell_type": "code",
   "execution_count": 60,
   "id": "969f6d7a-357e-4b6d-80ec-cce25b7b59be",
   "metadata": {
    "tags": []
   },
   "outputs": [],
   "source": [
    "# open chrome browser\n",
    "browser = webdriver.Chrome(executable_path='../../../chromedriver.exe')"
   ]
  },
  {
   "cell_type": "code",
   "execution_count": 61,
   "id": "12216ef4-b7a7-4095-a672-922a9be4274c",
   "metadata": {
    "tags": []
   },
   "outputs": [],
   "source": [
    "# url in address window\n",
    "browser.get('https://search.11st.co.kr/pc/total-search?kwd=%25EC%25BD%259C%25EB%25A0%2588%25EC%258A%25A4%25ED%2585%258C%25EB%25A1%25A4%2520%25EC%2598%2581%25EC%2596%2591%25EC%25A0%259C&tabId=TOTAL_SEARCH')"
   ]
  },
  {
   "cell_type": "code",
   "execution_count": 62,
   "id": "0064eabf-7f51-4e85-9fe5-6ffccdda1c33",
   "metadata": {
    "tags": []
   },
   "outputs": [],
   "source": [
    "browser.implicitly_wait(10)"
   ]
  },
  {
   "cell_type": "code",
   "execution_count": 63,
   "id": "0daafb8e-8311-4c49-9740-0ce491eacf46",
   "metadata": {
    "tags": []
   },
   "outputs": [],
   "source": [
    "import pandas as pd\n",
    "import pymongo as mg"
   ]
  },
  {
   "cell_type": "code",
   "execution_count": 64,
   "id": "0b666bd3-5b24-4297-9587-5f3d3dd505f1",
   "metadata": {
    "tags": []
   },
   "outputs": [],
   "source": [
    "client = mg.MongoClient(host='mongodb://localhost:27017')\n",
    "database = client['project_nutrients']\n",
    "collection = database['11st_corelsterolsupplement_product']"
   ]
  },
  {
   "cell_type": "code",
   "execution_count": 65,
   "id": "17bb99b8-7f5b-42d6-8fd5-0108ae1534e7",
   "metadata": {
    "tags": []
   },
   "outputs": [],
   "source": [
    "## 많은 리뷰 많은 순 클릭\n",
    "click_path='#layBodyWrap > div > div > div.l_search_content > div.search_content > div.c_search_sorting > div > div > div > div'\n",
    "browser.find_element_by_css_selector(click_path).click()\n",
    "select_category='div.c_search_sorting > div > div > div > ul > li:nth-child(5)'\n",
    "browser.find_element_by_css_selector(select_category).click()"
   ]
  },
  {
   "cell_type": "code",
   "execution_count": 66,
   "id": "a5649491-5cb4-4336-b2af-25e2dfeeb37d",
   "metadata": {},
   "outputs": [
    {
     "data": {
      "text/plain": [
       "60"
      ]
     },
     "execution_count": 66,
     "metadata": {},
     "output_type": "execute_result"
    }
   ],
   "source": [
    "procuct_bundle = browser.find_elements_by_css_selector('.c-search-list__item')\n",
    "len(procuct_bundle)"
   ]
  },
  {
   "cell_type": "code",
   "execution_count": 67,
   "id": "e9b81ab3-369c-46a0-b7b3-46402a01c0f3",
   "metadata": {
    "tags": []
   },
   "outputs": [],
   "source": [
    "# for page_next in range (1,10): # > 화살표에 따른 것임.11~20/ 21~30 등등등  \n",
    "#     element_next_path = '#section_commonPrd > nav > ul > li.next > button'"
   ]
  },
  {
   "cell_type": "code",
   "execution_count": 68,
   "id": "19eeb971-3f85-4aef-b55c-847094435c94",
   "metadata": {},
   "outputs": [],
   "source": [
    "loop_count_int = 5  # 페이지를 5번 반복하도록 설정\n",
    "current_page = 1  # 초기 페이지를 1로 설정\n",
    "\n",
    "# pagination 버튼을 끝까지 순환하면서 페이지 이동합니다.\n",
    "while current_page <= loop_count_int:\n",
    "    for i in range(1, 5):  # 1부터 60까지 순회합니다.\n",
    "        try:\n",
    "            product_page = f'#section_commonPrd > div.c-search-list > ul > li:nth-child({i}) > div > a'\n",
    "            product = browser.find_element_by_css_selector(product_page)\n",
    "            product.click()\n",
    "            # 새로 열린 창으로 브라우저 컨텍스트를 전환합니다.\n",
    "            browser.switch_to.window(browser.window_handles[-1]) \n",
    "            browser.implicitly_wait(2)\n",
    "            ## -> browser.window_handles[-]하면 옆으로 쭉쭉 생기는건가봄. \n",
    "            # 현재 페이지를 닫습니다.\n",
    "            browser.close()\n",
    "            # 다음 상품을 클릭하기 전에 원래의 창으로 다시 전환합니다.\n",
    "            browser.switch_to.window(browser.window_handles[0])\n",
    "                        \n",
    "        except:\n",
    "            print(f'에러: {i}')\n",
    "            pass\n",
    "        # Pagination 버튼을 클릭합니다.\n",
    "    current_page += 1\n",
    "    page_button_css = f'#section_commonPrd > nav > ul > li:nth-child({current_page % 10 + 2}) > button'\n",
    "    page_button = browser.find_element_by_css_selector(page_button_css)\n",
    "    page_button.click()\n",
    "    \n",
    "    # 10번째 페이지일 경우 next 버튼 클릭\n",
    "    if current_page % 10 == 0:\n",
    "        next_button = browser.find_element_by_css_selector('#section_commonPrd > nav > ul > li.next > button')\n",
    "        next_button.click()"
   ]
  },
  {
   "cell_type": "code",
   "execution_count": 21,
   "id": "6efbaa5b-4e11-46a3-b4ef-18db180bf2eb",
   "metadata": {
    "tags": []
   },
   "outputs": [
    {
     "name": "stdout",
     "output_type": "stream",
     "text": [
      "에러: 1\n",
      "에러: 2\n",
      "에러: 3\n",
      "에러: 4\n"
     ]
    }
   ],
   "source": [
    "# for page_number in range(3, 11): # pagenation selector 숫자 규칙척임. format 사용\n",
    "#     time.sleep(2)\n",
    "#     element_path = '#section_commonPrd > nav > ul > li:nth-child({})'.format(page_number)\n",
    "#     elements_path = browser.find_element_by_css_selector(element_path)\n",
    "# for i in range(1, 5):  # 1부터 60까지 순회합니다.\n",
    "#         try:\n",
    "#             product_page = f'#section_commonPrd > div.c-search-list > ul > li:nth-child({i}) > div > a'\n",
    "#             product = browser.find_element_by_css_selector(product_page)\n",
    "#             product.click()\n",
    "\n",
    "\n",
    "#             product.quit()\n",
    "#         except:\n",
    "#             print(f'에러: {i}')\n",
    "#             pass   \n",
    "\n",
    "    \n",
    "#    # elements_path.click()\n"
   ]
  },
  {
   "cell_type": "code",
   "execution_count": 69,
   "id": "f0e3df17-9cf7-4d67-9cd5-eec569863d4f",
   "metadata": {
    "tags": []
   },
   "outputs": [],
   "source": [
    "for i in range(1, 5):  # 1부터 60까지 순회합니다.\n",
    "    try:\n",
    "        product_page = f'#section_commonPrd > div.c-search-list > ul > li:nth-child({i}) > div > a'\n",
    "        product = browser.find_element_by_css_selector(product_page)\n",
    "        product.click()\n",
    "        # 새로 열린 창으로 브라우저 컨텍스트를 전환합니다.\n",
    "        browser.switch_to.window(browser.window_handles[-1]) \n",
    "        browser.implicitly_wait(2)\n",
    "        ## -> browser.window_handles[-]하면 옆으로 쭉쭉 생기는건가봄. \n",
    "        # 현재 페이지를 닫습니다.\n",
    "        # browser.close()\n",
    "        # 다음 상품을 클릭하기 전에 원래의 창으로 다시 전환합니다.\n",
    "        browser.switch_to.window(browser.window_handles[0])\n",
    "\n",
    "    except:\n",
    "        print(f'에러: {i}')\n",
    "        pass"
   ]
  },
  {
   "cell_type": "code",
   "execution_count": null,
   "id": "a87fb648-e9ed-44b9-869a-781826749c99",
   "metadata": {},
   "outputs": [],
   "source": []
  }
 ],
 "metadata": {
  "kernelspec": {
   "display_name": "Python 3 (ipykernel)",
   "language": "python",
   "name": "python3"
  },
  "language_info": {
   "codemirror_mode": {
    "name": "ipython",
    "version": 3
   },
   "file_extension": ".py",
   "mimetype": "text/x-python",
   "name": "python",
   "nbconvert_exporter": "python",
   "pygments_lexer": "ipython3",
   "version": "3.11.3"
  }
 },
 "nbformat": 4,
 "nbformat_minor": 5
}
