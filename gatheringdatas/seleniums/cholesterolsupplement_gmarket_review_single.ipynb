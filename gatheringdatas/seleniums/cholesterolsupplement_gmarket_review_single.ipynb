{
 "cells": [
  {
   "cell_type": "code",
   "execution_count": 88,
   "id": "010a00a6-85d9-4de6-9005-c8af563aa381",
   "metadata": {
    "tags": []
   },
   "outputs": [],
   "source": [
    "from selenium import webdriver\n",
    "import time"
   ]
  },
  {
   "cell_type": "code",
   "execution_count": 89,
   "id": "1e8e6362-cdec-4cb6-abca-11ffd731339e",
   "metadata": {
    "tags": []
   },
   "outputs": [],
   "source": [
    "# open chrome browser\n",
    "browser = webdriver.Chrome(executable_path='../../../chromedriver.exe')"
   ]
  },
  {
   "cell_type": "code",
   "execution_count": 90,
   "id": "4eeb515d-7e7c-4eca-b0fd-6f0e472b775c",
   "metadata": {
    "tags": []
   },
   "outputs": [],
   "source": [
    "# url in address window\n",
    "browser.get('https://www.11st.co.kr/products/3486462833?&trTypeCd=PW00&trCtgrNo=585021&checkCtlgPrd=true')"
   ]
  },
  {
   "cell_type": "code",
   "execution_count": 91,
   "id": "adfd77a0-edc3-4d9e-ac0f-08de883a7205",
   "metadata": {
    "tags": []
   },
   "outputs": [],
   "source": [
    "browser.implicitly_wait(10)"
   ]
  },
  {
   "cell_type": "code",
   "execution_count": 92,
   "id": "7da4e4ea-b88e-45cb-bdca-6a534dbd3d7d",
   "metadata": {
    "tags": []
   },
   "outputs": [],
   "source": [
    "import pandas as pd\n",
    "import pymongo as mg"
   ]
  },
  {
   "cell_type": "code",
   "execution_count": 93,
   "id": "8adebdf3-39e2-45fb-9b74-83fc6a3ebeaf",
   "metadata": {},
   "outputs": [],
   "source": [
    "client = mg.MongoClient(host='mongodb://localhost:27017')\n",
    "database = client['project_nutrients']\n",
    "collection = database['gmarket_review']"
   ]
  },
  {
   "cell_type": "code",
   "execution_count": 94,
   "id": "e0410ca2-9301-43b8-93e6-28f84268917f",
   "metadata": {
    "tags": []
   },
   "outputs": [
    {
     "name": "stdout",
     "output_type": "stream",
     "text": [
      "Product Name: 써큐시안 블러드케어 - 코엔자임 Q10 홍국 rtg 오메가3 복합 영양제 1박스\n"
     ]
    }
   ],
   "source": [
    "try:\n",
    "    product_name = browser.find_element_by_css_selector('#layBodyWrap > div > div.s_product.s_product_detail > div.l_product_cont_wrap > div > div.l_product_view_wrap > div.l_product_summary > div.l_product_side_info > div.c_product_info_title > h1').text\n",
    "except :\n",
    "    product_name = str()\n",
    "    \n",
    "print(\"Product Name:\", product_name)    "
   ]
  },
  {
   "cell_type": "code",
   "execution_count": 95,
   "id": "46bc7372-9a65-4bf8-b789-591271b94288",
   "metadata": {
    "tags": []
   },
   "outputs": [],
   "source": [
    "browser.find_element_by_css_selector('#prdReview > strong').click() # 리뷰 클릭 "
   ]
  },
  {
   "cell_type": "code",
   "execution_count": null,
   "id": "a806ac63-7274-4fb0-bf7b-513a49ee6623",
   "metadata": {},
   "outputs": [],
   "source": [
    "# # 밑바닥으로 가기 \n",
    "# import time\n",
    "# # 초기 리뷰 개수를 0으로 설정\n",
    "# total_review_count = 0\n",
    "\n",
    "# while True:\n",
    "#     try:\n",
    "#         # 현재 리뷰 번들을 찾습니다.\n",
    "#         reviews_bundle = browser.find_elements_by_css_selector('.RHo1pe')\n",
    "#         current_review_count = len(reviews_bundle) \n",
    "#         print('current reviews_bundle count: {}'.format(current_review_count))\n",
    "\n",
    "#         # 만약 현재 리뷰 개수가 이전과 동일하다면 더 이상 총 리뷰 갯수가 갱신되지 않은 것이므로 종료합니다.\n",
    "#         if current_review_count == total_review_count: \n",
    "#             print('End.')\n",
    "#             break\n",
    "\n",
    "#         # 현재 리뷰 개수를 total_review_count에 업데이트합니다.\n",
    "#         total_review_count = current_review_count \n",
    "#         print('Total review count: ', total_review_count)\n",
    "#         # 마지막 리뷰를 클릭하고 잠시 기다립니다.\n",
    "#         reviews_bundle[current_review_count - 1].click()\n",
    "#         print('성공')\n",
    "#         time.sleep(1)\n",
    "\n",
    "#     except :\n",
    "#         print('pass')\n",
    "#         pass\n",
    "\n",
    "# print('Total review count: ', total_review_count)"
   ]
  },
  {
   "cell_type": "code",
   "execution_count": 60,
   "id": "e50caffa-ab84-4d32-a64f-ba74c58dd98c",
   "metadata": {
    "tags": []
   },
   "outputs": [
    {
     "data": {
      "text/plain": [
       "0"
      ]
     },
     "execution_count": 60,
     "metadata": {},
     "output_type": "execute_result"
    }
   ],
   "source": [
    "# reviews_bundle = browser.find_elements_by_css_selector('')\n",
    "# # len(reviews_bundle)"
   ]
  },
  {
   "cell_type": "code",
   "execution_count": 52,
   "id": "e889e359-ae87-4703-bc5c-2be114211195",
   "metadata": {
    "tags": []
   },
   "outputs": [
    {
     "data": {
      "text/plain": [
       "['']"
      ]
     },
     "execution_count": 52,
     "metadata": {},
     "output_type": "execute_result"
    }
   ],
   "source": [
    "# review_writer = browser.find_element_by_css_selector('.name').text\n",
    "# review_date = browser.find_element_by_css_selector('p.side > span').text\n",
    "# #review_star = browser.find_element_by_css_selector('div > p.grade').get_attribute('')\n",
    "# #review_content = browser.find_element_by_css_selector('').text\n",
    "\n",
    "# [review_writer,review_date]"
   ]
  },
  {
   "cell_type": "code",
   "execution_count": null,
   "id": "d371cca9-e1ab-443a-9c82-eb33006b35ad",
   "metadata": {},
   "outputs": [],
   "source": [
    "# # 서비스 앱에 대한 정보 가져오기\n",
    "#     try:\n",
    "#         product_name = browser.find_element_by_css_selector('#layBodyWrap > div > div.s_product.s_product_detail > div.l_product_cont_wrap > div > div.l_product_view_wrap > div.l_product_summary > div.l_product_side_info > div.c_product_info_title > h1').text\n",
    "#     except :\n",
    "#         product_name = str()\n",
    "    \n",
    "    \n",
    "#     browser.find_element_by_css_selector('.text_num').click()\n",
    "    \n",
    "   \n",
    "    \n",
    "#     reviews_bundle = browser.find_element_by_css_selector('.review_list_element')\n",
    "    \n",
    "#     for review_bundle in reviews_bundle :\n",
    "#         try:\n",
    "#             review_writer = browser.find_element_by_css_selector('.c_product_reviewer').text\n",
    "#         except :\n",
    "#             review_writer = str()\n",
    "#         try:\n",
    "#             review_date = browser.find_element_by_css_selector('p.side > span').text\n",
    "#         except :\n",
    "#             review_date = str()    \n",
    "#         try:\n",
    "#             review_star = browser.find_element_by_css_selector('div > p.grade').get_attribute('')\n",
    "#         except :\n",
    "#             review_star = str()\n",
    "#         try:\n",
    "#             review_content = browser.find_element_by_css_selector('').text\n",
    "#         except :\n",
    "#             review_content = str()\n",
    "#     browser.back()      "
   ]
  }
 ],
 "metadata": {
  "kernelspec": {
   "display_name": "Python 3 (ipykernel)",
   "language": "python",
   "name": "python3"
  },
  "language_info": {
   "codemirror_mode": {
    "name": "ipython",
    "version": 3
   },
   "file_extension": ".py",
   "mimetype": "text/x-python",
   "name": "python",
   "nbconvert_exporter": "python",
   "pygments_lexer": "ipython3",
   "version": "3.11.3"
  }
 },
 "nbformat": 4,
 "nbformat_minor": 5
}
