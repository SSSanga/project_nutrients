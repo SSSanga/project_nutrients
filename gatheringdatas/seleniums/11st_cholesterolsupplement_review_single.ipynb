{
 "cells": [
  {
   "cell_type": "code",
   "execution_count": 1,
   "id": "010a00a6-85d9-4de6-9005-c8af563aa381",
   "metadata": {
    "tags": []
   },
   "outputs": [],
   "source": [
    "from selenium import webdriver\n",
    "import time"
   ]
  },
  {
   "cell_type": "code",
   "execution_count": 2,
   "id": "1e8e6362-cdec-4cb6-abca-11ffd731339e",
   "metadata": {
    "tags": []
   },
   "outputs": [],
   "source": [
    "# open chrome browser\n",
    "browser = webdriver.Chrome(executable_path='../../../chromedriver.exe')"
   ]
  },
  {
   "cell_type": "code",
   "execution_count": 3,
   "id": "4eeb515d-7e7c-4eca-b0fd-6f0e472b775c",
   "metadata": {
    "tags": []
   },
   "outputs": [],
   "source": [
    "# url in address window\n",
    "browser.get('https://www.11st.co.kr/products/3486462833?&trTypeCd=PW00&trCtgrNo=585021&checkCtlgPrd=true')"
   ]
  },
  {
   "cell_type": "code",
   "execution_count": 4,
   "id": "adfd77a0-edc3-4d9e-ac0f-08de883a7205",
   "metadata": {
    "tags": []
   },
   "outputs": [],
   "source": [
    "browser.implicitly_wait(10)"
   ]
  },
  {
   "cell_type": "code",
   "execution_count": 5,
   "id": "7da4e4ea-b88e-45cb-bdca-6a534dbd3d7d",
   "metadata": {
    "tags": []
   },
   "outputs": [],
   "source": [
    "import pandas as pd\n",
    "import pymongo as mg"
   ]
  },
  {
   "cell_type": "code",
   "execution_count": 6,
   "id": "8adebdf3-39e2-45fb-9b74-83fc6a3ebeaf",
   "metadata": {},
   "outputs": [],
   "source": [
    "client = mg.MongoClient(host='mongodb://localhost:27017')\n",
    "database = client['project_nutrients']\n",
    "collection = database['11st_corelsterolsupplement_review']"
   ]
  },
  {
   "cell_type": "code",
   "execution_count": 7,
   "id": "e0410ca2-9301-43b8-93e6-28f84268917f",
   "metadata": {
    "tags": []
   },
   "outputs": [
    {
     "name": "stdout",
     "output_type": "stream",
     "text": [
      "Product Name: 써큐시안 블러드케어 - 코엔자임 Q10 홍국 rtg 오메가3 복합 영양제 1박스\n"
     ]
    }
   ],
   "source": [
    "try:\n",
    "    product_name = browser.find_element_by_css_selector('#layBodyWrap > div > div.s_product.s_product_detail > div.l_product_cont_wrap > div > div.l_product_view_wrap > div.l_product_summary > div.l_product_side_info > div.c_product_info_title > h1').text\n",
    "except :\n",
    "    product_name = str()\n",
    "    \n",
    "print(\"Product Name:\", product_name)    "
   ]
  },
  {
   "cell_type": "code",
   "execution_count": 8,
   "id": "46bc7372-9a65-4bf8-b789-591271b94288",
   "metadata": {
    "tags": []
   },
   "outputs": [],
   "source": [
    "browser.find_element_by_css_selector('#prdReview > strong').click() # 리뷰 클릭 "
   ]
  },
  {
   "cell_type": "code",
   "execution_count": 9,
   "id": "e2ebdd9c-ceea-496f-999d-4fbc8338e683",
   "metadata": {
    "tags": []
   },
   "outputs": [],
   "source": [
    "browser.switch_to.frame('ifrmReview') #iframe을 html로 전환시킴. ifram에 name은 'ifrmReview',  for문 사용해서 같이 돌려야함"
   ]
  },
  {
   "cell_type": "code",
   "execution_count": 10,
   "id": "5034756a-33f2-4835-9821-c5ddcb7d8d9a",
   "metadata": {
    "tags": []
   },
   "outputs": [
    {
     "name": "stdout",
     "output_type": "stream",
     "text": [
      "pass\n"
     ]
    }
   ],
   "source": [
    "while True:\n",
    "    try:\n",
    "        browser.find_element_by_css_selector('#review-list-page-area > div > button').click() # 전체 리뷰 펼치기 \n",
    "    except :\n",
    "        print('pass')\n",
    "        break        "
   ]
  },
  {
   "cell_type": "code",
   "execution_count": 11,
   "id": "35b9b32e-9adc-4837-b361-2857b1a6c80b",
   "metadata": {
    "tags": []
   },
   "outputs": [
    {
     "data": {
      "text/plain": [
       "53"
      ]
     },
     "execution_count": 11,
     "metadata": {},
     "output_type": "execute_result"
    }
   ],
   "source": [
    "review_bundle = browser.find_elements_by_css_selector('.review_list_element')\n",
    "len(review_bundle)"
   ]
  },
  {
   "cell_type": "code",
   "execution_count": 12,
   "id": "a90c45ab-6bb0-41d2-a31c-0b4f87a05510",
   "metadata": {
    "tags": []
   },
   "outputs": [
    {
     "data": {
      "text/plain": [
       "('마오마오미',\n",
       " '4',\n",
       " '2021.12.19',\n",
       " '[신상리뷰단에 참여하여 파이토웨이로부터 무료로 제공받아 작성한 후기입니다] \\n\\n오메가3 좋은건 이 글을 보는 사람들을 다 아시리라 믿어요! 영양제 중에서도 진짜 꼭 먹어야 한다는게 오메가3라서 이 회사꺼 저 회사꺼 많이 먹어 봤는데 써큐시안은 제가 먹어본 오메가3 중 가장 독특한것 같아요~ \\n\\n●효과● 제가 몸의 변화에 둔한 편이기도 하고 원래 영양제 자체를 안 먹는 것 보단 낫겠지 싶어 플라시보 효과라도 얻으려고 먹는 사람입니다. 솔직히 써큐시안 레드오메가3를 먹고 아직까지는 큰 변화 없어요. 체험분이 한 박스라서 어떤 변화가 일어나기도 전에 다 먹을 것 같은데 그래도 다른 오메가3에 비해 순도도 높고 엽산, 아연 같은 다른 영양소도 들어가 있어서 작은 기대는 하고 있어요. 타 회사 오메가3는 보통 비타민D가 오메가3랑 같이 있던데 여기는 더 다양하고 많은 영양이 들어가 있어 만족스러워요. 특히 아연이 여드름에 좋다던데 요즘 마스크 때문에 여드름으로 고생 중이라 오메가3로 함께 섭취 할 수 있어서 기쁩니다. \\n\\n●용량+ 모양● 하루 2알 먹는게 조금 불편해요ㅠㅠ 보통 크기가 작으면 2알 먹던데 여기는 크기는 일반 오메가3(성인 손가락 한 마디 정도)인데 한번에 두 알씩 먹어야 하니 생각보다 목 넘길때 부담이 조금 돼요ㅠㅠ\\n색깔은 진짜 오메가3가 맞나 싶을 정도로 처음보는 검은색에 가까운 불투명 한 타원형 형태이고 낯설긴 한데 약이니까 그냥 먹어요. 냄새는 신기하게 비린 냄새보단 뭔가 한약?같은 비슷한 냄새가 나서 비린 냄새 때문에 오메가3 싫어하시는 분들은 잘 드실 수 있을것 같아요. \\n\\n●가격+ 포장● 처음 보는 회사의 오메가3인데 좀 비싼것 같아요. 좋은 것만 엄선해서 넣은 것 같긴 한데 부담스러운 가격에 구매가...\\n포장은 환경이 걱정이지만, 개별 포장이라 늘 신선하게 안심하고 먹을 수 있고 가지고 다니기 편해서 좋아요. 눈에 잘 띄는 빨간색 포장도 예쁘고 상품과 함께 들어있던 대표와 신입 사원의 진심어린 편지가 들어있어 조금 감동했어요! 수많은 영양제를 구입 했었지만 이런 회사는 처음 봅니다. 친필 편지까지는 아니라 전단지 한장에 불과하다고 느끼시는 분도 계시겠지만 전 신기하고 제품을 다시 한번 들여다 보게 되는것 같아요. \\n\\n●배송● 초록초록 한 상자에 담겨 파손 없이 빠르게 집까지 잘 도착했어요!')"
      ]
     },
     "execution_count": 12,
     "metadata": {},
     "output_type": "execute_result"
    }
   ],
   "source": [
    "review_writer = review_bundle[5].find_element_by_css_selector('dl > dt').text \n",
    "review_star = review_bundle[5].find_element_by_css_selector('p.grade > span > em').text\n",
    "review_date = review_bundle[5].find_element_by_css_selector('div.c_product_review_cont > p.side > span').text\n",
    "review_content = review_bundle[5].find_element_by_css_selector('div.c_product_review_cont > div > div.cont_text_wrap > p').text ##bundle에서 0번째 가져옴?\n",
    "\n",
    "review_writer, review_star, review_date, review_content"
   ]
  },
  {
   "cell_type": "code",
   "execution_count": 13,
   "id": "0a2a0351-38fa-4c33-8965-e4a79597223a",
   "metadata": {
    "tags": []
   },
   "outputs": [
    {
     "ename": "NoSuchElementException",
     "evalue": "Message: no such element: Unable to locate element: {\"method\":\"css selector\",\"selector\":\"div.c_product_review_cont > div > div.cont_text_wrap > p\"}\n  (Session info: chrome=117.0.5938.89)\n",
     "output_type": "error",
     "traceback": [
      "\u001b[1;31m---------------------------------------------------------------------------\u001b[0m",
      "\u001b[1;31mNoSuchElementException\u001b[0m                    Traceback (most recent call last)",
      "Cell \u001b[1;32mIn[13], line 1\u001b[0m\n\u001b[1;32m----> 1\u001b[0m review_content \u001b[38;5;241m=\u001b[39m \u001b[43mreview_bundle\u001b[49m\u001b[43m[\u001b[49m\u001b[38;5;241;43m50\u001b[39;49m\u001b[43m]\u001b[49m\u001b[38;5;241;43m.\u001b[39;49m\u001b[43mfind_element_by_css_selector\u001b[49m\u001b[43m(\u001b[49m\u001b[38;5;124;43m'\u001b[39;49m\u001b[38;5;124;43mdiv.c_product_review_cont > div > div.cont_text_wrap > p\u001b[39;49m\u001b[38;5;124;43m'\u001b[39;49m\u001b[43m)\u001b[49m\u001b[38;5;241m.\u001b[39mtext \u001b[38;5;66;03m##bundle에서 0번째 가져옴?\u001b[39;00m\n\u001b[0;32m      2\u001b[0m review_date \u001b[38;5;241m=\u001b[39m review_bundle[\u001b[38;5;241m50\u001b[39m]\u001b[38;5;241m.\u001b[39mfind_element_by_css_selector(\u001b[38;5;124m'\u001b[39m\u001b[38;5;124mdiv.c_product_review_cont > p.side > span\u001b[39m\u001b[38;5;124m'\u001b[39m)\u001b[38;5;241m.\u001b[39mtext \n\u001b[0;32m      3\u001b[0m review_star \u001b[38;5;241m=\u001b[39m review_bundle[\u001b[38;5;241m50\u001b[39m]\u001b[38;5;241m.\u001b[39mfind_element_by_css_selector(\u001b[38;5;124m'\u001b[39m\u001b[38;5;124mp.grade > span > em\u001b[39m\u001b[38;5;124m'\u001b[39m)\u001b[38;5;241m.\u001b[39mtext\n",
      "File \u001b[1;32m~\\anaconda3\\Lib\\site-packages\\selenium\\webdriver\\remote\\webelement.py:430\u001b[0m, in \u001b[0;36mWebElement.find_element_by_css_selector\u001b[1;34m(self, css_selector)\u001b[0m\n\u001b[0;32m    415\u001b[0m \u001b[38;5;28;01mdef\u001b[39;00m \u001b[38;5;21mfind_element_by_css_selector\u001b[39m(\u001b[38;5;28mself\u001b[39m, css_selector):\n\u001b[0;32m    416\u001b[0m \u001b[38;5;250m    \u001b[39m\u001b[38;5;124;03m\"\"\"Finds element within this element's children by CSS selector.\u001b[39;00m\n\u001b[0;32m    417\u001b[0m \n\u001b[0;32m    418\u001b[0m \u001b[38;5;124;03m    :Args:\u001b[39;00m\n\u001b[1;32m   (...)\u001b[0m\n\u001b[0;32m    428\u001b[0m \u001b[38;5;124;03m        element = element.find_element_by_css_selector('#foo')\u001b[39;00m\n\u001b[0;32m    429\u001b[0m \u001b[38;5;124;03m    \"\"\"\u001b[39;00m\n\u001b[1;32m--> 430\u001b[0m     \u001b[38;5;28;01mreturn\u001b[39;00m \u001b[38;5;28;43mself\u001b[39;49m\u001b[38;5;241;43m.\u001b[39;49m\u001b[43mfind_element\u001b[49m\u001b[43m(\u001b[49m\u001b[43mby\u001b[49m\u001b[38;5;241;43m=\u001b[39;49m\u001b[43mBy\u001b[49m\u001b[38;5;241;43m.\u001b[39;49m\u001b[43mCSS_SELECTOR\u001b[49m\u001b[43m,\u001b[49m\u001b[43m \u001b[49m\u001b[43mvalue\u001b[49m\u001b[38;5;241;43m=\u001b[39;49m\u001b[43mcss_selector\u001b[49m\u001b[43m)\u001b[49m\n",
      "File \u001b[1;32m~\\anaconda3\\Lib\\site-packages\\selenium\\webdriver\\remote\\webelement.py:658\u001b[0m, in \u001b[0;36mWebElement.find_element\u001b[1;34m(self, by, value)\u001b[0m\n\u001b[0;32m    655\u001b[0m         by \u001b[38;5;241m=\u001b[39m By\u001b[38;5;241m.\u001b[39mCSS_SELECTOR\n\u001b[0;32m    656\u001b[0m         value \u001b[38;5;241m=\u001b[39m \u001b[38;5;124m'\u001b[39m\u001b[38;5;124m[name=\u001b[39m\u001b[38;5;124m\"\u001b[39m\u001b[38;5;132;01m%s\u001b[39;00m\u001b[38;5;124m\"\u001b[39m\u001b[38;5;124m]\u001b[39m\u001b[38;5;124m'\u001b[39m \u001b[38;5;241m%\u001b[39m value\n\u001b[1;32m--> 658\u001b[0m \u001b[38;5;28;01mreturn\u001b[39;00m \u001b[38;5;28;43mself\u001b[39;49m\u001b[38;5;241;43m.\u001b[39;49m\u001b[43m_execute\u001b[49m\u001b[43m(\u001b[49m\u001b[43mCommand\u001b[49m\u001b[38;5;241;43m.\u001b[39;49m\u001b[43mFIND_CHILD_ELEMENT\u001b[49m\u001b[43m,\u001b[49m\n\u001b[0;32m    659\u001b[0m \u001b[43m                     \u001b[49m\u001b[43m{\u001b[49m\u001b[38;5;124;43m\"\u001b[39;49m\u001b[38;5;124;43musing\u001b[39;49m\u001b[38;5;124;43m\"\u001b[39;49m\u001b[43m:\u001b[49m\u001b[43m \u001b[49m\u001b[43mby\u001b[49m\u001b[43m,\u001b[49m\u001b[43m \u001b[49m\u001b[38;5;124;43m\"\u001b[39;49m\u001b[38;5;124;43mvalue\u001b[39;49m\u001b[38;5;124;43m\"\u001b[39;49m\u001b[43m:\u001b[49m\u001b[43m \u001b[49m\u001b[43mvalue\u001b[49m\u001b[43m}\u001b[49m\u001b[43m)\u001b[49m[\u001b[38;5;124m'\u001b[39m\u001b[38;5;124mvalue\u001b[39m\u001b[38;5;124m'\u001b[39m]\n",
      "File \u001b[1;32m~\\anaconda3\\Lib\\site-packages\\selenium\\webdriver\\remote\\webelement.py:633\u001b[0m, in \u001b[0;36mWebElement._execute\u001b[1;34m(self, command, params)\u001b[0m\n\u001b[0;32m    631\u001b[0m     params \u001b[38;5;241m=\u001b[39m {}\n\u001b[0;32m    632\u001b[0m params[\u001b[38;5;124m'\u001b[39m\u001b[38;5;124mid\u001b[39m\u001b[38;5;124m'\u001b[39m] \u001b[38;5;241m=\u001b[39m \u001b[38;5;28mself\u001b[39m\u001b[38;5;241m.\u001b[39m_id\n\u001b[1;32m--> 633\u001b[0m \u001b[38;5;28;01mreturn\u001b[39;00m \u001b[38;5;28;43mself\u001b[39;49m\u001b[38;5;241;43m.\u001b[39;49m\u001b[43m_parent\u001b[49m\u001b[38;5;241;43m.\u001b[39;49m\u001b[43mexecute\u001b[49m\u001b[43m(\u001b[49m\u001b[43mcommand\u001b[49m\u001b[43m,\u001b[49m\u001b[43m \u001b[49m\u001b[43mparams\u001b[49m\u001b[43m)\u001b[49m\n",
      "File \u001b[1;32m~\\anaconda3\\Lib\\site-packages\\selenium\\webdriver\\remote\\webdriver.py:321\u001b[0m, in \u001b[0;36mWebDriver.execute\u001b[1;34m(self, driver_command, params)\u001b[0m\n\u001b[0;32m    319\u001b[0m response \u001b[38;5;241m=\u001b[39m \u001b[38;5;28mself\u001b[39m\u001b[38;5;241m.\u001b[39mcommand_executor\u001b[38;5;241m.\u001b[39mexecute(driver_command, params)\n\u001b[0;32m    320\u001b[0m \u001b[38;5;28;01mif\u001b[39;00m response:\n\u001b[1;32m--> 321\u001b[0m     \u001b[38;5;28;43mself\u001b[39;49m\u001b[38;5;241;43m.\u001b[39;49m\u001b[43merror_handler\u001b[49m\u001b[38;5;241;43m.\u001b[39;49m\u001b[43mcheck_response\u001b[49m\u001b[43m(\u001b[49m\u001b[43mresponse\u001b[49m\u001b[43m)\u001b[49m\n\u001b[0;32m    322\u001b[0m     response[\u001b[38;5;124m'\u001b[39m\u001b[38;5;124mvalue\u001b[39m\u001b[38;5;124m'\u001b[39m] \u001b[38;5;241m=\u001b[39m \u001b[38;5;28mself\u001b[39m\u001b[38;5;241m.\u001b[39m_unwrap_value(\n\u001b[0;32m    323\u001b[0m         response\u001b[38;5;241m.\u001b[39mget(\u001b[38;5;124m'\u001b[39m\u001b[38;5;124mvalue\u001b[39m\u001b[38;5;124m'\u001b[39m, \u001b[38;5;28;01mNone\u001b[39;00m))\n\u001b[0;32m    324\u001b[0m     \u001b[38;5;28;01mreturn\u001b[39;00m response\n",
      "File \u001b[1;32m~\\anaconda3\\Lib\\site-packages\\selenium\\webdriver\\remote\\errorhandler.py:242\u001b[0m, in \u001b[0;36mErrorHandler.check_response\u001b[1;34m(self, response)\u001b[0m\n\u001b[0;32m    240\u001b[0m         alert_text \u001b[38;5;241m=\u001b[39m value[\u001b[38;5;124m'\u001b[39m\u001b[38;5;124malert\u001b[39m\u001b[38;5;124m'\u001b[39m]\u001b[38;5;241m.\u001b[39mget(\u001b[38;5;124m'\u001b[39m\u001b[38;5;124mtext\u001b[39m\u001b[38;5;124m'\u001b[39m)\n\u001b[0;32m    241\u001b[0m     \u001b[38;5;28;01mraise\u001b[39;00m exception_class(message, screen, stacktrace, alert_text)\n\u001b[1;32m--> 242\u001b[0m \u001b[38;5;28;01mraise\u001b[39;00m exception_class(message, screen, stacktrace)\n",
      "\u001b[1;31mNoSuchElementException\u001b[0m: Message: no such element: Unable to locate element: {\"method\":\"css selector\",\"selector\":\"div.c_product_review_cont > div > div.cont_text_wrap > p\"}\n  (Session info: chrome=117.0.5938.89)\n"
     ]
    }
   ],
   "source": [
    "# 리뷰 10개 이상 안보여지는 것으로 판단함.\n",
    "review_content = review_bundle[50].find_element_by_css_selector('div.c_product_review_cont > div > div.cont_text_wrap > p').text ##bundle에서 0번째 가져옴?\n",
    "review_date = review_bundle[50].find_element_by_css_selector('div.c_product_review_cont > p.side > span').text \n",
    "review_star = review_bundle[50].find_element_by_css_selector('p.grade > span > em').text\n",
    "review_writer = review_bundle[50].find_element_by_css_selector('dl > dt').text \n",
    "review_list = [review_content, review_date, review_star, review_writer]\n",
    "review_list"
   ]
  },
  {
   "cell_type": "code",
   "execution_count": 14,
   "id": "e9588943-facb-42c6-8585-f5cad74a3987",
   "metadata": {
    "tags": []
   },
   "outputs": [
    {
     "name": "stdout",
     "output_type": "stream",
     "text": [
      "pass\n",
      "pass\n",
      "pass\n",
      "pass\n",
      "pass\n",
      "pass\n",
      "pass\n",
      "pass\n",
      "pass\n",
      "pass\n",
      "pass\n",
      "pass\n",
      "pass\n",
      "pass\n",
      "pass\n",
      "pass\n",
      "pass\n",
      "pass\n",
      "pass\n",
      "pass\n",
      "pass\n",
      "pass\n",
      "pass\n",
      "pass\n",
      "pass\n",
      "pass\n",
      "pass\n",
      "pass\n",
      "pass\n",
      "pass\n",
      "pass\n",
      "pass\n",
      "pass\n",
      "pass\n",
      "pass\n",
      "pass\n",
      "pass\n",
      "pass\n",
      "pass\n"
     ]
    }
   ],
   "source": [
    "# 단일 리뷰 펼치기\n",
    "\n",
    "review_bundle = browser.find_elements_by_css_selector('.review_list_element')\n",
    "len(review_bundle)\n",
    "\n",
    "ul_index = 1\n",
    "li_index = 1\n",
    "\n",
    "for i in range(1, len(review_bundle)+1):\n",
    "    try:\n",
    "        time.sleep(1)\n",
    "        expand_button_css_selector = f'#review-list-page-area > ul:nth-child({ul_index}) > li:nth-child({li_index}) > div > div > div.cont_text_wrap > p.cont_btn.review-expand > button.c_product_btn.c_product_btn_more6.review-expand-open-text' \n",
    "        expand_button = browser.find_elements_by_css_selector(expand_button_css_selector)\n",
    "\n",
    "        expand_button[0].click()  # Click the button if it exists \n",
    "    except:\n",
    "        time.sleep(1)\n",
    "        pass\n",
    "        print('pass')  \n",
    "    if li_index == 10:\n",
    "        ul_index += 1\n",
    "        li_index = 1\n",
    "    else:\n",
    "        li_index += 1 \n"
   ]
  },
  {
   "cell_type": "code",
   "execution_count": null,
   "id": "bb70504c-9d0d-4512-bfcd-32be0c2a6753",
   "metadata": {
    "tags": []
   },
   "outputs": [],
   "source": [
    "# ### loaded된 전체 review 가져오기. \n",
    "# reviews_list = list()\n",
    "# for revew_item in reviews_bundle :\n",
    "#     review_content = revew_item.find_element_by_css_selector('div.c_product_review_cont > div > div.cont_text_wrap > p').text ##bundle에서 0번째 가져옴?\n",
    "#     review_date = revew_item.find_element_by_css_selector('div.c_product_review_cont > p.side > span').text \n",
    "#     review_star = revew_item.find_element_by_css_selector('p.grade > span > em').text\n",
    "#     review_writer = revew_item.find_element_by_css_selector('dl > dt').text \n",
    "#     review_list = [review_content, review_date, review_star, review_writer]\n",
    "#     reviews_list.append(review_list)\n",
    "    \n",
    "# len(reviews_list)"
   ]
  },
  {
   "cell_type": "code",
   "execution_count": 18,
   "id": "a5f68c9b-ef19-4e03-96bb-d061b37dbdfb",
   "metadata": {
    "collapsed": true,
    "jupyter": {
     "outputs_hidden": true,
     "source_hidden": true
    },
    "tags": []
   },
   "outputs": [
    {
     "name": "stdout",
     "output_type": "stream",
     "text": [
      "['mbk0***', 'kss4***', '현HyunArchive', 'wltn**', '나에겐좋은날만', '마오마오미', '뽀담02', '키키', '성원마눌', 'smb2**', '냔냐', 'hits**', 'sodk******', 'gaeu*****', 'juhe******', '1452*************', 'wjdd******', '우비소녀80', 'yjs0*****', 'jisu*****', 'kkdb****', 'time*****', 'prin********', 'knso******', 'skdl********', 'bret****', 'rlaw******', 'mylj****', 'narc***', 'hawj****', 'uuee****', 'wjdl*****', 'k181****', 'rlax******', 'skdi****', 'hae3***', 'ju66***', 'ju66***', 'ujmk*****', 'seol*****', 'jel1**', '나는,꽃', '나는,꽃', 'whcn********', 'tjdd*******', 'ggui**', 'khj1***', 'kkim******************', 'sik4***', 'diab*****', '우이부', 'dong******************', 'kjwo******']\n"
     ]
    }
   ],
   "source": [
    "# 전체 리뷰에서 작성자만 가져오기 \n",
    "# Function to find the total number of reviews on the web page\n",
    "def find_total_reviews():\n",
    "    # Replace this part with your actual code to find the total number of reviews\n",
    "    # Here, we'll use a hardcoded example to count the reviews\n",
    "    review_elements = browser.find_elements_by_css_selector('#review-list-page-area dl')\n",
    "    total_reviews = len(review_elements)\n",
    "    return total_reviews\n",
    "\n",
    "# Initialize the list to store the extracted review writers\n",
    "review_writers = []\n",
    "\n",
    "# Find the total number of available reviews\n",
    "total_reviews = find_total_reviews()\n",
    "\n",
    "# Initialize variables for ul and li indices\n",
    "ul_index = 1\n",
    "li_index = 1\n",
    "\n",
    "# Loop to extract review writers for all available reviews\n",
    "for i in range(1, total_reviews + 1):  # Loop from 1 to the total number of reviews\n",
    "    # Construct the CSS selector with the calculated indices\n",
    "    css_selector_writer = f'#review-list-page-area > ul:nth-child({ul_index}) > li:nth-child({li_index}) > dl > dt'\n",
    "    \n",
    "    # Attempt to find the element using the CSS selector\n",
    "    try:\n",
    "        review_writer = browser.find_element_by_css_selector(css_selector).text\n",
    "        review_writers.append(review_writer)\n",
    "    except:\n",
    "        # If the element is not found, break out of the loop\n",
    "        break\n",
    "\n",
    "    # Update ul and li indices based on the pattern you described\n",
    "    if li_index == 10:\n",
    "        ul_index += 1\n",
    "        li_index = 1\n",
    "    else:\n",
    "        li_index += 1\n",
    "\n",
    "# Now, review_writers contains the extracted review writers for all available reviews\n",
    "print(review_writers)"
   ]
  },
  {
   "cell_type": "code",
   "execution_count": 29,
   "id": "179281a9-bede-4235-8585-c232dcbf1bc4",
   "metadata": {
    "collapsed": true,
    "jupyter": {
     "outputs_hidden": true,
     "source_hidden": true
    },
    "tags": []
   },
   "outputs": [
    {
     "name": "stdout",
     "output_type": "stream",
     "text": [
      "['2023.08.03', '2021.12.22', '2021.12.15', '2021.12.09', '2021.12.02', '2021.12.19', '2021.12.13', '2021.12.18', '2021.12.18', '2021.12.19', '2021.12.10', '2021.12.04', '2021.11.06', '2021.11.08', '2021.11.08', '2021.11.06', '2021.11.08', '2021.07.05', '2022.11.05', '2022.10.06', '2021.12.11', '2023.04.25', '2021.07.15', '2023.09.05', '2023.05.16', '2023.04.11', '2023.02.03', '2023.01.22', '2022.09.27', '2022.09.02', '2022.06.01', '2022.04.13', '2022.04.03', '2021.12.10', '2021.12.07', '2021.12.06', '2021.11.18', '2021.11.15', '2021.11.11', '2021.10.31', '2021.08.23', '2021.08.22', '2021.08.22', '2021.07.29', '2021.07.28', '2021.07.26', '2021.07.24', '2021.07.14', '2021.07.14', '2021.07.02', '2021.06.26', '2021.06.11', '2021.06.07']\n"
     ]
    }
   ],
   "source": [
    "# 전체 리뷰에서 날짜만 가져오기 \n",
    "# Function to find the total number of reviews on the web page\n",
    "def find_total_reviews():\n",
    "    # Replace this part with your actual code to find the total number of reviews\n",
    "    # Here, we'll use a hardcoded example to count the reviews\n",
    "    review_elements = browser.find_elements_by_css_selector('#review-list-page-area dl')\n",
    "    total_reviews = len(review_elements)\n",
    "    return total_reviews\n",
    "\n",
    "# Initialize the list to store the extracted review writers\n",
    "review_dates = []\n",
    "\n",
    "# Find the total number of available reviews\n",
    "total_reviews = find_total_reviews()\n",
    "\n",
    "# Initialize variables for ul and li indices\n",
    "ul_index = 1\n",
    "li_index = 1\n",
    "\n",
    "# Loop to extract review dates for all available reviews\n",
    "for i in range(1, total_reviews + 1):  # Loop from 1 to the total number of reviews\n",
    "   # Construct the CSS selectors  \n",
    "    css_selector_date = f'#review-list-page-area > ul:nth-child({ul_index}) > li:nth-child({li_index}) > div > p.side > span'\n",
    "       \n",
    "   # Attempt to find the element using the CSS selector\n",
    "    try:\n",
    "        review_date = browser.find_element_by_css_selector(css_selector_date).text\n",
    "        review_dates.append(review_date)  # Append the extracted date to the list\n",
    "    except:\n",
    "        # If the element is not found, break out of the loop\n",
    "        break\n",
    "\n",
    "    # Update ul and li indices based on the pattern you described\n",
    "    if li_index == 10:\n",
    "        ul_index += 1\n",
    "        li_index = 1\n",
    "    else:\n",
    "        li_index += 1\n",
    "\n",
    "# Now, review_dates contains the extracted review dates for all available reviews\n",
    "print(review_dates)"
   ]
  },
  {
   "cell_type": "code",
   "execution_count": 30,
   "id": "1b298e8f-e356-48ad-bbca-70df351e8dcb",
   "metadata": {
    "collapsed": true,
    "jupyter": {
     "outputs_hidden": true,
     "source_hidden": true
    },
    "tags": []
   },
   "outputs": [
    {
     "name": "stdout",
     "output_type": "stream",
     "text": [
      "['4', '5', '5', '5', '5', '4', '5', '5', '5', '5', '5', '5', '5', '5', '5', '5', '5', '3', '4', '5', '5', '5', '4', '5', '5', '4', '5', '5', '5', '5', '5', '4', '5', '5', '5', '5', '5', '5', '5', '2', '4', '5', '5', '5', '4', '4', '4', '3', '5', '4', '4', '3', '3']\n"
     ]
    }
   ],
   "source": [
    "# 전체 리뷰에서 별점만 가져오기 \n",
    "# Function to find the total number of reviews on the web page\n",
    "def find_total_reviews():\n",
    "    # Replace this part with your actual code to find the total number of reviews\n",
    "    # Here, we'll use a hardcoded example to count the reviews\n",
    "    review_elements = browser.find_elements_by_css_selector('#review-list-page-area dl')\n",
    "    total_reviews = len(review_elements)\n",
    "    return total_reviews\n",
    "\n",
    "# Initialize the list to store the extracted review writers\n",
    "review_stars = []\n",
    "\n",
    "# Find the total number of available reviews\n",
    "total_reviews = find_total_reviews()\n",
    "\n",
    "# Initialize variables for ul and li indices\n",
    "ul_index = 1\n",
    "li_index = 1\n",
    "\n",
    "# Loop to extract review dates for all available reviews\n",
    "for i in range(1, total_reviews + 1):  # Loop from 1 to the total number of reviews\n",
    "   # Construct the CSS selectors  \n",
    "    css_selector_star = f'#review-list-page-area > ul:nth-child({ul_index}) > li:nth-child({li_index}) > div > p.grade > span > em'\n",
    "       \n",
    "   # Attempt to find the element using the CSS selector\n",
    "    try:\n",
    "        review_star = browser.find_element_by_css_selector(css_selector_star).text\n",
    "        review_stars.append(review_star)  \n",
    "    except:\n",
    "        # If the element is not found, break out of the loop\n",
    "        break\n",
    "\n",
    "    # Update ul and li indices based on the pattern you described\n",
    "    if li_index == 10:\n",
    "        ul_index += 1\n",
    "        li_index = 1\n",
    "    else:\n",
    "        li_index += 1\n",
    "\n",
    "# Now, review_dates contains the extracted review dates for all available reviews\n",
    "print(review_stars)"
   ]
  },
  {
   "cell_type": "code",
   "execution_count": 45,
   "id": "6b2bc2d3-81f3-4cd3-81a1-567a20d07ac3",
   "metadata": {
    "collapsed": true,
    "jupyter": {
     "outputs_hidden": true,
     "source_hidden": true
    },
    "tags": []
   },
   "outputs": [
    {
     "name": "stdout",
     "output_type": "stream",
     "text": [
      "['일단 리뷰보고~총콜레스테롤이높아서일단평이높아서사봤어요~한달먹구~또구매하고 석달은먹어봐야한다구해서~복용을해보고~다시리뷰를작성할께요~', '배송 빨라요 성능 성능이 뛰어나요 유통기한 기한이 넉넉해요\\n처음 먹어보지만 몇일사이 복용해본 결과로는 느낌이 좋습니다', '배송 빨라요 성능 성능이 뛰어나요 유통기한 기한이 넉넉해요\\n오메가3는 rtg오메가3부터 오메가3가 포함된 루테인 아스타잔틴까지 오래 전부터 꾸준히 섭취해왔던 영양제입니다.\\n얼마 전 TV건강 프로그램에서 LDL콜레스테롤과 중성지방 수치가 높게 나타난 사람들을 대상으로 오메가3를 6개월 동안 매일 섭취하도록 했더니 체내 LDL콜레스테롤과 중성지방 수치가 모두 46% 감소했다는 연구 결과를 보고나서 혈액순환의 중요성과 오메가3와 혈액순환의 관계에 대해서 자세히 알게되는 배경이 되었습니다.\\n오메가3 성분에 대해서 조사하던 중 기존에 먹고 있던 식물성 오메가3는 혈행개선은 되지만 혈압과 콜레스테롤 수치를 개선하지 못한다는 사실을 알게되었습니다.\\n오메가3 제품 중에 괜찮은 제품을 선정하던 중에 체험상품 목록에 써큐시안 레드오메가3 제품을 알게되었고, 이 제품은 기존에 섭취하던 제품과는 다르게 혈행개선과 혈압개선, 그리고 콜레스테롤 개선 및 혈액 생성까지 해준다는 것을 보고 레드오메가3의 블러드케어를 한 번 체험해보고 싶다는 생각이 들었습니다.\\n다행히 체험상품을 신청하였고, 보름 정도 먹어봤는데, 빈혈도 평소보다 줄어들었고, 무엇보다 머리가 아프지 않더라고요.\\n이거 먹은 다음부터는 피곤하지도 않고, 오래 깨어있어도 체력이 버텨주는 기분이 들더라고요.\\n하루에 2번 복용하는데, 갯수가 점점 줄어드는 것을 보면 아쉬운 마음이 들긴 하더라고요.\\n제품은 진짜 너무 만족스럽습니다.\\n성분에서부터 정성이 느껴질 정도입니다.\\n어떠한 사람들이 먹으면 좋을까 고민해봤는데, 아무래도 혈관 질환을 갖고 계신 분들이 드셔보셨으면 하는 바람입니다.\\n\\n신상리뷰단에 참여하여 파이토웨이로부터 무료로 제공받아 작성한 후기입니다.\\n더보기\\n상세보기\\n상세보기\\n상세보기\\n상세보기\\n더보기', '배송 빨라요 성능 성능이 뛰어나요 유통기한 기한이 넉넉해요\\n신상리뷰탄에참여하여 써큐시안제품리뷰입니다 저는 알티지오메가를1년이상먹고있고요 고지혈증약도6개월째먹고있는데요 몇일전부터 뒤통수도땡기고 두통도있고 가슴도엄청벌렁거려서 심장내과에서진료받고약도먹고있는데요 개인적으로 술도많이먹는편이여서 쫌 걱정도되는과정에 인터넷에서 우연이 보게된 써큐시안을 알게되었는데 상품신청할때 이제품이있어서 너무 좋았네요 우연히 방송에서 오메가만먹을시 당뇨환자일경우 당이 더 높아질수도있다고 들었던거같애요 그래서 코엔자임Q10과 홍국을같이 섭취했을시 훨씬 효과가좋다고들었는데요 저도 치료를위해서 제품을찾던중 오메가와 홍국 코엔자임Q10 이세가지조합이 있는제품이 바로 써큐시안 홍국은 혈중 콜레스테를개선에도움을주고 코에자임은항산화높은 혈압감소에도움을준다네요 아연과 비타민 엽산까지 함유되어있고요 색은검정색인지아니면 아주진한 자주빛이나고요 지금5일째먹고있는데 건강해진느낌 어지러움도 조금덜하고 두통도 조금 덜한거같애요 한달섭취해보고 신랑이랑같이 먹어야겠어요 조금 아쉬운건 가격이 조금 부담이되긴합니다 조금 할인행사를 해줬으면좋겠어요\" 섭취후기\" 지금 2주째 먹고있는데요 뒷꼴땡기는게 없어졌네요 술먹고나면 뒷꼴이땡겼는데 써큐시안을 먹고나서 현재 손저림이나 두통이 없어졌어요 적극추천합니다\\n더보기\\n상세보기\\n상세보기\\n상세보기', '배송 빨라요 성능 성능이 뛰어나요 유통기한 기한이 넉넉해요\\n신상리뷰단에 참여하여 파이토웨이로부터 써큐시안을 무료로 제공받아 작성한 후기입니다.\\n\\n오메가3는 몇년전부터 꾸준히 섭취하고 있었고 해외제품, 국내제품 골고루 먹다가 성분좋은 오메가3를 찾던 중 체험상품에 써큐시안이 있어 신청하게 되었습니다. 어류에서 추출한 오메가3보다 식물성 오메가3가 가격이 더 비싸고 DHA함유량이 EPA함유량보다 높은데 문의했을때 써큐시안도 DHA함유량이 492mg정도 들어 있더라구요. 그리고 요새 먹는 약때문에 혈압이 약간 높아져서 신경쓰이던 찰나에 혈압감소에 도움을 주는 코큐텐도 90mg함유되어있고 콜레스테롤 감소에 효과적인 홍국도 함유되어 있어 따로 코큐텐을 챙겨 먹지 않아도 되어 좋았습니다. 그 외  엽산이나 비타민A등도 들어있어 영양제 따로 먹지 않는 분들에겐 좋을 것 같은데 종합영양제 복용중이면 이중섭취가 될 수 있다는 점은 호불호가 갈릴수도 있을거같아요~ 그리고 체내흡수에 용이한 알티지 형태인것은  장점이네요. 다른 오메가3보다 가격이 비싸긴하지만 식물성이고 코큐텐, 홍국등이 첨가되어 있기때문에 효과가 더 좋을 것이라고 생각됩니다. 오메가3 섭취하고 건강하게 지내고 싶네요!\\n더보기\\n상세보기\\n상세보기\\n상세보기\\n상세보기\\n더보기', '배송 빨라요 성능 성능이 뛰어나요 유통기한 기한이 넉넉해요\\n[신상리뷰단에 참여하여 파이토웨이로부터 무료로 제공받아 작성한 후기입니다] \\n\\n오메가3 좋은건 이 글을 보는 사람들을 다 아시리라 믿어요! 영양제 중에서도 진짜 꼭 먹어야 한다는게 오메가3라서 이 회사꺼 저 회사꺼 많이 먹어 봤는데 써큐시안은 제가 먹어본 오메가3 중 가장 독특한것 같아요~ \\n\\n●효과● 제가 몸의 변화에 둔한 편이기도 하고 원래 영양제 자체를 안 먹는 것 보단 낫겠지 싶어 플라시보 효과라도 얻으려고 먹는 사람입니다. 솔직히 써큐시안 레드오메가3를 먹고 아직까지는 큰 변화 없어요. 체험분이 한 박스라서 어떤 변화가 일어나기도 전에 다 먹을 것 같은데 그래도 다른 오메가3에 비해 순도도 높고 엽산, 아연 같은 다른 영양소도 들어가 있어서 작은 기대는 하고 있어요. 타 회사 오메가3는 보통 비타민D가 오메가3랑 같이 있던데 여기는 더 다양하고 많은 영양이 들어가 있어 만족스러워요. 특히 아연이 여드름에 좋다던데 요즘 마스크 때문에 여드름으로 고생 중이라 오메가3로 함께 섭취 할 수 있어서 기쁩니다. \\n\\n●용량+ 모양● 하루 2알 먹는게 조금 불편해요ㅠㅠ 보통 크기가 작으면 2알 먹던데 여기는 크기는 일반 오메가3(성인 손가락 한 마디 정도)인데 한번에 두 알씩 먹어야 하니 생각보다 목 넘길때 부담이 조금 돼요ㅠㅠ\\n색깔은 진짜 오메가3가 맞나 싶을 정도로 처음보는 검은색에 가까운 불투명 한 타원형 형태이고 낯설긴 한데 약이니까 그냥 먹어요. 냄새는 신기하게 비린 냄새보단 뭔가 한약?같은 비슷한 냄새가 나서 비린 냄새 때문에 오메가3 싫어하시는 분들은 잘 드실 수 있을것 같아요. \\n\\n●가격+ 포장● 처음 보는 회사의 오메가3인데 좀 비싼것 같아요. 좋은 것만 엄선해서 넣은 것 같긴 한데 부담스러운 가격에 구매가...\\n포장은 환경이 걱정이지만, 개별 포장이라 늘 신선하게 안심하고 먹을 수 있고 가지고 다니기 편해서 좋아요. 눈에 잘 띄는 빨간색 포장도 예쁘고 상품과 함께 들어있던 대표와 신입 사원의 진심어린 편지가 들어있어 조금 감동했어요! 수많은 영양제를 구입 했었지만 이런 회사는 처음 봅니다. 친필 편지까지는 아니라 전단지 한장에 불과하다고 느끼시는 분도 계시겠지만 전 신기하고 제품을 다시 한번 들여다 보게 되는것 같아요. \\n\\n●배송● 초록초록 한 상자에 담겨 파손 없이 빠르게 집까지 잘 도착했어요!\\n더보기\\n상세보기\\n상세보기\\n상세보기\\n상세보기\\n더보기', '배송 빨라요 성능 성능이 뛰어나요 유통기한 기한이 넉넉해요\\n나이가 40대인지라  고질병이  있다는걸  알기  전부터 몸에  좋다고해서  오메가3는  꾸준히  챙겨먹고있었어요. 1년전쯤  고지혈증  진단후  좀  더  신경써서  먹고있어요.\\n평소  알티지.식물성.장용성.초임계가 좋다고  알고있어서  그것만  신경써서  구입했었는데  요 써큐시안 오메가3는 제가 몰랐던  좋은성분도  들어가있더라구여. 그래서  그런지  1박스 가격이  싼편은  아니더라구여. 1일 1회 2알 먹는데  전 목구멍이 큰지 알이 큰편인지 모르게  잘  넘어가네요.ㅎㅎ 써큐시안  레드 오메가3는 혈압감소에 좋은  코큐텐이 함류되어있고 콜레스테롤에  좋은 홍국이 합류되어있대요. 사실  홍국이라는것도  첨  들어보는데  좋은성분이더라구여. \\n나이들수록 몸에 좋은 영양제 꼭  챙겨 먹어야하는건  다들  아실테고 지병이  있던없던  오메가3는 필수 영양제에요. 싼거 많이먹을바엔  좋은거 하나먹는게  좋다는말도 있잖아요. 좋은 오메가3  드시고  건강도  챙기세요.  감사히  잘 먹겠습니다.\\n\\n신상리뷰단에  참여하여 파이토웨이로부터 무료로  제공받아 작성한후기입니다.\\n더보기\\n상세보기\\n상세보기\\n상세보기\\n상세보기', '배송 빨라요 성능 성능이 뛰어나요 유통기한 기한이 넉넉해요\\n50대 후반이고 현재 고혈압약을 복용하고 있는 남편이 몇 달 전부터 가끔 다리저림 현상이 있다고 시중에 나온 은행추출물 혈액순환개선제를 좀 사달라고 해서 인터넷 검색 중 우연히 알게 된 블러드케어 써큐시안!!! 입니다.\\n\\n사실은 먹기 시작한지 한 3~4개월쯤 된거 같은데 지금은 거의 다리저림 현상이 없어졌고 해서 써큐시안이 진짜 효험이 있구나 생각했고 그래서 요즘은 저도 같이 먹고 있답니다. \\n\\n그런데 가격이 꽤 있는 편이라 남편은 매일 복용하고 있고 저는 주 2~3회 정도 먹고 있어요~~(저는 혈압은 괜찮으나 약간 경계선 정도이며 50대 후반 )\\n\\n써큐시안 제품은 확실히 좋은데 가격이 좀 쎈게 흠이라면 흠인데~ 대표님~!!!\\n국민건강증진을 위해 애국하는 마음으로 가격 조금만 낮춰 주시면 안될까요?? ㅎㅎ\\n저도 꾸준히 한번 먹어보고 싶어서요~~~^^\\n\\n그리고 좋은 제품 소비자가 꾸준히 믿고 먹을 수 있게 \\n계속 잘 만들어 주시고 승승장구 번창하시길 기원드립니다.\\n\\n신상리뷰단에 참여하여 파이토웨이로부터 써큐시안을 무료로 제공받아 작성한 후기입니다.\\n더보기\\n상세보기\\n상세보기\\n상세보기\\n상세보기\\n더보기', '배송 빨라요 성능 성능이 뛰어나요 유통기한 기한이 넉넉해요\\n신상 리뷰단에 참여하여 파이토 웨이로부터 \\n써큐시안 레드오메가 3 초임계 식물성 알티지 홍국+코큐텐 혈관 복합 관리 11중 복합 기능성 1개를 무료로 제공받아 작성한 후기입니다.\\n\\n● 총평 : 개인적으로 고지혈증 약을 복용하고 있어서 효능을 기대하며 복용 중입니다.\\n내돈내산 하고 싶을 만큼 만족스럽게 복용하고 있습니다.\\n\\n1. 1일 2정 섭취로,\\n* 콜레스테롤, 혈압, 혈행 개선\\n* 오메가3, 코엔자임 Q10, 홍국 주원료\\n* 11주 이 복합 기능성 내용, \\n대한민국 식약처 인증 6가지 주원료를 모두 흡수할 수 있어서 복용하기 간편합니다.\\n\\n2. 우수 건강 기능 식품 제조 기준인 [GMP 인증]\\n시설에서 생산되어 안심이 됩니다.\\n\\n3. 안전한 PTP 포장이라 위생적입니다.\\n\\n4. 기존에 복용했던 오메가3 에 비해\\n알약이 작은 편이라 복용하기 좋습니다.\\n\\n5. 단점을 굳이 꼽자면, 가격이 저렴하지는 않은 듯합니다.\\n더보기\\n상세보기\\n상세보기\\n상세보기', '배송 빨라요 성능 성능이 뛰어나요 유통기한 기한이 넉넉해요\\n나이가 늘어나면서 점점 건강에 대한 관심도 함께 늘어갑니다. 음식을 조절해서 먹고 식단을 하는 것도 한계가 있다고 생각이 들어 여러가지 약을 찾아봤습니다. \\n그러다가 찾게 된 써큐시안 블러드케어! 콜레스테롤을 낮춰주는 기능이 있다네요~ 콜레스테롤을 낮추려고 채소만 먹을수도 없고ㅎㅎ 전 고기를 무척이나 사랑하는 사람으로 식단만으로 불가능하여..이 기회에 써큐시안을 섭취해보기로 했습니다!\\n가끔 오메가3를 먹고 나면 비릿내가 올라오는걸 참을 수 없었는데 혈액건강 이제라도 열심히 챙기는 중입니다.\\n1일 1회 2캡슐만 먹으면 되서 식사 후에 꿀꺽하면 끝! 섭취방법도 어렵지 않고 아주 만족스럽네요. 요즘같이 건강이 제일 최고라는 생각이 들 때 써큐시안 블러드케어까지 섭취하게되었네요ㅎㅎ시기도 딱 잘 맞죠ㅎㅎ\\n신상리뷰단에 참여하여 파이토웨이로부터 무료로 제공받아 작성한 후기입니다.\\n더보기\\n상세보기\\n상세보기\\n상세보기', '배송 빨라요 성능 성능이 뛰어나요 유통기한 기한이 넉넉해요\\n요즘 초임계 RTG 오메가3 만 알다가 써큐시안 블러드 케어 레드오메가3를 알게 되었어요\\n이 제품은 혈행 관리, 혈압, 콜레스테롤관리를 한 번에 하는 제품이라고 들었어요\\n1200 시간 발효한 홍국과 식물성오메가3 주원료로 이 제품 역시 저온초임계 추출 방식이라고 알고 있어요 거기다 12가지 부원료와 식약처 인증을 받은 제품이라 안심하고 먹을 수 있어요 \\n배송은 무척 빨리 왔고 포장도 꼼꼼하게 되어있고 대표자분께서 가족이 먹는다는 생각으로 제품을 개발, 생산한다는 느낌을 받았어요 같이 온 팜플렛에 진심이 느껴지는 편지까지\\n가족 모두 믿고 섭취할 수 있는 그런 제품이에요\\n\\n신성 리뷰단에 참여하여 파이토웨이로부터 무료로 제공받아 작성한 후기입니다\\n더보기\\n상세보기\\n상세보기\\n상세보기', '배송 빨라요 성능 성능이 뛰어나요 유통기한 기한이 넉넉해요\\n나이 50대중반이 되니 몸이 신호를 보내는군요. 노안이 와서 루테인 지아잔틴 아스타잔틴 성분이 들어간 영양제를 먹고 있긴하지만 혈압도 높아지고 콜레스테롤 수치도 올라가서 좀 걱정이 되더라구요.\\n오메가3제품을 먹어볼까 하던중 신상리뷰단 상품에 써큐시안 제품이 눈에 들어와서 바로 신청했습니다.\\n받아보니 한달분으로 800mg. 60캡슐로 하루 2캡슐 섭취해야되네요. 혈중 중성지질개선, 혈행개선에 도움을 주는 EPA및DHA가 500mg, 항산화와 높은 혈압감소에 도움을 줄수 있는 코엔자임Q10이 90mg함유, 혈중 콜레스테롤 개선에 도움을 줄수 있는 홍국성분이 합류된 복합 레드오메가3제품입니다. 저는 엽산도 따로 챙겨먹고 있는데 120mg함유되어 있어서, 써큐시안 \\n먹을동안은 엽산은 먹지말아야겠네요. 가격은 비싸네요. 한달분 59000원입니다. 한달동안 부지런히 복용해보고 효과가 있으면 세트로 구입하는것이 경제적이겠군요. 혈압관리만 되어도 좋겠다는 마음으로 잘 복용해보겠습니다.^^\\n\\n신상리뷰단에 참여하여 파이토웨이로부터 무료로 제공받아 작성한 후기입니다.\\n더보기\\n상세보기\\n상세보기\\n상세보기\\n상세보기', '배송 빨라요 성능 성능이 뛰어나요 유통기한 기한이 넉넉해요\\n나이: 56세 \\n혈압:190/80 이 나와 걱정이 되어\\n네이버검색하다가 알게되어\\n3박스 구입하여 먹는중\\n혈압을 재보니까 \\n110/76이 나와서 너무기뻤습니다\\n\\n더내리고 싶고 관리도 해야하고 해서\\n3박스 더 주문하려고합니다\\n\\n상품에 대한 믿음이 생겼습니다.\\n콜레스테롤, 중성지방도 좋아질거라는 생각도 들고\\n이명도 생겼는데 혈액순환에 좋다고 하니\\n빨리 나아질거라고는 생각지 않아요\\n시간이 필요하다고 생각합니다\\n\\n6개월은 복용해야 좋아질거라 생각합니다~\\n추가 주문하고 후기 또 올릴께요^^~\\n더보기\\n상세보기\\n상세보기\\n상세보기\\n상세보기\\n더보기', '배송 빨라요 성능 성능이 뛰어나요 유통기한 기한이 넉넉해요\\n나이: 30대 중반\\n직업: 전문직(사무직) 한달치를 다 복용하고,\\n이제 두달째 먹고있습니다.\\n\\n한달후기같은거 귀찮아서\\n특별히 제품경험이 좋지않으면 잘 안쓰는데,\\n우선 제품이 너무 만족스러웠고,\\n혹시나 저같이 수족냉증 / 손발저림 증상이 있는 분이 드시면\\n좋을 것 같아서 같은증상으로 고생하시는 분들께 도움이 되기를 바라며 \\n후기를 작성합니다. \\n\\n저는 워낙 손발저림이 심하고\\n혈액순환이 잘 안되는 체질입니다. \\n고지혈 증상도 조금 있는편이구요.\\n\\n혈액순환이 잘 안되다보니 수족냉증도 특히 심한편입니다\\n(겨울에는 정말 너무 힘들어요..)\\n어느정도냐면 수족냉증이 심해\\n한여름에도 집에서 꼭 양말을 신거나 \\n덧신을 신고 생활할 정도입니다.\\n\\n게다가 사무실에서도 주로 움직임이 없이\\n앉아서 오래 일하다보니 붓기까지 더해져서\\n한 해 한 해 지날수록 점점 힘들더라구요.\\n\\n퇴근할 때 슬리퍼에서 신발로 갈아신을때\\n발이 부어서 꽉 끼는 느낌 공감하시려나요?ㅠㅠ\\n그러던중 검색을 통해서 써큐시안을 알게되었고 \\n\\n마침 지인추천도 받아서 복용하게되었습니다.\\n그런데 써큐시안 복용 하고 아직 두달째라\\n엄청 수치적인 개선이 되었다기보다 증상이 \\n개선이 된 점이 몸으로 느껴지고있어요. \\n\\n제가 워낙 혈액순환이 잘 안되어서 고생하는걸 아니까 \\n남편이 밤에 종종 발마사지를 해주는데,\\n예전엔 항상 발이 왜이렇게 차갑냐고 그러더니\\n언젠가부터 그런이야기 자체를 잘 안하더라구요.\\n\\n의식하고나서 생각해보니 일때문에 바빠서\\n운동도 잘 못하는 제가 생활패턴에서 변한게 있다면\\n써큐시안 복용 밖에 없는데,\\n수족냉증이나 손발저림 증상이 확실히 줄어든 것 같더라구요.\\n \\n효과가 눈에 슬슬 보이기 시작하니 더 꾸준히 복용해 보려고합니다.\\n혹시 집에서 약먹는거 깜빡할까봐\\n사무실에도 가져다놓고 부지런히 먹으려구요!\\n\\n손발저림, 수족냉증, 혈액순환 잘 안되어서\\n고민이신분들께 제 후기가 도움이 되면 좋겠습니다.\\n우리 모두 건강해져요!\\n더보기\\n상세보기\\n상세보기\\n상세보기\\n상세보기\\n더보기', '배송 빨라요 성능 성능이 뛰어나요 유통기한 기한이 넉넉해요\\n저는 고지혈증으로 약을 먹고 있어요. \\n\\n근데 고지혈증 약의 부작용이 \\n코엔자임 Q10의 합성을 막아 \\n체내 코엔자임 Q10 부족 현상을 \\n일으킨다고 하더라구요..\\n\\n더 큰 문제는 코엔자임 Q10은 \\n자동차 엔진의 시동을 도와주는 \\n점화 플러그 같은 역할을 하는데, \\n\\n코엔자임 Q10이 부족해지면 \\n자동차 엔진의 역할을 하는 \\n심장의 기능을 떨어뜨린다네요..ㅠㅠ\\n\\n그래서 심장의 근력이 떨어지고 \\n혈액을 뿜어내는 힘이 점점 약해진대요... \\n결국 혈액순환이 원활하지 않게 된다는데... \\n몰랐던 사실이라 너무 혼란스러웠어요....\\n\\n해결책은 코엔자임 Q10을 먹어줘서 \\n심장의 기능을 유지하는게 \\n중요하는 것이더라구요~!\\n\\n당장 코엔자임 Q10을 구매하려고 \\n여러 제품들을 비교해보다가\\n 써큐시안을 발견하게 되었어요!\\n\\n써큐시안에는 코엔자임 Q10 뿐만 아니라 \\n오메가3까지들어있어서 \\n중성지방 조절에도 효과가 있었거든요!\\n\\n또 콜레스테롤에 좋은 홍국 들어있어서 \\n나쁜 콜레스테롤인 LDL은 낮춰주고, \\n좋은 콜레스테롤인 HDL은 높여줬기 때문에 \\n고지혈증 조절에 도움이 될 거라 확신했어요!\\n\\n저는 고지혈증 약을 먹고 있긴하지만 \\n심각한 수치는 아니라서 \\n써큐시안을 고지혈증 약과 \\n병행해서 먹으면서 관리하려해요.\\n\\n나중에 수치가 떨어지고나면 \\n고지혈증 약은 끊고 \\n써큐시안으로만 관리하려고 합니다!\\n=============================\\n\\n지금 먹은지 3주짼데 \\n확실히 고지혈증 약만 먹었을때 보단 \\n전체적인 순환이 잘되는게 느껴지네요. \\n\\n좋은 제품 감사합니다~!\\n더보기\\n상세보기\\n상세보기\\n상세보기', '배송 빨라요 성능 성능이 뛰어나요 유통기한 기한이 넉넉해요\\n평소 혈압이 높고 혈액순환도\\n잘 안되는거 같아서 주문했어요.\\n먹은지 일주일짼데 확실히\\n다른 제품들보다 효과가 빨리오네요. \\n다리가 저려서 잠을 못잤는데\\n이거먹고 잠을 잘자요.\\n다 먹으면 재구매해야겠습니다.\\n3개 짜리가 훨씬 저렴하던데\\n3개짜리 살 걸 그랬어요.\\n강추입니다\\n더보기\\n상세보기', '배송 빨라요 성능 성능이 뛰어나요 유통기한 기한이 넉넉해요\\n이거 먹고 소변을 많이 보러 가요.\\n\\n순환이 안돼서 발도 잘 붓고,\\n\\n저녁에 집에오면 발목에 양말 자국이 \\n\\n깊게 남아있었는데, 그것도 사라졌어요.\\n\\n한달치 다 먹고나서 안먹으니 \\n\\n다시 화장실도 잘 못가고 발이 붓네요.\\n\\n건강을 위해 다시 주문합니다.\\n더보기\\n상세보기', '배송 빨라요 성능 보통이에요 유통기한 기한이 넉넉해요\\n아직 복용전이고 한달 후 후기 수정할 예정입니다\\n배송 깨끗하게 잘 도착했고\\n크기가 좀 크네요 \\n효과있기를 기대합니다.\\n상세보기', '배송 빨라요 성능 성능이 뛰어나요 유통기한 기한이 넉넉해요\\n나이가 들면서 혈압이 계속 올라가 걱정하다가\\n다른사람이 쓴 리뷰 보고 구매했어요\\n혈압이 150~160까지 올라갔는데 현재 148까지 내려와 계속 복용하고 있어요^^ \\n더좋은 상품 발견할때까지는 계속 복용할 예정입니다\\n병원가기 두려워 찾은 대안인데 좋은 결과 기대해봅니다 ^^', '배송 빨라요 성능 성능이 뛰어나요 유통기한 기한이 넉넉해요\\n아직은 잘 모르겠는데 먹다보면 좋아질거라믿고,열심히 먹어보겠습니다.효과있으면   \\n제구매할께요.', '배송 빨라요 성능 성능이 뛰어나요 유통기한 기한이 넉넉해요\\n타제품에 비해 가격대가 있긴하지만 상품평이 좋아서\\n기대해 봅니다', '유통기한 기한이 넉넉해요 포장상태 포장이 깔끔해요 효과 효과 좋아요\\n소문듣고 구매 했어요 \\n일단 한달분인데 봐서 3개월짜리 생각 중입니다', '배송 빨라요 성능 보통이에요 유통기한 보통이에요\\n제발효과가좋으면좋겠아요..', '유통기한 기한이 넉넉해요 포장상태 포장이 깔끔해요 효과 효과 좋아요', '유통기한 기한이 넉넉해요 포장상태 포장이 깔끔해요 효과 효과 좋아요', '유통기한 보통이에요 포장상태 보통이에요 효과 보통이에요', '유통기한 기한이 넉넉해요 포장상태 포장이 깔끔해요 효과 효과 좋아요', '유통기한 기한이 넉넉해요 포장상태 포장이 깔끔해요 효과 효과 좋아요', '배송 빨라요 성능 성능이 뛰어나요 유통기한 기한이 넉넉해요', '배송 빨라요', '배송 빨라요 성능 성능이 뛰어나요 유통기한 기한이 넉넉해요', '배송 빨라요 성능 성능이 뛰어나요 유통기한 기한이 넉넉해요', '배송 빨라요 성능 성능이 뛰어나요 유통기한 기한이 넉넉해요', '배송 빨라요 성능 성능이 뛰어나요 유통기한 기한이 넉넉해요', '배송 빨라요 성능 성능이 뛰어나요 유통기한 기한이 넉넉해요\\n괜찮네요~', '배송 빨라요 성능 성능이 뛰어나요 유통기한 기한이 넉넉해요', '배송 빨라요 성능 성능이 뛰어나요 유통기한 기한이 넉넉해요\\n계속 복용중요 .', '배송 빨라요 성능 성능이 뛰어나요 유통기한 기한이 넉넉해요\\n소화 ？？ 되어 좋아요', '배송 빨라요 성능 성능이 뛰어나요 유통기한 기한이 넉넉해요', '배송 보통이에요 성능 성능이 별로예요 유통기한 보통이에요\\n오른쪽 다리가 저려서 기넥신을 먹기 시작했고 4일쯤 후부터 다리 저림 사라졌는데, 이걸 먹기 시작한 후 15일 전후로 다리 저림 다시 시작됨. 개인적으로는 효과 제로, 0, 0, 0', '배송 보통이에요 성능 보통이에요 유통기한 기한이 넉넉해요\\n효과 보기를 기대합니다~', '배송 빨라요 성능 보통이에요 유통기한 기한이 넉넉해요', '배송 빨라요 성능 성능이 뛰어나요 유통기한 기한이 넉넉해요', '', '배송 빨라요 성능 성능이 뛰어나요 유통기한 기한이 넉넉해요', '배송 빨라요 성능 성능이 뛰어나요 유통기한 기한이 넉넉해요\\n잘받았고.매일복용중입니디', '배송 보통이에요 성능 성능이 뛰어나요 유통기한 기한이 넉넉해요', '배송 보통이에요 성능 보통이에요 유통기한 보통이에요', '배송 빨라요 성능 성능이 뛰어나요 유통기한 기한이 넉넉해요\\n좋아요', '배송 느려요 성능 보통이에요 유통기한 보통이에요', '배송 보통이에요 성능 보통이에요 유통기한 보통이에요', '배송 보통이에요 성능 보통이에요 유통기한 보통이에요', '배송 빨라요 성능 보통이에요 유통기한 기한이 넉넉해요']\n"
     ]
    }
   ],
   "source": [
    "# 전체 리뷰에서 내용만 가져오기 \n",
    "# Function to find the total number of reviews on the web page\n",
    "def find_total_reviews():\n",
    "    # Replace this part with your actual code to find the total number of reviews\n",
    "    # Here, we'll use a hardcoded example to count the reviews\n",
    "    review_elements = browser.find_elements_by_css_selector('#review-list-page-area dl')\n",
    "    total_reviews = len(review_elements)\n",
    "    return total_reviews\n",
    "\n",
    "# Initialize the list to store the extracted review writers\n",
    "review_contents = []\n",
    "\n",
    "# Find the total number of available reviews\n",
    "total_reviews = find_total_reviews()\n",
    "\n",
    "# Initialize variables for ul and li indices\n",
    "ul_index = 1\n",
    "li_index = 1\n",
    "\n",
    "# Loop to extract review dates for all available reviews\n",
    "for i in range(1, total_reviews + 1):  # Loop from 1 to the total number of reviews\n",
    "   # Construct the CSS selectors  \n",
    "    css_selector_content = f'#review-list-page-area > ul:nth-child({ul_index}) > li:nth-child({li_index}) > div > div'\n",
    "       \n",
    "   # Attempt to find the element using the CSS selector\n",
    "    try:\n",
    "        review_content = browser.find_element_by_css_selector(css_selector_content).text\n",
    "        review_contents.append(review_content)  \n",
    "    except:\n",
    "        # If the element is not found, break out of the loop\n",
    "        break\n",
    "\n",
    "    # Update ul and li indices based on the pattern you described\n",
    "    if li_index == 10:\n",
    "        ul_index += 1\n",
    "        li_index = 1\n",
    "    else:\n",
    "        li_index += 1\n",
    "\n",
    "# Now, review_dates contains the extracted review dates for all available reviews\n",
    "print(review_contents)"
   ]
  },
  {
   "cell_type": "code",
   "execution_count": 37,
   "id": "795c0b00-ccf9-4b16-9e2b-db7a90c3cbe9",
   "metadata": {
    "collapsed": true,
    "jupyter": {
     "outputs_hidden": true,
     "source_hidden": true
    },
    "tags": []
   },
   "outputs": [
    {
     "data": {
      "text/plain": [
       "[['일단 리뷰보고~총콜레스테롤이높아서일단평이높아서사봤어요~한달먹구~또구매하고 석달은먹어봐야한다구해서~복용을해보고~다시리뷰를작성할께요~',\n",
       "  '2023.08.03',\n",
       "  '4',\n",
       "  'mbk0***'],\n",
       " ['배송 빨라요 성능 성능이 뛰어나요 유통기한 기한이 넉넉해요\\n처음 먹어보지만 몇일사이 복용해본 결과로는 느낌이 좋습니다',\n",
       "  '2021.12.22',\n",
       "  '5',\n",
       "  'kss4***'],\n",
       " ['배송 빨라요 성능 성능이 뛰어나요 유통기한 기한이 넉넉해요\\n오메가3는 rtg오메가3부터 오메가3가 포함된 루테인 아스타잔틴까지 오래 전부터 꾸준히 섭취해왔던 영양제입니다.\\n얼마 전 TV건강 프로그램에서 LDL콜레스테롤과 중성지방 수치가 높게 나타난 사람들을 대상으로 오메가3를 6개월 동안 매일 섭취하도록 했더니 체내 LDL콜레스테롤과 중성지방 수치가 모두 46% 감소했다는 연구 결과를 보고나서 혈액순환의 중요성과 오메가3와 혈액순환의 관계에 대해서 자세히 알게되는 배경이 되었습니다.\\n오메가3 성분에 대해서 조사하던 중 기존에 먹고 있던 식물성 오메가3는 혈행개선은 되지만 혈압과 콜레스테롤 수치를 개선하지 못한다는 사실을 알게되었습니다.\\n오메가3 제품 중에 괜찮은 제품을 선정하던 중에 체험상품 목록에 써큐시안 레드오메가3 제품을 알게되었고, 이 제품은 기존에 섭취하던 제품과는 다르게 혈행개선과 혈압개선, 그리고 콜레스테롤 개선 및 혈액 생성까지 해준다는 것을 보고 레드오메가3의 블러드케어를 한 번 체험해보고 싶다는 생각이 들었습니다.\\n다행히 체험상품을 신청하였고, 보름 정도 먹어봤는데, 빈혈도 평소보다 줄어들었고, 무엇보다 머리가 아프지 않더라고요.\\n이거 먹은 다음부터는 피곤하지도 않고, 오래 깨어있어도 체력이 버텨주는 기분이 들더라고요.\\n하루에 2번 복용하는데, 갯수가 점점 줄어드는 것을 보면 아쉬운 마음이 들긴 하더라고요.\\n제품은 진짜 너무 만족스럽습니다.\\n성분에서부터 정성이 느껴질 정도입니다.\\n어떠한 사람들이 먹으면 좋을까 고민해봤는데, 아무래도 혈관 질환을 갖고 계신 분들이 드셔보셨으면 하는 바람입니다.\\n\\n신상리뷰단에 참여하여 파이토웨이로부터 무료로 제공받아 작성한 후기입니다.\\n더보기\\n상세보기\\n상세보기\\n상세보기\\n상세보기\\n더보기',\n",
       "  '2021.12.15',\n",
       "  '5',\n",
       "  '현HyunArchive'],\n",
       " ['배송 빨라요 성능 성능이 뛰어나요 유통기한 기한이 넉넉해요\\n신상리뷰탄에참여하여 써큐시안제품리뷰입니다 저는 알티지오메가를1년이상먹고있고요 고지혈증약도6개월째먹고있는데요 몇일전부터 뒤통수도땡기고 두통도있고 가슴도엄청벌렁거려서 심장내과에서진료받고약도먹고있는데요 개인적으로 술도많이먹는편이여서 쫌 걱정도되는과정에 인터넷에서 우연이 보게된 써큐시안을 알게되었는데 상품신청할때 이제품이있어서 너무 좋았네요 우연히 방송에서 오메가만먹을시 당뇨환자일경우 당이 더 높아질수도있다고 들었던거같애요 그래서 코엔자임Q10과 홍국을같이 섭취했을시 훨씬 효과가좋다고들었는데요 저도 치료를위해서 제품을찾던중 오메가와 홍국 코엔자임Q10 이세가지조합이 있는제품이 바로 써큐시안 홍국은 혈중 콜레스테를개선에도움을주고 코에자임은항산화높은 혈압감소에도움을준다네요 아연과 비타민 엽산까지 함유되어있고요 색은검정색인지아니면 아주진한 자주빛이나고요 지금5일째먹고있는데 건강해진느낌 어지러움도 조금덜하고 두통도 조금 덜한거같애요 한달섭취해보고 신랑이랑같이 먹어야겠어요 조금 아쉬운건 가격이 조금 부담이되긴합니다 조금 할인행사를 해줬으면좋겠어요\" 섭취후기\" 지금 2주째 먹고있는데요 뒷꼴땡기는게 없어졌네요 술먹고나면 뒷꼴이땡겼는데 써큐시안을 먹고나서 현재 손저림이나 두통이 없어졌어요 적극추천합니다\\n더보기\\n상세보기\\n상세보기\\n상세보기',\n",
       "  '2021.12.09',\n",
       "  '5',\n",
       "  'wltn**'],\n",
       " ['배송 빨라요 성능 성능이 뛰어나요 유통기한 기한이 넉넉해요\\n신상리뷰단에 참여하여 파이토웨이로부터 써큐시안을 무료로 제공받아 작성한 후기입니다.\\n\\n오메가3는 몇년전부터 꾸준히 섭취하고 있었고 해외제품, 국내제품 골고루 먹다가 성분좋은 오메가3를 찾던 중 체험상품에 써큐시안이 있어 신청하게 되었습니다. 어류에서 추출한 오메가3보다 식물성 오메가3가 가격이 더 비싸고 DHA함유량이 EPA함유량보다 높은데 문의했을때 써큐시안도 DHA함유량이 492mg정도 들어 있더라구요. 그리고 요새 먹는 약때문에 혈압이 약간 높아져서 신경쓰이던 찰나에 혈압감소에 도움을 주는 코큐텐도 90mg함유되어있고 콜레스테롤 감소에 효과적인 홍국도 함유되어 있어 따로 코큐텐을 챙겨 먹지 않아도 되어 좋았습니다. 그 외  엽산이나 비타민A등도 들어있어 영양제 따로 먹지 않는 분들에겐 좋을 것 같은데 종합영양제 복용중이면 이중섭취가 될 수 있다는 점은 호불호가 갈릴수도 있을거같아요~ 그리고 체내흡수에 용이한 알티지 형태인것은  장점이네요. 다른 오메가3보다 가격이 비싸긴하지만 식물성이고 코큐텐, 홍국등이 첨가되어 있기때문에 효과가 더 좋을 것이라고 생각됩니다. 오메가3 섭취하고 건강하게 지내고 싶네요!\\n더보기\\n상세보기\\n상세보기\\n상세보기\\n상세보기\\n더보기',\n",
       "  '2021.12.02',\n",
       "  '5',\n",
       "  '나에겐좋은날만'],\n",
       " ['배송 빨라요 성능 성능이 뛰어나요 유통기한 기한이 넉넉해요\\n[신상리뷰단에 참여하여 파이토웨이로부터 무료로 제공받아 작성한 후기입니다] \\n\\n오메가3 좋은건 이 글을 보는 사람들을 다 아시리라 믿어요! 영양제 중에서도 진짜 꼭 먹어야 한다는게 오메가3라서 이 회사꺼 저 회사꺼 많이 먹어 봤는데 써큐시안은 제가 먹어본 오메가3 중 가장 독특한것 같아요~ \\n\\n●효과● 제가 몸의 변화에 둔한 편이기도 하고 원래 영양제 자체를 안 먹는 것 보단 낫겠지 싶어 플라시보 효과라도 얻으려고 먹는 사람입니다. 솔직히 써큐시안 레드오메가3를 먹고 아직까지는 큰 변화 없어요. 체험분이 한 박스라서 어떤 변화가 일어나기도 전에 다 먹을 것 같은데 그래도 다른 오메가3에 비해 순도도 높고 엽산, 아연 같은 다른 영양소도 들어가 있어서 작은 기대는 하고 있어요. 타 회사 오메가3는 보통 비타민D가 오메가3랑 같이 있던데 여기는 더 다양하고 많은 영양이 들어가 있어 만족스러워요. 특히 아연이 여드름에 좋다던데 요즘 마스크 때문에 여드름으로 고생 중이라 오메가3로 함께 섭취 할 수 있어서 기쁩니다. \\n\\n●용량+ 모양● 하루 2알 먹는게 조금 불편해요ㅠㅠ 보통 크기가 작으면 2알 먹던데 여기는 크기는 일반 오메가3(성인 손가락 한 마디 정도)인데 한번에 두 알씩 먹어야 하니 생각보다 목 넘길때 부담이 조금 돼요ㅠㅠ\\n색깔은 진짜 오메가3가 맞나 싶을 정도로 처음보는 검은색에 가까운 불투명 한 타원형 형태이고 낯설긴 한데 약이니까 그냥 먹어요. 냄새는 신기하게 비린 냄새보단 뭔가 한약?같은 비슷한 냄새가 나서 비린 냄새 때문에 오메가3 싫어하시는 분들은 잘 드실 수 있을것 같아요. \\n\\n●가격+ 포장● 처음 보는 회사의 오메가3인데 좀 비싼것 같아요. 좋은 것만 엄선해서 넣은 것 같긴 한데 부담스러운 가격에 구매가...\\n포장은 환경이 걱정이지만, 개별 포장이라 늘 신선하게 안심하고 먹을 수 있고 가지고 다니기 편해서 좋아요. 눈에 잘 띄는 빨간색 포장도 예쁘고 상품과 함께 들어있던 대표와 신입 사원의 진심어린 편지가 들어있어 조금 감동했어요! 수많은 영양제를 구입 했었지만 이런 회사는 처음 봅니다. 친필 편지까지는 아니라 전단지 한장에 불과하다고 느끼시는 분도 계시겠지만 전 신기하고 제품을 다시 한번 들여다 보게 되는것 같아요. \\n\\n●배송● 초록초록 한 상자에 담겨 파손 없이 빠르게 집까지 잘 도착했어요!\\n더보기\\n상세보기\\n상세보기\\n상세보기\\n상세보기\\n더보기',\n",
       "  '2021.12.19',\n",
       "  '4',\n",
       "  '마오마오미'],\n",
       " ['배송 빨라요 성능 성능이 뛰어나요 유통기한 기한이 넉넉해요\\n나이가 40대인지라  고질병이  있다는걸  알기  전부터 몸에  좋다고해서  오메가3는  꾸준히  챙겨먹고있었어요. 1년전쯤  고지혈증  진단후  좀  더  신경써서  먹고있어요.\\n평소  알티지.식물성.장용성.초임계가 좋다고  알고있어서  그것만  신경써서  구입했었는데  요 써큐시안 오메가3는 제가 몰랐던  좋은성분도  들어가있더라구여. 그래서  그런지  1박스 가격이  싼편은  아니더라구여. 1일 1회 2알 먹는데  전 목구멍이 큰지 알이 큰편인지 모르게  잘  넘어가네요.ㅎㅎ 써큐시안  레드 오메가3는 혈압감소에 좋은  코큐텐이 함류되어있고 콜레스테롤에  좋은 홍국이 합류되어있대요. 사실  홍국이라는것도  첨  들어보는데  좋은성분이더라구여. \\n나이들수록 몸에 좋은 영양제 꼭  챙겨 먹어야하는건  다들  아실테고 지병이  있던없던  오메가3는 필수 영양제에요. 싼거 많이먹을바엔  좋은거 하나먹는게  좋다는말도 있잖아요. 좋은 오메가3  드시고  건강도  챙기세요.  감사히  잘 먹겠습니다.\\n\\n신상리뷰단에  참여하여 파이토웨이로부터 무료로  제공받아 작성한후기입니다.\\n더보기\\n상세보기\\n상세보기\\n상세보기\\n상세보기',\n",
       "  '2021.12.13',\n",
       "  '5',\n",
       "  '뽀담02'],\n",
       " ['배송 빨라요 성능 성능이 뛰어나요 유통기한 기한이 넉넉해요\\n50대 후반이고 현재 고혈압약을 복용하고 있는 남편이 몇 달 전부터 가끔 다리저림 현상이 있다고 시중에 나온 은행추출물 혈액순환개선제를 좀 사달라고 해서 인터넷 검색 중 우연히 알게 된 블러드케어 써큐시안!!! 입니다.\\n\\n사실은 먹기 시작한지 한 3~4개월쯤 된거 같은데 지금은 거의 다리저림 현상이 없어졌고 해서 써큐시안이 진짜 효험이 있구나 생각했고 그래서 요즘은 저도 같이 먹고 있답니다. \\n\\n그런데 가격이 꽤 있는 편이라 남편은 매일 복용하고 있고 저는 주 2~3회 정도 먹고 있어요~~(저는 혈압은 괜찮으나 약간 경계선 정도이며 50대 후반 )\\n\\n써큐시안 제품은 확실히 좋은데 가격이 좀 쎈게 흠이라면 흠인데~ 대표님~!!!\\n국민건강증진을 위해 애국하는 마음으로 가격 조금만 낮춰 주시면 안될까요?? ㅎㅎ\\n저도 꾸준히 한번 먹어보고 싶어서요~~~^^\\n\\n그리고 좋은 제품 소비자가 꾸준히 믿고 먹을 수 있게 \\n계속 잘 만들어 주시고 승승장구 번창하시길 기원드립니다.\\n\\n신상리뷰단에 참여하여 파이토웨이로부터 써큐시안을 무료로 제공받아 작성한 후기입니다.\\n더보기\\n상세보기\\n상세보기\\n상세보기\\n상세보기\\n더보기',\n",
       "  '2021.12.18',\n",
       "  '5',\n",
       "  '키키'],\n",
       " ['배송 빨라요 성능 성능이 뛰어나요 유통기한 기한이 넉넉해요\\n신상 리뷰단에 참여하여 파이토 웨이로부터 \\n써큐시안 레드오메가 3 초임계 식물성 알티지 홍국+코큐텐 혈관 복합 관리 11중 복합 기능성 1개를 무료로 제공받아 작성한 후기입니다.\\n\\n● 총평 : 개인적으로 고지혈증 약을 복용하고 있어서 효능을 기대하며 복용 중입니다.\\n내돈내산 하고 싶을 만큼 만족스럽게 복용하고 있습니다.\\n\\n1. 1일 2정 섭취로,\\n* 콜레스테롤, 혈압, 혈행 개선\\n* 오메가3, 코엔자임 Q10, 홍국 주원료\\n* 11주 이 복합 기능성 내용, \\n대한민국 식약처 인증 6가지 주원료를 모두 흡수할 수 있어서 복용하기 간편합니다.\\n\\n2. 우수 건강 기능 식품 제조 기준인 [GMP 인증]\\n시설에서 생산되어 안심이 됩니다.\\n\\n3. 안전한 PTP 포장이라 위생적입니다.\\n\\n4. 기존에 복용했던 오메가3 에 비해\\n알약이 작은 편이라 복용하기 좋습니다.\\n\\n5. 단점을 굳이 꼽자면, 가격이 저렴하지는 않은 듯합니다.\\n더보기\\n상세보기\\n상세보기\\n상세보기',\n",
       "  '2021.12.18',\n",
       "  '5',\n",
       "  '성원마눌'],\n",
       " ['배송 빨라요 성능 성능이 뛰어나요 유통기한 기한이 넉넉해요\\n나이가 늘어나면서 점점 건강에 대한 관심도 함께 늘어갑니다. 음식을 조절해서 먹고 식단을 하는 것도 한계가 있다고 생각이 들어 여러가지 약을 찾아봤습니다. \\n그러다가 찾게 된 써큐시안 블러드케어! 콜레스테롤을 낮춰주는 기능이 있다네요~ 콜레스테롤을 낮추려고 채소만 먹을수도 없고ㅎㅎ 전 고기를 무척이나 사랑하는 사람으로 식단만으로 불가능하여..이 기회에 써큐시안을 섭취해보기로 했습니다!\\n가끔 오메가3를 먹고 나면 비릿내가 올라오는걸 참을 수 없었는데 혈액건강 이제라도 열심히 챙기는 중입니다.\\n1일 1회 2캡슐만 먹으면 되서 식사 후에 꿀꺽하면 끝! 섭취방법도 어렵지 않고 아주 만족스럽네요. 요즘같이 건강이 제일 최고라는 생각이 들 때 써큐시안 블러드케어까지 섭취하게되었네요ㅎㅎ시기도 딱 잘 맞죠ㅎㅎ\\n신상리뷰단에 참여하여 파이토웨이로부터 무료로 제공받아 작성한 후기입니다.\\n더보기\\n상세보기\\n상세보기\\n상세보기',\n",
       "  '2021.12.19',\n",
       "  '5',\n",
       "  'smb2**'],\n",
       " ['배송 빨라요 성능 성능이 뛰어나요 유통기한 기한이 넉넉해요\\n요즘 초임계 RTG 오메가3 만 알다가 써큐시안 블러드 케어 레드오메가3를 알게 되었어요\\n이 제품은 혈행 관리, 혈압, 콜레스테롤관리를 한 번에 하는 제품이라고 들었어요\\n1200 시간 발효한 홍국과 식물성오메가3 주원료로 이 제품 역시 저온초임계 추출 방식이라고 알고 있어요 거기다 12가지 부원료와 식약처 인증을 받은 제품이라 안심하고 먹을 수 있어요 \\n배송은 무척 빨리 왔고 포장도 꼼꼼하게 되어있고 대표자분께서 가족이 먹는다는 생각으로 제품을 개발, 생산한다는 느낌을 받았어요 같이 온 팜플렛에 진심이 느껴지는 편지까지\\n가족 모두 믿고 섭취할 수 있는 그런 제품이에요\\n\\n신성 리뷰단에 참여하여 파이토웨이로부터 무료로 제공받아 작성한 후기입니다\\n더보기\\n상세보기\\n상세보기\\n상세보기',\n",
       "  '2021.12.10',\n",
       "  '5',\n",
       "  '냔냐'],\n",
       " ['배송 빨라요 성능 성능이 뛰어나요 유통기한 기한이 넉넉해요\\n나이 50대중반이 되니 몸이 신호를 보내는군요. 노안이 와서 루테인 지아잔틴 아스타잔틴 성분이 들어간 영양제를 먹고 있긴하지만 혈압도 높아지고 콜레스테롤 수치도 올라가서 좀 걱정이 되더라구요.\\n오메가3제품을 먹어볼까 하던중 신상리뷰단 상품에 써큐시안 제품이 눈에 들어와서 바로 신청했습니다.\\n받아보니 한달분으로 800mg. 60캡슐로 하루 2캡슐 섭취해야되네요. 혈중 중성지질개선, 혈행개선에 도움을 주는 EPA및DHA가 500mg, 항산화와 높은 혈압감소에 도움을 줄수 있는 코엔자임Q10이 90mg함유, 혈중 콜레스테롤 개선에 도움을 줄수 있는 홍국성분이 합류된 복합 레드오메가3제품입니다. 저는 엽산도 따로 챙겨먹고 있는데 120mg함유되어 있어서, 써큐시안 \\n먹을동안은 엽산은 먹지말아야겠네요. 가격은 비싸네요. 한달분 59000원입니다. 한달동안 부지런히 복용해보고 효과가 있으면 세트로 구입하는것이 경제적이겠군요. 혈압관리만 되어도 좋겠다는 마음으로 잘 복용해보겠습니다.^^\\n\\n신상리뷰단에 참여하여 파이토웨이로부터 무료로 제공받아 작성한 후기입니다.\\n더보기\\n상세보기\\n상세보기\\n상세보기\\n상세보기',\n",
       "  '2021.12.04',\n",
       "  '5',\n",
       "  'hits**'],\n",
       " ['배송 빨라요 성능 성능이 뛰어나요 유통기한 기한이 넉넉해요\\n나이: 56세 \\n혈압:190/80 이 나와 걱정이 되어\\n네이버검색하다가 알게되어\\n3박스 구입하여 먹는중\\n혈압을 재보니까 \\n110/76이 나와서 너무기뻤습니다\\n\\n더내리고 싶고 관리도 해야하고 해서\\n3박스 더 주문하려고합니다\\n\\n상품에 대한 믿음이 생겼습니다.\\n콜레스테롤, 중성지방도 좋아질거라는 생각도 들고\\n이명도 생겼는데 혈액순환에 좋다고 하니\\n빨리 나아질거라고는 생각지 않아요\\n시간이 필요하다고 생각합니다\\n\\n6개월은 복용해야 좋아질거라 생각합니다~\\n추가 주문하고 후기 또 올릴께요^^~\\n더보기\\n상세보기\\n상세보기\\n상세보기\\n상세보기\\n더보기',\n",
       "  '2021.11.06',\n",
       "  '5',\n",
       "  'sodk******'],\n",
       " ['배송 빨라요 성능 성능이 뛰어나요 유통기한 기한이 넉넉해요\\n나이: 30대 중반\\n직업: 전문직(사무직) 한달치를 다 복용하고,\\n이제 두달째 먹고있습니다.\\n\\n한달후기같은거 귀찮아서\\n특별히 제품경험이 좋지않으면 잘 안쓰는데,\\n우선 제품이 너무 만족스러웠고,\\n혹시나 저같이 수족냉증 / 손발저림 증상이 있는 분이 드시면\\n좋을 것 같아서 같은증상으로 고생하시는 분들께 도움이 되기를 바라며 \\n후기를 작성합니다. \\n\\n저는 워낙 손발저림이 심하고\\n혈액순환이 잘 안되는 체질입니다. \\n고지혈 증상도 조금 있는편이구요.\\n\\n혈액순환이 잘 안되다보니 수족냉증도 특히 심한편입니다\\n(겨울에는 정말 너무 힘들어요..)\\n어느정도냐면 수족냉증이 심해\\n한여름에도 집에서 꼭 양말을 신거나 \\n덧신을 신고 생활할 정도입니다.\\n\\n게다가 사무실에서도 주로 움직임이 없이\\n앉아서 오래 일하다보니 붓기까지 더해져서\\n한 해 한 해 지날수록 점점 힘들더라구요.\\n\\n퇴근할 때 슬리퍼에서 신발로 갈아신을때\\n발이 부어서 꽉 끼는 느낌 공감하시려나요?ㅠㅠ\\n그러던중 검색을 통해서 써큐시안을 알게되었고 \\n\\n마침 지인추천도 받아서 복용하게되었습니다.\\n그런데 써큐시안 복용 하고 아직 두달째라\\n엄청 수치적인 개선이 되었다기보다 증상이 \\n개선이 된 점이 몸으로 느껴지고있어요. \\n\\n제가 워낙 혈액순환이 잘 안되어서 고생하는걸 아니까 \\n남편이 밤에 종종 발마사지를 해주는데,\\n예전엔 항상 발이 왜이렇게 차갑냐고 그러더니\\n언젠가부터 그런이야기 자체를 잘 안하더라구요.\\n\\n의식하고나서 생각해보니 일때문에 바빠서\\n운동도 잘 못하는 제가 생활패턴에서 변한게 있다면\\n써큐시안 복용 밖에 없는데,\\n수족냉증이나 손발저림 증상이 확실히 줄어든 것 같더라구요.\\n \\n효과가 눈에 슬슬 보이기 시작하니 더 꾸준히 복용해 보려고합니다.\\n혹시 집에서 약먹는거 깜빡할까봐\\n사무실에도 가져다놓고 부지런히 먹으려구요!\\n\\n손발저림, 수족냉증, 혈액순환 잘 안되어서\\n고민이신분들께 제 후기가 도움이 되면 좋겠습니다.\\n우리 모두 건강해져요!\\n더보기\\n상세보기\\n상세보기\\n상세보기\\n상세보기\\n더보기',\n",
       "  '2021.11.08',\n",
       "  '5',\n",
       "  'gaeu*****'],\n",
       " ['배송 빨라요 성능 성능이 뛰어나요 유통기한 기한이 넉넉해요\\n저는 고지혈증으로 약을 먹고 있어요. \\n\\n근데 고지혈증 약의 부작용이 \\n코엔자임 Q10의 합성을 막아 \\n체내 코엔자임 Q10 부족 현상을 \\n일으킨다고 하더라구요..\\n\\n더 큰 문제는 코엔자임 Q10은 \\n자동차 엔진의 시동을 도와주는 \\n점화 플러그 같은 역할을 하는데, \\n\\n코엔자임 Q10이 부족해지면 \\n자동차 엔진의 역할을 하는 \\n심장의 기능을 떨어뜨린다네요..ㅠㅠ\\n\\n그래서 심장의 근력이 떨어지고 \\n혈액을 뿜어내는 힘이 점점 약해진대요... \\n결국 혈액순환이 원활하지 않게 된다는데... \\n몰랐던 사실이라 너무 혼란스러웠어요....\\n\\n해결책은 코엔자임 Q10을 먹어줘서 \\n심장의 기능을 유지하는게 \\n중요하는 것이더라구요~!\\n\\n당장 코엔자임 Q10을 구매하려고 \\n여러 제품들을 비교해보다가\\n 써큐시안을 발견하게 되었어요!\\n\\n써큐시안에는 코엔자임 Q10 뿐만 아니라 \\n오메가3까지들어있어서 \\n중성지방 조절에도 효과가 있었거든요!\\n\\n또 콜레스테롤에 좋은 홍국 들어있어서 \\n나쁜 콜레스테롤인 LDL은 낮춰주고, \\n좋은 콜레스테롤인 HDL은 높여줬기 때문에 \\n고지혈증 조절에 도움이 될 거라 확신했어요!\\n\\n저는 고지혈증 약을 먹고 있긴하지만 \\n심각한 수치는 아니라서 \\n써큐시안을 고지혈증 약과 \\n병행해서 먹으면서 관리하려해요.\\n\\n나중에 수치가 떨어지고나면 \\n고지혈증 약은 끊고 \\n써큐시안으로만 관리하려고 합니다!\\n=============================\\n\\n지금 먹은지 3주짼데 \\n확실히 고지혈증 약만 먹었을때 보단 \\n전체적인 순환이 잘되는게 느껴지네요. \\n\\n좋은 제품 감사합니다~!\\n더보기\\n상세보기\\n상세보기\\n상세보기',\n",
       "  '2021.11.08',\n",
       "  '5',\n",
       "  'juhe******'],\n",
       " ['배송 빨라요 성능 성능이 뛰어나요 유통기한 기한이 넉넉해요\\n평소 혈압이 높고 혈액순환도\\n잘 안되는거 같아서 주문했어요.\\n먹은지 일주일짼데 확실히\\n다른 제품들보다 효과가 빨리오네요. \\n다리가 저려서 잠을 못잤는데\\n이거먹고 잠을 잘자요.\\n다 먹으면 재구매해야겠습니다.\\n3개 짜리가 훨씬 저렴하던데\\n3개짜리 살 걸 그랬어요.\\n강추입니다\\n더보기\\n상세보기',\n",
       "  '2021.11.06',\n",
       "  '5',\n",
       "  '1452*************'],\n",
       " ['배송 빨라요 성능 성능이 뛰어나요 유통기한 기한이 넉넉해요\\n이거 먹고 소변을 많이 보러 가요.\\n\\n순환이 안돼서 발도 잘 붓고,\\n\\n저녁에 집에오면 발목에 양말 자국이 \\n\\n깊게 남아있었는데, 그것도 사라졌어요.\\n\\n한달치 다 먹고나서 안먹으니 \\n\\n다시 화장실도 잘 못가고 발이 붓네요.\\n\\n건강을 위해 다시 주문합니다.\\n더보기\\n상세보기',\n",
       "  '2021.11.08',\n",
       "  '5',\n",
       "  'wjdd******'],\n",
       " ['배송 빨라요 성능 보통이에요 유통기한 기한이 넉넉해요\\n아직 복용전이고 한달 후 후기 수정할 예정입니다\\n배송 깨끗하게 잘 도착했고\\n크기가 좀 크네요 \\n효과있기를 기대합니다.\\n상세보기',\n",
       "  '2021.07.05',\n",
       "  '3',\n",
       "  '우비소녀80'],\n",
       " ['배송 빨라요 성능 성능이 뛰어나요 유통기한 기한이 넉넉해요\\n나이가 들면서 혈압이 계속 올라가 걱정하다가\\n다른사람이 쓴 리뷰 보고 구매했어요\\n혈압이 150~160까지 올라갔는데 현재 148까지 내려와 계속 복용하고 있어요^^ \\n더좋은 상품 발견할때까지는 계속 복용할 예정입니다\\n병원가기 두려워 찾은 대안인데 좋은 결과 기대해봅니다 ^^',\n",
       "  '2022.11.05',\n",
       "  '4',\n",
       "  'yjs0*****'],\n",
       " ['배송 빨라요 성능 성능이 뛰어나요 유통기한 기한이 넉넉해요\\n아직은 잘 모르겠는데 먹다보면 좋아질거라믿고,열심히 먹어보겠습니다.효과있으면   \\n제구매할께요.',\n",
       "  '2022.10.06',\n",
       "  '5',\n",
       "  'jisu*****'],\n",
       " ['배송 빨라요 성능 성능이 뛰어나요 유통기한 기한이 넉넉해요\\n타제품에 비해 가격대가 있긴하지만 상품평이 좋아서\\n기대해 봅니다',\n",
       "  '2021.12.11',\n",
       "  '5',\n",
       "  'kkdb****'],\n",
       " ['유통기한 기한이 넉넉해요 포장상태 포장이 깔끔해요 효과 효과 좋아요\\n소문듣고 구매 했어요 \\n일단 한달분인데 봐서 3개월짜리 생각 중입니다',\n",
       "  '2023.04.25',\n",
       "  '5',\n",
       "  'time*****'],\n",
       " ['배송 빨라요 성능 보통이에요 유통기한 보통이에요\\n제발효과가좋으면좋겠아요..',\n",
       "  '2021.07.15',\n",
       "  '4',\n",
       "  'prin********'],\n",
       " ['유통기한 기한이 넉넉해요 포장상태 포장이 깔끔해요 효과 효과 좋아요', '2023.09.05', '5', 'knso******'],\n",
       " ['유통기한 기한이 넉넉해요 포장상태 포장이 깔끔해요 효과 효과 좋아요', '2023.05.16', '5', 'skdl********'],\n",
       " ['유통기한 보통이에요 포장상태 보통이에요 효과 보통이에요', '2023.04.11', '4', 'bret****'],\n",
       " ['유통기한 기한이 넉넉해요 포장상태 포장이 깔끔해요 효과 효과 좋아요', '2023.02.03', '5', 'rlaw******'],\n",
       " ['유통기한 기한이 넉넉해요 포장상태 포장이 깔끔해요 효과 효과 좋아요', '2023.01.22', '5', 'mylj****'],\n",
       " ['배송 빨라요 성능 성능이 뛰어나요 유통기한 기한이 넉넉해요', '2022.09.27', '5', 'narc***'],\n",
       " ['배송 빨라요', '2022.09.02', '5', 'hawj****'],\n",
       " ['배송 빨라요 성능 성능이 뛰어나요 유통기한 기한이 넉넉해요', '2022.06.01', '5', 'uuee****'],\n",
       " ['배송 빨라요 성능 성능이 뛰어나요 유통기한 기한이 넉넉해요', '2022.04.13', '4', 'wjdl*****'],\n",
       " ['배송 빨라요 성능 성능이 뛰어나요 유통기한 기한이 넉넉해요', '2022.04.03', '5', 'k181****'],\n",
       " ['배송 빨라요 성능 성능이 뛰어나요 유통기한 기한이 넉넉해요', '2021.12.10', '5', 'rlax******'],\n",
       " ['배송 빨라요 성능 성능이 뛰어나요 유통기한 기한이 넉넉해요\\n괜찮네요~', '2021.12.07', '5', 'skdi****'],\n",
       " ['배송 빨라요 성능 성능이 뛰어나요 유통기한 기한이 넉넉해요', '2021.12.06', '5', 'hae3***'],\n",
       " ['배송 빨라요 성능 성능이 뛰어나요 유통기한 기한이 넉넉해요\\n계속 복용중요 .', '2021.11.18', '5', 'ju66***'],\n",
       " ['배송 빨라요 성능 성능이 뛰어나요 유통기한 기한이 넉넉해요\\n소화 ？？ 되어 좋아요',\n",
       "  '2021.11.15',\n",
       "  '5',\n",
       "  'ju66***'],\n",
       " ['배송 빨라요 성능 성능이 뛰어나요 유통기한 기한이 넉넉해요', '2021.11.11', '5', 'ujmk*****'],\n",
       " ['배송 보통이에요 성능 성능이 별로예요 유통기한 보통이에요\\n오른쪽 다리가 저려서 기넥신을 먹기 시작했고 4일쯤 후부터 다리 저림 사라졌는데, 이걸 먹기 시작한 후 15일 전후로 다리 저림 다시 시작됨. 개인적으로는 효과 제로, 0, 0, 0',\n",
       "  '2021.10.31',\n",
       "  '2',\n",
       "  'seol*****'],\n",
       " ['배송 보통이에요 성능 보통이에요 유통기한 기한이 넉넉해요\\n효과 보기를 기대합니다~',\n",
       "  '2021.08.23',\n",
       "  '4',\n",
       "  'jel1**'],\n",
       " ['배송 빨라요 성능 보통이에요 유통기한 기한이 넉넉해요', '2021.08.22', '5', '나는,꽃'],\n",
       " ['배송 빨라요 성능 성능이 뛰어나요 유통기한 기한이 넉넉해요', '2021.08.22', '5', '나는,꽃'],\n",
       " ['', '2021.07.29', '5', 'whcn********'],\n",
       " ['배송 빨라요 성능 성능이 뛰어나요 유통기한 기한이 넉넉해요', '2021.07.28', '4', 'tjdd*******'],\n",
       " ['배송 빨라요 성능 성능이 뛰어나요 유통기한 기한이 넉넉해요\\n잘받았고.매일복용중입니디',\n",
       "  '2021.07.26',\n",
       "  '4',\n",
       "  'ggui**'],\n",
       " ['배송 보통이에요 성능 성능이 뛰어나요 유통기한 기한이 넉넉해요', '2021.07.24', '4', 'khj1***'],\n",
       " ['배송 보통이에요 성능 보통이에요 유통기한 보통이에요', '2021.07.14', '3', 'kkim******************'],\n",
       " ['배송 빨라요 성능 성능이 뛰어나요 유통기한 기한이 넉넉해요\\n좋아요', '2021.07.14', '5', 'sik4***'],\n",
       " ['배송 느려요 성능 보통이에요 유통기한 보통이에요', '2021.07.02', '4', 'diab*****'],\n",
       " ['배송 보통이에요 성능 보통이에요 유통기한 보통이에요', '2021.06.26', '4', '우이부'],\n",
       " ['배송 보통이에요 성능 보통이에요 유통기한 보통이에요', '2021.06.11', '3', 'dong******************'],\n",
       " ['배송 빨라요 성능 보통이에요 유통기한 기한이 넉넉해요', '2021.06.07', '3', 'kjwo******']]"
      ]
     },
     "execution_count": 37,
     "metadata": {},
     "output_type": "execute_result"
    }
   ],
   "source": [
    "# 전체 리뷰에서 작성자,날짜,별점,내용 다 가져오기 \n",
    "# Function to find the total number of reviews on the web page\n",
    "reviews_list = list()\n",
    "def find_total_reviews():\n",
    "    # Replace this part with your actual code to find the total number of reviews\n",
    "    # Here, we'll use a hardcoded example to count the reviews\n",
    "    review_elements = browser.find_elements_by_css_selector('#review-list-page-area dl')\n",
    "    total_reviews = len(review_elements)\n",
    "    return total_reviews\n",
    "\n",
    "# Initialize the list to store the extracted review writers\n",
    "review_writers = []\n",
    "review_dates = []\n",
    "review_stars = []\n",
    "review_contents = []\n",
    "\n",
    "# Find the total number of available reviews\n",
    "total_reviews = find_total_reviews()\n",
    "\n",
    "# Initialize variables for ul and li indices\n",
    "ul_index = 1\n",
    "li_index = 1\n",
    "\n",
    "# Loop to extract review writers for all available reviews\n",
    "for i in range(1, total_reviews + 1):  # Loop from 1 to the total number of reviews\n",
    "    # Construct the CSS selector with the calculated indices\n",
    "    css_selector_writer = f'#review-list-page-area > ul:nth-child({ul_index}) > li:nth-child({li_index}) > dl > dt'\n",
    "    css_selector_date = f'#review-list-page-area > ul:nth-child({ul_index}) > li:nth-child({li_index}) > div > p.side > span'\n",
    "    css_selector_star = f'#review-list-page-area > ul:nth-child({ul_index}) > li:nth-child({li_index}) > div > p.grade > span > em'\n",
    "    css_selector_content = f'#review-list-page-area > ul:nth-child({ul_index}) > li:nth-child({li_index}) > div > div'\n",
    "   \n",
    "    # Attempt to find the element using the CSS selector\n",
    "    try:     \n",
    "        review_writer = browser.find_element_by_css_selector(css_selector_writer).text\n",
    "        review_date = browser.find_element_by_css_selector(css_selector_date).text\n",
    "        review_star = browser.find_element_by_css_selector(css_selector_star).text\n",
    "        review_content = browser.find_element_by_css_selector(css_selector_content).text\n",
    "        review_list = [review_writer, review_date, review_star, review_content]\n",
    "        reviews_list.append(review_list)\n",
    "        # review_writers.append(review_writer)\n",
    "        # review_dates.append(review_date)\n",
    "        # review_stars.append(review_star) \n",
    "        # review_contents.append(review_content)  \n",
    "    except:\n",
    "        # If the element is not found, break out of the loop\n",
    "        break \n",
    "        \n",
    "    # Update ul and li indices based on the pattern you described\n",
    "    if li_index == 10:\n",
    "        ul_index += 1\n",
    "        li_index = 1\n",
    "    else:\n",
    "        li_index += 1\n",
    "\n",
    "# Now, review_writers contains the extracted review writers for all available reviews\n",
    "reviews_list"
   ]
  },
  {
   "cell_type": "code",
   "execution_count": null,
   "id": "ac071456-56c8-4e30-bc2e-c153d0f655c6",
   "metadata": {
    "tags": []
   },
   "outputs": [],
   "source": [
    "# 전체 리뷰에서 작성자,날짜,별점,내용 다 가져오기 \n",
    "# Function to find the total number of reviews on the web page\n",
    "reviews_list = list()\n",
    "def find_total_reviews():\n",
    "    # Replace this part with your actual code to find the total number of reviews\n",
    "    # Here, we'll use a hardcoded example to count the reviews\n",
    "    review_elements = browser.find_elements_by_css_selector('#review-list-page-area dl')\n",
    "    total_reviews = len(review_elements)\n",
    "    return total_reviews\n",
    "\n",
    "# Initialize the list to store the extracted review writers\n",
    "review_writers = []\n",
    "review_dates = []\n",
    "review_stars = []\n",
    "review_contents = []\n",
    "\n",
    "# Find the total number of available reviews\n",
    "total_reviews = find_total_reviews()\n",
    "\n",
    "# Initialize variables for ul and li indices\n",
    "ul_index = 1\n",
    "li_index = 1\n",
    "\n",
    "# Loop to extract review writers for all available reviews\n",
    "for i in range(1, total_reviews + 1):  # Loop from 1 to the total number of reviews\n",
    "    # Construct the CSS selector with the calculated indices\n",
    "    css_selector_writer = f'#review-list-page-area > ul:nth-child({ul_index}) > li:nth-child({li_index}) > dl > dt'\n",
    "    css_selector_date = f'#review-list-page-area > ul:nth-child({ul_index}) > li:nth-child({li_index}) > div > p.side > span'\n",
    "    css_selector_star = f'#review-list-page-area > ul:nth-child({ul_index}) > li:nth-child({li_index}) > div > p.grade > span > em'\n",
    "    css_selector_content = f'#review-list-page-area > ul:nth-child({ul_index}) > li:nth-child({li_index}) > div > div'\n",
    "\n",
    "    try: \n",
    "        review_writer = browser.find_element_by_css_selector(css_selector_writer).text\n",
    "        review_date = browser.find_element_by_css_selector(css_selector_date).text\n",
    "        review_star = browser.find_element_by_css_selector(css_selector_star).text\n",
    "        review_content = browser.find_element_by_css_selector(css_selector_content).text\n",
    "        review_list = [review_writer, review_date, review_star, review_content]\n",
    "        reviews_list.append(review_list)\n",
    "    except:\n",
    "        # If the element is not found, break out of the loop\n",
    "        break  \n",
    "    \n",
    "    # Update ul and li indices based on the pattern you described\n",
    "    if li_index == 10:\n",
    "        ul_index += 1\n",
    "        li_index = 1\n",
    "    else:\n",
    "        li_index += 1\n",
    "              \n",
    "\n",
    "# Now, review_writers contains the extracted review writers for all available reviews\n",
    "reviews_list"
   ]
  },
  {
   "cell_type": "code",
   "execution_count": 32,
   "id": "4d22f847-d312-4b57-9884-60220b859344",
   "metadata": {
    "tags": []
   },
   "outputs": [
    {
     "ename": "InvalidSelectorException",
     "evalue": "Message: invalid selector: An invalid or illegal selector was specified\n  (Session info: chrome=117.0.5938.89)\n",
     "output_type": "error",
     "traceback": [
      "\u001b[1;31m---------------------------------------------------------------------------\u001b[0m",
      "\u001b[1;31mInvalidSelectorException\u001b[0m                  Traceback (most recent call last)",
      "Cell \u001b[1;32mIn[32], line 2\u001b[0m\n\u001b[0;32m      1\u001b[0m \u001b[38;5;66;03m# for문에 쓸 수 있도록 selecto 변경함 확인 필요!!\u001b[39;00m\n\u001b[1;32m----> 2\u001b[0m review_writer \u001b[38;5;241m=\u001b[39m \u001b[43mbrowser\u001b[49m\u001b[38;5;241;43m.\u001b[39;49m\u001b[43mfind_element_by_css_selector\u001b[49m\u001b[43m(\u001b[49m\u001b[38;5;124;43m'\u001b[39;49m\u001b[38;5;124;43m#review-list-page-area > ul:nth-child(\u001b[39;49m\u001b[38;5;132;43;01m{ul_index}\u001b[39;49;00m\u001b[38;5;124;43m) > li:nth-child(\u001b[39;49m\u001b[38;5;132;43;01m{li_index}\u001b[39;49;00m\u001b[38;5;124;43m) > dl > dt\u001b[39;49m\u001b[38;5;124;43m'\u001b[39;49m\u001b[43m)\u001b[49m\u001b[38;5;241m.\u001b[39mtext\n\u001b[0;32m      3\u001b[0m review_date \u001b[38;5;241m=\u001b[39m browser\u001b[38;5;241m.\u001b[39mfind_element_by_css_selector(\u001b[38;5;124m'\u001b[39m\u001b[38;5;124m#review-list-page-area > ul:nth-child(\u001b[39m\u001b[38;5;132;01m{ul_index}\u001b[39;00m\u001b[38;5;124m) > li:nth-child(\u001b[39m\u001b[38;5;132;01m{li_index}\u001b[39;00m\u001b[38;5;124m) > div > p.side > span\u001b[39m\u001b[38;5;124m'\u001b[39m)\u001b[38;5;241m.\u001b[39mtext\n\u001b[0;32m      4\u001b[0m review_star \u001b[38;5;241m=\u001b[39m browser\u001b[38;5;241m.\u001b[39mfind_element_by_css_selector(\u001b[38;5;124m'\u001b[39m\u001b[38;5;124m#review-list-page-area > ul:nth-child(\u001b[39m\u001b[38;5;132;01m{ul_index}\u001b[39;00m\u001b[38;5;124m) > li:nth-child(\u001b[39m\u001b[38;5;132;01m{li_index}\u001b[39;00m\u001b[38;5;124m) > div > p.grade > span > em\u001b[39m\u001b[38;5;124m'\u001b[39m)\u001b[38;5;241m.\u001b[39mtext\n",
      "File \u001b[1;32m~\\anaconda3\\Lib\\site-packages\\selenium\\webdriver\\remote\\webdriver.py:598\u001b[0m, in \u001b[0;36mWebDriver.find_element_by_css_selector\u001b[1;34m(self, css_selector)\u001b[0m\n\u001b[0;32m    582\u001b[0m \u001b[38;5;28;01mdef\u001b[39;00m \u001b[38;5;21mfind_element_by_css_selector\u001b[39m(\u001b[38;5;28mself\u001b[39m, css_selector):\n\u001b[0;32m    583\u001b[0m \u001b[38;5;250m    \u001b[39m\u001b[38;5;124;03m\"\"\"\u001b[39;00m\n\u001b[0;32m    584\u001b[0m \u001b[38;5;124;03m    Finds an element by css selector.\u001b[39;00m\n\u001b[0;32m    585\u001b[0m \n\u001b[1;32m   (...)\u001b[0m\n\u001b[0;32m    596\u001b[0m \u001b[38;5;124;03m        element = driver.find_element_by_css_selector('#foo')\u001b[39;00m\n\u001b[0;32m    597\u001b[0m \u001b[38;5;124;03m    \"\"\"\u001b[39;00m\n\u001b[1;32m--> 598\u001b[0m     \u001b[38;5;28;01mreturn\u001b[39;00m \u001b[38;5;28;43mself\u001b[39;49m\u001b[38;5;241;43m.\u001b[39;49m\u001b[43mfind_element\u001b[49m\u001b[43m(\u001b[49m\u001b[43mby\u001b[49m\u001b[38;5;241;43m=\u001b[39;49m\u001b[43mBy\u001b[49m\u001b[38;5;241;43m.\u001b[39;49m\u001b[43mCSS_SELECTOR\u001b[49m\u001b[43m,\u001b[49m\u001b[43m \u001b[49m\u001b[43mvalue\u001b[49m\u001b[38;5;241;43m=\u001b[39;49m\u001b[43mcss_selector\u001b[49m\u001b[43m)\u001b[49m\n",
      "File \u001b[1;32m~\\anaconda3\\Lib\\site-packages\\selenium\\webdriver\\remote\\webdriver.py:976\u001b[0m, in \u001b[0;36mWebDriver.find_element\u001b[1;34m(self, by, value)\u001b[0m\n\u001b[0;32m    974\u001b[0m         by \u001b[38;5;241m=\u001b[39m By\u001b[38;5;241m.\u001b[39mCSS_SELECTOR\n\u001b[0;32m    975\u001b[0m         value \u001b[38;5;241m=\u001b[39m \u001b[38;5;124m'\u001b[39m\u001b[38;5;124m[name=\u001b[39m\u001b[38;5;124m\"\u001b[39m\u001b[38;5;132;01m%s\u001b[39;00m\u001b[38;5;124m\"\u001b[39m\u001b[38;5;124m]\u001b[39m\u001b[38;5;124m'\u001b[39m \u001b[38;5;241m%\u001b[39m value\n\u001b[1;32m--> 976\u001b[0m \u001b[38;5;28;01mreturn\u001b[39;00m \u001b[38;5;28;43mself\u001b[39;49m\u001b[38;5;241;43m.\u001b[39;49m\u001b[43mexecute\u001b[49m\u001b[43m(\u001b[49m\u001b[43mCommand\u001b[49m\u001b[38;5;241;43m.\u001b[39;49m\u001b[43mFIND_ELEMENT\u001b[49m\u001b[43m,\u001b[49m\u001b[43m \u001b[49m\u001b[43m{\u001b[49m\n\u001b[0;32m    977\u001b[0m \u001b[43m    \u001b[49m\u001b[38;5;124;43m'\u001b[39;49m\u001b[38;5;124;43musing\u001b[39;49m\u001b[38;5;124;43m'\u001b[39;49m\u001b[43m:\u001b[49m\u001b[43m \u001b[49m\u001b[43mby\u001b[49m\u001b[43m,\u001b[49m\n\u001b[0;32m    978\u001b[0m \u001b[43m    \u001b[49m\u001b[38;5;124;43m'\u001b[39;49m\u001b[38;5;124;43mvalue\u001b[39;49m\u001b[38;5;124;43m'\u001b[39;49m\u001b[43m:\u001b[49m\u001b[43m \u001b[49m\u001b[43mvalue\u001b[49m\u001b[43m}\u001b[49m\u001b[43m)\u001b[49m[\u001b[38;5;124m'\u001b[39m\u001b[38;5;124mvalue\u001b[39m\u001b[38;5;124m'\u001b[39m]\n",
      "File \u001b[1;32m~\\anaconda3\\Lib\\site-packages\\selenium\\webdriver\\remote\\webdriver.py:321\u001b[0m, in \u001b[0;36mWebDriver.execute\u001b[1;34m(self, driver_command, params)\u001b[0m\n\u001b[0;32m    319\u001b[0m response \u001b[38;5;241m=\u001b[39m \u001b[38;5;28mself\u001b[39m\u001b[38;5;241m.\u001b[39mcommand_executor\u001b[38;5;241m.\u001b[39mexecute(driver_command, params)\n\u001b[0;32m    320\u001b[0m \u001b[38;5;28;01mif\u001b[39;00m response:\n\u001b[1;32m--> 321\u001b[0m     \u001b[38;5;28;43mself\u001b[39;49m\u001b[38;5;241;43m.\u001b[39;49m\u001b[43merror_handler\u001b[49m\u001b[38;5;241;43m.\u001b[39;49m\u001b[43mcheck_response\u001b[49m\u001b[43m(\u001b[49m\u001b[43mresponse\u001b[49m\u001b[43m)\u001b[49m\n\u001b[0;32m    322\u001b[0m     response[\u001b[38;5;124m'\u001b[39m\u001b[38;5;124mvalue\u001b[39m\u001b[38;5;124m'\u001b[39m] \u001b[38;5;241m=\u001b[39m \u001b[38;5;28mself\u001b[39m\u001b[38;5;241m.\u001b[39m_unwrap_value(\n\u001b[0;32m    323\u001b[0m         response\u001b[38;5;241m.\u001b[39mget(\u001b[38;5;124m'\u001b[39m\u001b[38;5;124mvalue\u001b[39m\u001b[38;5;124m'\u001b[39m, \u001b[38;5;28;01mNone\u001b[39;00m))\n\u001b[0;32m    324\u001b[0m     \u001b[38;5;28;01mreturn\u001b[39;00m response\n",
      "File \u001b[1;32m~\\anaconda3\\Lib\\site-packages\\selenium\\webdriver\\remote\\errorhandler.py:242\u001b[0m, in \u001b[0;36mErrorHandler.check_response\u001b[1;34m(self, response)\u001b[0m\n\u001b[0;32m    240\u001b[0m         alert_text \u001b[38;5;241m=\u001b[39m value[\u001b[38;5;124m'\u001b[39m\u001b[38;5;124malert\u001b[39m\u001b[38;5;124m'\u001b[39m]\u001b[38;5;241m.\u001b[39mget(\u001b[38;5;124m'\u001b[39m\u001b[38;5;124mtext\u001b[39m\u001b[38;5;124m'\u001b[39m)\n\u001b[0;32m    241\u001b[0m     \u001b[38;5;28;01mraise\u001b[39;00m exception_class(message, screen, stacktrace, alert_text)\n\u001b[1;32m--> 242\u001b[0m \u001b[38;5;28;01mraise\u001b[39;00m exception_class(message, screen, stacktrace)\n",
      "\u001b[1;31mInvalidSelectorException\u001b[0m: Message: invalid selector: An invalid or illegal selector was specified\n  (Session info: chrome=117.0.5938.89)\n"
     ]
    }
   ],
   "source": [
    "# for문에 쓸 수 있도록 selecto 변경함 확인 필요!!\n",
    "review_writer = browser.find_element_by_css_selector('#review-list-page-area > ul:nth-child({ul_index}) > li:nth-child({li_index}) > dl > dt').text\n",
    "review_date = browser.find_element_by_css_selector('#review-list-page-area > ul:nth-child({ul_index}) > li:nth-child({li_index}) > div > p.side > span').text\n",
    "review_star = browser.find_element_by_css_selector('#review-list-page-area > ul:nth-child({ul_index}) > li:nth-child({li_index}) > div > p.grade > span > em').text\n",
    "review_content = browser.find_element_by_css_selector('#review-list-page-area > ul:nth-child({ul_index}) > li:nth-child({li_index}) > div > div').text\n",
    "\n",
    "[review_writer,review_date,review_star,review_content]"
   ]
  },
  {
   "cell_type": "code",
   "execution_count": 21,
   "id": "a806ac63-7274-4fb0-bf7b-513a49ee6623",
   "metadata": {
    "tags": []
   },
   "outputs": [
    {
     "name": "stdout",
     "output_type": "stream",
     "text": [
      "current reviews_bundle count: 0\n",
      "End.\n",
      "Total review count:  0\n"
     ]
    }
   ],
   "source": [
    "# # 밑바닥으로 가기 \n",
    "# import time\n",
    "# # 초기 리뷰 개수를 0으로 설정\n",
    "# total_review_count = 0\n",
    "\n",
    "# while True:\n",
    "#     try:\n",
    "#         # 현재 리뷰 번들을 찾습니다.\n",
    "#         reviews_bundle = browser.find_elements_by_css_selector('.review_list_element')\n",
    "#         current_review_count = len(reviews_bundle) \n",
    "#         print('current reviews_bundle count: {}'.format(current_review_count))\n",
    "        \n",
    "#         # 만약 현재 리뷰 개수가 이전과 동일하다면 더 이상 총 리뷰 갯수가 갱신되지 않은 것이므로 종료합니다.\n",
    "#         if current_review_count == total_review_count: \n",
    "#             print('End.')\n",
    "#             break\n",
    "\n",
    "#         # 현재 리뷰 개수를 total_review_count에 업데이트합니다.\n",
    "#         total_review_count = current_review_count \n",
    "#         print('Total review count: ', total_review_count)\n",
    "        \n",
    "        \n",
    "#         # 마지막 리뷰를 클릭하고 잠시 기다립니다.\n",
    "#         browser.find_element_by_css_selector('#review-list-page-area > div > button').click() \n",
    "#         print('성공')\n",
    "#         time.sleep(1)\n",
    "\n",
    "#     except :\n",
    "#         print('pass')\n",
    "#         pass\n",
    "\n",
    "# print('Total review count: ', total_review_count)"
   ]
  },
  {
   "cell_type": "code",
   "execution_count": 60,
   "id": "e50caffa-ab84-4d32-a64f-ba74c58dd98c",
   "metadata": {
    "tags": []
   },
   "outputs": [
    {
     "data": {
      "text/plain": [
       "0"
      ]
     },
     "execution_count": 60,
     "metadata": {},
     "output_type": "execute_result"
    }
   ],
   "source": [
    "reviews_bundle = browser.find_elements_by_css_selector('.review_list_element')\n",
    "len(reviews_bundle)"
   ]
  },
  {
   "cell_type": "code",
   "execution_count": null,
   "id": "cb0fa748-b230-4324-830c-25aff2211626",
   "metadata": {},
   "outputs": [],
   "source": []
  },
  {
   "cell_type": "code",
   "execution_count": 83,
   "id": "e889e359-ae87-4703-bc5c-2be114211195",
   "metadata": {
    "tags": []
   },
   "outputs": [
    {
     "data": {
      "text/plain": [
       "['mbk0***',\n",
       " '2023.08.03',\n",
       " '4',\n",
       " '배송 빨라요 성능 성능이 뛰어나요 유통기한 기한이 넉넉해요\\n신상 리뷰단에 참여하여 파이토 웨이로부터 \\n써큐시안 레드오메가 3 초임계 식물성 알티지 홍국+코큐텐 혈관 복합 관리 11중 복합 기능성 1개를 무료로 제공받아 작성한 후기입니다.\\n\\n● 총평 : 개인적으로 고지혈증 약을 복용하고 있어서 효능을 기대하며 복용 중입니다.\\n내돈내산 하고 싶을 만큼 만족스럽게 복용하고 있습니다.\\n\\n1. 1일 2정 섭취로,\\n* 콜레스테롤, 혈압, 혈행 개선\\n* 오메가3, 코엔자임 Q10, 홍국 주원료\\n* 11주 이 복합 기능성 내용, \\n대한민국 식약처 인증 6가지 주원료를 모두 흡수할 수 있어서 복용하기 간편합니다.\\n\\n2. 우수 건강 기능 식품 제조 기준인 [GMP 인증]\\n시설에서 생산되어 안심이 됩니다.\\n\\n3. 안전한 PTP 포장이라 위생적입니다.\\n\\n4. 기존에 복용했던 오메가3 에 비해\\n알약이 작은 편이라 복용하기 좋습니다.\\n\\n5. 단점을 굳이 꼽자면, 가격이 저렴하지는 않은 듯합니다.\\n닫기\\n상세보기\\n상세보기\\n상세보기']"
      ]
     },
     "execution_count": 83,
     "metadata": {},
     "output_type": "execute_result"
    }
   ],
   "source": [
    "i = 9\n",
    "review_writer = browser.find_element_by_css_selector('.name').text\n",
    "review_date = browser.find_element_by_css_selector('p.side > span').text\n",
    "review_star = browser.find_element_by_css_selector('#review-list-page-area > ul:nth-child(2) > li:nth-child(9) > div > p.grade > span > em').text\n",
    "review_content = browser.find_element_by_css_selector('ul:nth-child(1) > li:nth-child({}) > div > div'.format(i)).text\n",
    "\n",
    "[review_writer,review_date,review_star,review_content]"
   ]
  },
  {
   "cell_type": "code",
   "execution_count": null,
   "id": "d371cca9-e1ab-443a-9c82-eb33006b35ad",
   "metadata": {},
   "outputs": [],
   "source": [
    "# # 서비스 앱에 대한 정보 가져오기\n",
    "#     try:\n",
    "#         product_name = browser.find_element_by_css_selector('#layBodyWrap > div > div.s_product.s_product_detail > div.l_product_cont_wrap > div > div.l_product_view_wrap > div.l_product_summary > div.l_product_side_info > div.c_product_info_title > h1').text\n",
    "#     except :\n",
    "#         product_name = str()\n",
    "    \n",
    "    \n",
    "#     browser.find_element_by_css_selector('.text_num').click()\n",
    "    \n",
    "   \n",
    "    \n",
    "#     reviews_bundle = browser.find_element_by_css_selector('.review_list_element')\n",
    "    \n",
    "#     for review_bundle in reviews_bundle :\n",
    "#         try:\n",
    "#             review_writer = browser.find_element_by_css_selector('.c_product_reviewer').text\n",
    "#         except :\n",
    "#             review_writer = str()\n",
    "#         try:\n",
    "#             review_date = browser.find_element_by_css_selector('p.side > span').text\n",
    "#         except :\n",
    "#             review_date = str()    \n",
    "#         try:\n",
    "#             review_star = browser.find_element_by_css_selector('#review-list-page-area > ul:nth-child(2) > li:nth-child(9) > div > p.grade > span > em').text\n",
    "#         except :\n",
    "#             review_star = str()\n",
    "#         try:\n",
    "#             review_content = browser.find_element_by_css_selector('.cont_text_wrap').text\n",
    "#         except :\n",
    "#             review_content = str()\n",
    "#     browser.back()      "
   ]
  }
 ],
 "metadata": {
  "kernelspec": {
   "display_name": "Python 3 (ipykernel)",
   "language": "python",
   "name": "python3"
  },
  "language_info": {
   "codemirror_mode": {
    "name": "ipython",
    "version": 3
   },
   "file_extension": ".py",
   "mimetype": "text/x-python",
   "name": "python",
   "nbconvert_exporter": "python",
   "pygments_lexer": "ipython3",
   "version": "3.11.3"
  }
 },
 "nbformat": 4,
 "nbformat_minor": 5
}
