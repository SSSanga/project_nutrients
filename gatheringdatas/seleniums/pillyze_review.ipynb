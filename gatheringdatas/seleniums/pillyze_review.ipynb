{
 "cells": [
  {
   "cell_type": "code",
   "execution_count": 94,
   "id": "010a00a6-85d9-4de6-9005-c8af563aa381",
   "metadata": {
    "tags": []
   },
   "outputs": [],
   "source": [
    "from selenium import webdriver\n",
    "import time"
   ]
  },
  {
   "cell_type": "code",
   "execution_count": 95,
   "id": "1e8e6362-cdec-4cb6-abca-11ffd731339e",
   "metadata": {
    "tags": []
   },
   "outputs": [],
   "source": [
    "# open chrome browser\n",
    "browser = webdriver.Chrome(executable_path='../../../chromedriver.exe')"
   ]
  },
  {
   "cell_type": "code",
   "execution_count": 96,
   "id": "4eeb515d-7e7c-4eca-b0fd-6f0e472b775c",
   "metadata": {
    "tags": []
   },
   "outputs": [],
   "source": [
    "# url in address window\n",
    "browser.get('https://play.google.com/store/apps/details?id=com.pillyze.health')"
   ]
  },
  {
   "cell_type": "code",
   "execution_count": 97,
   "id": "adfd77a0-edc3-4d9e-ac0f-08de883a7205",
   "metadata": {
    "tags": []
   },
   "outputs": [],
   "source": [
    "browser.implicitly_wait(10)"
   ]
  },
  {
   "cell_type": "code",
   "execution_count": 98,
   "id": "7da4e4ea-b88e-45cb-bdca-6a534dbd3d7d",
   "metadata": {
    "tags": []
   },
   "outputs": [],
   "source": [
    "import pandas as pd\n",
    "import pymongo as mg\n",
    "import re # reqexpress function"
   ]
  },
  {
   "cell_type": "code",
   "execution_count": 99,
   "id": "a8b8b33f-f7c5-4e14-84ec-d8e21e3f4ac8",
   "metadata": {
    "tags": []
   },
   "outputs": [],
   "source": [
    "client = mg.MongoClient(host='mongodb://localhost:27017')\n",
    "database = client['project_nutrients']\n",
    "collection = database['pillyze']"
   ]
  },
  {
   "cell_type": "markdown",
   "id": "9fd5a7ea-3fcb-4c14-a3c4-6fbcadca936e",
   "metadata": {},
   "source": [
    "### 제품 클릭"
   ]
  },
  {
   "cell_type": "code",
   "execution_count": 100,
   "id": "8adebdf3-39e2-45fb-9b74-83fc6a3ebeaf",
   "metadata": {
    "tags": []
   },
   "outputs": [],
   "source": [
    "click_path = 'section > div > div.Jwxk6d > div:nth-child(5) > div > div > button > span'\n",
    "browser.find_element_by_css_selector(click_path).click()"
   ]
  },
  {
   "cell_type": "markdown",
   "id": "e4f7e250-0c63-42b9-a7ef-e55c4ee98df0",
   "metadata": {},
   "source": [
    "### 제품 정보"
   ]
  },
  {
   "cell_type": "code",
   "execution_count": null,
   "id": "749390ab-3ae0-4d36-878e-b0dd98afe72d",
   "metadata": {},
   "outputs": [],
   "source": [
    "reviews_stars = browser.find_element_by_css_selector('div.Jx4nYe > div').get_attribute('aria-label')\n",
    "reviews_date = browser.find_element_by_css_selector('div.Jx4nYe > span').text\n",
    "reviews_content = browser.find_element_by_css_selector('div.h3YV2d').text\n",
    " \n",
    "[reviews_stars,reviews_date,reviews_content]"
   ]
  },
  {
   "cell_type": "code",
   "execution_count": 92,
   "id": "dfcba244-27f6-41b9-8f25-fb942e49acde",
   "metadata": {},
   "outputs": [
    {
     "data": {
      "text/plain": [
       "'리뷰 2.34천개'"
      ]
     },
     "execution_count": 92,
     "metadata": {},
     "output_type": "execute_result"
    }
   ],
   "source": [
    "review_total_count_text = browser.find_element_by_css_selector('div.g1rdde').text\n",
    "review_total_count_text "
   ]
  },
  {
   "cell_type": "code",
   "execution_count": 93,
   "id": "eef4472c-6cdc-467b-8049-7c67539b11e4",
   "metadata": {
    "tags": []
   },
   "outputs": [
    {
     "name": "stdout",
     "output_type": "stream",
     "text": [
      "2 2\n"
     ]
    },
    {
     "data": {
      "text/plain": [
       "(2, int)"
      ]
     },
     "execution_count": 93,
     "metadata": {},
     "output_type": "execute_result"
    }
   ],
   "source": [
    "result_list = re.findall(r'\\d+', review_total_count_text)\n",
    "print(result_list[0], int(result_list[0]))\n",
    "\n",
    "review_total_count = int(result_list[0])  # 리뷰 총 갯수\n",
    "review_total_count, type(review_total_count)"
   ]
  },
  {
   "cell_type": "code",
   "execution_count": null,
   "id": "fbbe88b3-65eb-4279-9eda-54d6ece25494",
   "metadata": {},
   "outputs": [],
   "source": []
  }
 ],
 "metadata": {
  "kernelspec": {
   "display_name": "Python 3 (ipykernel)",
   "language": "python",
   "name": "python3"
  },
  "language_info": {
   "codemirror_mode": {
    "name": "ipython",
    "version": 3
   },
   "file_extension": ".py",
   "mimetype": "text/x-python",
   "name": "python",
   "nbconvert_exporter": "python",
   "pygments_lexer": "ipython3",
   "version": "3.11.3"
  }
 },
 "nbformat": 4,
 "nbformat_minor": 5
}
