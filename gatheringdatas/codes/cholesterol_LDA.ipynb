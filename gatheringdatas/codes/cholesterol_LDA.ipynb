{
 "cells": [
  {
   "cell_type": "code",
   "execution_count": 2,
   "id": "935aed44-c386-451a-8dbd-51e8394e5a96",
   "metadata": {
    "tags": []
   },
   "outputs": [],
   "source": [
    "# !pip install python-mecab-ko pyLDAvis"
   ]
  },
  {
   "cell_type": "code",
   "execution_count": 1,
   "id": "0a485173-b2fb-44ca-b22f-323fb8bb7e5d",
   "metadata": {
    "tags": []
   },
   "outputs": [],
   "source": [
    "import numpy as np"
   ]
  },
  {
   "cell_type": "code",
   "execution_count": 2,
   "id": "ce83d4eb-32b5-4638-a7d0-993a8eda3dec",
   "metadata": {
    "tags": []
   },
   "outputs": [],
   "source": [
    "# cholesterolreview_negative.csv\n",
    "import pandas as pd\n",
    "df_review_negative = pd.read_csv('../datasets/cholesterolreview_negative.csv')"
   ]
  },
  {
   "cell_type": "code",
   "execution_count": 3,
   "id": "9ebd3241-ffbd-4dac-8ee2-1fbb82629ef2",
   "metadata": {
    "tags": []
   },
   "outputs": [
    {
     "name": "stdout",
     "output_type": "stream",
     "text": [
      "<class 'pandas.core.frame.DataFrame'>\n",
      "RangeIndex: 66 entries, 0 to 65\n",
      "Data columns (total 9 columns):\n",
      " #   Column            Non-Null Count  Dtype  \n",
      "---  ------            --------------  -----  \n",
      " 0   Unnamed: 0        66 non-null     int64  \n",
      " 1   _id               66 non-null     object \n",
      " 2   product_name      66 non-null     object \n",
      " 3   review_writer     66 non-null     object \n",
      " 4   review_date       66 non-null     object \n",
      " 5   review_star       66 non-null     float64\n",
      " 6   review_content    66 non-null     object \n",
      " 7   tokenizer_review  66 non-null     object \n",
      " 8   replaced_review   66 non-null     object \n",
      "dtypes: float64(1), int64(1), object(7)\n",
      "memory usage: 4.8+ KB\n"
     ]
    }
   ],
   "source": [
    "df_review_negative.info()"
   ]
  },
  {
   "cell_type": "code",
   "execution_count": 4,
   "id": "0e897db0-a1cc-49d2-9b73-853e30993f1a",
   "metadata": {
    "tags": []
   },
   "outputs": [],
   "source": [
    "df_review_negative = df_review_negative.dropna()"
   ]
  },
  {
   "cell_type": "markdown",
   "id": "063b6532-b833-4876-bc55-53cb9801d85c",
   "metadata": {},
   "source": [
    "### LDA 분석(review_negative)"
   ]
  },
  {
   "cell_type": "markdown",
   "id": "01d207e4-a939-4466-bc2f-af8da9bbef69",
   "metadata": {},
   "source": [
    "##### 문장 벡터화(review_negative)"
   ]
  },
  {
   "cell_type": "code",
   "execution_count": 5,
   "id": "ce070acc-81dc-4ca9-80a1-185883e05bb8",
   "metadata": {
    "tags": []
   },
   "outputs": [],
   "source": [
    "from gensim.corpora import Dictionary"
   ]
  },
  {
   "cell_type": "code",
   "execution_count": 6,
   "id": "dc2827d9-40bb-4e4b-a15c-967386393183",
   "metadata": {
    "tags": []
   },
   "outputs": [
    {
     "data": {
      "text/plain": [
       "<gensim.corpora.dictionary.Dictionary at 0x276cdc99450>"
      ]
     },
     "execution_count": 6,
     "metadata": {},
     "output_type": "execute_result"
    }
   ],
   "source": [
    "# df_review_negative dictionary\n",
    "dictionary = Dictionary(df_review_negative[['replaced_review']].values)\n",
    "dictionary"
   ]
  },
  {
   "cell_type": "code",
   "execution_count": 7,
   "id": "404d4eb5-6d0a-476a-8a0b-32eca97eff8e",
   "metadata": {
    "tags": []
   },
   "outputs": [
    {
     "data": {
      "text/plain": [
       "[(3, 1)]"
      ]
     },
     "execution_count": 7,
     "metadata": {},
     "output_type": "execute_result"
    }
   ],
   "source": [
    "dictionary.doc2bow(df_review_negative[['replaced_review']].values[3])"
   ]
  },
  {
   "cell_type": "code",
   "execution_count": 8,
   "id": "2088e0ba-f9ed-4d6e-9901-5833b4f50d1d",
   "metadata": {
    "tags": []
   },
   "outputs": [],
   "source": [
    "# dictionary에 의한 한글 문장을 벡터화 변환\n",
    "corpus_list = list()\n",
    "for sentence in df_review_negative[['replaced_review']].values :\n",
    "  vectors = dictionary.doc2bow(sentence)\n",
    "  corpus_list.append(vectors)"
   ]
  },
  {
   "cell_type": "code",
   "execution_count": 9,
   "id": "55d2d2ce-e455-46e4-96aa-14450e7b3211",
   "metadata": {
    "tags": []
   },
   "outputs": [],
   "source": [
    "df_review_negative['문장벡터화'] = corpus_list"
   ]
  },
  {
   "cell_type": "code",
   "execution_count": 10,
   "id": "15ef6da6-9d6b-4ae5-ace9-4a09f2ce408e",
   "metadata": {
    "tags": []
   },
   "outputs": [
    {
     "data": {
      "text/plain": [
       "Index(['Unnamed: 0', '_id', 'product_name', 'review_writer', 'review_date',\n",
       "       'review_star', 'review_content', 'tokenizer_review', 'replaced_review',\n",
       "       '문장벡터화'],\n",
       "      dtype='object')"
      ]
     },
     "execution_count": 10,
     "metadata": {},
     "output_type": "execute_result"
    }
   ],
   "source": [
    "df_review_negative.columns"
   ]
  },
  {
   "cell_type": "markdown",
   "id": "d1a3749e-a02d-4899-a122-45b09e27b8a9",
   "metadata": {},
   "source": [
    "##### 토픽 잡기(review_negative)"
   ]
  },
  {
   "cell_type": "code",
   "execution_count": 11,
   "id": "7d3e2ca9-a9e1-4a06-b278-08a08ccd7094",
   "metadata": {
    "tags": []
   },
   "outputs": [],
   "source": [
    "from gensim.models import LdaModel"
   ]
  },
  {
   "cell_type": "code",
   "execution_count": 12,
   "id": "683ae0a6-8deb-49ca-82c7-cb7260c4729c",
   "metadata": {
    "tags": []
   },
   "outputs": [],
   "source": [
    "lda_model = LdaModel(corpus=corpus_list, id2word=dictionary, num_topics=9)"
   ]
  },
  {
   "cell_type": "code",
   "execution_count": 13,
   "id": "b16eaf94-419c-4f65-8de4-40833ec370ad",
   "metadata": {
    "tags": []
   },
   "outputs": [
    {
     "data": {
      "text/plain": [
       "[(0,\n",
       "  '0.307*\"택배 박스 젖다 제품 괜찬을줄 안다 약품 아니다 건강 식품 관리 보관 상태 중요 제품 박스 제품 젖다 괜찬을줄알 박스 개봉 해보다 박스 눌렸는 알약 튀어 벗기다 정말 제품 싸다 가격 아니다 다시 반품\" + 0.110*\"배송 빨르다 유통 기한 스킨 콜레스틴 혈관 건강 콜레스테롤 건강 홍국 함유 상세\" + 0.110*\"0원 구매 쿄릭홍국 제품 품절 나서다 구매 몰리다 갑자기 가격 만원 올리다 판매 저렴하다 링크 남다 구매 하렵니\" + 0.011*\"배송 느리다 성능 성능 뛰어나다 유통 기한 기한 넉넉하다 배송 느리다\"'),\n",
       " (1,\n",
       "  '0.182*\"주문 해외 구매 대행 제품 반품 안되다 연락 안되다 차다 어이없다\" + 0.018*\"배송 느리다 성능 성능 뛰어나다 유통 기한 기한 넉넉하다 배송 느리다\" + 0.018*\"배송 빨르다 성능 성능 별로 유통 기한 기한 넉넉하다 박스 규칙 혈압 측정 복용 전과 복용 개월차 별다르다 개선\" + 0.018*\"택배 박스 젖다 제품 괜찬을줄 안다 약품 아니다 건강 식품 관리 보관 상태 중요 제품 박스 제품 젖다 괜찬을줄알 박스 개봉 해보다 박스 눌렸는 알약 튀어 벗기다 정말 제품 싸다 가격 아니다 다시 반품\"'),\n",
       " (2,\n",
       "  '0.182*\"싸다 구입 좀쌀 피부 가려움 일어나서 중지 2일 중지 가려움증 성분 구입 19000원 택배 5만원\" + 0.065*\"성능 성능 뛰어나다\" + 0.065*\"검사 결과 크다 변화\" + 0.065*\"배송 잘못 건지다 그렇다 박스 찌그러지다 찢기다 튀어나오다 몇개 귀찮다 버리다 이렇다 신경 써주다 짜증나다\"'),\n",
       " (3,\n",
       "  '0.182*\"먹기 혈액 검사 비교 해보다 레스 트롤 수치 감소 감마 수치 상승 야하다 양제 정확하다 상관관계 알다 의심 상황 복용 쉬다 기간 야하다\" + 0.182*\"배송 느리다 성능 성능 뛰어나다 유통 기한 기한 넉넉하다 배송 느리다\" + 0.065*\"대웅제약 우루사 알려지다 믿다 구매 판매 제조 코스 맥스 바이오 우쨋 먹기 재다 매다 병원 건강 안좋다 신경 써다\" + 0.065*\"배송 느리다 성능 성능 별로 유통 기한 보라 오일 달맞이꽃 오일 갱년기 증상 효능 회사 비교 감마 리놀렌산 함유 10% 높다 가격 상당하다 비싸다 회사 40,000원 제품 48,000원 가격 새다 모르다 30% 올리다 판매 줄이다 괘씸하다 제품 구입 일류 낱개 포장 보관 온도 중요하다 제품 저렴하다 용량 포장 구입 냉장고 넣다 상세 상세 상세 상세\"'),\n",
       " (4,\n",
       "  '0.085*\"검사 결과 크다 변화\" + 0.085*\"가격 싸다 사다 배송 빨르다\" + 0.085*\"대웅제약 우루사 알려지다 믿다 구매 판매 제조 코스 맥스 바이오 우쨋 먹기 재다 매다 병원 건강 안좋다 신경 써다\" + 0.085*\"가격 만원\"'),\n",
       " (5,\n",
       "  '0.174*\"기존 국내 제품 공구 판매 비싸다 성분 복용 해봤다 트러블\" + 0.092*\"0원 구매 쿄릭홍국 제품 품절 나서다 구매 몰리다 갑자기 가격 만원 올리다 판매 저렴하다 링크 남다 구매 하렵니\" + 0.092*\"별로 좋다 사다 알약 넘다 넘어가다 걸리다 마냥 불편하다 알약 녹차 추출 물다 맞다 카페인 장기간 복용 우려 손상 손상 모르다 끊음 다이어트 쓰다 인용 청소년 사면 낭패\" + 0.092*\"가격 괜찮다 배송 브리 캐나다 감마 리놀렌산 보라 오일 달맞이꽃 자유\"'),\n",
       " (6,\n",
       "  '0.255*\"배송 빨르다 성능 성능 별로 유통 기한 기한 넉넉하다 박스 규칙 혈압 측정 복용 전과 복용 개월차 별다르다 개선\" + 0.131*\"줄줄\" + 0.069*\"쭈욱 제품 11 절때 할인 주문 상세 상세\" + 0.069*\"배송 느리다 성능 성능 뛰어나다 유통 기한 기한 넉넉하다 배송 느리다\"'),\n",
       " (7,\n",
       "  '0.137*\"아쉽다 안쪽 남편 복용 먹기\" + 0.137*\"아프다 상품 괜찮다 보이다 맞다\" + 0.137*\"제품 루테인 건강 동시 건강 도움 2조 구입 유효 기간 2023년 9월 23일 이정 유효 기간 충분하다 배송 포장 상태 깜짝 놀라다 건강 보조 식품 제품 싸다 박스 포장 쿠팡 로켓 배송 비닐 포장 지로 포장 제품 어보 안좋다 예감 역쉬 제품 포장 터지다 포장 제도 이렇다 상태 배송 세균 주문 제품 바꾸다 쿠팡 체험 이벤트 상품 무료 제공 작성 구매 후기\" + 0.014*\"배송 빨르다 성능 성능 별로 유통 기한 기한 넉넉하다 박스 규칙 혈압 측정 복용 전과 복용 개월차 별다르다 개선\"'),\n",
       " (8,\n",
       "  '0.092*\"박스 왕창 파손 찢어지다 배송 돼다 기분 좋다\" + 0.092*\"남성 32 사무직 직장인 5년 대리 수험생 도움 싶다 구매 느끼다\" + 0.092*\"장기 알다 좋다 좋다 좋다 좋다 좋다 좋다 좋다 좋다\" + 0.092*\"복용 알다 그다지 크다 변화 모르다\"')]"
      ]
     },
     "execution_count": 13,
     "metadata": {},
     "output_type": "execute_result"
    }
   ],
   "source": [
    "lda_model.print_topics(num_words=4)"
   ]
  },
  {
   "cell_type": "markdown",
   "id": "8172fc2e-9450-4f92-85f4-e3898211cb98",
   "metadata": {},
   "source": [
    "##### 최적에 토픽 단어 수"
   ]
  },
  {
   "cell_type": "code",
   "execution_count": 14,
   "id": "ec3b1b08-8674-4431-9790-4c6b2cdf429c",
   "metadata": {
    "tags": []
   },
   "outputs": [
    {
     "data": {
      "text/plain": [
       "0     배송 성능 성능 별로 유통 기한 감마 리놀렌산 효능 어떻다 제약회사 제품 여성 갱년...\n",
       "1                      배송 빨르다 성능 성능 별로 유통 기한 기한 넉넉하다 전혀\n",
       "2                가격 괜찮다 배송 브리 캐나다 감마 리놀렌산 보라 오일 달맞이꽃 자유\n",
       "3                   좋아지다 모르다 좋아지다 모르다 부작용 안나 는걸 여기다 야하다\n",
       "4                                            성능 성능 뛰어나다\n",
       "                            ...                        \n",
       "61                                                   줄줄\n",
       "62                     기존 국내 제품 공구 판매 비싸다 성분 복용 해봤다 트러블\n",
       "63                 주문 해외 구매 대행 제품 반품 안되다 연락 안되다 차다 어이없다\n",
       "64                                  복용 알다 그다지 크다 변화 모르다\n",
       "65                                                가격 만원\n",
       "Name: replaced_review, Length: 66, dtype: object"
      ]
     },
     "execution_count": 14,
     "metadata": {},
     "output_type": "execute_result"
    }
   ],
   "source": [
    "sentences = df_review_negative['replaced_review']\n",
    "sentences"
   ]
  },
  {
   "cell_type": "code",
   "execution_count": 15,
   "id": "2930ad60-acf2-4e58-98e0-9b2a27c4f1c8",
   "metadata": {
    "tags": []
   },
   "outputs": [
    {
     "data": {
      "text/plain": [
       "pandas.core.series.Series"
      ]
     },
     "execution_count": 15,
     "metadata": {},
     "output_type": "execute_result"
    }
   ],
   "source": [
    "type(sentences)"
   ]
  },
  {
   "cell_type": "code",
   "execution_count": 16,
   "id": "5e7ff94f-d874-46e8-8db7-2fd851c24a02",
   "metadata": {
    "tags": []
   },
   "outputs": [],
   "source": [
    "# 각 문장을 공백으로 나누어 리스트에 저장\n",
    "tokenized_sentences = [sentence.split() for sentence in sentences]"
   ]
  },
  {
   "cell_type": "code",
   "execution_count": 17,
   "id": "73ec2c20-9dc4-4c7c-8cb8-e905fdbcf6a3",
   "metadata": {
    "tags": []
   },
   "outputs": [
    {
     "data": {
      "text/plain": [
       "[['배송',\n",
       "  '성능',\n",
       "  '성능',\n",
       "  '별로',\n",
       "  '유통',\n",
       "  '기한',\n",
       "  '감마',\n",
       "  '리놀렌산',\n",
       "  '효능',\n",
       "  '어떻다',\n",
       "  '제약회사',\n",
       "  '제품',\n",
       "  '여성',\n",
       "  '갱년기',\n",
       "  '유독',\n",
       "  '상품',\n",
       "  '가격',\n",
       "  '높다',\n",
       "  '회사',\n",
       "  '비교',\n",
       "  '감마',\n",
       "  '리놀렌산',\n",
       "  '함유',\n",
       "  '10%',\n",
       "  '높다',\n",
       "  '가격',\n",
       "  '높다',\n",
       "  '회사',\n",
       "  '제품',\n",
       "  '40,000원',\n",
       "  '가격',\n",
       "  '새다',\n",
       "  '모르다',\n",
       "  '30%',\n",
       "  '올리다',\n",
       "  '놨네',\n",
       "  '90',\n",
       "  '캡슐',\n",
       "  '판매',\n",
       "  '60',\n",
       "  '캡슐',\n",
       "  '줄이다',\n",
       "  '괘씸하다',\n",
       "  '다시다',\n",
       "  '구입',\n",
       "  '상세',\n",
       "  '상세',\n",
       "  '상세'],\n",
       " ['배송', '빨르다', '성능', '성능', '별로', '유통', '기한', '기한', '넉넉하다', '전혀'],\n",
       " ['가격', '괜찮다', '배송', '브리', '캐나다', '감마', '리놀렌산', '보라', '오일', '달맞이꽃', '자유'],\n",
       " ['좋아지다', '모르다', '좋아지다', '모르다', '부작용', '안나', '는걸', '여기다', '야하다'],\n",
       " ['성능', '성능', '뛰어나다'],\n",
       " ['배송',\n",
       "  '느리다',\n",
       "  '성능',\n",
       "  '성능',\n",
       "  '별로',\n",
       "  '유통',\n",
       "  '기한',\n",
       "  '보라',\n",
       "  '오일',\n",
       "  '달맞이꽃',\n",
       "  '오일',\n",
       "  '갱년기',\n",
       "  '증상',\n",
       "  '효능',\n",
       "  '회사',\n",
       "  '비교',\n",
       "  '감마',\n",
       "  '리놀렌산',\n",
       "  '함유',\n",
       "  '10%',\n",
       "  '높다',\n",
       "  '가격',\n",
       "  '상당하다',\n",
       "  '비싸다',\n",
       "  '회사',\n",
       "  '40,000원',\n",
       "  '제품',\n",
       "  '48,000원',\n",
       "  '가격',\n",
       "  '새다',\n",
       "  '모르다',\n",
       "  '30%',\n",
       "  '올리다',\n",
       "  '판매',\n",
       "  '줄이다',\n",
       "  '괘씸하다',\n",
       "  '제품',\n",
       "  '구입',\n",
       "  '일류',\n",
       "  '낱개',\n",
       "  '포장',\n",
       "  '보관',\n",
       "  '온도',\n",
       "  '중요하다',\n",
       "  '제품',\n",
       "  '저렴하다',\n",
       "  '용량',\n",
       "  '포장',\n",
       "  '구입',\n",
       "  '냉장고',\n",
       "  '넣다',\n",
       "  '상세',\n",
       "  '상세',\n",
       "  '상세',\n",
       "  '상세'],\n",
       " ['가격', '싸다', '사다', '배송', '빨르다'],\n",
       " ['배송', '성능', '성능', '별로', '유통', '기한', '기한', '짧다'],\n",
       " ['가격', '싸다', '배송', '빨르다', '배송', '빠르다', '비다', '저렴하다'],\n",
       " ['배송',\n",
       "  '빨르다',\n",
       "  '성능',\n",
       "  '성능',\n",
       "  '별로',\n",
       "  '유통',\n",
       "  '기한',\n",
       "  '기한',\n",
       "  '넉넉하다',\n",
       "  '불행하다',\n",
       "  '와이프',\n",
       "  '늘다'],\n",
       " ['가격', '괜찮다', '배송'],\n",
       " ['인지질',\n",
       "  '좋다',\n",
       "  '아시',\n",
       "  '닥터',\n",
       "  '크릴',\n",
       "  '오일팔',\n",
       "  '표현',\n",
       "  '크릴',\n",
       "  '인지질',\n",
       "  '레시틴',\n",
       "  '싸다',\n",
       "  '함량',\n",
       "  '높다',\n",
       "  '북극해',\n",
       "  '생태계',\n",
       "  '살리다',\n",
       "  '상세',\n",
       "  '상세'],\n",
       " ['쭈욱', '제품', '11', '절때', '할인', '주문', '상세', '상세'],\n",
       " ['배송',\n",
       "  '빨르다',\n",
       "  '성능',\n",
       "  '성능',\n",
       "  '별로',\n",
       "  '유통',\n",
       "  '기한',\n",
       "  '기한',\n",
       "  '넉넉하다',\n",
       "  '박스',\n",
       "  '규칙',\n",
       "  '혈압',\n",
       "  '측정',\n",
       "  '복용',\n",
       "  '전과',\n",
       "  '복용',\n",
       "  '개월차',\n",
       "  '별다르다',\n",
       "  '개선'],\n",
       " ['배송', '느리다', '성능', '성능', '뛰어나다', '유통', '기한', '기한', '넉넉하다', '배송', '느리다'],\n",
       " ['배송',\n",
       "  '빨르다',\n",
       "  '성능',\n",
       "  '성능',\n",
       "  '별로',\n",
       "  '유통',\n",
       "  '기한',\n",
       "  '기한',\n",
       "  '넉넉하다',\n",
       "  '박스',\n",
       "  '규칙',\n",
       "  '혈압',\n",
       "  '측정',\n",
       "  '복용',\n",
       "  '전과',\n",
       "  '복용',\n",
       "  '개월차',\n",
       "  '별다르다',\n",
       "  '개선'],\n",
       " ['배송', '느리다', '성능', '성능', '뛰어나다', '유통', '기한', '기한', '넉넉하다', '배송', '느리다'],\n",
       " ['배송',\n",
       "  '빨르다',\n",
       "  '성능',\n",
       "  '성능',\n",
       "  '별로',\n",
       "  '유통',\n",
       "  '기한',\n",
       "  '기한',\n",
       "  '넉넉하다',\n",
       "  '박스',\n",
       "  '규칙',\n",
       "  '혈압',\n",
       "  '측정',\n",
       "  '복용',\n",
       "  '전과',\n",
       "  '복용',\n",
       "  '개월차',\n",
       "  '별다르다',\n",
       "  '개선'],\n",
       " ['배송', '느리다', '성능', '성능', '뛰어나다', '유통', '기한', '기한', '넉넉하다', '배송', '느리다'],\n",
       " ['배송',\n",
       "  '빨르다',\n",
       "  '성능',\n",
       "  '성능',\n",
       "  '별로',\n",
       "  '유통',\n",
       "  '기한',\n",
       "  '기한',\n",
       "  '넉넉하다',\n",
       "  '박스',\n",
       "  '규칙',\n",
       "  '혈압',\n",
       "  '측정',\n",
       "  '복용',\n",
       "  '전과',\n",
       "  '복용',\n",
       "  '개월차',\n",
       "  '별다르다',\n",
       "  '개선'],\n",
       " ['배송', '느리다', '성능', '성능', '뛰어나다', '유통', '기한', '기한', '넉넉하다', '배송', '느리다'],\n",
       " ['장기', '알다', '좋다', '좋다', '좋다', '좋다', '좋다', '좋다', '좋다', '좋다'],\n",
       " ['배송',\n",
       "  '빨르다',\n",
       "  '유통',\n",
       "  '기한',\n",
       "  '스킨',\n",
       "  '콜레스틴',\n",
       "  '혈관',\n",
       "  '건강',\n",
       "  '콜레스테롤',\n",
       "  '건강',\n",
       "  '홍국',\n",
       "  '함유',\n",
       "  '상세'],\n",
       " ['유통', '기한', '포장', '상태'],\n",
       " ['배송', '상품', '상세'],\n",
       " ['0원',\n",
       "  '구매',\n",
       "  '쿄릭홍국',\n",
       "  '제품',\n",
       "  '품절',\n",
       "  '나서다',\n",
       "  '구매',\n",
       "  '몰리다',\n",
       "  '갑자기',\n",
       "  '가격',\n",
       "  '만원',\n",
       "  '올리다',\n",
       "  '판매',\n",
       "  '저렴하다',\n",
       "  '링크',\n",
       "  '남다',\n",
       "  '구매',\n",
       "  '하렵니'],\n",
       " ['성장',\n",
       "  '비싸다',\n",
       "  '주뮨',\n",
       "  '허다',\n",
       "  '크다',\n",
       "  '먹이다',\n",
       "  '고영',\n",
       "  '양제',\n",
       "  '먹이다',\n",
       "  '크다',\n",
       "  '유전',\n",
       "  '크다',\n",
       "  '애가',\n",
       "  '크다',\n",
       "  '애가',\n",
       "  '크다',\n",
       "  '유전자',\n",
       "  '거나',\n",
       "  '크다'],\n",
       " ['박스', '왕창', '파손', '찢어지다', '배송', '돼다', '기분', '좋다'],\n",
       " ['0원',\n",
       "  '구매',\n",
       "  '쿄릭홍국',\n",
       "  '제품',\n",
       "  '품절',\n",
       "  '나서다',\n",
       "  '구매',\n",
       "  '몰리다',\n",
       "  '갑자기',\n",
       "  '가격',\n",
       "  '만원',\n",
       "  '올리다',\n",
       "  '판매',\n",
       "  '저렴하다',\n",
       "  '링크',\n",
       "  '남다',\n",
       "  '구매',\n",
       "  '하렵니'],\n",
       " ['예선', '보라', '지유', '구매', '해봤다', '전혀', '생리', '증후군'],\n",
       " ['대웅제약',\n",
       "  '우루사',\n",
       "  '알려지다',\n",
       "  '믿다',\n",
       "  '구매',\n",
       "  '판매',\n",
       "  '제조',\n",
       "  '코스',\n",
       "  '맥스',\n",
       "  '바이오',\n",
       "  '우쨋',\n",
       "  '먹기',\n",
       "  '재다',\n",
       "  '매다',\n",
       "  '병원',\n",
       "  '건강',\n",
       "  '안좋다',\n",
       "  '신경',\n",
       "  '써다'],\n",
       " ['이유',\n",
       "  '종근당',\n",
       "  '제품',\n",
       "  '문해',\n",
       "  '혈압',\n",
       "  '낮아지다',\n",
       "  '꾸다',\n",
       "  '1년',\n",
       "  '그렇다',\n",
       "  '제품',\n",
       "  '다시',\n",
       "  '바꾸다',\n",
       "  '꾸준하다',\n",
       "  '복용',\n",
       "  '좋아지다',\n",
       "  '기대하다'],\n",
       " ['배송',\n",
       "  '잘못',\n",
       "  '건지다',\n",
       "  '그렇다',\n",
       "  '박스',\n",
       "  '찌그러지다',\n",
       "  '찢기다',\n",
       "  '튀어나오다',\n",
       "  '몇개',\n",
       "  '귀찮다',\n",
       "  '버리다',\n",
       "  '이렇다',\n",
       "  '신경',\n",
       "  '써주다',\n",
       "  '짜증나다'],\n",
       " ['택배',\n",
       "  '박스',\n",
       "  '젖다',\n",
       "  '제품',\n",
       "  '괜찬을줄',\n",
       "  '안다',\n",
       "  '약품',\n",
       "  '아니다',\n",
       "  '건강',\n",
       "  '식품',\n",
       "  '관리',\n",
       "  '보관',\n",
       "  '상태',\n",
       "  '중요',\n",
       "  '제품',\n",
       "  '박스',\n",
       "  '제품',\n",
       "  '젖다',\n",
       "  '괜찬을줄알',\n",
       "  '박스',\n",
       "  '개봉',\n",
       "  '해보다',\n",
       "  '박스',\n",
       "  '눌렸는',\n",
       "  '알약',\n",
       "  '튀어',\n",
       "  '벗기다',\n",
       "  '정말',\n",
       "  '제품',\n",
       "  '싸다',\n",
       "  '가격',\n",
       "  '아니다',\n",
       "  '다시',\n",
       "  '반품'],\n",
       " ['사다', '배송', '상태', '기분', '좋다'],\n",
       " ['쿠팡',\n",
       "  '판매',\n",
       "  '제품',\n",
       "  '가격',\n",
       "  '수량',\n",
       "  '허위',\n",
       "  '정보',\n",
       "  '노출하다',\n",
       "  '결제',\n",
       "  '나니',\n",
       "  '판매',\n",
       "  '자도',\n",
       "  '발송',\n",
       "  '쿠팡',\n",
       "  '이유',\n",
       "  '수령',\n",
       "  '예정',\n",
       "  '날짜',\n",
       "  '다가오다',\n",
       "  '취소',\n",
       "  '필요하다',\n",
       "  '날짜',\n",
       "  '임박',\n",
       "  '급하다',\n",
       "  '비싸다',\n",
       "  '울다',\n",
       "  '겨자',\n",
       "  '먹기',\n",
       "  '자사',\n",
       "  '로켓',\n",
       "  '배송',\n",
       "  '제품',\n",
       "  '구매',\n",
       "  '주문',\n",
       "  '들어오다',\n",
       "  '판매',\n",
       "  '발송',\n",
       "  '정상',\n",
       "  '사유',\n",
       "  '고객',\n",
       "  '고지',\n",
       "  '상식',\n",
       "  '아니다',\n",
       "  '이렇다',\n",
       "  '기본',\n",
       "  '매뉴얼',\n",
       "  '교육',\n",
       "  '안되다',\n",
       "  '건지다',\n",
       "  '의도',\n",
       "  '바인',\n",
       "  '어떻다',\n",
       "  '주문',\n",
       "  '지나다',\n",
       "  '소식',\n",
       "  '판매',\n",
       "  '문의',\n",
       "  '쿠팡',\n",
       "  '배송',\n",
       "  '불가',\n",
       "  '쿠팡',\n",
       "  '문의',\n",
       "  '취소',\n",
       "  '경위',\n",
       "  '허위',\n",
       "  '노출',\n",
       "  '판매',\n",
       "  '의무불이행',\n",
       "  '파악',\n",
       "  '연락',\n",
       "  '부탁',\n",
       "  '취소',\n",
       "  '문자',\n",
       "  '달랑',\n",
       "  '정상'],\n",
       " ['아쉽다', '안쪽', '남편', '복용', '먹기'],\n",
       " ['검사', '결과', '크다', '변화'],\n",
       " ['제품', '찌그러지다', '해외', '배송', '믿다'],\n",
       " ['제품',\n",
       "  '루테인',\n",
       "  '건강',\n",
       "  '동시',\n",
       "  '건강',\n",
       "  '도움',\n",
       "  '2조',\n",
       "  '구입',\n",
       "  '유효',\n",
       "  '기간',\n",
       "  '2023년',\n",
       "  '9월',\n",
       "  '23일',\n",
       "  '이정',\n",
       "  '유효',\n",
       "  '기간',\n",
       "  '충분하다',\n",
       "  '배송',\n",
       "  '포장',\n",
       "  '상태',\n",
       "  '깜짝',\n",
       "  '놀라다',\n",
       "  '건강',\n",
       "  '보조',\n",
       "  '식품',\n",
       "  '제품',\n",
       "  '싸다',\n",
       "  '박스',\n",
       "  '포장',\n",
       "  '쿠팡',\n",
       "  '로켓',\n",
       "  '배송',\n",
       "  '비닐',\n",
       "  '포장',\n",
       "  '지로',\n",
       "  '포장',\n",
       "  '제품',\n",
       "  '어보',\n",
       "  '안좋다',\n",
       "  '예감',\n",
       "  '역쉬',\n",
       "  '제품',\n",
       "  '포장',\n",
       "  '터지다',\n",
       "  '포장',\n",
       "  '제도',\n",
       "  '이렇다',\n",
       "  '상태',\n",
       "  '배송',\n",
       "  '세균',\n",
       "  '주문',\n",
       "  '제품',\n",
       "  '바꾸다',\n",
       "  '쿠팡',\n",
       "  '체험',\n",
       "  '이벤트',\n",
       "  '상품',\n",
       "  '무료',\n",
       "  '제공',\n",
       "  '작성',\n",
       "  '구매',\n",
       "  '후기'],\n",
       " ['먹기',\n",
       "  '혈액',\n",
       "  '검사',\n",
       "  '비교',\n",
       "  '해보다',\n",
       "  '레스',\n",
       "  '트롤',\n",
       "  '수치',\n",
       "  '감소',\n",
       "  '감마',\n",
       "  '수치',\n",
       "  '상승',\n",
       "  '야하다',\n",
       "  '양제',\n",
       "  '정확하다',\n",
       "  '상관관계',\n",
       "  '알다',\n",
       "  '의심',\n",
       "  '상황',\n",
       "  '복용',\n",
       "  '쉬다',\n",
       "  '기간',\n",
       "  '야하다'],\n",
       " ['싸다',\n",
       "  '구입',\n",
       "  '좀쌀',\n",
       "  '피부',\n",
       "  '가려움',\n",
       "  '일어나서',\n",
       "  '중지',\n",
       "  '2일',\n",
       "  '중지',\n",
       "  '가려움증',\n",
       "  '성분',\n",
       "  '구입',\n",
       "  '19000원',\n",
       "  '택배',\n",
       "  '5만원'],\n",
       " ['냄새', '냄새', '궁금하다', '찝찝하다', '속도', '안좋다', '아프다'],\n",
       " ['아쉽다', '안쪽', '남편', '복용', '먹기'],\n",
       " ['검사', '결과', '크다', '변화'],\n",
       " ['먹기',\n",
       "  '혈액',\n",
       "  '검사',\n",
       "  '비교',\n",
       "  '해보다',\n",
       "  '레스',\n",
       "  '트롤',\n",
       "  '수치',\n",
       "  '감소',\n",
       "  '감마',\n",
       "  '수치',\n",
       "  '상승',\n",
       "  '야하다',\n",
       "  '양제',\n",
       "  '정확하다',\n",
       "  '상관관계',\n",
       "  '알다',\n",
       "  '의심',\n",
       "  '상황',\n",
       "  '복용',\n",
       "  '쉬다',\n",
       "  '기간',\n",
       "  '야하다'],\n",
       " ['싸다',\n",
       "  '구입',\n",
       "  '좀쌀',\n",
       "  '피부',\n",
       "  '가려움',\n",
       "  '일어나서',\n",
       "  '중지',\n",
       "  '2일',\n",
       "  '중지',\n",
       "  '가려움증',\n",
       "  '성분',\n",
       "  '구입',\n",
       "  '19000원',\n",
       "  '택배',\n",
       "  '5만원'],\n",
       " ['먹기',\n",
       "  '혈액',\n",
       "  '검사',\n",
       "  '비교',\n",
       "  '해보다',\n",
       "  '레스',\n",
       "  '트롤',\n",
       "  '수치',\n",
       "  '감소',\n",
       "  '감마',\n",
       "  '수치',\n",
       "  '상승',\n",
       "  '야하다',\n",
       "  '양제',\n",
       "  '정확하다',\n",
       "  '상관관계',\n",
       "  '알다',\n",
       "  '의심',\n",
       "  '상황',\n",
       "  '복용',\n",
       "  '쉬다',\n",
       "  '기간',\n",
       "  '야하다'],\n",
       " ['싸다',\n",
       "  '구입',\n",
       "  '좀쌀',\n",
       "  '피부',\n",
       "  '가려움',\n",
       "  '일어나서',\n",
       "  '중지',\n",
       "  '2일',\n",
       "  '중지',\n",
       "  '가려움증',\n",
       "  '성분',\n",
       "  '구입',\n",
       "  '19000원',\n",
       "  '택배',\n",
       "  '5만원'],\n",
       " ['남성', '32', '사무직', '직장인', '5년', '대리', '수험생', '도움', '싶다', '구매', '느끼다'],\n",
       " ['아프다', '상품', '괜찮다', '보이다', '맞다'],\n",
       " ['알약', '녹다', '돼다', '돼다', '굳다', '빠지다', '병속', '덩어리', '뭉치다', '버리다', '반품', '귀찮다'],\n",
       " ['신랑',\n",
       "  '사다',\n",
       "  '레시틴',\n",
       "  '간지럽다',\n",
       "  '긁다',\n",
       "  '대다',\n",
       "  '신랑',\n",
       "  '레시틴',\n",
       "  '부작용',\n",
       "  '검색',\n",
       "  '해보다',\n",
       "  '간지럽다',\n",
       "  '움증',\n",
       "  '두드러기',\n",
       "  '부작용',\n",
       "  '가려움증',\n",
       "  '빨갛다',\n",
       "  '좋아지다',\n",
       "  '체질',\n",
       "  '다르다',\n",
       "  '판단',\n",
       "  '크다',\n",
       "  '새끼손가락',\n",
       "  '마디',\n",
       "  '합치다'],\n",
       " ['별로',\n",
       "  '좋다',\n",
       "  '사다',\n",
       "  '알약',\n",
       "  '넘다',\n",
       "  '넘어가다',\n",
       "  '걸리다',\n",
       "  '마냥',\n",
       "  '불편하다',\n",
       "  '알약',\n",
       "  '녹차',\n",
       "  '추출',\n",
       "  '물다',\n",
       "  '맞다',\n",
       "  '카페인',\n",
       "  '장기간',\n",
       "  '복용',\n",
       "  '우려',\n",
       "  '손상',\n",
       "  '손상',\n",
       "  '모르다',\n",
       "  '끊음',\n",
       "  '다이어트',\n",
       "  '쓰다',\n",
       "  '인용',\n",
       "  '청소년',\n",
       "  '사면',\n",
       "  '낭패'],\n",
       " ['줄줄'],\n",
       " ['택배',\n",
       "  '박스',\n",
       "  '젖다',\n",
       "  '제품',\n",
       "  '괜찬을줄',\n",
       "  '안다',\n",
       "  '약품',\n",
       "  '아니다',\n",
       "  '건강',\n",
       "  '식품',\n",
       "  '관리',\n",
       "  '보관',\n",
       "  '상태',\n",
       "  '중요',\n",
       "  '제품',\n",
       "  '박스',\n",
       "  '제품',\n",
       "  '젖다',\n",
       "  '괜찬을줄알',\n",
       "  '박스',\n",
       "  '개봉',\n",
       "  '해보다',\n",
       "  '박스',\n",
       "  '눌렸는',\n",
       "  '알약',\n",
       "  '튀어',\n",
       "  '벗기다',\n",
       "  '정말',\n",
       "  '제품',\n",
       "  '싸다',\n",
       "  '가격',\n",
       "  '아니다',\n",
       "  '다시',\n",
       "  '반품'],\n",
       " ['택배',\n",
       "  '박스',\n",
       "  '젖다',\n",
       "  '제품',\n",
       "  '괜찬을줄',\n",
       "  '안다',\n",
       "  '약품',\n",
       "  '아니다',\n",
       "  '건강',\n",
       "  '식품',\n",
       "  '관리',\n",
       "  '보관',\n",
       "  '상태',\n",
       "  '중요',\n",
       "  '제품',\n",
       "  '박스',\n",
       "  '제품',\n",
       "  '젖다',\n",
       "  '괜찬을줄알',\n",
       "  '박스',\n",
       "  '개봉',\n",
       "  '해보다',\n",
       "  '박스',\n",
       "  '눌렸는',\n",
       "  '알약',\n",
       "  '튀어',\n",
       "  '벗기다',\n",
       "  '정말',\n",
       "  '제품',\n",
       "  '싸다',\n",
       "  '가격',\n",
       "  '아니다',\n",
       "  '다시',\n",
       "  '반품'],\n",
       " ['대웅제약',\n",
       "  '우루사',\n",
       "  '알려지다',\n",
       "  '믿다',\n",
       "  '구매',\n",
       "  '판매',\n",
       "  '제조',\n",
       "  '코스',\n",
       "  '맥스',\n",
       "  '바이오',\n",
       "  '우쨋',\n",
       "  '먹기',\n",
       "  '재다',\n",
       "  '매다',\n",
       "  '병원',\n",
       "  '건강',\n",
       "  '안좋다',\n",
       "  '신경',\n",
       "  '써다'],\n",
       " ['기존', '국내', '제품', '공구', '판매', '비싸다', '성분', '복용', '해봤다', '트러블'],\n",
       " ['주문', '해외', '구매', '대행', '제품', '반품', '안되다', '연락', '안되다', '차다', '어이없다'],\n",
       " ['별로',\n",
       "  '좋다',\n",
       "  '사다',\n",
       "  '알약',\n",
       "  '넘다',\n",
       "  '넘어가다',\n",
       "  '걸리다',\n",
       "  '마냥',\n",
       "  '불편하다',\n",
       "  '알약',\n",
       "  '녹차',\n",
       "  '추출',\n",
       "  '물다',\n",
       "  '맞다',\n",
       "  '카페인',\n",
       "  '장기간',\n",
       "  '복용',\n",
       "  '우려',\n",
       "  '손상',\n",
       "  '손상',\n",
       "  '모르다',\n",
       "  '끊음',\n",
       "  '다이어트',\n",
       "  '쓰다',\n",
       "  '인용',\n",
       "  '청소년',\n",
       "  '사면',\n",
       "  '낭패'],\n",
       " ['줄줄'],\n",
       " ['기존', '국내', '제품', '공구', '판매', '비싸다', '성분', '복용', '해봤다', '트러블'],\n",
       " ['주문', '해외', '구매', '대행', '제품', '반품', '안되다', '연락', '안되다', '차다', '어이없다'],\n",
       " ['복용', '알다', '그다지', '크다', '변화', '모르다'],\n",
       " ['가격', '만원']]"
      ]
     },
     "execution_count": 17,
     "metadata": {},
     "output_type": "execute_result"
    }
   ],
   "source": [
    "# 결과 출력\n",
    "morphs_list = list()\n",
    "for tokens in tokenized_sentences:\n",
    "    morphs_list.append(tokens)\n",
    "morphs_list"
   ]
  },
  {
   "cell_type": "code",
   "execution_count": 18,
   "id": "a8f6d823-69b0-4b2f-a6ea-f519e2aaccba",
   "metadata": {
    "tags": []
   },
   "outputs": [],
   "source": [
    "preprocessed_sentences = morphs_list"
   ]
  },
  {
   "cell_type": "code",
   "execution_count": 19,
   "id": "3fbb5a87-995c-44ec-81d0-fc1476e51f00",
   "metadata": {
    "tags": []
   },
   "outputs": [
    {
     "data": {
      "text/plain": [
       "<gensim.corpora.dictionary.Dictionary at 0x276ccbee8d0>"
      ]
     },
     "execution_count": 19,
     "metadata": {},
     "output_type": "execute_result"
    }
   ],
   "source": [
    "dictionary = Dictionary(preprocessed_sentences) # fix in like sklean\n",
    "dictionary"
   ]
  },
  {
   "cell_type": "code",
   "execution_count": 20,
   "id": "8f718c8e-6a17-406c-80fa-6b68680a2b08",
   "metadata": {
    "tags": []
   },
   "outputs": [
    {
     "data": {
      "text/plain": [
       "0.642064674024219"
      ]
     },
     "execution_count": 20,
     "metadata": {},
     "output_type": "execute_result"
    }
   ],
   "source": [
    "# 일관성 점수\n",
    "from gensim.models.coherencemodel import CoherenceModel\n",
    "coherenceModel = CoherenceModel(model=lda_model, texts=morphs_list, dictionary=dictionary)\n",
    "coherenceModel.get_coherence()"
   ]
  },
  {
   "cell_type": "code",
   "execution_count": 21,
   "id": "742b4885-a489-4775-b2dd-ff5204e73933",
   "metadata": {
    "tags": []
   },
   "outputs": [
    {
     "data": {
      "text/plain": [
       "-5.979667155452199"
      ]
     },
     "execution_count": 21,
     "metadata": {},
     "output_type": "execute_result"
    }
   ],
   "source": [
    "# 혼잡도 점수\n",
    "lda_model.log_perplexity(corpus_list)"
   ]
  },
  {
   "cell_type": "code",
   "execution_count": 22,
   "id": "7d83d9c5-5e56-4da8-8fd8-e2e47cf38297",
   "metadata": {
    "tags": []
   },
   "outputs": [],
   "source": [
    "start_topic = 2\n",
    "end_topic = 10\n",
    "coherence_scores = list()\n",
    "perplexity_scores = list()\n",
    "for topic_number in range(start_topic, end_topic+1):\n",
    "    lda_model = LdaModel(corpus=corpus_list, id2word=dictionary, num_topics=topic_number) # fix\n",
    "    coherenceModel = CoherenceModel(model=lda_model, texts=morphs_list, dictionary=dictionary)\n",
    "    coherence_scores.append(coherenceModel.get_coherence()) # 일관성 점수\n",
    "    perplexity_scores.append(lda_model.log_perplexity(corpus_list))"
   ]
  },
  {
   "cell_type": "code",
   "execution_count": 23,
   "id": "43757f67-c01d-47a0-b934-1f710479fe15",
   "metadata": {
    "tags": []
   },
   "outputs": [
    {
     "data": {
      "text/html": [
       "<div>\n",
       "<style scoped>\n",
       "    .dataframe tbody tr th:only-of-type {\n",
       "        vertical-align: middle;\n",
       "    }\n",
       "\n",
       "    .dataframe tbody tr th {\n",
       "        vertical-align: top;\n",
       "    }\n",
       "\n",
       "    .dataframe thead th {\n",
       "        text-align: right;\n",
       "    }\n",
       "</style>\n",
       "<table border=\"1\" class=\"dataframe\">\n",
       "  <thead>\n",
       "    <tr style=\"text-align: right;\">\n",
       "      <th></th>\n",
       "      <th>0</th>\n",
       "      <th>1</th>\n",
       "    </tr>\n",
       "  </thead>\n",
       "  <tbody>\n",
       "    <tr>\n",
       "      <th>0</th>\n",
       "      <td>0.583837</td>\n",
       "      <td>-6.429232</td>\n",
       "    </tr>\n",
       "    <tr>\n",
       "      <th>1</th>\n",
       "      <td>0.648231</td>\n",
       "      <td>-6.694346</td>\n",
       "    </tr>\n",
       "    <tr>\n",
       "      <th>2</th>\n",
       "      <td>0.606572</td>\n",
       "      <td>-6.910390</td>\n",
       "    </tr>\n",
       "    <tr>\n",
       "      <th>3</th>\n",
       "      <td>0.640413</td>\n",
       "      <td>-7.183989</td>\n",
       "    </tr>\n",
       "    <tr>\n",
       "      <th>4</th>\n",
       "      <td>0.647235</td>\n",
       "      <td>-7.257727</td>\n",
       "    </tr>\n",
       "    <tr>\n",
       "      <th>5</th>\n",
       "      <td>0.650404</td>\n",
       "      <td>-7.404902</td>\n",
       "    </tr>\n",
       "    <tr>\n",
       "      <th>6</th>\n",
       "      <td>0.638168</td>\n",
       "      <td>-7.487084</td>\n",
       "    </tr>\n",
       "    <tr>\n",
       "      <th>7</th>\n",
       "      <td>0.640121</td>\n",
       "      <td>-7.851430</td>\n",
       "    </tr>\n",
       "    <tr>\n",
       "      <th>8</th>\n",
       "      <td>0.663279</td>\n",
       "      <td>-7.758919</td>\n",
       "    </tr>\n",
       "  </tbody>\n",
       "</table>\n",
       "</div>"
      ],
      "text/plain": [
       "          0         1\n",
       "0  0.583837 -6.429232\n",
       "1  0.648231 -6.694346\n",
       "2  0.606572 -6.910390\n",
       "3  0.640413 -7.183989\n",
       "4  0.647235 -7.257727\n",
       "5  0.650404 -7.404902\n",
       "6  0.638168 -7.487084\n",
       "7  0.640121 -7.851430\n",
       "8  0.663279 -7.758919"
      ]
     },
     "execution_count": 23,
     "metadata": {},
     "output_type": "execute_result"
    }
   ],
   "source": [
    "import pandas as pd\n",
    "scores = pd.DataFrame([coherence_scores,  perplexity_scores]).T\n",
    "scores"
   ]
  },
  {
   "cell_type": "code",
   "execution_count": 24,
   "id": "1d178cc8-141e-4932-8156-570efb0bd8ad",
   "metadata": {
    "tags": []
   },
   "outputs": [],
   "source": [
    "import seaborn as sns\n",
    "import matplotlib.pyplot as plt"
   ]
  },
  {
   "cell_type": "code",
   "execution_count": 25,
   "id": "b301261a-44da-4f4b-a160-78de26ef8536",
   "metadata": {
    "tags": []
   },
   "outputs": [
    {
     "name": "stderr",
     "output_type": "stream",
     "text": [
      "C:\\Users\\04-02\\anaconda3\\Lib\\site-packages\\seaborn\\_oldcore.py:1498: FutureWarning: is_categorical_dtype is deprecated and will be removed in a future version. Use isinstance(dtype, CategoricalDtype) instead\n",
      "  if pd.api.types.is_categorical_dtype(vector):\n",
      "C:\\Users\\04-02\\anaconda3\\Lib\\site-packages\\seaborn\\_oldcore.py:1498: FutureWarning: is_categorical_dtype is deprecated and will be removed in a future version. Use isinstance(dtype, CategoricalDtype) instead\n",
      "  if pd.api.types.is_categorical_dtype(vector):\n",
      "C:\\Users\\04-02\\anaconda3\\Lib\\site-packages\\seaborn\\_oldcore.py:1119: FutureWarning: use_inf_as_na option is deprecated and will be removed in a future version. Convert inf values to NaN before operating instead.\n",
      "  with pd.option_context('mode.use_inf_as_na', True):\n",
      "C:\\Users\\04-02\\anaconda3\\Lib\\site-packages\\seaborn\\_oldcore.py:1119: FutureWarning: use_inf_as_na option is deprecated and will be removed in a future version. Convert inf values to NaN before operating instead.\n",
      "  with pd.option_context('mode.use_inf_as_na', True):\n"
     ]
    },
    {
     "data": {
      "image/png": "[encoded data removed]",
      "text/plain": [
       "<Figure size 640x480 with 1 Axes>"
      ]
     },
     "metadata": {},
     "output_type": "display_data"
    },
    {
     "name": "stderr",
     "output_type": "stream",
     "text": [
      "C:\\Users\\04-02\\anaconda3\\Lib\\site-packages\\seaborn\\_oldcore.py:1498: FutureWarning: is_categorical_dtype is deprecated and will be removed in a future version. Use isinstance(dtype, CategoricalDtype) instead\n",
      "  if pd.api.types.is_categorical_dtype(vector):\n",
      "C:\\Users\\04-02\\anaconda3\\Lib\\site-packages\\seaborn\\_oldcore.py:1498: FutureWarning: is_categorical_dtype is deprecated and will be removed in a future version. Use isinstance(dtype, CategoricalDtype) instead\n",
      "  if pd.api.types.is_categorical_dtype(vector):\n",
      "C:\\Users\\04-02\\anaconda3\\Lib\\site-packages\\seaborn\\_oldcore.py:1119: FutureWarning: use_inf_as_na option is deprecated and will be removed in a future version. Convert inf values to NaN before operating instead.\n",
      "  with pd.option_context('mode.use_inf_as_na', True):\n",
      "C:\\Users\\04-02\\anaconda3\\Lib\\site-packages\\seaborn\\_oldcore.py:1119: FutureWarning: use_inf_as_na option is deprecated and will be removed in a future version. Convert inf values to NaN before operating instead.\n",
      "  with pd.option_context('mode.use_inf_as_na', True):\n"
     ]
    },
    {
     "data": {
      "image/png": "[encoded data removed]",
      "text/plain": [
       "<Figure size 640x480 with 1 Axes>"
      ]
     },
     "metadata": {},
     "output_type": "display_data"
    }
   ],
   "source": [
    "sns.lineplot(coherence_scores)\n",
    "plt.show()\n",
    "sns.lineplot(perplexity_scores)\n",
    "plt.show()"
   ]
  },
  {
   "cell_type": "code",
   "execution_count": null,
   "id": "c42343ab-8356-431e-afa2-a4d797cd7be5",
   "metadata": {},
   "outputs": [],
   "source": []
  },
  {
   "cell_type": "markdown",
   "id": "e73644c5-531d-4dbe-a99b-832f2dc5193c",
   "metadata": {},
   "source": [
    "##### 토픽 분석\n",
    "- review_negative.csv 토픽 분석\n",
    "- 토픽 수는 9으로 가정"
   ]
  },
  {
   "cell_type": "markdown",
   "id": "9e0f4888-5701-4dde-a1ec-b52dcdfb682c",
   "metadata": {},
   "source": [
    "##### LDA 시각화(review_negative)"
   ]
  },
  {
   "cell_type": "code",
   "execution_count": 26,
   "id": "3fbf590a-cbd6-411e-a900-da59dc414f8d",
   "metadata": {
    "tags": []
   },
   "outputs": [],
   "source": [
    "# %pip install pyLDAvis"
   ]
  },
  {
   "cell_type": "code",
   "execution_count": 27,
   "id": "fcd4a836-44c8-4993-aa82-b2f784b3d005",
   "metadata": {
    "tags": []
   },
   "outputs": [],
   "source": [
    "import pyLDAvis.gensim_models"
   ]
  },
  {
   "cell_type": "code",
   "execution_count": 28,
   "id": "e3ec6520-26ec-4270-95d5-d442a900064e",
   "metadata": {
    "tags": []
   },
   "outputs": [],
   "source": [
    "pyLDAvis.enable_notebook() # 일반적인 python에선 불필요\n",
    "result_visualized = pyLDAvis.gensim_models.prepare(lda_model, corpus_list, dictionary)"
   ]
  },
  {
   "cell_type": "code",
   "execution_count": 29,
   "id": "6aeaca2f-757b-4ec6-beb7-b0b490c8df20",
   "metadata": {
    "tags": []
   },
   "outputs": [
    {
     "data": {
      "text/html": [
       "\n",
       "<link rel=\"stylesheet\" type=\"text/css\" href=\"https://cdn.jsdelivr.net/gh/bmabey/pyLDAvis@3.4.0/pyLDAvis/js/ldavis.v1.0.0.css\">\n",
       "\n",
       "\n",
       "<div id=\"ldavis_el8568027093643988328903258344\" style=\"background-color:white;\"></div>\n",
       "<script type=\"text/javascript\">\n",
       "\n",
       "var ldavis_el8568027093643988328903258344_data = {\"mdsDat\": {\"x\": [0.01373013407436347, 0.07195726321699304, -0.006233882314185408, -0.017706724117046522, -0.02513483866675059, -0.01404813843262498, -0.006891949686139537, -0.0067415885254700604, -0.004154484463198487, -0.004775791085941058], \"y\": [-0.06063664280989627, 0.0245663698217559, -0.005533440316112759, 0.018336230198411536, 0.020164525946560423, 0.014992874258670127, -0.016403506816268485, 0.008843115372021645, -0.002668697160469553, -0.0016608284946725274], \"topics\": [1, 2, 3, 4, 5, 6, 7, 8, 9, 10], \"cluster\": [1, 1, 1, 1, 1, 1, 1, 1, 1, 1], \"Freq\": [13.333303888863677, 12.57580870955048, 10.303085520659995, 10.303015761774805, 9.545507199638012, 9.545455564855123, 8.787894837363778, 8.787809528213302, 8.78780112373235, 8.030317865348477]}, \"tinfo\": {\"Term\": [\"\\ub2e4\\uc2dc\\ub2e4\", \"\\ud568\\uc720\", \"\\ud68c\\uc0ac\", \"\\uc720\\ub3c5\", \"\\ubcf4\\ub77c\", \"\\uc624\\uc77c\", \"\\uc81c\\ud488\", \"\\ub9ac\\ub180\\ub80c\\uc0b0\", \"\\uc0c1\\uc138\", \"\\uc904\\uc774\\ub2e4\", \"\\ube0c\\ub9ac\", \"\\ub2ec\\ub9de\\uc774\\uaf43\", \"\\uc5b4\\ub5bb\\ub2e4\", \"90\", \"\\uac00\\uaca9\", \"\\uad1c\\ucc2e\\ub2e4\", \"\\ub109\\ub109\\ud558\\ub2e4\", \"\\uce90\\ub098\\ub2e4\", \"\\uad18\\uc538\\ud558\\ub2e4\", \"\\ubaa8\\ub974\\ub2e4\", \"\\uc720\\ud1b5\", \"\\ube44\\uad50\", \"\\ubcc4\\ub85c\", \"\\ub192\\ub2e4\", \"\\ub1a8\\ub124\", \"\\ucea1\\uc290\", \"\\uad6c\\uc785\", \"\\uc62c\\ub9ac\\ub2e4\", \"\\uac10\\ub9c8\", \"\\uae30\\ud55c\", \"\\ub2e4\\uc2dc\\ub2e4\", \"10%\", \"\\ubc30\\uc1a1\", \"\\uc131\\ub2a5\", \"\\ub9ac\\ub180\\ub80c\\uc0b0\", \"\\ub2ec\\ub9de\\uc774\\uaf43\", \"\\uc5b4\\ub5bb\\ub2e4\", \"\\ub294\\uac78\", \"\\ubd80\\uc791\\uc6a9\", \"\\uc548\\ub098\", \"\\uc57c\\ud558\\ub2e4\", \"\\uc5ec\\uae30\\ub2e4\", \"\\uc88b\\uc544\\uc9c0\\ub2e4\", \"\\ub6f0\\uc5b4\\ub098\\ub2e4\", \"48,000\\uc6d0\", \"\\ub0b1\\uac1c\", \"\\ub0c9\\uc7a5\\uace0\", \"\\ub123\\ub2e4\", \"\\ub290\\ub9ac\\ub2e4\", \"\\ubcf4\\uad00\", \"\\ube44\\uc2f8\\ub2e4\", \"\\uc0c1\\ub2f9\\ud558\\ub2e4\", \"\\uc628\\ub3c4\", \"\\uc6a9\\ub7c9\", \"\\uc77c\\ub958\", \"\\uc800\\ub834\\ud558\\ub2e4\", \"\\uc911\\uc694\\ud558\\ub2e4\", \"\\uc99d\\uc0c1\", \"\\ud3ec\\uc7a5\", \"\\uc0ac\\ub2e4\", \"\\ud68c\\uc0ac\", \"\\ud568\\uc720\", \"\\uc720\\ub3c5\", \"\\ubcf4\\ub77c\", \"\\uc0c1\\uc138\", \"\\ube0c\\ub9ac\", \"\\uc904\\uc774\\ub2e4\", \"\\uc624\\uc77c\", \"\\uc81c\\ud488\", \"\\uc0c8\\ub2e4\", \"60\", \"\\uc790\\uc720\", \"30%\", \"\\uce90\\ub098\\ub2e4\", \"\\uc81c\\uc57d\\ud68c\\uc0ac\", \"\\ub1a8\\ub124\", \"\\uad6c\\uc785\", \"\\uc62c\\ub9ac\\ub2e4\", \"\\ub192\\ub2e4\", \"\\uac31\\ub144\\uae30\", \"\\ubcc4\\ub85c\", \"\\uac10\\ub9c8\", \"\\uc0c1\\ud488\", \"\\ud568\\uc720\", \"\\uc0c1\\uc138\", \"\\uc904\\uc774\\ub2e4\", \"40,000\\uc6d0\", \"\\uc0c1\\ud488\", \"60\", \"\\ub9ac\\ub180\\ub80c\\uc0b0\", \"\\ub294\\uac78\", \"\\ubd80\\uc791\\uc6a9\", \"\\uc548\\ub098\", \"\\uc57c\\ud558\\ub2e4\", \"\\uc5ec\\uae30\\ub2e4\", \"\\uc88b\\uc544\\uc9c0\\ub2e4\", \"\\ub6f0\\uc5b4\\ub098\\ub2e4\", \"48,000\\uc6d0\", \"\\ub0b1\\uac1c\", \"\\ub0c9\\uc7a5\\uace0\", \"\\ub123\\ub2e4\", \"\\ub290\\ub9ac\\ub2e4\", \"\\ubcf4\\uad00\", \"\\ube44\\uc2f8\\ub2e4\", \"\\uc0c1\\ub2f9\\ud558\\ub2e4\", \"\\uc628\\ub3c4\", \"\\uc6a9\\ub7c9\", \"\\uc77c\\ub958\", \"\\uc800\\ub834\\ud558\\ub2e4\", \"\\uc911\\uc694\\ud558\\ub2e4\", \"\\uc99d\\uc0c1\", \"\\ud3ec\\uc7a5\", \"\\uc0ac\\ub2e4\", \"\\ub2e4\\uc2dc\\ub2e4\", \"\\uc720\\ub3c5\", \"\\uc624\\uc77c\", \"\\ub2ec\\ub9de\\uc774\\uaf43\", \"\\ud68c\\uc0ac\", \"\\uc81c\\ud488\", \"\\ubcf4\\ub77c\", \"\\ube0c\\ub9ac\", \"\\uc5b4\\ub5bb\\ub2e4\", \"\\uc0c8\\ub2e4\", \"30%\", \"\\uc81c\\uc57d\\ud68c\\uc0ac\", \"\\ubc30\\uc1a1\", \"\\ud310\\ub9e4\", \"\\uc790\\uc720\", \"\\uac00\\uaca9\", \"\\uac10\\ub9c8\", \"\\uac31\\ub144\\uae30\", \"\\ub109\\ub109\\ud558\\ub2e4\", \"\\uad6c\\uc785\", \"\\uad18\\uc538\\ud558\\ub2e4\", \"\\uc131\\ub2a5\", \"\\uc720\\ud1b5\", \"\\ube68\\ub974\\ub2e4\", \"\\ud6a8\\ub2a5\", \"\\uc804\\ud600\", \"\\uc790\\uc720\", \"\\uc720\\ub3c5\", \"\\ud68c\\uc0ac\", \"\\ub9ac\\ub180\\ub80c\\uc0b0\", \"\\ub294\\uac78\", \"\\ubd80\\uc791\\uc6a9\", \"\\uc548\\ub098\", \"\\uc57c\\ud558\\ub2e4\", \"\\uc5ec\\uae30\\ub2e4\", \"\\uc88b\\uc544\\uc9c0\\ub2e4\", \"\\ub6f0\\uc5b4\\ub098\\ub2e4\", \"48,000\\uc6d0\", \"\\ub0b1\\uac1c\", \"\\ub0c9\\uc7a5\\uace0\", \"\\ub123\\ub2e4\", \"\\ub290\\ub9ac\\ub2e4\", \"\\ubcf4\\uad00\", \"\\ube44\\uc2f8\\ub2e4\", \"\\uc0c1\\ub2f9\\ud558\\ub2e4\", \"\\uc628\\ub3c4\", \"\\uc6a9\\ub7c9\", \"\\uc77c\\ub958\", \"\\uc800\\ub834\\ud558\\ub2e4\", \"\\uc911\\uc694\\ud558\\ub2e4\", \"\\uc99d\\uc0c1\", \"\\ud3ec\\uc7a5\", \"\\uc0ac\\ub2e4\", \"\\ub2e4\\uc2dc\\ub2e4\", \"\\ud568\\uc720\", \"\\uc81c\\ud488\", \"\\uc624\\uc77c\", \"\\uc904\\uc774\\ub2e4\", \"\\ub2ec\\ub9de\\uc774\\uaf43\", \"\\uc5b4\\ub5bb\\ub2e4\", \"\\ube0c\\ub9ac\", \"\\uc0c1\\uc138\", \"\\ubcf4\\ub77c\", \"30%\", \"10%\", \"\\uc0c1\\ud488\", \"\\uac00\\uaca9\", \"\\uce90\\ub098\\ub2e4\", \"\\ud310\\ub9e4\", \"\\uc62c\\ub9ac\\ub2e4\", \"\\ucea1\\uc290\", \"\\uc131\\ub2a5\", \"\\ubaa8\\ub974\\ub2e4\", \"\\ubc30\\uc1a1\", \"\\uac10\\ub9c8\", \"40,000\\uc6d0\", \"\\uae30\\ud55c\", \"\\uc5ec\\uc131\", \"\\uc81c\\uc57d\\ud68c\\uc0ac\", \"\\uac31\\ub144\\uae30\", \"\\ud310\\ub9e4\", \"\\uc0c8\\ub2e4\", \"30%\", \"\\ub294\\uac78\", \"\\ubd80\\uc791\\uc6a9\", \"\\uc548\\ub098\", \"\\uc57c\\ud558\\ub2e4\", \"\\uc5ec\\uae30\\ub2e4\", \"\\uc88b\\uc544\\uc9c0\\ub2e4\", \"\\ub6f0\\uc5b4\\ub098\\ub2e4\", \"48,000\\uc6d0\", \"\\ub0b1\\uac1c\", \"\\ub0c9\\uc7a5\\uace0\", \"\\ub123\\ub2e4\", \"\\ub290\\ub9ac\\ub2e4\", \"\\ubcf4\\uad00\", \"\\ube44\\uc2f8\\ub2e4\", \"\\uc0c1\\ub2f9\\ud558\\ub2e4\", \"\\uc628\\ub3c4\", \"\\uc6a9\\ub7c9\", \"\\uc77c\\ub958\", \"\\uc800\\ub834\\ud558\\ub2e4\", \"\\uc911\\uc694\\ud558\\ub2e4\", \"\\uc99d\\uc0c1\", \"\\ud3ec\\uc7a5\", \"\\uc0ac\\ub2e4\", \"\\ub2e4\\uc2dc\\ub2e4\", \"\\ub9ac\\ub180\\ub80c\\uc0b0\", \"\\ud568\\uc720\", \"\\uc720\\ub3c5\", \"\\ud68c\\uc0ac\", \"\\uc81c\\ud488\", \"\\uc904\\uc774\\ub2e4\", \"\\ube0c\\ub9ac\", \"\\uc0c1\\uc138\", \"\\ubcf4\\ub77c\", \"\\ub2ec\\ub9de\\uc774\\uaf43\", \"\\uc624\\uc77c\", \"\\uc5b4\\ub5bb\\ub2e4\", \"60\", \"\\uac00\\uaca9\", \"\\uc720\\ud1b5\", \"\\uac10\\ub9c8\", \"\\ub109\\ub109\\ud558\\ub2e4\", \"\\uc131\\ub2a5\", \"40,000\\uc6d0\", \"\\ubcc4\\ub85c\", \"\\uc0c1\\ud488\", \"\\ucea1\\uc290\", \"\\uc624\\uc77c\", \"\\uc81c\\ud488\", \"\\uc62c\\ub9ac\\ub2e4\", \"\\uac10\\ub9c8\", \"\\uc720\\ub3c5\", \"\\ub294\\uac78\", \"\\ubd80\\uc791\\uc6a9\", \"\\uc548\\ub098\", \"\\uc57c\\ud558\\ub2e4\", \"\\uc5ec\\uae30\\ub2e4\", \"\\uc88b\\uc544\\uc9c0\\ub2e4\", \"\\ub6f0\\uc5b4\\ub098\\ub2e4\", \"48,000\\uc6d0\", \"\\ub0b1\\uac1c\", \"\\ub0c9\\uc7a5\\uace0\", \"\\ub123\\ub2e4\", \"\\ub290\\ub9ac\\ub2e4\", \"\\ubcf4\\uad00\", \"\\ube44\\uc2f8\\ub2e4\", \"\\uc0c1\\ub2f9\\ud558\\ub2e4\", \"\\uc628\\ub3c4\", \"\\uc6a9\\ub7c9\", \"\\uc77c\\ub958\", \"\\uc800\\ub834\\ud558\\ub2e4\", \"\\uc911\\uc694\\ud558\\ub2e4\", \"\\uc99d\\uc0c1\", \"\\ud3ec\\uc7a5\", \"\\uc0ac\\ub2e4\", \"\\uc2f8\\ub2e4\", \"\\uc9e7\\ub2e4\", \"\\ub9ac\\ub180\\ub80c\\uc0b0\", \"\\ub2e4\\uc2dc\\ub2e4\", \"\\ud68c\\uc0ac\", \"\\uc0c1\\uc138\", \"\\ub2ec\\ub9de\\uc774\\uaf43\", \"\\ud568\\uc720\", \"\\uc5b4\\ub5bb\\ub2e4\", \"\\ube0c\\ub9ac\", \"\\uc904\\uc774\\ub2e4\", \"\\ubcf4\\ub77c\", \"\\ubcc4\\ub85c\", \"30%\", \"\\uc790\\uc720\", \"\\uc0c8\\ub2e4\", \"\\ubc30\\uc1a1\", \"\\uad6c\\uc785\", \"\\uc720\\ud1b5\", \"10%\", \"\\uac31\\ub144\\uae30\", \"\\uc804\\ud600\", \"\\ub109\\ub109\\ud558\\ub2e4\", \"\\ud310\\ub9e4\", \"\\uc131\\ub2a5\", \"60\", \"\\ub1a8\\ub124\", \"\\ubcf4\\ub77c\", \"\\ub192\\ub2e4\", \"\\ub1a8\\ub124\", \"\\ucea1\\uc290\", \"\\uad6c\\uc785\", \"\\ub294\\uac78\", \"\\ubd80\\uc791\\uc6a9\", \"\\uc548\\ub098\", \"\\uc57c\\ud558\\ub2e4\", \"\\uc5ec\\uae30\\ub2e4\", \"\\uc88b\\uc544\\uc9c0\\ub2e4\", \"\\ub6f0\\uc5b4\\ub098\\ub2e4\", \"48,000\\uc6d0\", \"\\ub0b1\\uac1c\", \"\\ub0c9\\uc7a5\\uace0\", \"\\ub123\\ub2e4\", \"\\ub290\\ub9ac\\ub2e4\", \"\\ubcf4\\uad00\", \"\\ube44\\uc2f8\\ub2e4\", \"\\uc0c1\\ub2f9\\ud558\\ub2e4\", \"\\uc628\\ub3c4\", \"\\uc6a9\\ub7c9\", \"\\uc77c\\ub958\", \"\\uc800\\ub834\\ud558\\ub2e4\", \"\\uc911\\uc694\\ud558\\ub2e4\", \"\\uc99d\\uc0c1\", \"\\ud3ec\\uc7a5\", \"\\uc0ac\\ub2e4\", \"\\uc2f8\\ub2e4\", \"\\uc9e7\\ub2e4\", \"\\ub9ac\\ub180\\ub80c\\uc0b0\", \"\\ub2e4\\uc2dc\\ub2e4\", \"\\ud68c\\uc0ac\", \"\\ud568\\uc720\", \"\\uc81c\\ud488\", \"\\uc0c1\\uc138\", \"\\ube0c\\ub9ac\", \"\\uc720\\ub3c5\", \"\\ub2ec\\ub9de\\uc774\\uaf43\", \"\\uc904\\uc774\\ub2e4\", \"\\uc624\\uc77c\", \"\\uc5b4\\ub5bb\\ub2e4\", \"\\uac31\\ub144\\uae30\", \"\\ud310\\ub9e4\", \"\\uc131\\ub2a5\", \"60\", \"\\uad18\\uc538\\ud558\\ub2e4\", \"\\ud6a8\\ub2a5\", \"\\uc0c8\\ub2e4\", \"\\uc0c1\\ud488\", \"\\uac10\\ub9c8\", \"\\uc720\\ud1b5\", \"\\ubaa8\\ub974\\ub2e4\", \"90\", \"\\ubcc4\\ub85c\", \"\\ube44\\uad50\", \"\\ubcc4\\ub85c\", \"\\ud68c\\uc0ac\", \"\\ub2e4\\uc2dc\\ub2e4\", \"\\ub294\\uac78\", \"\\ubd80\\uc791\\uc6a9\", \"\\uc548\\ub098\", \"\\uc57c\\ud558\\ub2e4\", \"\\uc5ec\\uae30\\ub2e4\", \"\\uc88b\\uc544\\uc9c0\\ub2e4\", \"\\ub6f0\\uc5b4\\ub098\\ub2e4\", \"48,000\\uc6d0\", \"\\ub0b1\\uac1c\", \"\\ub0c9\\uc7a5\\uace0\", \"\\ub123\\ub2e4\", \"\\ub290\\ub9ac\\ub2e4\", \"\\ubcf4\\uad00\", \"\\ube44\\uc2f8\\ub2e4\", \"\\uc0c1\\ub2f9\\ud558\\ub2e4\", \"\\uc628\\ub3c4\", \"\\uc6a9\\ub7c9\", \"\\uc77c\\ub958\", \"\\uc800\\ub834\\ud558\\ub2e4\", \"\\uc911\\uc694\\ud558\\ub2e4\", \"\\uc99d\\uc0c1\", \"\\ud3ec\\uc7a5\", \"\\uc0ac\\ub2e4\", \"\\uc2f8\\ub2e4\", \"\\uc9e7\\ub2e4\", \"\\ube44\\ub2e4\", \"\\ub9ac\\ub180\\ub80c\\uc0b0\", \"\\ud568\\uc720\", \"\\uc720\\ub3c5\", \"\\uc81c\\ud488\", \"\\uc904\\uc774\\ub2e4\", \"\\uc0c1\\uc138\", \"\\uc624\\uc77c\", \"\\ube0c\\ub9ac\", \"\\ubcf4\\ub77c\", \"\\uc5b4\\ub5bb\\ub2e4\", \"\\uc5ec\\uc131\", \"30%\", \"\\uc0c8\\ub2e4\", \"90\", \"\\uac31\\ub144\\uae30\", \"\\ub2ec\\ub9de\\uc774\\uaf43\", \"\\uac00\\uaca9\", \"\\ubaa8\\ub974\\ub2e4\", \"\\uc81c\\uc57d\\ud68c\\uc0ac\", \"\\uad18\\uc538\\ud558\\ub2e4\", \"\\uc790\\uc720\", \"\\ub192\\ub2e4\", \"\\uc62c\\ub9ac\\ub2e4\", \"\\ubc30\\uc1a1\", \"\\ud310\\ub9e4\", \"\\ucea1\\uc290\", \"\\uad18\\uc538\\ud558\\ub2e4\", \"\\uce90\\ub098\\ub2e4\", \"\\ubaa8\\ub974\\ub2e4\", \"\\ube0c\\ub9ac\", \"\\ub294\\uac78\", \"\\ubd80\\uc791\\uc6a9\", \"\\uc548\\ub098\", \"\\uc57c\\ud558\\ub2e4\", \"\\uc5ec\\uae30\\ub2e4\", \"\\uc88b\\uc544\\uc9c0\\ub2e4\", \"\\ub6f0\\uc5b4\\ub098\\ub2e4\", \"48,000\\uc6d0\", \"\\ub0b1\\uac1c\", \"\\ub0c9\\uc7a5\\uace0\", \"\\ub123\\ub2e4\", \"\\ub290\\ub9ac\\ub2e4\", \"\\ubcf4\\uad00\", \"\\ube44\\uc2f8\\ub2e4\", \"\\uc0c1\\ub2f9\\ud558\\ub2e4\", \"\\uc628\\ub3c4\", \"\\uc6a9\\ub7c9\", \"\\uc77c\\ub958\", \"\\uc800\\ub834\\ud558\\ub2e4\", \"\\uc911\\uc694\\ud558\\ub2e4\", \"\\uc99d\\uc0c1\", \"\\ud3ec\\uc7a5\", \"\\uc0ac\\ub2e4\", \"\\uc2f8\\ub2e4\", \"\\uc9e7\\ub2e4\", \"\\ube44\\ub2e4\", \"\\ub9ac\\ub180\\ub80c\\uc0b0\", \"\\ub2e4\\uc2dc\\ub2e4\", \"\\ud68c\\uc0ac\", \"\\ud568\\uc720\", \"\\uc904\\uc774\\ub2e4\", \"\\uc720\\ub3c5\", \"\\ub2ec\\ub9de\\uc774\\uaf43\", \"\\uc5b4\\ub5bb\\ub2e4\", \"\\uc624\\uc77c\", \"\\uc81c\\ud488\", \"\\uc0c1\\uc138\", \"\\ubcf4\\ub77c\", \"\\uc0c8\\ub2e4\", \"\\ubc30\\uc1a1\", \"\\uc62c\\ub9ac\\ub2e4\", \"\\ud6a8\\ub2a5\", \"60\", \"30%\", \"\\uac10\\ub9c8\", \"90\", \"\\uad6c\\uc785\", \"\\uc131\\ub2a5\", \"\\uc720\\ud1b5\", \"\\uc81c\\uc57d\\ud68c\\uc0ac\", \"\\uc790\\uc720\", \"\\ucea1\\uc290\", \"\\uad1c\\ucc2e\\ub2e4\", \"\\ub109\\ub109\\ud558\\ub2e4\", \"\\uc720\\ud1b5\", \"\\uc5b4\\ub5bb\\ub2e4\", \"\\ub294\\uac78\", \"\\ubd80\\uc791\\uc6a9\", \"\\uc548\\ub098\", \"\\uc57c\\ud558\\ub2e4\", \"\\uc5ec\\uae30\\ub2e4\", \"\\uc88b\\uc544\\uc9c0\\ub2e4\", \"\\ub6f0\\uc5b4\\ub098\\ub2e4\", \"48,000\\uc6d0\", \"\\ub0b1\\uac1c\", \"\\ub0c9\\uc7a5\\uace0\", \"\\ub123\\ub2e4\", \"\\ub290\\ub9ac\\ub2e4\", \"\\ubcf4\\uad00\", \"\\ube44\\uc2f8\\ub2e4\", \"\\uc0c1\\ub2f9\\ud558\\ub2e4\", \"\\uc628\\ub3c4\", \"\\uc6a9\\ub7c9\", \"\\uc77c\\ub958\", \"\\uc800\\ub834\\ud558\\ub2e4\", \"\\uc911\\uc694\\ud558\\ub2e4\", \"\\uc99d\\uc0c1\", \"\\ud3ec\\uc7a5\", \"\\uc0ac\\ub2e4\", \"\\uc2f8\\ub2e4\", \"\\uc9e7\\ub2e4\", \"\\ube44\\ub2e4\", \"\\ub2e4\\uc2dc\\ub2e4\", \"\\ub9ac\\ub180\\ub80c\\uc0b0\", \"\\uc720\\ub3c5\", \"\\ud68c\\uc0ac\", \"\\ud568\\uc720\", \"\\uc904\\uc774\\ub2e4\", \"\\uc0c1\\uc138\", \"\\ub2ec\\ub9de\\uc774\\uaf43\", \"\\ube0c\\ub9ac\", \"\\ubcf4\\ub77c\", \"\\uc81c\\ud488\", \"\\uc624\\uc77c\", \"\\uad6c\\uc785\", \"\\uc5ec\\uc131\", \"\\ub1a8\\ub124\", \"\\uce90\\ub098\\ub2e4\", \"\\uac31\\ub144\\uae30\", \"\\ucea1\\uc290\", \"30%\", \"\\uc62c\\ub9ac\\ub2e4\", \"\\ubaa8\\ub974\\ub2e4\", \"\\ubcc4\\ub85c\", \"\\ud310\\ub9e4\", \"\\ud6a8\\ub2a5\", \"\\ubc30\\uc1a1\", \"\\uc131\\ub2a5\", \"90\", \"\\uac00\\uaca9\", \"\\ube0c\\ub9ac\", \"\\ub2ec\\ub9de\\uc774\\uaf43\", \"\\ub294\\uac78\", \"\\ubd80\\uc791\\uc6a9\", \"\\uc548\\ub098\", \"\\uc57c\\ud558\\ub2e4\", \"\\uc5ec\\uae30\\ub2e4\", \"\\uc88b\\uc544\\uc9c0\\ub2e4\", \"\\ub6f0\\uc5b4\\ub098\\ub2e4\", \"48,000\\uc6d0\", \"\\ub0b1\\uac1c\", \"\\ub0c9\\uc7a5\\uace0\", \"\\ub123\\ub2e4\", \"\\ub290\\ub9ac\\ub2e4\", \"\\ubcf4\\uad00\", \"\\ube44\\uc2f8\\ub2e4\", \"\\uc0c1\\ub2f9\\ud558\\ub2e4\", \"\\uc628\\ub3c4\", \"\\uc6a9\\ub7c9\", \"\\uc77c\\ub958\", \"\\uc800\\ub834\\ud558\\ub2e4\", \"\\uc911\\uc694\\ud558\\ub2e4\", \"\\uc99d\\uc0c1\", \"\\ud3ec\\uc7a5\", \"\\uc0ac\\ub2e4\", \"\\uc2f8\\ub2e4\", \"\\uc9e7\\ub2e4\", \"\\ube44\\ub2e4\", \"\\ub9ac\\ub180\\ub80c\\uc0b0\", \"\\ub2e4\\uc2dc\\ub2e4\", \"\\ud568\\uc720\", \"\\ud68c\\uc0ac\", \"\\uc81c\\ud488\", \"\\uc720\\ub3c5\", \"\\uc904\\uc774\\ub2e4\", \"\\uc624\\uc77c\", \"\\uc5b4\\ub5bb\\ub2e4\", \"\\ubcf4\\ub77c\", \"\\uc0c1\\uc138\", \"\\uc131\\ub2a5\", \"\\uc0c8\\ub2e4\", \"10%\", \"60\", \"\\ubaa8\\ub974\\ub2e4\", \"\\uad6c\\uc785\", \"30%\", \"\\ubcc4\\ub85c\", \"\\ud310\\ub9e4\", \"\\uad1c\\ucc2e\\ub2e4\", \"\\uc804\\ud600\", \"\\ucea1\\uc290\", \"\\ubc30\\uc1a1\", \"\\uc81c\\uc57d\\ud68c\\uc0ac\", \"\\ud6a8\\ub2a5\"], \"Freq\": [0.0, 0.0, 0.0, 0.0, 0.0, 0.0, 0.0, 0.0, 0.0, 0.0, 0.0, 0.0, 0.0, 0.0, 0.0, 0.0, 0.0, 0.0, 0.0, 0.0, 0.0, 0.0, 0.0, 0.0, 0.0, 0.0, 0.0, 0.0, 0.0, 0.0, 0.5876988840304153, 0.20854101718541276, 0.2085369029840202, 0.20853196922059722, 0.39812064723563984, 0.2085491800232355, 0.20855227796771036, 0.01896663233218021, 0.01896663233218021, 0.01896663233218021, 0.01896663233218021, 0.01896663233218021, 0.01896663233218021, 0.01896663233218021, 0.01896663233218021, 0.01896663233218021, 0.01896663233218021, 0.01896663233218021, 0.01896663233218021, 0.01896663233218021, 0.01896663233218021, 0.01896663233218021, 0.01896663233218021, 0.01896663233218021, 0.01896663233218021, 0.01896663233218021, 0.01896663233218021, 0.01896663233218021, 0.01896663233218021, 0.01896663233218021, 0.01898893261502722, 0.01898813149314251, 0.018987047622357315, 0.018982267526815044, 0.018981058672820215, 0.018980603815893345, 0.01897982523196447, 0.018979792449483255, 0.018979517896203075, 0.01897652854369721, 0.018975594242982563, 0.018975543020355666, 0.01897540779262065, 0.018974942691168402, 0.018974567741539498, 0.018974526763437978, 0.018974405878038496, 0.018974180498480136, 0.01897414771599892, 0.01897413747147354, 0.01897413747147354, 0.018973985852497918, 0.018973977656877614, 0.5426362736437617, 0.367571863294739, 0.36757180145467055, 0.19255355471677027, 0.1925502308130893, 0.1925381719997352, 0.1925554717588932, 0.017511857065400056, 0.017511857065400056, 0.017511857065400056, 0.017511857065400056, 0.017511857065400056, 0.017511857065400056, 0.017511857065400056, 0.017511857065400056, 0.017511857065400056, 0.017511857065400056, 0.017511857065400056, 0.017511857065400056, 0.017511857065400056, 0.017511857065400056, 0.017511857065400056, 0.017511857065400056, 0.017511857065400056, 0.017511857065400056, 0.017511857065400056, 0.017511857065400056, 0.017511857065400056, 0.017511857065400056, 0.017511857065400056, 0.017534627738116648, 0.017531962817665475, 0.017525587493105343, 0.017525226115205145, 0.017525222250200867, 0.01752441639680845, 0.01752419802406662, 0.01752250708469405, 0.01752246456964697, 0.017520468294936264, 0.01752020160964093, 0.01751967790156097, 0.017519579343951826, 0.01751923149356661, 0.017519183181013108, 0.017519030513344042, 0.01751894548324988, 0.017518827600619333, 0.01751875030053373, 0.017518709717988787, 0.017518645945418167, 0.017518620822890345, 0.017518551252813302, 0.16841120452145092, 0.16840564412352374, 0.16840309824656846, 0.16839714520095167, 0.3215089211587777, 0.1684233132695566, 0.1684091272885123, 0.01531591185030478, 0.01531591185030478, 0.01531591185030478, 0.01531591185030478, 0.01531591185030478, 0.01531591185030478, 0.01531591185030478, 0.01531591185030478, 0.01531591185030478, 0.01531591185030478, 0.01531591185030478, 0.01531591185030478, 0.01531591185030478, 0.01531591185030478, 0.01531591185030478, 0.01531591185030478, 0.01531591185030478, 0.01531591185030478, 0.01531591185030478, 0.01531591185030478, 0.01531591185030478, 0.01531591185030478, 0.01531591185030478, 0.015341688854476909, 0.015331812498477539, 0.015329290370374463, 0.015329287203860835, 0.015327646949802588, 0.015326142855830258, 0.015325967114324017, 0.015325696377408996, 0.015325599798743405, 0.01532557604989121, 0.015324635595344301, 0.015322821183036624, 0.015322816433266186, 0.015322666023868954, 0.015322572611716987, 0.015322564695432923, 0.015322450700942389, 0.015322270209665707, 0.015322198963109124, 0.015322172047743304, 0.015322168881229677, 0.01532208971838903, 0.015321839563812577, 0.1722940075834022, 0.17228150627224983, 0.17228072098218758, 0.17227704785125122, 0.17227084152656566, 0.17226624377991084, 0.17226520517047367, 0.015668689956676862, 0.015668689956676862, 0.015668689956676862, 0.015668689956676862, 0.015668689956676862, 0.015668689956676862, 0.015668689956676862, 0.015668689956676862, 0.015668689956676862, 0.015668689956676862, 0.015668689956676862, 0.015668689956676862, 0.015668689956676862, 0.015668689956676862, 0.015668689956676862, 0.015668689956676862, 0.015668689956676862, 0.015668689956676862, 0.015668689956676862, 0.015668689956676862, 0.015668689956676862, 0.015668689956676862, 0.015668689956676862, 0.015691849680529016, 0.015691194216646408, 0.01568507338724988, 0.015684729822847642, 0.01568404269404317, 0.015682033554750827, 0.01568193855998523, 0.015681778652129812, 0.015680486723317715, 0.01568034739766151, 0.015679817010220268, 0.015679744180899978, 0.01567853933062301, 0.015676310120123705, 0.015675698987131708, 0.015675537496030196, 0.0156754187525732, 0.015674904197592893, 0.015674791787120272, 0.015674734790260915, 0.015674604964081268, 0.015674540050991444, 0.0156745036363313, 0.30471246413901665, 0.30469742021668644, 0.15961234295350127, 0.1596099725382823, 0.15962649503644216, 0.014516680964932402, 0.014516680964932402, 0.014516680964932402, 0.014516680964932402, 0.014516680964932402, 0.014516680964932402, 0.014516680964932402, 0.014516680964932402, 0.014516680964932402, 0.014516680964932402, 0.014516680964932402, 0.014516680964932402, 0.014516680964932402, 0.014516680964932402, 0.014516680964932402, 0.014516680964932402, 0.014516680964932402, 0.014516680964932402, 0.014516680964932402, 0.014516680964932402, 0.014516680964932402, 0.014516680964932402, 0.014516680964932402, 0.014516680964932402, 0.014516680964932402, 0.014538200990722831, 0.014534580826885957, 0.014530827180508906, 0.014529876667475562, 0.014528747199827914, 0.014528729597734704, 0.01452818099916299, 0.01452755172433073, 0.014524885007209401, 0.014524368679141905, 0.014523534046555528, 0.014523349224576822, 0.014523199606784536, 0.014523196673102335, 0.01452311746368289, 0.01452308519317867, 0.014523042654786746, 0.01452273755183777, 0.014522678878193737, 0.014522466186234116, 0.014522168417490645, 0.014522117078052116, 0.014522115611211014, 0.01452198506235304, 0.014521919054503504, 0.31189951876888866, 0.16337942192197336, 0.16337902294335216, 0.16337574897172516, 0.16336974082307634, 0.014858685535797608, 0.014858685535797608, 0.014858685535797608, 0.014858685535797608, 0.014858685535797608, 0.014858685535797608, 0.014858685535797608, 0.014858685535797608, 0.014858685535797608, 0.014858685535797608, 0.014858685535797608, 0.014858685535797608, 0.014858685535797608, 0.014858685535797608, 0.014858685535797608, 0.014858685535797608, 0.014858685535797608, 0.014858685535797608, 0.014858685535797608, 0.014858685535797608, 0.014858685535797608, 0.014858685535797608, 0.014858685535797608, 0.014858685535797608, 0.014858685535797608, 0.014885053328793491, 0.01488173681900468, 0.014874499464162572, 0.014872554443384173, 0.014871979444783016, 0.014871819559967898, 0.014870744371257062, 0.014870646093434926, 0.01487004762550311, 0.014868988571957103, 0.014868038064065395, 0.014867985258071412, 0.014866007966963354, 0.014865799676653751, 0.014865487241189346, 0.014865415366364203, 0.014865226144885762, 0.014864926910919854, 0.01486490930892186, 0.0148647728934374, 0.014864604207623287, 0.014864595406624288, 0.01486448979463632, 0.014864278570660385, 0.014864259501829225, 0.15404617614857757, 0.1540359669721858, 0.2940783184960999, 0.15405255013172164, 0.014009698952349228, 0.014009698952349228, 0.014009698952349228, 0.014009698952349228, 0.014009698952349228, 0.014009698952349228, 0.014009698952349228, 0.014009698952349228, 0.014009698952349228, 0.014009698952349228, 0.014009698952349228, 0.014009698952349228, 0.014009698952349228, 0.014009698952349228, 0.014009698952349228, 0.014009698952349228, 0.014009698952349228, 0.014009698952349228, 0.014009698952349228, 0.014009698952349228, 0.014009698952349228, 0.014009698952349228, 0.014009698952349228, 0.014009698952349228, 0.014009698952349228, 0.014009698952349228, 0.014035859291643069, 0.01402401475644039, 0.014023384110226772, 0.0140219931774644, 0.01402165017074436, 0.014021469214443236, 0.014020452348064531, 0.014020020213614086, 0.014019924333782893, 0.014019150543032564, 0.014016742743891489, 0.014016391634650502, 0.014016345720365142, 0.014016256592634738, 0.014016234985912215, 0.01401599191028384, 0.014015890628772017, 0.014015806902722243, 0.014015725877512784, 0.01401564215146301, 0.01401564215146301, 0.014015503058186773, 0.014015482801884409, 0.014015477400203778, 0.014015461195161887, 0.014015343708608172, 0.15784828043910026, 0.1578490582735601, 0.157848496504228, 0.15785546460459743, 0.014356186783716434, 0.014356186783716434, 0.014356186783716434, 0.014356186783716434, 0.014356186783716434, 0.014356186783716434, 0.014356186783716434, 0.014356186783716434, 0.014356186783716434, 0.014356186783716434, 0.014356186783716434, 0.014356186783716434, 0.014356186783716434, 0.014356186783716434, 0.014356186783716434, 0.014356186783716434, 0.014356186783716434, 0.014356186783716434, 0.014356186783716434, 0.014356186783716434, 0.014356186783716434, 0.014356186783716434, 0.014356186783716434, 0.014356186783716434, 0.014356186783716434, 0.014356186783716434, 0.0143817067761159, 0.01438124358649832, 0.014370956185604092, 0.014369335697146088, 0.014369226314175173, 0.014368977839278279, 0.014368707757868611, 0.014367054859641447, 0.01436645933013313, 0.0143664026130371, 0.014366170343024787, 0.014365003591335024, 0.014363003638496437, 0.014362678190397788, 0.014362435117129087, 0.014362387852882396, 0.014362325734158172, 0.014362323033344076, 0.014362215000780209, 0.01436208401129652, 0.014361944919370541, 0.014361876048611076, 0.014361830134771433, 0.014361632975342375, 0.01436162082167894, 0.014361577608653394, 0.1578616551403, 0.15785160812146914, 0.15784588240106018, 0.15786174156626845, 0.014356152797667235, 0.014356152797667235, 0.014356152797667235, 0.014356152797667235, 0.014356152797667235, 0.014356152797667235, 0.014356152797667235, 0.014356152797667235, 0.014356152797667235, 0.014356152797667235, 0.014356152797667235, 0.014356152797667235, 0.014356152797667235, 0.014356152797667235, 0.014356152797667235, 0.014356152797667235, 0.014356152797667235, 0.014356152797667235, 0.014356152797667235, 0.014356152797667235, 0.014356152797667235, 0.014356152797667235, 0.014356152797667235, 0.014356152797667235, 0.014356152797667235, 0.014356152797667235, 0.014380566783345056, 0.014374622297203467, 0.014372557526801267, 0.014371136899945076, 0.014370078181831718, 0.014369039719804712, 0.01436794859195319, 0.014367108639572437, 0.014366472598460968, 0.014365207268266813, 0.014364392973595442, 0.01436360838785072, 0.014363137096241586, 0.0143622012650521, 0.014362189111400287, 0.014362186410588774, 0.01436216210328515, 0.014362095933403065, 0.014361894722945297, 0.01436186366361289, 0.014361794792919292, 0.014361793442513534, 0.014361571975969413, 0.014361559822317602, 0.014361558471911846, 0.014361540916637007, 0.14424698960977445, 0.14424464006491552, 0.1442463577993922, 0.14424741410737502, 0.013118707165948963, 0.013118707165948963, 0.013118707165948963, 0.013118707165948963, 0.013118707165948963, 0.013118707165948963, 0.013118707165948963, 0.013118707165948963, 0.013118707165948963, 0.013118707165948963, 0.013118707165948963, 0.013118707165948963, 0.013118707165948963, 0.013118707165948963, 0.013118707165948963, 0.013118707165948963, 0.013118707165948963, 0.013118707165948963, 0.013118707165948963, 0.013118707165948963, 0.013118707165948963, 0.013118707165948963, 0.013118707165948963, 0.013118707165948963, 0.013118707165948963, 0.013118707165948963, 0.013138480856505458, 0.013136945754717372, 0.013133425139442928, 0.013133066044088964, 0.013131777743231439, 0.013130691819136973, 0.01313022783338752, 0.01312947509054931, 0.01312764752965851, 0.013127266222220796, 0.013126258040419456, 0.013125165946301726, 0.013125001823682904, 0.013124883359236235, 0.01312478463886401, 0.013124651366361508, 0.013124579794091646, 0.013124373715314629, 0.013124108404314275, 0.013123978833825732, 0.013123753010974269, 0.013123624674490377, 0.013123616036457807, 0.01312358642034614, 0.01312347165791343, 0.01312342846775058], \"Total\": [0.0, 0.0, 0.0, 0.0, 0.0, 0.0, 0.0, 0.0, 0.0, 0.0, 0.0, 0.0, 0.0, 0.0, 0.0, 0.0, 0.0, 0.0, 0.0, 0.0, 0.0, 0.0, 0.0, 0.0, 0.0, 0.0, 0.0, 0.0, 0.0, 0.0, 0.861634674205711, 0.34230304808204354, 0.3423012102961953, 0.34229878076375686, 0.8601303640406761, 0.47347838324492214, 0.4858510097381397, 0.1526792034049738, 0.1526792034049738, 0.1526792034049738, 0.1526792034049738, 0.1526792034049738, 0.1526792034049738, 0.1526792034049738, 0.1526792034049738, 0.1526792034049738, 0.1526792034049738, 0.1526792034049738, 0.1526792034049738, 0.1526792034049738, 0.1526792034049738, 0.1526792034049738, 0.1526792034049738, 0.1526792034049738, 0.1526792034049738, 0.1526792034049738, 0.1526792034049738, 0.1526792034049738, 0.1526792034049738, 0.1526792034049738, 0.5859803150992374, 0.6779394288386116, 0.6041054138469684, 0.4498136778620705, 0.5028425509069046, 0.42739719724177866, 0.5028452298137012, 0.44297490868702916, 0.44296922438693465, 0.30933851565089815, 0.3277608829266814, 0.3058131291033963, 0.30933764448895207, 0.2962232898122432, 0.30934195345268195, 0.3012466911339574, 0.30124505337975976, 0.29782630722180964, 0.3012464004877434, 0.30934134441497035, 0.29275876883790863, 0.2978263834985203, 0.3277657730118092, 0.6779394288386116, 0.5028425509069046, 0.5028452298137012, 0.32776405241472717, 0.3277657730118092, 0.3277608829266814, 0.8601303640406761, 0.1526792034049738, 0.1526792034049738, 0.1526792034049738, 0.1526792034049738, 0.1526792034049738, 0.1526792034049738, 0.1526792034049738, 0.1526792034049738, 0.1526792034049738, 0.1526792034049738, 0.1526792034049738, 0.1526792034049738, 0.1526792034049738, 0.1526792034049738, 0.1526792034049738, 0.1526792034049738, 0.1526792034049738, 0.1526792034049738, 0.1526792034049738, 0.1526792034049738, 0.1526792034049738, 0.1526792034049738, 0.1526792034049738, 0.861634674205711, 0.6041054138469684, 0.44297490868702916, 0.47347838324492214, 0.5859803150992374, 0.44296922438693465, 0.4498136778620705, 0.42739719724177866, 0.4858510097381397, 0.30933851565089815, 0.30933764448895207, 0.30934195345268195, 0.3423012102961953, 0.30933620127091216, 0.3058131291033963, 0.2838549475079379, 0.2978263834985203, 0.30934134441497035, 0.29622387491488567, 0.30124505337975976, 0.29622110132207485, 0.34229878076375686, 0.29622051739178534, 0.30581879895642716, 0.3058170943628563, 0.30581559415322923, 0.3058131291033963, 0.6041054138469684, 0.5859803150992374, 0.8601303640406761, 0.1526792034049738, 0.1526792034049738, 0.1526792034049738, 0.1526792034049738, 0.1526792034049738, 0.1526792034049738, 0.1526792034049738, 0.1526792034049738, 0.1526792034049738, 0.1526792034049738, 0.1526792034049738, 0.1526792034049738, 0.1526792034049738, 0.1526792034049738, 0.1526792034049738, 0.1526792034049738, 0.1526792034049738, 0.1526792034049738, 0.1526792034049738, 0.1526792034049738, 0.1526792034049738, 0.1526792034049738, 0.1526792034049738, 0.861634674205711, 0.6779394288386116, 0.44296922438693465, 0.44297490868702916, 0.5028452298137012, 0.47347838324492214, 0.4858510097381397, 0.42739719724177866, 0.5028425509069046, 0.4498136778620705, 0.30933764448895207, 0.34230304808204354, 0.3277657730118092, 0.2838549475079379, 0.2962232898122432, 0.30933620127091216, 0.29782630722180964, 0.3012454823232995, 0.34229878076375686, 0.29622288709599887, 0.3423012102961953, 0.2978263834985203, 0.32776405241472717, 0.3093449393419131, 0.3093404152323572, 0.30934195345268195, 0.30934134441497035, 0.30933620127091216, 0.30933851565089815, 0.30933764448895207, 0.1526792034049738, 0.1526792034049738, 0.1526792034049738, 0.1526792034049738, 0.1526792034049738, 0.1526792034049738, 0.1526792034049738, 0.1526792034049738, 0.1526792034049738, 0.1526792034049738, 0.1526792034049738, 0.1526792034049738, 0.1526792034049738, 0.1526792034049738, 0.1526792034049738, 0.1526792034049738, 0.1526792034049738, 0.1526792034049738, 0.1526792034049738, 0.1526792034049738, 0.1526792034049738, 0.1526792034049738, 0.1526792034049738, 0.861634674205711, 0.8601303640406761, 0.6779394288386116, 0.6041054138469684, 0.5859803150992374, 0.44296922438693465, 0.5028452298137012, 0.42739719724177866, 0.5028425509069046, 0.4498136778620705, 0.47347838324492214, 0.44297490868702916, 0.4858510097381397, 0.3277608829266814, 0.2838549475079379, 0.29622051739178534, 0.2978263834985203, 0.29622387491488567, 0.34229878076375686, 0.32776405241472717, 0.29275876883790863, 0.3277657730118092, 0.3012454823232995, 0.44297490868702916, 0.44296922438693465, 0.29782630722180964, 0.2978263834985203, 0.6041054138469684, 0.1526792034049738, 0.1526792034049738, 0.1526792034049738, 0.1526792034049738, 0.1526792034049738, 0.1526792034049738, 0.1526792034049738, 0.1526792034049738, 0.1526792034049738, 0.1526792034049738, 0.1526792034049738, 0.1526792034049738, 0.1526792034049738, 0.1526792034049738, 0.1526792034049738, 0.1526792034049738, 0.1526792034049738, 0.1526792034049738, 0.1526792034049738, 0.1526792034049738, 0.1526792034049738, 0.1526792034049738, 0.1526792034049738, 0.1526792034049738, 0.1526792034049738, 0.8601303640406761, 0.861634674205711, 0.5859803150992374, 0.5028425509069046, 0.47347838324492214, 0.6779394288386116, 0.4858510097381397, 0.42739719724177866, 0.5028452298137012, 0.4498136778620705, 0.29275876883790863, 0.30933764448895207, 0.3058131291033963, 0.30933851565089815, 0.3423012102961953, 0.30124505337975976, 0.29622051739178534, 0.34230304808204354, 0.30934134441497035, 0.30581559415322923, 0.29622387491488567, 0.30933620127091216, 0.34229878076375686, 0.3277608829266814, 0.3012466911339574, 0.4498136778620705, 0.3012464004877434, 0.3012466911339574, 0.3012454823232995, 0.30124505337975976, 0.1526792034049738, 0.1526792034049738, 0.1526792034049738, 0.1526792034049738, 0.1526792034049738, 0.1526792034049738, 0.1526792034049738, 0.1526792034049738, 0.1526792034049738, 0.1526792034049738, 0.1526792034049738, 0.1526792034049738, 0.1526792034049738, 0.1526792034049738, 0.1526792034049738, 0.1526792034049738, 0.1526792034049738, 0.1526792034049738, 0.1526792034049738, 0.1526792034049738, 0.1526792034049738, 0.1526792034049738, 0.1526792034049738, 0.1526792034049738, 0.1526792034049738, 0.8601303640406761, 0.861634674205711, 0.5859803150992374, 0.6779394288386116, 0.44296922438693465, 0.5028425509069046, 0.42739719724177866, 0.6041054138469684, 0.47347838324492214, 0.5028452298137012, 0.44297490868702916, 0.4858510097381397, 0.30934134441497035, 0.30933620127091216, 0.34229878076375686, 0.3277608829266814, 0.29622110132207485, 0.3058170943628563, 0.30933851565089815, 0.3277657730118092, 0.2978263834985203, 0.29622051739178534, 0.29622288709599887, 0.283855329322963, 0.29275876883790863, 0.29276160634685744, 0.29275876883790863, 0.5859803150992374, 0.861634674205711, 0.1526792034049738, 0.1526792034049738, 0.1526792034049738, 0.1526792034049738, 0.1526792034049738, 0.1526792034049738, 0.1526792034049738, 0.1526792034049738, 0.1526792034049738, 0.1526792034049738, 0.1526792034049738, 0.1526792034049738, 0.1526792034049738, 0.1526792034049738, 0.1526792034049738, 0.1526792034049738, 0.1526792034049738, 0.1526792034049738, 0.1526792034049738, 0.1526792034049738, 0.1526792034049738, 0.1526792034049738, 0.1526792034049738, 0.1526792034049738, 0.1526792034049738, 0.1526792034049738, 0.8601303640406761, 0.6779394288386116, 0.6041054138469684, 0.44296922438693465, 0.5028452298137012, 0.5028425509069046, 0.44297490868702916, 0.42739719724177866, 0.4498136778620705, 0.4858510097381397, 0.3093404152323572, 0.30933764448895207, 0.30933851565089815, 0.283855329322963, 0.30934134441497035, 0.47347838324492214, 0.2838549475079379, 0.29622288709599887, 0.30934195345268195, 0.29622110132207485, 0.3058131291033963, 0.3012464004877434, 0.29782630722180964, 0.3423012102961953, 0.30933620127091216, 0.3012454823232995, 0.29622110132207485, 0.2962232898122432, 0.29622288709599887, 0.42739719724177866, 0.1526792034049738, 0.1526792034049738, 0.1526792034049738, 0.1526792034049738, 0.1526792034049738, 0.1526792034049738, 0.1526792034049738, 0.1526792034049738, 0.1526792034049738, 0.1526792034049738, 0.1526792034049738, 0.1526792034049738, 0.1526792034049738, 0.1526792034049738, 0.1526792034049738, 0.1526792034049738, 0.1526792034049738, 0.1526792034049738, 0.1526792034049738, 0.1526792034049738, 0.1526792034049738, 0.1526792034049738, 0.1526792034049738, 0.1526792034049738, 0.1526792034049738, 0.1526792034049738, 0.8601303640406761, 0.861634674205711, 0.5859803150992374, 0.6779394288386116, 0.5028452298137012, 0.6041054138469684, 0.47347838324492214, 0.4858510097381397, 0.44297490868702916, 0.44296922438693465, 0.5028425509069046, 0.4498136778620705, 0.30933851565089815, 0.3423012102961953, 0.29782630722180964, 0.3058170943628563, 0.3277608829266814, 0.30933764448895207, 0.2978263834985203, 0.283855329322963, 0.30124505337975976, 0.34229878076375686, 0.29622051739178534, 0.30934195345268195, 0.3058131291033963, 0.3012454823232995, 0.296225938009248, 0.29622387491488567, 0.29622051739178534, 0.4858510097381397, 0.1526792034049738, 0.1526792034049738, 0.1526792034049738, 0.1526792034049738, 0.1526792034049738, 0.1526792034049738, 0.1526792034049738, 0.1526792034049738, 0.1526792034049738, 0.1526792034049738, 0.1526792034049738, 0.1526792034049738, 0.1526792034049738, 0.1526792034049738, 0.1526792034049738, 0.1526792034049738, 0.1526792034049738, 0.1526792034049738, 0.1526792034049738, 0.1526792034049738, 0.1526792034049738, 0.1526792034049738, 0.1526792034049738, 0.1526792034049738, 0.1526792034049738, 0.1526792034049738, 0.861634674205711, 0.8601303640406761, 0.6041054138469684, 0.5859803150992374, 0.6779394288386116, 0.5028452298137012, 0.5028425509069046, 0.47347838324492214, 0.42739719724177866, 0.4498136778620705, 0.44296922438693465, 0.44297490868702916, 0.30124505337975976, 0.3093404152323572, 0.3012466911339574, 0.2962232898122432, 0.30934134441497035, 0.3012454823232995, 0.30933764448895207, 0.29782630722180964, 0.29622288709599887, 0.29275876883790863, 0.30933620127091216, 0.3058170943628563, 0.3423012102961953, 0.34229878076375686, 0.283855329322963, 0.2838549475079379, 0.42739719724177866, 0.47347838324492214, 0.1526792034049738, 0.1526792034049738, 0.1526792034049738, 0.1526792034049738, 0.1526792034049738, 0.1526792034049738, 0.1526792034049738, 0.1526792034049738, 0.1526792034049738, 0.1526792034049738, 0.1526792034049738, 0.1526792034049738, 0.1526792034049738, 0.1526792034049738, 0.1526792034049738, 0.1526792034049738, 0.1526792034049738, 0.1526792034049738, 0.1526792034049738, 0.1526792034049738, 0.1526792034049738, 0.1526792034049738, 0.1526792034049738, 0.1526792034049738, 0.1526792034049738, 0.1526792034049738, 0.8601303640406761, 0.861634674205711, 0.6779394288386116, 0.5859803150992374, 0.44296922438693465, 0.6041054138469684, 0.5028452298137012, 0.44297490868702916, 0.4858510097381397, 0.4498136778620705, 0.5028425509069046, 0.34229878076375686, 0.30933851565089815, 0.34230304808204354, 0.3277608829266814, 0.29622288709599887, 0.30124505337975976, 0.30933764448895207, 0.29275876883790863, 0.30933620127091216, 0.296225938009248, 0.30581559415322923, 0.3012454823232995, 0.3423012102961953, 0.30934195345268195, 0.3058170943628563], \"Category\": [\"Default\", \"Default\", \"Default\", \"Default\", \"Default\", \"Default\", \"Default\", \"Default\", \"Default\", \"Default\", \"Default\", \"Default\", \"Default\", \"Default\", \"Default\", \"Default\", \"Default\", \"Default\", \"Default\", \"Default\", \"Default\", \"Default\", \"Default\", \"Default\", \"Default\", \"Default\", \"Default\", \"Default\", \"Default\", \"Default\", \"Topic1\", \"Topic1\", \"Topic1\", \"Topic1\", \"Topic1\", \"Topic1\", \"Topic1\", \"Topic1\", \"Topic1\", \"Topic1\", \"Topic1\", \"Topic1\", \"Topic1\", \"Topic1\", \"Topic1\", \"Topic1\", \"Topic1\", \"Topic1\", \"Topic1\", \"Topic1\", \"Topic1\", \"Topic1\", \"Topic1\", \"Topic1\", \"Topic1\", \"Topic1\", \"Topic1\", \"Topic1\", \"Topic1\", \"Topic1\", \"Topic1\", \"Topic1\", \"Topic1\", \"Topic1\", \"Topic1\", \"Topic1\", \"Topic1\", \"Topic1\", \"Topic1\", \"Topic1\", \"Topic1\", \"Topic1\", \"Topic1\", \"Topic1\", \"Topic1\", \"Topic1\", \"Topic1\", \"Topic1\", \"Topic1\", \"Topic1\", \"Topic1\", \"Topic1\", \"Topic1\", \"Topic2\", \"Topic2\", \"Topic2\", \"Topic2\", \"Topic2\", \"Topic2\", \"Topic2\", \"Topic2\", \"Topic2\", \"Topic2\", \"Topic2\", \"Topic2\", \"Topic2\", \"Topic2\", \"Topic2\", \"Topic2\", \"Topic2\", \"Topic2\", \"Topic2\", \"Topic2\", \"Topic2\", \"Topic2\", \"Topic2\", \"Topic2\", \"Topic2\", \"Topic2\", \"Topic2\", \"Topic2\", \"Topic2\", \"Topic2\", \"Topic2\", \"Topic2\", \"Topic2\", \"Topic2\", \"Topic2\", \"Topic2\", \"Topic2\", \"Topic2\", \"Topic2\", \"Topic2\", \"Topic2\", \"Topic2\", \"Topic2\", \"Topic2\", \"Topic2\", \"Topic2\", \"Topic2\", \"Topic2\", \"Topic2\", \"Topic2\", \"Topic2\", \"Topic2\", \"Topic2\", \"Topic3\", \"Topic3\", \"Topic3\", \"Topic3\", \"Topic3\", \"Topic3\", \"Topic3\", \"Topic3\", \"Topic3\", \"Topic3\", \"Topic3\", \"Topic3\", \"Topic3\", \"Topic3\", \"Topic3\", \"Topic3\", \"Topic3\", \"Topic3\", \"Topic3\", \"Topic3\", \"Topic3\", \"Topic3\", \"Topic3\", \"Topic3\", \"Topic3\", \"Topic3\", \"Topic3\", \"Topic3\", \"Topic3\", \"Topic3\", \"Topic3\", \"Topic3\", \"Topic3\", \"Topic3\", \"Topic3\", \"Topic3\", \"Topic3\", \"Topic3\", \"Topic3\", \"Topic3\", \"Topic3\", \"Topic3\", \"Topic3\", \"Topic3\", \"Topic3\", \"Topic3\", \"Topic3\", \"Topic3\", \"Topic3\", \"Topic3\", \"Topic3\", \"Topic3\", \"Topic3\", \"Topic4\", \"Topic4\", \"Topic4\", \"Topic4\", \"Topic4\", \"Topic4\", \"Topic4\", \"Topic4\", \"Topic4\", \"Topic4\", \"Topic4\", \"Topic4\", \"Topic4\", \"Topic4\", \"Topic4\", \"Topic4\", \"Topic4\", \"Topic4\", \"Topic4\", \"Topic4\", \"Topic4\", \"Topic4\", \"Topic4\", \"Topic4\", \"Topic4\", \"Topic4\", \"Topic4\", \"Topic4\", \"Topic4\", \"Topic4\", \"Topic4\", \"Topic4\", \"Topic4\", \"Topic4\", \"Topic4\", \"Topic4\", \"Topic4\", \"Topic4\", \"Topic4\", \"Topic4\", \"Topic4\", \"Topic4\", \"Topic4\", \"Topic4\", \"Topic4\", \"Topic4\", \"Topic4\", \"Topic4\", \"Topic4\", \"Topic4\", \"Topic4\", \"Topic4\", \"Topic4\", \"Topic5\", \"Topic5\", \"Topic5\", \"Topic5\", \"Topic5\", \"Topic5\", \"Topic5\", \"Topic5\", \"Topic5\", \"Topic5\", \"Topic5\", \"Topic5\", \"Topic5\", \"Topic5\", \"Topic5\", \"Topic5\", \"Topic5\", \"Topic5\", \"Topic5\", \"Topic5\", \"Topic5\", \"Topic5\", \"Topic5\", \"Topic5\", \"Topic5\", \"Topic5\", \"Topic5\", \"Topic5\", \"Topic5\", \"Topic5\", \"Topic5\", \"Topic5\", \"Topic5\", \"Topic5\", \"Topic5\", \"Topic5\", \"Topic5\", \"Topic5\", \"Topic5\", \"Topic5\", \"Topic5\", \"Topic5\", \"Topic5\", \"Topic5\", \"Topic5\", \"Topic5\", \"Topic5\", \"Topic5\", \"Topic5\", \"Topic5\", \"Topic5\", \"Topic5\", \"Topic5\", \"Topic5\", \"Topic5\", \"Topic6\", \"Topic6\", \"Topic6\", \"Topic6\", \"Topic6\", \"Topic6\", \"Topic6\", \"Topic6\", \"Topic6\", \"Topic6\", \"Topic6\", \"Topic6\", \"Topic6\", \"Topic6\", \"Topic6\", \"Topic6\", \"Topic6\", \"Topic6\", \"Topic6\", \"Topic6\", \"Topic6\", \"Topic6\", \"Topic6\", \"Topic6\", \"Topic6\", \"Topic6\", \"Topic6\", \"Topic6\", \"Topic6\", \"Topic6\", \"Topic6\", \"Topic6\", \"Topic6\", \"Topic6\", \"Topic6\", \"Topic6\", \"Topic6\", \"Topic6\", \"Topic6\", \"Topic6\", \"Topic6\", \"Topic6\", \"Topic6\", \"Topic6\", \"Topic6\", \"Topic6\", \"Topic6\", \"Topic6\", \"Topic6\", \"Topic6\", \"Topic6\", \"Topic6\", \"Topic6\", \"Topic6\", \"Topic6\", \"Topic7\", \"Topic7\", \"Topic7\", \"Topic7\", \"Topic7\", \"Topic7\", \"Topic7\", \"Topic7\", \"Topic7\", \"Topic7\", \"Topic7\", \"Topic7\", \"Topic7\", \"Topic7\", \"Topic7\", \"Topic7\", \"Topic7\", \"Topic7\", \"Topic7\", \"Topic7\", \"Topic7\", \"Topic7\", \"Topic7\", \"Topic7\", \"Topic7\", \"Topic7\", \"Topic7\", \"Topic7\", \"Topic7\", \"Topic7\", \"Topic7\", \"Topic7\", \"Topic7\", \"Topic7\", \"Topic7\", \"Topic7\", \"Topic7\", \"Topic7\", \"Topic7\", \"Topic7\", \"Topic7\", \"Topic7\", \"Topic7\", \"Topic7\", \"Topic7\", \"Topic7\", \"Topic7\", \"Topic7\", \"Topic7\", \"Topic7\", \"Topic7\", \"Topic7\", \"Topic7\", \"Topic7\", \"Topic7\", \"Topic7\", \"Topic8\", \"Topic8\", \"Topic8\", \"Topic8\", \"Topic8\", \"Topic8\", \"Topic8\", \"Topic8\", \"Topic8\", \"Topic8\", \"Topic8\", \"Topic8\", \"Topic8\", \"Topic8\", \"Topic8\", \"Topic8\", \"Topic8\", \"Topic8\", \"Topic8\", \"Topic8\", \"Topic8\", \"Topic8\", \"Topic8\", \"Topic8\", \"Topic8\", \"Topic8\", \"Topic8\", \"Topic8\", \"Topic8\", \"Topic8\", \"Topic8\", \"Topic8\", \"Topic8\", \"Topic8\", \"Topic8\", \"Topic8\", \"Topic8\", \"Topic8\", \"Topic8\", \"Topic8\", \"Topic8\", \"Topic8\", \"Topic8\", \"Topic8\", \"Topic8\", \"Topic8\", \"Topic8\", \"Topic8\", \"Topic8\", \"Topic8\", \"Topic8\", \"Topic8\", \"Topic8\", \"Topic8\", \"Topic8\", \"Topic8\", \"Topic9\", \"Topic9\", \"Topic9\", \"Topic9\", \"Topic9\", \"Topic9\", \"Topic9\", \"Topic9\", \"Topic9\", \"Topic9\", \"Topic9\", \"Topic9\", \"Topic9\", \"Topic9\", \"Topic9\", \"Topic9\", \"Topic9\", \"Topic9\", \"Topic9\", \"Topic9\", \"Topic9\", \"Topic9\", \"Topic9\", \"Topic9\", \"Topic9\", \"Topic9\", \"Topic9\", \"Topic9\", \"Topic9\", \"Topic9\", \"Topic9\", \"Topic9\", \"Topic9\", \"Topic9\", \"Topic9\", \"Topic9\", \"Topic9\", \"Topic9\", \"Topic9\", \"Topic9\", \"Topic9\", \"Topic9\", \"Topic9\", \"Topic9\", \"Topic9\", \"Topic9\", \"Topic9\", \"Topic9\", \"Topic9\", \"Topic9\", \"Topic9\", \"Topic9\", \"Topic9\", \"Topic9\", \"Topic9\", \"Topic9\", \"Topic10\", \"Topic10\", \"Topic10\", \"Topic10\", \"Topic10\", \"Topic10\", \"Topic10\", \"Topic10\", \"Topic10\", \"Topic10\", \"Topic10\", \"Topic10\", \"Topic10\", \"Topic10\", \"Topic10\", \"Topic10\", \"Topic10\", \"Topic10\", \"Topic10\", \"Topic10\", \"Topic10\", \"Topic10\", \"Topic10\", \"Topic10\", \"Topic10\", \"Topic10\", \"Topic10\", \"Topic10\", \"Topic10\", \"Topic10\", \"Topic10\", \"Topic10\", \"Topic10\", \"Topic10\", \"Topic10\", \"Topic10\", \"Topic10\", \"Topic10\", \"Topic10\", \"Topic10\", \"Topic10\", \"Topic10\", \"Topic10\", \"Topic10\", \"Topic10\", \"Topic10\", \"Topic10\", \"Topic10\", \"Topic10\", \"Topic10\", \"Topic10\", \"Topic10\", \"Topic10\", \"Topic10\", \"Topic10\", \"Topic10\"], \"logprob\": [30.0, 29.0, 28.0, 27.0, 26.0, 25.0, 24.0, 23.0, 22.0, 21.0, 20.0, 19.0, 18.0, 17.0, 16.0, 15.0, 14.0, 13.0, 12.0, 11.0, 10.0, 9.0, 8.0, 7.0, 6.0, 5.0, 4.0, 3.0, 2.0, 1.0, -2.7063, -3.7424, -3.7424, -3.7424, -3.0957, -3.7423, -3.7423, -6.1398, -6.1398, -6.1398, -6.1398, -6.1398, -6.1398, -6.1398, -6.1398, -6.1398, -6.1398, -6.1398, -6.1398, -6.1398, -6.1398, -6.1398, -6.1398, -6.1398, -6.1398, -6.1398, -6.1398, -6.1398, -6.1398, -6.1398, -6.1386, -6.1387, -6.1387, -6.139, -6.1391, -6.1391, -6.1391, -6.1391, -6.1391, -6.1393, -6.1394, -6.1394, -6.1394, -6.1394, -6.1394, -6.1394, -6.1394, -6.1394, -6.1394, -6.1394, -6.1394, -6.1394, -6.1394, -2.7276, -3.1171, -3.1171, -3.7636, -3.7637, -3.7637, -3.7636, -6.1611, -6.1611, -6.1611, -6.1611, -6.1611, -6.1611, -6.1611, -6.1611, -6.1611, -6.1611, -6.1611, -6.1611, -6.1611, -6.1611, -6.1611, -6.1611, -6.1611, -6.1611, -6.1611, -6.1611, -6.1611, -6.1611, -6.1611, -6.1598, -6.16, -6.1604, -6.1604, -6.1604, -6.1604, -6.1604, -6.1605, -6.1605, -6.1606, -6.1607, -6.1607, -6.1607, -6.1607, -6.1607, -6.1607, -6.1607, -6.1607, -6.1607, -6.1607, -6.1607, -6.1608, -6.1608, -3.6983, -3.6983, -3.6983, -3.6984, -3.0517, -3.6982, -3.6983, -6.0958, -6.0958, -6.0958, -6.0958, -6.0958, -6.0958, -6.0958, -6.0958, -6.0958, -6.0958, -6.0958, -6.0958, -6.0958, -6.0958, -6.0958, -6.0958, -6.0958, -6.0958, -6.0958, -6.0958, -6.0958, -6.0958, -6.0958, -6.0941, -6.0948, -6.0949, -6.0949, -6.095, -6.0951, -6.0951, -6.0952, -6.0952, -6.0952, -6.0952, -6.0953, -6.0953, -6.0954, -6.0954, -6.0954, -6.0954, -6.0954, -6.0954, -6.0954, -6.0954, -6.0954, -6.0954, -3.6755, -3.6755, -3.6756, -3.6756, -3.6756, -3.6756, -3.6756, -6.073, -6.073, -6.073, -6.073, -6.073, -6.073, -6.073, -6.073, -6.073, -6.073, -6.073, -6.073, -6.073, -6.073, -6.073, -6.073, -6.073, -6.073, -6.073, -6.073, -6.073, -6.073, -6.073, -6.0715, -6.0716, -6.072, -6.072, -6.072, -6.0722, -6.0722, -6.0722, -6.0723, -6.0723, -6.0723, -6.0723, -6.0724, -6.0725, -6.0726, -6.0726, -6.0726, -6.0726, -6.0726, -6.0726, -6.0726, -6.0726, -6.0726, -3.0289, -3.029, -3.6756, -3.6756, -3.6755, -6.073, -6.073, -6.073, -6.073, -6.073, -6.073, -6.073, -6.073, -6.073, -6.073, -6.073, -6.073, -6.073, -6.073, -6.073, -6.073, -6.073, -6.073, -6.073, -6.073, -6.073, -6.073, -6.073, -6.073, -6.073, -6.0715, -6.0718, -6.072, -6.0721, -6.0722, -6.0722, -6.0722, -6.0723, -6.0724, -6.0725, -6.0725, -6.0726, -6.0726, -6.0726, -6.0726, -6.0726, -6.0726, -6.0726, -6.0726, -6.0726, -6.0726, -6.0726, -6.0726, -6.0726, -6.0727, -3.0056, -3.6522, -3.6522, -3.6523, -3.6523, -6.0497, -6.0497, -6.0497, -6.0497, -6.0497, -6.0497, -6.0497, -6.0497, -6.0497, -6.0497, -6.0497, -6.0497, -6.0497, -6.0497, -6.0497, -6.0497, -6.0497, -6.0497, -6.0497, -6.0497, -6.0497, -6.0497, -6.0497, -6.0497, -6.0497, -6.0479, -6.0482, -6.0487, -6.0488, -6.0488, -6.0488, -6.0489, -6.0489, -6.049, -6.049, -6.0491, -6.0491, -6.0492, -6.0492, -6.0493, -6.0493, -6.0493, -6.0493, -6.0493, -6.0493, -6.0493, -6.0493, -6.0493, -6.0493, -6.0493, -3.6284, -3.6284, -2.9818, -3.6283, -6.0259, -6.0259, -6.0259, -6.0259, -6.0259, -6.0259, -6.0259, -6.0259, -6.0259, -6.0259, -6.0259, -6.0259, -6.0259, -6.0259, -6.0259, -6.0259, -6.0259, -6.0259, -6.0259, -6.0259, -6.0259, -6.0259, -6.0259, -6.0259, -6.0259, -6.0259, -6.024, -6.0248, -6.0249, -6.025, -6.025, -6.025, -6.0251, -6.0251, -6.0251, -6.0252, -6.0254, -6.0254, -6.0254, -6.0254, -6.0254, -6.0254, -6.0254, -6.0254, -6.0254, -6.0254, -6.0254, -6.0255, -6.0255, -6.0255, -6.0255, -6.0255, -3.604, -3.604, -3.604, -3.6039, -6.0014, -6.0014, -6.0014, -6.0014, -6.0014, -6.0014, -6.0014, -6.0014, -6.0014, -6.0014, -6.0014, -6.0014, -6.0014, -6.0014, -6.0014, -6.0014, -6.0014, -6.0014, -6.0014, -6.0014, -6.0014, -6.0014, -6.0014, -6.0014, -6.0014, -6.0014, -5.9996, -5.9997, -6.0004, -6.0005, -6.0005, -6.0005, -6.0006, -6.0007, -6.0007, -6.0007, -6.0007, -6.0008, -6.0009, -6.001, -6.001, -6.001, -6.001, -6.001, -6.001, -6.001, -6.001, -6.001, -6.001, -6.001, -6.001, -6.001, -3.6039, -3.6039, -3.604, -3.6039, -6.0014, -6.0014, -6.0014, -6.0014, -6.0014, -6.0014, -6.0014, -6.0014, -6.0014, -6.0014, -6.0014, -6.0014, -6.0014, -6.0014, -6.0014, -6.0014, -6.0014, -6.0014, -6.0014, -6.0014, -6.0014, -6.0014, -6.0014, -6.0014, -6.0014, -6.0014, -5.9997, -6.0001, -6.0003, -6.0004, -6.0005, -6.0005, -6.0006, -6.0007, -6.0007, -6.0008, -6.0009, -6.0009, -6.0009, -6.001, -6.001, -6.001, -6.001, -6.001, -6.001, -6.001, -6.001, -6.001, -6.001, -6.001, -6.001, -6.0011, -3.6039, -3.604, -3.6039, -3.6039, -6.0014, -6.0014, -6.0014, -6.0014, -6.0014, -6.0014, -6.0014, -6.0014, -6.0014, -6.0014, -6.0014, -6.0014, -6.0014, -6.0014, -6.0014, -6.0014, -6.0014, -6.0014, -6.0014, -6.0014, -6.0014, -6.0014, -6.0014, -6.0014, -6.0014, -6.0014, -5.9999, -6.0, -6.0003, -6.0003, -6.0004, -6.0005, -6.0005, -6.0006, -6.0007, -6.0008, -6.0008, -6.0009, -6.0009, -6.001, -6.001, -6.001, -6.001, -6.001, -6.001, -6.001, -6.001, -6.001, -6.0011, -6.0011, -6.0011, -6.0011], \"loglift\": [30.0, 29.0, 28.0, 27.0, 26.0, 25.0, 24.0, 23.0, 22.0, 21.0, 20.0, 19.0, 18.0, 17.0, 16.0, 15.0, 14.0, 13.0, 12.0, 11.0, 10.0, 9.0, 8.0, 7.0, 6.0, 5.0, 4.0, 3.0, 2.0, 1.0, 1.6323, 1.5193, 1.5193, 1.5193, 1.2446, 1.195, 1.1692, -0.0708, -0.0708, -0.0708, -0.0708, -0.0708, -0.0708, -0.0708, -0.0708, -0.0708, -0.0708, -0.0708, -0.0708, -0.0708, -0.0708, -0.0708, -0.0708, -0.0708, -0.0708, -0.0708, -0.0708, -0.0708, -0.0708, -0.0708, -1.4145, -1.5603, -1.4451, -1.1504, -1.2619, -1.0994, -1.262, -1.1352, -1.1352, -0.7763, -0.8342, -0.7649, -0.7764, -0.7331, -0.7764, -0.7499, -0.7499, -0.7385, -0.7499, -0.7765, -0.7214, -0.7385, -0.8343, 1.8508, 1.76, 1.76, 1.5415, 1.5415, 1.5414, 0.5767, -0.0921, -0.0921, -0.0921, -0.0921, -0.0921, -0.0921, -0.0921, -0.0921, -0.0921, -0.0921, -0.0921, -0.0921, -0.0921, -0.0921, -0.0921, -0.0921, -0.0921, -0.0921, -0.0921, -0.0921, -0.0921, -0.0921, -0.0921, -1.8213, -1.4663, -1.1565, -1.2231, -1.4362, -1.1565, -1.1719, -1.1208, -1.249, -0.7977, -0.7977, -0.7977, -0.899, -0.7977, -0.7863, -0.7118, -0.7598, -0.7978, -0.7544, -0.7713, -0.7544, -0.899, -0.7544, 1.6761, 1.6761, 1.6761, 1.6761, 1.642, 1.0259, 0.642, -0.0267, -0.0267, -0.0267, -0.0267, -0.0267, -0.0267, -0.0267, -0.0267, -0.0267, -0.0267, -0.0267, -0.0267, -0.0267, -0.0267, -0.0267, -0.0267, -0.0267, -0.0267, -0.0267, -0.0267, -0.0267, -0.0267, -0.0267, -1.7555, -1.5164, -1.091, -1.091, -1.2179, -1.1578, -1.1836, -1.0555, -1.218, -1.1066, -0.7322, -0.8336, -0.7902, -0.6464, -0.6891, -0.7324, -0.6945, -0.7059, -0.8337, -0.6891, -0.8337, -0.6945, -0.7903, 1.6875, 1.6874, 1.6874, 1.6874, 1.6874, 1.6873, 1.6873, -0.0039, -0.0039, -0.0039, -0.0039, -0.0039, -0.0039, -0.0039, -0.0039, -0.0039, -0.0039, -0.0039, -0.0039, -0.0039, -0.0039, -0.0039, -0.0039, -0.0039, -0.0039, -0.0039, -0.0039, -0.0039, -0.0039, -0.0039, -1.733, -1.7313, -1.4936, -1.3783, -1.3479, -1.0683, -1.195, -1.0325, -1.1951, -1.0837, -1.135, -1.0684, -1.1609, -0.7674, -0.6236, -0.6663, -0.6717, -0.6663, -0.8109, -0.7675, -0.6546, -0.7675, -0.6832, 1.975, 1.9749, 1.7253, 1.7253, 1.0182, -0.0039, -0.0039, -0.0039, -0.0039, -0.0039, -0.0039, -0.0039, -0.0039, -0.0039, -0.0039, -0.0039, -0.0039, -0.0039, -0.0039, -0.0039, -0.0039, -0.0039, -0.0039, -0.0039, -0.0039, -0.0039, -0.0039, -0.0039, -0.0039, -0.0039, -1.7312, -1.7332, -1.3479, -1.195, -1.1349, -1.4938, -1.1607, -1.0326, -1.1953, -1.0839, -0.6545, -0.7096, -0.6981, -0.7096, -0.8108, -0.6831, -0.6663, -0.8109, -0.7096, -0.6982, -0.6663, -0.7097, -0.8109, -0.7675, -0.6832, 1.983, 1.7373, 1.7372, 1.7372, 1.7372, 0.0194, 0.0194, 0.0194, 0.0194, 0.0194, 0.0194, 0.0194, 0.0194, 0.0194, 0.0194, 0.0194, 0.0194, 0.0194, 0.0194, 0.0194, 0.0194, 0.0194, 0.0194, 0.0194, 0.0194, 0.0194, 0.0194, 0.0194, 0.0194, 0.0194, -1.7076, -1.7096, -1.3245, -1.4704, -1.0449, -1.1717, -1.0092, -1.3553, -1.1117, -1.1719, -1.0452, -1.1376, -0.6863, -0.6863, -0.7875, -0.7441, -0.643, -0.6749, -0.6863, -0.7442, -0.6484, -0.643, -0.643, -0.6004, -0.6313, 1.7897, 1.7896, 1.7424, 0.7103, 0.0432, 0.0432, 0.0432, 0.0432, 0.0432, 0.0432, 0.0432, 0.0432, 0.0432, 0.0432, 0.0432, 0.0432, 0.0432, 0.0432, 0.0432, 0.0432, 0.0432, 0.0432, 0.0432, 0.0432, 0.0432, 0.0432, 0.0432, 0.0432, 0.0432, 0.0432, -1.6837, -1.4465, -1.3312, -1.0211, -1.1479, -1.1479, -1.0212, -0.9854, -1.0366, -1.1137, -0.6624, -0.6624, -0.6624, -0.5765, -0.6624, -1.0881, -0.5765, -0.6191, -0.6625, -0.6191, -0.651, -0.636, -0.6246, -0.7637, -0.6625, -0.636, 1.8023, 1.8023, 1.8023, 1.4358, 0.0676, 0.0676, 0.0676, 0.0676, 0.0676, 0.0676, 0.0676, 0.0676, 0.0676, 0.0676, 0.0676, 0.0676, 0.0676, 0.0676, 0.0676, 0.0676, 0.0676, 0.0676, 0.0676, 0.0676, 0.0676, 0.0676, 0.0676, 0.0676, 0.0676, 0.0676, -1.6593, -1.6611, -1.2763, -1.4222, -1.1234, -1.3069, -1.0632, -1.0892, -0.9968, -0.9968, -1.1236, -1.0122, -0.638, -0.7393, -0.6001, -0.6266, -0.6959, -0.638, -0.6001, -0.5521, -0.6115, -0.7393, -0.5947, -0.6381, -0.6266, -0.6116, 1.8024, 1.8023, 1.8023, 1.3076, 0.0676, 0.0676, 0.0676, 0.0676, 0.0676, 0.0676, 0.0676, 0.0676, 0.0676, 0.0676, 0.0676, 0.0676, 0.0676, 0.0676, 0.0676, 0.0676, 0.0676, 0.0676, 0.0676, 0.0676, 0.0676, 0.0676, 0.0676, 0.0676, 0.0676, 0.0676, -1.6611, -1.6598, -1.3066, -1.2763, -1.4221, -1.1234, -1.1235, -1.0634, -0.961, -1.0122, -0.9969, -0.997, -0.6115, -0.638, -0.6115, -0.5947, -0.638, -0.6115, -0.638, -0.6001, -0.5947, -0.583, -0.6381, -0.6266, -0.7393, -0.7393, 1.845, 1.845, 1.4358, 1.3334, 0.0676, 0.0676, 0.0676, 0.0676, 0.0676, 0.0676, 0.0676, 0.0676, 0.0676, 0.0676, 0.0676, 0.0676, 0.0676, 0.0676, 0.0676, 0.0676, 0.0676, 0.0676, 0.0676, 0.0676, 0.0676, 0.0676, 0.0676, 0.0676, 0.0676, 0.0676, -1.6596, -1.6615, -1.422, -1.2762, -0.9965, -1.3069, -1.1234, -0.9967, -1.0892, -1.0122, -1.1237, -0.7392, -0.638, -0.7392, -0.6958, -0.5947, -0.6115, -0.638, -0.583, -0.638, -0.5948, -0.6266, -0.6116, -0.7393, -0.6381, -0.6266]}, \"token.table\": {\"Topic\": [1, 2], \"Freq\": [1.1605846769361268, 1.475058032416134], \"Term\": [\"\\ub2e4\\uc2dc\\ub2e4\", \"\\ud568\\uc720\"]}, \"R\": 30, \"lambda.step\": 0.01, \"plot.opts\": {\"xlab\": \"PC1\", \"ylab\": \"PC2\"}, \"topic.order\": [4, 6, 2, 10, 5, 7, 8, 3, 9, 1]};\n",
       "\n",
       "function LDAvis_load_lib(url, callback){\n",
       "  var s = document.createElement('script');\n",
       "  s.src = url;\n",
       "  s.async = true;\n",
       "  s.onreadystatechange = s.onload = callback;\n",
       "  s.onerror = function(){console.warn(\"failed to load library \" + url);};\n",
       "  document.getElementsByTagName(\"head\")[0].appendChild(s);\n",
       "}\n",
       "\n",
       "if(typeof(LDAvis) !== \"undefined\"){\n",
       "   // already loaded: just create the visualization\n",
       "   !function(LDAvis){\n",
       "       new LDAvis(\"#\" + \"ldavis_el8568027093643988328903258344\", ldavis_el8568027093643988328903258344_data);\n",
       "   }(LDAvis);\n",
       "}else if(typeof define === \"function\" && define.amd){\n",
       "   // require.js is available: use it to load d3/LDAvis\n",
       "   require.config({paths: {d3: \"https://d3js.org/d3.v5\"}});\n",
       "   require([\"d3\"], function(d3){\n",
       "      window.d3 = d3;\n",
       "      LDAvis_load_lib(\"https://cdn.jsdelivr.net/gh/bmabey/pyLDAvis@3.4.0/pyLDAvis/js/ldavis.v3.0.0.js\", function(){\n",
       "        new LDAvis(\"#\" + \"ldavis_el8568027093643988328903258344\", ldavis_el8568027093643988328903258344_data);\n",
       "      });\n",
       "    });\n",
       "}else{\n",
       "    // require.js not available: dynamically load d3 & LDAvis\n",
       "    LDAvis_load_lib(\"https://d3js.org/d3.v5.js\", function(){\n",
       "         LDAvis_load_lib(\"https://cdn.jsdelivr.net/gh/bmabey/pyLDAvis@3.4.0/pyLDAvis/js/ldavis.v3.0.0.js\", function(){\n",
       "                 new LDAvis(\"#\" + \"ldavis_el8568027093643988328903258344\", ldavis_el8568027093643988328903258344_data);\n",
       "            })\n",
       "         });\n",
       "}\n",
       "</script>"
      ],
      "text/plain": [
       "<IPython.core.display.HTML object>"
      ]
     },
     "execution_count": 29,
     "metadata": {},
     "output_type": "execute_result"
    }
   ],
   "source": [
    "pyLDAvis.display(result_visualized)"
   ]
  },
  {
   "cell_type": "code",
   "execution_count": 30,
   "id": "4deeeb43-fb45-4630-b7b2-c817e4c30ca7",
   "metadata": {
    "tags": []
   },
   "outputs": [],
   "source": [
    "# review_negative_result_visualized.html\n",
    "pyLDAvis.save_html(result_visualized, '../datasets/cholesterolreview_negative_result_visualized.html')"
   ]
  },
  {
   "cell_type": "code",
   "execution_count": null,
   "id": "af64879e-62f3-42c0-825a-70c757074dfc",
   "metadata": {},
   "outputs": [],
   "source": []
  },
  {
   "cell_type": "code",
   "execution_count": 31,
   "id": "331de5a8-658f-489d-a799-a41f282ab173",
   "metadata": {
    "tags": []
   },
   "outputs": [],
   "source": [
    "# cholesterolreview_positive.csv\n",
    "import pandas as pd\n",
    "df_review_positive = pd.read_csv('../datasets/cholesterolreview_positive.csv')"
   ]
  },
  {
   "cell_type": "code",
   "execution_count": 32,
   "id": "a730b86d-c56b-4eac-bd01-9264a005a2a1",
   "metadata": {
    "tags": []
   },
   "outputs": [
    {
     "name": "stdout",
     "output_type": "stream",
     "text": [
      "<class 'pandas.core.frame.DataFrame'>\n",
      "RangeIndex: 6205 entries, 0 to 6204\n",
      "Data columns (total 9 columns):\n",
      " #   Column            Non-Null Count  Dtype  \n",
      "---  ------            --------------  -----  \n",
      " 0   Unnamed: 0        6205 non-null   int64  \n",
      " 1   _id               6205 non-null   object \n",
      " 2   product_name      6205 non-null   object \n",
      " 3   review_writer     6205 non-null   object \n",
      " 4   review_date       6205 non-null   object \n",
      " 5   review_star       6205 non-null   float64\n",
      " 6   review_content    6205 non-null   object \n",
      " 7   tokenizer_review  6205 non-null   object \n",
      " 8   replaced_review   6188 non-null   object \n",
      "dtypes: float64(1), int64(1), object(7)\n",
      "memory usage: 436.4+ KB\n"
     ]
    }
   ],
   "source": [
    "df_review_positive.info()"
   ]
  },
  {
   "cell_type": "code",
   "execution_count": 33,
   "id": "56239052-af87-4eed-b042-b6a249a09171",
   "metadata": {
    "tags": []
   },
   "outputs": [],
   "source": [
    "df_review_positive = df_review_positive.dropna()"
   ]
  },
  {
   "cell_type": "markdown",
   "id": "dac51abe-1500-4c34-9429-89609659326c",
   "metadata": {},
   "source": [
    "### LDA 분석(review_positive)"
   ]
  },
  {
   "cell_type": "markdown",
   "id": "57545397-c16a-460e-97a5-e5ad2f013477",
   "metadata": {
    "tags": []
   },
   "source": [
    "##### 문장 벡터화(review_positive)"
   ]
  },
  {
   "cell_type": "code",
   "execution_count": 34,
   "id": "a0227626-3071-4aec-ad4b-347f405165be",
   "metadata": {
    "tags": []
   },
   "outputs": [],
   "source": [
    "# 'replaced_review' 열의 모든 값을 문자열로 변환\n",
    "df_review_positive['replaced_review'] = df_review_positive['replaced_review'].astype(str)"
   ]
  },
  {
   "cell_type": "code",
   "execution_count": 35,
   "id": "368c5af7-bc5b-41b9-8f82-1b1a61f6641b",
   "metadata": {
    "tags": []
   },
   "outputs": [
    {
     "data": {
      "text/plain": [
       "<gensim.corpora.dictionary.Dictionary at 0x276cef41450>"
      ]
     },
     "execution_count": 35,
     "metadata": {},
     "output_type": "execute_result"
    }
   ],
   "source": [
    "dictionary = Dictionary(df_review_positive[['replaced_review']].values)\n",
    "dictionary"
   ]
  },
  {
   "cell_type": "code",
   "execution_count": 36,
   "id": "a8fe12b5-ffc7-42f4-abc1-fab07f712fa5",
   "metadata": {
    "tags": []
   },
   "outputs": [],
   "source": [
    "# dictionary에 의한 한글 문장을 벡터화 변환\n",
    "corpus_list = list()\n",
    "for sentence in df_review_positive[['replaced_review']].values :\n",
    "  vectors = dictionary.doc2bow(sentence)\n",
    "  corpus_list.append(vectors)"
   ]
  },
  {
   "cell_type": "code",
   "execution_count": 37,
   "id": "aae45e11-818a-453a-a6b7-6694e1db6ee3",
   "metadata": {
    "tags": []
   },
   "outputs": [],
   "source": [
    "df_review_positive['문장벡터화'] = corpus_list"
   ]
  },
  {
   "cell_type": "code",
   "execution_count": 38,
   "id": "d2730e41-0c07-4536-82a5-170779ac50d3",
   "metadata": {
    "tags": []
   },
   "outputs": [
    {
     "data": {
      "text/html": [
       "<div>\n",
       "<style scoped>\n",
       "    .dataframe tbody tr th:only-of-type {\n",
       "        vertical-align: middle;\n",
       "    }\n",
       "\n",
       "    .dataframe tbody tr th {\n",
       "        vertical-align: top;\n",
       "    }\n",
       "\n",
       "    .dataframe thead th {\n",
       "        text-align: right;\n",
       "    }\n",
       "</style>\n",
       "<table border=\"1\" class=\"dataframe\">\n",
       "  <thead>\n",
       "    <tr style=\"text-align: right;\">\n",
       "      <th></th>\n",
       "      <th>Unnamed: 0</th>\n",
       "      <th>_id</th>\n",
       "      <th>product_name</th>\n",
       "      <th>review_writer</th>\n",
       "      <th>review_date</th>\n",
       "      <th>review_star</th>\n",
       "      <th>review_content</th>\n",
       "      <th>tokenizer_review</th>\n",
       "      <th>replaced_review</th>\n",
       "      <th>문장벡터화</th>\n",
       "    </tr>\n",
       "  </thead>\n",
       "  <tbody>\n",
       "    <tr>\n",
       "      <th>0</th>\n",
       "      <td>0</td>\n",
       "      <td>650d8884b2af41f5ca5ba6aa</td>\n",
       "      <td>브리오 보라지오일 감마리놀렌산 300 / 오메가6 보라지유 달맞이꽃종자유 영양제 /...</td>\n",
       "      <td>지오됴됴</td>\n",
       "      <td>2021.03.19</td>\n",
       "      <td>5.0</td>\n",
       "      <td>배송 빨라요 성능 보통이에요 유통기한 기한이 넉넉해요\\n감마리놀렌산이 여성에게 좋다...</td>\n",
       "      <td>['배송', '빨르다', '성능', '유통', '기한', '기한', '넉넉하다', ...</td>\n",
       "      <td>배송 빨르다 성능 유통 기한 기한 넉넉하다 감마 리놀렌산 여성 좋다 다해 초록색 비...</td>\n",
       "      <td>[(0, 1)]</td>\n",
       "    </tr>\n",
       "    <tr>\n",
       "      <th>1</th>\n",
       "      <td>1</td>\n",
       "      <td>650d8884b2af41f5ca5ba6ab</td>\n",
       "      <td>브리오 보라지오일 감마리놀렌산 300 / 오메가6 보라지유 달맞이꽃종자유 영양제 /...</td>\n",
       "      <td>ju82**</td>\n",
       "      <td>2023.07.05</td>\n",
       "      <td>5.0</td>\n",
       "      <td>유통기한 기한이 넉넉해요 포장상태 포장이 깔끔해요 효과 효과 좋아요\\n두번째 구입입...</td>\n",
       "      <td>['유통', '기한', '기한', '넉넉하다', '포장', '상태', '포장', '...</td>\n",
       "      <td>유통 기한 기한 넉넉하다 포장 상태 포장 깔끔하다 좋다 두번째 구입 월경 증후군 구...</td>\n",
       "      <td>[(1, 1)]</td>\n",
       "    </tr>\n",
       "    <tr>\n",
       "      <th>2</th>\n",
       "      <td>2</td>\n",
       "      <td>650d8884b2af41f5ca5ba6ac</td>\n",
       "      <td>브리오 보라지오일 감마리놀렌산 300 / 오메가6 보라지유 달맞이꽃종자유 영양제 /...</td>\n",
       "      <td>sns2**</td>\n",
       "      <td>2023.09.20</td>\n",
       "      <td>5.0</td>\n",
       "      <td>유통기한 기한이 넉넉해요 포장상태 포장이 깔끔해요 효과 효과 좋아요\\n유트브 보고 ...</td>\n",
       "      <td>['유통', '기한', '기한', '넉넉하다', '포장', '상태', '포장', '...</td>\n",
       "      <td>유통 기한 기한 넉넉하다 포장 상태 포장 깔끔하다 좋다 유트브 구매 피부 염증 좋다...</td>\n",
       "      <td>[(2, 1)]</td>\n",
       "    </tr>\n",
       "  </tbody>\n",
       "</table>\n",
       "</div>"
      ],
      "text/plain": [
       "   Unnamed: 0                       _id  \\\n",
       "0           0  650d8884b2af41f5ca5ba6aa   \n",
       "1           1  650d8884b2af41f5ca5ba6ab   \n",
       "2           2  650d8884b2af41f5ca5ba6ac   \n",
       "\n",
       "                                        product_name review_writer  \\\n",
       "0  브리오 보라지오일 감마리놀렌산 300 / 오메가6 보라지유 달맞이꽃종자유 영양제 /...          지오됴됴   \n",
       "1  브리오 보라지오일 감마리놀렌산 300 / 오메가6 보라지유 달맞이꽃종자유 영양제 /...        ju82**   \n",
       "2  브리오 보라지오일 감마리놀렌산 300 / 오메가6 보라지유 달맞이꽃종자유 영양제 /...        sns2**   \n",
       "\n",
       "  review_date  review_star                                     review_content  \\\n",
       "0  2021.03.19          5.0  배송 빨라요 성능 보통이에요 유통기한 기한이 넉넉해요\\n감마리놀렌산이 여성에게 좋다...   \n",
       "1  2023.07.05          5.0  유통기한 기한이 넉넉해요 포장상태 포장이 깔끔해요 효과 효과 좋아요\\n두번째 구입입...   \n",
       "2  2023.09.20          5.0  유통기한 기한이 넉넉해요 포장상태 포장이 깔끔해요 효과 효과 좋아요\\n유트브 보고 ...   \n",
       "\n",
       "                                    tokenizer_review  \\\n",
       "0  ['배송', '빨르다', '성능', '유통', '기한', '기한', '넉넉하다', ...   \n",
       "1  ['유통', '기한', '기한', '넉넉하다', '포장', '상태', '포장', '...   \n",
       "2  ['유통', '기한', '기한', '넉넉하다', '포장', '상태', '포장', '...   \n",
       "\n",
       "                                     replaced_review     문장벡터화  \n",
       "0  배송 빨르다 성능 유통 기한 기한 넉넉하다 감마 리놀렌산 여성 좋다 다해 초록색 비...  [(0, 1)]  \n",
       "1  유통 기한 기한 넉넉하다 포장 상태 포장 깔끔하다 좋다 두번째 구입 월경 증후군 구...  [(1, 1)]  \n",
       "2  유통 기한 기한 넉넉하다 포장 상태 포장 깔끔하다 좋다 유트브 구매 피부 염증 좋다...  [(2, 1)]  "
      ]
     },
     "execution_count": 38,
     "metadata": {},
     "output_type": "execute_result"
    }
   ],
   "source": [
    "df_review_positive[:3]"
   ]
  },
  {
   "cell_type": "code",
   "execution_count": 39,
   "id": "994294a7-e1a7-454e-a673-82becd4bf6bd",
   "metadata": {
    "tags": []
   },
   "outputs": [],
   "source": [
    "lda_model = LdaModel(corpus=corpus_list, id2word=dictionary, num_topics=9)"
   ]
  },
  {
   "cell_type": "code",
   "execution_count": 40,
   "id": "b311af48-cb7c-4f33-a6d4-0a784ed412fa",
   "metadata": {
    "tags": []
   },
   "outputs": [
    {
     "data": {
      "text/plain": [
       "[(0,\n",
       "  '0.130*\"배송 빨르다 성능 성능 뛰어나다 유통 기한 기한 넉넉하다\" + 0.018*\"유통 기한 기한 넉넉하다 포장 상태 포장 깔끔하다\" + 0.008*\"성능 유통 기한\" + 0.004*\"배송 성능 유통 기한\"'),\n",
       " (1,\n",
       "  '0.089*\"좋다\" + 0.003*\"배송 빨르다 성능 성능 뛰어나다 유통 기한 기한 넉넉하다 중성 지질 콜레스테롤 높다 심하다 건강검진 주의 하래 갱년기 오니 혈관 질환 생기 혈압 정상 검진 경계 혈압 깜놀 레스 트롤 수치 높다 놀래다 사이 갱년기 접다 늘다 도해 의사 갱년기 그렇다 혈관 질환 발생 운동 하라 운동 안해 정상 정말 놀래다 운동 건강 보조 식품 노리다 나이 서럽다 오십 모로 힘드다 상세\" + 0.003*\"배송 빨르다 성능 성능 뛰어나다 유통 기한 기한 넉넉하다 부모님 손발 저리다 구매 비싸다 살다 싸다 사다 사르다\" + 0.003*\"배송 성능 성능 뛰어나다 유통 기한 기한 넉넉하다 혈관 건강 좋다 구입 좋다 결과 상세 상세\"'),\n",
       " (2,\n",
       "  '0.038*\"좋다 좋다\" + 0.011*\"배송 성능 성능 뛰어나다 유통 기한 기한 넉넉하다\" + 0.008*\"배송 빨르다 성능 성능 뛰어나다 유통 기한 기한 넉넉하다\" + 0.006*\"가격 괜찮다 배송\"'),\n",
       " (3,\n",
       "  '0.013*\"가격 괜찮다 배송\" + 0.012*\"배송 빨르다 성능 성능 뛰어나다 유통 기한\" + 0.004*\"유통 기한 기한 넉넉하다 포장 상태 포장 깔끔하다 좋다 구매 해보다 차근차근 알다 성분 좋다 구매 오메가 코엔자임 엽산 제품 구매 구매 먹기 귀찮다 가격 점도 다시 구매 상세\" + 0.004*\"유통 기한 기한 넉넉하다 포장 상태 포장 깔끔하다 좋다 1년 구매 복용 정확하다 검사 해보다 수치 모르다 무거 쥐다 확실하다 좋아지다 좋다 영향 믿다 싶다 구매 제품 분리 힘들다 다시 분리 쉽다 상세 상세 상세\"'),\n",
       " (4,\n",
       "  '0.036*\"모르다 꾸준하다\" + 0.034*\"배송 성능 유통 기한\" + 0.020*\"배송 빨르다 성능 성능 뛰어나다 유통 기한 기한 넉넉하다\" + 0.006*\"유통 기한 기한 넉넉하다 포장 상태 포장 깔끔하다 좋다\"'),\n",
       " (5,\n",
       "  '0.035*\"불편하다\" + 0.014*\"배송 빨르다 성능 유통 기한\" + 0.010*\"배송 빨르다 성능 성능 뛰어나다 유통 기한 기한 넉넉하다 좋다\" + 0.004*\"배송 빨르다 성능 성능 뛰어나다 유통 기한 기한 넉넉하다\"'),\n",
       " (6,\n",
       "  '0.005*\"배송 빨르다\" + 0.005*\"유통 기한 기한 넉넉하다 포장 상태 포장 깔끔하다 좋다\" + 0.004*\"유통 기한 기한 넉넉하다 포장 상태 포장 깔끔하다 좋다 써다 시안 시르다 인터넷 검색 좋다 구매\" + 0.004*\"배송 빨르다 성능 성능 뛰어나다 유통 기한 기한 넉넉하다 두번째 구매 꾸준하다 사다 상세\"'),\n",
       " (7,\n",
       "  '0.012*\"가격 괜찮다 배송 빨르다\" + 0.010*\"배송 빨르다 성능 유통 기한 기한 넉넉하다\" + 0.009*\"배송 빨르다 성능 성능 뛰어나다 유통 기한 기한 넉넉하다\" + 0.004*\"배송 빨르다 유통 기한 기한 넉넉하다 오메가 홍국 코큐텐 좋다 확실하다 오메가 좋다 편하다 좋다 구매 짜다 구성 저렴하다 단가 감사하다 닫다 상세 상세 상세\"'),\n",
       " (8,\n",
       "  '0.071*\"유통 기한 기한 넉넉하다 포장 상태 포장 깔끔하다 좋다\" + 0.022*\"가격 싸다 사다 배송 빨르다\" + 0.009*\"가격 괜찮다 배송\" + 0.004*\"가격 괜찮다 배송 빨르다\"')]"
      ]
     },
     "execution_count": 40,
     "metadata": {},
     "output_type": "execute_result"
    }
   ],
   "source": [
    "lda_model.print_topics(num_words=4)"
   ]
  },
  {
   "cell_type": "markdown",
   "id": "51d0202b-b807-49eb-bb1a-ee84932a6fb2",
   "metadata": {},
   "source": [
    "##### LDA 시각화(review_positive)"
   ]
  },
  {
   "cell_type": "code",
   "execution_count": 41,
   "id": "0de07704-31ec-4b88-852c-792dc8a1152d",
   "metadata": {
    "tags": []
   },
   "outputs": [],
   "source": [
    "pyLDAvis.enable_notebook() # 일반적인 python에선 불필요\n",
    "result_visualized = pyLDAvis.gensim_models.prepare(lda_model, corpus_list, dictionary)"
   ]
  },
  {
   "cell_type": "code",
   "execution_count": 42,
   "id": "8f80c832-89d1-410c-a242-1c24ce1af39c",
   "metadata": {
    "tags": []
   },
   "outputs": [
    {
     "data": {
      "text/html": [
       "\n",
       "<link rel=\"stylesheet\" type=\"text/css\" href=\"https://cdn.jsdelivr.net/gh/bmabey/pyLDAvis@3.4.0/pyLDAvis/js/ldavis.v1.0.0.css\">\n",
       "\n",
       "\n",
       "<div id=\"ldavis_el8568027093670196008665489831\" style=\"background-color:white;\"></div>\n",
       "<script type=\"text/javascript\">\n",
       "\n",
       "var ldavis_el8568027093670196008665489831_data = {\"mdsDat\": {\"x\": [0.06802250246180945, -0.039950388232548324, -0.009735932442531972, 0.001127555459766515, -0.011312742497419629, 0.018056118501134154, -0.014042345957185624, -0.013044402144623437, 0.0008796348515988496], \"y\": [-0.009252839301543801, -0.03848738513308276, -0.0002708396098136318, 0.0015321402075799985, 0.00209468072395614, -0.009560110028846769, 0.05238914550027852, -0.0012973544046910193, 0.0028525620461633803], \"topics\": [1, 2, 3, 4, 5, 6, 7, 8, 9], \"cluster\": [1, 1, 1, 1, 1, 1, 1, 1, 1], \"Freq\": [13.353850882416829, 11.819607608655584, 10.972939550810569, 10.968265407221303, 10.914954546808238, 10.898682444173668, 10.410413830877182, 10.407572737930954, 10.253712991105674]}, \"tinfo\": {\"Term\": [\"\\ubc30\\uc1a1 \\ube68\\ub974\\ub2e4 \\uc131\\ub2a5 \\uc131\\ub2a5 \\ub6f0\\uc5b4\\ub098\\ub2e4 \\uc720\\ud1b5 \\uae30\\ud55c \\uae30\\ud55c \\ub109\\ub109\\ud558\\ub2e4\", \"\\uc88b\\ub2e4\", \"\\uc720\\ud1b5 \\uae30\\ud55c \\uae30\\ud55c \\ub109\\ub109\\ud558\\ub2e4 \\ud3ec\\uc7a5 \\uc0c1\\ud0dc \\ud3ec\\uc7a5 \\uae54\\ub054\\ud558\\ub2e4 \\uc88b\\ub2e4\", \"\\uc88b\\ub2e4 \\uc88b\\ub2e4\", \"\\ubaa8\\ub974\\ub2e4 \\uafb8\\uc900\\ud558\\ub2e4\", \"\\ubd88\\ud3b8\\ud558\\ub2e4\", \"\\ubc30\\uc1a1 \\uc131\\ub2a5 \\uc720\\ud1b5 \\uae30\\ud55c\", \"\\uac00\\uaca9 \\uc2f8\\ub2e4 \\uc0ac\\ub2e4 \\ubc30\\uc1a1 \\ube68\\ub974\\ub2e4\", \"\\uc720\\ud1b5 \\uae30\\ud55c \\uae30\\ud55c \\ub109\\ub109\\ud558\\ub2e4 \\ud3ec\\uc7a5 \\uc0c1\\ud0dc \\ud3ec\\uc7a5 \\uae54\\ub054\\ud558\\ub2e4\", \"\\uac00\\uaca9 \\uad1c\\ucc2e\\ub2e4 \\ubc30\\uc1a1\", \"\\ubc30\\uc1a1 \\ube68\\ub974\\ub2e4 \\uc131\\ub2a5 \\uc720\\ud1b5 \\uae30\\ud55c\", \"\\ubc30\\uc1a1 \\ube68\\ub974\\ub2e4 \\uc131\\ub2a5 \\uc131\\ub2a5 \\ub6f0\\uc5b4\\ub098\\ub2e4 \\uc720\\ud1b5 \\uae30\\ud55c\", \"\\ubc30\\uc1a1 \\uc131\\ub2a5 \\uc131\\ub2a5 \\ub6f0\\uc5b4\\ub098\\ub2e4 \\uc720\\ud1b5 \\uae30\\ud55c \\uae30\\ud55c \\ub109\\ub109\\ud558\\ub2e4\", \"\\uac00\\uaca9 \\uad1c\\ucc2e\\ub2e4 \\ubc30\\uc1a1 \\ube68\\ub974\\ub2e4\", \"\\ubc30\\uc1a1 \\ube68\\ub974\\ub2e4 \\uc131\\ub2a5 \\uc131\\ub2a5 \\ub6f0\\uc5b4\\ub098\\ub2e4 \\uc720\\ud1b5 \\uae30\\ud55c \\uae30\\ud55c \\ub109\\ub109\\ud558\\ub2e4 \\uc88b\\ub2e4\", \"\\ubc30\\uc1a1 \\ube68\\ub974\\ub2e4 \\uc131\\ub2a5 \\uc720\\ud1b5 \\uae30\\ud55c \\uae30\\ud55c \\ub109\\ub109\\ud558\\ub2e4\", \"\\uc131\\ub2a5 \\uc720\\ud1b5 \\uae30\\ud55c\", \"\\ubc30\\uc1a1 \\ube68\\ub974\\ub2e4\", \"\\ubc30\\uc1a1 \\uc131\\ub2a5 \\uc131\\ub2a5 \\ub6f0\\uc5b4\\ub098\\ub2e4 \\uc720\\ud1b5 \\uae30\\ud55c\", \"\\uc720\\ud1b5 \\uae30\\ud55c \\uae30\\ud55c \\ub109\\ub109\\ud558\\ub2e4 \\ud3ec\\uc7a5 \\uc0c1\\ud0dc \\ud3ec\\uc7a5 \\uae54\\ub054\\ud558\\ub2e4 \\uc88b\\ub2e4 \\uc368\\ub2e4 \\uc2dc\\uc548 \\uc2dc\\ub974\\ub2e4 \\uc778\\ud130\\ub137 \\uac80\\uc0c9 \\uc88b\\ub2e4 \\uad6c\\ub9e4\", \"\\ubc30\\uc1a1 \\ube68\\ub974\\ub2e4 \\uc131\\ub2a5 \\uc131\\ub2a5 \\ub6f0\\uc5b4\\ub098\\ub2e4 \\uc720\\ud1b5 \\uae30\\ud55c \\uae30\\ud55c \\ub109\\ub109\\ud558\\ub2e4 \\ub450\\ubc88\\uc9f8 \\uad6c\\ub9e4 \\uafb8\\uc900\\ud558\\ub2e4 \\uc0ac\\ub2e4 \\uc0c1\\uc138\", \"\\ubc30\\uc1a1 \\ube68\\ub974\\ub2e4 \\uc131\\ub2a5 \\uc131\\ub2a5 \\ub6f0\\uc5b4\\ub098\\ub2e4 \\uc720\\ud1b5 \\uae30\\ud55c \\uae30\\ud55c \\ub109\\ub109\\ud558\\ub2e4 \\uc778\\ud130\\ub137 \\ube14\\ub85c\\uadf8 \\uc62c\\ub77c\\uc624\\ub2e4 \\ubcf4\\uad6c \\uad6c\\ub9e4 \\uc54c\\ub2e4 \\uc0c1\\uc138\", \"\\ubc30\\uc1a1 \\uc131\\ub2a5 \\uc131\\ub2a5 \\ub6f0\\uc5b4\\ub098\\ub2e4 \\uc720\\ud1b5 \\uae30\\ud55c \\uae30\\ud55c \\ub109\\ub109\\ud558\\ub2e4 \\ubbff\\ub2e4 \\uc81c\\ud488 \\uc774\\ub0b4 \\ub3c4\\uc6c0\", \"\\ubc30\\uc1a1 \\ube68\\ub974\\ub2e4 \\uc131\\ub2a5 \\uc131\\ub2a5 \\ub6f0\\uc5b4\\ub098\\ub2e4 \\uc720\\ud1b5 \\uae30\\ud55c \\uae30\\ud55c \\ub109\\ub109\\ud558\\ub2e4 \\ud3ec\\uc7a5 \\ud2bc\\ud2bc\\ud558\\ub2e4 \\ud574\\uc8fc\\ub2e4 \\uc0c1\\uc138\", \"\\uc720\\ud1b5 \\uae30\\ud55c \\uae30\\ud55c \\ub109\\ub109\\ud558\\ub2e4 \\ud3ec\\uc7a5 \\uc0c1\\ud0dc \\ud3ec\\uc7a5 \\uae54\\ub054\\ud558\\ub2e4 \\uc88b\\ub2e4 \\uc88b\\ub2e4 \\uac00\\uaca9 \\ubd80\\ub2f4 \\uc0c1\\uc138\", \"\\ubc30\\uc1a1\", \"\\uc720\\ud1b5 \\uae30\\ud55c \\uae30\\ud55c \\ub109\\ub109\\ud558\\ub2e4 \\ud3ec\\uc7a5 \\uc0c1\\ud0dc \\ud3ec\\uc7a5 \\uae54\\ub054\\ud558\\ub2e4 \\uc88b\\ub2e4 \\uad6c\\ub9e4 \\ud574\\ubcf4\\ub2e4 \\ucc28\\uadfc\\ucc28\\uadfc \\uc54c\\ub2e4 \\uc131\\ubd84 \\uc88b\\ub2e4 \\uad6c\\ub9e4 \\uc624\\uba54\\uac00 \\ucf54\\uc5d4\\uc790\\uc784 \\uc5fd\\uc0b0 \\uc81c\\ud488 \\uad6c\\ub9e4 \\uad6c\\ub9e4 \\uba39\\uae30 \\uadc0\\ucc2e\\ub2e4 \\uac00\\uaca9 \\uc810\\ub3c4 \\ub2e4\\uc2dc \\uad6c\\ub9e4 \\uc0c1\\uc138\", \"\\uc720\\ud1b5 \\uae30\\ud55c \\uae30\\ud55c \\ub109\\ub109\\ud558\\ub2e4 \\ud3ec\\uc7a5 \\uc0c1\\ud0dc \\ud3ec\\uc7a5 \\uae54\\ub054\\ud558\\ub2e4 \\uc88b\\ub2e4 1\\ub144 \\uad6c\\ub9e4 \\ubcf5\\uc6a9 \\uc815\\ud655\\ud558\\ub2e4 \\uac80\\uc0ac \\ud574\\ubcf4\\ub2e4 \\uc218\\uce58 \\ubaa8\\ub974\\ub2e4 \\ubb34\\uac70 \\uc950\\ub2e4 \\ud655\\uc2e4\\ud558\\ub2e4 \\uc88b\\uc544\\uc9c0\\ub2e4 \\uc88b\\ub2e4 \\uc601\\ud5a5 \\ubbff\\ub2e4 \\uc2f6\\ub2e4 \\uad6c\\ub9e4 \\uc81c\\ud488 \\ubd84\\ub9ac \\ud798\\ub4e4\\ub2e4 \\ub2e4\\uc2dc \\ubd84\\ub9ac \\uc27d\\ub2e4 \\uc0c1\\uc138 \\uc0c1\\uc138 \\uc0c1\\uc138\", \"\\ubc30\\uc1a1 \\ube68\\ub974\\ub2e4 \\uc131\\ub2a5 \\uc131\\ub2a5 \\ub6f0\\uc5b4\\ub098\\ub2e4 \\uc720\\ud1b5 \\uae30\\ud55c \\uae30\\ud55c \\ub109\\ub109\\ud558\\ub2e4 \\ucf5c\\ub808\\uc2a4\\ud14c\\ub864 \\uce58\\uac00 \\ub192\\ub2e4 \\ub3c4\\uc6c0 \\ud6c4\\uae30 \\uad6c\\ub9e4 \\ud6c4\\uae30 \\ub2e4\\uc2dc \\uc62c\\ub9ac\\ub2e4\", \"\\ubc30\\uc1a1 \\ube68\\ub974\\ub2e4 \\uc131\\ub2a5 \\uc131\\ub2a5 \\ub6f0\\uc5b4\\ub098\\ub2e4 \\uc720\\ud1b5 \\uae30\\ud55c \\uae30\\ud55c \\ub109\\ub109\\ud558\\ub2e4 \\ub9d1\\ub2e4 \\uae30\\ubd84 \\uc88b\\ub2e4 \\uae30\\ub300\\ud558\\ub2e4 \\uc0c1\\uc138\", \"\\uc131\\ub2a5 \\uc720\\ud1b5 \\uae30\\ud55c\", \"\\uc720\\ud1b5 \\uae30\\ud55c \\uae30\\ud55c \\ub109\\ub109\\ud558\\ub2e4 \\ud3ec\\uc7a5 \\uc0c1\\ud0dc \\ud3ec\\uc7a5 \\uae54\\ub054\\ud558\\ub2e4\", \"\\ubc30\\uc1a1 \\ube68\\ub974\\ub2e4 \\uc131\\ub2a5 \\uc131\\ub2a5 \\ub6f0\\uc5b4\\ub098\\ub2e4 \\uc720\\ud1b5 \\uae30\\ud55c \\uae30\\ud55c \\ub109\\ub109\\ud558\\ub2e4\", \"\\ubc30\\uc1a1 \\ube68\\ub974\\ub2e4 \\uc131\\ub2a5 \\uc131\\ub2a5 \\ub6f0\\uc5b4\\ub098\\ub2e4 \\uc720\\ud1b5 \\uae30\\ud55c \\uae30\\ud55c \\ub109\\ub109\\ud558\\ub2e4 \\uafb8\\uc900\\ud558\\ub2e4 \\ubcf5\\uc6a9 \\ud608\\uc555 \\uc548\\uc815 \\ub0ae\\uc544\\uc9c0\\ub2e4\", \"\\uc720\\ud1b5 \\uae30\\ud55c \\uae30\\ud55c \\ub109\\ub109\\ud558\\ub2e4 \\ud3ec\\uc7a5 \\uc0c1\\ud0dc \\ud3ec\\uc7a5 \\uae54\\ub054\\ud558\\ub2e4 \\uc88b\\ub2e4 \\ubc8c\\uc368 \\ub450\\ubc88\\uc9f8 \\uad6c\\uc785 \\uac00\\uc871 \\ubcf5\\uc6a9 \\ub6f0\\uc5b4\\ub098\\ub2e4 \\ub290\\ub07c\\ub2e4 \\ubbff\\ub2e4 \\ub2f9\\ubd84\\uac04 \\uafb8\\uc900\\ud558\\ub2e4 \\ubcf5\\uc6a9 \\uc54c\\uc57d \\uc0bc\\ud0a4\\ub2e4 \\ud3b8\\ud558\\ub2e4 \\ubd80\\ub4dc\\ub7fd\\ub2e4 \\ud544\\uc694\\ud558\\ub2e4 \\uc131\\ubd84 \\uc88b\\ub2e4 \\uc0c1\\uc138 \\uc0c1\\uc138\", \"\\ubc30\\uc1a1 \\ube68\\ub974\\ub2e4 \\uc131\\ub2a5 \\uc131\\ub2a5 \\ub6f0\\uc5b4\\ub098\\ub2e4 \\uc720\\ud1b5 \\uae30\\ud55c \\uae30\\ud55c \\ub109\\ub109\\ud558\\ub2e4 \\uad6c\\ub9e4 \\uad6c\\ub9e4\", \"\\ubc30\\uc1a1 \\ube68\\ub974\\ub2e4 \\uc131\\ub2a5 \\uc131\\ub2a5 \\ub6f0\\uc5b4\\ub098\\ub2e4 \\uc720\\ud1b5 \\uae30\\ud55c \\uae30\\ud55c \\ub109\\ub109\\ud558\\ub2e4 \\ub450\\ubc88\\uc9f8 \\uad6c\\uc785 \\ud648\\uc1fc\\ud551 \\uc81c\\ud488 \\ube44\\uc2f8\\ub2e4 \\uc88b\\ub2e4 \\uba39\\uae30 \\ud608\\ud589 \\uac1c\\uc120 \\ud6a8\\ub2a5 240 \\ucf5c\\ub808\\uc2a4\\ud14c\\ub864 190 \\ub5a8\\uc5b4\\uc9c0\\ub2e4 \\uc0c1\\uc138\", \"\\uc720\\ud1b5 \\uae30\\ud55c \\uae30\\ud55c \\ub109\\ub109\\ud558\\ub2e4 \\ud3ec\\uc7a5 \\uc0c1\\ud0dc \\ud3ec\\uc7a5 \\uae54\\ub054\\ud558\\ub2e4 \\uc0c1\\ud488 \\ub4e4\\uc774\\ub2e4 \\uc2dc\\ub098 \\uad6c\\ub9e4 \\uc0c1\\uc138\", \"\\ubc30\\uc1a1 \\ube68\\ub974\\ub2e4 \\uc131\\ub2a5 \\uc131\\ub2a5 \\ub6f0\\uc5b4\\ub098\\ub2e4 \\uc720\\ud1b5 \\uae30\\ud55c \\uae30\\ud55c \\ub109\\ub109\\ud558\\ub2e4 \\ud608\\uc804 \\uc548\\uc2ec \\ub3fc\\ub2e4 \\ucf54\\ub85c\\ub098 \\ubc31\\uc2e0 \\ubd80\\uc791\\uc6a9 \\ud608\\uc804 \\ub365\\ub2e4 \\ud608\\uc804 \\uc0dd\\uae30 \\ud608\\uad00 \\uc881\\ub2e4 \\uc2ec\\ud558\\ub2e4 \\ud608\\uad00 \\uc544\\uc608 \\ub9c9\\ub2e4 \\ubc84\\ub9ac\\ub2e4 \\ud608\\uc561 \\ud750\\ub984 \\uba48\\ucd94\\ub2e4 \\ub300\\uc694 \\uc911\\uc131 \\uc9c0\\ubc29 \\uc218\\uce58 \\ub192\\ub2e4 \\ucf5c\\ub808\\uc2a4\\ud14c\\ub864 \\uc218\\uce58 \\ub192\\ub2e4 \\ud608\\uc804 \\uc0dd\\uae30\\ub2e4 \\uc26c\\ub2e4 \\uc704\\ud5d8\\ud558\\ub2e4 \\uc2b5\\uad00 \\uc778\\uc9c0 \\uac00\\uc871 \\ucf5c\\ub808\\uc2a4\\ud14c\\ub864 \\ub192\\ub2e4 \\uc2dd\\ub2e8 \\uc870\\uc808 \\ubc31\\uc2e0 \\ubd80\\uc791\\uc6a9 \\ud608\\uc804 \\ud558\\ub2c8 \\ubd88\\uc548\\ud558\\ub2e4 \\ucee4\\uc9c0\\ub2e4 \\uac00\\uc871 4\\ubd84 \\ubc31\\uc2e0 \\ub9de\\ub2e4 \\uad00\\ub9ac \\uc2dc\\uc791 \\ud608\\uad00 \\uc591\\uc81c \\uad6c\\ub9e4 \\ud608\\uad00 \\uc591\\uc81c \\uace0\\ub974\\ub2e4 \\uc81c\\ud488 \\uae30\\uc5b5 \\uac1c\\uc120 \\uc815\\ub9e5 \\uc21c\\ud658 \\ucd08\\uc810 \\ub9de\\ucd94\\ub2e4 \\uc368\\ub2e4 \\uc2dc\\uc548 \\ud608\\uad00 \\uac74\\uac15 \\ucd08\\uc810 \\ub9de\\ucd94\\ub2e4 \\ucf5c\\ub808\\uc2a4\\ud14c\\ub864 \\ud608\\ud589 \\uad00\\ub9ac \\uc911\\uc810 \\uad00\\ub9ac \\ud574\\uc8fc\\ub2e4 \\uad6c\\ub9e4 \\uc624\\uba54\\uac00 \\ub3d9\\ubb3c\\uc131 \\uc544\\ub2c8\\ub2e4 \\ud574\\uc870\\ub958 \\ub9cc\\ub4e4\\ub2e4 \\uc2dd\\ubb3c\\uc131 \\uac74\\uac15 \\uc81c\\ud488 \\ud655\\uc2e4\\ud558\\ub2e4 \\ub2e4\\ub974\\ub2e4 \\ub290\\uaef4\\uc9c0\\ub2e4 \\ucc28\\uc11c \\ub450\\uaecd\\ub2e4 \\uc591\\ub9d0 \\uc2e0\\ub2e4 \\ud608\\uc561 \\uc21c\\ud658 \\ub3fc\\ub2e4 \\uadf8\\ub807\\ub2e4 \\ub365\\ub2e4 \\uc591\\ub9d0 \\ubc97\\ub2e4 \\ubc84\\ub9ac\\ub2e4 \\uc313\\uc774\\ub2e4 \\ucf5c\\ub808\\uc2a4\\ud14c\\ub864 \\ud608\\uc804 \\uc21c\\ud658 \\uc88b\\ub2e4 \\uc81c\\ud488 \\uac10\\uc0ac\\ud558\\ub2e4 \\ub2eb\\ub2e4 \\uc0c1\\uc138 \\uc0c1\\uc138 \\uc0c1\\uc138 \\uc0c1\\uc138\", \"\\ubc30\\uc1a1 \\ube68\\ub974\\ub2e4 \\uc131\\ub2a5 \\uc131\\ub2a5 \\ub6f0\\uc5b4\\ub098\\ub2e4 \\uc720\\ud1b5 \\uae30\\ud55c \\uae30\\ud55c \\ub109\\ub109\\ud558\\ub2e4 \\uac1c\\ubcf4 \\uc2f8\\ub2e4 \\ubb34\\uc870\\uac74 \\uc0ac\\ub2e4 \\uac00\\uaca9 \\ud658\\uac00 79000\\uc6d0 \\uac00\\uaca9 158,000\\uc6d0 139,000\\uc6d0 \\uad6c\\uc131 \\ud560\\uc778 \\uae5c\\uc9dd \\ub180\\ub798\\ub2e4 \\ubb34\\uc870\\uac74 \\uc635\\uc158 \\uad6c\\ub9e4 20 \\ub300\\ub2e4 \\ud6c4\\ubc18 \\uc9c1\\uc7a5 \\uc778\\uad6c \\ub4dc\\ub9ac\\ub2e4 \\uad6c\\ub9e4 \\uc774\\uc608 50 \\ub300\\ub2e4 \\ud6c4\\ubc18 \\uac00\\uc815 \\uc8fc\\ubd80 \\ubc31\\ub0b4\\uc7a5 \\uc218\\uc220 \\uc608\\uc57d \\ud608\\uc555 \\ub192\\ub2e4 \\uc218\\uc220 \\uc548\\ub418\\ub2e4 \\ubcd1\\uc6d0 \\uace0\\ud608\\uc555 \\ud608\\uc555 \\uc870\\uc808 \\uc218\\uc220 \\uace0\\ud608\\uc555 \\uc57c\\ud558\\ub2e4 \\ubd80\\uc791\\uc6a9 \\uc548\\ub418\\ub2e4 \\uace0\\ud608\\uc555 \\uc591\\uc81c \\uac80\\uc0c9 \\ud574\\ubcf4\\ub2e4 \\uc368\\ub2e4 \\uc548\\uc774 \\ud6c4\\uae30 \\uace0\\ud608\\uc555 \\ud658\\uc790 \\uac70\\ub098 \\uace0\\ud608\\uc555 \\uacbd\\uacc4 \\ub2e8\\uacc4 \\uad00\\ub9ac \\uc774\\uc57c\\uae30 \\ub9ce\\ub2e4 \\uad6c\\ub9e4 \\uc368\\ub2e4 \\uc2dc\\uc548 \\uc2dd\\uc0ac \\ud655\\uc2e4\\ud558\\ub2e4 \\uace0\\ud608\\uc555 \\ud608\\uc555 \\uace0\\ud608\\uc555 1\\uc6d4 165/110 \\uace0\\ud608\\uc555 \\ubcf5\\uc6a9 3\\uc6d4 145/103 \\uc368\\ub2e4 \\uc2dc\\uc548 \\ubcf5\\uc6a9 5\\uc6d4 135/92 \\uace0\\ud608\\uc555 \\uc57d\\uacfc \\ubcf5\\uc6a9 \\ub5a8\\uc5b4\\uc9c0\\ub2e4 \\ud608\\uc555 \\uace0\\ud608\\uc555 \\ub04a\\ub2e4 \\uae30\\ub300 \\ud574\\ubcf4\\ub2e4 \\uc88b\\ub2e4 \\ud608\\uc555 \\uac00\\uc871 \\uac71\\uc815 \\uad00\\ub9ac \\uc88b\\uc544\\uc9c0\\ub2e4 \\ud76c\\ub9dd\\uc774 \\ubcf4\\uc774\\ub2e4 \\uac10\\uc0ac\\ud558\\ub2e4 \\uc0c1\\uc138 \\uc0c1\\uc138 \\uc0c1\\uc138 \\uc0c1\\uc138\", \"\\uc720\\ud1b5 \\uae30\\ud55c \\ud3ec\\uc7a5 \\uc0c1\\ud0dc\", \"\\ubc30\\uc1a1 \\uc720\\ud1b5 \\uae30\\ud55c\", \"\\uc131\\ub2a5 \\uc131\\ub2a5 \\ub6f0\\uc5b4\\ub098\\ub2e4\", \"\\uc88b\\ub2e4 \\uc0c1\\uc138\", \"\\ubc30\\uc1a1 \\ube68\\ub974\\ub2e4 \\uc131\\ub2a5 \\uc131\\ub2a5 \\ub6f0\\uc5b4\\ub098\\ub2e4 \\uc720\\ud1b5 \\uae30\\ud55c \\uae30\\ud55c \\ub109\\ub109\\ud558\\ub2e4 \\uc88b\\ub2e4 \\uad6c\\ub9e4\", \"\\uac00\\uaca9 \\uc2f8\\ub2e4 \\uc0ac\\ub2e4 \\ubc30\\uc1a1 \\ube68\\ub974\\ub2e4 \\ubc30\\uc1a1 \\ube60\\ub974\\ub2e4 \\uc88b\\ub2e4 \\ud608\\uc561 \\uc21c\\ud658 \\uc88b\\ub2e4\", \"\\ubc30\\uc1a1 \\ube68\\ub974\\ub2e4 \\uc131\\ub2a5 \\uc720\\ud1b5 \\uae30\\ud55c \\uae30\\ud55c \\ub109\\ub109\\ud558\\ub2e4 \\ubaa8\\ub974\\ub2e4\", \"\\uac00\\uaca9 \\uc2f8\\ub2e4 \\uc0ac\\ub2e4 \\ubc30\\uc1a1\", \"\\uc720\\ud1b5 \\uae30\\ud55c \\uae30\\ud55c \\ub109\\ub109\\ud558\\ub2e4 \\ud3ec\\uc7a5 \\uc0c1\\ud0dc \\ud3ec\\uc7a5 \\uae54\\ub054\\ud558\\ub2e4 \\ubaa8\\ub974\\ub2e4 \\ube44\\ub9bf \\ub0c4\\uc0c8 \\ubcc4\\ub85c\", \"\\uac00\\uaca9 \\uc2f8\\ub2e4 \\uc0ac\\ub2e4 \\ubc30\\uc1a1 \\ube68\\ub974\\ub2e4 \\ucf5c\\ub808\\uc2a4\\ud14c\\ub864 \\ub0ae\\ucd94\\ub2e4 \\ub3c4\\uc6c0\", \"\\ubc30\\uc1a1 \\ube68\\ub974\\ub2e4 \\uc131\\ub2a5 \\uc131\\ub2a5 \\ub6f0\\uc5b4\\ub098\\ub2e4 \\uc720\\ud1b5 \\uae30\\ud55c \\uae30\\ud55c \\ub109\\ub109\\ud558\\ub2e4 \\ucd94\\ucc9c \\uad6c\\ub9e4 \\ud574\\ubcf4\\ub2e4 \\ube0c\\ub9ac \\ubbff\\ub2e4 \\ubcf5\\uc6a9 \\ud574\\ubcf4\\ub2e4\", \"\\uc720\\ud1b5 \\uae30\\ud55c \\ud3ec\\uc7a5 \\uc0c1\\ud0dc \\uc88b\\ub2e4\", \"\\ubc30\\uc1a1 \\ube68\\ub974\\ub2e4 \\ud56d\\uc0c1 \\uc8fc\\ubb38 \\uac31\\ub144\\uae30 \\ub298\\ub2e4 \\ucd5c\\uace0\", \"\\uc720\\ud1b5 \\uae30\\ud55c \\uae30\\ud55c \\ub109\\ub109\\ud558\\ub2e4 \\ud3ec\\uc7a5 \\uc0c1\\ud0dc \\ud3ec\\uc7a5 \\uae54\\ub054\\ud558\\ub2e4 \\uc88b\\ub2e4 \\uce90\\ub098\\ub2e4 \\uc81c\\ud488 \\ubc30\\uc1a1 \\uc544\\ub0b4 \\uac00\\ubcf5 \\uc6a9\\ud558\\ub2e4 \\ud6c4\\uae30 \\uc88b\\ub2e4 \\uad6c\\ub9e4 \\uc0c1\\uc138\", \"\\uac00\\uaca9 \\uad1c\\ucc2e\\ub2e4 \\ubc30\\uc1a1 \\ud06c\\ub2e4 \\uc6a9\\ub7c9 \\uc120\\ud0dd \\uc88b\\ub2e4\", \"\\ubc30\\uc1a1 \\ube68\\ub974\\ub2e4 \\uc131\\ub2a5 \\uc131\\ub2a5 \\ub6f0\\uc5b4\\ub098\\ub2e4 \\uc720\\ud1b5 \\uae30\\ud55c \\uae30\\ud55c \\ub109\\ub109\\ud558\\ub2e4 \\uc88b\\ub2e4 \\ud608\\uc555 \\uc218\\uce58 \\ub0b4\\ub824\\uac00\\ub2e4 \\ubd93\\uae30 \\uc904\\uc5b4\\ub4e4\\ub2e4 \\ub365\\ub2e4 \\uc0c1\\uc138\", \"\\ubc30\\uc1a1 \\ube68\\ub974\\ub2e4 \\uc131\\ub2a5 \\uc131\\ub2a5 \\ub6f0\\uc5b4\\ub098\\ub2e4 \\uc720\\ud1b5 \\uae30\\ud55c \\uae30\\ud55c \\ub109\\ub109\\ud558\\ub2e4 \\uc800\\ub834\\ud558\\ub2e4 \\uad6c\\ub9e4 \\uc88b\\ub2e4 \\ud53c\\ubd80 \\uc88b\\uc544\\uc9c0\\ub2e4 \\uc0c1\\uc138\", \"\\ubc30\\uc1a1 \\ube68\\ub974\\ub2e4 \\uc131\\ub2a5 \\uc720\\ud1b5 \\uae30\\ud55c \\uae30\\ud55c \\ub109\\ub109\\ud558\\ub2e4 \\uc88b\\ub2e4\", \"\\ubc30\\uc1a1 \\ube68\\ub974\\ub2e4 \\uc544\\uc27d\\ub2e4 \\uc720\\ud1b5 \\uae30\\ud55c \\uae30\\ud55c \\ub109\\ub109\\ud558\\ub2e4 \\uc88b\\ub2e4 \\uc8fc\\ubb38\", \"\\ud328\\ud0a4\\uc9c0 \\ub07c\\ub2e4 \\ub2f9\\ud669 \\uad1c\\ucc2e\\ub2e4 \\uc81c\\ud488 \\ub9cc\\uc871\\ud558\\ub2e4 \\uc0c1\\uc138\", \"\\ubc30\\uc1a1 \\uc131\\ub2a5 \\uc720\\ud1b5 \\uae30\\ud55c\", \"\\uac00\\uaca9 \\uad1c\\ucc2e\\ub2e4 \\ubc30\\uc1a1\", \"\\ubc30\\uc1a1 \\ube68\\ub974\\ub2e4 \\uc131\\ub2a5 \\uc720\\ud1b5 \\uae30\\ud55c\", \"\\uac00\\uaca9 \\uad1c\\ucc2e\\ub2e4 \\ubc30\\uc1a1 \\ube68\\ub974\\ub2e4\", \"\\ubc30\\uc1a1 \\ube68\\ub974\\ub2e4 \\uc131\\ub2a5 \\uc720\\ud1b5 \\uae30\\ud55c \\uae30\\ud55c \\ub109\\ub109\\ud558\\ub2e4\", \"\\uc88b\\ub2e4\", \"\\uac00\\uaca9 \\uc2f8\\ub2e4 \\uc0ac\\ub2e4 \\ubc30\\uc1a1 \\ube68\\ub974\\ub2e4\", \"\\uc720\\ud1b5 \\uae30\\ud55c \\uae30\\ud55c \\ub109\\ub109\\ud558\\ub2e4 \\ud3ec\\uc7a5 \\uc0c1\\ud0dc \\ud3ec\\uc7a5 \\uae54\\ub054\\ud558\\ub2e4 \\uc88b\\ub2e4\", \"\\uc720\\ud1b5 \\uae30\\ud55c \\uae30\\ud55c \\ub109\\ub109\\ud558\\ub2e4 \\ud3ec\\uc7a5 \\uc0c1\\ud0dc \\ud3ec\\uc7a5 \\uae54\\ub054\\ud558\\ub2e4 \\uc88b\\ub2e4 \\uc81c\\ud488 \\ub6f0\\uc5b4\\ub098\\ub2e4\", \"\\ubc30\\uc1a1 \\ube68\\ub974\\ub2e4 \\uc131\\ub2a5 \\uc131\\ub2a5 \\ub6f0\\uc5b4\\ub098\\ub2e4 \\uc720\\ud1b5 \\uae30\\ud55c \\uae30\\ud55c \\ub109\\ub109\\ud558\\ub2e4 \\uac74\\uac15\\uac80\\uc9c4 \\ucf5c\\ub808\\uc2a4\\ud14c\\ub864 \\uc218\\uce58 \\uace0\\uc9c0\\ud608\\uc99d \\ub192\\ub2e4 \\uae5c\\ub180 \\uc54c\\uc544\\ubcf4\\ub2e4 \\ud6c4\\uae30 \\uc88b\\ub2e4 \\uad6c\\ub9e4 \\uaca8\\uc6b8 \\uc190\\ubc1c \\ucc28\\ub2e4 \\ub450\\ub8e8 \\ub450\\ub8e8 \\uc88b\\ub2e4 \\uae30\\ub300\\ud558\\ub2e4 \\ud6c4\\uae30 \\uc62c\\ub9ac\\ub2e4\", \"\\uc720\\ud1b5 \\uae30\\ud55c \\uae30\\ud55c \\ub109\\ub109\\ud558\\ub2e4 \\ud3ec\\uc7a5 \\uc0c1\\ud0dc \\ud3ec\\uc7a5 \\uae54\\ub054\\ud558\\ub2e4 \\uc88b\\ub2e4 \\ud608\\uc555 \\uafb8\\uc900\\ud558\\ub2e4 \\ubcf5\\uc6a9 \\ubaa8\\ub974\\ub2e4 \\ubd88\\uc548\\ud558\\ub2e4 \\ubcf5\\uc6a9\", \"\\ubc30\\uc1a1 \\ube68\\ub974\\ub2e4 \\uc131\\ub2a5 \\uc131\\ub2a5 \\ub6f0\\uc5b4\\ub098\\ub2e4 \\uc720\\ud1b5 \\uae30\\ud55c \\uae30\\ud55c \\ub109\\ub109\\ud558\\ub2e4 \\uace0\\uc9c0\\ud608\\uc99d \\uad6c\\uc785 \\ubcf5\\uc6a9\", \"\\uc720\\ud1b5 \\uae30\\ud55c \\uae30\\ud55c \\ub109\\ub109\\ud558\\ub2e4 \\ud3ec\\uc7a5 \\uc0c1\\ud0dc \\ud3ec\\uc7a5 \\uae54\\ub054\\ud558\\ub2e4 \\uc88b\\ub2e4 \\uc7a5\\uae30 \\ubcf5\\uc6a9 \\ud608\\uc555 \\uc870\\uc808\", \"\\ubc30\\uc1a1 \\ube68\\ub974\\ub2e4 \\uc131\\ub2a5 \\uc720\\ud1b5 \\uae30\\ud55c \\uae30\\ud55c \\ub109\\ub109\\ud558\\ub2e4 \\ubd80\\ubaa8\\ub2d8 \\uac74\\uac15 \\uc704\\ud574 \\uac80\\uc0c9 \\ud6c4\\uae30 \\ub9ce\\ub2e4 \\uc88b\\ub2e4 \\uc0c1\\ud488 \\uce6d\\ucc2c \\ub9ce\\ub2e4 \\uad6c\\ub9e4 \\ud6a8\\ub2a5 \\uc54c\\ub2e4 \\ubcf5\\uc6a9 \\uc7ac\\ub2e4 \\ub9e4\\ub2e4 \\uc9c0\\ucf1c\\ubcf4\\ub2e4 \\uac10\\uc0ac\\ud558\\ub2e4\", \"\\ubc30\\uc1a1 \\ube68\\ub974\\ub2e4 \\uc131\\ub2a5 \\uc131\\ub2a5 \\ubcc4\\ub85c \\uc720\\ud1b5 \\uae30\\ud55c \\uc720\\ud29c\\ube0c \\ucc3e\\uc544\\ubcf4\\ub2e4 \\ub9e4\\ub2e4 \\ucf5c\\ub808\\uc2a4\\ud14c\\ub864 \\ub5a8\\uc5b4\\uc9c0\\ub2e4 \\uc88b\\ub2e4 \\uaca0\\ub2e4 \\uc0c1\\uc138\", \"\\ubc30\\uc1a1 \\ube68\\ub974\\ub2e4 \\uc131\\ub2a5 \\uc131\\ub2a5 \\ub6f0\\uc5b4\\ub098\\ub2e4 \\uc720\\ud1b5 \\uae30\\ud55c \\uae30\\ud55c \\ub109\\ub109\\ud558\\ub2e4 \\uae30\\ubd84 \\uc5c5\\ub2e4 \\uc0c1\\ucf8c\\ud558\\ub2e4 \\ud53c\\ub85c \\uc88b\\ub2e4 \\ud798\\ucc28\\ub2e4 \\ubcf4\\ub0b4\\ub2e4 \\uc0c1\\uc138 \\uc0c1\\uc138 \\uc0c1\\uc138\", \"\\ubc30\\uc1a1 \\ube68\\ub974\\ub2e4 \\uc131\\ub2a5 \\uc131\\ub2a5 \\ub6f0\\uc5b4\\ub098\\ub2e4 \\uc720\\ud1b5 \\uae30\\ud55c \\uae30\\ud55c \\ub109\\ub109\\ud558\\ub2e4 \\uace0\\ud608\\uc555 \\uac00\\uc871 \\ud608\\uad00 \\uac74\\uac15 \\uac71\\uc815 \\ub3fc\\ub2e4 \\ud608\\uad00 \\uc88b\\ub2e4 \\uc624\\uba54\\uac00 \\uc54c\\uc544\\ubcf4\\ub2e4 \\uc0dd\\uc120 \\ub9cc\\ub4e4\\ub2e4 \\ub3d9\\ubb3c\\uc131 \\uc624\\uba54\\uac00 \\ub298\\ub2e4 \\uc911\\uae08\\uc18d \\uc704\\ud5d8 \\ud574\\uc870\\ub958 \\uc624\\uba54\\uac00 \\uad6c\\ub9e4 \\uc784\\uc0b0\\ubd80 \\uc18c\\ub9ac \\ubbff\\ub2e4 \\uad6c\\ub9e4 \\uc624\\uba54\\uac00 \\ub298\\ub2e4 \\ud608\\uad00 \\uc911\\uc131 \\uc9c0\\ubc29 \\ub179\\uc774\\ub2e4 \\ud608\\uad00 \\uccad\\uc18c \\ud574\\uc8fc\\ub2e4 \\ud608\\uc561 \\uc21c\\ud658 \\ub3c4\\uc640\\uc8fc\\ub2e4 \\ubd88\\uaddc\\uce59\\ud558\\ub2e4 \\uc2b5\\uad00 \\uc911\\uc131 \\uc9c0\\ubc29 \\uac71\\uc815 \\ud544\\uc694\\ud558\\ub2e4 \\uc591\\uc81c \\ub365\\ub2e4 \\ucf54\\uc5d4\\uc790\\uc784 \\ud050\\ud150 \\ud765\\uad6d \\ucf54\\uc5d4\\uc790\\uc784 \\ud050\\ud150 \\ubcc4\\uba85 \\uc2ec\\uc7a5 \\ube44\\ud0c0\\ubbfc \\uc2ec\\uc7a5 \\ud38c\\ud54c \\ub3c4\\uc640\\uc8fc\\ub2e4 \\ud608\\uc561 \\uc21c\\ud658 \\uc88b\\ub2e4 \\ub3c4\\uc640\\uc8fc\\ub2e4 \\ub300\\uc694 \\ud765\\uad6d \\uc88b\\ub2e4 \\ucf5c\\ub808\\uc2a4\\ud2b8\\ub864 \\ub192\\uc774\\ub2e4 \\ub098\\uc058\\ub2e4 \\ucf5c\\ub808\\uc2a4\\ud14c\\ub864 \\ub0ae\\ucd94\\ub2e4 \\ud608\\uad00 \\ub354\\uc6b1 \\uad00\\ub9ac \\uc88b\\ub2e4 \\uc591\\uc81c \\uba39\\uae30 \\uac00\\uaca9 \\ubd80\\ub2f4 \\uac2f\\uc218 \\ub9ce\\uc544\\uc9c0\\ub2e4 \\uba39\\uae30 \\uc26c\\ub2e4 \\uc368\\ub2e4 \\uc2dc\\uc548 \\ubaa8\\ub4e0 \\uc88b\\ub2e4 \\ub2e4\\uac00 \\uba74\\uc5ed \\uc88b\\ub2e4 \\ud608\\uad00 \\uc810\\ub9c9 \\uc88b\\ub2e4 \\uc62c\\uc778\\uc6d0 \\ud608\\uad00 \\uad00\\ub9ac\\uc81c \\ub044\\ub2e4 \\ub2eb\\ub2e4 \\uc0c1\\uc138 \\uc0c1\\uc138 \\uc0c1\\uc138\", \"\\uc720\\ud1b5 \\uae30\\ud55c \\uae30\\ud55c \\ub109\\ub109\\ud558\\ub2e4 \\ud3ec\\uc7a5 \\uc0c1\\ud0dc \\ud3ec\\uc7a5 \\uae54\\ub054\\ud558\\ub2e4 \\uc88b\\ub2e4 \\uae30\\uac04 \\ub109\\ub109\\ud558\\ub2e4 \\ud3ec\\uc7a5 \\uc54c\\ub2e4\", \"\\uac00\\uaca9 \\uad1c\\ucc2e\\ub2e4 \\ubc30\\uc1a1\", \"\\uac00\\uaca9 \\uad1c\\ucc2e\\ub2e4 \\ubc30\\uc1a1 \\ube68\\ub974\\ub2e4 \\uc0ac\\ub2e4 \\uc798\\uc4f0\\ub2e4 \\uc0ac\\ub2e4 \\uc798\\uc4f0\\ub2e4 \\uc0ac\\ub2e4 \\uc798\\uc4f0\\ub2e4 \\uc0ac\\ub2e4 \\uc798\\uc4f0\\ub2e4 \\uc0ac\\ub2e4 \\uc798\\uc4f0\\ub2e4 \\uc0ac\\ub2e4 \\uc798\\uc4f0\\ub2e4 \\uc0ac\\ub2e4 \\uc798\\uc4f0\\ub2e4 \\uc0ac\\ub2e4 \\uc798\\uc4f0\\ub2e4 \\uc0ac\\ub2e4 \\uc798\\uc4f0\\ub2e4 \\uc0ac\\ub2e4 \\uc798\\uc4f0\\ub2e4 \\uc0ac\\ub2e4 \\uc798\\uc4f0\\ub2e4\", \"\\uc720\\ud1b5 \\uae30\\ud55c \\uae30\\ud55c \\ub109\\ub109\\ud558\\ub2e4 \\ud3ec\\uc7a5 \\uc0c1\\ud0dc \\ud3ec\\uc7a5 \\uae54\\ub054\\ud558\\ub2e4 \\uc88b\\ub2e4 \\uac74\\uac15 \\uc7ac\\ub2e4 \\uc2f6\\ub2e4 \\uc0c1\\uc138\", \"\\uc0c9\\uae54 \\ub07c\\ub2e4 \\uace0\\uc18c\\ud558\\ub2e4 \\ucf5c\\ub808\\uc2a4\\ud14c\\ub864 \\ub192\\ub2e4 \\uc0c1\\uc138 \\uc0c1\\uc138\", \"\\ubc30\\uc1a1 \\ube68\\ub974\\ub2e4 \\uc131\\ub2a5 \\uc131\\ub2a5 \\ub6f0\\uc5b4\\ub098\\ub2e4 \\uc720\\ud1b5 \\uae30\\ud55c \\uae30\\ud55c \\ub109\\ub109\\ud558\\ub2e4 \\ube0c\\ub9ac \\ubcf5\\uc6a9 \\ud488\\uc808 \\uc774\\uae30\\ub2e4 \\uc81c\\ud488 \\uad6c\\ub9e4 \\ubcf5\\uc6a9 \\ud574\\ubcf4\\ub2e4 \\ud655\\uc2e4\\ud558\\ub2e4 \\ube0c\\ub9ac \\uc88b\\ub2e4 \\ube44\\uc2f8\\ub2e4 \\ube7c\\ub2e4 \\ud6a8\\ub2a5 \\ud655\\uc2e4\\ud558\\ub2e4 \\uc6b8\\ub0a8\\ud460 \\uc3d8\\ub2e4 \\ud314\\uba54 \\ud1a0\\ub3c4 \\ube0c\\ub9ac \\ud488\\uc808 \\uc81c\\ud488 \\ubcf5\\uc6a9 \\ubcf5\\uace0 \\ud655\\uc2e4\\ud558\\ub2e4 \\ube0c\\ub9ac \\uac00\\uaca9 \\uc774\\uc608 \\uac1c\\uc778 \\ud3c9\\uac00 \\ud64d\\ubcf4 \\uc544\\ub2c8\\ub2e4\", \"\\ubc30\\uc1a1 \\uc131\\ub2a5 \\uc131\\ub2a5 \\ub6f0\\uc5b4\\ub098\\ub2e4 \\uc720\\ud1b5 \\uae30\\ud55c \\uae30\\ud55c \\ub109\\ub109\\ud558\\ub2e4 \\uad6c\\ub9e4 \\ube0c\\ub9ac \\ubcf4\\ub77c \\uc624\\uc77c \\uac10\\ub9c8 \\ub9ac\\ub180\\ub80c\\uc0b0 300 \\uafb8\\uc900\\ud558\\ub2e4 \\uc0dd\\ub9ac\\ud1b5 \\uc5c6\\uc5b4\\uc9c0\\ub2e4 \\ud53c\\ubd80 \\uc88b\\uc544\\uc9c0\\ub2e4 \\ucd94\\ucc9c \\uac00\\uaca9 \\uad1c\\ucc2c \\ubbff\\uc74c \\ud3ec\\uc7a5 \\uc88b\\ub2e4 \\uc0c1\\uc138\", \"\\ubc30\\uc1a1 \\ube68\\ub974\\ub2e4 \\uc131\\ub2a5 \\uc131\\ub2a5 \\ub6f0\\uc5b4\\ub098\\ub2e4 \\uc720\\ud1b5 \\uae30\\ud55c \\uae30\\ud55c \\ub109\\ub109\\ud558\\ub2e4 \\uc815\\ub9d0\", \"\\ubc30\\uc1a1 \\ube68\\ub974\\ub2e4 \\uc131\\ub2a5 \\uc131\\ub2a5 \\ub6f0\\uc5b4\\ub098\\ub2e4 \\uc81c\\ud488 \\uad1c\\ucc2e\\ub2e4 \\uafb8\\uc900\\ud558\\ub2e4 \\uc787\\ub2e4 \\ub2e4\\ub974\\ub2e4 \\ubc14\\uafb8\\ub2e4 \\uc787\\ub2e4 \\uc0c1\\uc138\", \"\\ud53c\\ubd80 \\uc88b\\uc544\\uc9c0\\ub2e4 \\uad6c\\uc785 \\ud53c\\ub85c \\uac10\\ub2e4 \\uc904\\uc5b4\\ub4e4\\ub2e4\", \"\\ubc30\\uc1a1 \\ube68\\ub974\\ub2e4 \\uc131\\ub2a5 \\uc131\\ub2a5 \\ub6f0\\uc5b4\\ub098\\ub2e4 \\uc720\\ud1b5 \\uae30\\ud55c \\uae30\\ud55c \\ub109\\ub109\\ud558\\ub2e4 \\ud0c0\\uc9c0 \\uc624\\ub9e4 \\ub77c\\uc11c \\ubbff\\ub2e4 \\uad6c\\ub9e4 \\uac00\\uc131 \\uc88b\\ub2e4\", \"\\ubc30\\uc1a1 \\uc131\\ub2a5 \\uc720\\ud1b5 \\uae30\\ud55c \\uae30\\ud55c \\ub109\\ub109\\ud558\\ub2e4 \\ub450\\ud1b5 \\uc7ac\\ub2e4 \\uac10\\ub9c8 \\ub9ac\\ub180\\ub80c\\uc0b0 \\ud568\\uc720\\ub7c9 \\ub192\\ub2e4 \\uacfc\\uc815 \\uad1c\\ucc2e\\ub2e4 \\ud3b8\\uc774 \\ubbff\\ub2e4 \\ubcf5\\uc6a9 \\uc911\\uc774 \\uac1c\\uc778 \\uc804\\ud654\\ubc88\\ud638 \\uc5f0\\ub77d \\uce58\\uc57d \\uadc0\\ucc2e\\ub2e4 \\uae30\\ub3c4 \\uac1c\\uc778 \\ubc88\\ud638 \\uc5f0\\ub77d \\uc0ac\\uc740 \\ud488\\ub2e4 \\uaebc\\ub9ac\\ub2e4 \\ud2c0\\ub2e4 \\uad6c\\ub9e4 \\uc0c1\\uc138 \\uc0c1\\uc138\", \"\\uc720\\ud1b5 \\uae30\\ud55c \\uae30\\ud55c \\ub109\\ub109\\ud558\\ub2e4 \\ud3ec\\uc7a5 \\uc0c1\\ud0dc \\ud3ec\\uc7a5 \\uae54\\ub054\\ud558\\ub2e4 \\uc88b\\ub2e4 \\ud56d\\uc0c1 \\uc7c1\\uaca8\\ub193 \\uc591\\uc81c \\uc0c1\\uc138\", \"\\ubc30\\uc1a1 \\ube68\\ub974\\ub2e4 \\uc131\\ub2a5 \\uc131\\ub2a5 \\ub6f0\\uc5b4\\ub098\\ub2e4 \\uc720\\ud1b5 \\uae30\\ud55c \\uae30\\ud55c \\ub109\\ub109\\ud558\\ub2e4 \\uc81c\\ud488 \\uace0\\uae09\\uc2a4\\ub7fd\\ub2e4 \\ucea1\\uc290 \\uc539\\ub2e4 \\uc7ac\\ubbf8 \\uc800\\ub834\\ud558\\ub2e4 \\uc81c\\ud488 \\uae68\\ub2e4 \\ud488\\uc9c8 \\uc88b\\ub2e4\", \"\\ud53c\\ubd80 \\uc88b\\ub2e4 \\ube44\\ud0c0\\ubbfc \\uc0ac\\uba74 \\uad6c\\uc785 \\uc88b\\ub2e4 \\uafb8\\uc900\\ud558\\ub2e4 \\uad6c\\ub9e4\", \"\\uc720\\ud1b5 \\uae30\\ud55c \\uae30\\ud55c \\ub109\\ub109\\ud558\\ub2e4 \\ud3ec\\uc7a5 \\uc0c1\\ud0dc \\ud3ec\\uc7a5 \\uae54\\ub054\\ud558\\ub2e4 \\uc88b\\ub2e4 \\uafb8\\uc900\\ud558\\ub2e4 \\ubcf5\\uc6a9 \\uac74\\uac15 \\ubcf4\\uc870 \\uc2dd\\ud488 \\uc0c1\\uc138\", \"\\uc800\\ub834\\ud558\\ub2e4 \\uc0ac\\ub2e4 \\uc5ed\\uc2dc \\ubd84\\ub9d0 \\uba39\\uae30 \\ud798\\ub4e4\\ub2e4 \\uae30\\ub2e4 \\ubb3c\\uc774 \\uafc0\\uaebd \\uafc0\\uaebd \\ub9c8\\uc2dc\\ub2e4 \\uc54c\\uc57d \\uac00\\ub8e8 \\uc2a4\\ud47c \\ub05d\\ub098\\ub2e4 \\uac00\\ub8e8 \\ub0ab\\ub2e4 \\uc0c1\\uc138\", \"\\ubc30\\uc1a1 \\ube68\\ub974\\ub2e4 \\uc131\\ub2a5 \\uc131\\ub2a5 \\ub6f0\\uc5b4\\ub098\\ub2e4 \\uc720\\ud1b5 \\uae30\\ud55c \\uae30\\ud55c \\ub109\\ub109\\ud558\\ub2e4 \\ubd80\\ubaa8\\ub2d8 \\ub4dc\\ub9ac\\ub2e4\", \"\\ubc30\\uc1a1 \\ube68\\ub974\\ub2e4 \\uc131\\ub2a5 \\uc131\\ub2a5 \\ub6f0\\uc5b4\\ub098\\ub2e4 \\uc720\\ud1b5 \\uae30\\ud55c \\uae30\\ud55c \\ub109\\ub109\\ud558\\ub2e4 \\ud608\\uc555 \\ub192\\ub2e4 \\uc778\\ud130\\ub137 \\ucc3e\\uc544\\ubcf4\\ub2e4 \\ud3c9\\uc774 \\uc88b\\ub2e4 \\uad6c\\ub9e4 \\uba85\\uc131 \\uac74\\uac15 \\uc88b\\uc544\\uc9c0\\ub2e4\", \"\\uac00\\uaca9 \\uad1c\\ucc2e\\ub2e4 \\ubc30\\uc1a1 \\ube68\\ub974\\ub2e4\", \"\\ubc30\\uc1a1 \\ube68\\ub974\\ub2e4 \\uc720\\ud1b5 \\uae30\\ud55c \\uae30\\ud55c \\ub109\\ub109\\ud558\\ub2e4\", \"\\uac00\\uaca9 \\uc2f8\\ub2e4 \\uc0ac\\ub2e4 \\ubc30\\uc1a1 \\ube68\\ub974\\ub2e4 \\uc88b\\ub2e4\", \"\\ubc30\\uc1a1 \\ube68\\ub974\\ub2e4 \\uc131\\ub2a5 \\uc720\\ud1b5 \\uae30\\ud55c \\uae30\\ud55c \\ub109\\ub109\\ud558\\ub2e4\", \"\\ubc30\\uc1a1 \\ube68\\ub974\\ub2e4 \\uc131\\ub2a5 \\uc720\\ud1b5 \\uae30\\ud55c\", \"\\uc720\\ud1b5 \\uae30\\ud55c \\uae30\\ud55c \\ub109\\ub109\\ud558\\ub2e4 \\ud3ec\\uc7a5 \\uc0c1\\ud0dc \\ud3ec\\uc7a5 \\uae54\\ub054\\ud558\\ub2e4\", \"\\ubc30\\uc1a1 \\ube68\\ub974\\ub2e4 \\uc131\\ub2a5 \\uc131\\ub2a5 \\ub6f0\\uc5b4\\ub098\\ub2e4 \\uc720\\ud1b5 \\uae30\\ud55c \\uae30\\ud55c \\ub109\\ub109\\ud558\\ub2e4 \\uc88b\\ub2e4\", \"\\ubc30\\uc1a1 \\ube68\\ub974\\ub2e4 \\uc131\\ub2a5 \\uc131\\ub2a5 \\ub6f0\\uc5b4\\ub098\\ub2e4 \\uc720\\ud1b5 \\uae30\\ud55c\", \"\\ubc30\\uc1a1 \\ube68\\ub974\\ub2e4 \\uc720\\ud1b5 \\uae30\\ud55c \\uae30\\ud55c \\ub109\\ub109\\ud558\\ub2e4 \\uc88b\\ub2e4\", \"\\uac00\\uaca9 \\uc2f8\\ub2e4 \\ubc30\\uc1a1\", \"\\ubc30\\uc1a1 \\ube68\\ub974\\ub2e4 \\uc131\\ub2a5 \\uc131\\ub2a5 \\ub6f0\\uc5b4\\ub098\\ub2e4 \\uc720\\ud1b5 \\uae30\\ud55c\", \"\\uc720\\ud1b5 \\uae30\\ud55c \\uae30\\ud55c \\ub109\\ub109\\ud558\\ub2e4 \\ud3ec\\uc7a5 \\uc0c1\\ud0dc \\ud3ec\\uc7a5 \\uae54\\ub054\\ud558\\ub2e4 \\uc88b\\ub2e4 \\uad6c\\ub9e4 \\ud574\\ubcf4\\ub2e4 \\ucc28\\uadfc\\ucc28\\uadfc \\uc54c\\ub2e4 \\uc131\\ubd84 \\uc88b\\ub2e4 \\uad6c\\ub9e4 \\uc624\\uba54\\uac00 \\ucf54\\uc5d4\\uc790\\uc784 \\uc5fd\\uc0b0 \\uc81c\\ud488 \\uad6c\\ub9e4 \\uad6c\\ub9e4 \\uba39\\uae30 \\uadc0\\ucc2e\\ub2e4 \\uac00\\uaca9 \\uc810\\ub3c4 \\ub2e4\\uc2dc \\uad6c\\ub9e4 \\uc0c1\\uc138\", \"\\uc720\\ud1b5 \\uae30\\ud55c \\uae30\\ud55c \\ub109\\ub109\\ud558\\ub2e4 \\ud3ec\\uc7a5 \\uc0c1\\ud0dc \\ud3ec\\uc7a5 \\uae54\\ub054\\ud558\\ub2e4 \\uc88b\\ub2e4 1\\ub144 \\uad6c\\ub9e4 \\ubcf5\\uc6a9 \\uc815\\ud655\\ud558\\ub2e4 \\uac80\\uc0ac \\ud574\\ubcf4\\ub2e4 \\uc218\\uce58 \\ubaa8\\ub974\\ub2e4 \\ubb34\\uac70 \\uc950\\ub2e4 \\ud655\\uc2e4\\ud558\\ub2e4 \\uc88b\\uc544\\uc9c0\\ub2e4 \\uc88b\\ub2e4 \\uc601\\ud5a5 \\ubbff\\ub2e4 \\uc2f6\\ub2e4 \\uad6c\\ub9e4 \\uc81c\\ud488 \\ubd84\\ub9ac \\ud798\\ub4e4\\ub2e4 \\ub2e4\\uc2dc \\ubd84\\ub9ac \\uc27d\\ub2e4 \\uc0c1\\uc138 \\uc0c1\\uc138 \\uc0c1\\uc138\", \"\\ubc30\\uc1a1 \\ube68\\ub974\\ub2e4 \\uc131\\ub2a5 \\uc131\\ub2a5 \\ub6f0\\uc5b4\\ub098\\ub2e4 \\uc720\\ud1b5 \\uae30\\ud55c \\uae30\\ud55c \\ub109\\ub109\\ud558\\ub2e4 \\ucf5c\\ub808\\uc2a4\\ud14c\\ub864 \\uce58\\uac00 \\ub192\\ub2e4 \\ub3c4\\uc6c0 \\ud6c4\\uae30 \\uad6c\\ub9e4 \\ud6c4\\uae30 \\ub2e4\\uc2dc \\uc62c\\ub9ac\\ub2e4\", \"\\ubc30\\uc1a1 \\ube68\\ub974\\ub2e4 \\uc131\\ub2a5 \\uc131\\ub2a5 \\ub6f0\\uc5b4\\ub098\\ub2e4 \\uc720\\ud1b5 \\uae30\\ud55c \\uae30\\ud55c \\ub109\\ub109\\ud558\\ub2e4 \\ub9d1\\ub2e4 \\uae30\\ubd84 \\uc88b\\ub2e4 \\uae30\\ub300\\ud558\\ub2e4 \\uc0c1\\uc138\", \"\\ubc30\\uc1a1 \\uc131\\ub2a5 \\uc720\\ud1b5 \\uae30\\ud55c \\uae30\\ud55c \\ub109\\ub109\\ud558\\ub2e4\", \"\\uac00\\uaca9 \\uad1c\\ucc2e\\ub2e4 \\ubc30\\uc1a1\", \"\\uac00\\uaca9 \\uc2f8\\ub2e4 \\uc0ac\\ub2e4 \\ubc30\\uc1a1 \\ube68\\ub974\\ub2e4 \\uc2f8\\ub2e4 \\uc0ac\\ub2e4\", \"\\uac00\\uaca9 \\uad1c\\ucc2e\\ub2e4 \\ubc30\\uc1a1 \\uafb8\\uc900\\ud558\\ub2e4\", \"\\ubc30\\uc1a1 \\ube68\\ub974\\ub2e4 \\uc131\\ub2a5 \\uc131\\ub2a5 \\ub6f0\\uc5b4\\ub098\\ub2e4 \\uc720\\ud1b5 \\uae30\\ud55c \\uae30\\ud55c \\ub109\\ub109\\ud558\\ub2e4 \\uad6c\\ub9e4 \\uc81c\\ud488 \\ubbff\\ub2e4 \\uc7ac\\ub2e4\", \"\\ub9cc\\uc871\\ud558\\ub2e4 \\uc8fc\\ubcc0 \\uc9c0\\uc778 \\uc18c\\uac1c \\ub2ec\\ub9de\\uc774\\uaf43 \\uc790\\uc720 \\uad6c\\ub9e4 \\uc88b\\ub2e4 \\uc88b\\ub2e4\", \"\\ubc30\\uc1a1 \\ube68\\ub974\\ub2e4 \\ud608\\uc561 \\uc21c\\ud658 \\uc88b\\ub2e4 \\uafb8\\uc900\\ud558\\ub2e4 \\ub298\\ub2e4 \\uc190\\ubc14\\ub2e5 \\ub530\\ub73b\\ud558\\ub2e4 \\uae30\\ubd84 \\uc0c1\\uc138\", \"\\ub9cc\\uc871 \\uc88b\\ub2e4 \\uc8fc\\ubb38 \\ub298\\ub2e4 \\uc787\\ub2e4 \\ud1b5\\uc99d \\ub9cc\\uc871\\ud558\\ub2e4\", \"\\ubc30\\uc1a1 \\ube68\\ub974\\ub2e4 \\uc131\\ub2a5 \\uc131\\ub2a5 \\ub6f0\\uc5b4\\ub098\\ub2e4 \\uc720\\ud1b5 \\uae30\\ud55c \\uae30\\ud55c \\ub109\\ub109\\ud558\\ub2e4 \\uad6c\\uc785 \\uc81c\\ud488 \\ub5a8\\uc5b4\\uc9c0\\ub2e4 \\uad6c\\uc785 \\uac31\\ub144\\uae30 \\ub3c4\\uc6c0 \\uc0c1\\uc138\", \"\\ubc30\\uc1a1 \\ube68\\ub974\\ub2e4 \\uc131\\ub2a5 \\uc131\\ub2a5 \\ub6f0\\uc5b4\\ub098\\ub2e4 \\uc720\\ud1b5 \\uae30\\ud55c \\uae30\\ud55c \\ub109\\ub109\\ud558\\ub2e4 \\uad6c\\ub9e4 \\ud608\\uc561 \\uc21c\\ud658 \\ub3c4\\uc6c0 \\ud30c\\ub2e4\", \"\\uac00\\uaca9 \\uc2f8\\ub2e4 \\uc0ac\\ub2e4 \\ubc30\\uc1a1 \\ube68\\ub974\\ub2e4 \\uc2f6\\ub2e4 \\uac04\\ub9cc \\uc0ac\\ubcf4\\ub2e4 \\ud6a8\\ub2a5 \\ubaa8\\ub974\\ub2e4 \\uc0c1\\uc138\", \"\\ubc30\\uc1a1 \\ube68\\ub974\\ub2e4 \\uc131\\ub2a5 \\uc131\\ub2a5 \\ub6f0\\uc5b4\\ub098\\ub2e4 \\uc720\\ud1b5 \\uae30\\ud55c \\uae30\\ud55c \\ub109\\ub109\\ud558\\ub2e4 \\uac00\\uc871 \\uc800\\ub834\\ud558\\ub2e4 \\uad6c\\ub9e4 \\uc88b\\ub2e4\", \"\\ubc30\\uc1a1 \\ube68\\ub974\\ub2e4 \\uc131\\ub2a5 \\uc131\\ub2a5 \\ub6f0\\uc5b4\\ub098\\ub2e4 \\uc720\\ud1b5 \\uae30\\ud55c \\uae30\\ud55c \\ub109\\ub109\\ud558\\ub2e4 \\ud06c\\ub9b4 \\uc624\\uc77c \\uc88b\\ub2e4 \\uad6c\\ub9e4\", \"\\ubc30\\uc1a1 \\ube68\\ub974\\ub2e4 \\uc131\\ub2a5 \\uc131\\ub2a5 \\ub6f0\\uc5b4\\ub098\\ub2e4 \\uc720\\ud1b5 \\uae30\\ud55c \\uae30\\ud55c \\ub109\\ub109\\ud558\\ub2e4 \\uac10\\uc0ac\\ud558\\ub2e4 \\uac10\\uc0ac\\ud558\\ub2e4\", \"\\uac00\\uaca9 \\uc2f8\\ub2e4 \\uc0ac\\ub2e4 \\ubc30\\uc1a1 \\ube68\\ub974\\ub2e4 \\uc88b\\ub2e4 \\uc0ac\\ub2e4 \\uaf3c\\uaf3c\\ud558\\ub2e4 \\ud3ec\\uc7a5 \\ubcf4\\ub0b4\\ub2e4 \\uac10\\uc0ac \\ub4dc\\ub9ac\\ub2e4\", \"\\uc54c\\ub2e4 \\ub123\\ub2e4 \\ube44\\ud0c0\\ubbfc \\uc2e0\\ub791 \\ube8f\\ub2e4 \\uc787\\ub2e4 \\ub9c8\\uad6c\", \"\\uac00\\uaca9 \\uc2f8\\ub2e4 \\uc0ac\\ub2e4 \\ubc30\\uc1a1 \\ube68\\ub974\\ub2e4 \\ud544\\uc218\\ud488 \\uad6c\\ub9e4\", \"\\ubc30\\uc1a1 \\ube68\\ub974\\ub2e4 \\uc131\\ub2a5 \\uc131\\ub2a5 \\ub6f0\\uc5b4\\ub098\\ub2e4 \\uc720\\ud1b5 \\uae30\\ud55c \\uae30\\ud55c \\ub109\\ub109\\ud558\\ub2e4 \\ub450\\ubc88\\uc9f8 \\uad6c\\ub9e4 \\uc88b\\ub2e4 \\uc0c1\\uc138\", \"\\ubcf5\\uc6a9 \\ud3c9\\uac00 \\uc5b4\\ub835\\ub2e4 \\uc2e0\\uc18d\\ud558\\ub2e4 \\ubc30\\uc1a1 \\ub9cc\\uc871\\ud558\\ub2e4 \\uae30\\uc0ac \\uac10\\uc0ac\", \"\\ubc30\\uc1a1 \\ube68\\ub974\\ub2e4 \\uc131\\ub2a5 \\uc131\\ub2a5 \\ub6f0\\uc5b4\\ub098\\ub2e4 \\uc720\\ud1b5 \\uae30\\ud55c \\uae30\\ud55c \\ub109\\ub109\\ud558\\ub2e4 \\ub450\\ubc88\\uc9f8 \\uad6c\\ub9e4\", \"\\ubc30\\uc1a1 \\ube68\\ub974\\ub2e4 \\uc131\\ub2a5 \\uc131\\ub2a5 \\ub6f0\\uc5b4\\ub098\\ub2e4 \\uc720\\ud1b5 \\uae30\\ud55c \\uae30\\ud55c \\ub109\\ub109\\ud558\\ub2e4 \\ubc8c\\uc368 \\uc138\\ubc88 \\uad6c\\ub9e4 \\uc2e0\\uae30\\ud558\\ub2e4 \\uc0dd\\ub9ac \\uc99d\\ud6c4\\uad70 \\uc5c6\\uc5b4\\uc9c0\\ub2e4 \\uc0dd\\ub9ac \\ub2ec\\ub2e4 \\ub561\\uae30\\ub2e4 \\uc9dc\\uc99d\\ub098\\ub2e4 \\uc608\\ubbfc\\ud558\\ub2e4 \\uadf8\\ub807\\ub2e4 \\uc99d\\uc0c1 \\uc5c6\\uc5b4\\uc9c0\\ub2e4 \\uba39\\uace0\\ub2e4 \\uc2f6\\ub2e4 \\uac00\\uaca9 \\ube44\\uc2f8\\ub2e4 \\ud6a8\\ub2a5 \\uc88b\\ub2e4 \\uc774\\ud574 \\ubd80\\ub2f4\\uc2a4\\ub7fd\\ub2e4 \\uac08\\uc544\\ud0c0\\ub2e4 \\uc8fc\\ubb38 \\uac00\\uaca9 \\uac10\\uc0ac\\ud558\\ub2e4 \\uc0c1\\uc138\", \"\\uac00\\uaca9 \\uad1c\\ucc2e\\ub2e4 \\ubc30\\uc1a1 \\uac00\\uaca9 \\uc88b\\ub2e4\", \"\\ubc30\\uc1a1 \\uc131\\ub2a5 \\uc720\\ud1b5 \\uae30\\ud55c \\uc801\\ub2f9\\ud558\\ub2e4\", \"\\ubc30\\uc1a1 \\ube68\\ub974\\ub2e4 \\uc720\\ud1b5 \\uae30\\ud55c \\uae30\\ud55c \\ub109\\ub109\\ud558\\ub2e4 \\ubaa8\\ub974\\ub2e4\", \"\\ubc30\\uc1a1 \\ube68\\ub974\\ub2e4 \\uc131\\ub2a5 \\uc131\\ub2a5 \\ub6f0\\uc5b4\\ub098\\ub2e4 \\uc720\\ud1b5 \\uae30\\ud55c \\uae30\\ud55c \\ub109\\ub109\\ud558\\ub2e4 \\ud3b8\\ud558\\ub2e4 \\ucfe0\\ud3f0 \\ucc29\\ud558\\ub2e4 \\uac00\\uaca9 \\uad6c\\ub9e4 \\ubcf4\\ub0b4\\ub2e4 \\uc138\\uc2ec \\ubc30\\ub824 \\uac10\\uc0ac \\ub4dc\\ub9ac\\ub2e4 \\uc0c1\\uc138\", \"\\ubc30\\uc1a1 \\ube68\\ub974\\ub2e4\", \"\\uc720\\ud1b5 \\uae30\\ud55c \\uae30\\ud55c \\ub109\\ub109\\ud558\\ub2e4 \\ud3ec\\uc7a5 \\uc0c1\\ud0dc \\ud3ec\\uc7a5 \\uae54\\ub054\\ud558\\ub2e4 \\uc88b\\ub2e4\", \"\\ubc30\\uc1a1 \\ube68\\ub974\\ub2e4 \\uc131\\ub2a5 \\uc131\\ub2a5 \\ub6f0\\uc5b4\\ub098\\ub2e4 \\uc720\\ud1b5 \\uae30\\ud55c \\uae30\\ud55c \\ub109\\ub109\\ud558\\ub2e4\", \"\\ubc30\\uc1a1 \\ube68\\ub974\\ub2e4 \\uc131\\ub2a5 \\uc720\\ud1b5 \\uae30\\ud55c \\uae30\\ud55c \\ub109\\ub109\\ud558\\ub2e4\", \"\\ubc30\\uc1a1 \\uc131\\ub2a5 \\uc131\\ub2a5 \\ub6f0\\uc5b4\\ub098\\ub2e4 \\uc720\\ud1b5 \\uae30\\ud55c \\uae30\\ud55c \\ub109\\ub109\\ud558\\ub2e4\", \"\\uc720\\ud1b5 \\uae30\\ud55c \\ud3ec\\uc7a5 \\uc0c1\\ud0dc\", \"\\ubc30\\uc1a1 \\ube68\\ub974\\ub2e4 \\uc720\\ud1b5 \\uae30\\ud55c \\uae30\\ud55c \\ub109\\ub109\\ud558\\ub2e4 \\uc624\\uba54\\uac00 \\ud64d\\uad6d \\ucf54\\ud050\\ud150 \\uc88b\\ub2e4 \\ud655\\uc2e4\\ud558\\ub2e4 \\uc624\\uba54\\uac00 \\uc88b\\ub2e4 \\ud3b8\\ud558\\ub2e4 \\uc88b\\ub2e4 \\uad6c\\ub9e4 \\uc9dc\\ub2e4 \\uad6c\\uc131 \\uc800\\ub834\\ud558\\ub2e4 \\ub2e8\\uac00 \\uac10\\uc0ac\\ud558\\ub2e4 \\ub2eb\\ub2e4 \\uc0c1\\uc138 \\uc0c1\\uc138 \\uc0c1\\uc138\", \"\\ubc30\\uc1a1 \\uc131\\ub2a5 \\uc131\\ub2a5 \\ub6f0\\uc5b4\\ub098\\ub2e4 \\uc720\\ud1b5 \\uae30\\ud55c \\uae30\\ud55c \\ub109\\ub109\\ud558\\ub2e4 \\uace0\\ud608\\uc555 \\uba39\\uae30 \\ub2e8\\uacc4 \\uc2ec\\uc0ac\\uc219\\uace0 \\ubcf5\\uc6a9 \\ubcf5\\uc6a9 \\ubcc0\\ud654 \\ub290\\ub07c\\ub2e4 \\uafb8\\uc900\\ud558\\ub2e4\", \"\\ubc30\\uc1a1 \\ube68\\ub974\\ub2e4 \\uc131\\ub2a5 \\uc131\\ub2a5 \\ub6f0\\uc5b4\\ub098\\ub2e4 \\uc720\\ud1b5 \\uae30\\ud55c \\uae30\\ud55c \\ub109\\ub109\\ud558\\ub2e4 \\ub3d9\\ubb3c\\uc131 \\uc624\\uba54\\uac00 \\uc911\\uae08\\uc18d \\ud574\\uc870\\ub958 \\uc624\\uba54\\uac00 \\uad6c\\ub9e4 \\uc5ed\\uc2dc \\uc2dd\\ubb3c\\uc131 \\uadf8\\ub807\\ub2e4 \\ube44\\ub9ac\\ub2e4 \\uba39\\uae30 \\uc88b\\ub2e4 \\ud608\\uc561 \\uc21c\\ud658 \\uace0\\uc9c0\\ud608\\uc99d \\ucf5c\\ub808\\uc2a4\\ud14c\\ub864 \\uc218\\uce58 \\uc88b\\uc544\\uc9c0\\ub2e4 \\uc2e0\\uae30\\ud558\\ub2e4 \\uafb8\\uc900\\ud558\\ub2e4 \\ud608\\uc555 \\ub192\\ub2e4 \\ubd84\\ud558\\ub2e4 \\uc88b\\ub2e4 \\ub2eb\\ub2e4 \\uc0c1\\uc138 \\uc0c1\\uc138 \\uc0c1\\uc138\", \"\\uc720\\ud1b5 \\uae30\\ud55c \\uae30\\ud55c \\ub109\\ub109\\ud558\\ub2e4 \\ud3ec\\uc7a5 \\uc0c1\\ud0dc \\ud3ec\\uc7a5 \\uae54\\ub054\\ud558\\ub2e4 \\uc88b\\ub2e4 \\uad6c\\ub9e4 \\ubc30\\uc1a1 \\uc608\\uc815\\uc77c \\uc81c\\uc870 2\\uc6d4 \\uc720\\ud1b5 \\uae30\\ud55c \\uae30\\ub2e4 \\uc88b\\ub2e4 \\uc0c1\\uc138 \\uc0c1\\uc138\", \"\\ubc30\\uc1a1 \\ube68\\ub974\\ub2e4 \\uc131\\ub2a5 \\uc131\\ub2a5 \\ub6f0\\uc5b4\\ub098\\ub2e4 \\uc720\\ud1b5 \\uae30\\ud55c \\uae30\\ud55c \\ub109\\ub109\\ud558\\ub2e4 \\uc138\\ubc88 \\uad6c\\ub9e4 \\uc9c0\\uc18d \\ubcf5\\uc6a9 \\uc0c1\\uc138\", \"\\ubc30\\uc1a1 \\ube68\\ub974\\ub2e4 \\uc131\\ub2a5 \\uc720\\ud1b5 \\uae30\\ud55c \\ubaa8\\ub974\\ub2e4 \\uafb8\\uc900\\ud558\\ub2e4 1\\ub144 \\ud608\\uad00 \\uad00\\ub9ac \\ub93c\\ud574\", \"\\ubc30\\uc1a1 \\ube68\\ub974\\ub2e4 \\uc131\\ub2a5 \\uc720\\ud1b5 \\uae30\\ud55c \\uae30\\ud55c \\ub109\\ub109\\ud558\\ub2e4\", \"\\uac00\\uaca9 \\uad1c\\ucc2e\\ub2e4 \\ubc30\\uc1a1 \\uc88b\\ub2e4\", \"\\uac00\\uaca9 \\uad1c\\ucc2e\\ub2e4 \\ubc30\\uc1a1 \\ube68\\ub974\\ub2e4\", \"\\ubc30\\uc1a1 \\ube68\\ub974\\ub2e4 \\uc131\\ub2a5 \\uc131\\ub2a5 \\ub6f0\\uc5b4\\ub098\\ub2e4 \\uc720\\ud1b5 \\uae30\\ud55c \\uae30\\ud55c \\ub109\\ub109\\ud558\\ub2e4 \\ubc30\\uc1a1 \\ube60\\ub974\\ub2e4 \\uc88b\\ub2e4\", \"\\ubc30\\uc1a1 \\uc131\\ub2a5 \\uc131\\ub2a5 \\ub6f0\\uc5b4\\ub098\\ub2e4 \\uc720\\ud1b5 \\uae30\\ud55c\", \"\\ubc30\\uc1a1 \\ube68\\ub974\\ub2e4 \\uc131\\ub2a5 \\uc131\\ub2a5 \\ub6f0\\uc5b4\\ub098\\ub2e4 \\uc720\\ud1b5 \\uae30\\ud55c \\uae30\\ud55c \\ub109\\ub109\\ud558\\ub2e4 \\ube60\\ub974\\ub2e4 \\ubc30\\uc1a1 \\uac10\\uc0ac\\ud558\\ub2e4\", \"\\ubc30\\uc1a1 \\ube68\\ub974\\ub2e4 \\uc720\\ud1b5 \\uae30\\ud55c \\uae30\\ud55c \\ub109\\ub109\\ud558\\ub2e4 \\uc800\\ub834\\ud558\\ub2e4 \\uad6c\\uc785\", \"\\ubc30\\uc1a1 \\ube68\\ub974\\ub2e4 \\uc131\\ub2a5 \\uc131\\ub2a5 \\ub6f0\\uc5b4\\ub098\\ub2e4 \\uc720\\ud1b5 \\uae30\\ud55c \\uae30\\ud55c \\ub109\\ub109\\ud558\\ub2e4 \\uc544\\ub9c8\\uc874 \\uad6c\\ub9e4 \\ubc30\\uc1a1 \\ube60\\ub974\\ub2e4 \\uac00\\uaca9 \\ubd80\\ub2f4 \\uc88b\\ub2e4\", \"\\ucd95\\ucc99 \\uc9c0\\ubc29 \\ubd84\\ud574 \\uc88b\\ub2e4 \\ud3ec\\uc2a4 \\ud30c\\ud2f0 \\ucf5c\\ub9b0 \\ub54c\\uba54 \\uc0ac\\uba39\\ub2e4 \\ud568\\ub7c9 \\uac00\\uc131 \\uc88b\\ub2e4 \\uc54c\\ub2e4 \\uc0c1\\uc138\", \"\\ubc30\\uc1a1 \\ube68\\ub974\\ub2e4 \\uc131\\ub2a5 \\uc131\\ub2a5 \\ub6f0\\uc5b4\\ub098\\ub2e4 \\uc720\\ud1b5 \\uae30\\ud55c \\uae30\\ud55c \\ub109\\ub109\\ud558\\ub2e4 \\ube0c\\ub9ac \\uac10\\ub9c8 \\uc88b\\ub2e4 11 \\ubc88\\uac00 \\uc800\\ub834\\ud558\\ub2e4 \\uc0ac\\ub2e4 \\ubc30\\uc1a1 \\ube60\\ub974\\ub2e4\", \"\\ubc30\\uc1a1 \\ube68\\ub974\\ub2e4 \\uc720\\ud1b5 \\uae30\\ud55c \\uc784\\uc2e0 \\uc900\\ube44 \\ub450\\ubc88\\uc9f8 \\uad6c\\ub9e4 \\ud568\\ub7c9 \\uc801\\ub2f9\\ud558\\ub2e4 \\uad1c\\ucc2e\\ub2e4 \\ubd80\\uc9c0\\ub7f0\\ud558\\ub2e4 \\uc0c1\\uc138\", \"\\ubc30\\uc1a1 \\uc131\\ub2a5 \\uc131\\ub2a5 \\ub6f0\\uc5b4\\ub098\\ub2e4 \\uc720\\ud1b5 \\uae30\\ud55c \\uae30\\ud55c \\ub109\\ub109\\ud558\\ub2e4 \\uac31\\ub144\\uae30 \\ud06c\\ub2e4 \\uae30\\ub300 \\uc88b\\ub2e4 \\uc5bc\\uad74 \\ud654\\ub048 \\uac70\\ub9bc \\ub450\\ub4dc\\ub7ec\\uae30 \\uc9c0\\ub974\\ub2e4 \\ud53c\\ubd80 \\ub2e4\\ub2c8\\ub2e4 \\ud574\\ubcf4\\ub2e4 \\uc2e0\\uacbd \\uc368\\ub2e4 \\ubcf4\\ub77c \\uc9c0\\uc720 \\uad1c\\ucc2e\\ub2e4 \\uc9c0\\ub2e4 \\uac83\\ub55c \\ubaa8\\ub974\\ub2e4 \\ub2e4\\ub974\\ub2e4 \\ubcf4\\ub77c \\uc9c0\\uc720 \\uac10\\uc0ac\\ud558\\ub2e4\", \"\\ubc30\\uc1a1 \\ube68\\ub974\\ub2e4 \\ub9db\\uc788\\ub2e4 \\uc720\\ud1b5 \\uae30\\ud55c \\uae30\\ud55c \\ub109\\ub109\\ud558\\ub2e4 \\uc0ac\\uc740 \\uce58\\uc57d \\uc8fc\\uc2dc \\ubc30\\uc1a1 \\ube60\\ub974\\ub2e4 \\ud30c\\ub2e4\", \"\\uc720\\ud1b5 \\uae30\\ud55c \\ud3ec\\uc7a5 \\uc0c1\\ud0dc \\uc601\\uc591 \\uc81c\\ub77c \\uac10\\uc0ac\\ud558\\ub2e4 \\uc0c1\\uc138\", \"\\ubc30\\uc1a1 \\ube68\\ub974\\ub2e4 \\uc131\\ub2a5 \\uc131\\ub2a5 \\ub6f0\\uc5b4\\ub098\\ub2e4 \\uc720\\ud1b5 \\uae30\\ud55c \\uae30\\ud55c \\ub109\\ub109\\ud558\\ub2e4 \\uc88b\\ub2e4 \\ub0a8\\uae30\\ub2e4 \\uc54c\\ub2e4 \\uae30\\ud68c \\ub2e4\\uc2dc \\uc0c1\\ud488 \\ub0a8\\ub2e4\", \"\\ubc30\\uc1a1 \\ube68\\ub974\\ub2e4 \\uc131\\ub2a5 \\uc131\\ub2a5 \\ub6f0\\uc5b4\\ub098\\ub2e4 \\uc720\\ud1b5 \\uae30\\ud55c \\uae30\\ud55c \\ub109\\ub109\\ud558\\ub2e4 \\ud56d\\uc0c1 \\uadf8\\ub807\\ub2e4 \\ubcd1\\uc6d0 \\uc758\\uc0ac \\uc624\\uba54\\uac00\", \"\\uc720\\ud1b5 \\uae30\\ud55c \\uae30\\ud55c \\ub109\\ub109\\ud558\\ub2e4 \\ud3ec\\uc7a5 \\uc0c1\\ud0dc \\ud3ec\\uc7a5 \\uae54\\ub054\\ud558\\ub2e4 \\uc88b\\ub2e4 \\uc911\\ud559\\uc0dd \\ube44\\uc5fc \\uc2ec\\ud574 \\uc2dd\\ud488 \\ubcd1\\ud589 \\uad6c\\ub9e4 \\uae30\\ub300 \\ud574\\ubcf4\\ub2e4\", \"\\ucd94\\ud558\\ub2e4 \\uc67c\\uc190 \\ud608\\uc561 \\uc21c\\ud658 \\uc88b\\ub2e4 \\ub9ac\\ubdf0 \\uc62c\\ub77c\\uc624\\ub2e4 \\uc8fc\\ubb38 \\ubcf4\\ub984 \\uc774\\uc9c0 \\uc548\\ub2e4 \\ucd94\\ucc9c \\uc81c\\ud488\", \"\\ubc30\\uc1a1 \\ube68\\ub974\\ub2e4 \\uc131\\ub2a5 \\uc131\\ub2a5 \\ub6f0\\uc5b4\\ub098\\ub2e4 \\uc720\\ud1b5 \\uae30\\ud55c \\uae30\\ud55c \\ub109\\ub109\\ud558\\ub2e4 \\uc0dd\\ub9ac \\ubed0\\uadfc\\ud558\\ub2e4 \\uc644\\ud654 \\uad6c\\uc785 \\uc120\\ubb3c \\uc8fc\\uc2e0 \\uce58\\uc57d \\uac10\\uc0ac\\ud558\\ub2e4\", \"\\uac00\\uaca9 \\uc2f8\\ub2e4 \\uc0ac\\ub2e4 \\ubc30\\uc1a1 \\ube68\\ub974\\ub2e4 \\uc2f8\\ub2e4 \\uad6c\\ub9e4 \\uc2b5\\ub2c8\", \"\\ubc30\\uc1a1 \\uc131\\ub2a5 \\uc720\\ud1b5 \\uae30\\ud55c \\uae30\\ud55c \\ub109\\ub109\\ud558\\ub2e4 \\ucc29\\ud558\\ub2e4 \\uac00\\uaca9 \\uc624\\uba54\\uac00 \\uc54c\\ud2f0 \\uc88b\\ub2e4\", \"\\ubc30\\uc1a1 \\ube68\\ub974\\ub2e4 \\uc131\\ub2a5 \\uc720\\ud1b5 \\uae30\\ud55c \\ubc30\\uc1a1 \\ube60\\ub974\\ub2e4 \\uc81c\\ud488 \\ub9cc\\uc871\\uc2a4\\ub7fd\\ub2e4\", \"\\ubc30\\uc1a1 \\uc131\\ub2a5 \\uc720\\ud1b5 \\uae30\\ud55c \\uc88b\\ub2e4\", \"\\uac00\\uaca9 \\uc2f8\\ub2e4 \\uc0ac\\ub2e4 \\ubc30\\uc1a1 \\ube68\\ub974\\ub2e4 \\ubcf4\\ub77c \\uc624\\uc77c \\uc88b\\ub2e4\", \"\\ubc30\\uc1a1 \\ube68\\ub974\\ub2e4 \\uc131\\ub2a5 \\uc131\\ub2a5 \\ub6f0\\uc5b4\\ub098\\ub2e4 \\uc720\\ud1b5 \\uae30\\ud55c \\uae30\\ud55c \\ub109\\ub109\\ud558\\ub2e4\", \"\\ubc30\\uc1a1 \\ube68\\ub974\\ub2e4 \\uc131\\ub2a5 \\uc131\\ub2a5 \\ub6f0\\uc5b4\\ub098\\ub2e4 \\uc720\\ud1b5 \\uae30\\ud55c \\uae30\\ud55c \\ub109\\ub109\\ud558\\ub2e4 \\uac74\\uac15 \\ub3c4\\uc6c0 \\uae30\\ub300\\ud558\\ub2e4\", \"\\uac00\\uaca9 \\uc2f8\\ub2e4 \\uc0ac\\ub2e4 \\ubc30\\uc1a1 \\ube68\\ub974\\ub2e4 \\uc88b\\ub2e4\", \"\\ubd88\\ud3b8\\ud558\\ub2e4\", \"\\ubc30\\uc1a1 \\ube68\\ub974\\ub2e4 \\uc131\\ub2a5 \\uc720\\ud1b5 \\uae30\\ud55c\", \"\\ubc30\\uc1a1 \\ube68\\ub974\\ub2e4 \\uc131\\ub2a5 \\uc131\\ub2a5 \\ub6f0\\uc5b4\\ub098\\ub2e4 \\uc720\\ud1b5 \\uae30\\ud55c \\uae30\\ud55c \\ub109\\ub109\\ud558\\ub2e4 \\uc88b\\ub2e4\", \"\\ubc30\\uc1a1 \\ube68\\ub974\\ub2e4 \\uc131\\ub2a5 \\uc720\\ud1b5 \\uae30\\ud55c \\uae30\\ud55c \\ub109\\ub109\\ud558\\ub2e4 \\uc774\\uc8fc \\uc9c0\\ub098\\ub2e4\", \"\\uc131\\ub2a5 \\uc131\\ub2a5 \\ub6f0\\uc5b4\\ub098\\ub2e4 \\uc720\\ud1b5 \\uae30\\ud55c \\uae30\\ud55c \\ub109\\ub109\\ud558\\ub2e4 \\uc720\\ud1b5 \\uae30\\ud55c \\ub109\\ub109\\ud558\\ub2e4 \\uc0bc\\ud0a4\\ub2e4 \\ubd80\\ub2f4 \\uc0ac\\uc774\\uc988 \\uc7a5\\uae30\\uac04 \\uc54c\\ub2e4 \\uc2e0\\uc785\\uc0ac\\uc6d0 \\ud3b8\\uc9c0 \\uc88b\\ub2e4 \\ubbf8\\ub9ac \\ub290\\ub07c\\ub2e4 \\uc0c1\\uc138\", \"\\ubc30\\uc1a1 \\ube68\\ub974\\ub2e4 \\uc131\\ub2a5 \\uc131\\ub2a5 \\ub6f0\\uc5b4\\ub098\\ub2e4 \\uc720\\ud1b5 \\uae30\\ud55c \\uae30\\ud55c \\ub109\\ub109\\ud558\\ub2e4 \\uafb8\\uc900\\ud558\\ub2e4 \\ubcf5\\uc6a9 \\ud574\\ubcf4\\ub2e4 \\uac00\\uaca9 \\uc800\\ub834\", \"\\ubc30\\uc1a1 \\ube68\\ub974\\ub2e4 \\uc131\\ub2a5 \\uc131\\ub2a5 \\ub6f0\\uc5b4\\ub098\\ub2e4 \\uc720\\ud1b5 \\uae30\\ud55c \\uae30\\ud55c \\ub109\\ub109\\ud558\\ub2e4 \\ubcf5\\uc6a9 \\uc9c0\\ub098\\ub2e4 \\uc88b\\uc544\\uc9c0\\ub2e4 \\uae30\\ubd84 \\uafb8\\uc900\\ud558\\ub2e4 \\ubcf5\\uc6a9\", \"\\uc720\\ud1b5 \\uae30\\ud55c \\uae30\\ud55c \\ub109\\ub109\\ud558\\ub2e4 \\ud3ec\\uc7a5 \\uc0c1\\ud0dc \\ud3ec\\uc7a5 \\uae54\\ub054\\ud558\\ub2e4 \\uc88b\\ub2e4 \\uafb8\\uc900\\ud558\\ub2e4 \\ubcf5\\uc6a9 \\ud608\\uc555 \\uc548\\uc815\", \"\\uc720\\ud1b5 \\uae30\\ud55c \\uae30\\ud55c \\ub109\\ub109\\ud558\\ub2e4 \\ud3ec\\uc7a5 \\uc0c1\\ud0dc \\ud3ec\\uc7a5 \\uae54\\ub054\\ud558\\ub2e4 \\uc9c0\\uc778 \\uba3c\\uc800 \\ucd94\\ucc9c \\uad6c\\ub9e4 \\uc2e0\\ub791 \\uc800\\ub141 \\ud3ec\\uc7a5 \\uae54\\ub054\\ud558\\ub2e4 \\ube60\\ub974\\ub2e4 \\ubc30\\uc1a1 \\uc88b\\ub2e4 \\uafb8\\uc900\\ud558\\ub2e4 \\uad6c\\ub9e4 \\uc0c1\\uc138\", \"\\ubc30\\uc1a1 \\ube68\\ub974\\ub2e4 \\uc131\\ub2a5 \\uc131\\ub2a5 \\ub6f0\\uc5b4\\ub098\\ub2e4 \\uc720\\ud1b5 \\uae30\\ud55c \\uae30\\ud55c \\ub109\\ub109\\ud558\\ub2e4 \\uad6c\\ub9e4 \\uac00\\ubfd0\\ud558\\ub2e4 \\ub118\\uce58\\ub2e4 \\uc801\\uadf9 \\uc7a5\\ud558\\ub2e4 \\uc88b\\ub2e4 \\ud608\\ud589 \\uac1c\\uc120 \\ud1a1\\ud1a1\\ud558\\ub2e4 \\uc0c1\\uc138 \\uc0c1\\uc138 \\uc0c1\\uc138 \\uc0c1\\uc138\", \"\\ubc30\\uc1a1 \\uc131\\ub2a5 \\uc720\\ud1b5 \\uae30\\ud55c \\ubcf4\\uc9c0 \\uc0c1\\ud488 \\ud3c9\\uc774 \\uc88b\\ub2e4 \\uad6c\\uc785 \\ubcf4\\uad6c \\uc560\\uae30 \\ud574\\ub4dc\\ub9ac\\ub2e4 \\ub2eb\\ub2e4 \\uc0c1\\uc138\", \"\\ubc30\\uc1a1 \\uc131\\ub2a5 \\uc131\\ub2a5 \\ub6f0\\uc5b4\\ub098\\ub2e4 \\uc720\\ud1b5 \\uae30\\ud55c\", \"\\ubc30\\uc1a1 \\ube68\\ub974\\ub2e4 \\uc131\\ub2a5 \\uc131\\ub2a5 \\ub6f0\\uc5b4\\ub098\\ub2e4 \\uc720\\ud1b5 \\uae30\\ud55c \\uae30\\ud55c \\ub109\\ub109\\ud558\\ub2e4 1\\ub144 \\ub118\\ub2e4 \\uace0\\ud608\\uc555 \\uba39\\uae30 \\ub450\\ud1b5 \\uc790\\uc8fc \\uc0ac\\ub77c\\uc9c0\\ub2e4 \\uafb8\\uc900\\ud558\\ub2e4 \\uad6c\\ub9e4\", \"\\uc131\\ub2a5 \\uc131\\ub2a5 \\ub6f0\\uc5b4\\ub098\\ub2e4 \\uc720\\ud1b5 \\uae30\\ud55c \\uae30\\ud55c \\ub109\\ub109\\ud558\\ub2e4\", \"\\ubc30\\uc1a1 \\ube68\\ub974\\ub2e4 \\uc131\\ub2a5 \\uc131\\ub2a5 \\ub6f0\\uc5b4\\ub098\\ub2e4 \\uc720\\ud1b5 \\uae30\\ud55c \\uae30\\ud55c \\ub109\\ub109\\ud558\\ub2e4 \\uc0c1\\uc138\", \"\\uc720\\ud1b5 \\uae30\\ud55c \\uae30\\ud55c \\ub109\\ub109\\ud558\\ub2e4 \\ud3ec\\uc7a5 \\uc0c1\\ud0dc \\ud3ec\\uc7a5 \\uae54\\ub054\\ud558\\ub2e4 \\uc88b\\ub2e4 \\uce5c\\uc815 70 \\ub300\\ub2e4 \\uac00\\uc871 \\uc624\\uba54\\uac00 \\ud06c\\ub2e4 \\ub77c\\uc11c \\uafc0\\uaebd \\uc0bc\\ud0a4\\ub2e4 1200 \\ube44\\ud0c0\\ubbfc 1000 \\uac00\\uc131 \\ub2f9\\ubd84\\uac04 \\uc0c1\\uc138 \\uc0c1\\uc138 \\uc0c1\\uc138\", \"\\ubc30\\uc1a1 \\uc131\\ub2a5 \\uc720\\ud1b5 \\uae30\\ud55c \\uae30\\ud55c \\ub109\\ub109\\ud558\\ub2e4 \\ud6a8\\ub2a5 \\uc544\\ub2c8\\ub2e4 \\ubbf8\\ube44\\ud558\\ub2e4 \\ubcf5\\uc6a9 \\uad6c\\ub9e4 \\uc0c1\\uc138\", \"\\ubc30\\uc1a1 \\ube68\\ub974\\ub2e4 \\uc131\\ub2a5 \\uc131\\ub2a5 \\ub6f0\\uc5b4\\ub098\\ub2e4 \\uc720\\ud1b5 \\uae30\\ud55c \\uae30\\ud55c \\ub109\\ub109\\ud558\\ub2e4 10\\uc77c \\ubcf5\\uc6a9 \\uafb8\\uc900\\ud558\\ub2e4 \\uc0dd\\uae30\\ub2e4 \\uc0c1\\uc138\", \"\\ucf5c\\ub808\\uc2a4\\ud14c\\ub864 \\uad00\\ub9ac \\uc0c1\\uc138\", \"\\ubc30\\uc1a1 \\ube68\\ub974\\ub2e4 \\uc131\\ub2a5 \\uc131\\ub2a5 \\ub6f0\\uc5b4\\ub098\\ub2e4 \\uc720\\ud1b5 \\uae30\\ud55c \\uae30\\ud55c \\ub109\\ub109\\ud558\\ub2e4 \\uc88b\\ub2e4 \\uba39\\uace0\\ub2e4 \\ubaa8\\ub974\\ub2e4\", \"\\uc720\\ud1b5 \\uae30\\ud55c \\uae30\\ud55c \\ub109\\ub109\\ud558\\ub2e4 \\ud3ec\\uc7a5 \\uc0c1\\ud0dc \\ud3ec\\uc7a5 \\uae54\\ub054\\ud558\\ub2e4 \\uc88b\\ub2e4 \\uad6c\\uc785 \\uac74\\uac15\\ud558\\ub2e4 \\ubc14\\ub77c\\ub2e4 \\uc911\\uc774 \\uc88b\\ub2e4 \\uc0c1\\uc138\", \"\\ubc30\\uc1a1 \\ube68\\ub974\\ub2e4 \\uc131\\ub2a5 \\uc131\\ub2a5 \\ub6f0\\uc5b4\\ub098\\ub2e4 \\uc720\\ud1b5 \\uae30\\ud55c \\uae30\\ud55c \\ub109\\ub109\\ud558\\ub2e4 \\uc88b\\ub2e4 \\uc9c0\\uc778 \\ucd94\\ucc9c\", \"\\uad6c\\uc785 \\uc81c\\ud488 \\uc0c1\\uc138\", \"\\uac00\\uaca9 \\uc2f8\\ub2e4 \\uc0ac\\ub2e4 \\ubc30\\uc1a1 \\ube68\\ub974\\ub2e4 \\uc88b\\ub2e4 \\ubbff\\ub2e4 \\uc790\\uc8fc\", \"\\ubc30\\uc1a1 \\ube68\\ub974\\ub2e4 \\uc131\\ub2a5 \\uc131\\ub2a5 \\ub6f0\\uc5b4\\ub098\\ub2e4 \\uc720\\ud1b5 \\uae30\\ud55c \\uae30\\ud55c \\ub109\\ub109\\ud558\\ub2e4 \\ubc30\\uc1a1 \\ub4dc\\ub9ac\\ub2e4 \\uc0ac\\ub2e4 \\uc88b\\ub2e4 \\ubd09\\ud22c \\uc8fc\\uc2dc \\uc12c\\uc138\\ud558\\ub2e4 \\uc0c1\\uc138\", \"\\uc88b\\ub2e4 \\ubbff\\ub2e4 \\uc0c1\\uc138\", \"\\ubc30\\uc1a1 \\ube68\\ub974\\ub2e4 \\ubcf5\\uc6a9 \\ubaa8\\ub974\\ub2e4 \\uac31\\ub144\\uae30 \\uc99d\\uc0c1 \\uc2dd\\ubb3c\\uc131 \\ucea1\\uc290 \\ubbff\\ub2e4 \\ubcf5\\uc6a9 \\ud574\\ubcf4\\ub2e4 \\uc0c1\\uc138\", \"\\ubc30\\uc1a1 \\ube68\\ub974\\ub2e4 \\uc131\\ub2a5 \\uc720\\ud1b5 \\uae30\\ud55c \\uae30\\ud55c \\ub109\\ub109\\ud558\\ub2e4 \\uc131\\ub2a5 \\ubaa8\\ub974\\ub2e4\", \"\\ubc30\\uc1a1 \\ube68\\ub974\\ub2e4 \\uc131\\ub2a5 \\uc131\\ub2a5 \\ub6f0\\uc5b4\\ub098\\ub2e4 \\uc720\\ud1b5 \\uae30\\ud55c \\uae30\\ud55c \\ub109\\ub109\\ud558\\ub2e4 \\ucf00\\uc774\\uc2a4 \\ubcf4\\ub0b4\\ub2e4 \\ub2ec\\ub77c \\ud655\\uc778 \\ubcf4\\ub0b4\\ub2e4 \\ubc30\\uc1a1 \\ucd1d\\uc54c \\ubc30\\uc1a1 \\uc54c\\uc57d \\ud06c\\uae30 \\uc791\\ub2e4 \\uc544\\ub2c8\\ub2e4 \\uac00\\ub85c \\uae38\\uc774 2.5 \\uc774\\uad6c \\ub9d0\\ub791\\ub9d0\\ub791\\ud558\\ub2e4 \\uc2ec\\ud574\\uc9c0\\ub2e4 \\ub9ac\\ubdf0 \\uc77d\\ub2e4 \\ucc3e\\uc544\\ubcf4\\ub2e4 \\uad6c\\ub9e4 \\ud638\\uc8fc \\uc601\\uc591 \\uc81c\\ub85c \\uc57d\\ud558\\ub2e4 \\uc6d0\\ub8cc \\uc131\\ubd84 \\ub2ec\\ub9de\\uc774\\uaf43 \\uc790\\uc720 \\ubcf4\\ub77c \\uac15\\ud558\\ub2e4 \\uc591\\uc81c \\uce90\\ub098\\ub2e4 \\uc0b0\\uc774 \\ubbff\\uc74c\\uc9c1\\ud558\\ub2e4 \\uc88b\\ub2e4 \\uac00\\uaca9 \\uc2f8\\ub2e4 \\uc808\\ubc18 \\uac00\\uaca9 \\uc0ac\\uc11c \\ubbf8\\ubbf8\\ud558\\ub2e4 \\uc88b\\ub2e4 \\uadf8\\ub807\\ub2e4 \\ubcf5\\uc6a9 \\ud574\\ubcf4\\ub2e4 \\ub2eb\\ub2e4 \\uc0c1\\uc138 \\uc0c1\\uc138\", \"\\ubc30\\uc1a1 \\ube68\\ub974\\ub2e4 \\uc131\\ub2a5 \\uc131\\ub2a5 \\ub6f0\\uc5b4\\ub098\\ub2e4 \\uc720\\ud1b5 \\uae30\\ud55c \\uae30\\ud55c \\ub109\\ub109\\ud558\\ub2e4 \\uc0dd\\ub9ac\\ud1b5 \\uc9c4\\ud1b5\\uc81c \\uc0dd\\ub9ac \\uae30\\uac04 \\uae30\\ubcf8 3\\uc77c \\ubcf4\\ub77c \\uc624\\uc77c \\ucea1\\uc290 \\ubcf5\\uc6a9 \\uc9c4\\ud1b5\\uc81c \\ud1b5\\uc99d \\uc0dd\\ub9ac \\uae30\\uac04 \\uc9c4\\ud1b5\\uc81c \\ud1b5\\uc99d \\uc9c0\\ub2e4 \\uc9c0\\uc18d \\ubcf5\\uc6a9 \\uc704\\ud574 \\uc7ac\\ub2e4 \\uc0dd\\ub9ac \\uc99d\\ud6c4\\uad70 \\uad6c\\ub9e4 \\ubaa8\\ub974\\ub2e4 \\uc0c1\\uc138 \\uc0c1\\uc138\", \"\\ubc30\\uc1a1 \\ube68\\ub974\\ub2e4 \\uc131\\ub2a5 \\uc131\\ub2a5 \\ub6f0\\uc5b4\\ub098\\ub2e4 \\uc720\\ud1b5 \\uae30\\ud55c \\uae30\\ud55c \\ub109\\ub109\\ud558\\ub2e4 \\uc81c\\ud488 \\uac31\\ub144\\uae30 \\uc99d\\uc138 \\uc88b\\uc544\\uc9c0\\ub2e4\", \"\\ubc30\\uc1a1 \\ube68\\ub974\\ub2e4 \\uc131\\ub2a5 \\uc720\\ud1b5 \\uae30\\ud55c \\uae30\\ud55c \\ub109\\ub109\\ud558\\ub2e4\", \"\\ubc30\\uc1a1 \\ube68\\ub974\\ub2e4 \\uc131\\ub2a5 \\uc131\\ub2a5 \\ub6f0\\uc5b4\\ub098\\ub2e4 \\uc720\\ud1b5 \\uae30\\ud55c\", \"\\uac00\\uaca9 \\uad1c\\ucc2e\\ub2e4 \\ubc30\\uc1a1 \\ube68\\ub974\\ub2e4\", \"\\ubc30\\uc1a1 \\ube68\\ub974\\ub2e4 \\uc131\\ub2a5 \\uc131\\ub2a5 \\ub6f0\\uc5b4\\ub098\\ub2e4 \\uc720\\ud1b5 \\uae30\\ud55c \\uae30\\ud55c \\ub109\\ub109\\ud558\\ub2e4\", \"\\uac00\\uaca9 \\uc2f8\\ub2e4 \\uc0ac\\ub2e4 \\ubc30\\uc1a1 \\ube68\\ub974\\ub2e4\", \"\\uc720\\ud1b5 \\uae30\\ud55c \\uae30\\ud55c \\ub109\\ub109\\ud558\\ub2e4 \\ud3ec\\uc7a5 \\uc0c1\\ud0dc \\ud3ec\\uc7a5 \\uae54\\ub054\\ud558\\ub2e4 \\uc88b\\ub2e4\", \"\\ubaa8\\ub974\\ub2e4 \\uafb8\\uc900\\ud558\\ub2e4\", \"\\ubc30\\uc1a1 \\uc131\\ub2a5 \\uc720\\ud1b5 \\uae30\\ud55c\", \"\\ubc30\\uc1a1\", \"\\uc720\\ud1b5 \\uae30\\ud55c \\ud3ec\\uc7a5 \\uc0c1\\ud0dc \\ud3ec\\uc7a5 \\uae54\\ub054\\ud558\\ub2e4 \\uc88b\\ub2e4 \\ub808\\uc2a4 \\ud2b8\\ub864 \\uc218\\uce58 \\ub192\\ub2e4 \\uc8fc\\ubb38 \\uc88b\\ub2e4 \\uc0c1\\ud488 \\uc88b\\ub2e4 \\ubbff\\ub2e4\", \"\\ubc30\\uc1a1 \\ube68\\ub974\\ub2e4 \\ub9db\\uc788\\ub2e4 \\uc720\\ud1b5 \\uae30\\ud55c \\uae30\\ud55c \\ub109\\ub109\\ud558\\ub2e4 \\uc88b\\ub2e4\", \"\\ube60\\ub974\\ub2e4 \\ubc30\\uc1a1 \\uac10\\uc0ac\\ud558\\ub2e4\", \"\\ubbff\\ub2e4 \\uc0c1\\uc138\", \"\\ub298\\ub2e4 \\ub354\\ub514\\ub2e4 \\ubc09\\ub2e4 \\uc11c\\ub2e4 \\ub298\\ub2e4 \\ub354\\ub514\\ub2e4 \\ubc09\\ub2e4 \\uc11c\\ub2e4 \\ub298\\ub2e4 \\ub354\\ub514\\ub2e4 \\ubc09\\ub2e4 \\uc11c\\ub2e4\", \"\\ubc30\\uc1a1 \\ube68\\ub974\\ub2e4 \\uc720\\ud1b5 \\uae30\\ud55c\", \"\\ubc30\\uc1a1 \\ub290\\ub9ac\\ub2e4 \\uc131\\ub2a5 \\uc720\\ud1b5 \\uae30\\ud55c \\uae30\\ud55c \\ub109\\ub109\\ud558\\ub2e4\", \"\\ubc30\\uc1a1 \\ube68\\ub974\\ub2e4 \\uc131\\ub2a5 \\uc131\\ub2a5 \\ub6f0\\uc5b4\\ub098\\ub2e4 \\uc720\\ud1b5 \\uae30\\ud55c \\uae30\\ud55c \\ub109\\ub109\\ud558\\ub2e4 \\uc0c1\\uc138\", \"\\ubc30\\uc1a1 \\ube68\\ub974\\ub2e4 \\uc720\\ud1b5 \\uae30\\ud55c \\uae30\\ud55c \\ub109\\ub109\\ud558\\ub2e4 \\uc88b\\ub2e4\", \"\\uac00\\uaca9 \\uc2f8\\ub2e4 \\uc0ac\\ub2e4 \\ubc30\\uc1a1 \\ube68\\ub974\\ub2e4 \\uc120\\ubb3c \\ub4dc\\ub9ac\\ub2e4 \\ub2ec\\ub9de\\uc774 \\uc88b\\ub2e4 \\ub2e4\\ud574 \\uc8fc\\ubb38 \\uc74d\\ub2c8\", \"\\ud6c4\\uae30 \\uc88b\\ub2e4 \\uad6c\\ub9e4 \\uc88b\\ub2e4 \\uc0c1\\uc138\", \"\\ubc30\\uc1a1 \\ube68\\ub974\\ub2e4 \\uc720\\ud1b5 \\uae30\\ud55c \\uae30\\ud55c \\ub109\\ub109\\ud558\\ub2e4 \\uc0c1\\ud488 \\ud3c9\\uc774 \\ub2a6\\ub2e4 \\uc7ac\\ub2e4 \\uac31\\ub144 \\uac00\\uac00 \\uc2ec\\ud558\\ub2e4 \\uc678\\ucd9c \\uc5b4\\ub9ac\\ub2e4 \\ub9ce\\ub2e4 \\ubcf4\\ub77c \\uc624\\uc77c \\uc88b\\uc544\\uc9c0\\ub2e4 \\uc7ac\\ub2e4 \\uc0c1\\uc138\", \"\\ubbff\\ub2e4 \\uafb8\\uc900\\ud558\\ub2e4 \\uc0c1\\uc138\", \"\\ubc30\\uc1a1 \\ube68\\ub974\\ub2e4 \\uc131\\ub2a5 \\uc131\\ub2a5 \\ub6f0\\uc5b4\\ub098\\ub2e4 \\uc720\\ud1b5 \\uae30\\ud55c \\uae30\\ud55c \\ub109\\ub109\\ud558\\ub2e4 \\uc0dd\\ub9ac \\uc99d\\ud6c4\\uad70 \\ub3c4\\uc6c0 \\ub300\\uc11c \\ub3c4\\uc6c0\", \"\\ucea1\\uc290 \\ubd84\\ub9d0 \\uacfc\\ub9bd \\uc88b\\ub2e4 \\uc8fc\\ubb38 \\uc7ac\\ub2e4 \\ud1b5\\uc548 \\uc2a4\\ud47c \\uc544\\uc27d\\ub2e4 \\uad1c\\ucc2e\\ub2e4 \\uc0c1\\uc138\", \"\\uc81c\\ud488\", \"\\ubc30\\uc1a1 \\ube68\\ub974\\ub2e4 \\uc720\\ud1b5 \\uae30\\ud55c \\uae30\\ud55c \\ub109\\ub109\\ud558\\ub2e4 \\uc88b\\ub2e4 \\uc8fc\\ubb38 \\ubc30\\uc1a1 \\ube68\\ub974\\ub2e4\", \"\\ud574\\ubcf4\\ub2e4 \\uc591\\uc81c \\uae30\\ub300\", \"\\ubc30\\uc1a1 \\ube68\\ub974\\ub2e4 \\uc0c1\\ud488 \\ub9ac\\ubdf0\", \"\\ubc30\\uc1a1 \\ube68\\ub974\\ub2e4 \\uc131\\ub2a5 \\uc131\\ub2a5 \\ub6f0\\uc5b4\\ub098\\ub2e4 \\uc720\\ud1b5 \\uae30\\ud55c \\uae30\\ud55c \\ub109\\ub109\\ud558\\ub2e4 \\uc88b\\ub2e4 \\uc88b\\ub2e4 \\uc0c1\\uc138\", \"\\ubc30\\uc1a1 \\ube68\\ub974\\ub2e4 \\uc131\\ub2a5 \\uc131\\ub2a5 \\ub6f0\\uc5b4\\ub098\\ub2e4 \\uc720\\ud1b5 \\uae30\\ud55c \\uae30\\ud55c \\ub109\\ub109\\ud558\\ub2e4 \\ubc30\\uc1a1 \\ucc29\\ud558\\ub2e4\", \"\\ube60\\ub974\\ub2e4 \\ubc30\\uc1a1 \\uac10\\uc0ac\\ud558\\ub2e4 \\ube60\\ub974\\ub2e4 \\ubc30\\uc1a1 \\uac10\\uc0ac\\ud558\\ub2e4 \\uc0c1\\uc138\", \"\\ubc30\\uc1a1 \\ube68\\ub974\\ub2e4 \\uc720\\ud1b5 \\uae30\\ud55c \\ucea1\\uc290 \\uba39\\uae30 \\uad1c\\ucc2e\\ub2e4\", \"\\ubc30\\uc1a1 \\ube68\\ub974\\ub2e4 \\uc131\\ub2a5 \\uc131\\ub2a5 \\ub6f0\\uc5b4\\ub098\\ub2e4 \\uc720\\ud1b5 \\uae30\\ud55c \\uae30\\ud55c \\ub109\\ub109\\ud558\\ub2e4 \\ud608\\uc555 \\uc7a1\\ud788\\ub2e4\", \"\\ubc30\\uc1a1 \\ube68\\ub974\\ub2e4 \\uc131\\ub2a5 \\uc131\\ub2a5 \\ub6f0\\uc5b4\\ub098\\ub2e4 \\uc720\\ud1b5 \\uae30\\ud55c \\uae30\\ud55c \\ub109\\ub109\\ud558\\ub2e4 \\uc548\\uc804\\ud558\\ub2e4 \\ubc30\\uc1a1 \\uac10\\uc0ac\\ud558\\ub2e4 \\ud56d\\uc0c1\", \"\\ubc30\\uc1a1 \\ube68\\ub974\\ub2e4 \\uc131\\ub2a5 \\uc131\\ub2a5 \\ub6f0\\uc5b4\\ub098\\ub2e4 \\uc720\\ud1b5 \\uae30\\ud55c \\uae30\\ud55c \\ub109\\ub109\\ud558\\ub2e4 \\uba87\\ubc88 \\uad1c\\ucc2e\\ub2e4 \\uad6c\\uc785 \\uc7ac\\ub2e4 \\ube60\\ub974\\ub2e4 \\ubc30\\uc1a1 \\uac10\\uc0ac\\ud558\\ub2e4\", \"\\uac00\\uaca9 \\uad1c\\ucc2e\\ub2e4 \\ubc30\\uc1a1 \\ud608\\uc561 \\uc21c\\ud658 \\uc88b\\ub2e4 \\uc0ac\\ubcf4\\ub2e4\", \"\\ubc30\\uc1a1 \\ube68\\ub974\\ub2e4 \\uc131\\ub2a5 \\uc131\\ub2a5 \\ub6f0\\uc5b4\\ub098\\ub2e4 \\uc720\\ud1b5 \\uae30\\ud55c \\uae30\\ud55c \\ub109\\ub109\\ud558\\ub2e4\", \"\\ubc30\\uc1a1 \\ube68\\ub974\\ub2e4 \\uc131\\ub2a5 \\uc131\\ub2a5 \\ub6f0\\uc5b4\\ub098\\ub2e4 \\uc720\\ud1b5 \\uae30\\ud55c \\uae30\\ud55c \\ub109\\ub109\\ud558\\ub2e4 \\uc88b\\ub2e4\", \"\\uc720\\ud1b5 \\uae30\\ud55c \\uae30\\ud55c \\ub109\\ub109\\ud558\\ub2e4 \\ud3ec\\uc7a5 \\uc0c1\\ud0dc \\ud3ec\\uc7a5 \\uae54\\ub054\\ud558\\ub2e4 \\uc88b\\ub2e4\", \"\\ubc30\\uc1a1 \\ube68\\ub974\\ub2e4 \\uc720\\ud1b5 \\uae30\\ud55c \\uae30\\ud55c \\ub109\\ub109\\ud558\\ub2e4\", \"\\uac00\\uaca9 \\uad1c\\ucc2e\\ub2e4 \\ubc30\\uc1a1 \\ube68\\ub974\\ub2e4\", \"\\uc720\\ud1b5 \\uae30\\ud55c \\uae30\\ud55c \\ub109\\ub109\\ud558\\ub2e4 \\ud3ec\\uc7a5 \\uc0c1\\ud0dc \\ud3ec\\uc7a5 \\uae54\\ub054\\ud558\\ub2e4\", \"\\uac00\\uaca9 \\uc2f8\\ub2e4 \\uc0ac\\ub2e4 \\ubc30\\uc1a1 \\ube68\\ub974\\ub2e4 \\uc88b\\ub2e4\", \"\\uc88b\\ub2e4\", \"\\ubc30\\uc1a1 \\uc131\\ub2a5 \\uc131\\ub2a5 \\ub6f0\\uc5b4\\ub098\\ub2e4 \\uc720\\ud1b5 \\uae30\\ud55c \\uae30\\ud55c \\ub109\\ub109\\ud558\\ub2e4 \\ud608\\uad00 \\uac74\\uac15 \\uc88b\\ub2e4 \\uad6c\\uc785 \\uc88b\\ub2e4 \\uacb0\\uacfc \\uc0c1\\uc138 \\uc0c1\\uc138\", \"\\ubc30\\uc1a1 \\ube68\\ub974\\ub2e4 \\uc131\\ub2a5 \\uc131\\ub2a5 \\ub6f0\\uc5b4\\ub098\\ub2e4 \\uc720\\ud1b5 \\uae30\\ud55c \\uae30\\ud55c \\ub109\\ub109\\ud558\\ub2e4 \\uc911\\uc131 \\uc9c0\\uc9c8 \\ucf5c\\ub808\\uc2a4\\ud14c\\ub864 \\ub192\\ub2e4 \\uc2ec\\ud558\\ub2e4 \\uac74\\uac15\\uac80\\uc9c4 \\uc8fc\\uc758 \\ud558\\ub798 \\uac31\\ub144\\uae30 \\uc624\\ub2c8 \\ud608\\uad00 \\uc9c8\\ud658 \\uc0dd\\uae30 \\ud608\\uc555 \\uc815\\uc0c1 \\uac80\\uc9c4 \\uacbd\\uacc4 \\ud608\\uc555 \\uae5c\\ub180 \\ub808\\uc2a4 \\ud2b8\\ub864 \\uc218\\uce58 \\ub192\\ub2e4 \\ub180\\ub798\\ub2e4 \\uc0ac\\uc774 \\uac31\\ub144\\uae30 \\uc811\\ub2e4 \\ub298\\ub2e4 \\ub3c4\\ud574 \\uc758\\uc0ac \\uac31\\ub144\\uae30 \\uadf8\\ub807\\ub2e4 \\ud608\\uad00 \\uc9c8\\ud658 \\ubc1c\\uc0dd \\uc6b4\\ub3d9 \\ud558\\ub77c \\uc6b4\\ub3d9 \\uc548\\ud574 \\uc815\\uc0c1 \\uc815\\ub9d0 \\ub180\\ub798\\ub2e4 \\uc6b4\\ub3d9 \\uac74\\uac15 \\ubcf4\\uc870 \\uc2dd\\ud488 \\ub178\\ub9ac\\ub2e4 \\ub098\\uc774 \\uc11c\\ub7fd\\ub2e4 \\uc624\\uc2ed \\ubaa8\\ub85c \\ud798\\ub4dc\\ub2e4 \\uc0c1\\uc138\", \"\\ubc30\\uc1a1 \\ube68\\ub974\\ub2e4 \\uc131\\ub2a5 \\uc131\\ub2a5 \\ub6f0\\uc5b4\\ub098\\ub2e4 \\uc720\\ud1b5 \\uae30\\ud55c \\uae30\\ud55c \\ub109\\ub109\\ud558\\ub2e4 \\ubd80\\ubaa8\\ub2d8 \\uc190\\ubc1c \\uc800\\ub9ac\\ub2e4 \\uad6c\\ub9e4 \\ube44\\uc2f8\\ub2e4 \\uc0b4\\ub2e4 \\uc2f8\\ub2e4 \\uc0ac\\ub2e4 \\uc0ac\\ub974\\ub2e4\", \"\\ubc30\\uc1a1 \\ube68\\ub974\\ub2e4 \\uc131\\ub2a5 \\uc131\\ub2a5 \\ub6f0\\uc5b4\\ub098\\ub2e4 \\uc720\\ud1b5 \\uae30\\ud55c \\uae30\\ud55c \\ub109\\ub109\\ud558\\ub2e4 60 \\ub300\\uc785 \\ud56d\\uc0c1 \\uc800\\ub9ac \\uc950\\ub2e4 \\uac83\\ud608\\ud589 \\uc88b\\ub2e4 \\uc774\\ub780 \\ud574\\ub3c4 \\ucc28\\ub3c4 \\uc9c0\\uc778 \\uc18c\\uac1c \\uc368\\ub2e4 \\uc2dc\\uc548 \\uad6c\\ub9e4 \\uc800\\ub9ac \\uc950\\ub2e4 \\ub9ac\\uac00 \\uc88b\\ub2e4 \\uc800\\uc11c 2\\ub144 \\ud608\\uc555 \\uc88b\\uc544\\uc9c0\\ub2e4 \\ub808\\uc2a4\\ud130 \\uce58\\uc218 \\uc88b\\ub2e4 \\uc800\\uc2b5 \\uc9c8\\ud658 \\uad8c\\ud558\\ub2e4 \\uad8c\\ud587 \\ub354\\ub2c8 \\uc88b\\ub2e4 \\uc0ac\\uc8fc\\ub2e4 \\ud655\\uc2e4\\ud558\\ub2e4 \\uc77c\\ubc18\\uc778 \\uacbd\\ud5d8 \\ud6c4\\uae30 \\uac00\\uaca9 \\ub9cc\\ucc2c \\uac8c\\uc880 \\ud5c8\\ub2e4 \\ub2eb\\ub2e4 \\uc0c1\\uc138\", \"\\ubc30\\uc1a1 \\ube68\\ub974\\ub2e4 \\uc131\\ub2a5 \\uc131\\ub2a5 \\ub6f0\\uc5b4\\ub098\\ub2e4 \\uc720\\ud1b5 \\uae30\\ud55c \\uae30\\ud55c \\ub109\\ub109\\ud558\\ub2e4 60 \\uace0\\ud608\\uc555 \\ub0a8\\ud3b8 \\uafb8\\uc900\\ud558\\ub2e4 \\uc88b\\ub2e4 \\uac00\\uaca9 \\uad6c\\ub9e4 \\ubd80\\ub2f4 \\uc904\\uc5b4\\ub4e4\\ub2e4 \\uc88b\\ub2e4 \\ud655\\uc2e4\\ud558\\ub2e4 \\ud608\\ud589 \\uac1c\\uc120 \\ub3c4\\uc6c0 \\uc720\\ud1b5 \\uae30\\ud55c 24\\ub144 3\\uc6d4 20\\uc77c \\ub109\\ub109\\ud558\\ub2e4 \\uc81c\\ud488 \\ube60\\ub974\\ub2e4 \\ubcf4\\ub0b4\\ub2e4 \\uac10\\uc0ac\\ud558\\ub2e4 \\uc0c1\\uc138 \\uc0c1\\uc138 \\uc0c1\\uc138\", \"\\uc720\\ud1b5 \\uae30\\ud55c \\ud3ec\\uc7a5 \\uc0c1\\ud0dc \\ud3ec\\uc7a5 \\uae54\\ub054\\ud558\\ub2e4 \\uc9c0\\ud608 \\ud608\\uc555 \\ub192\\ub2e4 \\ub3c4\\uc6c0 \\uad6c\\uc785 \\ubcf5\\uc6a9 \\ud638\\uacfc \\uad6c\\uc785 \\uba8c\\uc815 \\uc0c1\\uc138\", \"\\ubc30\\uc1a1 \\ube68\\ub974\\ub2e4 \\uc131\\ub2a5 \\uc131\\ub2a5 \\ub6f0\\uc5b4\\ub098\\ub2e4 \\uc720\\ud1b5 \\uae30\\ud55c \\uae30\\ud55c \\ub109\\ub109\\ud558\\ub2e4 \\uc544\\ub4e4 \\uc190\\ubc1c \\ucc28\\uac11\\ub2e4 \\ub2e4\\ud574 \\uc368\\ub2e4 \\uc548\\uc774 \\uc88b\\uc544\\ud558\\ub2e4 \\uc0bf\\uc5b4 \\uc88b\\ub2e4 \\uc88b\\ub2e4 \\uc0c1\\uc138\", \"\\ubc30\\uc1a1 \\ube68\\ub974\\ub2e4 \\uc131\\ub2a5 \\uc131\\ub2a5 \\ub6f0\\uc5b4\\ub098\\ub2e4 \\uc720\\ud1b5 \\uae30\\ud55c \\uae30\\ud55c \\ub109\\ub109\\ud558\\ub2e4 \\ud608\\uc561 \\uac80\\uc0ac \\ub2e8\\uacc4 \\uc544\\ub2c8\\ub2e4 \\uad00\\ub9ac \\uac80\\uc0c9 \\uc8fc\\ubb38 \\ud06c\\uae30 \\ucee4\\uc11c \\uba38\\uae30 \\ubd88\\ud3b8\\ud558\\ub2e4 \\uafb8\\uc900\\ud558\\ub2e4 \\ub2e4\\uc2dc \\ud608\\uac80 \\ucf5c\\ub808\\uc2a4\\ud14c\\ub864 \\uc218\\uce58 \\uc218\\uce58 30 \\ub5a8\\uc5b4\\uc9c0\\ub2e4 \\uc7ac\\ub2e4 \\uc0c1\\uc138\", \"\\ubc30\\uc1a1 \\ube68\\ub974\\ub2e4 \\uc131\\ub2a5 \\uc131\\ub2a5 \\ub6f0\\uc5b4\\ub098\\ub2e4 \\uc720\\ud1b5 \\uae30\\ud55c \\uae30\\ud55c \\ub109\\ub109\\ud558\\ub2e4 \\uad6c\\uc785 \\uc81c\\ud488 \\uac31\\ub144\\uae30 \\ub3c4\\uc6c0 \\uc0c1\\uc138\", \"\\uc778\\uc9c0\\uc9c8 \\ud48d\\ubd80\\ud558\\ub2e4 \\uc218\\uc6d4\\ud558\\ub2e4 \\uc0c1\\uc138\", \"\\ubc30\\uc1a1 \\ube68\\ub974\\ub2e4 \\uc131\\ub2a5 \\uc131\\ub2a5 \\ub6f0\\uc5b4\\ub098\\ub2e4 \\uc720\\ud1b5 \\uae30\\ud55c \\uae30\\ud55c \\ub109\\ub109\\ud558\\ub2e4 \\ub2e4\\uc2dc \\ubc30\\uc1a1\", \"\\ubc30\\uc1a1 \\ube68\\ub974\\ub2e4 \\uc131\\ub2a5 \\uc131\\ub2a5 \\ub6f0\\uc5b4\\ub098\\ub2e4 \\uc720\\ud1b5 \\uae30\\ud55c \\uae30\\ud55c \\ub109\\ub109\\ud558\\ub2e4 \\uba39\\uae30 \\ud3b8\\ud558\\ub2e4 \\uc548\\uad6c \\uac74\\uc870 \\uac1c\\uc120 \\uc704\\ud574 \\uc7a5\\uae30 \\ubcf5\\uc6a9\", \"\\ub450\\ub1cc \\uac74\\uac15 \\uc704\\ud574 \\uba39\\uae30 \\uc2dc\\uc791 \\uc591\\uc81c \\uc81c\\ud488 \\ub3d9\\uc0dd \\ucd94\\ucc9c \\uad6c\\ub9e4 \\ub3d9\\uc0dd \\uc9d1\\uc911 \\ud655\\uc2e4\\ud558\\ub2e4 \\ub192\\uc544\\uc9c0\\ub2e4 \\ub450\\ub1cc \\uc591\\uc81c \\ucc28\\uc774\\uc810 \\ub290\\uaef4\\uc9c0\\ub2e4 \\uafb8\\uc900\\ud558\\ub2e4 \\ub450\\ub1cc \\uc591\\uc81c \\uaca0\\ub2e4 \\uad6c\\ub9e4 \\uc81c\\ud488 \\ub300\\uc911 \\ub450\\ubd80 \\uac70\\ubd80 \\uba39\\uae30 \\ud3b8\\ud558\\ub2e4 \\uc0c1\\uc138\", \"\\ubc30\\uc1a1 \\ube68\\ub974\\ub2e4 \\uc131\\ub2a5 \\uc131\\ub2a5 \\ub6f0\\uc5b4\\ub098\\ub2e4 \\uc720\\ud1b5 \\uae30\\ud55c \\uae30\\ud55c \\ub109\\ub109\\ud558\\ub2e4 \\uac31\\ub144\\uae30 \\ub4e4\\uc5b4\\uc624\\ub2e4 \\uc2dd\\uc740\\ub540 \\ubcc0\\ud654 \\uc591\\uc81c \\uc88b\\uc544\\uc9c0\\ub2e4 \\uc0c1\\uc138\", \"\\ubc30\\uc1a1 \\ube68\\ub974\\ub2e4 \\uc131\\ub2a5 \\uc131\\ub2a5 \\ub6f0\\uc5b4\\ub098\\ub2e4 \\uc720\\ud1b5 \\uae30\\ud55c \\uae30\\ud55c \\ub109\\ub109\\ud558\\ub2e4 \\uc624\\uba54\\uac00 \\ud604\\ub300\\uc778 \\uc544\\ub2c8\\ub2e4 \\ub2f9\\ub1e8 \\uc9c8\\ud658 \\ub2f9\\ub1e8 \\ubcf5\\uc6a9 \\uc544\\ub2c8\\ub2e4 \\ubcf5\\uc6a9 \\ud544\\uc218 \\uc6b4\\ub3d9 \\uc0c1\\uc138\", \"\\uad6d\\ub0b4 \\ubc30\\uc1a1 \\ube60\\ub974\\ub2e4 \\uc0c1\\ud488 \\ub9cc\\uc871\", \"\\ubc30\\uc1a1 \\ube68\\ub974\\ub2e4 \\uc131\\ub2a5 \\uc131\\ub2a5 \\ub6f0\\uc5b4\\ub098\\ub2e4 \\uc720\\ud1b5 \\uae30\\ud55c \\uae30\\ud55c \\ub109\\ub109\\ud558\\ub2e4 \\ubbff\\ub2e4 \\uc624\\uba54\\uac00 \\uc8fc\\ubb38 \\uc0c1\\uc138\", \"\\uac00\\uaca9 \\uad1c\\ucc2e\\ub2e4 \\ubc30\\uc1a1 \\uc88b\\ub2e4 \\uc7ac\\ub2e4\", \"\\ubc30\\uc1a1 \\ube68\\ub974\\ub2e4 \\uc720\\ud1b5 \\uae30\\ud55c \\uae30\\ud55c \\ub109\\ub109\\ud558\\ub2e4 \\uc88b\\ub2e4 \\uafb8\\uc900\\ud558\\ub2e4 \\uc544\\ud1a0\\ud53c \\ud53c\\ubd80\", \"\\ubc30\\uc1a1 \\ube68\\ub974\\ub2e4 \\uc131\\ub2a5 \\uc131\\ub2a5 \\ub6f0\\uc5b4\\ub098\\ub2e4 \\uc720\\ud1b5 \\uae30\\ud55c \\uae30\\ud55c \\ub109\\ub109\\ud558\\ub2e4 \\uc0c1\\ud488 \\ud3c9\\uc774 \\uc88b\\ub2e4 \\uad6c\\ub9e4 \\uc0c1\\uc138\", \"\\ubc30\\uc1a1 \\uc131\\ub2a5 \\uc131\\ub2a5 \\ub6f0\\uc5b4\\ub098\\ub2e4 \\uc720\\ud1b5 \\uae30\\ud55c \\uae30\\ud55c \\ub109\\ub109\\ud558\\ub2e4 \\ub9cc\\uc871\\ud558\\ub2e4 \\uae30\\ub300\", \"\\ub9cc\\uc871\\ud558\\ub2e4 \\ud3ec\\uc7a5 \\uace0\\uae09\\uc2a4\\ub7fd\\ub2e4 \\ud6a8\\ub2a5 \\uc88b\\ub2e4 \\uad6c\\ub9e4\", \"\\ubc30\\uc1a1 \\ube68\\ub974\\ub2e4 \\uc720\\ud1b5 \\uae30\\ud55c \\uc88b\\ub2e4 \\uad6c\\ub9e4 \\ub531\\ud558\\ub2e4 \\uc88b\\ub2e4\", \"\\uac00\\uaca9 \\uc2f8\\ub2e4 \\uc0ac\\ub2e4 \\ubc30\\uc1a1 \\ube68\\ub974\\ub2e4 \\uac00\\uc871 \\uafb8\\uc900\\ud558\\ub2e4 \\ub0a8\\ub2e4\", \"\\ubc30\\uc1a1 \\ube68\\ub974\\ub2e4 \\uc131\\ub2a5 \\uc131\\ub2a5 \\ub6f0\\uc5b4\\ub098\\ub2e4 \\uc720\\ud1b5 \\uae30\\ud55c \\uae30\\ud55c \\ub109\\ub109\\ud558\\ub2e4 \\ub109\\ub109\\ud558\\ub2e4 \\uc720\\ud1b5 \\uae30\\ud55c \\uac1c\\ubcc4 \\ud3ec\\uc7a5 \\uce58\\uc57d \\uc8fc\\uc2dc \\uac31\\ub144\\uae30 \\uc5ec\\uc131 \\uc544\\ub2c8\\ub2e4 \\uac00\\uc871 \\ubcf5\\uc6a9 \\uc88b\\ub2e4 \\uc81c\\ud488 \\ub9ce\\ub2e4 \\uc8fc\\ubb38 \\ub2eb\\ub2e4 \\uc0c1\\uc138\", \"\\uce90\\ub098\\ub2e4 \\ud568\\ub7c9 \\uac10\\ub9c8 \\ub9ac\\ub180\\ub80c\\uc0b0 \\ub2ec\\ub9de\\uc774\\uaf43 \\uc790\\uc720 \\uc218\\uc785 \\ub2ec\\ub9de\\uc774 \\ud608\\uc561 \\ud658\\uc81c \\uce90\\ub098\\ub2e4 \\ud568\\ub7c9 \\uac10\\ub9c8 \\ub9ac\\ub180\\ub80c\\uc0b0 \\ub2ec\\ub9de\\uc774\\uaf43 \\uc790\\uc720 \\uc218\\uc785 \\ub2ec\\ub9de\\uc774 \\ud608\\uc561 \\ud658\\uc81c\", \"\\uc720\\ud1b5 \\uae30\\ud55c \\uae30\\ud55c \\ub109\\ub109\\ud558\\ub2e4 \\ud3ec\\uc7a5 \\uc0c1\\ud0dc \\ud3ec\\uc7a5 \\uae54\\ub054\\ud558\\ub2e4 \\uc88b\\ub2e4 \\uc8fc\\ubb38 \\uc0c1\\uc138 \\uc0c1\\uc138\", \"\\uc720\\ud1b5 \\uae30\\ud55c \\uae30\\ud55c \\ub109\\ub109\\ud558\\ub2e4 \\ud3ec\\uc7a5 \\uc0c1\\ud0dc \\ud3ec\\uc7a5 \\uae54\\ub054\\ud558\\ub2e4 \\uc88b\\ub2e4 \\uc624\\uba54\\uac00 \\ub298\\ub2e4 \\uafb8\\uc900\\ud558\\ub2e4 \\ud3c9\\uc774 \\uc88b\\ub2e4 \\uad6c\\ub9e4 \\ud574\\ubcf4\\ub2e4 \\uc0c1\\uc138 \\uc0c1\\uc138\", \"\\ubc30\\uc1a1 \\ube68\\ub974\\ub2e4 \\uc131\\ub2a5 \\uc131\\ub2a5 \\ub6f0\\uc5b4\\ub098\\ub2e4 \\uc720\\ud1b5 \\uae30\\ud55c \\uae30\\ud55c \\ub109\\ub109\\ud558\\ub2e4 \\uc0dd\\ub9ac\\ud1b5 \\uac31\\ub144\\uae30 \\uc99d\\uc0c1 \\ubaa8\\ub974\\ub2e4 \\uac00\\uaca9 \\ube44\\uc2f8\\ub2e4 \\ud568\\ub7c9 \\ub192\\ub2e4 \\uc9c4\\uad6d \\ub144\\uc804\", \"\\ubc30\\uc1a1 \\ube68\\ub974\\ub2e4 \\ub9db\\uc788\\ub2e4 \\uc720\\ud1b5 \\uae30\\ud55c \\uae30\\ud55c \\ub109\\ub109\\ud558\\ub2e4 \\uc88b\\ub2e4\", \"\\ubc30\\uc1a1 \\ube68\\ub974\\ub2e4 \\uc131\\ub2a5 \\uc131\\ub2a5 \\ub6f0\\uc5b4\\ub098\\ub2e4 \\uc720\\ud1b5 \\uae30\\ud55c \\uae30\\ud55c \\ub109\\ub109\\ud558\\ub2e4\", \"\\ubc30\\uc1a1 \\uc131\\ub2a5 \\uc131\\ub2a5 \\ub6f0\\uc5b4\\ub098\\ub2e4 \\uc720\\ud1b5 \\uae30\\ud55c \\uae30\\ud55c \\ub109\\ub109\\ud558\\ub2e4\", \"\\ubc30\\uc1a1 \\uc720\\ud1b5 \\uae30\\ud55c\", \"\\ubbff\\ub2e4 \\uc0c1\\uc138\", \"\\uc720\\ud1b5 \\uae30\\ud55c \\uae30\\ud55c \\ub109\\ub109\\ud558\\ub2e4 \\ud3ec\\uc7a5 \\uc0c1\\ud0dc \\ud3ec\\uc7a5 \\uae54\\ub054\\ud558\\ub2e4 \\uc88b\\ub2e4 \\uc368\\ub2e4 \\uc2dc\\uc548 \\uc2dc\\ub974\\ub2e4 \\uc778\\ud130\\ub137 \\uac80\\uc0c9 \\uc88b\\ub2e4 \\uad6c\\ub9e4\", \"\\ubc30\\uc1a1 \\ube68\\ub974\\ub2e4 \\uc131\\ub2a5 \\uc131\\ub2a5 \\ub6f0\\uc5b4\\ub098\\ub2e4 \\uc720\\ud1b5 \\uae30\\ud55c \\uae30\\ud55c \\ub109\\ub109\\ud558\\ub2e4 \\ub450\\ubc88\\uc9f8 \\uad6c\\ub9e4 \\uafb8\\uc900\\ud558\\ub2e4 \\uc0ac\\ub2e4 \\uc0c1\\uc138\", \"\\ubc30\\uc1a1 \\ube68\\ub974\\ub2e4 \\uc131\\ub2a5 \\uc131\\ub2a5 \\ub6f0\\uc5b4\\ub098\\ub2e4 \\uc720\\ud1b5 \\uae30\\ud55c \\uae30\\ud55c \\ub109\\ub109\\ud558\\ub2e4 \\uc778\\ud130\\ub137 \\ube14\\ub85c\\uadf8 \\uc62c\\ub77c\\uc624\\ub2e4 \\ubcf4\\uad6c \\uad6c\\ub9e4 \\uc54c\\ub2e4 \\uc0c1\\uc138\", \"\\ubc30\\uc1a1 \\uc131\\ub2a5 \\uc131\\ub2a5 \\ub6f0\\uc5b4\\ub098\\ub2e4 \\uc720\\ud1b5 \\uae30\\ud55c \\uae30\\ud55c \\ub109\\ub109\\ud558\\ub2e4 \\ubbff\\ub2e4 \\uc81c\\ud488 \\uc774\\ub0b4 \\ub3c4\\uc6c0\", \"\\uc720\\ud1b5 \\uae30\\ud55c \\uae30\\ud55c \\ub109\\ub109\\ud558\\ub2e4 \\ud3ec\\uc7a5 \\uc0c1\\ud0dc \\ud3ec\\uc7a5 \\uae54\\ub054\\ud558\\ub2e4 \\uc88b\\ub2e4 \\uc88b\\ub2e4 \\uac00\\uaca9 \\ubd80\\ub2f4 \\uc0c1\\uc138\", \"\\ubc30\\uc1a1 \\ube68\\ub974\\ub2e4 \\uc131\\ub2a5 \\uc131\\ub2a5 \\ub6f0\\uc5b4\\ub098\\ub2e4 \\uc720\\ud1b5 \\uae30\\ud55c \\uae30\\ud55c \\ub109\\ub109\\ud558\\ub2e4 \\ud3ec\\uc7a5 \\ud2bc\\ud2bc\\ud558\\ub2e4 \\ud574\\uc8fc\\ub2e4 \\uc0c1\\uc138\", \"\\ubc30\\uc1a1 \\ube68\\ub974\\ub2e4\", \"\\uac00\\uaca9 \\uc2f8\\ub2e4 \\uc0ac\\ub2e4 \\ubc30\\uc1a1 \\ube68\\ub974\\ub2e4 \\uc88b\\ub2e4\", \"\\uac10\\uc0ac\\ud558\\ub2e4 \\uc0c1\\uc138\", \"\\uac00\\uaca9 \\uc2f8\\ub2e4 \\uc0ac\\ub2e4 \\ubc30\\uc1a1 \\ube68\\ub974\\ub2e4 \\ud608\\uc561 \\uc21c\\ud658 \\ud655\\uc2e4\\ud558\\ub2e4 \\ub09c\\ud6c4 \\uc88b\\uc544\\uc9c0\\ub2e4\", \"\\ubc30\\uc1a1 \\ube68\\ub974\\ub2e4 \\ub9db\\uc788\\ub2e4 \\uc720\\ud1b5 \\uae30\\ud55c \\uae30\\ud55c \\ub109\\ub109\\ud558\\ub2e4\", \"\\uac00\\uaca9 \\uc2f8\\ub2e4 \\uc0ac\\ub2e4 \\ubc30\\uc1a1 \\ube68\\ub974\\ub2e4 \\ubcf4\\uad6c\", \"\\ubc30\\uc1a1 \\ube68\\ub974\\ub2e4 \\uc131\\ub2a5 \\uc131\\ub2a5 \\ub6f0\\uc5b4\\ub098\\ub2e4 \\uc720\\ud1b5 \\uae30\\ud55c \\ubc30\\uc1a1 \\ube68\\ub974\\ub2e4 \\ub9c8\\uc74c \\ub4dc\\ub124\", \"\\ubc30\\uc1a1 \\ube68\\ub974\\ub2e4 \\uc131\\ub2a5 \\uc131\\ub2a5 \\ub6f0\\uc5b4\\ub098\\ub2e4 \\uc720\\ud1b5 \\uae30\\ud55c \\uae30\\ud55c \\ub109\\ub109\\ud558\\ub2e4 \\uac00\\uaca9 \\uc88b\\ub2e4 \\uc81c\\ud488 \\uc88b\\ub2e4 \\uc88b\\ub2e4\", \"\\uc720\\ud1b5 \\uae30\\ud55c \\uae30\\ud55c \\ub109\\ub109\\ud558\\ub2e4 \\ud3ec\\uc7a5 \\uc0c1\\ud0dc \\ud3ec\\uc7a5 \\uae54\\ub054\\ud558\\ub2e4 \\uc88b\\ub2e4 \\uc800\\ub834\\ud558\\ub2e4 \\uc0ac\\ub2e4 \\uc81c\\ud488 \\uc0c1\\uc138\", \"\\uadf8\\ub807\\ub2e4 \\uadf8\\ub807\\ub2e4 \\uadf8\\ub807\\ub2e4\", \"\\uac00\\uaca9 \\uc2f8\\ub2e4 \\uc0ac\\ub2e4 \\ubc30\\uc1a1 \\ube68\\ub974\\ub2e4 \\uc81c\\ud488\", \"\\ubc30\\uc1a1 \\ube68\\ub974\\ub2e4 \\uc131\\ub2a5 \\uc720\\ud1b5 \\uae30\\ud55c \\uc88b\\ub2e4\", \"\\uac00\\uaca9 \\uad1c\\ucc2e\\ub2e4 \\ubc30\\uc1a1 \\uc548\\uc804 \\ud3ec\\uc7a5 \\uae54\\ub054\\ud558\\ub2e4 \\ubcf4\\ub0b4\\ub2e4 \\uac10\\uc0ac\\ud558\\ub2e4 \\uc0c1\\uc138\", \"\\ubc30\\uc1a1 \\ube68\\ub974\\ub2e4 \\ub9db\\uc788\\ub2e4 \\uc720\\ud1b5 \\uae30\\ud55c \\uae30\\ud55c \\ub109\\ub109\\ud558\\ub2e4 \\uad6c\\ub9e4 \\uc88b\\ub2e4 \\ubc8c\\uc368 \\ub118\\ub2e4 \\uad6c\\ub9e4 \\ubcf4\\ub77c \\uc624\\uc77c \\uac31\\ub144\\uae30 \\uc544\\uc90c\\ub9c8 \\ub04a\\ub2e4 50\\ucd08 \\ub4e4\\uc5b4\\uc11c\\ub2e4 \\uc0dd\\ub9ac \\uc591\\ub3c4 \\uc904\\uc5b4\\ub4e4\\ub2e4 \\ud3d0\\uacbd\\uae30 \\uc811\\ub2e4 \\ubcf4\\ub77c \\uc624\\uc77c \\uc815\\uc0c1 \\ub3cc\\uc544\\uc624\\ub2e4 \\uc190\\ubc1c \\ud608\\uc561 \\uc21c\\ud658 \\ub3fc\\ub2e4 \\ub0b4\\ub9ac\\ub2e4 \\uc628\\ubab8 \\ubed0\\uadfc\\ud558\\ub2e4 \\uc904\\uc5b4\\ub4e4\\ub2e4 \\uc194\\uc9c1\\ud558\\ub2e4 \\uc2f8\\ub2e4 \\uac00\\uaca9 \\uc544\\ub2c8\\ub2e4 \\ubd80\\ub2f4 \\ub3fc\\ub2e4 \\ubcd1\\uc6d0 \\uac00\\uae30 \\uc2eb\\ub2e4 \\uc544\\ud504\\ub2e4 \\ud798\\ub4e4\\ub2e4 \\ud55c\\uac00\\uc9c0 \\ub2e8\\uc810 \\ubc18\\ucc2c \\uc190\\uac00\\ub77d \\ubca0\\ub2e4 \\uba48\\ucd94\\ub2e4 \\uadf8\\ub807\\ub2e4 \\uc870\\uc2ec\\ud558\\ub2e4 \\uac31\\ub144\\uae30 \\uc88b\\ub2e4 \\ub04a\\ub2e4 \\uc7ac\\ub2e4 \\uc0c1\\uc138\", \"\\uc720\\ud1b5 \\uae30\\ud55c \\uae30\\ud55c \\ub109\\ub109\\ud558\\ub2e4 \\ud3ec\\uc7a5 \\uc0c1\\ud0dc \\ud3ec\\uc7a5 \\uae54\\ub054\\ud558\\ub2e4 \\uac31\\ub144\\uae30 \\uc608\\ubc29 \\ucc28\\uc6d0 \\uc0c1\\uc138\", \"\\ubc30\\uc1a1 \\ube68\\ub974\\ub2e4 \\uc131\\ub2a5 \\uc131\\ub2a5 \\ub6f0\\uc5b4\\ub098\\ub2e4 \\uc720\\ud1b5 \\uae30\\ud55c \\uae30\\ud55c \\ub109\\ub109\\ud558\\ub2e4 \\uc2e0\\ub8b0 \\ubbff\\ub2e4 \\uad6c\\ub9e4 \\uac00\\uaca9 \\uc88b\\ub2e4\", \"\\uc720\\ud1b5 \\uae30\\ud55c \\uae30\\ud55c \\ub109\\ub109\\ud558\\ub2e4 \\ud3ec\\uc7a5 \\uc0c1\\ud0dc \\uae30\\ub300 \\ud06c\\ub2e4 \\uc0c1\\uc138\", \"\\ub3c4\\ucc29 \\ub118\\uae40 \\uad1c\\ucc2e\\ub2e4 \\uc81c\\ud488 \\ud568\\ub7c9 \\ub192\\ub2e4 \\uad6c\\ub9e4 \\uafb8\\uc900\\ud558\\ub2e4 \\ubcf5\\uc6a9 \\ud574\\ubcf4\\ub2e4 \\ub9ac\\ubdf0 \\ub2e4\\uc2dc \\ub0a8\\ub2e4 \\ub9ac\\ubdf0 \\ub0a8\\uae30\\ub2e4 \\uafb8\\uc900\\ud558\\ub2e4 \\ubcf5\\uc6a9 \\ubc30\\ub780\\ud1b5 \\uc904\\uc5b4\\ub4e4\\ub2e4 \\uc0dd\\ub9ac \\ubd88\\ud3b8 \\uc548\\uac74 \\uc88b\\uc544\\uc9c0\\ub2e4 \\ub2eb\\ub2e4 \\uc0c1\\uc138\", \"\\ubc30\\uc1a1 \\ube68\\ub974\\ub2e4 \\uc131\\ub2a5 \\uc131\\ub2a5 \\ub6f0\\uc5b4\\ub098\\ub2e4 \\uc720\\ud1b5 \\uae30\\ud55c \\uae30\\ud55c \\ub109\\ub109\\ud558\\ub2e4 \\uc120\\ubb3c\", \"\\ud06c\\ub2e4 \\ub514\\uc790\\uc778 \\ub07c\\ub2e4 \\uc7ac\\uace0 \\ud314\\uc9c0 \\ubbff\\uc74c \\ub808\\uc2dc\\ud2f4 \\uc5ec\\ub4dc\\ub984 \\ud53c\\ubd80 \\uc88b\\uc544\\uc9c0\\ub2e4 \\uc2dc\\uc791 10 \\ud06c\\ub2e4 \\ud2f0\\uc2a4\\ud47c \\uc2a4\\ud47c \\ub4ec\\ubfcd \\ub728\\ub2e4 10 \\uce58\\ub9e4 \\uc608\\ubc29 \\uace0\\uc9c0\\ud608\\uc99d \\uac1c\\uc120 \\uc218\\uba74 \\uc7a5\\uc560 \\uac1c\\uc120 \\uc5ec\\ub4dc\\ub984 \\uac1c\\uc120 \\uae30\\uc5b5 \\uac1c\\uc120 \\uc704\\ud574 \\ud6c4\\uae30 \\uc62c\\ub9ac\\ub2e4 \\uc548\\ub098 \\uad73\\uc774 \\uc539\\ub2e4 \\ud480\\ub2e4 \\ube44\\ud0c0\\ubbfc \\uc0bc\\ud0a4\\ub2e4 \\uc624\\uba54\\uac00 \\ud761\\uc218 \\ub192\\uc774\\ub2e4 \\uc800\\ub141 \\uc624\\uba54\\uac00 \\uce7c\\uba55\\ub514 \\uc878\\ub9ac\\ub2e4 \\uc0c1\\uc138 \\uc0c1\\uc138 \\uc0c1\\uc138 \\uc0c1\\uc138\", \"\\ubc30\\uc1a1 \\ube68\\ub974\\ub2e4 \\uc131\\ub2a5 \\uc131\\ub2a5 \\ub6f0\\uc5b4\\ub098\\ub2e4 \\uc720\\ud1b5 \\uae30\\ud55c \\uae30\\ud55c \\ub109\\ub109\\ud558\\ub2e4 \\ud56d\\uc0c1 \\uc81c\\ud488 \\uac31\\ub144\\uae30 \\uc99d\\uc0c1 \\uc804\\ud600 \\ub290\\ub07c\\ub2e4 \\uc911\\ub144 \\ubcf4\\ub0b4\\ub2e4 \\uac10\\uc0ac \\uac10\\uc0ac\", \"\\ubc30\\uc1a1 \\ube68\\ub974\\ub2e4 \\uc131\\ub2a5 \\uc131\\ub2a5 \\ub6f0\\uc5b4\\ub098\\ub2e4 \\uc720\\ud1b5 \\uae30\\ud55c \\uae30\\ud55c \\ub109\\ub109\\ud558\\ub2e4 \\ud544\\uc694\\ud558\\ub2e4 \\uc801\\ud788\\ub2e4 \\uad6c\\ub9e4 \\uc88b\\ub2e4 \\uc0c1\\uc138\", \"\\ubc30\\uc1a1 \\uc131\\ub2a5 \\uc131\\ub2a5 \\ub6f0\\uc5b4\\ub098\\ub2e4 \\uc720\\ud1b5 \\uae30\\ud55c \\uae30\\ud55c \\ub109\\ub109\\ud558\\ub2e4 \\ubc30\\uc1a1 \\ub290\\ub9ac\\ub2e4\", \"\\uac00\\uaca9 \\uc2f8\\ub2e4 \\uc0ac\\ub2e4 \\ubc30\\uc1a1 \\ube68\\ub974\\ub2e4 \\uc54c\\ub2e4\", \"\\ubc30\\uc1a1 \\ube68\\ub974\\ub2e4 \\uc720\\ud1b5 \\uae30\\ud55c \\uae30\\ud55c \\ub109\\ub109\\ud558\\ub2e4\", \"\\uac00\\uaca9 \\uad1c\\ucc2e\\ub2e4 \\ubc30\\uc1a1 \\ube68\\ub974\\ub2e4\", \"\\uc720\\ud1b5 \\uae30\\ud55c \\uae30\\ud55c \\ub109\\ub109\\ud558\\ub2e4 \\ud3ec\\uc7a5 \\uc0c1\\ud0dc \\ud3ec\\uc7a5 \\uae54\\ub054\\ud558\\ub2e4 \\uc88b\\ub2e4\", \"\\ubc30\\uc1a1 \\ube68\\ub974\\ub2e4 \\uc131\\ub2a5 \\uc720\\ud1b5 \\uae30\\ud55c \\uae30\\ud55c \\ub109\\ub109\\ud558\\ub2e4\", \"\\uac00\\uaca9 \\uc2f8\\ub2e4 \\uc0ac\\ub2e4 \\ubc30\\uc1a1 \\ube68\\ub974\\ub2e4\", \"\\uc720\\ud1b5 \\uae30\\ud55c \\uae30\\ud55c \\ub109\\ub109\\ud558\\ub2e4 \\ud3ec\\uc7a5 \\uc0c1\\ud0dc \\ud3ec\\uc7a5 \\uae54\\ub054\\ud558\\ub2e4\", \"\\ubc30\\uc1a1 \\ube68\\ub974\\ub2e4 \\uc131\\ub2a5 \\uc131\\ub2a5 \\ub6f0\\uc5b4\\ub098\\ub2e4 \\uc720\\ud1b5 \\uae30\\ud55c\", \"\\ubc30\\uc1a1 \\uc131\\ub2a5 \\uc131\\ub2a5 \\ub6f0\\uc5b4\\ub098\\ub2e4 \\uc720\\ud1b5 \\uae30\\ud55c \\uae30\\ud55c \\ub109\\ub109\\ud558\\ub2e4\", \"\\uc88b\\ub2e4 \\uc88b\\ub2e4\", \"\\ubc30\\uc1a1 \\uc131\\ub2a5 \\uc131\\ub2a5 \\ub6f0\\uc5b4\\ub098\\ub2e4 \\uc720\\ud1b5 \\uae30\\ud55c \\uae30\\ud55c \\ub109\\ub109\\ud558\\ub2e4\", \"\\uc720\\ud1b5 \\uae30\\ud55c \\uae30\\ud55c \\ub109\\ub109\\ud558\\ub2e4 \\ud3ec\\uc7a5 \\uc0c1\\ud0dc \\ud3ec\\uc7a5 \\uae54\\ub054\\ud558\\ub2e4 \\uc88b\\ub2e4 \\ucd08\\uae30 \\uc9c4\\uc785 \\ub2e8\\uacc4 \\uad6c\\uc785 \\uc0c1\\uc138\", \"\\ubc30\\uc1a1 \\ube68\\ub974\\ub2e4 \\uc720\\ud1b5 \\uae30\\ud55c \\uae30\\ud55c \\ub109\\ub109\\ud558\\ub2e4 \\uccb4\\ud5d8 \\uc804\\uc774 \\ub290\\ub07c\\ub2e4 \\uc7ac\\ub2e4\", \"\\ubc30\\uc1a1 \\ube68\\ub974\\ub2e4 \\uc131\\ub2a5 \\uc720\\ud1b5 \\uae30\\ud55c \\uae30\\ud55c \\ub109\\ub109\\ud558\\ub2e4 \\ud608\\uc555 \\uc88b\\ub2e4 \\ubaa8\\ub974\\ub2e4\", \"\\ubc30\\uc1a1 \\ube68\\ub974\\ub2e4 \\uc131\\ub2a5 \\uc131\\ub2a5 \\ub6f0\\uc5b4\\ub098\\ub2e4 \\uc720\\ud1b5 \\uae30\\ud55c \\uae30\\ud55c \\ub109\\ub109\\ud558\\ub2e4 \\uc190\\ubc1c \\uc800\\ub9bc \\uafb8\\uc900\\ud558\\ub2e4 \\uad1c\\ucc2e\\ub2e4 \\uc7ac\\ub2e4\", \"\\uc720\\ud1b5 \\uae30\\ud55c \\uae30\\ud55c \\ub109\\ub109\\ud558\\ub2e4 \\ud3ec\\uc7a5 \\uc0c1\\ud0dc \\ud3ec\\uc7a5 \\uae54\\ub054\\ud558\\ub2e4 \\ud3ec\\uc7a5 \\ubc29\\ubc95 \\uc124\\uba85 \\ud6c4\\uae30 \\uc88b\\ub2e4 \\ub298\\ub2e4 \\uc8fc\\ubb38 \\ubcf5\\uc6a9 \\ud574\\ubcf4\\ub2e4 \\ub9ac\\ubdf0 \\uc218\\uc815 \\uc0c1\\uc138\", \"\\uc2e0\\uae30\\ud558\\ub2e4 \\ud608\\uc555 \\ub192\\ub2e4 \\ub4dc\\ub9ac\\ub2e4 \\ubcf5\\uc6a9 \\uc548\\ub418\\ub2e4 \\ud608\\uc555 148 \\ubcd1\\uc6d0 \\uc11c\\uc7ac 127 78 \\uc815\\uc0c1 \\uc218\\uce58 \\uc88b\\uc544\\ud558\\ub2e4 \\uc7a5\\uae30 \\ubcf5\\uc6a9\", \"\\uc720\\ud1b5 \\uae30\\ud55c \\ud3ec\\uc7a5 \\uc0c1\\ud0dc \\uc88b\\ub2e4 \\uc7ac\\ub2e4\", \"\\ubc30\\uc1a1 \\ube68\\ub974\\ub2e4 \\uc131\\ub2a5 \\uc131\\ub2a5 \\ub6f0\\uc5b4\\ub098\\ub2e4 \\uc720\\ud1b5 \\uae30\\ud55c \\uae30\\ud55c \\ub109\\ub109\\ud558\\ub2e4 \\ubd80\\ubaa8\\ub2d8 \\ub4dc\\ub9ac\\ub2e4 \\ud544\\uc694 \\uad6c\\uc131 \\uc88b\\ub2e4\", \"\\ubc30\\uc1a1 \\ube68\\ub974\\ub2e4 \\uc131\\ub2a5 \\uc131\\ub2a5 \\ub6f0\\uc5b4\\ub098\\ub2e4 \\uc720\\ud1b5 \\uae30\\ud55c \\uae30\\ud55c \\ub109\\ub109\\ud558\\ub2e4 \\uc81c\\ud488 \\ub5a8\\uc5b4\\uc9c0\\ub2e4 \\uad6c\\uc785 \\uc0c1\\uc138\", \"\\ub9c8\\ub204\\ub77c \\uc120\\ubb3c \\uc0ac\\uc11c \\ub4dc\\ub9ac\\ub2e4 \\uacc4\\uc2dc\\ub2e4 \\uc88b\\ub2e4 \\uc801\\uadf9 \\ucd94\\ucc9c\", \"\\ubc30\\uc1a1 \\ube68\\ub974\\ub2e4 \\uc131\\ub2a5 \\uc131\\ub2a5 \\ub6f0\\uc5b4\\ub098\\ub2e4 \\uc720\\ud1b5 \\uae30\\ud55c \\uae30\\ud55c \\ub109\\ub109\\ud558\\ub2e4 \\uac31\\ub144\\uae30 \\uc9c8\\ud658 \\uac1c\\uc120\", \"\\ubc30\\uc1a1 \\ube68\\ub974\\ub2e4 \\uc2e0\\ub791 \\ucf5c\\ub808 \\ub192\\ub2e4 \\uad6c\\ub9e4 \\uc0b4\\ub2e4 \\uc0ac\\ub2e4 \\uc7ac\\ub2e4 \\uc88b\\ub2e4 \\uc0c1\\uc138\", \"\\ubc30\\uc1a1 \\ube68\\ub974\\ub2e4 \\uc720\\ud1b5 \\uae30\\ud55c \\uc88b\\ub2e4 \\uc120\\ubb3c \\uad6c\\uc785 \\ub9c8\\uc74c \\uc0c1\\uc138\", \"\\ubc30\\uc1a1 \\ube68\\ub974\\ub2e4 \\uc131\\ub2a5 \\uc131\\ub2a5 \\ub6f0\\uc5b4\\ub098\\ub2e4 \\uc720\\ud1b5 \\uae30\\ud55c \\uae30\\ud55c \\ub109\\ub109\\ud558\\ub2e4 \\uad6c\\ub9e4 \\uafb8\\uc900\\ud558\\ub2e4 \\ubc18\\ub144 \\ub118\\ub2e4 \\ud53c\\ubd80 \\uc88b\\uc544\\uc9c0\\ub2e4 \\uc0dd\\ub9ac\\ud1b5 \\uc0ac\\ub77c\\uc9c0\\ub2e4 \\ud608\\ud589 \\uac1c\\uc120 \\uc88b\\ub2e4 \\uafb8\\uc900\\ud558\\ub2e4\", \"\\uac00\\uaca9 \\uad1c\\ucc2e\\ub2e4 \\ubc30\\uc1a1 \\ube68\\ub974\\ub2e4 \\ub450\\ubc88\\uc9f8 \\ud53c\\ub85c \\ub35c\\ud558\\ub2e4 \\ub290\\ub07c\\ub2e4\", \"\\ubc30\\uc1a1 \\ube68\\ub974\\ub2e4 \\uc131\\ub2a5 \\uc131\\ub2a5 \\ub6f0\\uc5b4\\ub098\\ub2e4 \\uc720\\ud1b5 \\uae30\\ud55c \\uae30\\ud55c \\ub109\\ub109\\ud558\\ub2e4 \\ud06c\\ub9b4 \\uc624\\uc77c \\ubc14\\uafb8\\ub2e4 \\uc138\\ub300 \\uc624\\uba54\\uac00 \\uc88b\\ub2e4 \\uac00\\uaca9 \\uc0ac\\ub2e4 \\uc0c1\\uc138\", \"\\uc5ec\\uc131 \\uc88b\\ub2e4 \\uac74\\uac15 \\uc2dd\\ud488 \\uad6c\\ub9e4 \\ud574\\ubd24\\ub2e4 \\ubcf5\\uc6a9 \\uc88b\\ub2e4 \\uc54c\\ub2e4 \\uac00\\uaca9 \\ud655\\uc2e4 \\uc800\\ub834\\ud558\\ub2e4 \\ubcf5\\uc6a9 \\uc7ac\\ub2e4 \\ub9e4\\ub2e4 \\ub2e4\\uc2dc \\ub9ac\\ubdf0\", \"\\ubc30\\uc1a1 \\ube68\\ub974\\ub2e4 \\uc720\\ud1b5 \\uae30\\ud55c \\uae30\\ud55c \\ub109\\ub109\\ud558\\ub2e4 \\uc0dd\\ub9ac \\uc99d\\ud6c4\\uad70 \\uc88b\\ub2e4 \\uc8fc\\ubb38 \\uc194\\uc9c1\\ud558\\ub2e4 \\uc88b\\ub2e4 \\ub290\\ub07c\\ub2e4 \\uc911\\ub2e8 \\uc0dd\\ub9ac \\uc804\\uc774 \\ubb34\\uc9c0 \\ud798\\ub4e4\\ub2e4 \\ubcf4\\ub77c \\uc9c0\\uc720 \\ubcf5\\uc6a9 \\uad1c\\ucc2e\\ub2e4 \\uae09\\ud558\\ub2e4 \\uc8fc\\ubb38 \\ub2e4\\uc2dc \\uc81c\\ub300\\ub85c \\uc0c1\\uc138 \\uc0c1\\uc138\", \"\\ubc30\\uc1a1 \\ube68\\ub974\\ub2e4 \\uc131\\ub2a5 \\uc131\\ub2a5 \\ub6f0\\uc5b4\\ub098\\ub2e4 \\uc720\\ud1b5 \\uae30\\ud55c \\uae30\\ud55c \\ub109\\ub109\\ud558\\ub2e4 \\uafb8\\uc900\\ud558\\ub2e4 30 \\ub300\\ub2e4 \\uc0dd\\ub9ac \\ubd88\\uc21c \\ud608\\uc561 \\uc21c\\ud658 \\uc548\\ub418\\ub2e4 \\uc9c0\\uc18d \\ubc30\\uc1a1 \\ube60\\ub974\\ub2e4 \\uc88b\\uc544\\uc9c0\\ub2e4 \\uae30\\ub300\\ud558\\ub2e4 \\uc0c1\\uc138\", \"\\ubc30\\uc1a1 \\ube68\\ub974\\ub2e4 \\uc131\\ub2a5 \\uc131\\ub2a5 \\ub6f0\\uc5b4\\ub098\\ub2e4 \\uc720\\ud1b5 \\uae30\\ud55c \\uae30\\ud55c \\ub109\\ub109\\ud558\\ub2e4 \\ubc30\\uc1a1 \\ube60\\ub974\\ub2e4 \\ud3ec\\uc7a5 \\ub3fc\\ub2e4 \\uc911\\uc774 \\uc4f8\\ub2e4\", \"\\uac00\\uaca9 \\uc800\\ub834 \\uc0c1\\ud488 \\ub9cc\\uc871\\ud558\\ub2e4\", \"\\ubc30\\uc1a1 \\ube68\\ub974\\ub2e4 \\uc131\\ub2a5 \\uc131\\ub2a5 \\ub6f0\\uc5b4\\ub098\\ub2e4 \\uc720\\ud1b5 \\uae30\\ud55c \\uae30\\ud55c \\ub109\\ub109\\ud558\\ub2e4 \\uc7ac\\ub2e4 \\uac00\\uc131 \\uc88b\\ub2e4 \\uafb8\\uc900\\ud558\\ub2e4 \\ud608\\uad00 \\uac74\\uac15 \\ub3c4\\uc6c0 \\uae30\\ub974\\ub2e4 \\ubc14\\ub77c\\ub2e4 \\uc0c1\\uc138\", \"\\ubc30\\uc1a1 \\ube68\\ub974\\ub2e4 \\uad6c\\ub9e4 \\ud3b4\\ub2e4 \\ubc09\\ub2e4 \\uc88b\\ub2e4 \\ubbff\\ub2e4 \\uad6c\\ub9e4 \\ucf5c\\ub808\\uc2a4\\ud14c\\ub864 \\ud5d0\\ub2e4 \\uac1c\\uc120 \\ub3c4\\uc6c0 \\uafb8\\uc900\\ud558\\ub2e4 \\ubcf5\\uc6a9 \\ud574\\ubcf4\\ub2e4 \\uc88b\\ub2e4 \\uc7ac\\ub2e4 \\uc0c1\\uc138 \\uc0c1\\uc138\", \"\\uac00\\uaca9 \\uad1c\\ucc2e\\ub2e4 \\ubc30\\uc1a1 \\ube68\\ub974\\ub2e4 \\uc88b\\uc544\\ud558\\ub2e4\", \"\\ubc30\\uc1a1 \\ube68\\ub974\\ub2e4 \\uc131\\ub2a5 \\uc131\\ub2a5 \\ub6f0\\uc5b4\\ub098\\ub2e4 \\uc720\\ud1b5 \\uae30\\ud55c \\uae30\\ud55c \\ub109\\ub109\\ud558\\ub2e4 \\ud608\\uc561 \\uc21c\\ud658 \\ub3c4\\uc6c0\", \"\\ubc30\\uc1a1 \\uc131\\ub2a5 \\uc131\\ub2a5 \\ub6f0\\uc5b4\\ub098\\ub2e4 \\uc720\\ud1b5 \\uae30\\ud55c \\uae30\\ud55c \\ub109\\ub109\\ud558\\ub2e4 3\\ub144 \\uad6c\\ub9e4 2\\ub9cc 9\\ucc9c\\uc6d0 \\ud560\\uc778 26000\\uc6d0 \\uad6c\\ub9e4 45000\\uc6d0 \\uad6c\\ub9e4 \\ub09c\\uac10\\ud558\\ub2e4 \\uba54\\ub9ac\\ud2b8 \\uad6c\\ub9e4 \\ucc0d\\ub2e4 \\ud560\\uc778 \\ud574\\uc8fc\\ub2e4 \\ub2eb\\ub2e4\", \"\\ubc30\\uc1a1 \\ube68\\ub974\\ub2e4 \\uc131\\ub2a5 \\uc720\\ud1b5 \\uae30\\ud55c \\uae30\\ud55c \\ub109\\ub109\\ud558\\ub2e4 \\ud56d\\uc0c1 \\uad6c\\ub9e4 \\uc81c\\ud488\", \"\\uc6a9\\uae30 \\ud30c\\ub780\\uc0c9 \\ubc14\\ub00c\\ub2e4 11 \\uc808\\ub54c \\ucfe0\\ud3f0 \\uc54c\\ucc28\\ub2e4 \\uc368\\ub2e4 \\uad6c\\uc785 \\uc7ac\\ub2e4 \\ubc14\\ub9ac \\ub808\\uc2dc\\ud2f4 \\uc0c1\\uc138 \\uc0c1\\uc138\", \"\\uac00\\uaca9 \\uad1c\\ucc2e\\ub2e4 \\ubc30\\uc1a1\", \"\\ubc30\\uc1a1 \\ube68\\ub974\\ub2e4 \\uc131\\ub2a5 \\uc131\\ub2a5 \\ub6f0\\uc5b4\\ub098\\ub2e4 \\uc720\\ud1b5 \\uae30\\ud55c \\uae30\\ud55c \\ub109\\ub109\\ud558\\ub2e4\", \"\\uac00\\uaca9 \\uad1c\\ucc2e\\ub2e4 \\ubc30\\uc1a1 \\ube68\\ub974\\ub2e4\", \"\\uc720\\ud1b5 \\uae30\\ud55c \\uae30\\ud55c \\ub109\\ub109\\ud558\\ub2e4 \\ud3ec\\uc7a5 \\uc0c1\\ud0dc \\ud3ec\\uc7a5 \\uae54\\ub054\\ud558\\ub2e4\", \"\\uac00\\uaca9 \\uc2f8\\ub2e4 \\uc0ac\\ub2e4 \\ubc30\\uc1a1 \\ube68\\ub974\\ub2e4\", \"\\uc88b\\ub2e4\", \"\\ubc30\\uc1a1 \\ube68\\ub974\\ub2e4 \\uc131\\ub2a5 \\uc720\\ud1b5 \\uae30\\ud55c \\uae30\\ud55c \\ub109\\ub109\\ud558\\ub2e4\", \"\\ubc30\\uc1a1 \\uc720\\ud1b5 \\uae30\\ud55c\", \"\\ubc30\\uc1a1 \\uc131\\ub2a5 \\uc720\\ud1b5 \\uae30\\ud55c \\uae30\\ud55c \\ub109\\ub109\\ud558\\ub2e4\", \"\\uac00\\uaca9 \\uad1c\\ucc2e\\ub2e4 \\ubc30\\uc1a1 \\uc88b\\ub2e4\", \"\\ubc30\\uc1a1 \\ube68\\ub974\\ub2e4 \\ub9db\\uc788\\ub2e4 \\uc720\\ud1b5 \\uae30\\ud55c \\uae30\\ud55c \\ub109\\ub109\\ud558\\ub2e4\", \"\\ubc30\\uc1a1 \\ube68\\ub974\\ub2e4 \\uc131\\ub2a5 \\uc720\\ud1b5 \\uae30\\ud55c \\uae30\\ud55c \\ub109\\ub109\\ud558\\ub2e4 \\ubaa8\\ub974\\ub2e4\"], \"Freq\": [139.0, 59.0, 60.0, 25.0, 25.0, 24.0, 27.0, 18.0, 17.0, 22.0, 11.0, 11.0, 9.0, 16.0, 9.0, 12.0, 7.0, 5.0, 5.0, 3.0, 3.0, 3.0, 3.0, 3.0, 3.0, 3.0, 3.0, 3.0, 3.0, 3.0, 6.234420996043269, 14.554257473720075, 107.65388796340588, 2.6323780839240354, 2.632304973287877, 2.632295161070919, 2.6322368649584034, 2.632190497423366, 2.632197616090571, 2.632141436338576, 2.507425850044485, 2.20956042017277, 1.066696302522335, 0.7690834410390851, 0.7690058090872697, 0.7687801761963367, 0.7688351053716608, 0.7688140860637653, 0.4711225344484399, 0.4710559652902537, 0.47105336793870595, 0.4710468264607339, 0.4710443734064944, 0.4710359079644129, 0.47102729822502326, 0.47101315708881897, 0.4710086838722645, 0.4710070004036688, 0.4710021423942925, 0.47100733709738796, 3.152634717600813, 2.259637550409344, 0.7694008951171405, 0.4723494463610214, 0.47151502312676297, 0.4711724613170795, 15.799879969152542, 52.056404273800936, 2.4673437934845714, 2.4673511160280395, 2.467369166949147, 2.4673659314066847, 2.467337833274772, 2.467345836985074, 2.467336981816229, 2.4673262534385896, 2.467320974395624, 2.467314673602407, 6.862905711774096, 0.4415909648816392, 0.4415516700698884, 0.4415522235179412, 0.4415450712661816, 0.44152723320970966, 0.44152736092849104, 0.44152416795895555, 0.4415256154384783, 0.4415169305613416, 0.44151812260330153, 0.44151203467472044, 0.4415157810923088, 0.4415138227376603, 0.44151203467472044, 0.44150564873564935, 0.4415048824229608, 0.44150658534004644, 2.955223237723046, 0.5737759869440178, 0.7208349254261561, 1.0004529742814579, 0.7214339265110249, 0.7213211933999565, 0.4417685365607428, 0.44176402383046587, 0.4415606955304422, 0.44154796622522713, 7.896737578615682, 2.551937420552573, 2.5519303063546346, 2.5518398769941726, 2.551831814236509, 1.7325313742934978, 8.541835341225834, 0.7451622765734445, 0.7451603004073504, 0.4567174373456944, 0.45671822781213206, 0.4566984661511919, 0.45669660855506355, 0.4566932490727037, 0.45669198432640357, 0.4566802063764832, 0.45667253885203846, 0.4566598913890368, 0.4566574014197583, 0.45664839010236963, 0.45664692773946003, 0.45664514918997545, 0.45664115733446553, 0.45664092019453423, 0.4566348731262866, 0.4566277194050262, 0.45663186935382366, 0.4566279565449575, 0.45662728464848557, 0.45662428087602264, 1.1550450517708934, 0.7471257952044558, 0.7520390974406783, 0.45699366584231554, 0.4569696356626124, 0.4567158564128192, 2.505061406067456, 2.5050380182276677, 2.5050187390624368, 2.50500451672743, 2.5049444668685146, 2.5048286338511843, 6.498033159524828, 1.5819193496785493, 8.384701118475528, 1.1338462655608519, 2.1490133085049967, 0.73163752539779, 0.7316343648788998, 0.44831861692898867, 0.4482712486521201, 0.44827049802888363, 0.44826508564028394, 0.44825979177114267, 0.44826212265382426, 0.4482578164468362, 0.4482594757192536, 0.44825836953764203, 0.44825497197983494, 0.44825635470684944, 0.44825090281176366, 0.44825031021447176, 0.448251613928514, 0.44824707068260916, 0.44824090767077307, 0.448241500268065, 6.405427427623495, 0.448241816319954, 0.44839849904394136, 23.429227835665294, 9.36742139451967, 6.44406184383167, 2.363736365235461, 2.363704756404579, 2.363676135473134, 2.3636766072467292, 2.363649873409665, 2.363627071019228, 2.363595147672616, 2.363566841256901, 2.5627084516106486, 0.9574078987277205, 0.9576937148975092, 0.6903429208847033, 0.4230339181495432, 0.4230295935582534, 0.4230185855076976, 0.4229959403751256, 0.4229944857398736, 0.4229789172112304, 0.42297085774564486, 0.4229737277016826, 0.4229599676384878, 0.42295953517935886, 0.4229574121981802, 0.4229520261163011, 0.42295159365717216, 0.42295025696531896, 0.42294176504060443, 0.4229433376192553, 2.2519403336270183, 1.493290336062242, 1.2263352814669182, 2.8354464283076104, 0.6916774897567319, 0.6921293702320486, 24.407949619148255, 22.7425817978642, 2.5565839403993693, 2.335505480280363, 1.475071605070042, 1.0571052424299792, 0.9463497911159249, 0.6822575119611054, 0.6821841035104862, 0.6820897324327918, 0.9462188335804887, 0.6821350336905536, 0.41803486410868895, 0.4179900339211985, 0.41796035649410324, 0.41795753007247516, 0.41795172020579513, 0.4179471272706494, 0.4179436727553262, 0.4179467739679459, 0.41793644967783206, 0.41793048278772826, 0.41792451589762447, 0.4179295013913296, 0.41792569357330284, 0.41792133617329286, 0.4179225138489712, 0.4179177246345458, 0.4179184312399528, 0.4179185490075207, 13.769490807580002, 1.210917851244811, 3.725114417557555, 0.5566328845552136, 0.6834515180755618, 0.41833945029497466, 0.41812460299538173, 57.42741501640144, 2.230596768504439, 2.230603068028341, 2.230599468300397, 2.2305868692525936, 2.230557321485721, 2.2305432225512742, 2.2305045254758773, 2.230461778706544, 0.6515705563444891, 0.39919100539801067, 0.3991830559988013, 0.3991844808911124, 0.3991780313785463, 0.39916029521898955, 0.3991534332375965, 0.39915684547971, 0.3991547456384094, 0.3991598077558305, 0.3991447338950655, 0.39913479714605377, 0.3991367844958561, 0.3991316473841029, 0.3991325098189228, 0.39912489789420813, 0.3991145486763695, 0.399115711088518, 0.399116611020504, 0.399114323693373, 0.3991137237387157, 0.6514322667959787, 2.171151611182662, 0.39960171185810683, 0.3992475886216284, 0.39912257306991106, 2.432909884493381, 2.4328968390407746, 2.4328870924382526, 2.432881844267664, 2.4328677491809394, 2.432878395469848, 3.0533175723278787, 2.3618749958867964, 1.101200017892503, 0.7105737326886475, 0.7103698787482031, 0.4354377148029572, 0.4354102368812312, 0.43537462429509255, 0.435371175497277, 0.4353688513074448, 0.43536341570219206, 0.43535374407353544, 0.43534692145176995, 0.4353461717131144, 0.4353453470005933, 0.43534455977500497, 0.4353379995617689, 0.43534189820277774, 0.43533751223164274, 0.4353342508684911, 0.43533533798954166, 0.4353284403939106, 0.4353318142178606, 0.4353235670926495, 0.71052814857839, 1.537293978940664, 2.9153017819730054, 0.7111878436214095, 0.4367886688863949, 0.4358443355627954, 0.4357233277437894, 0.43570420940807286, 23.862416766694174, 7.150515441753454, 2.2834662036621594, 2.2834282367983616, 2.283428532260337, 2.283411986389732, 2.2833951450571526, 2.2833701785202583, 2.283327484264859, 2.2832191974509923, 0.6668377340735256, 0.4086477331581674, 0.4086369487960769, 0.4086335509833635, 0.4086185193553813, 0.40860455877705876, 0.4085972830259224, 0.4085970614294411, 0.4085928510962962, 0.40859392214595586, 0.4085903766022549, 0.40858221446519327, 0.4085779671993015, 0.40856670271150153, 0.40856747829918616, 0.40856348956252253, 0.4085643390157009, 0.40855876217092124, 0.4085586513726806, 0.40855975935508715, 4.026782415732877, 5.322804800699611, 0.9263372593951879, 0.9258830604739953, 0.668314231428497, 0.6672873533341045, 0.409000071563451, 0.4087093369799717, 0.4086338095125917, 0.4086113913352325, 0.40860947083239446, 0.4085961011780221], \"Total\": [139.0, 59.0, 60.0, 25.0, 25.0, 24.0, 27.0, 18.0, 17.0, 22.0, 11.0, 11.0, 9.0, 16.0, 9.0, 12.0, 7.0, 5.0, 5.0, 3.0, 3.0, 3.0, 3.0, 3.0, 3.0, 3.0, 3.0, 3.0, 3.0, 3.0, 7.495726288888992, 17.69236734409257, 139.244371099598, 3.893650731935675, 3.893581089006471, 3.893596926325724, 3.893557267644737, 3.893499734656693, 3.8935174152901415, 3.893473331043319, 4.337346680762435, 3.982293723242206, 2.592739628207543, 2.030480699695639, 2.0304361812635126, 2.030286502683906, 2.2888301377482443, 2.578171266178406, 1.732366348906082, 1.7323311781414545, 1.7323239476172103, 1.7323197567925392, 1.7323200004948884, 1.7323074582068867, 1.7323057297289748, 1.7323076091021665, 1.7322934728700736, 1.7322904504471306, 1.7322803954137445, 1.732303074478161, 27.00845076757932, 22.481914997151684, 11.802550578664704, 16.502645638543868, 12.10026677879864, 59.53106414619941, 18.409413325975027, 60.77740381609832, 3.7394807871405256, 3.739496321604912, 3.739528183143639, 3.7395260187241766, 3.7395013430487944, 3.739513888654723, 3.7395016282595233, 3.739486628206945, 3.7394825661998348, 3.739481218481894, 22.481914997151684, 1.7136974857135794, 1.713671614158311, 1.713679421929108, 1.713660803597059, 1.7136433050025193, 1.7136568440188429, 1.713648243137956, 1.7136558436972966, 1.713644758739613, 1.7136533891511752, 1.7136351333123818, 1.7136514959063152, 1.7136451238030486, 1.7136428327788806, 1.7136358881571816, 1.713640252814076, 1.713647357320342, 16.502645638543868, 2.8000927319767683, 4.7442647161483125, 12.10026677879864, 11.802550578664704, 17.69236734409257, 9.061606827184017, 11.057686757439935, 2.5009268074300937, 2.0116120915295745, 11.057686757439935, 3.818511958396672, 3.8185024849811526, 3.8184422067521595, 3.8184481713430767, 3.5558943500030513, 22.481914997151684, 2.011994692782242, 2.011996347949161, 1.7232589875050874, 1.7232635567699193, 1.7232472885804828, 1.7232493936044724, 1.7232439538729303, 1.7232431137760884, 1.7232329231205514, 1.7232316213964363, 1.723221717591024, 1.7232369733033444, 1.7232126569363535, 1.7232133623229053, 1.7232205255816846, 1.7232119030491384, 1.7232121456721206, 1.7232109402210551, 1.7231944210391865, 1.723212213595597, 1.7232030759841435, 1.7232076257067928, 1.723200390060777, 5.315128288505243, 60.77740381609832, 139.244371099598, 12.10026677879864, 9.254384742019553, 4.337346680762435, 3.7747187364057413, 3.7746994632478876, 3.774699277204597, 3.7746804217049137, 3.7746521538629576, 3.7745558564742234, 12.10026677879864, 3.110860237001538, 16.502645638543868, 2.4035138816975037, 5.828522857576511, 2.0015219901915833, 2.0015189544454812, 1.7179489654181195, 1.7179117450936354, 1.7179188837569102, 1.7179118826177784, 1.7178986770521285, 1.717909871450816, 1.7179084777005234, 1.7179157377069365, 1.7179147401987, 1.7179028800657914, 1.717909783217334, 1.7178906789269528, 1.7178925880542648, 1.7179066671018184, 1.7179109149578404, 1.7178947048872002, 1.7178985148730783, 139.244371099598, 1.7179142950460582, 4.7442647161483125, 24.70824528076199, 11.802550578664704, 9.061606827184017, 3.6426901135706764, 3.6426886510110132, 3.6426590046942264, 3.642660856950104, 3.64263513844956, 3.6426488683581906, 3.642616461315134, 3.6425797730647163, 5.828522857576511, 2.2368901806975585, 2.5163804695931984, 2.7626915081899734, 1.7019638682592102, 1.7019521841474927, 1.7019566681784613, 1.7019392584716386, 1.7019360911593315, 1.7019256669499179, 1.7019128363518021, 1.701928940767639, 1.7019120816261484, 1.7019110543993279, 1.7019179950004872, 1.7018993390491233, 1.7019005448593418, 1.701920207247405, 1.7018903826183054, 1.7018976490397297, 12.10026677879864, 11.057686757439935, 16.502645638543868, 139.244371099598, 18.409413325975027, 60.77740381609832, 25.688792043359655, 27.00845076757932, 3.8375351009713476, 3.6163508136013744, 3.2616614409991254, 2.337924191039728, 2.4801362088784136, 1.963271446844975, 1.9631869846068806, 1.9631261853859583, 2.7626915081899734, 2.5009268074300937, 1.6988000237767122, 1.6987777117875331, 1.6987408733467313, 1.6987554431040446, 1.69876085006755, 1.698750937040221, 1.6987391998139887, 1.6987562562984981, 1.6987391544462087, 1.6987306475206148, 1.6987211490134397, 1.6987449167423954, 1.6987356418233133, 1.6987265066330273, 1.698733793188582, 1.6987199849098862, 1.6987287988724187, 1.6987312312547367, 139.244371099598, 9.061606827184017, 60.77740381609832, 2.8000927319767683, 16.502645638543868, 17.69236734409257, 4.7442647161483125, 59.53106414619941, 3.518317211780716, 3.5183273817621314, 3.518339291444541, 3.5183234038562348, 3.5183084619978384, 3.518292143266204, 3.518265328188423, 3.5182268403593953, 1.9394900428069801, 1.6868830611589187, 1.6868708149657667, 1.6868789578628658, 1.6868687538357823, 1.6868688815347834, 1.68685073928583, 1.6868659578862986, 1.6868584150965753, 1.6868843222696888, 1.6868578422680767, 1.6868385293244412, 1.686853523910632, 1.6868330702884768, 1.686848232329292, 1.686845858907796, 1.6868233517235223, 1.686832745655634, 1.6868380999691752, 1.686837130701408, 1.686838316715515, 3.2616614409991254, 139.244371099598, 9.254384742019553, 3.982293723242206, 2.4801362088784136, 3.7073298117379982, 3.707317177984768, 3.707320905393408, 3.7073179102757563, 3.707306299409442, 3.7073290155088974, 5.315128288505243, 4.7442647161483125, 2.3756000848124663, 1.9851912735450794, 2.2436178072588047, 1.709803013343275, 1.7097946405717046, 1.7097648848069726, 1.7097582796055508, 1.7097691592495343, 1.7097508562026793, 1.7097517967160785, 1.7097419700971135, 1.7097511122001563, 1.7097485144414775, 1.7097493216954422, 1.7097289942307943, 1.7097449238598172, 1.7097411626528054, 1.7097320776112446, 1.709748038972921, 1.7097292634999688, 1.7097487577004231, 1.7097289941998053, 2.8000927319767683, 16.502645638543868, 60.77740381609832, 12.10026677879864, 18.409413325975027, 17.69236734409257, 11.057686757439935, 9.254384742019553, 25.146696928158615, 9.254384742019553, 3.5677044949552754, 3.567679849017342, 3.567682795208219, 3.567670453591247, 3.5676598335041287, 3.567646608682271, 3.567624527744697, 3.5675588643389, 1.9513197128471262, 1.6928682033525404, 1.6928484598449032, 1.692851356678919, 1.6928510947091309, 1.6928429191673315, 1.6928275395847854, 1.6928288312949915, 1.6928224772588483, 1.6928309421463683, 1.6928177234494497, 1.692822751192033, 1.6928183480557037, 1.6928000390335871, 1.6928082222109444, 1.6928093583629513, 1.692815824500446, 1.6928000223992112, 1.6928095341504037, 1.692820463281995, 22.481914997151684, 139.244371099598, 16.502645638543868, 17.69236734409257, 18.409413325975027, 59.53106414619941, 12.10026677879864, 3.982293723242206, 3.5558943500030513, 3.110860237001538, 2.2436178072588047, 2.2888301377482443], \"Category\": [\"Default\", \"Default\", \"Default\", \"Default\", \"Default\", \"Default\", \"Default\", \"Default\", \"Default\", \"Default\", \"Default\", \"Default\", \"Default\", \"Default\", \"Default\", \"Default\", \"Default\", \"Default\", \"Default\", \"Default\", \"Default\", \"Default\", \"Default\", \"Default\", \"Default\", \"Default\", \"Default\", \"Default\", \"Default\", \"Default\", \"Topic1\", \"Topic1\", \"Topic1\", \"Topic1\", \"Topic1\", \"Topic1\", \"Topic1\", \"Topic1\", \"Topic1\", \"Topic1\", \"Topic1\", \"Topic1\", \"Topic1\", \"Topic1\", \"Topic1\", \"Topic1\", \"Topic1\", \"Topic1\", \"Topic1\", \"Topic1\", \"Topic1\", \"Topic1\", \"Topic1\", \"Topic1\", \"Topic1\", \"Topic1\", \"Topic1\", \"Topic1\", \"Topic1\", \"Topic1\", \"Topic1\", \"Topic1\", \"Topic1\", \"Topic1\", \"Topic1\", \"Topic1\", \"Topic2\", \"Topic2\", \"Topic2\", \"Topic2\", \"Topic2\", \"Topic2\", \"Topic2\", \"Topic2\", \"Topic2\", \"Topic2\", \"Topic2\", \"Topic2\", \"Topic2\", \"Topic2\", \"Topic2\", \"Topic2\", \"Topic2\", \"Topic2\", \"Topic2\", \"Topic2\", \"Topic2\", \"Topic2\", \"Topic2\", \"Topic2\", \"Topic2\", \"Topic2\", \"Topic2\", \"Topic2\", \"Topic2\", \"Topic2\", \"Topic2\", \"Topic2\", \"Topic2\", \"Topic2\", \"Topic2\", \"Topic2\", \"Topic2\", \"Topic2\", \"Topic2\", \"Topic2\", \"Topic3\", \"Topic3\", \"Topic3\", \"Topic3\", \"Topic3\", \"Topic3\", \"Topic3\", \"Topic3\", \"Topic3\", \"Topic3\", \"Topic3\", \"Topic3\", \"Topic3\", \"Topic3\", \"Topic3\", \"Topic3\", \"Topic3\", \"Topic3\", \"Topic3\", \"Topic3\", \"Topic3\", \"Topic3\", \"Topic3\", \"Topic3\", \"Topic3\", \"Topic3\", \"Topic3\", \"Topic3\", \"Topic3\", \"Topic3\", \"Topic3\", \"Topic3\", \"Topic3\", \"Topic3\", \"Topic3\", \"Topic3\", \"Topic4\", \"Topic4\", \"Topic4\", \"Topic4\", \"Topic4\", \"Topic4\", \"Topic4\", \"Topic4\", \"Topic4\", \"Topic4\", \"Topic4\", \"Topic4\", \"Topic4\", \"Topic4\", \"Topic4\", \"Topic4\", \"Topic4\", \"Topic4\", \"Topic4\", \"Topic4\", \"Topic4\", \"Topic4\", \"Topic4\", \"Topic4\", \"Topic4\", \"Topic4\", \"Topic4\", \"Topic4\", \"Topic4\", \"Topic4\", \"Topic4\", \"Topic4\", \"Topic4\", \"Topic5\", \"Topic5\", \"Topic5\", \"Topic5\", \"Topic5\", \"Topic5\", \"Topic5\", \"Topic5\", \"Topic5\", \"Topic5\", \"Topic5\", \"Topic5\", \"Topic5\", \"Topic5\", \"Topic5\", \"Topic5\", \"Topic5\", \"Topic5\", \"Topic5\", \"Topic5\", \"Topic5\", \"Topic5\", \"Topic5\", \"Topic5\", \"Topic5\", \"Topic5\", \"Topic5\", \"Topic5\", \"Topic5\", \"Topic5\", \"Topic5\", \"Topic5\", \"Topic5\", \"Topic5\", \"Topic5\", \"Topic5\", \"Topic5\", \"Topic6\", \"Topic6\", \"Topic6\", \"Topic6\", \"Topic6\", \"Topic6\", \"Topic6\", \"Topic6\", \"Topic6\", \"Topic6\", \"Topic6\", \"Topic6\", \"Topic6\", \"Topic6\", \"Topic6\", \"Topic6\", \"Topic6\", \"Topic6\", \"Topic6\", \"Topic6\", \"Topic6\", \"Topic6\", \"Topic6\", \"Topic6\", \"Topic6\", \"Topic6\", \"Topic6\", \"Topic6\", \"Topic6\", \"Topic6\", \"Topic6\", \"Topic6\", \"Topic6\", \"Topic6\", \"Topic6\", \"Topic6\", \"Topic6\", \"Topic7\", \"Topic7\", \"Topic7\", \"Topic7\", \"Topic7\", \"Topic7\", \"Topic7\", \"Topic7\", \"Topic7\", \"Topic7\", \"Topic7\", \"Topic7\", \"Topic7\", \"Topic7\", \"Topic7\", \"Topic7\", \"Topic7\", \"Topic7\", \"Topic7\", \"Topic7\", \"Topic7\", \"Topic7\", \"Topic7\", \"Topic7\", \"Topic7\", \"Topic7\", \"Topic7\", \"Topic7\", \"Topic7\", \"Topic7\", \"Topic7\", \"Topic7\", \"Topic7\", \"Topic7\", \"Topic7\", \"Topic8\", \"Topic8\", \"Topic8\", \"Topic8\", \"Topic8\", \"Topic8\", \"Topic8\", \"Topic8\", \"Topic8\", \"Topic8\", \"Topic8\", \"Topic8\", \"Topic8\", \"Topic8\", \"Topic8\", \"Topic8\", \"Topic8\", \"Topic8\", \"Topic8\", \"Topic8\", \"Topic8\", \"Topic8\", \"Topic8\", \"Topic8\", \"Topic8\", \"Topic8\", \"Topic8\", \"Topic8\", \"Topic8\", \"Topic8\", \"Topic8\", \"Topic8\", \"Topic8\", \"Topic8\", \"Topic8\", \"Topic8\", \"Topic8\", \"Topic8\", \"Topic9\", \"Topic9\", \"Topic9\", \"Topic9\", \"Topic9\", \"Topic9\", \"Topic9\", \"Topic9\", \"Topic9\", \"Topic9\", \"Topic9\", \"Topic9\", \"Topic9\", \"Topic9\", \"Topic9\", \"Topic9\", \"Topic9\", \"Topic9\", \"Topic9\", \"Topic9\", \"Topic9\", \"Topic9\", \"Topic9\", \"Topic9\", \"Topic9\", \"Topic9\", \"Topic9\", \"Topic9\", \"Topic9\", \"Topic9\", \"Topic9\", \"Topic9\", \"Topic9\", \"Topic9\", \"Topic9\", \"Topic9\", \"Topic9\", \"Topic9\", \"Topic9\", \"Topic9\", \"Topic9\", \"Topic9\"], \"logprob\": [30.0, 29.0, 28.0, 27.0, 26.0, 25.0, 24.0, 23.0, 22.0, 21.0, 20.0, 19.0, 18.0, 17.0, 16.0, 15.0, 14.0, 13.0, 12.0, 11.0, 10.0, 9.0, 8.0, 7.0, 6.0, 5.0, 4.0, 3.0, 2.0, 1.0, -4.8869, -4.0391, -2.0381, -5.7491, -5.7491, -5.7491, -5.7492, -5.7492, -5.7492, -5.7492, -5.7977, -5.9242, -6.6524, -6.9796, -6.9797, -6.98, -6.9799, -6.9799, -7.4696, -7.4698, -7.4698, -7.4698, -7.4698, -7.4698, -7.4698, -7.4699, -7.4699, -7.4699, -7.4699, -7.4699, -5.5688, -5.9018, -6.9791, -7.467, -7.4688, -7.4695, -3.835, -2.6426, -5.6918, -5.6918, -5.6918, -5.6918, -5.6918, -5.6918, -5.6918, -5.6918, -5.6918, -5.6918, -4.6688, -7.4123, -7.4124, -7.4124, -7.4124, -7.4125, -7.4125, -7.4125, -7.4125, -7.4125, -7.4125, -7.4125, -7.4125, -7.4125, -7.4125, -7.4125, -7.4125, -7.4125, -5.5114, -7.1505, -6.9223, -6.5945, -6.9215, -6.9216, -7.4119, -7.4119, -7.4124, -7.4124, -4.4542, -5.5838, -5.5838, -5.5838, -5.5838, -5.971, -4.3757, -6.8148, -6.8148, -7.3043, -7.3043, -7.3044, -7.3044, -7.3044, -7.3044, -7.3044, -7.3044, -7.3044, -7.3045, -7.3045, -7.3045, -7.3045, -7.3045, -7.3045, -7.3045, -7.3045, -7.3045, -7.3045, -7.3045, -7.3045, -6.3765, -6.8122, -6.8056, -7.3037, -7.3038, -7.3043, -5.6019, -5.6019, -5.6019, -5.6019, -5.6019, -5.602, -4.6487, -6.0616, -4.3938, -6.3946, -5.7552, -6.8327, -6.8327, -7.3225, -7.3226, -7.3226, -7.3226, -7.3226, -7.3226, -7.3226, -7.3226, -7.3226, -7.3226, -7.3226, -7.3226, -7.3226, -7.3226, -7.3226, -7.3226, -7.3226, -4.6631, -7.3226, -7.3223, -3.3613, -4.2781, -4.6522, -5.6551, -5.6551, -5.6551, -5.6551, -5.6551, -5.6551, -5.6551, -5.6552, -5.5743, -6.5589, -6.5586, -6.8859, -7.3756, -7.3756, -7.3757, -7.3757, -7.3757, -7.3758, -7.3758, -7.3758, -7.3758, -7.3758, -7.3758, -7.3758, -7.3758, -7.3758, -7.3759, -7.3758, -5.7035, -6.1143, -6.3113, -5.4731, -6.884, -6.8833, -3.3189, -3.3896, -5.5752, -5.6656, -6.1251, -6.4583, -6.569, -6.8962, -6.8963, -6.8964, -6.5691, -6.8964, -7.386, -7.3861, -7.3862, -7.3862, -7.3862, -7.3862, -7.3862, -7.3862, -7.3863, -7.3863, -7.3863, -7.3863, -7.3863, -7.3863, -7.3863, -7.3863, -7.3863, -7.3863, -3.8914, -6.3225, -5.1987, -7.0997, -6.8944, -7.3853, -7.3858, -2.4175, -5.6657, -5.6657, -5.6657, -5.6657, -5.6658, -5.6658, -5.6658, -5.6658, -6.8964, -7.3863, -7.3863, -7.3863, -7.3864, -7.3864, -7.3864, -7.3864, -7.3864, -7.3864, -7.3864, -7.3865, -7.3865, -7.3865, -7.3865, -7.3865, -7.3865, -7.3865, -7.3865, -7.3865, -7.3865, -6.8966, -5.6927, -7.3853, -7.3862, -7.3865, -5.5786, -5.5786, -5.5787, -5.5787, -5.5787, -5.5787, -5.3515, -5.6083, -6.3713, -6.8094, -6.8097, -7.2991, -7.2992, -7.2993, -7.2993, -7.2993, -7.2993, -7.2993, -7.2993, -7.2993, -7.2993, -7.2993, -7.2994, -7.2994, -7.2994, -7.2994, -7.2994, -7.2994, -7.2994, -7.2994, -6.8095, -6.0377, -5.3978, -6.8085, -7.296, -7.2982, -7.2985, -7.2985, -3.2805, -4.4857, -5.6271, -5.6272, -5.6272, -5.6272, -5.6272, -5.6272, -5.6272, -5.6273, -6.858, -7.3477, -7.3478, -7.3478, -7.3478, -7.3478, -7.3479, -7.3479, -7.3479, -7.3479, -7.3479, -7.3479, -7.3479, -7.3479, -7.3479, -7.3479, -7.3479, -7.348, -7.348, -7.348, -5.0599, -4.7808, -6.5294, -6.5298, -6.8558, -6.8574, -7.3469, -7.3476, -7.3478, -7.3478, -7.3478, -7.3479], \"loglift\": [30.0, 29.0, 28.0, 27.0, 26.0, 25.0, 24.0, 23.0, 22.0, 21.0, 20.0, 19.0, 18.0, 17.0, 16.0, 15.0, 14.0, 13.0, 12.0, 11.0, 10.0, 9.0, 8.0, 7.0, 6.0, 5.0, 4.0, 3.0, 2.0, 1.0, 1.8291, 1.8181, 1.7561, 1.6219, 1.6219, 1.6219, 1.6219, 1.6219, 1.6219, 1.6219, 1.4654, 1.4243, 1.1252, 1.0425, 1.0425, 1.0422, 0.9224, 0.8034, 0.7112, 0.7111, 0.7111, 0.7111, 0.7111, 0.7111, 0.7111, 0.711, 0.711, 0.711, 0.711, 0.711, -0.1345, -0.2841, -0.7171, -1.5402, -1.2317, -2.8257, 1.9826, 1.9805, 1.7196, 1.7196, 1.7196, 1.7196, 1.7196, 1.7196, 1.7196, 1.7196, 1.7196, 1.7196, 0.9488, 0.7794, 0.7793, 0.7793, 0.7793, 0.7793, 0.7793, 0.7793, 0.7793, 0.7792, 0.7792, 0.7792, 0.7792, 0.7792, 0.7792, 0.7792, 0.7792, 0.7792, 0.4155, 0.5502, 0.2511, -0.3574, -0.6594, -1.0644, -0.8856, -1.0847, 0.4013, 0.619, 1.8731, 1.8067, 1.8067, 1.8067, 1.8067, 1.4907, 1.242, 1.2165, 1.2165, 0.8818, 0.8818, 0.8818, 0.8818, 0.8818, 0.8818, 0.8818, 0.8817, 0.8817, 0.8817, 0.8817, 0.8817, 0.8817, 0.8817, 0.8817, 0.8817, 0.8817, 0.8817, 0.8817, 0.8817, 0.8817, 0.6833, -2.189, -3.0115, -1.0666, -0.7985, -0.0412, 1.8002, 1.8001, 1.8001, 1.8001, 1.8001, 1.8001, 1.5884, 1.5339, 1.5331, 1.4588, 1.2124, 1.2038, 1.2038, 0.8668, 0.8667, 0.8667, 0.8667, 0.8667, 0.8667, 0.8667, 0.8667, 0.8667, 0.8667, 0.8667, 0.8667, 0.8667, 0.8667, 0.8666, 0.8666, 0.8666, -0.8689, 0.8666, -0.1488, 2.1619, 1.984, 1.8741, 1.7826, 1.7825, 1.7825, 1.7825, 1.7825, 1.7825, 1.7825, 1.7825, 1.3933, 1.3664, 1.249, 0.8283, 0.823, 0.8229, 0.8229, 0.8229, 0.8229, 0.8228, 0.8228, 0.8228, 0.8228, 0.8228, 0.8228, 0.8228, 0.8228, 0.8228, 0.8228, 0.8228, 0.5336, 0.2129, -0.3845, -1.679, -1.0665, -2.2602, 2.1654, 2.0446, 1.8104, 1.7793, 1.423, 1.4228, 1.2531, 1.1596, 1.1595, 1.1594, 1.145, 0.9173, 0.8144, 0.8143, 0.8143, 0.8143, 0.8142, 0.8142, 0.8142, 0.8142, 0.8142, 0.8142, 0.8142, 0.8142, 0.8142, 0.8142, 0.8142, 0.8142, 0.8142, 0.8142, -0.0972, 0.2039, -0.5756, 0.601, -0.9676, -1.5281, -0.2124, 2.2264, 1.8066, 1.8066, 1.8066, 1.8066, 1.8066, 1.8066, 1.8066, 1.8066, 1.1716, 0.8212, 0.8212, 0.8212, 0.8211, 0.8211, 0.8211, 0.8211, 0.8211, 0.8211, 0.8211, 0.8211, 0.821, 0.821, 0.821, 0.821, 0.821, 0.821, 0.821, 0.821, 0.821, 0.6515, -1.8986, -0.88, -0.0377, 0.4356, 1.8414, 1.8414, 1.8414, 1.8414, 1.8414, 1.8414, 1.7083, 1.5652, 1.4938, 1.2352, 1.1126, 0.8949, 0.8948, 0.8947, 0.8947, 0.8947, 0.8947, 0.8947, 0.8947, 0.8947, 0.8947, 0.8947, 0.8947, 0.8947, 0.8947, 0.8947, 0.8947, 0.8946, 0.8946, 0.8946, 0.8912, -0.1109, -0.7746, -0.5714, -1.4785, -1.441, -0.9712, -0.7933, 2.2251, 2.0196, 1.8313, 1.8313, 1.8313, 1.8313, 1.8313, 1.8313, 1.8313, 1.8312, 1.2038, 0.8562, 0.8562, 0.8562, 0.8561, 0.8561, 0.8561, 0.8561, 0.8561, 0.8561, 0.8561, 0.8561, 0.8561, 0.856, 0.856, 0.856, 0.856, 0.856, 0.856, 0.856, 0.5578, -0.9867, -0.6025, -0.6726, -1.0383, -2.2135, -1.1097, 0.0009, 0.114, 0.2476, 0.5744, 0.5545]}, \"token.table\": {\"Topic\": [1, 2, 3, 9, 3, 2, 4, 5, 6, 8, 9, 4, 1, 2, 5, 9, 1, 3, 2, 8, 8, 8, 6, 6, 6, 6, 6, 3, 8, 8, 6, 7, 3, 5, 1, 3, 4, 5, 6, 7, 9, 5, 7, 7, 1, 2, 2, 2, 5, 1, 7, 2, 5, 1, 4, 8, 1, 3, 4, 5, 9, 7, 4, 5, 6, 4, 9, 7, 8, 9, 5, 6, 1, 7, 3, 8, 7, 1, 2, 1, 2, 5, 2, 4, 5, 8, 1, 2, 5, 9, 4, 6, 2, 6, 8, 4, 4, 6, 9, 4, 5, 9, 4, 8, 7, 1, 6, 3, 5, 1, 5, 6, 1, 5, 5, 1, 9, 1, 2, 9, 1, 2, 3, 5, 6, 8, 3, 4, 3, 2, 5, 1, 8, 2, 2, 8, 9, 2, 5, 9, 1, 9, 6, 7, 7, 9, 1, 9], \"Freq\": [0.08896039328737732, 0.3113613765058206, 0.4003217697931979, 0.17792078657475463, 0.4970187948001524, 0.18178903345007588, 0.484770755866869, 0.06059634448335863, 0.06059634448335863, 0.12119268896671725, 0.06059634448335863, 0.6429089858205067, 0.3878718272592839, 0.8691205806881727, 0.05432003629301079, 0.05432003629301079, 0.4925413229502661, 0.4970192036725367, 0.21078081848937422, 0.42156163697874843, 0.503729798395818, 0.4209462722253361, 0.5093539161928038, 0.9342595774643988, 0.40320366132319313, 0.7817518071015551, 0.5093916058194681, 0.18814221326748576, 0.5644266398024572, 0.44570871062116174, 0.30659221322911917, 0.30659221322911917, 0.7234786240094354, 0.09043482800117943, 0.7756148356097663, 0.007181618848238577, 0.043089713089431464, 0.021544856544715732, 0.10054266387534008, 0.014363237696477155, 0.03590809424119289, 0.4470492153030763, 0.5684549895503815, 0.5684525753965407, 0.7705202385953165, 0.5348313858326361, 0.534827138515898, 0.5348333531696219, 0.549055883659494, 0.770495779806107, 0.5155994503342346, 0.5348327722083565, 0.5490494711205846, 0.7704851324732436, 0.7947652990840873, 0.539473668958415, 0.7705036278597589, 0.7856594787679936, 0.41605750963823884, 0.5490491919345307, 0.5606074282310735, 0.5684500084637518, 0.49961979178868837, 0.36196585722130364, 0.36196585722130364, 0.794775221057076, 0.5605898936060036, 0.5684619587885978, 0.5394731265616638, 0.5124736830239484, 0.6621342234801594, 0.1103557039133599, 0.4925050140594489, 0.5684519326903322, 0.7856607060059974, 0.5394719464157038, 0.5684681775083312, 0.7705115144005187, 0.5348306268637354, 0.08472744881158868, 0.08472744881158868, 0.7625470393042981, 0.08264280600425604, 0.4958568360255362, 0.16528561200851208, 0.08264280600425604, 0.43690441833477517, 0.5348288733644717, 0.5490447821924492, 0.5605879543680886, 0.7947954975561737, 0.5093758301378742, 0.3571310294763112, 0.3571310294763112, 0.3571310294763112, 0.7947612019582093, 0.49962054957258645, 0.3998517657650212, 0.5605884173017561, 0.34314011437738384, 0.5147101715660758, 0.7563982042173464, 0.7947652599125579, 0.5394735623984394, 0.568453575846774, 0.11107634517123695, 0.8515853129794833, 0.562446406766355, 0.5490614137785327, 0.5022231254131825, 0.9308633510250912, 0.42772986559298026, 0.38569241165621293, 0.39739618554648115, 0.5490450026369693, 0.800456122429907, 0.5605936403938591, 0.847823228416544, 0.05652154856110293, 0.05652154856110293, 0.770515013343008, 0.8555811327075241, 0.01645348332129854, 0.01645348332129854, 0.06581393328519416, 0.049360449963895624, 0.7856483037000845, 0.7947692691411972, 0.7856463545709699, 0.5348335459248366, 0.5490530684473861, 0.7704989138329499, 0.5394718305524587, 0.5348306676551188, 0.5348336076167791, 0.5394752519689542, 0.5605845447199999, 0.5348268289607321, 0.5490509989510565, 0.560591562350723, 0.691667099912947, 0.5605971100507923, 0.5530436904732378, 0.5684576261888535, 0.9574833041790838, 0.016797952704896205, 0.4924942158523822, 0.9543996998319658], \"Term\": [\"\\uac00\\uaca9 \\uad1c\\ucc2e\\ub2e4 \\ubc30\\uc1a1\", \"\\uac00\\uaca9 \\uad1c\\ucc2e\\ub2e4 \\ubc30\\uc1a1\", \"\\uac00\\uaca9 \\uad1c\\ucc2e\\ub2e4 \\ubc30\\uc1a1\", \"\\uac00\\uaca9 \\uad1c\\ucc2e\\ub2e4 \\ubc30\\uc1a1\", \"\\uac00\\uaca9 \\uad1c\\ucc2e\\ub2e4 \\ubc30\\uc1a1 \\uafb8\\uc900\\ud558\\ub2e4\", \"\\uac00\\uaca9 \\uad1c\\ucc2e\\ub2e4 \\ubc30\\uc1a1 \\ube68\\ub974\\ub2e4\", \"\\uac00\\uaca9 \\uad1c\\ucc2e\\ub2e4 \\ubc30\\uc1a1 \\ube68\\ub974\\ub2e4\", \"\\uac00\\uaca9 \\uad1c\\ucc2e\\ub2e4 \\ubc30\\uc1a1 \\ube68\\ub974\\ub2e4\", \"\\uac00\\uaca9 \\uad1c\\ucc2e\\ub2e4 \\ubc30\\uc1a1 \\ube68\\ub974\\ub2e4\", \"\\uac00\\uaca9 \\uad1c\\ucc2e\\ub2e4 \\ubc30\\uc1a1 \\ube68\\ub974\\ub2e4\", \"\\uac00\\uaca9 \\uad1c\\ucc2e\\ub2e4 \\ubc30\\uc1a1 \\ube68\\ub974\\ub2e4\", \"\\uac00\\uaca9 \\uad1c\\ucc2e\\ub2e4 \\ubc30\\uc1a1 \\uc88b\\ub2e4\", \"\\uac00\\uaca9 \\uc2f8\\ub2e4 \\uc0ac\\ub2e4 \\ubc30\\uc1a1\", \"\\uac00\\uaca9 \\uc2f8\\ub2e4 \\uc0ac\\ub2e4 \\ubc30\\uc1a1 \\ube68\\ub974\\ub2e4\", \"\\uac00\\uaca9 \\uc2f8\\ub2e4 \\uc0ac\\ub2e4 \\ubc30\\uc1a1 \\ube68\\ub974\\ub2e4\", \"\\uac00\\uaca9 \\uc2f8\\ub2e4 \\uc0ac\\ub2e4 \\ubc30\\uc1a1 \\ube68\\ub974\\ub2e4\", \"\\uac00\\uaca9 \\uc2f8\\ub2e4 \\uc0ac\\ub2e4 \\ubc30\\uc1a1 \\ube68\\ub974\\ub2e4 \\ubc30\\uc1a1 \\ube60\\ub974\\ub2e4 \\uc88b\\ub2e4 \\ud608\\uc561 \\uc21c\\ud658 \\uc88b\\ub2e4\", \"\\uac00\\uaca9 \\uc2f8\\ub2e4 \\uc0ac\\ub2e4 \\ubc30\\uc1a1 \\ube68\\ub974\\ub2e4 \\uc2f8\\ub2e4 \\uc0ac\\ub2e4\", \"\\uac00\\uaca9 \\uc2f8\\ub2e4 \\uc0ac\\ub2e4 \\ubc30\\uc1a1 \\ube68\\ub974\\ub2e4 \\uc88b\\ub2e4\", \"\\uac00\\uaca9 \\uc2f8\\ub2e4 \\uc0ac\\ub2e4 \\ubc30\\uc1a1 \\ube68\\ub974\\ub2e4 \\uc88b\\ub2e4\", \"\\uac00\\uaca9 \\uc2f8\\ub2e4 \\uc0ac\\ub2e4 \\ubc30\\uc1a1 \\ube68\\ub974\\ub2e4 \\ud608\\uc561 \\uc21c\\ud658 \\ud655\\uc2e4\\ud558\\ub2e4 \\ub09c\\ud6c4 \\uc88b\\uc544\\uc9c0\\ub2e4\", \"\\uac10\\uc0ac\\ud558\\ub2e4 \\uc0c1\\uc138\", \"\\ub298\\ub2e4 \\ub354\\ub514\\ub2e4 \\ubc09\\ub2e4 \\uc11c\\ub2e4 \\ub298\\ub2e4 \\ub354\\ub514\\ub2e4 \\ubc09\\ub2e4 \\uc11c\\ub2e4 \\ub298\\ub2e4 \\ub354\\ub514\\ub2e4 \\ubc09\\ub2e4 \\uc11c\\ub2e4\", \"\\ubaa8\\ub974\\ub2e4 \\uafb8\\uc900\\ud558\\ub2e4\", \"\\ubbff\\ub2e4 \\uc0c1\\uc138\", \"\\ubc30\\uc1a1\", \"\\ubc30\\uc1a1 \\ub290\\ub9ac\\ub2e4 \\uc131\\ub2a5 \\uc720\\ud1b5 \\uae30\\ud55c \\uae30\\ud55c \\ub109\\ub109\\ud558\\ub2e4\", \"\\ubc30\\uc1a1 \\ube68\\ub974\\ub2e4\", \"\\ubc30\\uc1a1 \\ube68\\ub974\\ub2e4\", \"\\ubc30\\uc1a1 \\ube68\\ub974\\ub2e4 \\ub9db\\uc788\\ub2e4 \\uc720\\ud1b5 \\uae30\\ud55c \\uae30\\ud55c \\ub109\\ub109\\ud558\\ub2e4\", \"\\ubc30\\uc1a1 \\ube68\\ub974\\ub2e4 \\ub9db\\uc788\\ub2e4 \\uc720\\ud1b5 \\uae30\\ud55c \\uae30\\ud55c \\ub109\\ub109\\ud558\\ub2e4 \\uc88b\\ub2e4\", \"\\ubc30\\uc1a1 \\ube68\\ub974\\ub2e4 \\ub9db\\uc788\\ub2e4 \\uc720\\ud1b5 \\uae30\\ud55c \\uae30\\ud55c \\ub109\\ub109\\ud558\\ub2e4 \\uc88b\\ub2e4\", \"\\ubc30\\uc1a1 \\ube68\\ub974\\ub2e4 \\uc131\\ub2a5 \\uc131\\ub2a5 \\ub6f0\\uc5b4\\ub098\\ub2e4 \\uc720\\ud1b5 \\uae30\\ud55c\", \"\\ubc30\\uc1a1 \\ube68\\ub974\\ub2e4 \\uc131\\ub2a5 \\uc131\\ub2a5 \\ub6f0\\uc5b4\\ub098\\ub2e4 \\uc720\\ud1b5 \\uae30\\ud55c\", \"\\ubc30\\uc1a1 \\ube68\\ub974\\ub2e4 \\uc131\\ub2a5 \\uc131\\ub2a5 \\ub6f0\\uc5b4\\ub098\\ub2e4 \\uc720\\ud1b5 \\uae30\\ud55c \\uae30\\ud55c \\ub109\\ub109\\ud558\\ub2e4\", \"\\ubc30\\uc1a1 \\ube68\\ub974\\ub2e4 \\uc131\\ub2a5 \\uc131\\ub2a5 \\ub6f0\\uc5b4\\ub098\\ub2e4 \\uc720\\ud1b5 \\uae30\\ud55c \\uae30\\ud55c \\ub109\\ub109\\ud558\\ub2e4\", \"\\ubc30\\uc1a1 \\ube68\\ub974\\ub2e4 \\uc131\\ub2a5 \\uc131\\ub2a5 \\ub6f0\\uc5b4\\ub098\\ub2e4 \\uc720\\ud1b5 \\uae30\\ud55c \\uae30\\ud55c \\ub109\\ub109\\ud558\\ub2e4\", \"\\ubc30\\uc1a1 \\ube68\\ub974\\ub2e4 \\uc131\\ub2a5 \\uc131\\ub2a5 \\ub6f0\\uc5b4\\ub098\\ub2e4 \\uc720\\ud1b5 \\uae30\\ud55c \\uae30\\ud55c \\ub109\\ub109\\ud558\\ub2e4\", \"\\ubc30\\uc1a1 \\ube68\\ub974\\ub2e4 \\uc131\\ub2a5 \\uc131\\ub2a5 \\ub6f0\\uc5b4\\ub098\\ub2e4 \\uc720\\ud1b5 \\uae30\\ud55c \\uae30\\ud55c \\ub109\\ub109\\ud558\\ub2e4\", \"\\ubc30\\uc1a1 \\ube68\\ub974\\ub2e4 \\uc131\\ub2a5 \\uc131\\ub2a5 \\ub6f0\\uc5b4\\ub098\\ub2e4 \\uc720\\ud1b5 \\uae30\\ud55c \\uae30\\ud55c \\ub109\\ub109\\ud558\\ub2e4\", \"\\ubc30\\uc1a1 \\ube68\\ub974\\ub2e4 \\uc131\\ub2a5 \\uc131\\ub2a5 \\ub6f0\\uc5b4\\ub098\\ub2e4 \\uc720\\ud1b5 \\uae30\\ud55c \\uae30\\ud55c \\ub109\\ub109\\ud558\\ub2e4\", \"\\ubc30\\uc1a1 \\ube68\\ub974\\ub2e4 \\uc131\\ub2a5 \\uc131\\ub2a5 \\ub6f0\\uc5b4\\ub098\\ub2e4 \\uc720\\ud1b5 \\uae30\\ud55c \\uae30\\ud55c \\ub109\\ub109\\ud558\\ub2e4 1\\ub144 \\ub118\\ub2e4 \\uace0\\ud608\\uc555 \\uba39\\uae30 \\ub450\\ud1b5 \\uc790\\uc8fc \\uc0ac\\ub77c\\uc9c0\\ub2e4 \\uafb8\\uc900\\ud558\\ub2e4 \\uad6c\\ub9e4\", \"\\ubc30\\uc1a1 \\ube68\\ub974\\ub2e4 \\uc131\\ub2a5 \\uc131\\ub2a5 \\ub6f0\\uc5b4\\ub098\\ub2e4 \\uc720\\ud1b5 \\uae30\\ud55c \\uae30\\ud55c \\ub109\\ub109\\ud558\\ub2e4 60 \\uace0\\ud608\\uc555 \\ub0a8\\ud3b8 \\uafb8\\uc900\\ud558\\ub2e4 \\uc88b\\ub2e4 \\uac00\\uaca9 \\uad6c\\ub9e4 \\ubd80\\ub2f4 \\uc904\\uc5b4\\ub4e4\\ub2e4 \\uc88b\\ub2e4 \\ud655\\uc2e4\\ud558\\ub2e4 \\ud608\\ud589 \\uac1c\\uc120 \\ub3c4\\uc6c0 \\uc720\\ud1b5 \\uae30\\ud55c 24\\ub144 3\\uc6d4 20\\uc77c \\ub109\\ub109\\ud558\\ub2e4 \\uc81c\\ud488 \\ube60\\ub974\\ub2e4 \\ubcf4\\ub0b4\\ub2e4 \\uac10\\uc0ac\\ud558\\ub2e4 \\uc0c1\\uc138 \\uc0c1\\uc138 \\uc0c1\\uc138\", \"\\ubc30\\uc1a1 \\ube68\\ub974\\ub2e4 \\uc131\\ub2a5 \\uc131\\ub2a5 \\ub6f0\\uc5b4\\ub098\\ub2e4 \\uc720\\ud1b5 \\uae30\\ud55c \\uae30\\ud55c \\ub109\\ub109\\ud558\\ub2e4 60 \\ub300\\uc785 \\ud56d\\uc0c1 \\uc800\\ub9ac \\uc950\\ub2e4 \\uac83\\ud608\\ud589 \\uc88b\\ub2e4 \\uc774\\ub780 \\ud574\\ub3c4 \\ucc28\\ub3c4 \\uc9c0\\uc778 \\uc18c\\uac1c \\uc368\\ub2e4 \\uc2dc\\uc548 \\uad6c\\ub9e4 \\uc800\\ub9ac \\uc950\\ub2e4 \\ub9ac\\uac00 \\uc88b\\ub2e4 \\uc800\\uc11c 2\\ub144 \\ud608\\uc555 \\uc88b\\uc544\\uc9c0\\ub2e4 \\ub808\\uc2a4\\ud130 \\uce58\\uc218 \\uc88b\\ub2e4 \\uc800\\uc2b5 \\uc9c8\\ud658 \\uad8c\\ud558\\ub2e4 \\uad8c\\ud587 \\ub354\\ub2c8 \\uc88b\\ub2e4 \\uc0ac\\uc8fc\\ub2e4 \\ud655\\uc2e4\\ud558\\ub2e4 \\uc77c\\ubc18\\uc778 \\uacbd\\ud5d8 \\ud6c4\\uae30 \\uac00\\uaca9 \\ub9cc\\ucc2c \\uac8c\\uc880 \\ud5c8\\ub2e4 \\ub2eb\\ub2e4 \\uc0c1\\uc138\", \"\\ubc30\\uc1a1 \\ube68\\ub974\\ub2e4 \\uc131\\ub2a5 \\uc131\\ub2a5 \\ub6f0\\uc5b4\\ub098\\ub2e4 \\uc720\\ud1b5 \\uae30\\ud55c \\uae30\\ud55c \\ub109\\ub109\\ud558\\ub2e4 \\uac1c\\ubcf4 \\uc2f8\\ub2e4 \\ubb34\\uc870\\uac74 \\uc0ac\\ub2e4 \\uac00\\uaca9 \\ud658\\uac00 79000\\uc6d0 \\uac00\\uaca9 158,000\\uc6d0 139,000\\uc6d0 \\uad6c\\uc131 \\ud560\\uc778 \\uae5c\\uc9dd \\ub180\\ub798\\ub2e4 \\ubb34\\uc870\\uac74 \\uc635\\uc158 \\uad6c\\ub9e4 20 \\ub300\\ub2e4 \\ud6c4\\ubc18 \\uc9c1\\uc7a5 \\uc778\\uad6c \\ub4dc\\ub9ac\\ub2e4 \\uad6c\\ub9e4 \\uc774\\uc608 50 \\ub300\\ub2e4 \\ud6c4\\ubc18 \\uac00\\uc815 \\uc8fc\\ubd80 \\ubc31\\ub0b4\\uc7a5 \\uc218\\uc220 \\uc608\\uc57d \\ud608\\uc555 \\ub192\\ub2e4 \\uc218\\uc220 \\uc548\\ub418\\ub2e4 \\ubcd1\\uc6d0 \\uace0\\ud608\\uc555 \\ud608\\uc555 \\uc870\\uc808 \\uc218\\uc220 \\uace0\\ud608\\uc555 \\uc57c\\ud558\\ub2e4 \\ubd80\\uc791\\uc6a9 \\uc548\\ub418\\ub2e4 \\uace0\\ud608\\uc555 \\uc591\\uc81c \\uac80\\uc0c9 \\ud574\\ubcf4\\ub2e4 \\uc368\\ub2e4 \\uc548\\uc774 \\ud6c4\\uae30 \\uace0\\ud608\\uc555 \\ud658\\uc790 \\uac70\\ub098 \\uace0\\ud608\\uc555 \\uacbd\\uacc4 \\ub2e8\\uacc4 \\uad00\\ub9ac \\uc774\\uc57c\\uae30 \\ub9ce\\ub2e4 \\uad6c\\ub9e4 \\uc368\\ub2e4 \\uc2dc\\uc548 \\uc2dd\\uc0ac \\ud655\\uc2e4\\ud558\\ub2e4 \\uace0\\ud608\\uc555 \\ud608\\uc555 \\uace0\\ud608\\uc555 1\\uc6d4 165/110 \\uace0\\ud608\\uc555 \\ubcf5\\uc6a9 3\\uc6d4 145/103 \\uc368\\ub2e4 \\uc2dc\\uc548 \\ubcf5\\uc6a9 5\\uc6d4 135/92 \\uace0\\ud608\\uc555 \\uc57d\\uacfc \\ubcf5\\uc6a9 \\ub5a8\\uc5b4\\uc9c0\\ub2e4 \\ud608\\uc555 \\uace0\\ud608\\uc555 \\ub04a\\ub2e4 \\uae30\\ub300 \\ud574\\ubcf4\\ub2e4 \\uc88b\\ub2e4 \\ud608\\uc555 \\uac00\\uc871 \\uac71\\uc815 \\uad00\\ub9ac \\uc88b\\uc544\\uc9c0\\ub2e4 \\ud76c\\ub9dd\\uc774 \\ubcf4\\uc774\\ub2e4 \\uac10\\uc0ac\\ud558\\ub2e4 \\uc0c1\\uc138 \\uc0c1\\uc138 \\uc0c1\\uc138 \\uc0c1\\uc138\", \"\\ubc30\\uc1a1 \\ube68\\ub974\\ub2e4 \\uc131\\ub2a5 \\uc131\\ub2a5 \\ub6f0\\uc5b4\\ub098\\ub2e4 \\uc720\\ud1b5 \\uae30\\ud55c \\uae30\\ud55c \\ub109\\ub109\\ud558\\ub2e4 \\uac74\\uac15\\uac80\\uc9c4 \\ucf5c\\ub808\\uc2a4\\ud14c\\ub864 \\uc218\\uce58 \\uace0\\uc9c0\\ud608\\uc99d \\ub192\\ub2e4 \\uae5c\\ub180 \\uc54c\\uc544\\ubcf4\\ub2e4 \\ud6c4\\uae30 \\uc88b\\ub2e4 \\uad6c\\ub9e4 \\uaca8\\uc6b8 \\uc190\\ubc1c \\ucc28\\ub2e4 \\ub450\\ub8e8 \\ub450\\ub8e8 \\uc88b\\ub2e4 \\uae30\\ub300\\ud558\\ub2e4 \\ud6c4\\uae30 \\uc62c\\ub9ac\\ub2e4\", \"\\ubc30\\uc1a1 \\ube68\\ub974\\ub2e4 \\uc131\\ub2a5 \\uc131\\ub2a5 \\ub6f0\\uc5b4\\ub098\\ub2e4 \\uc720\\ud1b5 \\uae30\\ud55c \\uae30\\ud55c \\ub109\\ub109\\ud558\\ub2e4 \\uace0\\uc9c0\\ud608\\uc99d \\uad6c\\uc785 \\ubcf5\\uc6a9\", \"\\ubc30\\uc1a1 \\ube68\\ub974\\ub2e4 \\uc131\\ub2a5 \\uc131\\ub2a5 \\ub6f0\\uc5b4\\ub098\\ub2e4 \\uc720\\ud1b5 \\uae30\\ud55c \\uae30\\ud55c \\ub109\\ub109\\ud558\\ub2e4 \\uace0\\ud608\\uc555 \\uac00\\uc871 \\ud608\\uad00 \\uac74\\uac15 \\uac71\\uc815 \\ub3fc\\ub2e4 \\ud608\\uad00 \\uc88b\\ub2e4 \\uc624\\uba54\\uac00 \\uc54c\\uc544\\ubcf4\\ub2e4 \\uc0dd\\uc120 \\ub9cc\\ub4e4\\ub2e4 \\ub3d9\\ubb3c\\uc131 \\uc624\\uba54\\uac00 \\ub298\\ub2e4 \\uc911\\uae08\\uc18d \\uc704\\ud5d8 \\ud574\\uc870\\ub958 \\uc624\\uba54\\uac00 \\uad6c\\ub9e4 \\uc784\\uc0b0\\ubd80 \\uc18c\\ub9ac \\ubbff\\ub2e4 \\uad6c\\ub9e4 \\uc624\\uba54\\uac00 \\ub298\\ub2e4 \\ud608\\uad00 \\uc911\\uc131 \\uc9c0\\ubc29 \\ub179\\uc774\\ub2e4 \\ud608\\uad00 \\uccad\\uc18c \\ud574\\uc8fc\\ub2e4 \\ud608\\uc561 \\uc21c\\ud658 \\ub3c4\\uc640\\uc8fc\\ub2e4 \\ubd88\\uaddc\\uce59\\ud558\\ub2e4 \\uc2b5\\uad00 \\uc911\\uc131 \\uc9c0\\ubc29 \\uac71\\uc815 \\ud544\\uc694\\ud558\\ub2e4 \\uc591\\uc81c \\ub365\\ub2e4 \\ucf54\\uc5d4\\uc790\\uc784 \\ud050\\ud150 \\ud765\\uad6d \\ucf54\\uc5d4\\uc790\\uc784 \\ud050\\ud150 \\ubcc4\\uba85 \\uc2ec\\uc7a5 \\ube44\\ud0c0\\ubbfc \\uc2ec\\uc7a5 \\ud38c\\ud54c \\ub3c4\\uc640\\uc8fc\\ub2e4 \\ud608\\uc561 \\uc21c\\ud658 \\uc88b\\ub2e4 \\ub3c4\\uc640\\uc8fc\\ub2e4 \\ub300\\uc694 \\ud765\\uad6d \\uc88b\\ub2e4 \\ucf5c\\ub808\\uc2a4\\ud2b8\\ub864 \\ub192\\uc774\\ub2e4 \\ub098\\uc058\\ub2e4 \\ucf5c\\ub808\\uc2a4\\ud14c\\ub864 \\ub0ae\\ucd94\\ub2e4 \\ud608\\uad00 \\ub354\\uc6b1 \\uad00\\ub9ac \\uc88b\\ub2e4 \\uc591\\uc81c \\uba39\\uae30 \\uac00\\uaca9 \\ubd80\\ub2f4 \\uac2f\\uc218 \\ub9ce\\uc544\\uc9c0\\ub2e4 \\uba39\\uae30 \\uc26c\\ub2e4 \\uc368\\ub2e4 \\uc2dc\\uc548 \\ubaa8\\ub4e0 \\uc88b\\ub2e4 \\ub2e4\\uac00 \\uba74\\uc5ed \\uc88b\\ub2e4 \\ud608\\uad00 \\uc810\\ub9c9 \\uc88b\\ub2e4 \\uc62c\\uc778\\uc6d0 \\ud608\\uad00 \\uad00\\ub9ac\\uc81c \\ub044\\ub2e4 \\ub2eb\\ub2e4 \\uc0c1\\uc138 \\uc0c1\\uc138 \\uc0c1\\uc138\", \"\\ubc30\\uc1a1 \\ube68\\ub974\\ub2e4 \\uc131\\ub2a5 \\uc131\\ub2a5 \\ub6f0\\uc5b4\\ub098\\ub2e4 \\uc720\\ud1b5 \\uae30\\ud55c \\uae30\\ud55c \\ub109\\ub109\\ud558\\ub2e4 \\uad6c\\ub9e4 \\uac00\\ubfd0\\ud558\\ub2e4 \\ub118\\uce58\\ub2e4 \\uc801\\uadf9 \\uc7a5\\ud558\\ub2e4 \\uc88b\\ub2e4 \\ud608\\ud589 \\uac1c\\uc120 \\ud1a1\\ud1a1\\ud558\\ub2e4 \\uc0c1\\uc138 \\uc0c1\\uc138 \\uc0c1\\uc138 \\uc0c1\\uc138\", \"\\ubc30\\uc1a1 \\ube68\\ub974\\ub2e4 \\uc131\\ub2a5 \\uc131\\ub2a5 \\ub6f0\\uc5b4\\ub098\\ub2e4 \\uc720\\ud1b5 \\uae30\\ud55c \\uae30\\ud55c \\ub109\\ub109\\ud558\\ub2e4 \\uad6c\\ub9e4 \\uad6c\\ub9e4\", \"\\ubc30\\uc1a1 \\ube68\\ub974\\ub2e4 \\uc131\\ub2a5 \\uc131\\ub2a5 \\ub6f0\\uc5b4\\ub098\\ub2e4 \\uc720\\ud1b5 \\uae30\\ud55c \\uae30\\ud55c \\ub109\\ub109\\ud558\\ub2e4 \\uad6c\\uc785 \\uc81c\\ud488 \\uac31\\ub144\\uae30 \\ub3c4\\uc6c0 \\uc0c1\\uc138\", \"\\ubc30\\uc1a1 \\ube68\\ub974\\ub2e4 \\uc131\\ub2a5 \\uc131\\ub2a5 \\ub6f0\\uc5b4\\ub098\\ub2e4 \\uc720\\ud1b5 \\uae30\\ud55c \\uae30\\ud55c \\ub109\\ub109\\ud558\\ub2e4 \\uae30\\ubd84 \\uc5c5\\ub2e4 \\uc0c1\\ucf8c\\ud558\\ub2e4 \\ud53c\\ub85c \\uc88b\\ub2e4 \\ud798\\ucc28\\ub2e4 \\ubcf4\\ub0b4\\ub2e4 \\uc0c1\\uc138 \\uc0c1\\uc138 \\uc0c1\\uc138\", \"\\ubc30\\uc1a1 \\ube68\\ub974\\ub2e4 \\uc131\\ub2a5 \\uc131\\ub2a5 \\ub6f0\\uc5b4\\ub098\\ub2e4 \\uc720\\ud1b5 \\uae30\\ud55c \\uae30\\ud55c \\ub109\\ub109\\ud558\\ub2e4 \\uafb8\\uc900\\ud558\\ub2e4 \\ubcf5\\uc6a9 \\ud574\\ubcf4\\ub2e4 \\uac00\\uaca9 \\uc800\\ub834\", \"\\ubc30\\uc1a1 \\ube68\\ub974\\ub2e4 \\uc131\\ub2a5 \\uc131\\ub2a5 \\ub6f0\\uc5b4\\ub098\\ub2e4 \\uc720\\ud1b5 \\uae30\\ud55c \\uae30\\ud55c \\ub109\\ub109\\ud558\\ub2e4 \\uafb8\\uc900\\ud558\\ub2e4 \\ubcf5\\uc6a9 \\ud608\\uc555 \\uc548\\uc815 \\ub0ae\\uc544\\uc9c0\\ub2e4\", \"\\ubc30\\uc1a1 \\ube68\\ub974\\ub2e4 \\uc131\\ub2a5 \\uc131\\ub2a5 \\ub6f0\\uc5b4\\ub098\\ub2e4 \\uc720\\ud1b5 \\uae30\\ud55c \\uae30\\ud55c \\ub109\\ub109\\ud558\\ub2e4 \\ub3d9\\ubb3c\\uc131 \\uc624\\uba54\\uac00 \\uc911\\uae08\\uc18d \\ud574\\uc870\\ub958 \\uc624\\uba54\\uac00 \\uad6c\\ub9e4 \\uc5ed\\uc2dc \\uc2dd\\ubb3c\\uc131 \\uadf8\\ub807\\ub2e4 \\ube44\\ub9ac\\ub2e4 \\uba39\\uae30 \\uc88b\\ub2e4 \\ud608\\uc561 \\uc21c\\ud658 \\uace0\\uc9c0\\ud608\\uc99d \\ucf5c\\ub808\\uc2a4\\ud14c\\ub864 \\uc218\\uce58 \\uc88b\\uc544\\uc9c0\\ub2e4 \\uc2e0\\uae30\\ud558\\ub2e4 \\uafb8\\uc900\\ud558\\ub2e4 \\ud608\\uc555 \\ub192\\ub2e4 \\ubd84\\ud558\\ub2e4 \\uc88b\\ub2e4 \\ub2eb\\ub2e4 \\uc0c1\\uc138 \\uc0c1\\uc138 \\uc0c1\\uc138\", \"\\ubc30\\uc1a1 \\ube68\\ub974\\ub2e4 \\uc131\\ub2a5 \\uc131\\ub2a5 \\ub6f0\\uc5b4\\ub098\\ub2e4 \\uc720\\ud1b5 \\uae30\\ud55c \\uae30\\ud55c \\ub109\\ub109\\ud558\\ub2e4 \\ub450\\ubc88\\uc9f8 \\uad6c\\ub9e4 \\uafb8\\uc900\\ud558\\ub2e4 \\uc0ac\\ub2e4 \\uc0c1\\uc138\", \"\\ubc30\\uc1a1 \\ube68\\ub974\\ub2e4 \\uc131\\ub2a5 \\uc131\\ub2a5 \\ub6f0\\uc5b4\\ub098\\ub2e4 \\uc720\\ud1b5 \\uae30\\ud55c \\uae30\\ud55c \\ub109\\ub109\\ud558\\ub2e4 \\ub450\\ubc88\\uc9f8 \\uad6c\\uc785 \\ud648\\uc1fc\\ud551 \\uc81c\\ud488 \\ube44\\uc2f8\\ub2e4 \\uc88b\\ub2e4 \\uba39\\uae30 \\ud608\\ud589 \\uac1c\\uc120 \\ud6a8\\ub2a5 240 \\ucf5c\\ub808\\uc2a4\\ud14c\\ub864 190 \\ub5a8\\uc5b4\\uc9c0\\ub2e4 \\uc0c1\\uc138\", \"\\ubc30\\uc1a1 \\ube68\\ub974\\ub2e4 \\uc131\\ub2a5 \\uc131\\ub2a5 \\ub6f0\\uc5b4\\ub098\\ub2e4 \\uc720\\ud1b5 \\uae30\\ud55c \\uae30\\ud55c \\ub109\\ub109\\ud558\\ub2e4 \\ub9d1\\ub2e4 \\uae30\\ubd84 \\uc88b\\ub2e4 \\uae30\\ub300\\ud558\\ub2e4 \\uc0c1\\uc138\", \"\\ubc30\\uc1a1 \\ube68\\ub974\\ub2e4 \\uc131\\ub2a5 \\uc131\\ub2a5 \\ub6f0\\uc5b4\\ub098\\ub2e4 \\uc720\\ud1b5 \\uae30\\ud55c \\uae30\\ud55c \\ub109\\ub109\\ud558\\ub2e4 \\ubc30\\uc1a1 \\ube60\\ub974\\ub2e4 \\uc88b\\ub2e4\", \"\\ubc30\\uc1a1 \\ube68\\ub974\\ub2e4 \\uc131\\ub2a5 \\uc131\\ub2a5 \\ub6f0\\uc5b4\\ub098\\ub2e4 \\uc720\\ud1b5 \\uae30\\ud55c \\uae30\\ud55c \\ub109\\ub109\\ud558\\ub2e4 \\ubcf5\\uc6a9 \\uc9c0\\ub098\\ub2e4 \\uc88b\\uc544\\uc9c0\\ub2e4 \\uae30\\ubd84 \\uafb8\\uc900\\ud558\\ub2e4 \\ubcf5\\uc6a9\", \"\\ubc30\\uc1a1 \\ube68\\ub974\\ub2e4 \\uc131\\ub2a5 \\uc131\\ub2a5 \\ub6f0\\uc5b4\\ub098\\ub2e4 \\uc720\\ud1b5 \\uae30\\ud55c \\uae30\\ud55c \\ub109\\ub109\\ud558\\ub2e4 \\ubd80\\ubaa8\\ub2d8 \\ub4dc\\ub9ac\\ub2e4 \\ud544\\uc694 \\uad6c\\uc131 \\uc88b\\ub2e4\", \"\\ubc30\\uc1a1 \\ube68\\ub974\\ub2e4 \\uc131\\ub2a5 \\uc131\\ub2a5 \\ub6f0\\uc5b4\\ub098\\ub2e4 \\uc720\\ud1b5 \\uae30\\ud55c \\uae30\\ud55c \\ub109\\ub109\\ud558\\ub2e4 \\ubd80\\ubaa8\\ub2d8 \\uc190\\ubc1c \\uc800\\ub9ac\\ub2e4 \\uad6c\\ub9e4 \\ube44\\uc2f8\\ub2e4 \\uc0b4\\ub2e4 \\uc2f8\\ub2e4 \\uc0ac\\ub2e4 \\uc0ac\\ub974\\ub2e4\", \"\\ubc30\\uc1a1 \\ube68\\ub974\\ub2e4 \\uc131\\ub2a5 \\uc131\\ub2a5 \\ub6f0\\uc5b4\\ub098\\ub2e4 \\uc720\\ud1b5 \\uae30\\ud55c \\uae30\\ud55c \\ub109\\ub109\\ud558\\ub2e4 \\ube60\\ub974\\ub2e4 \\ubc30\\uc1a1 \\uac10\\uc0ac\\ud558\\ub2e4\", \"\\ubc30\\uc1a1 \\ube68\\ub974\\ub2e4 \\uc131\\ub2a5 \\uc131\\ub2a5 \\ub6f0\\uc5b4\\ub098\\ub2e4 \\uc720\\ud1b5 \\uae30\\ud55c \\uae30\\ud55c \\ub109\\ub109\\ud558\\ub2e4 \\uc0c1\\uc138\", \"\\ubc30\\uc1a1 \\ube68\\ub974\\ub2e4 \\uc131\\ub2a5 \\uc131\\ub2a5 \\ub6f0\\uc5b4\\ub098\\ub2e4 \\uc720\\ud1b5 \\uae30\\ud55c \\uae30\\ud55c \\ub109\\ub109\\ud558\\ub2e4 \\uc0c1\\uc138\", \"\\ubc30\\uc1a1 \\ube68\\ub974\\ub2e4 \\uc131\\ub2a5 \\uc131\\ub2a5 \\ub6f0\\uc5b4\\ub098\\ub2e4 \\uc720\\ud1b5 \\uae30\\ud55c \\uae30\\ud55c \\ub109\\ub109\\ud558\\ub2e4 \\uc138\\ubc88 \\uad6c\\ub9e4 \\uc9c0\\uc18d \\ubcf5\\uc6a9 \\uc0c1\\uc138\", \"\\ubc30\\uc1a1 \\ube68\\ub974\\ub2e4 \\uc131\\ub2a5 \\uc131\\ub2a5 \\ub6f0\\uc5b4\\ub098\\ub2e4 \\uc720\\ud1b5 \\uae30\\ud55c \\uae30\\ud55c \\ub109\\ub109\\ud558\\ub2e4 \\uc190\\ubc1c \\uc800\\ub9bc \\uafb8\\uc900\\ud558\\ub2e4 \\uad1c\\ucc2e\\ub2e4 \\uc7ac\\ub2e4\", \"\\ubc30\\uc1a1 \\ube68\\ub974\\ub2e4 \\uc131\\ub2a5 \\uc131\\ub2a5 \\ub6f0\\uc5b4\\ub098\\ub2e4 \\uc720\\ud1b5 \\uae30\\ud55c \\uae30\\ud55c \\ub109\\ub109\\ud558\\ub2e4 \\uc544\\ub4e4 \\uc190\\ubc1c \\ucc28\\uac11\\ub2e4 \\ub2e4\\ud574 \\uc368\\ub2e4 \\uc548\\uc774 \\uc88b\\uc544\\ud558\\ub2e4 \\uc0bf\\uc5b4 \\uc88b\\ub2e4 \\uc88b\\ub2e4 \\uc0c1\\uc138\", \"\\ubc30\\uc1a1 \\ube68\\ub974\\ub2e4 \\uc131\\ub2a5 \\uc131\\ub2a5 \\ub6f0\\uc5b4\\ub098\\ub2e4 \\uc720\\ud1b5 \\uae30\\ud55c \\uae30\\ud55c \\ub109\\ub109\\ud558\\ub2e4 \\uc778\\ud130\\ub137 \\ube14\\ub85c\\uadf8 \\uc62c\\ub77c\\uc624\\ub2e4 \\ubcf4\\uad6c \\uad6c\\ub9e4 \\uc54c\\ub2e4 \\uc0c1\\uc138\", \"\\ubc30\\uc1a1 \\ube68\\ub974\\ub2e4 \\uc131\\ub2a5 \\uc131\\ub2a5 \\ub6f0\\uc5b4\\ub098\\ub2e4 \\uc720\\ud1b5 \\uae30\\ud55c \\uae30\\ud55c \\ub109\\ub109\\ud558\\ub2e4 \\uc81c\\ud488 \\ub5a8\\uc5b4\\uc9c0\\ub2e4 \\uad6c\\uc785 \\uc0c1\\uc138\", \"\\ubc30\\uc1a1 \\ube68\\ub974\\ub2e4 \\uc131\\ub2a5 \\uc131\\ub2a5 \\ub6f0\\uc5b4\\ub098\\ub2e4 \\uc720\\ud1b5 \\uae30\\ud55c \\uae30\\ud55c \\ub109\\ub109\\ud558\\ub2e4 \\uc88b\\ub2e4\", \"\\ubc30\\uc1a1 \\ube68\\ub974\\ub2e4 \\uc131\\ub2a5 \\uc131\\ub2a5 \\ub6f0\\uc5b4\\ub098\\ub2e4 \\uc720\\ud1b5 \\uae30\\ud55c \\uae30\\ud55c \\ub109\\ub109\\ud558\\ub2e4 \\uc88b\\ub2e4\", \"\\ubc30\\uc1a1 \\ube68\\ub974\\ub2e4 \\uc131\\ub2a5 \\uc131\\ub2a5 \\ub6f0\\uc5b4\\ub098\\ub2e4 \\uc720\\ud1b5 \\uae30\\ud55c \\uae30\\ud55c \\ub109\\ub109\\ud558\\ub2e4 \\uc88b\\ub2e4 \\uad6c\\ub9e4\", \"\\ubc30\\uc1a1 \\ube68\\ub974\\ub2e4 \\uc131\\ub2a5 \\uc131\\ub2a5 \\ub6f0\\uc5b4\\ub098\\ub2e4 \\uc720\\ud1b5 \\uae30\\ud55c \\uae30\\ud55c \\ub109\\ub109\\ud558\\ub2e4 \\uc911\\uc131 \\uc9c0\\uc9c8 \\ucf5c\\ub808\\uc2a4\\ud14c\\ub864 \\ub192\\ub2e4 \\uc2ec\\ud558\\ub2e4 \\uac74\\uac15\\uac80\\uc9c4 \\uc8fc\\uc758 \\ud558\\ub798 \\uac31\\ub144\\uae30 \\uc624\\ub2c8 \\ud608\\uad00 \\uc9c8\\ud658 \\uc0dd\\uae30 \\ud608\\uc555 \\uc815\\uc0c1 \\uac80\\uc9c4 \\uacbd\\uacc4 \\ud608\\uc555 \\uae5c\\ub180 \\ub808\\uc2a4 \\ud2b8\\ub864 \\uc218\\uce58 \\ub192\\ub2e4 \\ub180\\ub798\\ub2e4 \\uc0ac\\uc774 \\uac31\\ub144\\uae30 \\uc811\\ub2e4 \\ub298\\ub2e4 \\ub3c4\\ud574 \\uc758\\uc0ac \\uac31\\ub144\\uae30 \\uadf8\\ub807\\ub2e4 \\ud608\\uad00 \\uc9c8\\ud658 \\ubc1c\\uc0dd \\uc6b4\\ub3d9 \\ud558\\ub77c \\uc6b4\\ub3d9 \\uc548\\ud574 \\uc815\\uc0c1 \\uc815\\ub9d0 \\ub180\\ub798\\ub2e4 \\uc6b4\\ub3d9 \\uac74\\uac15 \\ubcf4\\uc870 \\uc2dd\\ud488 \\ub178\\ub9ac\\ub2e4 \\ub098\\uc774 \\uc11c\\ub7fd\\ub2e4 \\uc624\\uc2ed \\ubaa8\\ub85c \\ud798\\ub4dc\\ub2e4 \\uc0c1\\uc138\", \"\\ubc30\\uc1a1 \\ube68\\ub974\\ub2e4 \\uc131\\ub2a5 \\uc131\\ub2a5 \\ub6f0\\uc5b4\\ub098\\ub2e4 \\uc720\\ud1b5 \\uae30\\ud55c \\uae30\\ud55c \\ub109\\ub109\\ud558\\ub2e4 \\ucf5c\\ub808\\uc2a4\\ud14c\\ub864 \\uce58\\uac00 \\ub192\\ub2e4 \\ub3c4\\uc6c0 \\ud6c4\\uae30 \\uad6c\\ub9e4 \\ud6c4\\uae30 \\ub2e4\\uc2dc \\uc62c\\ub9ac\\ub2e4\", \"\\ubc30\\uc1a1 \\ube68\\ub974\\ub2e4 \\uc131\\ub2a5 \\uc131\\ub2a5 \\ub6f0\\uc5b4\\ub098\\ub2e4 \\uc720\\ud1b5 \\uae30\\ud55c \\uae30\\ud55c \\ub109\\ub109\\ud558\\ub2e4 \\ud3ec\\uc7a5 \\ud2bc\\ud2bc\\ud558\\ub2e4 \\ud574\\uc8fc\\ub2e4 \\uc0c1\\uc138\", \"\\ubc30\\uc1a1 \\ube68\\ub974\\ub2e4 \\uc131\\ub2a5 \\uc131\\ub2a5 \\ub6f0\\uc5b4\\ub098\\ub2e4 \\uc720\\ud1b5 \\uae30\\ud55c \\uae30\\ud55c \\ub109\\ub109\\ud558\\ub2e4 \\ud608\\uc561 \\uac80\\uc0ac \\ub2e8\\uacc4 \\uc544\\ub2c8\\ub2e4 \\uad00\\ub9ac \\uac80\\uc0c9 \\uc8fc\\ubb38 \\ud06c\\uae30 \\ucee4\\uc11c \\uba38\\uae30 \\ubd88\\ud3b8\\ud558\\ub2e4 \\uafb8\\uc900\\ud558\\ub2e4 \\ub2e4\\uc2dc \\ud608\\uac80 \\ucf5c\\ub808\\uc2a4\\ud14c\\ub864 \\uc218\\uce58 \\uc218\\uce58 30 \\ub5a8\\uc5b4\\uc9c0\\ub2e4 \\uc7ac\\ub2e4 \\uc0c1\\uc138\", \"\\ubc30\\uc1a1 \\ube68\\ub974\\ub2e4 \\uc131\\ub2a5 \\uc131\\ub2a5 \\ub6f0\\uc5b4\\ub098\\ub2e4 \\uc720\\ud1b5 \\uae30\\ud55c \\uae30\\ud55c \\ub109\\ub109\\ud558\\ub2e4 \\ud608\\uc804 \\uc548\\uc2ec \\ub3fc\\ub2e4 \\ucf54\\ub85c\\ub098 \\ubc31\\uc2e0 \\ubd80\\uc791\\uc6a9 \\ud608\\uc804 \\ub365\\ub2e4 \\ud608\\uc804 \\uc0dd\\uae30 \\ud608\\uad00 \\uc881\\ub2e4 \\uc2ec\\ud558\\ub2e4 \\ud608\\uad00 \\uc544\\uc608 \\ub9c9\\ub2e4 \\ubc84\\ub9ac\\ub2e4 \\ud608\\uc561 \\ud750\\ub984 \\uba48\\ucd94\\ub2e4 \\ub300\\uc694 \\uc911\\uc131 \\uc9c0\\ubc29 \\uc218\\uce58 \\ub192\\ub2e4 \\ucf5c\\ub808\\uc2a4\\ud14c\\ub864 \\uc218\\uce58 \\ub192\\ub2e4 \\ud608\\uc804 \\uc0dd\\uae30\\ub2e4 \\uc26c\\ub2e4 \\uc704\\ud5d8\\ud558\\ub2e4 \\uc2b5\\uad00 \\uc778\\uc9c0 \\uac00\\uc871 \\ucf5c\\ub808\\uc2a4\\ud14c\\ub864 \\ub192\\ub2e4 \\uc2dd\\ub2e8 \\uc870\\uc808 \\ubc31\\uc2e0 \\ubd80\\uc791\\uc6a9 \\ud608\\uc804 \\ud558\\ub2c8 \\ubd88\\uc548\\ud558\\ub2e4 \\ucee4\\uc9c0\\ub2e4 \\uac00\\uc871 4\\ubd84 \\ubc31\\uc2e0 \\ub9de\\ub2e4 \\uad00\\ub9ac \\uc2dc\\uc791 \\ud608\\uad00 \\uc591\\uc81c \\uad6c\\ub9e4 \\ud608\\uad00 \\uc591\\uc81c \\uace0\\ub974\\ub2e4 \\uc81c\\ud488 \\uae30\\uc5b5 \\uac1c\\uc120 \\uc815\\ub9e5 \\uc21c\\ud658 \\ucd08\\uc810 \\ub9de\\ucd94\\ub2e4 \\uc368\\ub2e4 \\uc2dc\\uc548 \\ud608\\uad00 \\uac74\\uac15 \\ucd08\\uc810 \\ub9de\\ucd94\\ub2e4 \\ucf5c\\ub808\\uc2a4\\ud14c\\ub864 \\ud608\\ud589 \\uad00\\ub9ac \\uc911\\uc810 \\uad00\\ub9ac \\ud574\\uc8fc\\ub2e4 \\uad6c\\ub9e4 \\uc624\\uba54\\uac00 \\ub3d9\\ubb3c\\uc131 \\uc544\\ub2c8\\ub2e4 \\ud574\\uc870\\ub958 \\ub9cc\\ub4e4\\ub2e4 \\uc2dd\\ubb3c\\uc131 \\uac74\\uac15 \\uc81c\\ud488 \\ud655\\uc2e4\\ud558\\ub2e4 \\ub2e4\\ub974\\ub2e4 \\ub290\\uaef4\\uc9c0\\ub2e4 \\ucc28\\uc11c \\ub450\\uaecd\\ub2e4 \\uc591\\ub9d0 \\uc2e0\\ub2e4 \\ud608\\uc561 \\uc21c\\ud658 \\ub3fc\\ub2e4 \\uadf8\\ub807\\ub2e4 \\ub365\\ub2e4 \\uc591\\ub9d0 \\ubc97\\ub2e4 \\ubc84\\ub9ac\\ub2e4 \\uc313\\uc774\\ub2e4 \\ucf5c\\ub808\\uc2a4\\ud14c\\ub864 \\ud608\\uc804 \\uc21c\\ud658 \\uc88b\\ub2e4 \\uc81c\\ud488 \\uac10\\uc0ac\\ud558\\ub2e4 \\ub2eb\\ub2e4 \\uc0c1\\uc138 \\uc0c1\\uc138 \\uc0c1\\uc138 \\uc0c1\\uc138\", \"\\ubc30\\uc1a1 \\ube68\\ub974\\ub2e4 \\uc131\\ub2a5 \\uc131\\ub2a5 \\ubcc4\\ub85c \\uc720\\ud1b5 \\uae30\\ud55c \\uc720\\ud29c\\ube0c \\ucc3e\\uc544\\ubcf4\\ub2e4 \\ub9e4\\ub2e4 \\ucf5c\\ub808\\uc2a4\\ud14c\\ub864 \\ub5a8\\uc5b4\\uc9c0\\ub2e4 \\uc88b\\ub2e4 \\uaca0\\ub2e4 \\uc0c1\\uc138\", \"\\ubc30\\uc1a1 \\ube68\\ub974\\ub2e4 \\uc131\\ub2a5 \\uc720\\ud1b5 \\uae30\\ud55c\", \"\\ubc30\\uc1a1 \\ube68\\ub974\\ub2e4 \\uc131\\ub2a5 \\uc720\\ud1b5 \\uae30\\ud55c\", \"\\ubc30\\uc1a1 \\ube68\\ub974\\ub2e4 \\uc131\\ub2a5 \\uc720\\ud1b5 \\uae30\\ud55c\", \"\\ubc30\\uc1a1 \\ube68\\ub974\\ub2e4 \\uc131\\ub2a5 \\uc720\\ud1b5 \\uae30\\ud55c \\uae30\\ud55c \\ub109\\ub109\\ud558\\ub2e4\", \"\\ubc30\\uc1a1 \\ube68\\ub974\\ub2e4 \\uc131\\ub2a5 \\uc720\\ud1b5 \\uae30\\ud55c \\uae30\\ud55c \\ub109\\ub109\\ud558\\ub2e4\", \"\\ubc30\\uc1a1 \\ube68\\ub974\\ub2e4 \\uc131\\ub2a5 \\uc720\\ud1b5 \\uae30\\ud55c \\uae30\\ud55c \\ub109\\ub109\\ud558\\ub2e4\", \"\\ubc30\\uc1a1 \\ube68\\ub974\\ub2e4 \\uc131\\ub2a5 \\uc720\\ud1b5 \\uae30\\ud55c \\uae30\\ud55c \\ub109\\ub109\\ud558\\ub2e4\", \"\\ubc30\\uc1a1 \\ube68\\ub974\\ub2e4 \\uc131\\ub2a5 \\uc720\\ud1b5 \\uae30\\ud55c \\uae30\\ud55c \\ub109\\ub109\\ud558\\ub2e4 \\ubaa8\\ub974\\ub2e4\", \"\\ubc30\\uc1a1 \\ube68\\ub974\\ub2e4 \\uc131\\ub2a5 \\uc720\\ud1b5 \\uae30\\ud55c \\uae30\\ud55c \\ub109\\ub109\\ud558\\ub2e4 \\ubd80\\ubaa8\\ub2d8 \\uac74\\uac15 \\uc704\\ud574 \\uac80\\uc0c9 \\ud6c4\\uae30 \\ub9ce\\ub2e4 \\uc88b\\ub2e4 \\uc0c1\\ud488 \\uce6d\\ucc2c \\ub9ce\\ub2e4 \\uad6c\\ub9e4 \\ud6a8\\ub2a5 \\uc54c\\ub2e4 \\ubcf5\\uc6a9 \\uc7ac\\ub2e4 \\ub9e4\\ub2e4 \\uc9c0\\ucf1c\\ubcf4\\ub2e4 \\uac10\\uc0ac\\ud558\\ub2e4\", \"\\ubc30\\uc1a1 \\ube68\\ub974\\ub2e4 \\uc131\\ub2a5 \\uc720\\ud1b5 \\uae30\\ud55c \\uae30\\ud55c \\ub109\\ub109\\ud558\\ub2e4 \\uc774\\uc8fc \\uc9c0\\ub098\\ub2e4\", \"\\ubc30\\uc1a1 \\ube68\\ub974\\ub2e4 \\uc131\\ub2a5 \\uc720\\ud1b5 \\uae30\\ud55c \\uae30\\ud55c \\ub109\\ub109\\ud558\\ub2e4 \\ud608\\uc555 \\uc88b\\ub2e4 \\ubaa8\\ub974\\ub2e4\", \"\\ubc30\\uc1a1 \\ube68\\ub974\\ub2e4 \\uc131\\ub2a5 \\uc720\\ud1b5 \\uae30\\ud55c \\ubaa8\\ub974\\ub2e4 \\uafb8\\uc900\\ud558\\ub2e4 1\\ub144 \\ud608\\uad00 \\uad00\\ub9ac \\ub93c\\ud574\", \"\\ubc30\\uc1a1 \\ube68\\ub974\\ub2e4 \\uc720\\ud1b5 \\uae30\\ud55c\", \"\\ubc30\\uc1a1 \\ube68\\ub974\\ub2e4 \\uc720\\ud1b5 \\uae30\\ud55c \\uae30\\ud55c \\ub109\\ub109\\ud558\\ub2e4\", \"\\ubc30\\uc1a1 \\ube68\\ub974\\ub2e4 \\uc720\\ud1b5 \\uae30\\ud55c \\uae30\\ud55c \\ub109\\ub109\\ud558\\ub2e4\", \"\\ubc30\\uc1a1 \\ube68\\ub974\\ub2e4 \\uc720\\ud1b5 \\uae30\\ud55c \\uae30\\ud55c \\ub109\\ub109\\ud558\\ub2e4\", \"\\ubc30\\uc1a1 \\ube68\\ub974\\ub2e4 \\uc720\\ud1b5 \\uae30\\ud55c \\uae30\\ud55c \\ub109\\ub109\\ud558\\ub2e4 \\uc624\\uba54\\uac00 \\ud64d\\uad6d \\ucf54\\ud050\\ud150 \\uc88b\\ub2e4 \\ud655\\uc2e4\\ud558\\ub2e4 \\uc624\\uba54\\uac00 \\uc88b\\ub2e4 \\ud3b8\\ud558\\ub2e4 \\uc88b\\ub2e4 \\uad6c\\ub9e4 \\uc9dc\\ub2e4 \\uad6c\\uc131 \\uc800\\ub834\\ud558\\ub2e4 \\ub2e8\\uac00 \\uac10\\uc0ac\\ud558\\ub2e4 \\ub2eb\\ub2e4 \\uc0c1\\uc138 \\uc0c1\\uc138 \\uc0c1\\uc138\", \"\\ubc30\\uc1a1 \\ube68\\ub974\\ub2e4 \\uc720\\ud1b5 \\uae30\\ud55c \\uae30\\ud55c \\ub109\\ub109\\ud558\\ub2e4 \\uc800\\ub834\\ud558\\ub2e4 \\uad6c\\uc785\", \"\\ubc30\\uc1a1 \\ube68\\ub974\\ub2e4 \\uc720\\ud1b5 \\uae30\\ud55c \\uae30\\ud55c \\ub109\\ub109\\ud558\\ub2e4 \\uc88b\\ub2e4\", \"\\ubc30\\uc1a1 \\ube68\\ub974\\ub2e4 \\uc720\\ud1b5 \\uae30\\ud55c \\uae30\\ud55c \\ub109\\ub109\\ud558\\ub2e4 \\uccb4\\ud5d8 \\uc804\\uc774 \\ub290\\ub07c\\ub2e4 \\uc7ac\\ub2e4\", \"\\ubc30\\uc1a1 \\uc131\\ub2a5 \\uc131\\ub2a5 \\ub6f0\\uc5b4\\ub098\\ub2e4 \\uc720\\ud1b5 \\uae30\\ud55c\", \"\\ubc30\\uc1a1 \\uc131\\ub2a5 \\uc131\\ub2a5 \\ub6f0\\uc5b4\\ub098\\ub2e4 \\uc720\\ud1b5 \\uae30\\ud55c\", \"\\ubc30\\uc1a1 \\uc131\\ub2a5 \\uc131\\ub2a5 \\ub6f0\\uc5b4\\ub098\\ub2e4 \\uc720\\ud1b5 \\uae30\\ud55c \\uae30\\ud55c \\ub109\\ub109\\ud558\\ub2e4\", \"\\ubc30\\uc1a1 \\uc131\\ub2a5 \\uc131\\ub2a5 \\ub6f0\\uc5b4\\ub098\\ub2e4 \\uc720\\ud1b5 \\uae30\\ud55c \\uae30\\ud55c \\ub109\\ub109\\ud558\\ub2e4 \\uace0\\ud608\\uc555 \\uba39\\uae30 \\ub2e8\\uacc4 \\uc2ec\\uc0ac\\uc219\\uace0 \\ubcf5\\uc6a9 \\ubcf5\\uc6a9 \\ubcc0\\ud654 \\ub290\\ub07c\\ub2e4 \\uafb8\\uc900\\ud558\\ub2e4\", \"\\ubc30\\uc1a1 \\uc131\\ub2a5 \\uc131\\ub2a5 \\ub6f0\\uc5b4\\ub098\\ub2e4 \\uc720\\ud1b5 \\uae30\\ud55c \\uae30\\ud55c \\ub109\\ub109\\ud558\\ub2e4 \\ubbff\\ub2e4 \\uc81c\\ud488 \\uc774\\ub0b4 \\ub3c4\\uc6c0\", \"\\ubc30\\uc1a1 \\uc131\\ub2a5 \\uc131\\ub2a5 \\ub6f0\\uc5b4\\ub098\\ub2e4 \\uc720\\ud1b5 \\uae30\\ud55c \\uae30\\ud55c \\ub109\\ub109\\ud558\\ub2e4 \\ud608\\uad00 \\uac74\\uac15 \\uc88b\\ub2e4 \\uad6c\\uc785 \\uc88b\\ub2e4 \\uacb0\\uacfc \\uc0c1\\uc138 \\uc0c1\\uc138\", \"\\ubc30\\uc1a1 \\uc131\\ub2a5 \\uc720\\ud1b5 \\uae30\\ud55c\", \"\\ubc30\\uc1a1 \\uc131\\ub2a5 \\uc720\\ud1b5 \\uae30\\ud55c\", \"\\ubc30\\uc1a1 \\uc131\\ub2a5 \\uc720\\ud1b5 \\uae30\\ud55c \\uae30\\ud55c \\ub109\\ub109\\ud558\\ub2e4\", \"\\ubc30\\uc1a1 \\uc131\\ub2a5 \\uc720\\ud1b5 \\uae30\\ud55c \\ubcf4\\uc9c0 \\uc0c1\\ud488 \\ud3c9\\uc774 \\uc88b\\ub2e4 \\uad6c\\uc785 \\ubcf4\\uad6c \\uc560\\uae30 \\ud574\\ub4dc\\ub9ac\\ub2e4 \\ub2eb\\ub2e4 \\uc0c1\\uc138\", \"\\ubc30\\uc1a1 \\uc720\\ud1b5 \\uae30\\ud55c\", \"\\ubd88\\ud3b8\\ud558\\ub2e4\", \"\\ube60\\ub974\\ub2e4 \\ubc30\\uc1a1 \\uac10\\uc0ac\\ud558\\ub2e4\", \"\\uc131\\ub2a5 \\uc131\\ub2a5 \\ub6f0\\uc5b4\\ub098\\ub2e4\", \"\\uc131\\ub2a5 \\uc131\\ub2a5 \\ub6f0\\uc5b4\\ub098\\ub2e4 \\uc720\\ud1b5 \\uae30\\ud55c \\uae30\\ud55c \\ub109\\ub109\\ud558\\ub2e4\", \"\\uc131\\ub2a5 \\uc131\\ub2a5 \\ub6f0\\uc5b4\\ub098\\ub2e4 \\uc720\\ud1b5 \\uae30\\ud55c \\uae30\\ud55c \\ub109\\ub109\\ud558\\ub2e4 \\uc720\\ud1b5 \\uae30\\ud55c \\ub109\\ub109\\ud558\\ub2e4 \\uc0bc\\ud0a4\\ub2e4 \\ubd80\\ub2f4 \\uc0ac\\uc774\\uc988 \\uc7a5\\uae30\\uac04 \\uc54c\\ub2e4 \\uc2e0\\uc785\\uc0ac\\uc6d0 \\ud3b8\\uc9c0 \\uc88b\\ub2e4 \\ubbf8\\ub9ac \\ub290\\ub07c\\ub2e4 \\uc0c1\\uc138\", \"\\uc131\\ub2a5 \\uc720\\ud1b5 \\uae30\\ud55c\", \"\\uc2e0\\uae30\\ud558\\ub2e4 \\ud608\\uc555 \\ub192\\ub2e4 \\ub4dc\\ub9ac\\ub2e4 \\ubcf5\\uc6a9 \\uc548\\ub418\\ub2e4 \\ud608\\uc555 148 \\ubcd1\\uc6d0 \\uc11c\\uc7ac 127 78 \\uc815\\uc0c1 \\uc218\\uce58 \\uc88b\\uc544\\ud558\\ub2e4 \\uc7a5\\uae30 \\ubcf5\\uc6a9\", \"\\uc720\\ud1b5 \\uae30\\ud55c \\uae30\\ud55c \\ub109\\ub109\\ud558\\ub2e4 \\ud3ec\\uc7a5 \\uc0c1\\ud0dc \\ud3ec\\uc7a5 \\uae54\\ub054\\ud558\\ub2e4\", \"\\uc720\\ud1b5 \\uae30\\ud55c \\uae30\\ud55c \\ub109\\ub109\\ud558\\ub2e4 \\ud3ec\\uc7a5 \\uc0c1\\ud0dc \\ud3ec\\uc7a5 \\uae54\\ub054\\ud558\\ub2e4\", \"\\uc720\\ud1b5 \\uae30\\ud55c \\uae30\\ud55c \\ub109\\ub109\\ud558\\ub2e4 \\ud3ec\\uc7a5 \\uc0c1\\ud0dc \\ud3ec\\uc7a5 \\uae54\\ub054\\ud558\\ub2e4\", \"\\uc720\\ud1b5 \\uae30\\ud55c \\uae30\\ud55c \\ub109\\ub109\\ud558\\ub2e4 \\ud3ec\\uc7a5 \\uc0c1\\ud0dc \\ud3ec\\uc7a5 \\uae54\\ub054\\ud558\\ub2e4 \\uc0c1\\ud488 \\ub4e4\\uc774\\ub2e4 \\uc2dc\\ub098 \\uad6c\\ub9e4 \\uc0c1\\uc138\", \"\\uc720\\ud1b5 \\uae30\\ud55c \\uae30\\ud55c \\ub109\\ub109\\ud558\\ub2e4 \\ud3ec\\uc7a5 \\uc0c1\\ud0dc \\ud3ec\\uc7a5 \\uae54\\ub054\\ud558\\ub2e4 \\uc88b\\ub2e4\", \"\\uc720\\ud1b5 \\uae30\\ud55c \\uae30\\ud55c \\ub109\\ub109\\ud558\\ub2e4 \\ud3ec\\uc7a5 \\uc0c1\\ud0dc \\ud3ec\\uc7a5 \\uae54\\ub054\\ud558\\ub2e4 \\uc88b\\ub2e4\", \"\\uc720\\ud1b5 \\uae30\\ud55c \\uae30\\ud55c \\ub109\\ub109\\ud558\\ub2e4 \\ud3ec\\uc7a5 \\uc0c1\\ud0dc \\ud3ec\\uc7a5 \\uae54\\ub054\\ud558\\ub2e4 \\uc88b\\ub2e4\", \"\\uc720\\ud1b5 \\uae30\\ud55c \\uae30\\ud55c \\ub109\\ub109\\ud558\\ub2e4 \\ud3ec\\uc7a5 \\uc0c1\\ud0dc \\ud3ec\\uc7a5 \\uae54\\ub054\\ud558\\ub2e4 \\uc88b\\ub2e4\", \"\\uc720\\ud1b5 \\uae30\\ud55c \\uae30\\ud55c \\ub109\\ub109\\ud558\\ub2e4 \\ud3ec\\uc7a5 \\uc0c1\\ud0dc \\ud3ec\\uc7a5 \\uae54\\ub054\\ud558\\ub2e4 \\uc88b\\ub2e4\", \"\\uc720\\ud1b5 \\uae30\\ud55c \\uae30\\ud55c \\ub109\\ub109\\ud558\\ub2e4 \\ud3ec\\uc7a5 \\uc0c1\\ud0dc \\ud3ec\\uc7a5 \\uae54\\ub054\\ud558\\ub2e4 \\uc88b\\ub2e4 1\\ub144 \\uad6c\\ub9e4 \\ubcf5\\uc6a9 \\uc815\\ud655\\ud558\\ub2e4 \\uac80\\uc0ac \\ud574\\ubcf4\\ub2e4 \\uc218\\uce58 \\ubaa8\\ub974\\ub2e4 \\ubb34\\uac70 \\uc950\\ub2e4 \\ud655\\uc2e4\\ud558\\ub2e4 \\uc88b\\uc544\\uc9c0\\ub2e4 \\uc88b\\ub2e4 \\uc601\\ud5a5 \\ubbff\\ub2e4 \\uc2f6\\ub2e4 \\uad6c\\ub9e4 \\uc81c\\ud488 \\ubd84\\ub9ac \\ud798\\ub4e4\\ub2e4 \\ub2e4\\uc2dc \\ubd84\\ub9ac \\uc27d\\ub2e4 \\uc0c1\\uc138 \\uc0c1\\uc138 \\uc0c1\\uc138\", \"\\uc720\\ud1b5 \\uae30\\ud55c \\uae30\\ud55c \\ub109\\ub109\\ud558\\ub2e4 \\ud3ec\\uc7a5 \\uc0c1\\ud0dc \\ud3ec\\uc7a5 \\uae54\\ub054\\ud558\\ub2e4 \\uc88b\\ub2e4 \\uad6c\\ub9e4 \\ubc30\\uc1a1 \\uc608\\uc815\\uc77c \\uc81c\\uc870 2\\uc6d4 \\uc720\\ud1b5 \\uae30\\ud55c \\uae30\\ub2e4 \\uc88b\\ub2e4 \\uc0c1\\uc138 \\uc0c1\\uc138\", \"\\uc720\\ud1b5 \\uae30\\ud55c \\uae30\\ud55c \\ub109\\ub109\\ud558\\ub2e4 \\ud3ec\\uc7a5 \\uc0c1\\ud0dc \\ud3ec\\uc7a5 \\uae54\\ub054\\ud558\\ub2e4 \\uc88b\\ub2e4 \\uad6c\\ub9e4 \\ud574\\ubcf4\\ub2e4 \\ucc28\\uadfc\\ucc28\\uadfc \\uc54c\\ub2e4 \\uc131\\ubd84 \\uc88b\\ub2e4 \\uad6c\\ub9e4 \\uc624\\uba54\\uac00 \\ucf54\\uc5d4\\uc790\\uc784 \\uc5fd\\uc0b0 \\uc81c\\ud488 \\uad6c\\ub9e4 \\uad6c\\ub9e4 \\uba39\\uae30 \\uadc0\\ucc2e\\ub2e4 \\uac00\\uaca9 \\uc810\\ub3c4 \\ub2e4\\uc2dc \\uad6c\\ub9e4 \\uc0c1\\uc138\", \"\\uc720\\ud1b5 \\uae30\\ud55c \\uae30\\ud55c \\ub109\\ub109\\ud558\\ub2e4 \\ud3ec\\uc7a5 \\uc0c1\\ud0dc \\ud3ec\\uc7a5 \\uae54\\ub054\\ud558\\ub2e4 \\uc88b\\ub2e4 \\uae30\\uac04 \\ub109\\ub109\\ud558\\ub2e4 \\ud3ec\\uc7a5 \\uc54c\\ub2e4\", \"\\uc720\\ud1b5 \\uae30\\ud55c \\uae30\\ud55c \\ub109\\ub109\\ud558\\ub2e4 \\ud3ec\\uc7a5 \\uc0c1\\ud0dc \\ud3ec\\uc7a5 \\uae54\\ub054\\ud558\\ub2e4 \\uc88b\\ub2e4 \\uafb8\\uc900\\ud558\\ub2e4 \\ubcf5\\uc6a9 \\ud608\\uc555 \\uc548\\uc815\", \"\\uc720\\ud1b5 \\uae30\\ud55c \\uae30\\ud55c \\ub109\\ub109\\ud558\\ub2e4 \\ud3ec\\uc7a5 \\uc0c1\\ud0dc \\ud3ec\\uc7a5 \\uae54\\ub054\\ud558\\ub2e4 \\uc88b\\ub2e4 \\ubc8c\\uc368 \\ub450\\ubc88\\uc9f8 \\uad6c\\uc785 \\uac00\\uc871 \\ubcf5\\uc6a9 \\ub6f0\\uc5b4\\ub098\\ub2e4 \\ub290\\ub07c\\ub2e4 \\ubbff\\ub2e4 \\ub2f9\\ubd84\\uac04 \\uafb8\\uc900\\ud558\\ub2e4 \\ubcf5\\uc6a9 \\uc54c\\uc57d \\uc0bc\\ud0a4\\ub2e4 \\ud3b8\\ud558\\ub2e4 \\ubd80\\ub4dc\\ub7fd\\ub2e4 \\ud544\\uc694\\ud558\\ub2e4 \\uc131\\ubd84 \\uc88b\\ub2e4 \\uc0c1\\uc138 \\uc0c1\\uc138\", \"\\uc720\\ud1b5 \\uae30\\ud55c \\uae30\\ud55c \\ub109\\ub109\\ud558\\ub2e4 \\ud3ec\\uc7a5 \\uc0c1\\ud0dc \\ud3ec\\uc7a5 \\uae54\\ub054\\ud558\\ub2e4 \\uc88b\\ub2e4 \\uc368\\ub2e4 \\uc2dc\\uc548 \\uc2dc\\ub974\\ub2e4 \\uc778\\ud130\\ub137 \\uac80\\uc0c9 \\uc88b\\ub2e4 \\uad6c\\ub9e4\", \"\\uc720\\ud1b5 \\uae30\\ud55c \\uae30\\ud55c \\ub109\\ub109\\ud558\\ub2e4 \\ud3ec\\uc7a5 \\uc0c1\\ud0dc \\ud3ec\\uc7a5 \\uae54\\ub054\\ud558\\ub2e4 \\uc88b\\ub2e4 \\uc7a5\\uae30 \\ubcf5\\uc6a9 \\ud608\\uc555 \\uc870\\uc808\", \"\\uc720\\ud1b5 \\uae30\\ud55c \\uae30\\ud55c \\ub109\\ub109\\ud558\\ub2e4 \\ud3ec\\uc7a5 \\uc0c1\\ud0dc \\ud3ec\\uc7a5 \\uae54\\ub054\\ud558\\ub2e4 \\uc88b\\ub2e4 \\uc81c\\ud488 \\ub6f0\\uc5b4\\ub098\\ub2e4\", \"\\uc720\\ud1b5 \\uae30\\ud55c \\uae30\\ud55c \\ub109\\ub109\\ud558\\ub2e4 \\ud3ec\\uc7a5 \\uc0c1\\ud0dc \\ud3ec\\uc7a5 \\uae54\\ub054\\ud558\\ub2e4 \\uc88b\\ub2e4 \\uc88b\\ub2e4 \\uac00\\uaca9 \\ubd80\\ub2f4 \\uc0c1\\uc138\", \"\\uc720\\ud1b5 \\uae30\\ud55c \\uae30\\ud55c \\ub109\\ub109\\ud558\\ub2e4 \\ud3ec\\uc7a5 \\uc0c1\\ud0dc \\ud3ec\\uc7a5 \\uae54\\ub054\\ud558\\ub2e4 \\uc88b\\ub2e4 \\ucd08\\uae30 \\uc9c4\\uc785 \\ub2e8\\uacc4 \\uad6c\\uc785 \\uc0c1\\uc138\", \"\\uc720\\ud1b5 \\uae30\\ud55c \\uae30\\ud55c \\ub109\\ub109\\ud558\\ub2e4 \\ud3ec\\uc7a5 \\uc0c1\\ud0dc \\ud3ec\\uc7a5 \\uae54\\ub054\\ud558\\ub2e4 \\uc88b\\ub2e4 \\ud608\\uc555 \\uafb8\\uc900\\ud558\\ub2e4 \\ubcf5\\uc6a9 \\ubaa8\\ub974\\ub2e4 \\ubd88\\uc548\\ud558\\ub2e4 \\ubcf5\\uc6a9\", \"\\uc720\\ud1b5 \\uae30\\ud55c \\uae30\\ud55c \\ub109\\ub109\\ud558\\ub2e4 \\ud3ec\\uc7a5 \\uc0c1\\ud0dc \\ud3ec\\uc7a5 \\uae54\\ub054\\ud558\\ub2e4 \\uc9c0\\uc778 \\uba3c\\uc800 \\ucd94\\ucc9c \\uad6c\\ub9e4 \\uc2e0\\ub791 \\uc800\\ub141 \\ud3ec\\uc7a5 \\uae54\\ub054\\ud558\\ub2e4 \\ube60\\ub974\\ub2e4 \\ubc30\\uc1a1 \\uc88b\\ub2e4 \\uafb8\\uc900\\ud558\\ub2e4 \\uad6c\\ub9e4 \\uc0c1\\uc138\", \"\\uc720\\ud1b5 \\uae30\\ud55c \\uae30\\ud55c \\ub109\\ub109\\ud558\\ub2e4 \\ud3ec\\uc7a5 \\uc0c1\\ud0dc \\ud3ec\\uc7a5 \\uae54\\ub054\\ud558\\ub2e4 \\ud3ec\\uc7a5 \\ubc29\\ubc95 \\uc124\\uba85 \\ud6c4\\uae30 \\uc88b\\ub2e4 \\ub298\\ub2e4 \\uc8fc\\ubb38 \\ubcf5\\uc6a9 \\ud574\\ubcf4\\ub2e4 \\ub9ac\\ubdf0 \\uc218\\uc815 \\uc0c1\\uc138\", \"\\uc720\\ud1b5 \\uae30\\ud55c \\ud3ec\\uc7a5 \\uc0c1\\ud0dc\", \"\\uc720\\ud1b5 \\uae30\\ud55c \\ud3ec\\uc7a5 \\uc0c1\\ud0dc \\uc88b\\ub2e4 \\uc7ac\\ub2e4\", \"\\uc720\\ud1b5 \\uae30\\ud55c \\ud3ec\\uc7a5 \\uc0c1\\ud0dc \\ud3ec\\uc7a5 \\uae54\\ub054\\ud558\\ub2e4 \\uc88b\\ub2e4 \\ub808\\uc2a4 \\ud2b8\\ub864 \\uc218\\uce58 \\ub192\\ub2e4 \\uc8fc\\ubb38 \\uc88b\\ub2e4 \\uc0c1\\ud488 \\uc88b\\ub2e4 \\ubbff\\ub2e4\", \"\\uc720\\ud1b5 \\uae30\\ud55c \\ud3ec\\uc7a5 \\uc0c1\\ud0dc \\ud3ec\\uc7a5 \\uae54\\ub054\\ud558\\ub2e4 \\uc9c0\\ud608 \\ud608\\uc555 \\ub192\\ub2e4 \\ub3c4\\uc6c0 \\uad6c\\uc785 \\ubcf5\\uc6a9 \\ud638\\uacfc \\uad6c\\uc785 \\uba8c\\uc815 \\uc0c1\\uc138\", \"\\uc88b\\ub2e4\", \"\\uc88b\\ub2e4\", \"\\uc88b\\ub2e4 \\uc0c1\\uc138\", \"\\uc88b\\ub2e4 \\uc88b\\ub2e4\"]}, \"R\": 30, \"lambda.step\": 0.01, \"plot.opts\": {\"xlab\": \"PC1\", \"ylab\": \"PC2\"}, \"topic.order\": [1, 9, 4, 8, 6, 5, 2, 7, 3]};\n",
       "\n",
       "function LDAvis_load_lib(url, callback){\n",
       "  var s = document.createElement('script');\n",
       "  s.src = url;\n",
       "  s.async = true;\n",
       "  s.onreadystatechange = s.onload = callback;\n",
       "  s.onerror = function(){console.warn(\"failed to load library \" + url);};\n",
       "  document.getElementsByTagName(\"head\")[0].appendChild(s);\n",
       "}\n",
       "\n",
       "if(typeof(LDAvis) !== \"undefined\"){\n",
       "   // already loaded: just create the visualization\n",
       "   !function(LDAvis){\n",
       "       new LDAvis(\"#\" + \"ldavis_el8568027093670196008665489831\", ldavis_el8568027093670196008665489831_data);\n",
       "   }(LDAvis);\n",
       "}else if(typeof define === \"function\" && define.amd){\n",
       "   // require.js is available: use it to load d3/LDAvis\n",
       "   require.config({paths: {d3: \"https://d3js.org/d3.v5\"}});\n",
       "   require([\"d3\"], function(d3){\n",
       "      window.d3 = d3;\n",
       "      LDAvis_load_lib(\"https://cdn.jsdelivr.net/gh/bmabey/pyLDAvis@3.4.0/pyLDAvis/js/ldavis.v3.0.0.js\", function(){\n",
       "        new LDAvis(\"#\" + \"ldavis_el8568027093670196008665489831\", ldavis_el8568027093670196008665489831_data);\n",
       "      });\n",
       "    });\n",
       "}else{\n",
       "    // require.js not available: dynamically load d3 & LDAvis\n",
       "    LDAvis_load_lib(\"https://d3js.org/d3.v5.js\", function(){\n",
       "         LDAvis_load_lib(\"https://cdn.jsdelivr.net/gh/bmabey/pyLDAvis@3.4.0/pyLDAvis/js/ldavis.v3.0.0.js\", function(){\n",
       "                 new LDAvis(\"#\" + \"ldavis_el8568027093670196008665489831\", ldavis_el8568027093670196008665489831_data);\n",
       "            })\n",
       "         });\n",
       "}\n",
       "</script>"
      ],
      "text/plain": [
       "<IPython.core.display.HTML object>"
      ]
     },
     "execution_count": 42,
     "metadata": {},
     "output_type": "execute_result"
    }
   ],
   "source": [
    "pyLDAvis.display(result_visualized)"
   ]
  },
  {
   "cell_type": "code",
   "execution_count": 43,
   "id": "54cfa60f-6e72-46a9-954f-0e6182235461",
   "metadata": {
    "tags": []
   },
   "outputs": [],
   "source": [
    "pyLDAvis.save_html(result_visualized, '../datasets/cholesterolreview_positive_result_visualized.html')"
   ]
  },
  {
   "cell_type": "code",
   "execution_count": null,
   "id": "875b7d6b-baff-4e3c-ad56-8cd1c6c8aed4",
   "metadata": {},
   "outputs": [],
   "source": []
  }
 ],
 "metadata": {
  "kernelspec": {
   "display_name": "Python 3 (ipykernel)",
   "language": "python",
   "name": "python3"
  },
  "language_info": {
   "codemirror_mode": {
    "name": "ipython",
    "version": 3
   },
   "file_extension": ".py",
   "mimetype": "text/x-python",
   "name": "python",
   "nbconvert_exporter": "python",
   "pygments_lexer": "ipython3",
   "version": "3.11.3"
  }
 },
 "nbformat": 4,
 "nbformat_minor": 5
}
