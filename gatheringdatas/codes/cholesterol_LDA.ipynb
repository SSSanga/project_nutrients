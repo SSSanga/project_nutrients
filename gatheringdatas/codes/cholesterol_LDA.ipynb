{
 "cells": [
  {
   "cell_type": "code",
   "execution_count": 1,
   "id": "935aed44-c386-451a-8dbd-51e8394e5a96",
   "metadata": {
    "collapsed": true,
    "jupyter": {
     "outputs_hidden": true
    },
    "tags": []
   },
   "outputs": [
    {
     "name": "stdout",
     "output_type": "stream",
     "text": [
      "Requirement already satisfied: python-mecab-ko in c:\\users\\04-02\\anaconda3\\lib\\site-packages (1.3.3)\n",
      "Collecting pyLDAvis\n",
      "  Using cached pyLDAvis-3.4.1-py3-none-any.whl (2.6 MB)\n",
      "Requirement already satisfied: python-mecab-ko-dic in c:\\users\\04-02\\anaconda3\\lib\\site-packages (from python-mecab-ko) (2.1.1.post2)\n",
      "Requirement already satisfied: numpy>=1.24.2 in c:\\users\\04-02\\anaconda3\\lib\\site-packages (from pyLDAvis) (1.24.3)\n",
      "Requirement already satisfied: scipy in c:\\users\\04-02\\anaconda3\\lib\\site-packages (from pyLDAvis) (1.10.1)\n",
      "Requirement already satisfied: pandas>=2.0.0 in c:\\users\\04-02\\anaconda3\\lib\\site-packages (from pyLDAvis) (2.1.1)\n",
      "Requirement already satisfied: joblib>=1.2.0 in c:\\users\\04-02\\anaconda3\\lib\\site-packages (from pyLDAvis) (1.2.0)\n",
      "Requirement already satisfied: jinja2 in c:\\users\\04-02\\anaconda3\\lib\\site-packages (from pyLDAvis) (3.1.2)\n",
      "Requirement already satisfied: numexpr in c:\\users\\04-02\\anaconda3\\lib\\site-packages (from pyLDAvis) (2.8.4)\n",
      "Requirement already satisfied: funcy in c:\\users\\04-02\\anaconda3\\lib\\site-packages (from pyLDAvis) (2.0)\n",
      "Requirement already satisfied: scikit-learn>=1.0.0 in c:\\users\\04-02\\anaconda3\\lib\\site-packages (from pyLDAvis) (1.2.2)\n",
      "Requirement already satisfied: gensim in c:\\users\\04-02\\anaconda3\\lib\\site-packages (from pyLDAvis) (4.3.0)\n",
      "Requirement already satisfied: setuptools in c:\\users\\04-02\\anaconda3\\lib\\site-packages (from pyLDAvis) (67.8.0)\n",
      "Requirement already satisfied: python-dateutil>=2.8.2 in c:\\users\\04-02\\appdata\\roaming\\python\\python311\\site-packages (from pandas>=2.0.0->pyLDAvis) (2.8.2)\n",
      "Requirement already satisfied: pytz>=2020.1 in c:\\users\\04-02\\anaconda3\\lib\\site-packages (from pandas>=2.0.0->pyLDAvis) (2022.7)\n",
      "Requirement already satisfied: tzdata>=2022.1 in c:\\users\\04-02\\anaconda3\\lib\\site-packages (from pandas>=2.0.0->pyLDAvis) (2023.3)\n",
      "Requirement already satisfied: threadpoolctl>=2.0.0 in c:\\users\\04-02\\anaconda3\\lib\\site-packages (from scikit-learn>=1.0.0->pyLDAvis) (2.2.0)\n",
      "Requirement already satisfied: smart-open>=1.8.1 in c:\\users\\04-02\\anaconda3\\lib\\site-packages (from gensim->pyLDAvis) (5.2.1)\n",
      "Collecting FuzzyTM>=0.4.0 (from gensim->pyLDAvis)\n",
      "  Using cached FuzzyTM-2.0.5-py3-none-any.whl (29 kB)\n",
      "Requirement already satisfied: MarkupSafe>=2.0 in c:\\users\\04-02\\anaconda3\\lib\\site-packages (from jinja2->pyLDAvis) (2.1.1)\n",
      "Collecting pyfume (from FuzzyTM>=0.4.0->gensim->pyLDAvis)\n",
      "  Using cached pyFUME-0.2.25-py3-none-any.whl (67 kB)\n",
      "Requirement already satisfied: six>=1.5 in c:\\users\\04-02\\appdata\\roaming\\python\\python311\\site-packages (from python-dateutil>=2.8.2->pandas>=2.0.0->pyLDAvis) (1.16.0)\n",
      "Requirement already satisfied: simpful in c:\\users\\04-02\\anaconda3\\lib\\site-packages (from pyfume->FuzzyTM>=0.4.0->gensim->pyLDAvis) (2.11.0)\n",
      "Collecting fst-pso (from pyfume->FuzzyTM>=0.4.0->gensim->pyLDAvis)\n",
      "  Using cached fst_pso-1.8.1-py3-none-any.whl\n",
      "Collecting miniful (from fst-pso->pyfume->FuzzyTM>=0.4.0->gensim->pyLDAvis)\n",
      "  Using cached miniful-0.0.6-py3-none-any.whl\n",
      "Installing collected packages: miniful, fst-pso, pyfume, FuzzyTM, pyLDAvis\n",
      "Successfully installed FuzzyTM-2.0.5 fst-pso-1.8.1 miniful-0.0.6 pyLDAvis-3.4.1 pyfume-0.2.25\n"
     ]
    }
   ],
   "source": [
    "# !pip install python-mecab-ko pyLDAvis"
   ]
  },
  {
   "cell_type": "code",
   "execution_count": 49,
   "id": "0a485173-b2fb-44ca-b22f-323fb8bb7e5d",
   "metadata": {
    "tags": []
   },
   "outputs": [],
   "source": [
    "import numpy as np"
   ]
  },
  {
   "cell_type": "code",
   "execution_count": 50,
   "id": "ce83d4eb-32b5-4638-a7d0-993a8eda3dec",
   "metadata": {
    "tags": []
   },
   "outputs": [
    {
     "ename": "ParserError",
     "evalue": "Error tokenizing data. C error: Expected 1 fields in line 8, saw 1123\n",
     "output_type": "error",
     "traceback": [
      "\u001b[1;31m---------------------------------------------------------------------------\u001b[0m",
      "\u001b[1;31mParserError\u001b[0m                               Traceback (most recent call last)",
      "Cell \u001b[1;32mIn[50], line 3\u001b[0m\n\u001b[0;32m      1\u001b[0m \u001b[38;5;66;03m# cholesterolreview_negative.csv\u001b[39;00m\n\u001b[0;32m      2\u001b[0m \u001b[38;5;28;01mimport\u001b[39;00m \u001b[38;5;21;01mpandas\u001b[39;00m \u001b[38;5;28;01mas\u001b[39;00m \u001b[38;5;21;01mpd\u001b[39;00m\n\u001b[1;32m----> 3\u001b[0m df_review_negative \u001b[38;5;241m=\u001b[39m \u001b[43mpd\u001b[49m\u001b[38;5;241;43m.\u001b[39;49m\u001b[43mread_csv\u001b[49m\u001b[43m(\u001b[49m\u001b[38;5;124;43m'\u001b[39;49m\u001b[38;5;124;43m../datasets/cholesterolreview_negative.csv\u001b[39;49m\u001b[38;5;124;43m'\u001b[39;49m\u001b[43m)\u001b[49m\n",
      "File \u001b[1;32m~\\anaconda3\\Lib\\site-packages\\pandas\\io\\parsers\\readers.py:948\u001b[0m, in \u001b[0;36mread_csv\u001b[1;34m(filepath_or_buffer, sep, delimiter, header, names, index_col, usecols, dtype, engine, converters, true_values, false_values, skipinitialspace, skiprows, skipfooter, nrows, na_values, keep_default_na, na_filter, verbose, skip_blank_lines, parse_dates, infer_datetime_format, keep_date_col, date_parser, date_format, dayfirst, cache_dates, iterator, chunksize, compression, thousands, decimal, lineterminator, quotechar, quoting, doublequote, escapechar, comment, encoding, encoding_errors, dialect, on_bad_lines, delim_whitespace, low_memory, memory_map, float_precision, storage_options, dtype_backend)\u001b[0m\n\u001b[0;32m    935\u001b[0m kwds_defaults \u001b[38;5;241m=\u001b[39m _refine_defaults_read(\n\u001b[0;32m    936\u001b[0m     dialect,\n\u001b[0;32m    937\u001b[0m     delimiter,\n\u001b[1;32m   (...)\u001b[0m\n\u001b[0;32m    944\u001b[0m     dtype_backend\u001b[38;5;241m=\u001b[39mdtype_backend,\n\u001b[0;32m    945\u001b[0m )\n\u001b[0;32m    946\u001b[0m kwds\u001b[38;5;241m.\u001b[39mupdate(kwds_defaults)\n\u001b[1;32m--> 948\u001b[0m \u001b[38;5;28;01mreturn\u001b[39;00m \u001b[43m_read\u001b[49m\u001b[43m(\u001b[49m\u001b[43mfilepath_or_buffer\u001b[49m\u001b[43m,\u001b[49m\u001b[43m \u001b[49m\u001b[43mkwds\u001b[49m\u001b[43m)\u001b[49m\n",
      "File \u001b[1;32m~\\anaconda3\\Lib\\site-packages\\pandas\\io\\parsers\\readers.py:617\u001b[0m, in \u001b[0;36m_read\u001b[1;34m(filepath_or_buffer, kwds)\u001b[0m\n\u001b[0;32m    614\u001b[0m     \u001b[38;5;28;01mreturn\u001b[39;00m parser\n\u001b[0;32m    616\u001b[0m \u001b[38;5;28;01mwith\u001b[39;00m parser:\n\u001b[1;32m--> 617\u001b[0m     \u001b[38;5;28;01mreturn\u001b[39;00m \u001b[43mparser\u001b[49m\u001b[38;5;241;43m.\u001b[39;49m\u001b[43mread\u001b[49m\u001b[43m(\u001b[49m\u001b[43mnrows\u001b[49m\u001b[43m)\u001b[49m\n",
      "File \u001b[1;32m~\\anaconda3\\Lib\\site-packages\\pandas\\io\\parsers\\readers.py:1748\u001b[0m, in \u001b[0;36mTextFileReader.read\u001b[1;34m(self, nrows)\u001b[0m\n\u001b[0;32m   1741\u001b[0m nrows \u001b[38;5;241m=\u001b[39m validate_integer(\u001b[38;5;124m\"\u001b[39m\u001b[38;5;124mnrows\u001b[39m\u001b[38;5;124m\"\u001b[39m, nrows)\n\u001b[0;32m   1742\u001b[0m \u001b[38;5;28;01mtry\u001b[39;00m:\n\u001b[0;32m   1743\u001b[0m     \u001b[38;5;66;03m# error: \"ParserBase\" has no attribute \"read\"\u001b[39;00m\n\u001b[0;32m   1744\u001b[0m     (\n\u001b[0;32m   1745\u001b[0m         index,\n\u001b[0;32m   1746\u001b[0m         columns,\n\u001b[0;32m   1747\u001b[0m         col_dict,\n\u001b[1;32m-> 1748\u001b[0m     ) \u001b[38;5;241m=\u001b[39m \u001b[38;5;28;43mself\u001b[39;49m\u001b[38;5;241;43m.\u001b[39;49m\u001b[43m_engine\u001b[49m\u001b[38;5;241;43m.\u001b[39;49m\u001b[43mread\u001b[49m\u001b[43m(\u001b[49m\u001b[43m  \u001b[49m\u001b[38;5;66;43;03m# type: ignore[attr-defined]\u001b[39;49;00m\n\u001b[0;32m   1749\u001b[0m \u001b[43m        \u001b[49m\u001b[43mnrows\u001b[49m\n\u001b[0;32m   1750\u001b[0m \u001b[43m    \u001b[49m\u001b[43m)\u001b[49m\n\u001b[0;32m   1751\u001b[0m \u001b[38;5;28;01mexcept\u001b[39;00m \u001b[38;5;167;01mException\u001b[39;00m:\n\u001b[0;32m   1752\u001b[0m     \u001b[38;5;28mself\u001b[39m\u001b[38;5;241m.\u001b[39mclose()\n",
      "File \u001b[1;32m~\\anaconda3\\Lib\\site-packages\\pandas\\io\\parsers\\c_parser_wrapper.py:234\u001b[0m, in \u001b[0;36mCParserWrapper.read\u001b[1;34m(self, nrows)\u001b[0m\n\u001b[0;32m    232\u001b[0m \u001b[38;5;28;01mtry\u001b[39;00m:\n\u001b[0;32m    233\u001b[0m     \u001b[38;5;28;01mif\u001b[39;00m \u001b[38;5;28mself\u001b[39m\u001b[38;5;241m.\u001b[39mlow_memory:\n\u001b[1;32m--> 234\u001b[0m         chunks \u001b[38;5;241m=\u001b[39m \u001b[38;5;28;43mself\u001b[39;49m\u001b[38;5;241;43m.\u001b[39;49m\u001b[43m_reader\u001b[49m\u001b[38;5;241;43m.\u001b[39;49m\u001b[43mread_low_memory\u001b[49m\u001b[43m(\u001b[49m\u001b[43mnrows\u001b[49m\u001b[43m)\u001b[49m\n\u001b[0;32m    235\u001b[0m         \u001b[38;5;66;03m# destructive to chunks\u001b[39;00m\n\u001b[0;32m    236\u001b[0m         data \u001b[38;5;241m=\u001b[39m _concatenate_chunks(chunks)\n",
      "File \u001b[1;32mparsers.pyx:843\u001b[0m, in \u001b[0;36mpandas._libs.parsers.TextReader.read_low_memory\u001b[1;34m()\u001b[0m\n",
      "File \u001b[1;32mparsers.pyx:904\u001b[0m, in \u001b[0;36mpandas._libs.parsers.TextReader._read_rows\u001b[1;34m()\u001b[0m\n",
      "File \u001b[1;32mparsers.pyx:879\u001b[0m, in \u001b[0;36mpandas._libs.parsers.TextReader._tokenize_rows\u001b[1;34m()\u001b[0m\n",
      "File \u001b[1;32mparsers.pyx:890\u001b[0m, in \u001b[0;36mpandas._libs.parsers.TextReader._check_tokenize_status\u001b[1;34m()\u001b[0m\n",
      "File \u001b[1;32mparsers.pyx:2058\u001b[0m, in \u001b[0;36mpandas._libs.parsers.raise_parser_error\u001b[1;34m()\u001b[0m\n",
      "\u001b[1;31mParserError\u001b[0m: Error tokenizing data. C error: Expected 1 fields in line 8, saw 1123\n"
     ]
    }
   ],
   "source": [
    "# cholesterolreview_negative.csv\n",
    "import pandas as pd\n",
    "df_review_negative = pd.read_csv('../datasets/cholesterolreview_negative.csv')"
   ]
  },
  {
   "cell_type": "code",
   "execution_count": null,
   "id": "9ebd3241-ffbd-4dac-8ee2-1fbb82629ef2",
   "metadata": {
    "tags": []
   },
   "outputs": [],
   "source": [
    "df_review_negative.info()"
   ]
  },
  {
   "cell_type": "code",
   "execution_count": 51,
   "id": "0e897db0-a1cc-49d2-9b73-853e30993f1a",
   "metadata": {
    "tags": []
   },
   "outputs": [],
   "source": [
    "df_review_negative = df_review_negative.dropna()"
   ]
  },
  {
   "cell_type": "markdown",
   "id": "063b6532-b833-4876-bc55-53cb9801d85c",
   "metadata": {},
   "source": [
    "### LDA 분석(review_negative)"
   ]
  },
  {
   "cell_type": "markdown",
   "id": "01d207e4-a939-4466-bc2f-af8da9bbef69",
   "metadata": {},
   "source": [
    "##### 문장 벡터화(review_negative)"
   ]
  },
  {
   "cell_type": "code",
   "execution_count": 8,
   "id": "ce070acc-81dc-4ca9-80a1-185883e05bb8",
   "metadata": {
    "tags": []
   },
   "outputs": [],
   "source": [
    "from gensim.corpora import Dictionary"
   ]
  },
  {
   "cell_type": "code",
   "execution_count": 9,
   "id": "dc2827d9-40bb-4e4b-a15c-967386393183",
   "metadata": {
    "tags": []
   },
   "outputs": [
    {
     "data": {
      "text/plain": [
       "<gensim.corpora.dictionary.Dictionary at 0x1471bb3ad90>"
      ]
     },
     "execution_count": 9,
     "metadata": {},
     "output_type": "execute_result"
    }
   ],
   "source": [
    "# df_review_negative dictionary\n",
    "dictionary = Dictionary(df_review_negative[['replaced_review']].values)\n",
    "dictionary"
   ]
  },
  {
   "cell_type": "code",
   "execution_count": 10,
   "id": "404d4eb5-6d0a-476a-8a0b-32eca97eff8e",
   "metadata": {
    "tags": []
   },
   "outputs": [
    {
     "data": {
      "text/plain": [
       "[(3, 1)]"
      ]
     },
     "execution_count": 10,
     "metadata": {},
     "output_type": "execute_result"
    }
   ],
   "source": [
    "dictionary.doc2bow(df_review_negative[['replaced_review']].values[3])"
   ]
  },
  {
   "cell_type": "code",
   "execution_count": 11,
   "id": "2088e0ba-f9ed-4d6e-9901-5833b4f50d1d",
   "metadata": {
    "tags": []
   },
   "outputs": [],
   "source": [
    "# dictionary에 의한 한글 문장을 벡터화 변환\n",
    "corpus_list = list()\n",
    "for sentence in df_review_negative[['replaced_review']].values :\n",
    "  vectors = dictionary.doc2bow(sentence)\n",
    "  corpus_list.append(vectors)"
   ]
  },
  {
   "cell_type": "code",
   "execution_count": 12,
   "id": "55d2d2ce-e455-46e4-96aa-14450e7b3211",
   "metadata": {
    "tags": []
   },
   "outputs": [],
   "source": [
    "df_review_negative['문장벡터화'] = corpus_list"
   ]
  },
  {
   "cell_type": "code",
   "execution_count": 13,
   "id": "15ef6da6-9d6b-4ae5-ace9-4a09f2ce408e",
   "metadata": {
    "tags": []
   },
   "outputs": [
    {
     "data": {
      "text/plain": [
       "Index(['Unnamed: 0', '_id', 'product_name', 'review_writer', 'review_date',\n",
       "       'review_star', 'review_content', 'tokenizer_review', 'replaced_review',\n",
       "       '문장벡터화'],\n",
       "      dtype='object')"
      ]
     },
     "execution_count": 13,
     "metadata": {},
     "output_type": "execute_result"
    }
   ],
   "source": [
    "df_review_negative.columns"
   ]
  },
  {
   "cell_type": "markdown",
   "id": "d1a3749e-a02d-4899-a122-45b09e27b8a9",
   "metadata": {},
   "source": [
    "##### 토픽 잡기(review_negative)"
   ]
  },
  {
   "cell_type": "code",
   "execution_count": 14,
   "id": "7d3e2ca9-a9e1-4a06-b278-08a08ccd7094",
   "metadata": {
    "tags": []
   },
   "outputs": [],
   "source": [
    "from gensim.models import LdaModel"
   ]
  },
  {
   "cell_type": "code",
   "execution_count": 15,
   "id": "683ae0a6-8deb-49ca-82c7-cb7260c4729c",
   "metadata": {
    "tags": []
   },
   "outputs": [],
   "source": [
    "lda_model = LdaModel(corpus=corpus_list, id2word=dictionary, num_topics=5)"
   ]
  },
  {
   "cell_type": "code",
   "execution_count": 16,
   "id": "b16eaf94-419c-4f65-8de4-40833ec370ad",
   "metadata": {
    "tags": []
   },
   "outputs": [
    {
     "data": {
      "text/plain": [
       "[(0,\n",
       "  '0.073*\"배송 느리다 성능 성능 뛰어나다 유통 기한 기한 넉넉하다 배송 느리다\" + 0.072*\"줄줄\" + 0.072*\"제품 찌그러지다 해외 배송 믿다\" + 0.072*\"남성 32 사무직 직장인 5년 대리 수험생 도움 싶다 구매 느끼다\"'),\n",
       " (1,\n",
       "  '0.101*\"주문 해외 구매 대행 제품 반품 안되다 연락 안되다 차다 어이없다\" + 0.056*\"제품 루테인 건강 동시 건강 도움 2조 구입 유효 기간 2023년 9월 23일 이정 유효 기간 충분하다 배송 포장 상태 깜짝 놀라다 건강 보조 식품 제품 싸다 박스 포장 쿠팡 로켓 배송 비닐 포장 지로 포장 제품 어보 안좋다 예감 역쉬 제품 포장 터지다 포장 제도 이렇다 상태 배송 세균 주문 제품 바꾸다 쿠팡 체험 이벤트 상품 무료 제공 작성 구매 후기\" + 0.055*\"냄새 냄새 궁금하다 찝찝하다 속도 안좋다 아프다\" + 0.055*\"이유 종근당 제품 문해 혈압 낮아지다 꾸다 1년 그렇다 제품 다시 바꾸다 꾸준하다 복용 좋아지다 기대하다\"'),\n",
       " (2,\n",
       "  '0.116*\"배송 빨르다 성능 성능 별로 유통 기한 기한 넉넉하다 박스 규칙 혈압 측정 복용 전과 복용 개월차 별다르다 개선\" + 0.115*\"싸다 구입 좀쌀 피부 가려움 일어나서 중지 2일 중지 가려움증 성분 구입 19000원 택배 5만원\" + 0.044*\"기존 국내 제품 공구 판매 비싸다 성분 복용 해봤다 트러블\" + 0.044*\"0원 구매 쿄릭홍국 제품 품절 나서다 구매 몰리다 갑자기 가격 만원 올리다 판매 저렴하다 링크 남다 구매 하렵니\"'),\n",
       " (3,\n",
       "  '0.147*\"배송 느리다 성능 성능 뛰어나다 유통 기한 기한 넉넉하다 배송 느리다\" + 0.056*\"배송 빨르다 성능 성능 별로 유통 기한 기한 넉넉하다 박스 규칙 혈압 측정 복용 전과 복용 개월차 별다르다 개선\" + 0.056*\"대웅제약 우루사 알려지다 믿다 구매 판매 제조 코스 맥스 바이오 우쨋 먹기 재다 매다 병원 건강 안좋다 신경 써다\" + 0.056*\"검사 결과 크다 변화\"'),\n",
       " (4,\n",
       "  '0.120*\"먹기 혈액 검사 비교 해보다 레스 트롤 수치 감소 감마 수치 상승 야하다 양제 정확하다 상관관계 알다 의심 상황 복용 쉬다 기간 야하다\" + 0.120*\"택배 박스 젖다 제품 괜찬을줄 안다 약품 아니다 건강 식품 관리 보관 상태 중요 제품 박스 제품 젖다 괜찬을줄알 박스 개봉 해보다 박스 눌렸는 알약 튀어 벗기다 정말 제품 싸다 가격 아니다 다시 반품\" + 0.082*\"별로 좋다 사다 알약 넘다 넘어가다 걸리다 마냥 불편하다 알약 녹차 추출 물다 맞다 카페인 장기간 복용 우려 손상 손상 모르다 끊음 다이어트 쓰다 인용 청소년 사면 낭패\" + 0.045*\"0원 구매 쿄릭홍국 제품 품절 나서다 구매 몰리다 갑자기 가격 만원 올리다 판매 저렴하다 링크 남다 구매 하렵니\"')]"
      ]
     },
     "execution_count": 16,
     "metadata": {},
     "output_type": "execute_result"
    }
   ],
   "source": [
    "lda_model.print_topics(num_words=4)"
   ]
  },
  {
   "cell_type": "markdown",
   "id": "e73644c5-531d-4dbe-a99b-832f2dc5193c",
   "metadata": {},
   "source": [
    "##### 토픽 분석\n",
    "- review_negative.csv 토픽 분석\n",
    "- 토픽 수는 5으로 가정"
   ]
  },
  {
   "cell_type": "markdown",
   "id": "9e0f4888-5701-4dde-a1ec-b52dcdfb682c",
   "metadata": {},
   "source": [
    "##### LDA 시각화(review_negative)"
   ]
  },
  {
   "cell_type": "code",
   "execution_count": 25,
   "id": "3fbf590a-cbd6-411e-a900-da59dc414f8d",
   "metadata": {
    "collapsed": true,
    "jupyter": {
     "outputs_hidden": true
    },
    "tags": []
   },
   "outputs": [
    {
     "name": "stdout",
     "output_type": "stream",
     "text": [
      "Requirement already satisfied: pyLDAvis in c:\\users\\04-02\\anaconda3\\lib\\site-packages (3.4.1)\n",
      "Requirement already satisfied: numpy>=1.24.2 in c:\\users\\04-02\\anaconda3\\lib\\site-packages (from pyLDAvis) (1.24.3)\n",
      "Requirement already satisfied: scipy in c:\\users\\04-02\\anaconda3\\lib\\site-packages (from pyLDAvis) (1.10.1)\n",
      "Requirement already satisfied: pandas>=2.0.0 in c:\\users\\04-02\\anaconda3\\lib\\site-packages (from pyLDAvis) (2.1.1)\n",
      "Requirement already satisfied: joblib>=1.2.0 in c:\\users\\04-02\\anaconda3\\lib\\site-packages (from pyLDAvis) (1.2.0)\n",
      "Requirement already satisfied: jinja2 in c:\\users\\04-02\\anaconda3\\lib\\site-packages (from pyLDAvis) (3.1.2)\n",
      "Requirement already satisfied: numexpr in c:\\users\\04-02\\anaconda3\\lib\\site-packages (from pyLDAvis) (2.8.4)\n",
      "Requirement already satisfied: funcy in c:\\users\\04-02\\anaconda3\\lib\\site-packages (from pyLDAvis) (2.0)\n",
      "Requirement already satisfied: scikit-learn>=1.0.0 in c:\\users\\04-02\\anaconda3\\lib\\site-packages (from pyLDAvis) (1.2.2)\n",
      "Requirement already satisfied: gensim in c:\\users\\04-02\\anaconda3\\lib\\site-packages (from pyLDAvis) (4.3.0)\n",
      "Requirement already satisfied: setuptools in c:\\users\\04-02\\anaconda3\\lib\\site-packages (from pyLDAvis) (67.8.0)\n",
      "Requirement already satisfied: python-dateutil>=2.8.2 in c:\\users\\04-02\\appdata\\roaming\\python\\python311\\site-packages (from pandas>=2.0.0->pyLDAvis) (2.8.2)\n",
      "Requirement already satisfied: pytz>=2020.1 in c:\\users\\04-02\\anaconda3\\lib\\site-packages (from pandas>=2.0.0->pyLDAvis) (2022.7)\n",
      "Requirement already satisfied: tzdata>=2022.1 in c:\\users\\04-02\\anaconda3\\lib\\site-packages (from pandas>=2.0.0->pyLDAvis) (2023.3)\n",
      "Requirement already satisfied: threadpoolctl>=2.0.0 in c:\\users\\04-02\\anaconda3\\lib\\site-packages (from scikit-learn>=1.0.0->pyLDAvis) (2.2.0)\n",
      "Requirement already satisfied: smart-open>=1.8.1 in c:\\users\\04-02\\anaconda3\\lib\\site-packages (from gensim->pyLDAvis) (5.2.1)\n",
      "Requirement already satisfied: FuzzyTM>=0.4.0 in c:\\users\\04-02\\anaconda3\\lib\\site-packages (from gensim->pyLDAvis) (2.0.5)\n",
      "Requirement already satisfied: MarkupSafe>=2.0 in c:\\users\\04-02\\anaconda3\\lib\\site-packages (from jinja2->pyLDAvis) (2.1.1)\n",
      "Requirement already satisfied: pyfume in c:\\users\\04-02\\anaconda3\\lib\\site-packages (from FuzzyTM>=0.4.0->gensim->pyLDAvis) (0.2.25)\n",
      "Requirement already satisfied: six>=1.5 in c:\\users\\04-02\\appdata\\roaming\\python\\python311\\site-packages (from python-dateutil>=2.8.2->pandas>=2.0.0->pyLDAvis) (1.16.0)\n",
      "Requirement already satisfied: simpful in c:\\users\\04-02\\anaconda3\\lib\\site-packages (from pyfume->FuzzyTM>=0.4.0->gensim->pyLDAvis) (2.11.0)\n",
      "Requirement already satisfied: fst-pso in c:\\users\\04-02\\anaconda3\\lib\\site-packages (from pyfume->FuzzyTM>=0.4.0->gensim->pyLDAvis) (1.8.1)\n",
      "Requirement already satisfied: miniful in c:\\users\\04-02\\anaconda3\\lib\\site-packages (from fst-pso->pyfume->FuzzyTM>=0.4.0->gensim->pyLDAvis) (0.0.6)\n",
      "Note: you may need to restart the kernel to use updated packages.\n"
     ]
    }
   ],
   "source": [
    "# %pip install pyLDAvis"
   ]
  },
  {
   "cell_type": "code",
   "execution_count": 19,
   "id": "fcd4a836-44c8-4993-aa82-b2f784b3d005",
   "metadata": {
    "tags": []
   },
   "outputs": [],
   "source": [
    "import pyLDAvis.gensim_models"
   ]
  },
  {
   "cell_type": "code",
   "execution_count": 20,
   "id": "e3ec6520-26ec-4270-95d5-d442a900064e",
   "metadata": {
    "tags": []
   },
   "outputs": [],
   "source": [
    "pyLDAvis.enable_notebook() # 일반적인 python에선 불필요\n",
    "result_visualized = pyLDAvis.gensim_models.prepare(lda_model, corpus_list, dictionary)"
   ]
  },
  {
   "cell_type": "code",
   "execution_count": 21,
   "id": "6aeaca2f-757b-4ec6-beb7-b0b490c8df20",
   "metadata": {
    "tags": []
   },
   "outputs": [
    {
     "data": {
      "text/html": [
       "\n",
       "<link rel=\"stylesheet\" type=\"text/css\" href=\"https://cdn.jsdelivr.net/gh/bmabey/pyLDAvis@3.4.0/pyLDAvis/js/ldavis.v1.0.0.css\">\n",
       "\n",
       "\n",
       "<div id=\"ldavis_el2817614048397988006831836166\" style=\"background-color:white;\"></div>\n",
       "<script type=\"text/javascript\">\n",
       "\n",
       "var ldavis_el2817614048397988006831836166_data = {\"mdsDat\": {\"x\": [0.07741823841464354, -0.02267011716044298, -0.05474812125420056], \"y\": [0.0137140534759639, -0.05650403057884541, 0.04278997710288151], \"topics\": [1, 2, 3], \"cluster\": [1, 1, 1], \"Freq\": [36.95556654328054, 31.82477460300258, 31.21965885371688]}, \"tinfo\": {\"Term\": [\"\\ubc30\\uc1a1 \\ub290\\ub9ac\\ub2e4 \\uc131\\ub2a5 \\uc131\\ub2a5 \\ub6f0\\uc5b4\\ub098\\ub2e4 \\uc720\\ud1b5 \\uae30\\ud55c \\uae30\\ud55c \\ub109\\ub109\\ud558\\ub2e4 \\ubc30\\uc1a1 \\ub290\\ub9ac\\ub2e4\", \"\\ubc30\\uc1a1 \\ube68\\ub974\\ub2e4 \\uc131\\ub2a5 \\uc131\\ub2a5 \\ubcc4\\ub85c \\uc720\\ud1b5 \\uae30\\ud55c \\uae30\\ud55c \\ub109\\ub109\\ud558\\ub2e4 \\ubc15\\uc2a4 \\uaddc\\uce59 \\ud608\\uc555 \\uce21\\uc815 \\ubcf5\\uc6a9 \\uc804\\uacfc \\ubcf5\\uc6a9 \\uac1c\\uc6d4\\ucc28 \\ubcc4\\ub2e4\\ub974\\ub2e4 \\uac1c\\uc120\", \"\\ud0dd\\ubc30 \\ubc15\\uc2a4 \\uc816\\ub2e4 \\uc81c\\ud488 \\uad1c\\ucc2c\\uc744\\uc904 \\uc548\\ub2e4 \\uc57d\\ud488 \\uc544\\ub2c8\\ub2e4 \\uac74\\uac15 \\uc2dd\\ud488 \\uad00\\ub9ac \\ubcf4\\uad00 \\uc0c1\\ud0dc \\uc911\\uc694 \\uc81c\\ud488 \\ubc15\\uc2a4 \\uc81c\\ud488 \\uc816\\ub2e4 \\uad1c\\ucc2c\\uc744\\uc904\\uc54c \\ubc15\\uc2a4 \\uac1c\\ubd09 \\ud574\\ubcf4\\ub2e4 \\ubc15\\uc2a4 \\ub20c\\ub838\\ub294 \\uc54c\\uc57d \\ud280\\uc5b4 \\ubc97\\uae30\\ub2e4 \\uc815\\ub9d0 \\uc81c\\ud488 \\uc2f8\\ub2e4 \\uac00\\uaca9 \\uc544\\ub2c8\\ub2e4 \\ub2e4\\uc2dc \\ubc18\\ud488\", \"\\uba39\\uae30 \\ud608\\uc561 \\uac80\\uc0ac \\ube44\\uad50 \\ud574\\ubcf4\\ub2e4 \\ub808\\uc2a4 \\ud2b8\\ub864 \\uc218\\uce58 \\uac10\\uc18c \\uac10\\ub9c8 \\uc218\\uce58 \\uc0c1\\uc2b9 \\uc57c\\ud558\\ub2e4 \\uc591\\uc81c \\uc815\\ud655\\ud558\\ub2e4 \\uc0c1\\uad00\\uad00\\uacc4 \\uc54c\\ub2e4 \\uc758\\uc2ec \\uc0c1\\ud669 \\ubcf5\\uc6a9 \\uc26c\\ub2e4 \\uae30\\uac04 \\uc57c\\ud558\\ub2e4\", \"\\uac80\\uc0ac \\uacb0\\uacfc \\ud06c\\ub2e4 \\ubcc0\\ud654\", \"\\ub300\\uc6c5\\uc81c\\uc57d \\uc6b0\\ub8e8\\uc0ac \\uc54c\\ub824\\uc9c0\\ub2e4 \\ubbff\\ub2e4 \\uad6c\\ub9e4 \\ud310\\ub9e4 \\uc81c\\uc870 \\ucf54\\uc2a4 \\ub9e5\\uc2a4 \\ubc14\\uc774\\uc624 \\uc6b0\\uca0b \\uba39\\uae30 \\uc7ac\\ub2e4 \\ub9e4\\ub2e4 \\ubcd1\\uc6d0 \\uac74\\uac15 \\uc548\\uc88b\\ub2e4 \\uc2e0\\uacbd \\uc368\\ub2e4\", \"\\uc904\\uc904\", \"\\uc2f8\\ub2e4 \\uad6c\\uc785 \\uc880\\uc300 \\ud53c\\ubd80 \\uac00\\ub824\\uc6c0 \\uc77c\\uc5b4\\ub098\\uc11c \\uc911\\uc9c0 2\\uc77c \\uc911\\uc9c0 \\uac00\\ub824\\uc6c0\\uc99d \\uc131\\ubd84 \\uad6c\\uc785 19000\\uc6d0 \\ud0dd\\ubc30 5\\ub9cc\\uc6d0\", \"0\\uc6d0 \\uad6c\\ub9e4 \\ucfc4\\ub9ad\\ud64d\\uad6d \\uc81c\\ud488 \\ud488\\uc808 \\ub098\\uc11c\\ub2e4 \\uad6c\\ub9e4 \\ubab0\\ub9ac\\ub2e4 \\uac11\\uc790\\uae30 \\uac00\\uaca9 \\ub9cc\\uc6d0 \\uc62c\\ub9ac\\ub2e4 \\ud310\\ub9e4 \\uc800\\ub834\\ud558\\ub2e4 \\ub9c1\\ud06c \\ub0a8\\ub2e4 \\uad6c\\ub9e4 \\ud558\\ub835\\ub2c8\", \"\\uc8fc\\ubb38 \\ud574\\uc678 \\uad6c\\ub9e4 \\ub300\\ud589 \\uc81c\\ud488 \\ubc18\\ud488 \\uc548\\ub418\\ub2e4 \\uc5f0\\ub77d \\uc548\\ub418\\ub2e4 \\ucc28\\ub2e4 \\uc5b4\\uc774\\uc5c6\\ub2e4\", \"\\uc544\\uc27d\\ub2e4 \\uc548\\ucabd \\ub0a8\\ud3b8 \\ubcf5\\uc6a9 \\uba39\\uae30\", \"\\uae30\\uc874 \\uad6d\\ub0b4 \\uc81c\\ud488 \\uacf5\\uad6c \\ud310\\ub9e4 \\ube44\\uc2f8\\ub2e4 \\uc131\\ubd84 \\ubcf5\\uc6a9 \\ud574\\ubd24\\ub2e4 \\ud2b8\\ub7ec\\ube14\", \"\\uc7a5\\uae30 \\uc54c\\ub2e4 \\uc88b\\ub2e4 \\uc88b\\ub2e4 \\uc88b\\ub2e4 \\uc88b\\ub2e4 \\uc88b\\ub2e4 \\uc88b\\ub2e4 \\uc88b\\ub2e4 \\uc88b\\ub2e4\", \"\\ubcf5\\uc6a9 \\uc54c\\ub2e4 \\uadf8\\ub2e4\\uc9c0 \\ud06c\\ub2e4 \\ubcc0\\ud654 \\ubaa8\\ub974\\ub2e4\", \"\\ub0c4\\uc0c8 \\ub0c4\\uc0c8 \\uad81\\uae08\\ud558\\ub2e4 \\ucc1d\\ucc1d\\ud558\\ub2e4 \\uc18d\\ub3c4 \\uc548\\uc88b\\ub2e4 \\uc544\\ud504\\ub2e4\", \"\\uac00\\uaca9 \\uc2f8\\ub2e4 \\ubc30\\uc1a1 \\ube68\\ub974\\ub2e4 \\ubc30\\uc1a1 \\ube60\\ub974\\ub2e4 \\ube44\\ub2e4 \\uc800\\ub834\\ud558\\ub2e4\", \"\\uac00\\uaca9 \\uc2f8\\ub2e4 \\uc0ac\\ub2e4 \\ubc30\\uc1a1 \\ube68\\ub974\\ub2e4\", \"\\ucb48\\uc6b1 \\uc81c\\ud488 11 \\uc808\\ub54c \\ud560\\uc778 \\uc8fc\\ubb38 \\uc0c1\\uc138 \\uc0c1\\uc138\", \"\\ubc30\\uc1a1 \\uc798\\ubabb \\uac74\\uc9c0\\ub2e4 \\uadf8\\ub807\\ub2e4 \\ubc15\\uc2a4 \\ucc0c\\uadf8\\ub7ec\\uc9c0\\ub2e4 \\ucc22\\uae30\\ub2e4 \\ud280\\uc5b4\\ub098\\uc624\\ub2e4 \\uba87\\uac1c \\uadc0\\ucc2e\\ub2e4 \\ubc84\\ub9ac\\ub2e4 \\uc774\\ub807\\ub2e4 \\uc2e0\\uacbd \\uc368\\uc8fc\\ub2e4 \\uc9dc\\uc99d\\ub098\\ub2e4\", \"\\ubc30\\uc1a1 \\uc131\\ub2a5 \\uc131\\ub2a5 \\ubcc4\\ub85c \\uc720\\ud1b5 \\uae30\\ud55c \\uae30\\ud55c \\uc9e7\\ub2e4\", \"\\uc778\\uc9c0\\uc9c8 \\uc88b\\ub2e4 \\uc544\\uc2dc \\ub2e5\\ud130 \\ud06c\\ub9b4 \\uc624\\uc77c\\ud314 \\ud45c\\ud604 \\ud06c\\ub9b4 \\uc778\\uc9c0\\uc9c8 \\ub808\\uc2dc\\ud2f4 \\uc2f8\\ub2e4 \\ud568\\ub7c9 \\ub192\\ub2e4 \\ubd81\\uadf9\\ud574 \\uc0dd\\ud0dc\\uacc4 \\uc0b4\\ub9ac\\ub2e4 \\uc0c1\\uc138 \\uc0c1\\uc138\", \"\\uc720\\ud1b5 \\uae30\\ud55c \\ud3ec\\uc7a5 \\uc0c1\\ud0dc\", \"\\ubc30\\uc1a1 \\uc131\\ub2a5 \\uc131\\ub2a5 \\ubcc4\\ub85c \\uc720\\ud1b5 \\uae30\\ud55c \\uac10\\ub9c8 \\ub9ac\\ub180\\ub80c\\uc0b0 \\ud6a8\\ub2a5 \\uc5b4\\ub5bb\\ub2e4 \\uc81c\\uc57d\\ud68c\\uc0ac \\uc81c\\ud488 \\uc5ec\\uc131 \\uac31\\ub144\\uae30 \\uc720\\ub3c5 \\uc0c1\\ud488 \\uac00\\uaca9 \\ub192\\ub2e4 \\ud68c\\uc0ac \\ube44\\uad50 \\uac10\\ub9c8 \\ub9ac\\ub180\\ub80c\\uc0b0 \\ud568\\uc720 10% \\ub192\\ub2e4 \\uac00\\uaca9 \\ub192\\ub2e4 \\ud68c\\uc0ac \\uc81c\\ud488 40,000\\uc6d0 \\uac00\\uaca9 \\uc0c8\\ub2e4 \\ubaa8\\ub974\\ub2e4 30% \\uc62c\\ub9ac\\ub2e4 \\ub1a8\\ub124 90 \\ucea1\\uc290 \\ud310\\ub9e4 60 \\ucea1\\uc290 \\uc904\\uc774\\ub2e4 \\uad18\\uc538\\ud558\\ub2e4 \\ub2e4\\uc2dc\\ub2e4 \\uad6c\\uc785 \\uc0c1\\uc138 \\uc0c1\\uc138 \\uc0c1\\uc138\", \"\\uac00\\uaca9 \\uad1c\\ucc2e\\ub2e4 \\ubc30\\uc1a1\", \"\\uac00\\uaca9 \\ub9cc\\uc6d0\", \"\\uc0ac\\ub2e4 \\ubc30\\uc1a1 \\uc0c1\\ud0dc \\uae30\\ubd84 \\uc88b\\ub2e4\", \"\\ubc30\\uc1a1 \\ube68\\ub974\\ub2e4 \\uc131\\ub2a5 \\uc131\\ub2a5 \\ubcc4\\ub85c \\uc720\\ud1b5 \\uae30\\ud55c \\uae30\\ud55c \\ub109\\ub109\\ud558\\ub2e4 \\uc804\\ud600\", \"\\uc88b\\uc544\\uc9c0\\ub2e4 \\ubaa8\\ub974\\ub2e4 \\uc88b\\uc544\\uc9c0\\ub2e4 \\ubaa8\\ub974\\ub2e4 \\ubd80\\uc791\\uc6a9 \\uc548\\ub098 \\ub294\\uac78 \\uc5ec\\uae30\\ub2e4 \\uc57c\\ud558\\ub2e4\", \"\\ubcc4\\ub85c \\uc88b\\ub2e4 \\uc0ac\\ub2e4 \\uc54c\\uc57d \\ub118\\ub2e4 \\ub118\\uc5b4\\uac00\\ub2e4 \\uac78\\ub9ac\\ub2e4 \\ub9c8\\ub0e5 \\ubd88\\ud3b8\\ud558\\ub2e4 \\uc54c\\uc57d \\ub179\\ucc28 \\ucd94\\ucd9c \\ubb3c\\ub2e4 \\ub9de\\ub2e4 \\uce74\\ud398\\uc778 \\uc7a5\\uae30\\uac04 \\ubcf5\\uc6a9 \\uc6b0\\ub824 \\uc190\\uc0c1 \\uc190\\uc0c1 \\ubaa8\\ub974\\ub2e4 \\ub04a\\uc74c \\ub2e4\\uc774\\uc5b4\\ud2b8 \\uc4f0\\ub2e4 \\uc778\\uc6a9 \\uccad\\uc18c\\ub144 \\uc0ac\\uba74 \\ub0ad\\ud328\", \"\\uc131\\ub2a5 \\uc131\\ub2a5 \\ub6f0\\uc5b4\\ub098\\ub2e4\", \"\\ubc30\\uc1a1 \\ube68\\ub974\\ub2e4 \\uc131\\ub2a5 \\uc131\\ub2a5 \\ubcc4\\ub85c \\uc720\\ud1b5 \\uae30\\ud55c \\uae30\\ud55c \\ub109\\ub109\\ud558\\ub2e4 \\ubc15\\uc2a4 \\uaddc\\uce59 \\ud608\\uc555 \\uce21\\uc815 \\ubcf5\\uc6a9 \\uc804\\uacfc \\ubcf5\\uc6a9 \\uac1c\\uc6d4\\ucc28 \\ubcc4\\ub2e4\\ub974\\ub2e4 \\uac1c\\uc120\", \"\\ud0dd\\ubc30 \\ubc15\\uc2a4 \\uc816\\ub2e4 \\uc81c\\ud488 \\uad1c\\ucc2c\\uc744\\uc904 \\uc548\\ub2e4 \\uc57d\\ud488 \\uc544\\ub2c8\\ub2e4 \\uac74\\uac15 \\uc2dd\\ud488 \\uad00\\ub9ac \\ubcf4\\uad00 \\uc0c1\\ud0dc \\uc911\\uc694 \\uc81c\\ud488 \\ubc15\\uc2a4 \\uc81c\\ud488 \\uc816\\ub2e4 \\uad1c\\ucc2c\\uc744\\uc904\\uc54c \\ubc15\\uc2a4 \\uac1c\\ubd09 \\ud574\\ubcf4\\ub2e4 \\ubc15\\uc2a4 \\ub20c\\ub838\\ub294 \\uc54c\\uc57d \\ud280\\uc5b4 \\ubc97\\uae30\\ub2e4 \\uc815\\ub9d0 \\uc81c\\ud488 \\uc2f8\\ub2e4 \\uac00\\uaca9 \\uc544\\ub2c8\\ub2e4 \\ub2e4\\uc2dc \\ubc18\\ud488\", \"\\uba39\\uae30 \\ud608\\uc561 \\uac80\\uc0ac \\ube44\\uad50 \\ud574\\ubcf4\\ub2e4 \\ub808\\uc2a4 \\ud2b8\\ub864 \\uc218\\uce58 \\uac10\\uc18c \\uac10\\ub9c8 \\uc218\\uce58 \\uc0c1\\uc2b9 \\uc57c\\ud558\\ub2e4 \\uc591\\uc81c \\uc815\\ud655\\ud558\\ub2e4 \\uc0c1\\uad00\\uad00\\uacc4 \\uc54c\\ub2e4 \\uc758\\uc2ec \\uc0c1\\ud669 \\ubcf5\\uc6a9 \\uc26c\\ub2e4 \\uae30\\uac04 \\uc57c\\ud558\\ub2e4\", \"\\uc544\\uc27d\\ub2e4 \\uc548\\ucabd \\ub0a8\\ud3b8 \\ubcf5\\uc6a9 \\uba39\\uae30\", \"\\uae30\\uc874 \\uad6d\\ub0b4 \\uc81c\\ud488 \\uacf5\\uad6c \\ud310\\ub9e4 \\ube44\\uc2f8\\ub2e4 \\uc131\\ubd84 \\ubcf5\\uc6a9 \\ud574\\ubd24\\ub2e4 \\ud2b8\\ub7ec\\ube14\", \"\\ubcc4\\ub85c \\uc88b\\ub2e4 \\uc0ac\\ub2e4 \\uc54c\\uc57d \\ub118\\ub2e4 \\ub118\\uc5b4\\uac00\\ub2e4 \\uac78\\ub9ac\\ub2e4 \\ub9c8\\ub0e5 \\ubd88\\ud3b8\\ud558\\ub2e4 \\uc54c\\uc57d \\ub179\\ucc28 \\ucd94\\ucd9c \\ubb3c\\ub2e4 \\ub9de\\ub2e4 \\uce74\\ud398\\uc778 \\uc7a5\\uae30\\uac04 \\ubcf5\\uc6a9 \\uc6b0\\ub824 \\uc190\\uc0c1 \\uc190\\uc0c1 \\ubaa8\\ub974\\ub2e4 \\ub04a\\uc74c \\ub2e4\\uc774\\uc5b4\\ud2b8 \\uc4f0\\ub2e4 \\uc778\\uc6a9 \\uccad\\uc18c\\ub144 \\uc0ac\\uba74 \\ub0ad\\ud328\", \"\\uc2e0\\ub791 \\uc0ac\\ub2e4 \\ub808\\uc2dc\\ud2f4 \\uac04\\uc9c0\\ub7fd\\ub2e4 \\uae01\\ub2e4 \\ub300\\ub2e4 \\uc2e0\\ub791 \\ub808\\uc2dc\\ud2f4 \\ubd80\\uc791\\uc6a9 \\uac80\\uc0c9 \\ud574\\ubcf4\\ub2e4 \\uac04\\uc9c0\\ub7fd\\ub2e4 \\uc6c0\\uc99d \\ub450\\ub4dc\\ub7ec\\uae30 \\ubd80\\uc791\\uc6a9 \\uac00\\ub824\\uc6c0\\uc99d \\ube68\\uac1b\\ub2e4 \\uc88b\\uc544\\uc9c0\\ub2e4 \\uccb4\\uc9c8 \\ub2e4\\ub974\\ub2e4 \\ud310\\ub2e8 \\ud06c\\ub2e4 \\uc0c8\\ub07c\\uc190\\uac00\\ub77d \\ub9c8\\ub514 \\ud569\\uce58\\ub2e4\", \"\\uac00\\uaca9 \\uad1c\\ucc2e\\ub2e4 \\ubc30\\uc1a1 \\ube0c\\ub9ac \\uce90\\ub098\\ub2e4 \\uac10\\ub9c8 \\ub9ac\\ub180\\ub80c\\uc0b0 \\ubcf4\\ub77c \\uc624\\uc77c \\ub2ec\\ub9de\\uc774\\uaf43 \\uc790\\uc720\", \"\\ucfe0\\ud321 \\ud310\\ub9e4 \\uc81c\\ud488 \\uac00\\uaca9 \\uc218\\ub7c9 \\ud5c8\\uc704 \\uc815\\ubcf4 \\ub178\\ucd9c\\ud558\\ub2e4 \\uacb0\\uc81c \\ub098\\ub2c8 \\ud310\\ub9e4 \\uc790\\ub3c4 \\ubc1c\\uc1a1 \\ucfe0\\ud321 \\uc774\\uc720 \\uc218\\ub839 \\uc608\\uc815 \\ub0a0\\uc9dc \\ub2e4\\uac00\\uc624\\ub2e4 \\ucde8\\uc18c \\ud544\\uc694\\ud558\\ub2e4 \\ub0a0\\uc9dc \\uc784\\ubc15 \\uae09\\ud558\\ub2e4 \\ube44\\uc2f8\\ub2e4 \\uc6b8\\ub2e4 \\uaca8\\uc790 \\uba39\\uae30 \\uc790\\uc0ac \\ub85c\\ucf13 \\ubc30\\uc1a1 \\uc81c\\ud488 \\uad6c\\ub9e4 \\uc8fc\\ubb38 \\ub4e4\\uc5b4\\uc624\\ub2e4 \\ud310\\ub9e4 \\ubc1c\\uc1a1 \\uc815\\uc0c1 \\uc0ac\\uc720 \\uace0\\uac1d \\uace0\\uc9c0 \\uc0c1\\uc2dd \\uc544\\ub2c8\\ub2e4 \\uc774\\ub807\\ub2e4 \\uae30\\ubcf8 \\ub9e4\\ub274\\uc5bc \\uad50\\uc721 \\uc548\\ub418\\ub2e4 \\uac74\\uc9c0\\ub2e4 \\uc758\\ub3c4 \\ubc14\\uc778 \\uc5b4\\ub5bb\\ub2e4 \\uc8fc\\ubb38 \\uc9c0\\ub098\\ub2e4 \\uc18c\\uc2dd \\ud310\\ub9e4 \\ubb38\\uc758 \\ucfe0\\ud321 \\ubc30\\uc1a1 \\ubd88\\uac00 \\ucfe0\\ud321 \\ubb38\\uc758 \\ucde8\\uc18c \\uacbd\\uc704 \\ud5c8\\uc704 \\ub178\\ucd9c \\ud310\\ub9e4 \\uc758\\ubb34\\ubd88\\uc774\\ud589 \\ud30c\\uc545 \\uc5f0\\ub77d \\ubd80\\ud0c1 \\ucde8\\uc18c \\ubb38\\uc790 \\ub2ec\\ub791 \\uc815\\uc0c1\", \"\\ubc15\\uc2a4 \\uc655\\ucc3d \\ud30c\\uc190 \\ucc22\\uc5b4\\uc9c0\\ub2e4 \\ubc30\\uc1a1 \\ub3fc\\ub2e4 \\uae30\\ubd84 \\uc88b\\ub2e4\", \"\\uc81c\\ud488 \\ucc0c\\uadf8\\ub7ec\\uc9c0\\ub2e4 \\ud574\\uc678 \\ubc30\\uc1a1 \\ubbff\\ub2e4\", \"\\uc54c\\uc57d \\ub179\\ub2e4 \\ub3fc\\ub2e4 \\ub3fc\\ub2e4 \\uad73\\ub2e4 \\ube60\\uc9c0\\ub2e4 \\ubcd1\\uc18d \\ub369\\uc5b4\\ub9ac \\ubb49\\uce58\\ub2e4 \\ubc84\\ub9ac\\ub2e4 \\ubc18\\ud488 \\uadc0\\ucc2e\\ub2e4\", \"\\ubc30\\uc1a1 \\uc0c1\\ud488 \\uc0c1\\uc138\", \"\\uc81c\\ud488 \\ub8e8\\ud14c\\uc778 \\uac74\\uac15 \\ub3d9\\uc2dc \\uac74\\uac15 \\ub3c4\\uc6c0 2\\uc870 \\uad6c\\uc785 \\uc720\\ud6a8 \\uae30\\uac04 2023\\ub144 9\\uc6d4 23\\uc77c \\uc774\\uc815 \\uc720\\ud6a8 \\uae30\\uac04 \\ucda9\\ubd84\\ud558\\ub2e4 \\ubc30\\uc1a1 \\ud3ec\\uc7a5 \\uc0c1\\ud0dc \\uae5c\\uc9dd \\ub180\\ub77c\\ub2e4 \\uac74\\uac15 \\ubcf4\\uc870 \\uc2dd\\ud488 \\uc81c\\ud488 \\uc2f8\\ub2e4 \\ubc15\\uc2a4 \\ud3ec\\uc7a5 \\ucfe0\\ud321 \\ub85c\\ucf13 \\ubc30\\uc1a1 \\ube44\\ub2d0 \\ud3ec\\uc7a5 \\uc9c0\\ub85c \\ud3ec\\uc7a5 \\uc81c\\ud488 \\uc5b4\\ubcf4 \\uc548\\uc88b\\ub2e4 \\uc608\\uac10 \\uc5ed\\uc26c \\uc81c\\ud488 \\ud3ec\\uc7a5 \\ud130\\uc9c0\\ub2e4 \\ud3ec\\uc7a5 \\uc81c\\ub3c4 \\uc774\\ub807\\ub2e4 \\uc0c1\\ud0dc \\ubc30\\uc1a1 \\uc138\\uade0 \\uc8fc\\ubb38 \\uc81c\\ud488 \\ubc14\\uafb8\\ub2e4 \\ucfe0\\ud321 \\uccb4\\ud5d8 \\uc774\\ubca4\\ud2b8 \\uc0c1\\ud488 \\ubb34\\ub8cc \\uc81c\\uacf5 \\uc791\\uc131 \\uad6c\\ub9e4 \\ud6c4\\uae30\", \"\\uc544\\ud504\\ub2e4 \\uc0c1\\ud488 \\uad1c\\ucc2e\\ub2e4 \\ubcf4\\uc774\\ub2e4 \\ub9de\\ub2e4\", \"\\uc608\\uc120 \\ubcf4\\ub77c \\uc9c0\\uc720 \\uad6c\\ub9e4 \\ud574\\ubd24\\ub2e4 \\uc804\\ud600 \\uc0dd\\ub9ac \\uc99d\\ud6c4\\uad70\", \"\\ub0a8\\uc131 32 \\uc0ac\\ubb34\\uc9c1 \\uc9c1\\uc7a5\\uc778 5\\ub144 \\ub300\\ub9ac \\uc218\\ud5d8\\uc0dd \\ub3c4\\uc6c0 \\uc2f6\\ub2e4 \\uad6c\\ub9e4 \\ub290\\ub07c\\ub2e4\", \"\\uc131\\uc7a5 \\ube44\\uc2f8\\ub2e4 \\uc8fc\\ubba8 \\ud5c8\\ub2e4 \\ud06c\\ub2e4 \\uba39\\uc774\\ub2e4 \\uace0\\uc601 \\uc591\\uc81c \\uba39\\uc774\\ub2e4 \\ud06c\\ub2e4 \\uc720\\uc804 \\ud06c\\ub2e4 \\uc560\\uac00 \\ud06c\\ub2e4 \\uc560\\uac00 \\ud06c\\ub2e4 \\uc720\\uc804\\uc790 \\uac70\\ub098 \\ud06c\\ub2e4\", \"\\ubc30\\uc1a1 \\ube68\\ub974\\ub2e4 \\uc131\\ub2a5 \\uc131\\ub2a5 \\ubcc4\\ub85c \\uc720\\ud1b5 \\uae30\\ud55c \\uae30\\ud55c \\ub109\\ub109\\ud558\\ub2e4 \\ubd88\\ud589\\ud558\\ub2e4 \\uc640\\uc774\\ud504 \\ub298\\ub2e4\", \"\\uc131\\ub2a5 \\uc131\\ub2a5 \\ub6f0\\uc5b4\\ub098\\ub2e4\", \"\\ubc30\\uc1a1 \\ube68\\ub974\\ub2e4 \\uc720\\ud1b5 \\uae30\\ud55c \\uc2a4\\ud0a8 \\ucf5c\\ub808\\uc2a4\\ud2f4 \\ud608\\uad00 \\uac74\\uac15 \\ucf5c\\ub808\\uc2a4\\ud14c\\ub864 \\uac74\\uac15 \\ud64d\\uad6d \\ud568\\uc720 \\uc0c1\\uc138\", \"\\ubc30\\uc1a1 \\ube68\\ub974\\ub2e4 \\uc131\\ub2a5 \\uc131\\ub2a5 \\ubcc4\\ub85c \\uc720\\ud1b5 \\uae30\\ud55c \\uae30\\ud55c \\ub109\\ub109\\ud558\\ub2e4 \\uc804\\ud600\", \"\\ubc30\\uc1a1 \\uc131\\ub2a5 \\uc131\\ub2a5 \\ubcc4\\ub85c \\uc720\\ud1b5 \\uae30\\ud55c \\uac10\\ub9c8 \\ub9ac\\ub180\\ub80c\\uc0b0 \\ud6a8\\ub2a5 \\uc5b4\\ub5bb\\ub2e4 \\uc81c\\uc57d\\ud68c\\uc0ac \\uc81c\\ud488 \\uc5ec\\uc131 \\uac31\\ub144\\uae30 \\uc720\\ub3c5 \\uc0c1\\ud488 \\uac00\\uaca9 \\ub192\\ub2e4 \\ud68c\\uc0ac \\ube44\\uad50 \\uac10\\ub9c8 \\ub9ac\\ub180\\ub80c\\uc0b0 \\ud568\\uc720 10% \\ub192\\ub2e4 \\uac00\\uaca9 \\ub192\\ub2e4 \\ud68c\\uc0ac \\uc81c\\ud488 40,000\\uc6d0 \\uac00\\uaca9 \\uc0c8\\ub2e4 \\ubaa8\\ub974\\ub2e4 30% \\uc62c\\ub9ac\\ub2e4 \\ub1a8\\ub124 90 \\ucea1\\uc290 \\ud310\\ub9e4 60 \\ucea1\\uc290 \\uc904\\uc774\\ub2e4 \\uad18\\uc538\\ud558\\ub2e4 \\ub2e4\\uc2dc\\ub2e4 \\uad6c\\uc785 \\uc0c1\\uc138 \\uc0c1\\uc138 \\uc0c1\\uc138\", \"\\ubc30\\uc1a1 \\ub290\\ub9ac\\ub2e4 \\uc131\\ub2a5 \\uc131\\ub2a5 \\ubcc4\\ub85c \\uc720\\ud1b5 \\uae30\\ud55c \\ubcf4\\ub77c \\uc624\\uc77c \\ub2ec\\ub9de\\uc774\\uaf43 \\uc624\\uc77c \\uac31\\ub144\\uae30 \\uc99d\\uc0c1 \\ud6a8\\ub2a5 \\ud68c\\uc0ac \\ube44\\uad50 \\uac10\\ub9c8 \\ub9ac\\ub180\\ub80c\\uc0b0 \\ud568\\uc720 10% \\ub192\\ub2e4 \\uac00\\uaca9 \\uc0c1\\ub2f9\\ud558\\ub2e4 \\ube44\\uc2f8\\ub2e4 \\ud68c\\uc0ac 40,000\\uc6d0 \\uc81c\\ud488 48,000\\uc6d0 \\uac00\\uaca9 \\uc0c8\\ub2e4 \\ubaa8\\ub974\\ub2e4 30% \\uc62c\\ub9ac\\ub2e4 \\ud310\\ub9e4 \\uc904\\uc774\\ub2e4 \\uad18\\uc538\\ud558\\ub2e4 \\uc81c\\ud488 \\uad6c\\uc785 \\uc77c\\ub958 \\ub0b1\\uac1c \\ud3ec\\uc7a5 \\ubcf4\\uad00 \\uc628\\ub3c4 \\uc911\\uc694\\ud558\\ub2e4 \\uc81c\\ud488 \\uc800\\ub834\\ud558\\ub2e4 \\uc6a9\\ub7c9 \\ud3ec\\uc7a5 \\uad6c\\uc785 \\ub0c9\\uc7a5\\uace0 \\ub123\\ub2e4 \\uc0c1\\uc138 \\uc0c1\\uc138 \\uc0c1\\uc138 \\uc0c1\\uc138\", \"\\uac00\\uaca9 \\uad1c\\ucc2e\\ub2e4 \\ubc30\\uc1a1\", \"\\uc720\\ud1b5 \\uae30\\ud55c \\ud3ec\\uc7a5 \\uc0c1\\ud0dc\", \"\\ubc30\\uc1a1 \\uc131\\ub2a5 \\uc131\\ub2a5 \\ubcc4\\ub85c \\uc720\\ud1b5 \\uae30\\ud55c \\uae30\\ud55c \\uc9e7\\ub2e4\", \"\\uc774\\uc720 \\uc885\\uadfc\\ub2f9 \\uc81c\\ud488 \\ubb38\\ud574 \\ud608\\uc555 \\ub0ae\\uc544\\uc9c0\\ub2e4 \\uafb8\\ub2e4 1\\ub144 \\uadf8\\ub807\\ub2e4 \\uc81c\\ud488 \\ub2e4\\uc2dc \\ubc14\\uafb8\\ub2e4 \\uafb8\\uc900\\ud558\\ub2e4 \\ubcf5\\uc6a9 \\uc88b\\uc544\\uc9c0\\ub2e4 \\uae30\\ub300\\ud558\\ub2e4\", \"\\uc88b\\uc544\\uc9c0\\ub2e4 \\ubaa8\\ub974\\ub2e4 \\uc88b\\uc544\\uc9c0\\ub2e4 \\ubaa8\\ub974\\ub2e4 \\ubd80\\uc791\\uc6a9 \\uc548\\ub098 \\ub294\\uac78 \\uc5ec\\uae30\\ub2e4 \\uc57c\\ud558\\ub2e4\", \"\\uac00\\uaca9 \\ub9cc\\uc6d0\", \"0\\uc6d0 \\uad6c\\ub9e4 \\ucfc4\\ub9ad\\ud64d\\uad6d \\uc81c\\ud488 \\ud488\\uc808 \\ub098\\uc11c\\ub2e4 \\uad6c\\ub9e4 \\ubab0\\ub9ac\\ub2e4 \\uac11\\uc790\\uae30 \\uac00\\uaca9 \\ub9cc\\uc6d0 \\uc62c\\ub9ac\\ub2e4 \\ud310\\ub9e4 \\uc800\\ub834\\ud558\\ub2e4 \\ub9c1\\ud06c \\ub0a8\\ub2e4 \\uad6c\\ub9e4 \\ud558\\ub835\\ub2c8\", \"\\uc904\\uc904\", \"\\uc8fc\\ubb38 \\ud574\\uc678 \\uad6c\\ub9e4 \\ub300\\ud589 \\uc81c\\ud488 \\ubc18\\ud488 \\uc548\\ub418\\ub2e4 \\uc5f0\\ub77d \\uc548\\ub418\\ub2e4 \\ucc28\\ub2e4 \\uc5b4\\uc774\\uc5c6\\ub2e4\", \"\\uc2f8\\ub2e4 \\uad6c\\uc785 \\uc880\\uc300 \\ud53c\\ubd80 \\uac00\\ub824\\uc6c0 \\uc77c\\uc5b4\\ub098\\uc11c \\uc911\\uc9c0 2\\uc77c \\uc911\\uc9c0 \\uac00\\ub824\\uc6c0\\uc99d \\uc131\\ubd84 \\uad6c\\uc785 19000\\uc6d0 \\ud0dd\\ubc30 5\\ub9cc\\uc6d0\", \"\\ub300\\uc6c5\\uc81c\\uc57d \\uc6b0\\ub8e8\\uc0ac \\uc54c\\ub824\\uc9c0\\ub2e4 \\ubbff\\ub2e4 \\uad6c\\ub9e4 \\ud310\\ub9e4 \\uc81c\\uc870 \\ucf54\\uc2a4 \\ub9e5\\uc2a4 \\ubc14\\uc774\\uc624 \\uc6b0\\uca0b \\uba39\\uae30 \\uc7ac\\ub2e4 \\ub9e4\\ub2e4 \\ubcd1\\uc6d0 \\uac74\\uac15 \\uc548\\uc88b\\ub2e4 \\uc2e0\\uacbd \\uc368\\ub2e4\", \"\\ubc30\\uc1a1 \\ub290\\ub9ac\\ub2e4 \\uc131\\ub2a5 \\uc131\\ub2a5 \\ub6f0\\uc5b4\\ub098\\ub2e4 \\uc720\\ud1b5 \\uae30\\ud55c \\uae30\\ud55c \\ub109\\ub109\\ud558\\ub2e4 \\ubc30\\uc1a1 \\ub290\\ub9ac\\ub2e4\", \"\\uac80\\uc0ac \\uacb0\\uacfc \\ud06c\\ub2e4 \\ubcc0\\ud654\", \"\\uac80\\uc0ac \\uacb0\\uacfc \\ud06c\\ub2e4 \\ubcc0\\ud654\", \"\\ubcf5\\uc6a9 \\uc54c\\ub2e4 \\uadf8\\ub2e4\\uc9c0 \\ud06c\\ub2e4 \\ubcc0\\ud654 \\ubaa8\\ub974\\ub2e4\", \"\\uc8fc\\ubb38 \\ud574\\uc678 \\uad6c\\ub9e4 \\ub300\\ud589 \\uc81c\\ud488 \\ubc18\\ud488 \\uc548\\ub418\\ub2e4 \\uc5f0\\ub77d \\uc548\\ub418\\ub2e4 \\ucc28\\ub2e4 \\uc5b4\\uc774\\uc5c6\\ub2e4\", \"\\ub0c4\\uc0c8 \\ub0c4\\uc0c8 \\uad81\\uae08\\ud558\\ub2e4 \\ucc1d\\ucc1d\\ud558\\ub2e4 \\uc18d\\ub3c4 \\uc548\\uc88b\\ub2e4 \\uc544\\ud504\\ub2e4\", \"\\ubc30\\uc1a1 \\uc798\\ubabb \\uac74\\uc9c0\\ub2e4 \\uadf8\\ub807\\ub2e4 \\ubc15\\uc2a4 \\ucc0c\\uadf8\\ub7ec\\uc9c0\\ub2e4 \\ucc22\\uae30\\ub2e4 \\ud280\\uc5b4\\ub098\\uc624\\ub2e4 \\uba87\\uac1c \\uadc0\\ucc2e\\ub2e4 \\ubc84\\ub9ac\\ub2e4 \\uc774\\ub807\\ub2e4 \\uc2e0\\uacbd \\uc368\\uc8fc\\ub2e4 \\uc9dc\\uc99d\\ub098\\ub2e4\", \"\\ubc30\\uc1a1 \\uc131\\ub2a5 \\uc131\\ub2a5 \\ubcc4\\ub85c \\uc720\\ud1b5 \\uae30\\ud55c \\uae30\\ud55c \\uc9e7\\ub2e4\", \"\\uc778\\uc9c0\\uc9c8 \\uc88b\\ub2e4 \\uc544\\uc2dc \\ub2e5\\ud130 \\ud06c\\ub9b4 \\uc624\\uc77c\\ud314 \\ud45c\\ud604 \\ud06c\\ub9b4 \\uc778\\uc9c0\\uc9c8 \\ub808\\uc2dc\\ud2f4 \\uc2f8\\ub2e4 \\ud568\\ub7c9 \\ub192\\ub2e4 \\ubd81\\uadf9\\ud574 \\uc0dd\\ud0dc\\uacc4 \\uc0b4\\ub9ac\\ub2e4 \\uc0c1\\uc138 \\uc0c1\\uc138\", \"\\ubc30\\uc1a1 \\uc131\\ub2a5 \\uc131\\ub2a5 \\ubcc4\\ub85c \\uc720\\ud1b5 \\uae30\\ud55c \\uac10\\ub9c8 \\ub9ac\\ub180\\ub80c\\uc0b0 \\ud6a8\\ub2a5 \\uc5b4\\ub5bb\\ub2e4 \\uc81c\\uc57d\\ud68c\\uc0ac \\uc81c\\ud488 \\uc5ec\\uc131 \\uac31\\ub144\\uae30 \\uc720\\ub3c5 \\uc0c1\\ud488 \\uac00\\uaca9 \\ub192\\ub2e4 \\ud68c\\uc0ac \\ube44\\uad50 \\uac10\\ub9c8 \\ub9ac\\ub180\\ub80c\\uc0b0 \\ud568\\uc720 10% \\ub192\\ub2e4 \\uac00\\uaca9 \\ub192\\ub2e4 \\ud68c\\uc0ac \\uc81c\\ud488 40,000\\uc6d0 \\uac00\\uaca9 \\uc0c8\\ub2e4 \\ubaa8\\ub974\\ub2e4 30% \\uc62c\\ub9ac\\ub2e4 \\ub1a8\\ub124 90 \\ucea1\\uc290 \\ud310\\ub9e4 60 \\ucea1\\uc290 \\uc904\\uc774\\ub2e4 \\uad18\\uc538\\ud558\\ub2e4 \\ub2e4\\uc2dc\\ub2e4 \\uad6c\\uc785 \\uc0c1\\uc138 \\uc0c1\\uc138 \\uc0c1\\uc138\", \"\\ubc30\\uc1a1 \\ube68\\ub974\\ub2e4 \\uc131\\ub2a5 \\uc131\\ub2a5 \\ubcc4\\ub85c \\uc720\\ud1b5 \\uae30\\ud55c \\uae30\\ud55c \\ub109\\ub109\\ud558\\ub2e4 \\uc804\\ud600\", \"\\uac00\\uaca9 \\ub9cc\\uc6d0\", \"\\uc88b\\uc544\\uc9c0\\ub2e4 \\ubaa8\\ub974\\ub2e4 \\uc88b\\uc544\\uc9c0\\ub2e4 \\ubaa8\\ub974\\ub2e4 \\ubd80\\uc791\\uc6a9 \\uc548\\ub098 \\ub294\\uac78 \\uc5ec\\uae30\\ub2e4 \\uc57c\\ud558\\ub2e4\", \"\\uc131\\ub2a5 \\uc131\\ub2a5 \\ub6f0\\uc5b4\\ub098\\ub2e4\", \"\\ubc30\\uc1a1 \\ube68\\ub974\\ub2e4 \\uc720\\ud1b5 \\uae30\\ud55c \\uc2a4\\ud0a8 \\ucf5c\\ub808\\uc2a4\\ud2f4 \\ud608\\uad00 \\uac74\\uac15 \\ucf5c\\ub808\\uc2a4\\ud14c\\ub864 \\uac74\\uac15 \\ud64d\\uad6d \\ud568\\uc720 \\uc0c1\\uc138\", \"\\uc131\\uc7a5 \\ube44\\uc2f8\\ub2e4 \\uc8fc\\ubba8 \\ud5c8\\ub2e4 \\ud06c\\ub2e4 \\uba39\\uc774\\ub2e4 \\uace0\\uc601 \\uc591\\uc81c \\uba39\\uc774\\ub2e4 \\ud06c\\ub2e4 \\uc720\\uc804 \\ud06c\\ub2e4 \\uc560\\uac00 \\ud06c\\ub2e4 \\uc560\\uac00 \\ud06c\\ub2e4 \\uc720\\uc804\\uc790 \\uac70\\ub098 \\ud06c\\ub2e4\", \"\\ubc30\\uc1a1 \\ube68\\ub974\\ub2e4 \\uc131\\ub2a5 \\uc131\\ub2a5 \\ubcc4\\ub85c \\uc720\\ud1b5 \\uae30\\ud55c \\uae30\\ud55c \\ub109\\ub109\\ud558\\ub2e4 \\ubd88\\ud589\\ud558\\ub2e4 \\uc640\\uc774\\ud504 \\ub298\\ub2e4\", \"\\uc2f8\\ub2e4 \\uad6c\\uc785 \\uc880\\uc300 \\ud53c\\ubd80 \\uac00\\ub824\\uc6c0 \\uc77c\\uc5b4\\ub098\\uc11c \\uc911\\uc9c0 2\\uc77c \\uc911\\uc9c0 \\uac00\\ub824\\uc6c0\\uc99d \\uc131\\ubd84 \\uad6c\\uc785 19000\\uc6d0 \\ud0dd\\ubc30 5\\ub9cc\\uc6d0\", \"\\ub0a8\\uc131 32 \\uc0ac\\ubb34\\uc9c1 \\uc9c1\\uc7a5\\uc778 5\\ub144 \\ub300\\ub9ac \\uc218\\ud5d8\\uc0dd \\ub3c4\\uc6c0 \\uc2f6\\ub2e4 \\uad6c\\ub9e4 \\ub290\\ub07c\\ub2e4\", \"\\uc774\\uc720 \\uc885\\uadfc\\ub2f9 \\uc81c\\ud488 \\ubb38\\ud574 \\ud608\\uc555 \\ub0ae\\uc544\\uc9c0\\ub2e4 \\uafb8\\ub2e4 1\\ub144 \\uadf8\\ub807\\ub2e4 \\uc81c\\ud488 \\ub2e4\\uc2dc \\ubc14\\uafb8\\ub2e4 \\uafb8\\uc900\\ud558\\ub2e4 \\ubcf5\\uc6a9 \\uc88b\\uc544\\uc9c0\\ub2e4 \\uae30\\ub300\\ud558\\ub2e4\", \"\\uc544\\ud504\\ub2e4 \\uc0c1\\ud488 \\uad1c\\ucc2e\\ub2e4 \\ubcf4\\uc774\\ub2e4 \\ub9de\\ub2e4\", \"\\uc0ac\\ub2e4 \\ubc30\\uc1a1 \\uc0c1\\ud0dc \\uae30\\ubd84 \\uc88b\\ub2e4\", \"\\ubc30\\uc1a1 \\ub290\\ub9ac\\ub2e4 \\uc131\\ub2a5 \\uc131\\ub2a5 \\ubcc4\\ub85c \\uc720\\ud1b5 \\uae30\\ud55c \\ubcf4\\ub77c \\uc624\\uc77c \\ub2ec\\ub9de\\uc774\\uaf43 \\uc624\\uc77c \\uac31\\ub144\\uae30 \\uc99d\\uc0c1 \\ud6a8\\ub2a5 \\ud68c\\uc0ac \\ube44\\uad50 \\uac10\\ub9c8 \\ub9ac\\ub180\\ub80c\\uc0b0 \\ud568\\uc720 10% \\ub192\\ub2e4 \\uac00\\uaca9 \\uc0c1\\ub2f9\\ud558\\ub2e4 \\ube44\\uc2f8\\ub2e4 \\ud68c\\uc0ac 40,000\\uc6d0 \\uc81c\\ud488 48,000\\uc6d0 \\uac00\\uaca9 \\uc0c8\\ub2e4 \\ubaa8\\ub974\\ub2e4 30% \\uc62c\\ub9ac\\ub2e4 \\ud310\\ub9e4 \\uc904\\uc774\\ub2e4 \\uad18\\uc538\\ud558\\ub2e4 \\uc81c\\ud488 \\uad6c\\uc785 \\uc77c\\ub958 \\ub0b1\\uac1c \\ud3ec\\uc7a5 \\ubcf4\\uad00 \\uc628\\ub3c4 \\uc911\\uc694\\ud558\\ub2e4 \\uc81c\\ud488 \\uc800\\ub834\\ud558\\ub2e4 \\uc6a9\\ub7c9 \\ud3ec\\uc7a5 \\uad6c\\uc785 \\ub0c9\\uc7a5\\uace0 \\ub123\\ub2e4 \\uc0c1\\uc138 \\uc0c1\\uc138 \\uc0c1\\uc138 \\uc0c1\\uc138\", \"\\uc608\\uc120 \\ubcf4\\ub77c \\uc9c0\\uc720 \\uad6c\\ub9e4 \\ud574\\ubd24\\ub2e4 \\uc804\\ud600 \\uc0dd\\ub9ac \\uc99d\\ud6c4\\uad70\", \"\\uc81c\\ud488 \\ucc0c\\uadf8\\ub7ec\\uc9c0\\ub2e4 \\ud574\\uc678 \\ubc30\\uc1a1 \\ubbff\\ub2e4\", \"\\uc81c\\ud488 \\ub8e8\\ud14c\\uc778 \\uac74\\uac15 \\ub3d9\\uc2dc \\uac74\\uac15 \\ub3c4\\uc6c0 2\\uc870 \\uad6c\\uc785 \\uc720\\ud6a8 \\uae30\\uac04 2023\\ub144 9\\uc6d4 23\\uc77c \\uc774\\uc815 \\uc720\\ud6a8 \\uae30\\uac04 \\ucda9\\ubd84\\ud558\\ub2e4 \\ubc30\\uc1a1 \\ud3ec\\uc7a5 \\uc0c1\\ud0dc \\uae5c\\uc9dd \\ub180\\ub77c\\ub2e4 \\uac74\\uac15 \\ubcf4\\uc870 \\uc2dd\\ud488 \\uc81c\\ud488 \\uc2f8\\ub2e4 \\ubc15\\uc2a4 \\ud3ec\\uc7a5 \\ucfe0\\ud321 \\ub85c\\ucf13 \\ubc30\\uc1a1 \\ube44\\ub2d0 \\ud3ec\\uc7a5 \\uc9c0\\ub85c \\ud3ec\\uc7a5 \\uc81c\\ud488 \\uc5b4\\ubcf4 \\uc548\\uc88b\\ub2e4 \\uc608\\uac10 \\uc5ed\\uc26c \\uc81c\\ud488 \\ud3ec\\uc7a5 \\ud130\\uc9c0\\ub2e4 \\ud3ec\\uc7a5 \\uc81c\\ub3c4 \\uc774\\ub807\\ub2e4 \\uc0c1\\ud0dc \\ubc30\\uc1a1 \\uc138\\uade0 \\uc8fc\\ubb38 \\uc81c\\ud488 \\ubc14\\uafb8\\ub2e4 \\ucfe0\\ud321 \\uccb4\\ud5d8 \\uc774\\ubca4\\ud2b8 \\uc0c1\\ud488 \\ubb34\\ub8cc \\uc81c\\uacf5 \\uc791\\uc131 \\uad6c\\ub9e4 \\ud6c4\\uae30\", \"\\uac00\\uaca9 \\uc2f8\\ub2e4 \\uc0ac\\ub2e4 \\ubc30\\uc1a1 \\ube68\\ub974\\ub2e4\", \"\\ubc15\\uc2a4 \\uc655\\ucc3d \\ud30c\\uc190 \\ucc22\\uc5b4\\uc9c0\\ub2e4 \\ubc30\\uc1a1 \\ub3fc\\ub2e4 \\uae30\\ubd84 \\uc88b\\ub2e4\", \"\\ubc30\\uc1a1 \\uc0c1\\ud488 \\uc0c1\\uc138\", \"\\uac00\\uaca9 \\uad1c\\ucc2e\\ub2e4 \\ubc30\\uc1a1\", \"\\uac00\\uaca9 \\uad1c\\ucc2e\\ub2e4 \\ubc30\\uc1a1 \\ube0c\\ub9ac \\uce90\\ub098\\ub2e4 \\uac10\\ub9c8 \\ub9ac\\ub180\\ub80c\\uc0b0 \\ubcf4\\ub77c \\uc624\\uc77c \\ub2ec\\ub9de\\uc774\\uaf43 \\uc790\\uc720\", \"\\ucb48\\uc6b1 \\uc81c\\ud488 11 \\uc808\\ub54c \\ud560\\uc778 \\uc8fc\\ubb38 \\uc0c1\\uc138 \\uc0c1\\uc138\", \"\\ub300\\uc6c5\\uc81c\\uc57d \\uc6b0\\ub8e8\\uc0ac \\uc54c\\ub824\\uc9c0\\ub2e4 \\ubbff\\ub2e4 \\uad6c\\ub9e4 \\ud310\\ub9e4 \\uc81c\\uc870 \\ucf54\\uc2a4 \\ub9e5\\uc2a4 \\ubc14\\uc774\\uc624 \\uc6b0\\uca0b \\uba39\\uae30 \\uc7ac\\ub2e4 \\ub9e4\\ub2e4 \\ubcd1\\uc6d0 \\uac74\\uac15 \\uc548\\uc88b\\ub2e4 \\uc2e0\\uacbd \\uc368\\ub2e4\", \"0\\uc6d0 \\uad6c\\ub9e4 \\ucfc4\\ub9ad\\ud64d\\uad6d \\uc81c\\ud488 \\ud488\\uc808 \\ub098\\uc11c\\ub2e4 \\uad6c\\ub9e4 \\ubab0\\ub9ac\\ub2e4 \\uac11\\uc790\\uae30 \\uac00\\uaca9 \\ub9cc\\uc6d0 \\uc62c\\ub9ac\\ub2e4 \\ud310\\ub9e4 \\uc800\\ub834\\ud558\\ub2e4 \\ub9c1\\ud06c \\ub0a8\\ub2e4 \\uad6c\\ub9e4 \\ud558\\ub835\\ub2c8\", \"\\ubc30\\uc1a1 \\ube68\\ub974\\ub2e4 \\uc131\\ub2a5 \\uc131\\ub2a5 \\ubcc4\\ub85c \\uc720\\ud1b5 \\uae30\\ud55c \\uae30\\ud55c \\ub109\\ub109\\ud558\\ub2e4 \\ubc15\\uc2a4 \\uaddc\\uce59 \\ud608\\uc555 \\uce21\\uc815 \\ubcf5\\uc6a9 \\uc804\\uacfc \\ubcf5\\uc6a9 \\uac1c\\uc6d4\\ucc28 \\ubcc4\\ub2e4\\ub974\\ub2e4 \\uac1c\\uc120\", \"\\uba39\\uae30 \\ud608\\uc561 \\uac80\\uc0ac \\ube44\\uad50 \\ud574\\ubcf4\\ub2e4 \\ub808\\uc2a4 \\ud2b8\\ub864 \\uc218\\uce58 \\uac10\\uc18c \\uac10\\ub9c8 \\uc218\\uce58 \\uc0c1\\uc2b9 \\uc57c\\ud558\\ub2e4 \\uc591\\uc81c \\uc815\\ud655\\ud558\\ub2e4 \\uc0c1\\uad00\\uad00\\uacc4 \\uc54c\\ub2e4 \\uc758\\uc2ec \\uc0c1\\ud669 \\ubcf5\\uc6a9 \\uc26c\\ub2e4 \\uae30\\uac04 \\uc57c\\ud558\\ub2e4\", \"\\ubcc4\\ub85c \\uc88b\\ub2e4 \\uc0ac\\ub2e4 \\uc54c\\uc57d \\ub118\\ub2e4 \\ub118\\uc5b4\\uac00\\ub2e4 \\uac78\\ub9ac\\ub2e4 \\ub9c8\\ub0e5 \\ubd88\\ud3b8\\ud558\\ub2e4 \\uc54c\\uc57d \\ub179\\ucc28 \\ucd94\\ucd9c \\ubb3c\\ub2e4 \\ub9de\\ub2e4 \\uce74\\ud398\\uc778 \\uc7a5\\uae30\\uac04 \\ubcf5\\uc6a9 \\uc6b0\\ub824 \\uc190\\uc0c1 \\uc190\\uc0c1 \\ubaa8\\ub974\\ub2e4 \\ub04a\\uc74c \\ub2e4\\uc774\\uc5b4\\ud2b8 \\uc4f0\\ub2e4 \\uc778\\uc6a9 \\uccad\\uc18c\\ub144 \\uc0ac\\uba74 \\ub0ad\\ud328\", \"\\ubc30\\uc1a1 \\ub290\\ub9ac\\ub2e4 \\uc131\\ub2a5 \\uc131\\ub2a5 \\ub6f0\\uc5b4\\ub098\\ub2e4 \\uc720\\ud1b5 \\uae30\\ud55c \\uae30\\ud55c \\ub109\\ub109\\ud558\\ub2e4 \\ubc30\\uc1a1 \\ub290\\ub9ac\\ub2e4\", \"\\uae30\\uc874 \\uad6d\\ub0b4 \\uc81c\\ud488 \\uacf5\\uad6c \\ud310\\ub9e4 \\ube44\\uc2f8\\ub2e4 \\uc131\\ubd84 \\ubcf5\\uc6a9 \\ud574\\ubd24\\ub2e4 \\ud2b8\\ub7ec\\ube14\", \"\\ud0dd\\ubc30 \\ubc15\\uc2a4 \\uc816\\ub2e4 \\uc81c\\ud488 \\uad1c\\ucc2c\\uc744\\uc904 \\uc548\\ub2e4 \\uc57d\\ud488 \\uc544\\ub2c8\\ub2e4 \\uac74\\uac15 \\uc2dd\\ud488 \\uad00\\ub9ac \\ubcf4\\uad00 \\uc0c1\\ud0dc \\uc911\\uc694 \\uc81c\\ud488 \\ubc15\\uc2a4 \\uc81c\\ud488 \\uc816\\ub2e4 \\uad1c\\ucc2c\\uc744\\uc904\\uc54c \\ubc15\\uc2a4 \\uac1c\\ubd09 \\ud574\\ubcf4\\ub2e4 \\ubc15\\uc2a4 \\ub20c\\ub838\\ub294 \\uc54c\\uc57d \\ud280\\uc5b4 \\ubc97\\uae30\\ub2e4 \\uc815\\ub9d0 \\uc81c\\ud488 \\uc2f8\\ub2e4 \\uac00\\uaca9 \\uc544\\ub2c8\\ub2e4 \\ub2e4\\uc2dc \\ubc18\\ud488\", \"\\uc544\\uc27d\\ub2e4 \\uc548\\ucabd \\ub0a8\\ud3b8 \\ubcf5\\uc6a9 \\uba39\\uae30\", \"\\ubc30\\uc1a1 \\ub290\\ub9ac\\ub2e4 \\uc131\\ub2a5 \\uc131\\ub2a5 \\ub6f0\\uc5b4\\ub098\\ub2e4 \\uc720\\ud1b5 \\uae30\\ud55c \\uae30\\ud55c \\ub109\\ub109\\ud558\\ub2e4 \\ubc30\\uc1a1 \\ub290\\ub9ac\\ub2e4\", \"\\ub300\\uc6c5\\uc81c\\uc57d \\uc6b0\\ub8e8\\uc0ac \\uc54c\\ub824\\uc9c0\\ub2e4 \\ubbff\\ub2e4 \\uad6c\\ub9e4 \\ud310\\ub9e4 \\uc81c\\uc870 \\ucf54\\uc2a4 \\ub9e5\\uc2a4 \\ubc14\\uc774\\uc624 \\uc6b0\\uca0b \\uba39\\uae30 \\uc7ac\\ub2e4 \\ub9e4\\ub2e4 \\ubcd1\\uc6d0 \\uac74\\uac15 \\uc548\\uc88b\\ub2e4 \\uc2e0\\uacbd \\uc368\\ub2e4\", \"\\uc904\\uc904\", \"0\\uc6d0 \\uad6c\\ub9e4 \\ucfc4\\ub9ad\\ud64d\\uad6d \\uc81c\\ud488 \\ud488\\uc808 \\ub098\\uc11c\\ub2e4 \\uad6c\\ub9e4 \\ubab0\\ub9ac\\ub2e4 \\uac11\\uc790\\uae30 \\uac00\\uaca9 \\ub9cc\\uc6d0 \\uc62c\\ub9ac\\ub2e4 \\ud310\\ub9e4 \\uc800\\ub834\\ud558\\ub2e4 \\ub9c1\\ud06c \\ub0a8\\ub2e4 \\uad6c\\ub9e4 \\ud558\\ub835\\ub2c8\", \"\\uc7a5\\uae30 \\uc54c\\ub2e4 \\uc88b\\ub2e4 \\uc88b\\ub2e4 \\uc88b\\ub2e4 \\uc88b\\ub2e4 \\uc88b\\ub2e4 \\uc88b\\ub2e4 \\uc88b\\ub2e4 \\uc88b\\ub2e4\", \"\\uac00\\uaca9 \\uc2f8\\ub2e4 \\ubc30\\uc1a1 \\ube68\\ub974\\ub2e4 \\ubc30\\uc1a1 \\ube60\\ub974\\ub2e4 \\ube44\\ub2e4 \\uc800\\ub834\\ud558\\ub2e4\", \"\\uac00\\uaca9 \\uc2f8\\ub2e4 \\uc0ac\\ub2e4 \\ubc30\\uc1a1 \\ube68\\ub974\\ub2e4\", \"\\ucb48\\uc6b1 \\uc81c\\ud488 11 \\uc808\\ub54c \\ud560\\uc778 \\uc8fc\\ubb38 \\uc0c1\\uc138 \\uc0c1\\uc138\", \"\\uc720\\ud1b5 \\uae30\\ud55c \\ud3ec\\uc7a5 \\uc0c1\\ud0dc\", \"\\uac00\\uaca9 \\uad1c\\ucc2e\\ub2e4 \\ubc30\\uc1a1\", \"\\uc0ac\\ub2e4 \\ubc30\\uc1a1 \\uc0c1\\ud0dc \\uae30\\ubd84 \\uc88b\\ub2e4\", \"\\ubc30\\uc1a1 \\ub290\\ub9ac\\ub2e4 \\uc131\\ub2a5 \\uc131\\ub2a5 \\ubcc4\\ub85c \\uc720\\ud1b5 \\uae30\\ud55c \\ubcf4\\ub77c \\uc624\\uc77c \\ub2ec\\ub9de\\uc774\\uaf43 \\uc624\\uc77c \\uac31\\ub144\\uae30 \\uc99d\\uc0c1 \\ud6a8\\ub2a5 \\ud68c\\uc0ac \\ube44\\uad50 \\uac10\\ub9c8 \\ub9ac\\ub180\\ub80c\\uc0b0 \\ud568\\uc720 10% \\ub192\\ub2e4 \\uac00\\uaca9 \\uc0c1\\ub2f9\\ud558\\ub2e4 \\ube44\\uc2f8\\ub2e4 \\ud68c\\uc0ac 40,000\\uc6d0 \\uc81c\\ud488 48,000\\uc6d0 \\uac00\\uaca9 \\uc0c8\\ub2e4 \\ubaa8\\ub974\\ub2e4 30% \\uc62c\\ub9ac\\ub2e4 \\ud310\\ub9e4 \\uc904\\uc774\\ub2e4 \\uad18\\uc538\\ud558\\ub2e4 \\uc81c\\ud488 \\uad6c\\uc785 \\uc77c\\ub958 \\ub0b1\\uac1c \\ud3ec\\uc7a5 \\ubcf4\\uad00 \\uc628\\ub3c4 \\uc911\\uc694\\ud558\\ub2e4 \\uc81c\\ud488 \\uc800\\ub834\\ud558\\ub2e4 \\uc6a9\\ub7c9 \\ud3ec\\uc7a5 \\uad6c\\uc785 \\ub0c9\\uc7a5\\uace0 \\ub123\\ub2e4 \\uc0c1\\uc138 \\uc0c1\\uc138 \\uc0c1\\uc138 \\uc0c1\\uc138\", \"\\uc774\\uc720 \\uc885\\uadfc\\ub2f9 \\uc81c\\ud488 \\ubb38\\ud574 \\ud608\\uc555 \\ub0ae\\uc544\\uc9c0\\ub2e4 \\uafb8\\ub2e4 1\\ub144 \\uadf8\\ub807\\ub2e4 \\uc81c\\ud488 \\ub2e4\\uc2dc \\ubc14\\uafb8\\ub2e4 \\uafb8\\uc900\\ud558\\ub2e4 \\ubcf5\\uc6a9 \\uc88b\\uc544\\uc9c0\\ub2e4 \\uae30\\ub300\\ud558\\ub2e4\", \"\\uc2f8\\ub2e4 \\uad6c\\uc785 \\uc880\\uc300 \\ud53c\\ubd80 \\uac00\\ub824\\uc6c0 \\uc77c\\uc5b4\\ub098\\uc11c \\uc911\\uc9c0 2\\uc77c \\uc911\\uc9c0 \\uac00\\ub824\\uc6c0\\uc99d \\uc131\\ubd84 \\uad6c\\uc785 19000\\uc6d0 \\ud0dd\\ubc30 5\\ub9cc\\uc6d0\", \"\\uc54c\\uc57d \\ub179\\ub2e4 \\ub3fc\\ub2e4 \\ub3fc\\ub2e4 \\uad73\\ub2e4 \\ube60\\uc9c0\\ub2e4 \\ubcd1\\uc18d \\ub369\\uc5b4\\ub9ac \\ubb49\\uce58\\ub2e4 \\ubc84\\ub9ac\\ub2e4 \\ubc18\\ud488 \\uadc0\\ucc2e\\ub2e4\", \"\\uc88b\\uc544\\uc9c0\\ub2e4 \\ubaa8\\ub974\\ub2e4 \\uc88b\\uc544\\uc9c0\\ub2e4 \\ubaa8\\ub974\\ub2e4 \\ubd80\\uc791\\uc6a9 \\uc548\\ub098 \\ub294\\uac78 \\uc5ec\\uae30\\ub2e4 \\uc57c\\ud558\\ub2e4\", \"\\uac00\\uaca9 \\ub9cc\\uc6d0\", \"\\ubc30\\uc1a1 \\uc0c1\\ud488 \\uc0c1\\uc138\", \"\\uc81c\\ud488 \\ub8e8\\ud14c\\uc778 \\uac74\\uac15 \\ub3d9\\uc2dc \\uac74\\uac15 \\ub3c4\\uc6c0 2\\uc870 \\uad6c\\uc785 \\uc720\\ud6a8 \\uae30\\uac04 2023\\ub144 9\\uc6d4 23\\uc77c \\uc774\\uc815 \\uc720\\ud6a8 \\uae30\\uac04 \\ucda9\\ubd84\\ud558\\ub2e4 \\ubc30\\uc1a1 \\ud3ec\\uc7a5 \\uc0c1\\ud0dc \\uae5c\\uc9dd \\ub180\\ub77c\\ub2e4 \\uac74\\uac15 \\ubcf4\\uc870 \\uc2dd\\ud488 \\uc81c\\ud488 \\uc2f8\\ub2e4 \\ubc15\\uc2a4 \\ud3ec\\uc7a5 \\ucfe0\\ud321 \\ub85c\\ucf13 \\ubc30\\uc1a1 \\ube44\\ub2d0 \\ud3ec\\uc7a5 \\uc9c0\\ub85c \\ud3ec\\uc7a5 \\uc81c\\ud488 \\uc5b4\\ubcf4 \\uc548\\uc88b\\ub2e4 \\uc608\\uac10 \\uc5ed\\uc26c \\uc81c\\ud488 \\ud3ec\\uc7a5 \\ud130\\uc9c0\\ub2e4 \\ud3ec\\uc7a5 \\uc81c\\ub3c4 \\uc774\\ub807\\ub2e4 \\uc0c1\\ud0dc \\ubc30\\uc1a1 \\uc138\\uade0 \\uc8fc\\ubb38 \\uc81c\\ud488 \\ubc14\\uafb8\\ub2e4 \\ucfe0\\ud321 \\uccb4\\ud5d8 \\uc774\\ubca4\\ud2b8 \\uc0c1\\ud488 \\ubb34\\ub8cc \\uc81c\\uacf5 \\uc791\\uc131 \\uad6c\\ub9e4 \\ud6c4\\uae30\", \"\\ub0a8\\uc131 32 \\uc0ac\\ubb34\\uc9c1 \\uc9c1\\uc7a5\\uc778 5\\ub144 \\ub300\\ub9ac \\uc218\\ud5d8\\uc0dd \\ub3c4\\uc6c0 \\uc2f6\\ub2e4 \\uad6c\\ub9e4 \\ub290\\ub07c\\ub2e4\", \"\\ubc30\\uc1a1 \\ube68\\ub974\\ub2e4 \\uc131\\ub2a5 \\uc131\\ub2a5 \\ubcc4\\ub85c \\uc720\\ud1b5 \\uae30\\ud55c \\uae30\\ud55c \\ub109\\ub109\\ud558\\ub2e4 \\ubd88\\ud589\\ud558\\ub2e4 \\uc640\\uc774\\ud504 \\ub298\\ub2e4\", \"\\ubc30\\uc1a1 \\ube68\\ub974\\ub2e4 \\uc720\\ud1b5 \\uae30\\ud55c \\uc2a4\\ud0a8 \\ucf5c\\ub808\\uc2a4\\ud2f4 \\ud608\\uad00 \\uac74\\uac15 \\ucf5c\\ub808\\uc2a4\\ud14c\\ub864 \\uac74\\uac15 \\ud64d\\uad6d \\ud568\\uc720 \\uc0c1\\uc138\", \"\\uc131\\ub2a5 \\uc131\\ub2a5 \\ub6f0\\uc5b4\\ub098\\ub2e4\", \"\\ucfe0\\ud321 \\ud310\\ub9e4 \\uc81c\\ud488 \\uac00\\uaca9 \\uc218\\ub7c9 \\ud5c8\\uc704 \\uc815\\ubcf4 \\ub178\\ucd9c\\ud558\\ub2e4 \\uacb0\\uc81c \\ub098\\ub2c8 \\ud310\\ub9e4 \\uc790\\ub3c4 \\ubc1c\\uc1a1 \\ucfe0\\ud321 \\uc774\\uc720 \\uc218\\ub839 \\uc608\\uc815 \\ub0a0\\uc9dc \\ub2e4\\uac00\\uc624\\ub2e4 \\ucde8\\uc18c \\ud544\\uc694\\ud558\\ub2e4 \\ub0a0\\uc9dc \\uc784\\ubc15 \\uae09\\ud558\\ub2e4 \\ube44\\uc2f8\\ub2e4 \\uc6b8\\ub2e4 \\uaca8\\uc790 \\uba39\\uae30 \\uc790\\uc0ac \\ub85c\\ucf13 \\ubc30\\uc1a1 \\uc81c\\ud488 \\uad6c\\ub9e4 \\uc8fc\\ubb38 \\ub4e4\\uc5b4\\uc624\\ub2e4 \\ud310\\ub9e4 \\ubc1c\\uc1a1 \\uc815\\uc0c1 \\uc0ac\\uc720 \\uace0\\uac1d \\uace0\\uc9c0 \\uc0c1\\uc2dd \\uc544\\ub2c8\\ub2e4 \\uc774\\ub807\\ub2e4 \\uae30\\ubcf8 \\ub9e4\\ub274\\uc5bc \\uad50\\uc721 \\uc548\\ub418\\ub2e4 \\uac74\\uc9c0\\ub2e4 \\uc758\\ub3c4 \\ubc14\\uc778 \\uc5b4\\ub5bb\\ub2e4 \\uc8fc\\ubb38 \\uc9c0\\ub098\\ub2e4 \\uc18c\\uc2dd \\ud310\\ub9e4 \\ubb38\\uc758 \\ucfe0\\ud321 \\ubc30\\uc1a1 \\ubd88\\uac00 \\ucfe0\\ud321 \\ubb38\\uc758 \\ucde8\\uc18c \\uacbd\\uc704 \\ud5c8\\uc704 \\ub178\\ucd9c \\ud310\\ub9e4 \\uc758\\ubb34\\ubd88\\uc774\\ud589 \\ud30c\\uc545 \\uc5f0\\ub77d \\ubd80\\ud0c1 \\ucde8\\uc18c \\ubb38\\uc790 \\ub2ec\\ub791 \\uc815\\uc0c1\", \"\\uc131\\uc7a5 \\ube44\\uc2f8\\ub2e4 \\uc8fc\\ubba8 \\ud5c8\\ub2e4 \\ud06c\\ub2e4 \\uba39\\uc774\\ub2e4 \\uace0\\uc601 \\uc591\\uc81c \\uba39\\uc774\\ub2e4 \\ud06c\\ub2e4 \\uc720\\uc804 \\ud06c\\ub2e4 \\uc560\\uac00 \\ud06c\\ub2e4 \\uc560\\uac00 \\ud06c\\ub2e4 \\uc720\\uc804\\uc790 \\uac70\\ub098 \\ud06c\\ub2e4\", \"\\uc608\\uc120 \\ubcf4\\ub77c \\uc9c0\\uc720 \\uad6c\\ub9e4 \\ud574\\ubd24\\ub2e4 \\uc804\\ud600 \\uc0dd\\ub9ac \\uc99d\\ud6c4\\uad70\", \"\\uc778\\uc9c0\\uc9c8 \\uc88b\\ub2e4 \\uc544\\uc2dc \\ub2e5\\ud130 \\ud06c\\ub9b4 \\uc624\\uc77c\\ud314 \\ud45c\\ud604 \\ud06c\\ub9b4 \\uc778\\uc9c0\\uc9c8 \\ub808\\uc2dc\\ud2f4 \\uc2f8\\ub2e4 \\ud568\\ub7c9 \\ub192\\ub2e4 \\ubd81\\uadf9\\ud574 \\uc0dd\\ud0dc\\uacc4 \\uc0b4\\ub9ac\\ub2e4 \\uc0c1\\uc138 \\uc0c1\\uc138\", \"\\ub0c4\\uc0c8 \\ub0c4\\uc0c8 \\uad81\\uae08\\ud558\\ub2e4 \\ucc1d\\ucc1d\\ud558\\ub2e4 \\uc18d\\ub3c4 \\uc548\\uc88b\\ub2e4 \\uc544\\ud504\\ub2e4\", \"\\ubcc4\\ub85c \\uc88b\\ub2e4 \\uc0ac\\ub2e4 \\uc54c\\uc57d \\ub118\\ub2e4 \\ub118\\uc5b4\\uac00\\ub2e4 \\uac78\\ub9ac\\ub2e4 \\ub9c8\\ub0e5 \\ubd88\\ud3b8\\ud558\\ub2e4 \\uc54c\\uc57d \\ub179\\ucc28 \\ucd94\\ucd9c \\ubb3c\\ub2e4 \\ub9de\\ub2e4 \\uce74\\ud398\\uc778 \\uc7a5\\uae30\\uac04 \\ubcf5\\uc6a9 \\uc6b0\\ub824 \\uc190\\uc0c1 \\uc190\\uc0c1 \\ubaa8\\ub974\\ub2e4 \\ub04a\\uc74c \\ub2e4\\uc774\\uc5b4\\ud2b8 \\uc4f0\\ub2e4 \\uc778\\uc6a9 \\uccad\\uc18c\\ub144 \\uc0ac\\uba74 \\ub0ad\\ud328\", \"\\ubc30\\uc1a1 \\uc798\\ubabb \\uac74\\uc9c0\\ub2e4 \\uadf8\\ub807\\ub2e4 \\ubc15\\uc2a4 \\ucc0c\\uadf8\\ub7ec\\uc9c0\\ub2e4 \\ucc22\\uae30\\ub2e4 \\ud280\\uc5b4\\ub098\\uc624\\ub2e4 \\uba87\\uac1c \\uadc0\\ucc2e\\ub2e4 \\ubc84\\ub9ac\\ub2e4 \\uc774\\ub807\\ub2e4 \\uc2e0\\uacbd \\uc368\\uc8fc\\ub2e4 \\uc9dc\\uc99d\\ub098\\ub2e4\", \"\\uc8fc\\ubb38 \\ud574\\uc678 \\uad6c\\ub9e4 \\ub300\\ud589 \\uc81c\\ud488 \\ubc18\\ud488 \\uc548\\ub418\\ub2e4 \\uc5f0\\ub77d \\uc548\\ub418\\ub2e4 \\ucc28\\ub2e4 \\uc5b4\\uc774\\uc5c6\\ub2e4\", \"\\uac80\\uc0ac \\uacb0\\uacfc \\ud06c\\ub2e4 \\ubcc0\\ud654\", \"\\ubc30\\uc1a1 \\ube68\\ub974\\ub2e4 \\uc131\\ub2a5 \\uc131\\ub2a5 \\ubcc4\\ub85c \\uc720\\ud1b5 \\uae30\\ud55c \\uae30\\ud55c \\ub109\\ub109\\ud558\\ub2e4 \\ubc15\\uc2a4 \\uaddc\\uce59 \\ud608\\uc555 \\uce21\\uc815 \\ubcf5\\uc6a9 \\uc804\\uacfc \\ubcf5\\uc6a9 \\uac1c\\uc6d4\\ucc28 \\ubcc4\\ub2e4\\ub974\\ub2e4 \\uac1c\\uc120\", \"\\ud0dd\\ubc30 \\ubc15\\uc2a4 \\uc816\\ub2e4 \\uc81c\\ud488 \\uad1c\\ucc2c\\uc744\\uc904 \\uc548\\ub2e4 \\uc57d\\ud488 \\uc544\\ub2c8\\ub2e4 \\uac74\\uac15 \\uc2dd\\ud488 \\uad00\\ub9ac \\ubcf4\\uad00 \\uc0c1\\ud0dc \\uc911\\uc694 \\uc81c\\ud488 \\ubc15\\uc2a4 \\uc81c\\ud488 \\uc816\\ub2e4 \\uad1c\\ucc2c\\uc744\\uc904\\uc54c \\ubc15\\uc2a4 \\uac1c\\ubd09 \\ud574\\ubcf4\\ub2e4 \\ubc15\\uc2a4 \\ub20c\\ub838\\ub294 \\uc54c\\uc57d \\ud280\\uc5b4 \\ubc97\\uae30\\ub2e4 \\uc815\\ub9d0 \\uc81c\\ud488 \\uc2f8\\ub2e4 \\uac00\\uaca9 \\uc544\\ub2c8\\ub2e4 \\ub2e4\\uc2dc \\ubc18\\ud488\", \"\\uae30\\uc874 \\uad6d\\ub0b4 \\uc81c\\ud488 \\uacf5\\uad6c \\ud310\\ub9e4 \\ube44\\uc2f8\\ub2e4 \\uc131\\ubd84 \\ubcf5\\uc6a9 \\ud574\\ubd24\\ub2e4 \\ud2b8\\ub7ec\\ube14\", \"\\uba39\\uae30 \\ud608\\uc561 \\uac80\\uc0ac \\ube44\\uad50 \\ud574\\ubcf4\\ub2e4 \\ub808\\uc2a4 \\ud2b8\\ub864 \\uc218\\uce58 \\uac10\\uc18c \\uac10\\ub9c8 \\uc218\\uce58 \\uc0c1\\uc2b9 \\uc57c\\ud558\\ub2e4 \\uc591\\uc81c \\uc815\\ud655\\ud558\\ub2e4 \\uc0c1\\uad00\\uad00\\uacc4 \\uc54c\\ub2e4 \\uc758\\uc2ec \\uc0c1\\ud669 \\ubcf5\\uc6a9 \\uc26c\\ub2e4 \\uae30\\uac04 \\uc57c\\ud558\\ub2e4\", \"\\uc544\\uc27d\\ub2e4 \\uc548\\ucabd \\ub0a8\\ud3b8 \\ubcf5\\uc6a9 \\uba39\\uae30\"], \"Freq\": [2.0, 2.0, 2.0, 2.0, 1.0, 1.0, 1.0, 2.0, 1.0, 1.0, 1.0, 1.0, 1.0, 1.0, 1.0, 1.0, 1.0, 1.0, 1.0, 1.0, 1.0, 1.0, 1.0, 1.0, 1.0, 1.0, 1.0, 1.0, 1.0, 1.0, 2.1525321158174937, 1.71819958853332, 1.7122722746177466, 1.2306682512757994, 1.1957007881849369, 1.1199905607831768, 0.7397094048125996, 0.7111654548783958, 0.7081336511652869, 0.7005753128078349, 0.6892336483195821, 0.6755584572044206, 0.6747353352624705, 0.6719841144566077, 0.6662252593201903, 0.6654900466926056, 0.511248861392794, 0.2856503908341751, 0.28190952013194004, 0.27952331606316744, 0.2769665633814088, 0.26910890175899704, 0.2669324079719355, 0.2574494916662626, 0.2529262280661748, 0.24478771094949572, 0.24768783241573722, 0.2428670855130835, 0.2453353155596788, 0.2446755641058207, 0.3592494771872276, 0.3563779546426363, 0.36260904407785055, 0.3449920856257646, 0.2896969678807849, 0.34667481073934747, 0.29137955670085713, 1.1683865743288278, 0.7287299101375215, 1.0877562471724407, 0.7170407799155214, 0.7099874113059935, 0.7096012608535072, 0.7069256724903226, 0.6958701107006995, 0.6850650185358808, 0.6824442815338294, 0.6743120390765038, 0.6653093735931486, 0.6644297956323788, 0.661239261751907, 0.6542515817553197, 1.2232537414178446, 0.4234446832186245, 0.3014634329015593, 0.29476505275511494, 0.28564206247777557, 0.2789459710650162, 0.2816232026216158, 0.264474444907867, 0.25624269143981215, 0.2504176881551792, 0.2534482845432738, 0.25266813934592797, 0.248683590933216, 0.25146643679037145, 0.2463488478326514, 0.3249383483296394, 0.3237050925481528, 0.4246735962746576, 0.3712931279895393, 0.3067220039419069, 0.3542650667444755, 0.2904839079310252, 0.30857605428315305, 0.2833361535092761, 2.188803178241443, 1.1275798905115417, 1.1072106792448673, 1.0621005721979029, 0.7049638145618612, 0.6891925748515584, 0.6861735464666623, 0.6845376477369349, 0.6748373178677609, 0.6637758883234967, 0.6516369855027129, 0.6305107335443182, 0.6229599386825542, 0.7877976910494895, 0.26975839178235383, 0.2641823697079872, 0.2570390910979181, 0.2557502221240605, 0.25496859919847253, 0.24916832420842935, 0.24830761979512075, 0.24331633249686055, 0.24002584409611977, 0.23784128756114614, 0.23804366401576915, 0.2369310732622954, 0.23682478052740472, 0.23634085018104745, 0.34932490367237246, 0.2311442695666904, 0.32851244460094875, 0.31969387044137787, 0.3909601075898905, 0.34622846331915186, 0.29229790150456114, 0.2919619059286087, 0.2656243739092193], \"Total\": [2.0, 2.0, 2.0, 2.0, 1.0, 1.0, 1.0, 2.0, 1.0, 1.0, 1.0, 1.0, 1.0, 1.0, 1.0, 1.0, 1.0, 1.0, 1.0, 1.0, 1.0, 1.0, 1.0, 1.0, 1.0, 1.0, 1.0, 1.0, 1.0, 1.0, 2.9681658196820417, 2.373004106135625, 2.3755273085358946, 1.7796287786942948, 1.7784825976205232, 1.7760374683974562, 1.1844396503679735, 1.1846213228416407, 1.1838979015261626, 1.1842665759122728, 1.184278930856244, 1.1825058716230372, 1.1831536967324592, 1.1831954050948923, 1.1846549428482898, 1.1840443225765167, 1.183861868819848, 1.1849333166018512, 1.1844687216823806, 1.1848585337524358, 1.184712691510648, 1.185293243020016, 1.185679673607206, 1.166906196275597, 1.1653857073228875, 1.164895139734895, 1.1854830917843322, 1.167290457097197, 1.1838297243441698, 1.1841589367375682, 1.7450551419332831, 1.7429874025474388, 1.77887773585124, 2.3560435180930988, 1.742215206721966, 2.889743055725266, 1.7794600014710629, 1.7794600014710629, 1.1856441074949822, 1.77887773585124, 1.1851484496443354, 1.1853550003946023, 1.1854830917843322, 1.1851019546924477, 1.185679673607206, 1.185293243020016, 1.1841589367375682, 1.1838297243441698, 1.1848585337524358, 1.184712691510648, 1.1849333166018512, 1.1844687216823806, 2.3560435180930988, 1.183861868819848, 1.167290457097197, 1.1846549428482898, 1.166005091159029, 1.166906196275597, 1.1840443225765167, 1.184278930856244, 1.1831954050948923, 1.1644154009248644, 1.1842665759122728, 1.1831536967324592, 1.1653857073228875, 1.1846213228416407, 1.1644775128949845, 1.742215206721966, 1.7450551419332831, 2.9681658196820417, 2.3755273085358946, 1.7760374683974562, 2.889743055725266, 1.7784825976205232, 2.373004106135625, 1.7796287786942948, 2.889743055725266, 1.742215206721966, 1.7429874025474388, 1.7450551419332831, 1.1635639053335116, 1.1642452544048343, 1.1644154009248644, 1.1644775128949845, 1.164895139734895, 1.1653857073228875, 1.166005091159029, 1.166906196275597, 1.167290457097197, 2.3560435180930988, 1.1825058716230372, 1.1838297243441698, 1.1841589367375682, 1.1831536967324592, 1.1831954050948923, 1.183861868819848, 1.1844687216823806, 1.184712691510648, 1.1848585337524358, 1.1838979015261626, 1.1849333166018512, 1.1840443225765167, 1.1851019546924477, 1.1851484496443354, 1.7760374683974562, 1.1853550003946023, 1.77887773585124, 1.7794600014710629, 2.9681658196820417, 2.373004106135625, 1.7784825976205232, 2.3755273085358946, 1.7796287786942948], \"Category\": [\"Default\", \"Default\", \"Default\", \"Default\", \"Default\", \"Default\", \"Default\", \"Default\", \"Default\", \"Default\", \"Default\", \"Default\", \"Default\", \"Default\", \"Default\", \"Default\", \"Default\", \"Default\", \"Default\", \"Default\", \"Default\", \"Default\", \"Default\", \"Default\", \"Default\", \"Default\", \"Default\", \"Default\", \"Default\", \"Default\", \"Topic1\", \"Topic1\", \"Topic1\", \"Topic1\", \"Topic1\", \"Topic1\", \"Topic1\", \"Topic1\", \"Topic1\", \"Topic1\", \"Topic1\", \"Topic1\", \"Topic1\", \"Topic1\", \"Topic1\", \"Topic1\", \"Topic1\", \"Topic1\", \"Topic1\", \"Topic1\", \"Topic1\", \"Topic1\", \"Topic1\", \"Topic1\", \"Topic1\", \"Topic1\", \"Topic1\", \"Topic1\", \"Topic1\", \"Topic1\", \"Topic1\", \"Topic1\", \"Topic1\", \"Topic1\", \"Topic1\", \"Topic1\", \"Topic1\", \"Topic2\", \"Topic2\", \"Topic2\", \"Topic2\", \"Topic2\", \"Topic2\", \"Topic2\", \"Topic2\", \"Topic2\", \"Topic2\", \"Topic2\", \"Topic2\", \"Topic2\", \"Topic2\", \"Topic2\", \"Topic2\", \"Topic2\", \"Topic2\", \"Topic2\", \"Topic2\", \"Topic2\", \"Topic2\", \"Topic2\", \"Topic2\", \"Topic2\", \"Topic2\", \"Topic2\", \"Topic2\", \"Topic2\", \"Topic2\", \"Topic2\", \"Topic2\", \"Topic2\", \"Topic2\", \"Topic2\", \"Topic2\", \"Topic2\", \"Topic2\", \"Topic2\", \"Topic3\", \"Topic3\", \"Topic3\", \"Topic3\", \"Topic3\", \"Topic3\", \"Topic3\", \"Topic3\", \"Topic3\", \"Topic3\", \"Topic3\", \"Topic3\", \"Topic3\", \"Topic3\", \"Topic3\", \"Topic3\", \"Topic3\", \"Topic3\", \"Topic3\", \"Topic3\", \"Topic3\", \"Topic3\", \"Topic3\", \"Topic3\", \"Topic3\", \"Topic3\", \"Topic3\", \"Topic3\", \"Topic3\", \"Topic3\", \"Topic3\", \"Topic3\", \"Topic3\", \"Topic3\", \"Topic3\", \"Topic3\", \"Topic3\"], \"logprob\": [30.0, 29.0, 28.0, 27.0, 26.0, 25.0, 24.0, 23.0, 22.0, 21.0, 20.0, 19.0, 18.0, 17.0, 16.0, 15.0, 14.0, 13.0, 12.0, 11.0, 10.0, 9.0, 8.0, 7.0, 6.0, 5.0, 4.0, 3.0, 2.0, 1.0, -2.4276, -2.6529, -2.6564, -2.9866, -3.0155, -3.0809, -3.4957, -3.5351, -3.5393, -3.5501, -3.5664, -3.5864, -3.5876, -3.5917, -3.6003, -3.6014, -3.8651, -4.4472, -4.4604, -4.4689, -4.4781, -4.5068, -4.515, -4.5511, -4.5689, -4.6016, -4.5898, -4.6094, -4.5993, -4.602, -4.2179, -4.226, -4.2086, -4.2584, -4.4331, -4.2536, -4.4273, -2.8891, -3.3612, -2.9606, -3.3774, -3.3872, -3.3878, -3.3916, -3.4073, -3.423, -3.4268, -3.4388, -3.4522, -3.4536, -3.4584, -3.469, -2.8432, -3.9041, -4.2438, -4.2663, -4.2977, -4.3215, -4.3119, -4.3747, -4.4064, -4.4294, -4.4173, -4.4204, -4.4363, -4.4252, -4.4457, -4.1688, -4.1727, -3.9012, -4.0355, -4.2265, -4.0824, -4.2809, -4.2205, -4.3059, -2.2422, -2.9055, -2.9237, -2.9653, -3.3751, -3.3978, -3.4022, -3.4045, -3.4188, -3.4353, -3.4538, -3.4868, -3.4988, -3.264, -4.3358, -4.3566, -4.3841, -4.3891, -4.3921, -4.4152, -4.4186, -4.4389, -4.4525, -4.4617, -4.4608, -4.4655, -4.466, -4.468, -4.0773, -4.4902, -4.1387, -4.1659, -3.9647, -4.0862, -4.2555, -4.2567, -4.3512], \"loglift\": [30.0, 29.0, 28.0, 27.0, 26.0, 25.0, 24.0, 23.0, 22.0, 21.0, 20.0, 19.0, 18.0, 17.0, 16.0, 15.0, 14.0, 13.0, 12.0, 11.0, 10.0, 9.0, 8.0, 7.0, 6.0, 5.0, 4.0, 3.0, 2.0, 1.0, 0.6742, 0.6726, 0.6681, 0.6266, 0.5984, 0.5344, 0.5247, 0.4852, 0.4815, 0.4705, 0.4541, 0.4356, 0.4338, 0.4297, 0.4199, 0.4193, 0.1558, -0.4272, -0.44, -0.4488, -0.4579, -0.4872, -0.4956, -0.5158, -0.5323, -0.5645, -0.5703, -0.5745, -0.5784, -0.5814, -0.5851, -0.5919, -0.595, -0.9258, -0.7986, -1.1251, -0.814, 0.7242, 0.6582, 0.6531, 0.6424, 0.6324, 0.6317, 0.6283, 0.612, 0.5967, 0.5938, 0.5821, 0.5678, 0.5666, 0.5616, 0.5514, 0.4895, 0.1168, -0.2089, -0.2461, -0.2617, -0.2862, -0.2912, -0.3542, -0.3849, -0.3919, -0.3968, -0.3989, -0.3997, -0.4049, -0.4084, -0.5344, -0.5398, -0.7995, -0.7111, -0.6113, -0.954, -0.667, -0.895, -0.6926, 0.8863, 0.729, 0.7104, 0.6676, 0.663, 0.6398, 0.6353, 0.6328, 0.6182, 0.6013, 0.5823, 0.5485, 0.5362, 0.0686, -0.3137, -0.3357, -0.3634, -0.3676, -0.3707, -0.3943, -0.3983, -0.4188, -0.4325, -0.4408, -0.4409, -0.4448, -0.4461, -0.4482, -0.462, -0.4706, -0.525, -0.5526, -0.863, -0.7607, -0.6416, -0.9322, -0.738]}, \"token.table\": {\"Topic\": [3, 3, 1, 2, 3, 3, 2, 1, 1, 2, 3, 1, 1, 3, 3, 1, 2, 2, 2, 1, 2, 2, 2, 1, 2, 3, 2, 2, 1, 2, 3, 1, 1, 1, 1, 3, 3, 2, 3, 1, 1, 2, 2, 3, 3, 1, 1], \"Freq\": [0.5730477942904064, 0.858085004575172, 0.8441516126024343, 0.8444812338747891, 0.8589255538870142, 0.8588000461053044, 0.5619682370906395, 0.5622770789761594, 0.844693140591534, 0.8437761533587639, 0.5739819031206438, 0.8419183365366812, 0.844404478129996, 0.6921030560269108, 0.8569669123291058, 0.6738168018571973, 0.8442603689691635, 0.8436730791209893, 0.8440865090462417, 0.8451987284168755, 0.8433981135543037, 0.8435379693984906, 0.8436291234837682, 0.5630511843324534, 0.8434234132135913, 0.8576291883991544, 0.8439826118591639, 0.8439293469001256, 0.84428109080047, 0.42444037740413465, 0.42444037740413465, 0.5619149408977839, 0.8441276559364027, 0.8456617628692698, 0.8445629787100954, 0.8584463664494114, 0.85668480704176, 0.843809257119583, 0.8594285156287746, 0.8451689346442315, 0.8443956689130585, 0.8447160765066871, 0.5621521815952537, 0.5737276118797325, 0.8587542386404009, 0.84466743180379, 0.8428135437392679], \"Term\": [\"0\\uc6d0 \\uad6c\\ub9e4 \\ucfc4\\ub9ad\\ud64d\\uad6d \\uc81c\\ud488 \\ud488\\uc808 \\ub098\\uc11c\\ub2e4 \\uad6c\\ub9e4 \\ubab0\\ub9ac\\ub2e4 \\uac11\\uc790\\uae30 \\uac00\\uaca9 \\ub9cc\\uc6d0 \\uc62c\\ub9ac\\ub2e4 \\ud310\\ub9e4 \\uc800\\ub834\\ud558\\ub2e4 \\ub9c1\\ud06c \\ub0a8\\ub2e4 \\uad6c\\ub9e4 \\ud558\\ub835\\ub2c8\", \"\\uac00\\uaca9 \\uad1c\\ucc2e\\ub2e4 \\ubc30\\uc1a1\", \"\\uac00\\uaca9 \\uad1c\\ucc2e\\ub2e4 \\ubc30\\uc1a1 \\ube0c\\ub9ac \\uce90\\ub098\\ub2e4 \\uac10\\ub9c8 \\ub9ac\\ub180\\ub80c\\uc0b0 \\ubcf4\\ub77c \\uc624\\uc77c \\ub2ec\\ub9de\\uc774\\uaf43 \\uc790\\uc720\", \"\\uac00\\uaca9 \\ub9cc\\uc6d0\", \"\\uac00\\uaca9 \\uc2f8\\ub2e4 \\ubc30\\uc1a1 \\ube68\\ub974\\ub2e4 \\ubc30\\uc1a1 \\ube60\\ub974\\ub2e4 \\ube44\\ub2e4 \\uc800\\ub834\\ud558\\ub2e4\", \"\\uac00\\uaca9 \\uc2f8\\ub2e4 \\uc0ac\\ub2e4 \\ubc30\\uc1a1 \\ube68\\ub974\\ub2e4\", \"\\uac80\\uc0ac \\uacb0\\uacfc \\ud06c\\ub2e4 \\ubcc0\\ud654\", \"\\uae30\\uc874 \\uad6d\\ub0b4 \\uc81c\\ud488 \\uacf5\\uad6c \\ud310\\ub9e4 \\ube44\\uc2f8\\ub2e4 \\uc131\\ubd84 \\ubcf5\\uc6a9 \\ud574\\ubd24\\ub2e4 \\ud2b8\\ub7ec\\ube14\", \"\\ub0a8\\uc131 32 \\uc0ac\\ubb34\\uc9c1 \\uc9c1\\uc7a5\\uc778 5\\ub144 \\ub300\\ub9ac \\uc218\\ud5d8\\uc0dd \\ub3c4\\uc6c0 \\uc2f6\\ub2e4 \\uad6c\\ub9e4 \\ub290\\ub07c\\ub2e4\", \"\\ub0c4\\uc0c8 \\ub0c4\\uc0c8 \\uad81\\uae08\\ud558\\ub2e4 \\ucc1d\\ucc1d\\ud558\\ub2e4 \\uc18d\\ub3c4 \\uc548\\uc88b\\ub2e4 \\uc544\\ud504\\ub2e4\", \"\\ub300\\uc6c5\\uc81c\\uc57d \\uc6b0\\ub8e8\\uc0ac \\uc54c\\ub824\\uc9c0\\ub2e4 \\ubbff\\ub2e4 \\uad6c\\ub9e4 \\ud310\\ub9e4 \\uc81c\\uc870 \\ucf54\\uc2a4 \\ub9e5\\uc2a4 \\ubc14\\uc774\\uc624 \\uc6b0\\uca0b \\uba39\\uae30 \\uc7ac\\ub2e4 \\ub9e4\\ub2e4 \\ubcd1\\uc6d0 \\uac74\\uac15 \\uc548\\uc88b\\ub2e4 \\uc2e0\\uacbd \\uc368\\ub2e4\", \"\\uba39\\uae30 \\ud608\\uc561 \\uac80\\uc0ac \\ube44\\uad50 \\ud574\\ubcf4\\ub2e4 \\ub808\\uc2a4 \\ud2b8\\ub864 \\uc218\\uce58 \\uac10\\uc18c \\uac10\\ub9c8 \\uc218\\uce58 \\uc0c1\\uc2b9 \\uc57c\\ud558\\ub2e4 \\uc591\\uc81c \\uc815\\ud655\\ud558\\ub2e4 \\uc0c1\\uad00\\uad00\\uacc4 \\uc54c\\ub2e4 \\uc758\\uc2ec \\uc0c1\\ud669 \\ubcf5\\uc6a9 \\uc26c\\ub2e4 \\uae30\\uac04 \\uc57c\\ud558\\ub2e4\", \"\\ubc15\\uc2a4 \\uc655\\ucc3d \\ud30c\\uc190 \\ucc22\\uc5b4\\uc9c0\\ub2e4 \\ubc30\\uc1a1 \\ub3fc\\ub2e4 \\uae30\\ubd84 \\uc88b\\ub2e4\", \"\\ubc30\\uc1a1 \\ub290\\ub9ac\\ub2e4 \\uc131\\ub2a5 \\uc131\\ub2a5 \\ub6f0\\uc5b4\\ub098\\ub2e4 \\uc720\\ud1b5 \\uae30\\ud55c \\uae30\\ud55c \\ub109\\ub109\\ud558\\ub2e4 \\ubc30\\uc1a1 \\ub290\\ub9ac\\ub2e4\", \"\\ubc30\\uc1a1 \\ub290\\ub9ac\\ub2e4 \\uc131\\ub2a5 \\uc131\\ub2a5 \\ubcc4\\ub85c \\uc720\\ud1b5 \\uae30\\ud55c \\ubcf4\\ub77c \\uc624\\uc77c \\ub2ec\\ub9de\\uc774\\uaf43 \\uc624\\uc77c \\uac31\\ub144\\uae30 \\uc99d\\uc0c1 \\ud6a8\\ub2a5 \\ud68c\\uc0ac \\ube44\\uad50 \\uac10\\ub9c8 \\ub9ac\\ub180\\ub80c\\uc0b0 \\ud568\\uc720 10% \\ub192\\ub2e4 \\uac00\\uaca9 \\uc0c1\\ub2f9\\ud558\\ub2e4 \\ube44\\uc2f8\\ub2e4 \\ud68c\\uc0ac 40,000\\uc6d0 \\uc81c\\ud488 48,000\\uc6d0 \\uac00\\uaca9 \\uc0c8\\ub2e4 \\ubaa8\\ub974\\ub2e4 30% \\uc62c\\ub9ac\\ub2e4 \\ud310\\ub9e4 \\uc904\\uc774\\ub2e4 \\uad18\\uc538\\ud558\\ub2e4 \\uc81c\\ud488 \\uad6c\\uc785 \\uc77c\\ub958 \\ub0b1\\uac1c \\ud3ec\\uc7a5 \\ubcf4\\uad00 \\uc628\\ub3c4 \\uc911\\uc694\\ud558\\ub2e4 \\uc81c\\ud488 \\uc800\\ub834\\ud558\\ub2e4 \\uc6a9\\ub7c9 \\ud3ec\\uc7a5 \\uad6c\\uc785 \\ub0c9\\uc7a5\\uace0 \\ub123\\ub2e4 \\uc0c1\\uc138 \\uc0c1\\uc138 \\uc0c1\\uc138 \\uc0c1\\uc138\", \"\\ubc30\\uc1a1 \\ube68\\ub974\\ub2e4 \\uc131\\ub2a5 \\uc131\\ub2a5 \\ubcc4\\ub85c \\uc720\\ud1b5 \\uae30\\ud55c \\uae30\\ud55c \\ub109\\ub109\\ud558\\ub2e4 \\ubc15\\uc2a4 \\uaddc\\uce59 \\ud608\\uc555 \\uce21\\uc815 \\ubcf5\\uc6a9 \\uc804\\uacfc \\ubcf5\\uc6a9 \\uac1c\\uc6d4\\ucc28 \\ubcc4\\ub2e4\\ub974\\ub2e4 \\uac1c\\uc120\", \"\\ubc30\\uc1a1 \\ube68\\ub974\\ub2e4 \\uc131\\ub2a5 \\uc131\\ub2a5 \\ubcc4\\ub85c \\uc720\\ud1b5 \\uae30\\ud55c \\uae30\\ud55c \\ub109\\ub109\\ud558\\ub2e4 \\ubd88\\ud589\\ud558\\ub2e4 \\uc640\\uc774\\ud504 \\ub298\\ub2e4\", \"\\ubc30\\uc1a1 \\ube68\\ub974\\ub2e4 \\uc131\\ub2a5 \\uc131\\ub2a5 \\ubcc4\\ub85c \\uc720\\ud1b5 \\uae30\\ud55c \\uae30\\ud55c \\ub109\\ub109\\ud558\\ub2e4 \\uc804\\ud600\", \"\\ubc30\\uc1a1 \\ube68\\ub974\\ub2e4 \\uc720\\ud1b5 \\uae30\\ud55c \\uc2a4\\ud0a8 \\ucf5c\\ub808\\uc2a4\\ud2f4 \\ud608\\uad00 \\uac74\\uac15 \\ucf5c\\ub808\\uc2a4\\ud14c\\ub864 \\uac74\\uac15 \\ud64d\\uad6d \\ud568\\uc720 \\uc0c1\\uc138\", \"\\ubc30\\uc1a1 \\uc0c1\\ud488 \\uc0c1\\uc138\", \"\\ubc30\\uc1a1 \\uc131\\ub2a5 \\uc131\\ub2a5 \\ubcc4\\ub85c \\uc720\\ud1b5 \\uae30\\ud55c \\uac10\\ub9c8 \\ub9ac\\ub180\\ub80c\\uc0b0 \\ud6a8\\ub2a5 \\uc5b4\\ub5bb\\ub2e4 \\uc81c\\uc57d\\ud68c\\uc0ac \\uc81c\\ud488 \\uc5ec\\uc131 \\uac31\\ub144\\uae30 \\uc720\\ub3c5 \\uc0c1\\ud488 \\uac00\\uaca9 \\ub192\\ub2e4 \\ud68c\\uc0ac \\ube44\\uad50 \\uac10\\ub9c8 \\ub9ac\\ub180\\ub80c\\uc0b0 \\ud568\\uc720 10% \\ub192\\ub2e4 \\uac00\\uaca9 \\ub192\\ub2e4 \\ud68c\\uc0ac \\uc81c\\ud488 40,000\\uc6d0 \\uac00\\uaca9 \\uc0c8\\ub2e4 \\ubaa8\\ub974\\ub2e4 30% \\uc62c\\ub9ac\\ub2e4 \\ub1a8\\ub124 90 \\ucea1\\uc290 \\ud310\\ub9e4 60 \\ucea1\\uc290 \\uc904\\uc774\\ub2e4 \\uad18\\uc538\\ud558\\ub2e4 \\ub2e4\\uc2dc\\ub2e4 \\uad6c\\uc785 \\uc0c1\\uc138 \\uc0c1\\uc138 \\uc0c1\\uc138\", \"\\ubc30\\uc1a1 \\uc131\\ub2a5 \\uc131\\ub2a5 \\ubcc4\\ub85c \\uc720\\ud1b5 \\uae30\\ud55c \\uae30\\ud55c \\uc9e7\\ub2e4\", \"\\ubc30\\uc1a1 \\uc798\\ubabb \\uac74\\uc9c0\\ub2e4 \\uadf8\\ub807\\ub2e4 \\ubc15\\uc2a4 \\ucc0c\\uadf8\\ub7ec\\uc9c0\\ub2e4 \\ucc22\\uae30\\ub2e4 \\ud280\\uc5b4\\ub098\\uc624\\ub2e4 \\uba87\\uac1c \\uadc0\\ucc2e\\ub2e4 \\ubc84\\ub9ac\\ub2e4 \\uc774\\ub807\\ub2e4 \\uc2e0\\uacbd \\uc368\\uc8fc\\ub2e4 \\uc9dc\\uc99d\\ub098\\ub2e4\", \"\\ubcc4\\ub85c \\uc88b\\ub2e4 \\uc0ac\\ub2e4 \\uc54c\\uc57d \\ub118\\ub2e4 \\ub118\\uc5b4\\uac00\\ub2e4 \\uac78\\ub9ac\\ub2e4 \\ub9c8\\ub0e5 \\ubd88\\ud3b8\\ud558\\ub2e4 \\uc54c\\uc57d \\ub179\\ucc28 \\ucd94\\ucd9c \\ubb3c\\ub2e4 \\ub9de\\ub2e4 \\uce74\\ud398\\uc778 \\uc7a5\\uae30\\uac04 \\ubcf5\\uc6a9 \\uc6b0\\ub824 \\uc190\\uc0c1 \\uc190\\uc0c1 \\ubaa8\\ub974\\ub2e4 \\ub04a\\uc74c \\ub2e4\\uc774\\uc5b4\\ud2b8 \\uc4f0\\ub2e4 \\uc778\\uc6a9 \\uccad\\uc18c\\ub144 \\uc0ac\\uba74 \\ub0ad\\ud328\", \"\\ubcf5\\uc6a9 \\uc54c\\ub2e4 \\uadf8\\ub2e4\\uc9c0 \\ud06c\\ub2e4 \\ubcc0\\ud654 \\ubaa8\\ub974\\ub2e4\", \"\\uc0ac\\ub2e4 \\ubc30\\uc1a1 \\uc0c1\\ud0dc \\uae30\\ubd84 \\uc88b\\ub2e4\", \"\\uc131\\ub2a5 \\uc131\\ub2a5 \\ub6f0\\uc5b4\\ub098\\ub2e4\", \"\\uc131\\uc7a5 \\ube44\\uc2f8\\ub2e4 \\uc8fc\\ubba8 \\ud5c8\\ub2e4 \\ud06c\\ub2e4 \\uba39\\uc774\\ub2e4 \\uace0\\uc601 \\uc591\\uc81c \\uba39\\uc774\\ub2e4 \\ud06c\\ub2e4 \\uc720\\uc804 \\ud06c\\ub2e4 \\uc560\\uac00 \\ud06c\\ub2e4 \\uc560\\uac00 \\ud06c\\ub2e4 \\uc720\\uc804\\uc790 \\uac70\\ub098 \\ud06c\\ub2e4\", \"\\uc2e0\\ub791 \\uc0ac\\ub2e4 \\ub808\\uc2dc\\ud2f4 \\uac04\\uc9c0\\ub7fd\\ub2e4 \\uae01\\ub2e4 \\ub300\\ub2e4 \\uc2e0\\ub791 \\ub808\\uc2dc\\ud2f4 \\ubd80\\uc791\\uc6a9 \\uac80\\uc0c9 \\ud574\\ubcf4\\ub2e4 \\uac04\\uc9c0\\ub7fd\\ub2e4 \\uc6c0\\uc99d \\ub450\\ub4dc\\ub7ec\\uae30 \\ubd80\\uc791\\uc6a9 \\uac00\\ub824\\uc6c0\\uc99d \\ube68\\uac1b\\ub2e4 \\uc88b\\uc544\\uc9c0\\ub2e4 \\uccb4\\uc9c8 \\ub2e4\\ub974\\ub2e4 \\ud310\\ub2e8 \\ud06c\\ub2e4 \\uc0c8\\ub07c\\uc190\\uac00\\ub77d \\ub9c8\\ub514 \\ud569\\uce58\\ub2e4\", \"\\uc2f8\\ub2e4 \\uad6c\\uc785 \\uc880\\uc300 \\ud53c\\ubd80 \\uac00\\ub824\\uc6c0 \\uc77c\\uc5b4\\ub098\\uc11c \\uc911\\uc9c0 2\\uc77c \\uc911\\uc9c0 \\uac00\\ub824\\uc6c0\\uc99d \\uc131\\ubd84 \\uad6c\\uc785 19000\\uc6d0 \\ud0dd\\ubc30 5\\ub9cc\\uc6d0\", \"\\uc2f8\\ub2e4 \\uad6c\\uc785 \\uc880\\uc300 \\ud53c\\ubd80 \\uac00\\ub824\\uc6c0 \\uc77c\\uc5b4\\ub098\\uc11c \\uc911\\uc9c0 2\\uc77c \\uc911\\uc9c0 \\uac00\\ub824\\uc6c0\\uc99d \\uc131\\ubd84 \\uad6c\\uc785 19000\\uc6d0 \\ud0dd\\ubc30 5\\ub9cc\\uc6d0\", \"\\uc544\\uc27d\\ub2e4 \\uc548\\ucabd \\ub0a8\\ud3b8 \\ubcf5\\uc6a9 \\uba39\\uae30\", \"\\uc544\\ud504\\ub2e4 \\uc0c1\\ud488 \\uad1c\\ucc2e\\ub2e4 \\ubcf4\\uc774\\ub2e4 \\ub9de\\ub2e4\", \"\\uc54c\\uc57d \\ub179\\ub2e4 \\ub3fc\\ub2e4 \\ub3fc\\ub2e4 \\uad73\\ub2e4 \\ube60\\uc9c0\\ub2e4 \\ubcd1\\uc18d \\ub369\\uc5b4\\ub9ac \\ubb49\\uce58\\ub2e4 \\ubc84\\ub9ac\\ub2e4 \\ubc18\\ud488 \\uadc0\\ucc2e\\ub2e4\", \"\\uc608\\uc120 \\ubcf4\\ub77c \\uc9c0\\uc720 \\uad6c\\ub9e4 \\ud574\\ubd24\\ub2e4 \\uc804\\ud600 \\uc0dd\\ub9ac \\uc99d\\ud6c4\\uad70\", \"\\uc720\\ud1b5 \\uae30\\ud55c \\ud3ec\\uc7a5 \\uc0c1\\ud0dc\", \"\\uc774\\uc720 \\uc885\\uadfc\\ub2f9 \\uc81c\\ud488 \\ubb38\\ud574 \\ud608\\uc555 \\ub0ae\\uc544\\uc9c0\\ub2e4 \\uafb8\\ub2e4 1\\ub144 \\uadf8\\ub807\\ub2e4 \\uc81c\\ud488 \\ub2e4\\uc2dc \\ubc14\\uafb8\\ub2e4 \\uafb8\\uc900\\ud558\\ub2e4 \\ubcf5\\uc6a9 \\uc88b\\uc544\\uc9c0\\ub2e4 \\uae30\\ub300\\ud558\\ub2e4\", \"\\uc778\\uc9c0\\uc9c8 \\uc88b\\ub2e4 \\uc544\\uc2dc \\ub2e5\\ud130 \\ud06c\\ub9b4 \\uc624\\uc77c\\ud314 \\ud45c\\ud604 \\ud06c\\ub9b4 \\uc778\\uc9c0\\uc9c8 \\ub808\\uc2dc\\ud2f4 \\uc2f8\\ub2e4 \\ud568\\ub7c9 \\ub192\\ub2e4 \\ubd81\\uadf9\\ud574 \\uc0dd\\ud0dc\\uacc4 \\uc0b4\\ub9ac\\ub2e4 \\uc0c1\\uc138 \\uc0c1\\uc138\", \"\\uc7a5\\uae30 \\uc54c\\ub2e4 \\uc88b\\ub2e4 \\uc88b\\ub2e4 \\uc88b\\ub2e4 \\uc88b\\ub2e4 \\uc88b\\ub2e4 \\uc88b\\ub2e4 \\uc88b\\ub2e4 \\uc88b\\ub2e4\", \"\\uc81c\\ud488 \\ub8e8\\ud14c\\uc778 \\uac74\\uac15 \\ub3d9\\uc2dc \\uac74\\uac15 \\ub3c4\\uc6c0 2\\uc870 \\uad6c\\uc785 \\uc720\\ud6a8 \\uae30\\uac04 2023\\ub144 9\\uc6d4 23\\uc77c \\uc774\\uc815 \\uc720\\ud6a8 \\uae30\\uac04 \\ucda9\\ubd84\\ud558\\ub2e4 \\ubc30\\uc1a1 \\ud3ec\\uc7a5 \\uc0c1\\ud0dc \\uae5c\\uc9dd \\ub180\\ub77c\\ub2e4 \\uac74\\uac15 \\ubcf4\\uc870 \\uc2dd\\ud488 \\uc81c\\ud488 \\uc2f8\\ub2e4 \\ubc15\\uc2a4 \\ud3ec\\uc7a5 \\ucfe0\\ud321 \\ub85c\\ucf13 \\ubc30\\uc1a1 \\ube44\\ub2d0 \\ud3ec\\uc7a5 \\uc9c0\\ub85c \\ud3ec\\uc7a5 \\uc81c\\ud488 \\uc5b4\\ubcf4 \\uc548\\uc88b\\ub2e4 \\uc608\\uac10 \\uc5ed\\uc26c \\uc81c\\ud488 \\ud3ec\\uc7a5 \\ud130\\uc9c0\\ub2e4 \\ud3ec\\uc7a5 \\uc81c\\ub3c4 \\uc774\\ub807\\ub2e4 \\uc0c1\\ud0dc \\ubc30\\uc1a1 \\uc138\\uade0 \\uc8fc\\ubb38 \\uc81c\\ud488 \\ubc14\\uafb8\\ub2e4 \\ucfe0\\ud321 \\uccb4\\ud5d8 \\uc774\\ubca4\\ud2b8 \\uc0c1\\ud488 \\ubb34\\ub8cc \\uc81c\\uacf5 \\uc791\\uc131 \\uad6c\\ub9e4 \\ud6c4\\uae30\", \"\\uc81c\\ud488 \\ucc0c\\uadf8\\ub7ec\\uc9c0\\ub2e4 \\ud574\\uc678 \\ubc30\\uc1a1 \\ubbff\\ub2e4\", \"\\uc88b\\uc544\\uc9c0\\ub2e4 \\ubaa8\\ub974\\ub2e4 \\uc88b\\uc544\\uc9c0\\ub2e4 \\ubaa8\\ub974\\ub2e4 \\ubd80\\uc791\\uc6a9 \\uc548\\ub098 \\ub294\\uac78 \\uc5ec\\uae30\\ub2e4 \\uc57c\\ud558\\ub2e4\", \"\\uc8fc\\ubb38 \\ud574\\uc678 \\uad6c\\ub9e4 \\ub300\\ud589 \\uc81c\\ud488 \\ubc18\\ud488 \\uc548\\ub418\\ub2e4 \\uc5f0\\ub77d \\uc548\\ub418\\ub2e4 \\ucc28\\ub2e4 \\uc5b4\\uc774\\uc5c6\\ub2e4\", \"\\uc904\\uc904\", \"\\ucb48\\uc6b1 \\uc81c\\ud488 11 \\uc808\\ub54c \\ud560\\uc778 \\uc8fc\\ubb38 \\uc0c1\\uc138 \\uc0c1\\uc138\", \"\\ucfe0\\ud321 \\ud310\\ub9e4 \\uc81c\\ud488 \\uac00\\uaca9 \\uc218\\ub7c9 \\ud5c8\\uc704 \\uc815\\ubcf4 \\ub178\\ucd9c\\ud558\\ub2e4 \\uacb0\\uc81c \\ub098\\ub2c8 \\ud310\\ub9e4 \\uc790\\ub3c4 \\ubc1c\\uc1a1 \\ucfe0\\ud321 \\uc774\\uc720 \\uc218\\ub839 \\uc608\\uc815 \\ub0a0\\uc9dc \\ub2e4\\uac00\\uc624\\ub2e4 \\ucde8\\uc18c \\ud544\\uc694\\ud558\\ub2e4 \\ub0a0\\uc9dc \\uc784\\ubc15 \\uae09\\ud558\\ub2e4 \\ube44\\uc2f8\\ub2e4 \\uc6b8\\ub2e4 \\uaca8\\uc790 \\uba39\\uae30 \\uc790\\uc0ac \\ub85c\\ucf13 \\ubc30\\uc1a1 \\uc81c\\ud488 \\uad6c\\ub9e4 \\uc8fc\\ubb38 \\ub4e4\\uc5b4\\uc624\\ub2e4 \\ud310\\ub9e4 \\ubc1c\\uc1a1 \\uc815\\uc0c1 \\uc0ac\\uc720 \\uace0\\uac1d \\uace0\\uc9c0 \\uc0c1\\uc2dd \\uc544\\ub2c8\\ub2e4 \\uc774\\ub807\\ub2e4 \\uae30\\ubcf8 \\ub9e4\\ub274\\uc5bc \\uad50\\uc721 \\uc548\\ub418\\ub2e4 \\uac74\\uc9c0\\ub2e4 \\uc758\\ub3c4 \\ubc14\\uc778 \\uc5b4\\ub5bb\\ub2e4 \\uc8fc\\ubb38 \\uc9c0\\ub098\\ub2e4 \\uc18c\\uc2dd \\ud310\\ub9e4 \\ubb38\\uc758 \\ucfe0\\ud321 \\ubc30\\uc1a1 \\ubd88\\uac00 \\ucfe0\\ud321 \\ubb38\\uc758 \\ucde8\\uc18c \\uacbd\\uc704 \\ud5c8\\uc704 \\ub178\\ucd9c \\ud310\\ub9e4 \\uc758\\ubb34\\ubd88\\uc774\\ud589 \\ud30c\\uc545 \\uc5f0\\ub77d \\ubd80\\ud0c1 \\ucde8\\uc18c \\ubb38\\uc790 \\ub2ec\\ub791 \\uc815\\uc0c1\", \"\\ud0dd\\ubc30 \\ubc15\\uc2a4 \\uc816\\ub2e4 \\uc81c\\ud488 \\uad1c\\ucc2c\\uc744\\uc904 \\uc548\\ub2e4 \\uc57d\\ud488 \\uc544\\ub2c8\\ub2e4 \\uac74\\uac15 \\uc2dd\\ud488 \\uad00\\ub9ac \\ubcf4\\uad00 \\uc0c1\\ud0dc \\uc911\\uc694 \\uc81c\\ud488 \\ubc15\\uc2a4 \\uc81c\\ud488 \\uc816\\ub2e4 \\uad1c\\ucc2c\\uc744\\uc904\\uc54c \\ubc15\\uc2a4 \\uac1c\\ubd09 \\ud574\\ubcf4\\ub2e4 \\ubc15\\uc2a4 \\ub20c\\ub838\\ub294 \\uc54c\\uc57d \\ud280\\uc5b4 \\ubc97\\uae30\\ub2e4 \\uc815\\ub9d0 \\uc81c\\ud488 \\uc2f8\\ub2e4 \\uac00\\uaca9 \\uc544\\ub2c8\\ub2e4 \\ub2e4\\uc2dc \\ubc18\\ud488\"]}, \"R\": 30, \"lambda.step\": 0.01, \"plot.opts\": {\"xlab\": \"PC1\", \"ylab\": \"PC2\"}, \"topic.order\": [1, 2, 3]};\n",
       "\n",
       "function LDAvis_load_lib(url, callback){\n",
       "  var s = document.createElement('script');\n",
       "  s.src = url;\n",
       "  s.async = true;\n",
       "  s.onreadystatechange = s.onload = callback;\n",
       "  s.onerror = function(){console.warn(\"failed to load library \" + url);};\n",
       "  document.getElementsByTagName(\"head\")[0].appendChild(s);\n",
       "}\n",
       "\n",
       "if(typeof(LDAvis) !== \"undefined\"){\n",
       "   // already loaded: just create the visualization\n",
       "   !function(LDAvis){\n",
       "       new LDAvis(\"#\" + \"ldavis_el2817614048397988006831836166\", ldavis_el2817614048397988006831836166_data);\n",
       "   }(LDAvis);\n",
       "}else if(typeof define === \"function\" && define.amd){\n",
       "   // require.js is available: use it to load d3/LDAvis\n",
       "   require.config({paths: {d3: \"https://d3js.org/d3.v5\"}});\n",
       "   require([\"d3\"], function(d3){\n",
       "      window.d3 = d3;\n",
       "      LDAvis_load_lib(\"https://cdn.jsdelivr.net/gh/bmabey/pyLDAvis@3.4.0/pyLDAvis/js/ldavis.v3.0.0.js\", function(){\n",
       "        new LDAvis(\"#\" + \"ldavis_el2817614048397988006831836166\", ldavis_el2817614048397988006831836166_data);\n",
       "      });\n",
       "    });\n",
       "}else{\n",
       "    // require.js not available: dynamically load d3 & LDAvis\n",
       "    LDAvis_load_lib(\"https://d3js.org/d3.v5.js\", function(){\n",
       "         LDAvis_load_lib(\"https://cdn.jsdelivr.net/gh/bmabey/pyLDAvis@3.4.0/pyLDAvis/js/ldavis.v3.0.0.js\", function(){\n",
       "                 new LDAvis(\"#\" + \"ldavis_el2817614048397988006831836166\", ldavis_el2817614048397988006831836166_data);\n",
       "            })\n",
       "         });\n",
       "}\n",
       "</script>"
      ],
      "text/plain": [
       "<IPython.core.display.HTML object>"
      ]
     },
     "execution_count": 21,
     "metadata": {},
     "output_type": "execute_result"
    }
   ],
   "source": [
    "pyLDAvis.display(result_visualized)"
   ]
  },
  {
   "cell_type": "code",
   "execution_count": 22,
   "id": "4deeeb43-fb45-4630-b7b2-c817e4c30ca7",
   "metadata": {
    "tags": []
   },
   "outputs": [],
   "source": [
    "# review_negative_result_visualized.html\n",
    "pyLDAvis.save_html(result_visualized, '../datasets/review_negative_result_visualized.html')"
   ]
  },
  {
   "cell_type": "code",
   "execution_count": null,
   "id": "af64879e-62f3-42c0-825a-70c757074dfc",
   "metadata": {},
   "outputs": [],
   "source": []
  },
  {
   "cell_type": "code",
   "execution_count": 34,
   "id": "331de5a8-658f-489d-a799-a41f282ab173",
   "metadata": {
    "tags": []
   },
   "outputs": [],
   "source": [
    "# cholesterolreview_positive.csv\n",
    "import pandas as pd\n",
    "df_review_positive = pd.read_csv('../datasets/cholesterolreview_positive.csv')"
   ]
  },
  {
   "cell_type": "code",
   "execution_count": 35,
   "id": "a730b86d-c56b-4eac-bd01-9264a005a2a1",
   "metadata": {
    "tags": []
   },
   "outputs": [
    {
     "name": "stdout",
     "output_type": "stream",
     "text": [
      "<class 'pandas.core.frame.DataFrame'>\n",
      "RangeIndex: 6205 entries, 0 to 6204\n",
      "Data columns (total 9 columns):\n",
      " #   Column            Non-Null Count  Dtype  \n",
      "---  ------            --------------  -----  \n",
      " 0   Unnamed: 0        6205 non-null   int64  \n",
      " 1   _id               6205 non-null   object \n",
      " 2   product_name      6205 non-null   object \n",
      " 3   review_writer     6205 non-null   object \n",
      " 4   review_date       6205 non-null   object \n",
      " 5   review_star       6205 non-null   float64\n",
      " 6   review_content    6205 non-null   object \n",
      " 7   tokenizer_review  6205 non-null   object \n",
      " 8   replaced_review   6188 non-null   object \n",
      "dtypes: float64(1), int64(1), object(7)\n",
      "memory usage: 436.4+ KB\n"
     ]
    }
   ],
   "source": [
    "df_review_positive.info()"
   ]
  },
  {
   "cell_type": "code",
   "execution_count": 36,
   "id": "56239052-af87-4eed-b042-b6a249a09171",
   "metadata": {
    "tags": []
   },
   "outputs": [],
   "source": [
    "df_review_positive = df_review_positive.dropna()"
   ]
  },
  {
   "cell_type": "markdown",
   "id": "dac51abe-1500-4c34-9429-89609659326c",
   "metadata": {},
   "source": [
    "### LDA 분석(review_positive)"
   ]
  },
  {
   "cell_type": "markdown",
   "id": "57545397-c16a-460e-97a5-e5ad2f013477",
   "metadata": {
    "tags": []
   },
   "source": [
    "##### 문장 벡터화(review_positive)"
   ]
  },
  {
   "cell_type": "code",
   "execution_count": 38,
   "id": "a0227626-3071-4aec-ad4b-347f405165be",
   "metadata": {
    "tags": []
   },
   "outputs": [],
   "source": [
    "# 'replaced_review' 열의 모든 값을 문자열로 변환\n",
    "df_review_positive['replaced_review'] = df_review_positive['replaced_review'].astype(str)"
   ]
  },
  {
   "cell_type": "code",
   "execution_count": 39,
   "id": "368c5af7-bc5b-41b9-8f82-1b1a61f6641b",
   "metadata": {
    "tags": []
   },
   "outputs": [
    {
     "data": {
      "text/plain": [
       "<gensim.corpora.dictionary.Dictionary at 0x14718e96690>"
      ]
     },
     "execution_count": 39,
     "metadata": {},
     "output_type": "execute_result"
    }
   ],
   "source": [
    "dictionary = Dictionary(df_review_positive[['replaced_review']].values)\n",
    "dictionary"
   ]
  },
  {
   "cell_type": "code",
   "execution_count": 40,
   "id": "a8fe12b5-ffc7-42f4-abc1-fab07f712fa5",
   "metadata": {
    "tags": []
   },
   "outputs": [],
   "source": [
    "# dictionary에 의한 한글 문장을 벡터화 변환\n",
    "corpus_list = list()\n",
    "for sentence in df_review_positive[['replaced_review']].values :\n",
    "  vectors = dictionary.doc2bow(sentence)\n",
    "  corpus_list.append(vectors)"
   ]
  },
  {
   "cell_type": "code",
   "execution_count": 41,
   "id": "aae45e11-818a-453a-a6b7-6694e1db6ee3",
   "metadata": {
    "tags": []
   },
   "outputs": [],
   "source": [
    "df_review_positive['문장벡터화'] = corpus_list"
   ]
  },
  {
   "cell_type": "code",
   "execution_count": 42,
   "id": "d2730e41-0c07-4536-82a5-170779ac50d3",
   "metadata": {
    "tags": []
   },
   "outputs": [
    {
     "data": {
      "text/html": [
       "<div>\n",
       "<style scoped>\n",
       "    .dataframe tbody tr th:only-of-type {\n",
       "        vertical-align: middle;\n",
       "    }\n",
       "\n",
       "    .dataframe tbody tr th {\n",
       "        vertical-align: top;\n",
       "    }\n",
       "\n",
       "    .dataframe thead th {\n",
       "        text-align: right;\n",
       "    }\n",
       "</style>\n",
       "<table border=\"1\" class=\"dataframe\">\n",
       "  <thead>\n",
       "    <tr style=\"text-align: right;\">\n",
       "      <th></th>\n",
       "      <th>Unnamed: 0</th>\n",
       "      <th>_id</th>\n",
       "      <th>product_name</th>\n",
       "      <th>review_writer</th>\n",
       "      <th>review_date</th>\n",
       "      <th>review_star</th>\n",
       "      <th>review_content</th>\n",
       "      <th>tokenizer_review</th>\n",
       "      <th>replaced_review</th>\n",
       "      <th>문장벡터화</th>\n",
       "    </tr>\n",
       "  </thead>\n",
       "  <tbody>\n",
       "    <tr>\n",
       "      <th>0</th>\n",
       "      <td>0</td>\n",
       "      <td>650d8884b2af41f5ca5ba6aa</td>\n",
       "      <td>브리오 보라지오일 감마리놀렌산 300 / 오메가6 보라지유 달맞이꽃종자유 영양제 /...</td>\n",
       "      <td>지오됴됴</td>\n",
       "      <td>2021.03.19</td>\n",
       "      <td>5.0</td>\n",
       "      <td>배송 빨라요 성능 보통이에요 유통기한 기한이 넉넉해요\\n감마리놀렌산이 여성에게 좋다...</td>\n",
       "      <td>['배송', '빨르다', '성능', '유통', '기한', '기한', '넉넉하다', ...</td>\n",
       "      <td>배송 빨르다 성능 유통 기한 기한 넉넉하다 감마 리놀렌산 여성 좋다 다해 초록색 비...</td>\n",
       "      <td>[(0, 1)]</td>\n",
       "    </tr>\n",
       "    <tr>\n",
       "      <th>1</th>\n",
       "      <td>1</td>\n",
       "      <td>650d8884b2af41f5ca5ba6ab</td>\n",
       "      <td>브리오 보라지오일 감마리놀렌산 300 / 오메가6 보라지유 달맞이꽃종자유 영양제 /...</td>\n",
       "      <td>ju82**</td>\n",
       "      <td>2023.07.05</td>\n",
       "      <td>5.0</td>\n",
       "      <td>유통기한 기한이 넉넉해요 포장상태 포장이 깔끔해요 효과 효과 좋아요\\n두번째 구입입...</td>\n",
       "      <td>['유통', '기한', '기한', '넉넉하다', '포장', '상태', '포장', '...</td>\n",
       "      <td>유통 기한 기한 넉넉하다 포장 상태 포장 깔끔하다 좋다 두번째 구입 월경 증후군 구...</td>\n",
       "      <td>[(1, 1)]</td>\n",
       "    </tr>\n",
       "    <tr>\n",
       "      <th>2</th>\n",
       "      <td>2</td>\n",
       "      <td>650d8884b2af41f5ca5ba6ac</td>\n",
       "      <td>브리오 보라지오일 감마리놀렌산 300 / 오메가6 보라지유 달맞이꽃종자유 영양제 /...</td>\n",
       "      <td>sns2**</td>\n",
       "      <td>2023.09.20</td>\n",
       "      <td>5.0</td>\n",
       "      <td>유통기한 기한이 넉넉해요 포장상태 포장이 깔끔해요 효과 효과 좋아요\\n유트브 보고 ...</td>\n",
       "      <td>['유통', '기한', '기한', '넉넉하다', '포장', '상태', '포장', '...</td>\n",
       "      <td>유통 기한 기한 넉넉하다 포장 상태 포장 깔끔하다 좋다 유트브 구매 피부 염증 좋다...</td>\n",
       "      <td>[(2, 1)]</td>\n",
       "    </tr>\n",
       "  </tbody>\n",
       "</table>\n",
       "</div>"
      ],
      "text/plain": [
       "   Unnamed: 0                       _id  \\\n",
       "0           0  650d8884b2af41f5ca5ba6aa   \n",
       "1           1  650d8884b2af41f5ca5ba6ab   \n",
       "2           2  650d8884b2af41f5ca5ba6ac   \n",
       "\n",
       "                                        product_name review_writer  \\\n",
       "0  브리오 보라지오일 감마리놀렌산 300 / 오메가6 보라지유 달맞이꽃종자유 영양제 /...          지오됴됴   \n",
       "1  브리오 보라지오일 감마리놀렌산 300 / 오메가6 보라지유 달맞이꽃종자유 영양제 /...        ju82**   \n",
       "2  브리오 보라지오일 감마리놀렌산 300 / 오메가6 보라지유 달맞이꽃종자유 영양제 /...        sns2**   \n",
       "\n",
       "  review_date  review_star                                     review_content  \\\n",
       "0  2021.03.19          5.0  배송 빨라요 성능 보통이에요 유통기한 기한이 넉넉해요\\n감마리놀렌산이 여성에게 좋다...   \n",
       "1  2023.07.05          5.0  유통기한 기한이 넉넉해요 포장상태 포장이 깔끔해요 효과 효과 좋아요\\n두번째 구입입...   \n",
       "2  2023.09.20          5.0  유통기한 기한이 넉넉해요 포장상태 포장이 깔끔해요 효과 효과 좋아요\\n유트브 보고 ...   \n",
       "\n",
       "                                    tokenizer_review  \\\n",
       "0  ['배송', '빨르다', '성능', '유통', '기한', '기한', '넉넉하다', ...   \n",
       "1  ['유통', '기한', '기한', '넉넉하다', '포장', '상태', '포장', '...   \n",
       "2  ['유통', '기한', '기한', '넉넉하다', '포장', '상태', '포장', '...   \n",
       "\n",
       "                                     replaced_review     문장벡터화  \n",
       "0  배송 빨르다 성능 유통 기한 기한 넉넉하다 감마 리놀렌산 여성 좋다 다해 초록색 비...  [(0, 1)]  \n",
       "1  유통 기한 기한 넉넉하다 포장 상태 포장 깔끔하다 좋다 두번째 구입 월경 증후군 구...  [(1, 1)]  \n",
       "2  유통 기한 기한 넉넉하다 포장 상태 포장 깔끔하다 좋다 유트브 구매 피부 염증 좋다...  [(2, 1)]  "
      ]
     },
     "execution_count": 42,
     "metadata": {},
     "output_type": "execute_result"
    }
   ],
   "source": [
    "df_review_positive[:3]"
   ]
  },
  {
   "cell_type": "code",
   "execution_count": 43,
   "id": "994294a7-e1a7-454e-a673-82becd4bf6bd",
   "metadata": {
    "tags": []
   },
   "outputs": [],
   "source": [
    "lda_model = LdaModel(corpus=corpus_list, id2word=dictionary, num_topics=3)"
   ]
  },
  {
   "cell_type": "code",
   "execution_count": 44,
   "id": "b311af48-cb7c-4f33-a6d4-0a784ed412fa",
   "metadata": {
    "tags": []
   },
   "outputs": [
    {
     "data": {
      "text/plain": [
       "[(0,\n",
       "  '0.013*\"좋다\" + 0.005*\"배송 빠르다 좋다\" + 0.005*\"오메가 알티 지로 구입 반응 섭취 1일 1회 캡슐 말랑말랑하다 넘김 부담 흡수 율도 높다 좋다 건강 혈행 혈중 개선 건강 좋다 구입 기준 유통 기한 1년\" + 0.005*\"혈행 개선 도움 꾸준하다 여기저기 알아보다 요기 싸다 판매 저렴하다 주문 기분 좋다 재다 의사\"'),\n",
       " (1,\n",
       "  '0.023*\"배송 빨르다 성능 성능 뛰어나다 유통 기한 기한 넉넉하다\" + 0.014*\"모르다\" + 0.005*\"방광염 걸리다 항생제 크랜베리 먹어주다 크랜베리 대장균 요도 붙다 방지 의사 선생님 그렇다 상큼 마그네슘 양제 클린 영양 제인 방광염 걸리다 겁니다\" + 0.005*\"방광염 좋다 사보다 가격 적당하다 알약 크다 듭니 가족 추가 구매\"'),\n",
       " (2,\n",
       "  '0.013*\"유통 기한 기한 넉넉하다 포장 상태 포장 깔끔하다 좋다\" + 0.006*\"괜찮다 광고 첨가 여러 성분\" + 0.006*\"홀리 데이즈 프리미엄 크랜베리 타블렛 크랜베리 좋다 계시 좋다 현대 생활 정말 쉽다 아니다 크랜베리 과일 더욱이 보관 힘들다 정량 섭취 홀리 데이즈 프리미엄 크랜베리 타블렛 99 함량 농축 분말 농축 확인 농축 분말 손실 최소 켜다 100 북미 크랜베리 1회 간편하다 섭취 크랜베리 타블렛 굳이 과육 필요 타블렛 크기 작다 넘김 불편 어떻다 커서 넘김 정말 힘드다 그렇다 알다 레놀 작다 워킹맘 피곤하다 지치다 일도 집안일 병행 필요하다 섭취 간단하다 영양 보충 싶다 홀리 데이즈 프리미엄 크랜베리 타블렛 알다 지치다 일상 활기차다 일상\" + 0.006*\"방광염 재발 자주 크랜베리 좋다 다해 구매\"')]"
      ]
     },
     "execution_count": 44,
     "metadata": {},
     "output_type": "execute_result"
    }
   ],
   "source": [
    "lda_model.print_topics(num_words=4)"
   ]
  },
  {
   "cell_type": "markdown",
   "id": "51d0202b-b807-49eb-bb1a-ee84932a6fb2",
   "metadata": {},
   "source": [
    "##### LDA 시각화(review_positive)"
   ]
  },
  {
   "cell_type": "code",
   "execution_count": 45,
   "id": "0de07704-31ec-4b88-852c-792dc8a1152d",
   "metadata": {
    "tags": []
   },
   "outputs": [],
   "source": [
    "pyLDAvis.enable_notebook() # 일반적인 python에선 불필요\n",
    "result_visualized = pyLDAvis.gensim_models.prepare(lda_model, corpus_list, dictionary)"
   ]
  },
  {
   "cell_type": "code",
   "execution_count": 46,
   "id": "8f80c832-89d1-410c-a242-1c24ce1af39c",
   "metadata": {
    "tags": []
   },
   "outputs": [
    {
     "data": {
      "text/html": [
       "\n",
       "<link rel=\"stylesheet\" type=\"text/css\" href=\"https://cdn.jsdelivr.net/gh/bmabey/pyLDAvis@3.4.0/pyLDAvis/js/ldavis.v1.0.0.css\">\n",
       "\n",
       "\n",
       "<div id=\"ldavis_el2817614049485147366723784654\" style=\"background-color:white;\"></div>\n",
       "<script type=\"text/javascript\">\n",
       "\n",
       "var ldavis_el2817614049485147366723784654_data = {\"mdsDat\": {\"x\": [-0.1523716212278267, 0.04939297924756493, 0.10297864198026181], \"y\": [0.01803000419800998, -0.08591787584247865, 0.0678878716444687], \"topics\": [1, 2, 3], \"cluster\": [1, 1, 1], \"Freq\": [37.64134412496291, 32.73828714900902, 29.62036872602806]}, \"tinfo\": {\"Term\": [\"\\ubc30\\uc1a1 \\ube68\\ub974\\ub2e4 \\uc131\\ub2a5 \\uc131\\ub2a5 \\ub6f0\\uc5b4\\ub098\\ub2e4 \\uc720\\ud1b5 \\uae30\\ud55c \\uae30\\ud55c \\ub109\\ub109\\ud558\\ub2e4\", \"\\uc88b\\ub2e4\", \"\\ubaa8\\ub974\\ub2e4\", \"\\uc720\\ud1b5 \\uae30\\ud55c \\uae30\\ud55c \\ub109\\ub109\\ud558\\ub2e4 \\ud3ec\\uc7a5 \\uc0c1\\ud0dc \\ud3ec\\uc7a5 \\uae54\\ub054\\ud558\\ub2e4 \\uc88b\\ub2e4\", \"\\uad1c\\ucc2e\\ub2e4 \\uad11\\uace0 \\ucca8\\uac00 \\uc5ec\\ub7ec \\uc131\\ubd84\", \"\\ud640\\ub9ac \\ub370\\uc774\\uc988 \\ud504\\ub9ac\\ubbf8\\uc5c4 \\ud06c\\ub79c\\ubca0\\ub9ac \\ud0c0\\ube14\\ub81b \\ud06c\\ub79c\\ubca0\\ub9ac \\uc88b\\ub2e4 \\uacc4\\uc2dc \\uc88b\\ub2e4 \\ud604\\ub300 \\uc0dd\\ud65c \\uc815\\ub9d0 \\uc27d\\ub2e4 \\uc544\\ub2c8\\ub2e4 \\ud06c\\ub79c\\ubca0\\ub9ac \\uacfc\\uc77c \\ub354\\uc6b1\\uc774 \\ubcf4\\uad00 \\ud798\\ub4e4\\ub2e4 \\uc815\\ub7c9 \\uc12d\\ucde8 \\ud640\\ub9ac \\ub370\\uc774\\uc988 \\ud504\\ub9ac\\ubbf8\\uc5c4 \\ud06c\\ub79c\\ubca0\\ub9ac \\ud0c0\\ube14\\ub81b 99 \\ud568\\ub7c9 \\ub18d\\ucd95 \\ubd84\\ub9d0 \\ub18d\\ucd95 \\ud655\\uc778 \\ub18d\\ucd95 \\ubd84\\ub9d0 \\uc190\\uc2e4 \\ucd5c\\uc18c \\ucf1c\\ub2e4 100 \\ubd81\\ubbf8 \\ud06c\\ub79c\\ubca0\\ub9ac 1\\ud68c \\uac04\\ud3b8\\ud558\\ub2e4 \\uc12d\\ucde8 \\ud06c\\ub79c\\ubca0\\ub9ac \\ud0c0\\ube14\\ub81b \\uad73\\uc774 \\uacfc\\uc721 \\ud544\\uc694 \\ud0c0\\ube14\\ub81b \\ud06c\\uae30 \\uc791\\ub2e4 \\ub118\\uae40 \\ubd88\\ud3b8 \\uc5b4\\ub5bb\\ub2e4 \\ucee4\\uc11c \\ub118\\uae40 \\uc815\\ub9d0 \\ud798\\ub4dc\\ub2e4 \\uadf8\\ub807\\ub2e4 \\uc54c\\ub2e4 \\ub808\\ub180 \\uc791\\ub2e4 \\uc6cc\\ud0b9\\ub9d8 \\ud53c\\uace4\\ud558\\ub2e4 \\uc9c0\\uce58\\ub2e4 \\uc77c\\ub3c4 \\uc9d1\\uc548\\uc77c \\ubcd1\\ud589 \\ud544\\uc694\\ud558\\ub2e4 \\uc12d\\ucde8 \\uac04\\ub2e8\\ud558\\ub2e4 \\uc601\\uc591 \\ubcf4\\ucda9 \\uc2f6\\ub2e4 \\ud640\\ub9ac \\ub370\\uc774\\uc988 \\ud504\\ub9ac\\ubbf8\\uc5c4 \\ud06c\\ub79c\\ubca0\\ub9ac \\ud0c0\\ube14\\ub81b \\uc54c\\ub2e4 \\uc9c0\\uce58\\ub2e4 \\uc77c\\uc0c1 \\ud65c\\uae30\\ucc28\\ub2e4 \\uc77c\\uc0c1\", \"\\ubc29\\uad11\\uc5fc \\uc7ac\\ubc1c \\uc790\\uc8fc \\ud06c\\ub79c\\ubca0\\ub9ac \\uc88b\\ub2e4 \\ub2e4\\ud574 \\uad6c\\ub9e4\", \"\\uc9c8\\uc5fc \\uc0dd\\uae30\\ub2e4 \\ubcd1\\uc6d0 \\ub2e4\\ub2c8\\ub2e4 \\ub3c5\\ud558\\ub2e4 \\uc9c0\\uae0b\\uc9c0\\uae0b\\ud558\\ub2e4 \\ucc3e\\uc544\\ubcf4\\ub2e4 \\ud06c\\ub79c\\ubca0\\ub9ac \\uc591\\uc81c \\uc88b\\ub2e4 \\uad6c\\ub9e4 \\ud574\\ubd24\\ub2e4 \\ucda9\\ubd84\\ud558\\ub2e4 \\uc368\\ub2e4 \\ubb3c\\uc774 \\ub179\\ub2e4 \\uba39\\uae30 \\ucc28\\ub2e4 \\ud3b8\\ud558\\ub2e4 \\uc9c8\\uc5fc \\uc0dd\\uae30\\ub2e4 \\uc88b\\ub2e4\", \"\\uc911\\uc784 \\uad6c\\ub9e4 \\uc74d\\ub2c8 \\uac10\\uc0ac\\ud558\\ub2e4 \\ucc28\\ub2e4 \\uc2e0\\uccad \\ub2eb\\ub2e4\", \"\\uac31\\ub144\\uae30 \\uce5c\\uc815 \\ubcf4\\ub0b4\\ub2e4 \\ub4dc\\ub837\\ub354 \\uc88b\\ub2e4\", \"\\uc88b\\ub2e4 \\uac00\\uaca9 \\ucc29\\ud558\\ub2e4 \\uc790\\uc8fc\", \"\\ub2e4\\uc774\\uc5b4\\ud2b8 \\ub3c4\\uc6c0 \\ud084\\ud06c \\uc2dd\\uc804 20\\ubd84 \\uadf8\\ub807\\ub2e4 3\\uc77c\", \"\\ub2e4\\uc774\\uc5b4\\ud2b8 \\uccb4\\ud06c \\uad6c\\ub9e4 \\uc81c\\ud488\", \"\\ubd80\\ubaa8\\ub2d8 \\ub4dc\\ub9ac\\ub2e4 \\uc81c\\ud488 \\uc88b\\ub2e4 \\uac00\\uaca9 \\uc88b\\ub2e4 \\ud488\\uc9c8 \\ubbff\\ub2e4\", \"\\ube0c\\ub79c\\ub4dc \\ubbff\\ub2e4 \\uc0c1\\ud488 \\uad6c\\ub9e4 \\uc54c\\ub2e4 \\ud06c\\ub2e4 \\uae30\\ub300\", \"\\uc88b\\ub2e4 \\ub2e4\\ud574 \\uc8fc\\ubb38 \\uac00\\ub974\\ub2e4 \\uc88b\\ub2e4\", \"\\ucfe0\\ud321 \\ud14c\\uc544\\ub2cc \\ubcf4\\uc870 \\uad6c\\ub9e4 \\ub2e4\\uc774\\uc5b4\\ud2b8 \\ubcf4\\uc870 \\uac80\\uc0c9 \\ud574\\ubcf4\\ub2e4 \\uc2dd\\uc804 \\ube0c\\ube14 \\ub85c\\ucee4 \\uc2dd\\ud6c4 \\ub0a0\\ub9ac\\ub2e4 \\ub808\\uc6b0\\uc2a4 \\ud3ec\\uc2a4 \\ucf5c\\ub9ac \\uba39\\uae30 \\uc2dc\\uc791 \\uc6b4\\ub3d9 40\\ubd84 \\uce74\\ub974\\ub2c8\\ud2f4 \\ud544\\ub77c\\ud14c\\uc2a4 20~30\\ubd84 \\uac1c\\uc778 \\uc6b4\\ub3d9 \\uc6b4\\ub3d9 \\uc0ac\\uc774 \\uce74\\ub974\\ub2c8\\ud2f4 \\uc5c4\\uccad\\ub098\\ub2e4 30\\ubd84 \\uac78\\ub2e4 1\\uc77c \\uc2dc\\uc791 163 63 \\ub450\\ub2e4 22\\uc77c \\ube60\\uc9c0\\ub2e4 59 \\ub3fc\\ub2e4 \\uc800\\ub141 \\ub9e5\\uc8fc \\uc800\\ub141 \\ub9c8\\uc2dc\\ub2e4 \\ub744\\uc5c4\\ub744\\uc5c4 \\ub9c8\\uc2dc\\ub2e4 \\ub808\\uc6b0\\uc2a4 \\ud3ec\\uc2a4 \\ucf5c\\ub9ac \\ubc14\\uc9c0 \\uc785\\ub2e4 \\uae5c\\uc9dd \\ub180\\ub77c\\ub2e4 \\uccb4\\uc9c0\\ubc29 \\uc904\\ub2e4 \\ub298\\uc5b4\\ub098\\ub2e4 \\uccb4\\uc911 \\ubcc0\\ud654 \\ube7c\\ub2e4 55 \\ud0a4\\ub85c \\ube7c\\ub2e4 \\uccb4\\uc911 \\uc720\\uc9c0 \\ubaa9\\ud45c \\ub098\\uc774 \\ub9c8\\ud754 \\ub118\\ub2e4 \\ube7c\\ub2e4 \\uc2f6\\ub2e4 \\uc2e0\\ubd84 \\ucd94\\ucc9c \\ubd80\\uc791\\uc6a9 \\ub808\\uc6b0\\uc2a4 \\ud3ec\\uc2a4 \\ucf5c\\ub9ac \\ube48\\uc18d \\uc4f0\\ub9ac\\ub2e4\", \"\\uc790\\ub9ac \\uadf8\\ub300\\ub85c \\uadfc\\uc721 \\ub6b1\\ub561\\uc774 \\uac08\\ub2e4 \\ub9c8\\uc74c \\ud3c9\\uc548 \\uc704\\ud574\", \"\\uc911\\uc774 \\ubaa8\\ub974\\ub2e4 \\uc57c\\ud558\\ub2e4 \\uc88b\\ub2e4 \\uc88b\\ub2e4\", \"\\ubc43\\uc0b4 \\ucc0c\\ub2e4\", \"\\ub450\\ubc88\\uc9f8 \\uad6c\\ub9e4 \\ud6c4\\uae30 \\ub0a8\\uae30\\ub2e4 \\uac1c\\uc6d4\\ud6c4 \\ud6c4\\uae30 \\ub0a8\\ub2e4\", \"\\uc9c0\\uae08\\uaecf \\ubcf4\\uc870 \\ubd80\\uc791\\uc6a9 \\ubcf4\\uc870 \\uc81c\\uc608\", \"\\ubab0\\ub2e4\", \"\\ub2e4\\uc774\\uc5b4\\ud2b8 \\ubaa8\\ub974\\ub2e4 \\ubcc0\\ube44 \\ud0c1\\uc6d4\\ud558\\ub2e4\", \"\\uc810\\uc2ec \\uc12d\\ucde8 \\ud5d0\\ub2e4 \\ub2e8\\uc2dd \\uc57c\\ud558\\ub2e4 \\uc591\\uc81c \\uac00\\ub974\\ub2e4 \\ube44\\ub2e4 \\ucc0c\\ub2e4 \\ub290\\uaef4\\uc9c0\\ub2e4\", \"\\uc77c\\ub9ac \\uc591\\uc81c \\uccb4\\uc9c0\\ubc29 \\uad00\\ub9ac \\uc88b\\ub2e4\", \"\\ubcf4\\uc774\\ub2e4\", \"\\uc65c\\uc0bf \\ud3c9\\uc774 \\ub098\\uc058\\ub2e4\", \"\\uc2dc\\uc791 \\uc88b\\ub2e4 \\uae30\\ub300\\ud558\\ub2e4\", \"\\ubc30\\uc1a1 \\uc131\\ub2a5 \\uc720\\ud1b5 \\uae30\\ud55c\", \"\\uc88b\\ub2e4\", \"\\ubc30\\uc1a1 \\ube60\\ub974\\ub2e4 \\uc88b\\ub2e4\", \"\\ud608\\ud589 \\uac1c\\uc120 \\ud608\\uc911 \\uc911\\uc131 \\uc9c0\\uc9c8 \\uac1c\\uc120 \\uac74\\uc870\\ud558\\ub2e4 \\uac1c\\uc120 \\ub3c4\\uc6c0 \\uad6c\\uc785 500 \\uc81c\\ud488 600 \\ucda9\\uc871 \\ub9cc\\uc871\\ud558\\ub2e4\", \"\\ud608\\ud589 \\uac1c\\uc120 \\ub3c4\\uc6c0 \\uafb8\\uc900\\ud558\\ub2e4 \\uc5ec\\uae30\\uc800\\uae30 \\uc54c\\uc544\\ubcf4\\ub2e4 \\uc694\\uae30 \\uc2f8\\ub2e4 \\ud310\\ub9e4 \\uc800\\ub834\\ud558\\ub2e4 \\uc8fc\\ubb38 \\uae30\\ubd84 \\uc88b\\ub2e4 \\uc7ac\\ub2e4 \\uc758\\uc0ac\", \"\\ub098\\uc774 \\ud544\\uc694\\ud558\\ub2e4 \\uc601\\uc591\\uc18c \\ub9ce\\ub2e4 \\uc74c\\uc2dd \\ub300\\uccb4 \\ub3fc\\ub2e4 \\uac74\\uac15 \\uc2dd\\ud488 \\ub3fc\\ub2e4 \\uc624\\uba54\\uac00 \\uaf2c\\ubc15\\uaf2c\\ubc15 \\ubaa8\\ub974\\ub2e4 \\uc6cc\\ub099 \\uc88b\\uc544\\ud558\\ub2e4 \\ub3c4\\ud574 \\uc815\\ub9d0 30 \\ub300\\ub2e4 \\uc911\\ubc18 \\uadf8\\ub807\\ub2e4 \\uacb0\\ud63c \\ub3c4\\ud558 \\uc900\\ube44 \\uc57c\\ud558\\ub2e4 \\ub4e4\\uc774\\ub2e4 \\ub9ce\\ub2e4 \\uc81c\\uc77c \\uba3c\\uc800 \\ubcf4\\uc774\\ub2e4 \\uad6c\\ub9e4 \\uc885\\ub958 \\ub9ce\\ub2e4 \\uba3c\\uc9c0 \\ubaa8\\ub974\\ub2e4 \\ub2e8\\uc810 \\ubcf4\\uc774\\ub2e4 \\uc54c\\uc57d \\ucee4\\uc11c \\ub118\\uae40 \\ud798\\ub4dc\\ub2e4 \\uc81c\\ud488 \\ube44\\ub9ac\\ub2e4 \\uc62c\\ub77c\\uc624\\ub2e4 \\ube44\\ub9ac\\ub2e4 \\uc62c\\ub77c\\uc624\\ub2e4 \\ucc38\\ub2e4 \\ud798\\ub4e4\\ub2e4 \\uc65c\\ub0d0\\uba74 \\uc0dd\\uc120 \\uc885\\ub958 \\ube44\\ub9ac\\ub2e4 \\ube44\\ub9ac\\ub2e4 \\uc62c\\ub77c\\uc624\\ub2e4 \\ucc38\\ub2e4 \\uc54c\\uc544\\ubcf4\\ub2e4 \\uad6c\\ub9e4 \\uc81c\\ud488 \\uc54c\\uc57d \\ud06c\\uae30 \\uc791\\ub2e4 \\ud3b8\\uc774 \\ub118\\uae40 \\ud55c\\uacb0 \\uc26c\\uc6d4 \\uba39\\uae30 \\ud3b8\\ud558\\ub2e4 \\ube44\\ub9ac\\ub2e4 \\ud3b8\\uc548\\ud558\\ub2e4 \\uac70\\ubd81 \\uc0ac\\ub77c\\uc9c0\\ub2e4 \\uc77c\\uc5b4\\ub098\\ub2e4 \\uac74\\uac15 \\ud6c4\\ub8e8\\ub8e9 \\uc77c\\uacfc \\uc2dc\\uc791 \\ud655\\uc2e4\\ud558\\ub2e4 \\uc5b4\\ub514\\uac00 \\uc88b\\uc544\\uc9c0\\ub2e4 \\ud53c\\uace4\\ud558\\ub2e4 \\uadf8\\ub807\\ub2e4 \\uac1c\\uc778 \\uc758\\uacac \\uc2e0\\ub791 \\uafb8\\uc900\\ud558\\ub2e4\", \"\\uc624\\uba54\\uac00 \\uc54c\\ud2f0 \\uc9c0\\ub85c \\uad6c\\uc785 \\ubc18\\uc751 \\uc12d\\ucde8 1\\uc77c 1\\ud68c \\ucea1\\uc290 \\ub9d0\\ub791\\ub9d0\\ub791\\ud558\\ub2e4 \\ub118\\uae40 \\ubd80\\ub2f4 \\ud761\\uc218 \\uc728\\ub3c4 \\ub192\\ub2e4 \\uc88b\\ub2e4 \\uac74\\uac15 \\ud608\\ud589 \\ud608\\uc911 \\uac1c\\uc120 \\uac74\\uac15 \\uc88b\\ub2e4 \\uad6c\\uc785 \\uae30\\uc900 \\uc720\\ud1b5 \\uae30\\ud55c 1\\ub144\", \"\\uc2f8\\ub2e4 \\uc0ac\\ub2e4\", \"\\uc591\\uc81c \\uc885\\uadfc\\ub2f9 \\ubcf4\\ub0b4\\ub2e4 \\uc624\\uba54\\uac00 \\ub5a8\\uc5b4\\uc9c0\\ub2e4 \\uac04\\ub2e4 \\uc804\\ud654\\ud558\\ub2e4 \\uc9c0\\ub09c\\ubc88 \\uc0ac\\ub2e4 \\ucabc\\ub054 \\uc800\\ub834\\ud558\\ub2e4 \\uc0ac\\uc11c \\ubcf4\\ub0b4\\ub2e4 \\ub4dc\\ub9ac\\ub2e4 \\uaf2c\\ubc15\\uaf2c\\ubc15 \\ub3cc\\ub9ac\\ub2e4 \\uc5f4\\uae30 \\ud798\\ub4e4\\ub2e4 \\ucea1\\uc290 \\ub044\\ub2e4 \\ud3ec\\uc7a5 \\ub9c8\\uc74c \\uc88b\\ub2e4 \\uc885\\uadfc\\ub2f9 \\uac80\\uc0c9 \\uc591\\uc81c \\ud544\\uc694\\ud558\\ub2e4 \\uc3d9\\uc3d9 \\uad6c\\ub9e4 \\ubbff\\ub2e4 \\uc0b4\\ub2e4 \\ud3b8\\ud558\\ub2e4\", \"\\ube44\\ud0c0\\ubbfc \\ucca8\\uac00 \\ub4c0\\uc5bc \\ud50c\\ub7ec\\uc2a4 \\ubc14\\uafb8\\ub2e4 \\uae30\\uc874 \\ub4c0\\uc5bc \\uafb8\\uc900\\ud558\\ub2e4 \\uc2dd\\uc0ac \\ube44\\ud0c0\\ubbfc \\uc12d\\ucde8 \\uc88b\\ub2e4 \\ub4c0\\uc5bc \\ud50c\\ub7ec\\uc2a4 \\uad6c\\ub9e4 \\ud574\\ubd24\\ub2e4\", \"\\uc624\\uba54\\uac00 \\ub298\\ub2e4 \\ud544\\uc218 \\uc591\\uc81c \\uafb8\\uc900\\ud558\\ub2e4 1\\uc77c 1\\ud68c \\uc12d\\ucde8 \\uc624\\uba54\\uac00 \\uba39\\uae30 \\ud798\\ub4dc\\ub2e4 \\uc774\\uc720 \\uc54c\\uc57d \\ud06c\\uae30 \\ud06c\\ub2e4 \\uc62c\\ub77c\\uc624\\ub2e4 \\ud2b9\\uc720 \\ud06c\\uae30 \\uc808\\ubc18 \\ub77c\\uc11c \\ub118\\uae40 \\ud3b8\\ud558\\ub2e4 \\uc548\\ub098 \\uc18d\\uc774\\ub2e4 \\ud3b8\\ud558\\ub2e4\", \"\\uc624\\uba54\\uac00 \\ud06c\\ub2e4 \\ube44\\ub9ac\\ub2e4 \\ub0c4\\uc0c8 \\uba39\\uae30 \\uc88b\\ub2e4\", \"\\uafb8\\uc900\\ud558\\ub2e4 \\uc54c\\ud2f0 \\uc624\\uba54\\uac00 \\uc8fc\\ubb38 \\uacc4\\ud68d \\uc720\\uc775\\ud558\\ub2e4 \\uc885\\uadfc\\ub2f9 \\ubbff\\uc74c\", \"\\ub098\\uc774 \\ub4dc\\ub2c8 \\uc601\\uc591 \\uc81c\\ub098 \\uac74\\uac15 \\uc2dd\\ud488 \\ud608\\ud589 \\uac1c\\uc120 \\uc88b\\ub2e4 \\uac80\\uc0c9 \\ub0ab\\ub2e4 \\uad6c\\ub9e4 \\ub0b4\\ub2e4 \\uc54c\\uc57d \\uc0ac\\uc774\\uc988 \\uc791\\ub2e4 \\uba39\\uae30 \\ud3b8\\ud558\\ub2e4 \\ubc14\\ub77c\\ub2e4\", \"\\uc2e0\\ub791 \\ud56d\\uc0c1 \\ud608\\uc561 \\uac74\\uac15 \\uc88b\\ub2e4 \\ud558\\ub2c8 \\ub0ab\\ub2e4 \\uac74\\uac15\\ud558\\ub2e4 \\ubc8c\\ub2e4\", \"\\uccb4\\ub0b4 \\ud761\\uc218 \\ub2e8\\uc5b4 \\uaf42\\ud788\\ub2e4 \\ud608\\ud589 \\uac74\\uac15 \\uac71\\uc815 \\uc624\\uba54\\uac00 \\uc54c\\uc544\\ubcf4\\ub2e4 \\uc624\\uba54\\uac00 \\ud608\\uad00 \\ubbf8\\uce58\\ub2e4 \\uc601\\ud5a5 \\ub300\\ud574 \\uad6d\\ubbfc \\ud544\\uc218 \\uc591\\uc81c \\uc624\\uba54\\uac00 \\uc885\\ub958 \\ucc28\\ub2e4 \\uc5b4\\ub835\\ub2e4 \\uccb4\\ub0b4 \\ud761\\uc218 \\ub192\\uc774\\ub2e4 \\uc0ac\\ub77c \\uc5b4\\ub958 \\ubd88\\uc21c \\ud3ec\\ud654\\uc9c0\\ubc29\\uc0b0 \\uc904\\uc774\\ub2e4 \\uc21c\\ub3c4 \\ub192\\ub2e4 \\uccb4\\ub0b4 \\ud761\\uc218 \\uc6a9\\uc774\\ud558\\ub2e4 \\ub9cc\\ub4e4\\ub2e4 \\ucd5c\\uc2e0 \\uae30\\uc220 \\uae30\\ubc95 \\uc5b4\\uca0c\\ub4e0 \\ucd5c\\uc2e0 \\uae30\\uc220 \\uba54\\ub2e4 \\ub354\\ud558\\ub2e4 \\ucd94\\uac00 \\uc131\\ubd84 \\ube44\\ud0c0\\ubbfc \\uc9c0\\uc6a9\\uc131 \\ube44\\ud0c0\\ubbfc \\ucd94\\uac00 \\ub354\\ud558\\ub2e4 \\uc9c0\\uc6a9\\uc131 \\ube44\\ud0c0\\ubbfc \\uc9c0\\ubc29 \\ub179\\uc774\\ub2e4 \\uc624\\uba54\\uac00 \\ub354\\ud558\\ub2e4 \\ud761\\uc218 \\ub192\\uc774\\ub2e4 \\ucd94\\uac00 \\uc544\\ub2c8\\ub2e4 \\ud574\\ubcf4\\ub2e4 \\ub298\\ub2e4 \\uac74\\uac15 \\ub298\\ub2e4 \\uac74\\uac15 \\ub298\\ub2e4 \\ud56d\\uc0b0\\ud654 \\uc720\\ud574 \\uc0b0\\uc18c \\uc138\\ud3ec \\ubcf4\\ud638 \\ud574\\uc8fc\\ub2e4 \\uc5ed\\ud560 \\uc7ac\\ub8cc \\ubb34\\uc2dc \\ub0a8\\ud0dc\\ud3c9\\uc591 \\uc7a1\\ub2e4 \\uc18c\\ud615 \\uc5b4\\ub958 \\uba85\\uc2dc \\uc18c\\ud615 \\uc5b4\\ub958 \\uc911\\uae08\\uc18d \\uc5fc\\ub3c4 \\uac00\\uc7a5 \\ub0ae\\ub2e4 \\uc911\\uae08\\uc18d \\uc624\\uc5fc \\uac00\\uc7a5 \\ub9ce\\ub2e4 \\ub530\\uc9c0\\ub2e4 \\uac00\\uac00 \\ub04c\\ub9ac\\ub2e4 \\uc54c\\uc57d \\ud06c\\uae30 \\uadf8\\ub9ac\\ub2e4 \\ud06c\\ub2e4 \\ub118\\uae40 \\uc88b\\ub2e4 \\ud06c\\ub2e4 \\uc0bc\\ud0a4\\ub2e4 \\ud798\\ub4dc\\ub2e4 \\uc0ac\\uc774\\uc988 \\uad1c\\ucc2e\\ub2e4 \\uac00\\uaca9 \\uac00\\uaca9 \\ucc28\\ub2e4 \\uad1c\\ucc2e\\ub2e4 \\ubc30\\uc1a1 \\uc8fc\\ubb38 \\uc0c8\\ubcbd \\uc9c4\\uc9dc\\uc9c4\\uc9dc \\uc774\\uc810 \\uc88b\\ub2e4 \\uc5ec\\uae30\\uc800\\uae30 \\ub3cc\\uc544\\ub2e4\\ub2c8\\ub2e4 \\uae30\\ub984\\uac12 \\ub3cc\\uc544\\ub2e4\\ub2c8\\ub2e4 \\ud798\\ub4dc\\ub2e4 \\ub85c\\ucf13 \\ubc30\\uc1a1 \\uc88b\\uc544\\ud558\\ub2e4 \\uc194\\uc9c1\\ud558\\ub2e4 \\ud6c4\\uae30 \\ud6c4\\uae30 \\ub3c4\\uc6c0 \\ucd94\\ucc9c \\ubd80\\ud0c1\\ub4dc\\ub9ac\\ub2e4 \\uac10\\uc0ac\\ud558\\ub2e4\", \"\\uc0c1\\ud488 \\uc54c\\ud2f0 \\uc624\\uba54\\uac00 \\ub4c0\\uc5bc \\ud50c\\ub7ec\\uc2a4 \\uad6c\\uc131 \\ubc15\\uc2a4 \\ubc15\\uc2a4 60 \\ubc30\\uc1a1 2023.4 27 \\uc8fc\\ubb38 \\ub2f9\\uc77c \\ub3c4\\ucc29 \\uc5ed\\uc2dc \\ucfe0\\ud321 \\ub85c\\ucf13 \\ubc30\\uc1a1 \\uc720\\ud1b5 \\uae30\\ud55c 2025.3 30 \\uc81c\\ud488 \\ud2b9\\uc9d5 \\uac74\\uc870\\ud558\\ub2e4 \\uac1c\\uc120 \\ud608\\ud589 \\uac1c\\uc120 \\ud608\\uc911 \\uc9c0\\uc9c8 \\uac1c\\uc120 \\ud761\\uc218 \\uc7a5\\uc6a9 \\ucea1\\uc290 \\uc5b4\\ucde8 \\ucd5c\\uc18c \\uc790\\uc0ac \\uc81c\\ud488 \\ub300\\ube44 42% \\uac10\\uc18c \\uc791\\ub2e4 \\uc0ac\\uc774\\uc988 \\ucea1\\uc290 \\ubcf5\\uc6a9 \\ud6c4\\uae30 \\uc2b5\\uad00 \\ubcf5\\uc6a9 \\uc624\\uba54\\uac00 \\uc624\\uba54\\uac00 \\uc81c\\ud488 \\ucea1\\uc290 \\ud06c\\uae30 \\uc791\\ub2e4 \\ub118\\uae30\\ub2e4 \\ud3b8\\uc548\\ud558\\ub2e4 \\ubd88\\uc21c \\ud3ec\\ud654\\uc9c0\\ubc29\\uc0b0 \\uc904\\uc774\\ub2e4 \\uc21c\\ub3c4 \\ub192\\ub2e4 \\uccb4\\ub0b4 \\ud761\\uc218 \\uc6a9\\uc774\\ud558\\ub2e4 \\uc54c\\ud2f0 \\uc9c0\\ub77c \\ubbff\\ub2e4 \\ubcf5\\uc6a9 \\uc2dd\\ub2e8 \\ubcc0\\ud558\\ub2e4 \\ubc84\\ub9ac\\ub2e4 \\ud604\\ub300\\uc778 \\uc624\\uba54\\uac00 \\ubcf5\\uc6a9 \\uc88b\\ub2e4 \\uc2b5\\uad00 \\uac00\\uaca9 \\uad1c\\ucc2e\\ub2e4 \\ubbf8\\ub9ac \\ubc15\\uc2a4 \\uad6c\\ub9e4 \\uc624\\uba54\\uac00 \\ucd94\\ucc9c\", \"\\ubd80\\ubaa8\\ub2d8 \\ub4dc\\ub9ac\\ub2e4 \\uc8fc\\ubb38 \\uc591\\uc81c \\uc624\\ub798\\uc624\\ub798 \\uac74\\uac15\\ud558\\ub2e4 \\uc88b\\ub2e4 \\uc5b4\\ubc84\\uc774\\ub0a0 \\uc548\\ub0a8\\ub2e4 \\ub4dc\\ub9ac\\ub2e4 \\uc885\\uadfc\\ub2f9 \\uc120\\ud638 \\uc54c\\uc57d \\ub2e4\\ub098 \\uae30\\ub3c4 \\uc88b\\ub2e4 \\ud3ec\\uc7a5 \\ub3e0\\uc5b4 \\ud06c\\uae30 \\uc791\\ub2e4 \\ub118\\uae40 \\uc218\\uc6d4\\ud558\\ub2e4 \\uc88b\\ub2e4 \\uc2dc\\ub300\", \"\\ucea1\\uc290 \\uac1c\\ubcc4 \\ud3ec\\uc7a5 \\ud3b8\\ub9ac\\ud558\\ub2e4 \\uc18c\\uc9c0 \\uc12d\\ucde8 \\ubd88\\ucf8c\\ud558\\ub2e4 \\ub0c4\\uc0c8 \\ucd5c\\uc18c \\ud654\\ud558\\ub2e4 \\ub123\\ub2e4 \\uc790\\uadf9 \\ubd80\\ub2f4 \\uc12d\\ucde8\", \"\\uac74\\uc870\\ud558\\ub2e4 \\uba39\\uae30 \\uc2dc\\uc791 \\uc624\\uba54\\uac00 \\uc2ec\\ud558\\ub2e4 \\uac74\\uc870\\ud558\\ub2e4 \\uad1c\\ucc2e\\ub2e4 \\ud06c\\uae30 \\ud06c\\ub2e4 \\uc544\\ub2c8\\ub2e4 \\uad1c\\ucc2e\\ub2e4 \\uad6c\\uc601\", \"\\uc624\\uba54\\uac00 \\ud568\\ub7c9 \\ub300\\ube44 \\uac00\\uc131 \\uc88b\\ub2e4 \\uafb8\\uc900\\ud558\\ub2e4\", \"\\uc54c\\ud2f0 \\uc624\\uba54\\uac00 \\ub4c0\\uc5bc \\ud50c\\ub7ec\\uc2a4 60 \\ucea1\\uc290 \\ud608\\ud589 \\uac74\\uac15 600 \\ud3ec\\ud568 \\uc131\\ubd84 \\uac74\\uac15 \\uac1c\\uc120 \\ud608\\ud589 \\uac1c\\uc120 \\ud608\\uc911 \\uc911\\uc131 \\uc9c0\\uc9c8 \\uac1c\\uc120 \\ud761\\uc218 \\ub192\\uc774\\ub2e4 \\ub179\\uc9c0 \\ub179\\ub2e4 \\uc5b4\\ucde8 \\uc801\\ub2e4 \\uc791\\ub2e4 \\uc0ac\\uc774\\uc988 \\ub118\\uae40 \\ud3b8\\ud558\\ub2e4 \\uc18c\\ud615 \\ucea1\\uc290 \\ubcf5\\uc6a9 \\uac1c\\ubcc4 \\ud3ec\\uc7a5 \\ud2b9\\uc9d5 \\uc7a5\\uc6a9 \\ucea1\\uc220 \\uc7a5\\uc6a9 \\ucea1\\uc220 \\ub179\\uc9c0 \\ub179\\ub2e4 \\uc5b4\\ucde8 \\uc801\\ub2e4 \\ucea1\\uc220 \\uc0ac\\uc774\\uc988 \\uc904\\uc774\\ub2e4 \\ud3b8\\ud558\\ub2e4 \\uc54c\\ud2f0 \\uc624\\uba54\\uac00 \\uae30\\ub974\\ub2e4 \\uc74c\\uc2dd \\uc721\\ub958 \\uc704\\uc8fc \\uc2b5\\uad00 \\uc9c0\\ubc29\\uc9c8 \\uc12d\\ucde8 \\ub9ce\\ub2e4 \\uc2e0\\ubd84 \\ud608\\ud589 \\uac1c\\uc120 \\ud608\\uc911 \\uc911\\uc131 \\uc9c0\\uc9c8 \\uac1c\\uc120 \\ud544\\uc694\\ud558\\ub2e4 \\uc2e0\\ubd84 \\ubd80\\uc871\\ud558\\ub2e4 \\uc6b4\\ub3d9 \\ud608\\ud589 \\uac74\\uac15 \\uac71\\uc815 \\uc778\\uc2a4\\ud134\\ud2b8 \\uc2dd\\ud488 \\uc12d\\ucde8 \\ub9ce\\ub2e4 \\uc2e0\\ubd84 \\uac74\\uac15 \\uc720\\uc9c0 \\uac74\\uac15 \\uc99d\\uc9c4 \\ud544\\uc694\\ud558\\ub2e4 \\uc2e0\\ubd84 \\uc911\\uc131 \\uc9c0\\ubc29 \\uc218\\uce58 \\uac71\\uc815 \\uc26c\\ub2e4 \\uc9c0\\uce58\\ub2e4 \\uc77c\\uc0c1 \\ub5a8\\uc5b4\\uc9c0\\ub2e4 \\uacfc\\ub3c4 \\uc5c5\\ubb34 \\ubd88\\uaddc\\uce59\\ud558\\ub2e4 \\uc2dd\\uc0ac \\uac74\\uac15 \\uac71\\uc815\", \"\\ub044\\ub2e4 \\uc624\\uba54\\uac00 \\uc911\\uc9c0 \\uac08\\uc544\\ud0c0\\ub2e4 \\ub098\\uc774 50 \\uc8fc\\ubd80 \\uc911\\uc131 \\uc9c0\\ubc29 37 \\uc885\\uadfc\\ub2f9 \\uc5b4\\ub5bb\\ub2e4 \\ubaa8\\ub974\\ub2e4 \\uac74\\uac15\\uac80\\uc9c4 \\ud68c\\uc0ac \\ube44\\uad50 \\ud574\\ubcf4\\ub2e4 \\uc0ac\\ub2e4 \\ub044\\ub2e4 \\ud06c\\uae30 \\ub3c4\\ud06c \\ube44\\uc2f8\\ub2e4\", \"\\ubd80\\ubaa8\\ub2d8 \\uac74\\uac15 \\uc120\\ubb3c \\uc790\\uc8fc \\uad6c\\ub9e4 \\uc885\\uadfc\\ub2f9 \\uc88b\\uc544\\ud558\\ub2e4 \\uc694\\uc0c8 \\uc54c\\ud2f0 \\uc624\\uba54\\uac00 \\ud06c\\uae30 \\uc801\\ub2f9\\ud558\\ub2e4 \\uc88b\\uc544\\ud558\\ub2e4 \\ub0c4\\uc0c8 \\uafb8\\uc900\\ud558\\ub2e4 \\uc88b\\ub2e4 \\ub728\\ub2e4 \\uc790\\uc8fc \\uad6c\\ub9e4 \\ub744\\ub2e4 \\uc88b\\ub2e4 \\ubaa8\\ub974\\ub2e4 \\uba39\\uc74c \\uc88b\\uc544\\uc9c0\\ub2e4 \\ubbff\\ub2e4 \\uc81c\\ud488\", \"\\ub77c\\uc139 \\uc548\\uad6c\\uac74\\uc870\\uc99d \\ube44\\ud0c0\\ubbfc \\uc624\\uba54\\uac00 \\ubcf5\\uc6a9 \\uc624\\uba54\\uac00 \\ud2b9\\uc720 \\uc6b8\\ub801\\uac70\\ub9ac\\ub2e4 \\uae54\\ub054\\ud558\\ub2e4\", \"\\uc54c\\ud2f0 \\uc624\\uba54\\uac00 \\ub4c0\\uc5bc \\ud50c\\ub7ec\\uc2a4 60 \\ucea1\\uc290 \\ub9ac\\ubdf0 \\ubd80\\ubaa8\\ub2d8 \\uc624\\uba54\\uac00 \\ub298\\ub2e4 \\uc815\\ub9d0 \\uc6cc\\ub099 \\ubd80\\ubaa8\\ub2d8 \\uc11c\\ub3c4 \\uacc4\\uc2dc\\ub2e4 \\uad6c\\ub9e4 \\uc54c\\ud2f0 \\uc624\\uba54\\uac00 \\ub4c0\\uc5bc \\ud50c\\ub7ec\\uc2a4 \\ud2b9\\uc9d5 \\ud761\\uc218 \\ub192\\ub2e4 \\ud761\\uc218 \\uc0dd\\uccb4 \\uc6a9\\uc774 \\uc7a5\\uc6a9 \\ucea1\\uc290 \\ub179\\uc9c0 \\ub179\\ub2e4 \\uc5b4\\ucde8 \\uc801\\ub2e4 \\uc791\\ub2e4 \\uc0ac\\uc774\\uc988 \\ucea1\\uc290 \\ub118\\uae40 \\ud3b8\\uc548\\ud568 \\uc138\\uacc4 \\ud310\\ub9e4 1\\ub4f1 \\ud488\\uc9c8 \\uc6d0\\ub8cc \\ube44\\ub2e4 \\ucea1\\uc290 \\uc0ac\\uc774\\uc988 \\uc791\\ub2e4 \\uc88b\\ub2e4 \\uc81c\\ud488 \\ucee4\\uc11c \\ud798\\ub4e4\\ub2e4 \\uc0ac\\uc774\\uc988 \\uc54c\\ub9de\\ub2e4 \\uba39\\uae30 \\ud3b8\\uc548\\ud558\\ub2e4 \\uc7a5\\uc6a9 \\ucea1\\uc290 \\ub179\\uc9c0 \\ub118\\ub2e4 \\uc911\\uc694\\ud558\\ub2e4 \\uc0dd\\uc120 \\ube44\\ub9ac\\ub2e4 \\uc62c\\ub77c\\uc624\\ub2e4 \\ube44\\ub9ac\\ub2e4 \\uac00\\ub054 \\uc18d\\uc774\\ub2e4 \\uc548\\uc88b\\ub2e4 \\uae30\\ub3c4 \\uc54c\\ud2f0 \\uc624\\uba54\\uac00 \\ub298\\ub2e4 \\uadf8\\ub807\\ub2e4 \\uac71\\uc815 \\ub2f9\\ub1e8 \\uc548\\uc88b\\ub2e4 \\uafb8\\uc900\\ud558\\ub2e4 \\uc624\\uba54\\uac00 \\uc88b\\uc544\\uc9c0\\ub2e4 \\uacc4\\uc138 \\ud56d\\uc0c1 \\uc12d\\ucde8 \\ube44\\ud0c0\\ubbfc \\ub354\\ud558\\ub2e4 \\ud56d\\uc0b0\\ud654 \\uc131\\uacfc \\uac74\\uac15 \\uc815\\ub9d0 \\uc624\\uba54\\uac00 \\ub9cc\\uc0ac \\uc624\\ucf00\\uc774 \\ubd80\\ubaa8\\ub2d8 \\uc88b\\uc544\\ud558\\ub2e4 \\uba39\\uae30 \\ud3b8\\ud558\\ub2e4 \\uc18d\\ub3c4 \\ud3b8\\uc548\\ud558\\ub2e4 \\uc88b\\uc544\\ud558\\ub2e4 \\uc81c\\ud488 \\uad6c\\ub9e4 \\ucd5c\\uace0\", \"\\ud608\\ud589 \\uac1c\\uc120 \\ud608\\uc99d \\uc911\\uc131 \\uc9c0\\uc9c8 \\uac1c\\uc120 \\ub3c4\\uc6c0 \\uac74\\uc870\\ud558\\ub2e4 \\ucf00\\uc5b4 \\ucd09\\ucd09\\ud558\\ub2e4 \\ub9cc\\ub4e4\\ub2e4 \\uc624\\uba54\\uac00 \\uc8fc\\uc131\\ubd84 \\uc778\\ud558\\ub2e4 \\uac1c\\ubcc4 \\ud3ec\\uc7a5 \\uc791\\ub2e4 \\uc0ac\\uc774 \\uc12d\\ucde8 \\ud3b8\\uc758 \\ub192\\uc774\\ub2e4 \\uacf5\\uae30 \\uc628\\ub3c4 \\uc2b5\\ub3c4 \\ubbfc\\uac10\\ud558\\ub2e4 \\uc624\\uba54\\uac00 \\ud3ec\\uc7a5 \\uc678\\ubd80 \\ud658\\uacbd \\ubc18\\uc751 \\ucd5c\\uc18c \\ud654\\ud558\\ub2e4 \\uac1c\\ubcc4 \\ud3ec\\uc7a5 \\ud0c0\\uc785 \\ubd88\\uc21c \\ud3ec\\ud654\\uc9c0\\ubc29\\uc0b0 \\uc904\\uc774\\ub2e4 \\uc21c\\ub3c4 \\ub192\\ub2e4 \\uccb4\\ub0b4 \\ud761\\uc218 \\uc6a9\\uc774\\ud558\\ub2e4 \\ud06c\\ub2e4 \\uc911\\uae08\\uc18d \\uc5fc\\ub3c4 \\ub0ae\\ub2e4 \\uc18c\\ud615 \\uc5b4\\ub958 \\ucd94\\ucd9c \\uc6d0\\ub8cc 10 \\ub2e8\\uacc4 \\uc6d0\\ub8cc \\uc815\\uc81c \\uac70\\uce58\\ub2e4 \\ud488\\uc9c8 \\uc548\\uc804\\uc131 \\uac15\\ud654 25 \\ub2e8\\uacc4 \\uc81c\\uc870 \\uacf5\\uc815 \\uaf3c\\uaf3c\\ud558\\ub2e4 \\uc81c\\ud488 \\uac80\\uc218 \\uc815\\ubc00\\uac80\\uc0ac \\uc548\\uc2ec \\uc12d\\ucde8 \\uac00\\ub2a5 \\ub6f0\\uc5b4\\ub098\\ub2e4 \\uacfc\\uc815 \\uac80\\uc218 \\uace0\\ub974\\ub2e4 \\ub123\\ub2e4 \\uc81c\\ud488 \\uc800\\ub834\\ud558\\ub2e4 \\uac00\\uaca9 \\uacf5\\uae09 \\uc785\\uc7a5 \\ub354\\ud558\\ub2e4 \\ub098\\uc704 \\uc88b\\ub2e4 \\uc81c\\ud488 \\ubc14\\uc058\\ub2e4 \\uc0ac\\ud68c \\uc0b4\\ub2e4 \\ud604\\ub300\\uc778 \\ub9de\\ub2e4 \\uc591\\uc81c \\ubbff\\ub2e4 \\uafb8\\uc900\\ud558\\ub2e4 \\uad6c\\ub9e4 \\uc81c\\ud488\", \"\\ubc8c\\uc368 \\uc2dc\\ucf2f\\ub358 \\uc624\\uba54\\uac00 \\uc774\\uad6c 1\\ub144 \\uc2f6\\ub2e4 \\uc624\\uba54\\uac00 \\ub298\\ub2e4 \\ubbff\\ub2e4 \\uc81c\\uc911 \\uccb4\\uac10 \\uc131\\ub2a5 \\uc81c\\uc77c \\uc88b\\ub2e4 \\ubeb4\\ub193\\uace0 \\ub118\\uae40 \\uc5ec\\uc804\\ud558\\ub2e4 \\uac70\\ubd80 \\uc3d9\\uc3d9\", \"\\ub450\\ubc88\\uc9f8 \\uad6c\\ub9e4 \\uc774\\ub984 \\ud50c\\ub7ec\\uc2a4 \\ucd94\\uac00 \\uc88b\\ub2e4\", \"\\ucfe0\\ud321 \\uad6c\\uc785\", \"\\ub098\\uc774 \\uac74\\uac15 \\uc2e0\\uacbd \\uc368\\ub2e4 \\uc624\\uba54\\uac00 \\uc54c\\uc57d \\ud06c\\uae30 \\ud06c\\ub2e4 \\ud2b9\\uc720 \\ube44\\ub9ac\\ub2e4 \\uc62c\\ub77c\\uc624\\ub2e4 \\uc2e4\\ud328\\ud558\\ub2e4 \\uac70\\ubd80 \\ub4e4\\uc5b4\\uc11c\\ub2e4 \\uad11\\uace0 \\uc131\\ubd84 \\uc81c\\uc870 \\ucc3e\\uc544\\ubcf4\\ub2e4 \\uc2dc\\uc791 \\uba40\\ud2f0 \\uc624\\uba54\\uac00 \\ub4c0\\uc5bc \\uc120\\ud0dd \\uc774\\uc720 \\uc624\\uba54\\uac00 \\ud568\\uc720 \\uc720\\uc9c0 \\ud608\\uc561 \\ud560\\ud558 \\ub9cc\\ub4e4\\ub2e4 \\ud608\\ud589 \\uac1c\\uc120 \\ud608\\uc911 \\uc911\\uc131 \\uc9c0\\uc9c8 \\uac1c\\uc120 \\ub3c4\\uc6c0 \\uace0\\ud574 \\uc810\\uc810 \\uac74\\uc870\\ud558\\ub2e4 600 \\uc624\\uba54\\uac00 \\uc12d\\ucde8 \\ud574\\uc8fc\\ub2e4 \\uac74\\uc870\\ud558\\ub2e4 \\uac1c\\uc120 \\ub3c4\\uc6c0 \\uc4f8\\ub2e4 \\ub0b4\\uc6a9 \\ubbfc\\uac10\\ud558\\ub2e4 \\uc5b4\\ucde8\\ub098 \\uc7a5\\uc6a9 \\ucea1\\uc290 \\uba39\\uae30 \\ud3b8\\ud558\\ub2e4 \\ub179\\ub2e4 \\uc544\\ub2c8\\ub2e4 \\ub179\\ub2e4 \\uc5b4\\ucde8 \\ub290\\ub07c\\ub2e4 \\uc190\\ud1b1 \\ud06c\\uae30 \\ub118\\uae40 \\ubd80\\ub4dc\\ub7fd\\ub2e4 \\uc624\\uba54\\uac00 \\uc120\\ud0dd \\uc774\\uc720 \\uc6d0\\ub8cc \\uc120\\uc815 \\uc81c\\uc870 \\ud488\\uc9c8 \\uad00\\ub9ac \\uc885\\uadfc\\ub2f9 \\ubc14\\ub2e4 \\uc624\\uc5fc \\uc624\\uba54\\uac00 \\ub298\\ub2e4 \\uc911\\uae08\\uc18d \\uc5fc\\ub3c4 \\ub0ae\\ub2e4 \\uc18c\\ud615 \\uc5b4\\ub958 \\uc544\\ub2c8\\ub2e4 10 \\ub2e8\\uacc4 \\uac70\\uce58\\ub2e4 \\uc6d0\\ub8cc \\uc815\\uc81c 25 \\ub2e8\\uacc4 \\uacf5\\uc815 \\uc815\\ubc00\\uac80\\uc0ac \\uae50\\uae50\\ud558\\ub2e4 \\ub9cc\\ub4e4\\uc5b4\\uc9c0\\ub2e4 \\uc815\\ub9d0 \\uc5ec\\ub7ec\\uac00\\uc9c0 \\uc131\\uacf5\\ud558\\ub2e4 \\uac74\\uac15 \\uc2dd\\ud488 \\uc88b\\ub2e4 \\ub9ac\\ubdf0 \\uc624\\uba54\\uac00 \\ub3c4\\uc6c0 \\uc88b\\ub2e4\", \"\\uc720\\ud1b5 \\uae30\\ud55c \\ub109\\ub109\\ud558\\ub2e4 \\uc624\\uba54\\uac00 \\ub77c\\uc11c \\uc2f8\\ub2e4 \\uad6c\\ub9e4 \\uc624\\uba54\\uac00 \\ud2b9\\uc720 \\ube44\\ub9ac\\ub2e4 \\uafb8\\uc900\\ud558\\ub2e4 \\ubcf5\\uc6a9 \\ud06c\\ub2e4 \\ubd80\\ub2f4 \\uc88b\\ub2e4 \\uc7ac\\ub2e4 \\uc758\\uc0ac \\ud560\\uc778 \\ud574\\uc8fc\\ub2e4\", \"\\uc88b\\ub2e4 \\uac00\\uaca9 \\ucc29\\ud558\\ub2e4 \\uc790\\uc8fc\", \"\\ub2e4\\uc774\\uc5b4\\ud2b8 \\ub3c4\\uc6c0 \\ud084\\ud06c \\uc2dd\\uc804 20\\ubd84 \\uadf8\\ub807\\ub2e4 3\\uc77c\", \"\\ub2e4\\uc774\\uc5b4\\ud2b8 \\uccb4\\ud06c \\uad6c\\ub9e4 \\uc81c\\ud488\", \"\\ubd80\\ubaa8\\ub2d8 \\ub4dc\\ub9ac\\ub2e4 \\uc81c\\ud488 \\uc88b\\ub2e4 \\uac00\\uaca9 \\uc88b\\ub2e4 \\ud488\\uc9c8 \\ubbff\\ub2e4\", \"\\ube0c\\ub79c\\ub4dc \\ubbff\\ub2e4 \\uc0c1\\ud488 \\uad6c\\ub9e4 \\uc54c\\ub2e4 \\ud06c\\ub2e4 \\uae30\\ub300\", \"\\uc88b\\ub2e4 \\ub2e4\\ud574 \\uc8fc\\ubb38 \\uac00\\ub974\\ub2e4 \\uc88b\\ub2e4\", \"\\ucfe0\\ud321 \\ud14c\\uc544\\ub2cc \\ubcf4\\uc870 \\uad6c\\ub9e4 \\ub2e4\\uc774\\uc5b4\\ud2b8 \\ubcf4\\uc870 \\uac80\\uc0c9 \\ud574\\ubcf4\\ub2e4 \\uc2dd\\uc804 \\ube0c\\ube14 \\ub85c\\ucee4 \\uc2dd\\ud6c4 \\ub0a0\\ub9ac\\ub2e4 \\ub808\\uc6b0\\uc2a4 \\ud3ec\\uc2a4 \\ucf5c\\ub9ac \\uba39\\uae30 \\uc2dc\\uc791 \\uc6b4\\ub3d9 40\\ubd84 \\uce74\\ub974\\ub2c8\\ud2f4 \\ud544\\ub77c\\ud14c\\uc2a4 20~30\\ubd84 \\uac1c\\uc778 \\uc6b4\\ub3d9 \\uc6b4\\ub3d9 \\uc0ac\\uc774 \\uce74\\ub974\\ub2c8\\ud2f4 \\uc5c4\\uccad\\ub098\\ub2e4 30\\ubd84 \\uac78\\ub2e4 1\\uc77c \\uc2dc\\uc791 163 63 \\ub450\\ub2e4 22\\uc77c \\ube60\\uc9c0\\ub2e4 59 \\ub3fc\\ub2e4 \\uc800\\ub141 \\ub9e5\\uc8fc \\uc800\\ub141 \\ub9c8\\uc2dc\\ub2e4 \\ub744\\uc5c4\\ub744\\uc5c4 \\ub9c8\\uc2dc\\ub2e4 \\ub808\\uc6b0\\uc2a4 \\ud3ec\\uc2a4 \\ucf5c\\ub9ac \\ubc14\\uc9c0 \\uc785\\ub2e4 \\uae5c\\uc9dd \\ub180\\ub77c\\ub2e4 \\uccb4\\uc9c0\\ubc29 \\uc904\\ub2e4 \\ub298\\uc5b4\\ub098\\ub2e4 \\uccb4\\uc911 \\ubcc0\\ud654 \\ube7c\\ub2e4 55 \\ud0a4\\ub85c \\ube7c\\ub2e4 \\uccb4\\uc911 \\uc720\\uc9c0 \\ubaa9\\ud45c \\ub098\\uc774 \\ub9c8\\ud754 \\ub118\\ub2e4 \\ube7c\\ub2e4 \\uc2f6\\ub2e4 \\uc2e0\\ubd84 \\ucd94\\ucc9c \\ubd80\\uc791\\uc6a9 \\ub808\\uc6b0\\uc2a4 \\ud3ec\\uc2a4 \\ucf5c\\ub9ac \\ube48\\uc18d \\uc4f0\\ub9ac\\ub2e4\", \"\\uc790\\ub9ac \\uadf8\\ub300\\ub85c \\uadfc\\uc721 \\ub6b1\\ub561\\uc774 \\uac08\\ub2e4 \\ub9c8\\uc74c \\ud3c9\\uc548 \\uc704\\ud574\", \"\\uc911\\uc774 \\ubaa8\\ub974\\ub2e4 \\uc57c\\ud558\\ub2e4 \\uc88b\\ub2e4 \\uc88b\\ub2e4\", \"\\ubc43\\uc0b4 \\ucc0c\\ub2e4\", \"\\ub450\\ubc88\\uc9f8 \\uad6c\\ub9e4 \\ud6c4\\uae30 \\ub0a8\\uae30\\ub2e4 \\uac1c\\uc6d4\\ud6c4 \\ud6c4\\uae30 \\ub0a8\\ub2e4\", \"\\uc9c0\\uae08\\uaecf \\ubcf4\\uc870 \\ubd80\\uc791\\uc6a9 \\ubcf4\\uc870 \\uc81c\\uc608\", \"\\ubab0\\ub2e4\", \"\\ub2e4\\uc774\\uc5b4\\ud2b8 \\ubaa8\\ub974\\ub2e4 \\ubcc0\\ube44 \\ud0c1\\uc6d4\\ud558\\ub2e4\", \"\\uc810\\uc2ec \\uc12d\\ucde8 \\ud5d0\\ub2e4 \\ub2e8\\uc2dd \\uc57c\\ud558\\ub2e4 \\uc591\\uc81c \\uac00\\ub974\\ub2e4 \\ube44\\ub2e4 \\ucc0c\\ub2e4 \\ub290\\uaef4\\uc9c0\\ub2e4\", \"\\uc77c\\ub9ac \\uc591\\uc81c \\uccb4\\uc9c0\\ubc29 \\uad00\\ub9ac \\uc88b\\ub2e4\", \"\\ubcf4\\uc774\\ub2e4\", \"\\uc65c\\uc0bf \\ud3c9\\uc774 \\ub098\\uc058\\ub2e4\", \"\\uc2dc\\uc791 \\uc88b\\ub2e4 \\uae30\\ub300\\ud558\\ub2e4\", \"\\uad1c\\ucc2e\\ub2e4 \\uad11\\uace0 \\ucca8\\uac00 \\uc5ec\\ub7ec \\uc131\\ubd84\", \"\\ud640\\ub9ac \\ub370\\uc774\\uc988 \\ud504\\ub9ac\\ubbf8\\uc5c4 \\ud06c\\ub79c\\ubca0\\ub9ac \\ud0c0\\ube14\\ub81b \\ud06c\\ub79c\\ubca0\\ub9ac \\uc88b\\ub2e4 \\uacc4\\uc2dc \\uc88b\\ub2e4 \\ud604\\ub300 \\uc0dd\\ud65c \\uc815\\ub9d0 \\uc27d\\ub2e4 \\uc544\\ub2c8\\ub2e4 \\ud06c\\ub79c\\ubca0\\ub9ac \\uacfc\\uc77c \\ub354\\uc6b1\\uc774 \\ubcf4\\uad00 \\ud798\\ub4e4\\ub2e4 \\uc815\\ub7c9 \\uc12d\\ucde8 \\ud640\\ub9ac \\ub370\\uc774\\uc988 \\ud504\\ub9ac\\ubbf8\\uc5c4 \\ud06c\\ub79c\\ubca0\\ub9ac \\ud0c0\\ube14\\ub81b 99 \\ud568\\ub7c9 \\ub18d\\ucd95 \\ubd84\\ub9d0 \\ub18d\\ucd95 \\ud655\\uc778 \\ub18d\\ucd95 \\ubd84\\ub9d0 \\uc190\\uc2e4 \\ucd5c\\uc18c \\ucf1c\\ub2e4 100 \\ubd81\\ubbf8 \\ud06c\\ub79c\\ubca0\\ub9ac 1\\ud68c \\uac04\\ud3b8\\ud558\\ub2e4 \\uc12d\\ucde8 \\ud06c\\ub79c\\ubca0\\ub9ac \\ud0c0\\ube14\\ub81b \\uad73\\uc774 \\uacfc\\uc721 \\ud544\\uc694 \\ud0c0\\ube14\\ub81b \\ud06c\\uae30 \\uc791\\ub2e4 \\ub118\\uae40 \\ubd88\\ud3b8 \\uc5b4\\ub5bb\\ub2e4 \\ucee4\\uc11c \\ub118\\uae40 \\uc815\\ub9d0 \\ud798\\ub4dc\\ub2e4 \\uadf8\\ub807\\ub2e4 \\uc54c\\ub2e4 \\ub808\\ub180 \\uc791\\ub2e4 \\uc6cc\\ud0b9\\ub9d8 \\ud53c\\uace4\\ud558\\ub2e4 \\uc9c0\\uce58\\ub2e4 \\uc77c\\ub3c4 \\uc9d1\\uc548\\uc77c \\ubcd1\\ud589 \\ud544\\uc694\\ud558\\ub2e4 \\uc12d\\ucde8 \\uac04\\ub2e8\\ud558\\ub2e4 \\uc601\\uc591 \\ubcf4\\ucda9 \\uc2f6\\ub2e4 \\ud640\\ub9ac \\ub370\\uc774\\uc988 \\ud504\\ub9ac\\ubbf8\\uc5c4 \\ud06c\\ub79c\\ubca0\\ub9ac \\ud0c0\\ube14\\ub81b \\uc54c\\ub2e4 \\uc9c0\\uce58\\ub2e4 \\uc77c\\uc0c1 \\ud65c\\uae30\\ucc28\\ub2e4 \\uc77c\\uc0c1\", \"\\ubc29\\uad11\\uc5fc \\uc7ac\\ubc1c \\uc790\\uc8fc \\ud06c\\ub79c\\ubca0\\ub9ac \\uc88b\\ub2e4 \\ub2e4\\ud574 \\uad6c\\ub9e4\", \"\\uc9c8\\uc5fc \\uc0dd\\uae30\\ub2e4 \\ubcd1\\uc6d0 \\ub2e4\\ub2c8\\ub2e4 \\ub3c5\\ud558\\ub2e4 \\uc9c0\\uae0b\\uc9c0\\uae0b\\ud558\\ub2e4 \\ucc3e\\uc544\\ubcf4\\ub2e4 \\ud06c\\ub79c\\ubca0\\ub9ac \\uc591\\uc81c \\uc88b\\ub2e4 \\uad6c\\ub9e4 \\ud574\\ubd24\\ub2e4 \\ucda9\\ubd84\\ud558\\ub2e4 \\uc368\\ub2e4 \\ubb3c\\uc774 \\ub179\\ub2e4 \\uba39\\uae30 \\ucc28\\ub2e4 \\ud3b8\\ud558\\ub2e4 \\uc9c8\\uc5fc \\uc0dd\\uae30\\ub2e4 \\uc88b\\ub2e4\", \"\\uc911\\uc784 \\uad6c\\ub9e4 \\uc74d\\ub2c8 \\uac10\\uc0ac\\ud558\\ub2e4 \\ucc28\\ub2e4 \\uc2e0\\uccad \\ub2eb\\ub2e4\", \"\\uac31\\ub144\\uae30 \\uce5c\\uc815 \\ubcf4\\ub0b4\\ub2e4 \\ub4dc\\ub837\\ub354 \\uc88b\\ub2e4\", \"\\ubc30\\uc1a1 \\uc131\\ub2a5 \\uc720\\ud1b5 \\uae30\\ud55c\", \"\\ucea1\\uc290 \\ubc14\\uafb8\\ub2e4 \\ubcc4\\ub85c \\uc804\\uc548 \\ub9de\\ub2e4 \\uac00\\uc131 \\ube44\\ub2e4 \\ubc29\\uad11\\uc5fc \\ucea1\\uc290 \\uafb8\\uc911 \\uc0ac\\ub2e4 \\uc54c\\ub2e4 \\ubc18\\uc751 \\ubc18\\uc751\", \"\\uba74\\uc5ed \\ub5a8\\uc5b4\\uc9c0\\ub2e4 \\ud544\\uc694\\ud558\\ub2e4 \\uad6c\\uc785\", \"\\uc720\\ud1b5 \\uae30\\ud55c \\uae30\\ud55c \\ub109\\ub109\\ud558\\ub2e4 \\ud3ec\\uc7a5 \\uc0c1\\ud0dc \\ud3ec\\uc7a5 \\uae54\\ub054\\ud558\\ub2e4 \\uc88b\\ub2e4\", \"\\uc720\\ud1b5 \\uae30\\ud55c \\uae30\\ud55c \\ub109\\ub109\\ud558\\ub2e4 \\ud3ec\\uc7a5 \\uc0c1\\ud0dc \\ud3ec\\uc7a5 \\uae54\\ub054\\ud558\\ub2e4\", \"\\uccb4\\uc9c0\\ubc29 \\uc904\\uc774\\ub2e4 \\uad6c\\ub9e4 \\uc88b\\ub2e4 \\ubc14\\ub77c\\ub2e4 \\uc2dc\\uc2dd \\ub2e4\\uc2dc \\ub9ac\\ubdf0 \\uc62c\\ub9ac\\ub2e4\", \"\\uc88b\\ub2e4 \\uc88b\\ub2e4\", \"\\ubaa8\\ub974\\ub2e4 \\uafb8\\uc900\\ud558\\ub2e4\", \"\\uadf8\\ub9b0\\ud2f0 \\ucd94\\ucd9c \\ub098\\uc6b0 \\ud478\\ub4dc \\ub530\\ub77c\\uc624\\ub2e4\", \"\\ud6a8\\ub2a5 \\ubc1c\\uc554 \\uc5b5\\uc81c \\ub3d9\\ub9e5\\uacbd\\ud654 \\ud608\\uc555 \\uc0c1\\uc2b9 \\ud608\\uc804 \\uc608\\ubc29 \\ubc14\\uc774\\ub7ec\\uc2a4 \\ube44\\ub9cc \\ub098\\uc6b0 \\ucc29\\ud558\\ub2e4 \\uac00\\uaca9 \\uacf5\\uae09 \\uc8fc\\uc2dc \\uace0\\ub9d9\\ub2e4\", \"\\ubd80\\uc791\\uc6a9 \\uc131\\ubd84 \\uc0ac\\ubcf4\\ub2e4 \\uc74c\\uc2dd \\ubcc0\\ub3c4 \\ubb3d\\ub2e4 \\ucabc\\ub054 \\ub9de\\ub2e4 \\uadf8\\ub807\\ub2e4 \\ubaa8\\ub974\\ub2e4 \\ud53c\\uace4\\ud558\\ub2e4\", \"\\ud655\\uc2e4\\ud558\\ub2e4 \\ucc0c\\ub2e4\", \"\\ud45c\\ud604 \\uc2f6\\ub2e4 \\ub808\\uc804\\ub4dc \\ub2e4\\uc774\\uc5b4\\ud2b8 \\ud50c\\ub9ac \\uba40\\ub2e4 \\uc810\\uc2ec \\uba39\\uae30 20\\ubd84 \\ube60\\uc9c0\\ub2e4 \\uc9c0\\uae08\\uaecf \\uc778\\uc2a4\\ud0c0 \\uacf5\\uad6c \\uad11\\uace0 \\uc5c4\\uccad\\ub098\\ub2e4 \\uad11\\uace0 \\ud604\\ud639 \\ub9ce\\ub2e4 \\ub2e4\\uc774\\uc5b4\\ud2b8 \\uac70\\ub4e4\\ub2e4 \\uc5d0\\ud0c0\\ubbfc \\ud55c\\uc758\\uc6d0 \\ub2e4\\uc774\\uc5b4\\ud2b8 \\ubb34\\uc218 \\ud574\\ubd23 \\uc591\\uc57d \\uae30\\ubcf8 \\uba39\\uc74c \\ubaa8\\ub4e0 \\ud574\\ubc29 \\uc57d\\uacfc \\ube60\\uc9c0\\ub2e4 \\uc0c1\\ud0dc \\uc6b4\\ub3d9 \\uc800\\ub141 \\ube60\\uc9c0\\ub2e4 \\uc601\\uc591 \\uc81c\\ub9cc\", \"\\ud0c8\\ubaa8 \\uc88b\\ub2e4 \\ubc14\\ub77c\\ub2e4\", \"\\uc790\\uc8fc \\uc7a6\\ub2e4 \\uc6b4\\ub3d9 \\ud544\\uc694\\ud558\\ub2e4 \\uc81c\\ud488\", \"\\uc544\\ub2c8\\ub2e4 \\uc591\\uc81c \\ub4dc\\ub77c\\ub9c8\\ud2f1\\ud558\\ub2e4 \\uc2e0\\uccb4 \\ubcc0\\ud654 \\uae30\\ub300\\ud558\\ub2e4 \\ub9ce\\ub2e4 \\ud55c\\uc2a4 \\uadfc\\uc721 \\uc0dd\\uae30\\ub2e4 \\ubc14\\ubcf4 \\uc2dd\\uc0ac \\uc2dd\\uc0ac \\uc12d\\ucde8 \\uc2dd\\uc804 \\uacf5\\ubcf5 \\uc548\\uc88b\\ub2e4 \\ubc14\\ubcf4 \\uc778\\uc99d \\uc544\\ub2c8\\ub2e4\", \"\\uccb4\\uc911 \\uac10\\ub7c9 \\ubaa8\\ub974\\ub2e4 \\uafb8\\uc900\\ud558\\ub2e4 \\uc800\\ub141 \\uc800\\ub141 \\ub204\\uc6b0 \\uc7a0\\ub4e4\\ub2e4 \\uac78\\ub9ac\\ub2e4 \\ub098\\uc11c\\ub2e4 \\uc800\\ub141 \\ub215\\ub2e4 \\uae30\\uc808 \\uccb4\\uc911 \\uac10\\ub7c9 \\uc219\\uba74 \\uc6d0\\ud558\\ub2e4 \\ucd94\\ucc9c\", \"\\ub179\\ucc28 \\ub2e4\\uc774\\uc5b4\\ud2b8 \\ub3c4\\uc6c0 \\ub2e4\\ud574 \\uad6c\\ub9e4 \\ub179\\ucc28 \\uc6b0\\ub824 \\uc54c\\uc57d \\ud3b8\\ud558\\ub2e4 \\uc88b\\ub2e4 \\ub179\\ucc28 \\ucd94\\ucd9c 400 \\ub118\\ub2e4 \\uc88b\\ub2e4 \\uad6c\\ub9e4 \\uc2e0\\ubd84 \\uafb8\\uc900\\ud558\\ub2e4 \\ube48\\uc18d \\uc548\\ub300\", \"\\ub450\\ubc88\\uc9f8 \\uad6c\\ub9e4 \\ud5d0\\ub2e4 \\ub2e8\\uc2dd \\ubc43\\uc0b4 \\ube7c\\ub2e4 \\ub3c4\\uc6c0 \\ub2e4\\ud574 \\ud5d0\\ub2e4 \\ud0a4\\ud1a0 \\ud0a4\\ud1a0 \\uc2dd\\ub2e8 \\uadf8\\ub807\\ub2e4 \\uc2dd\\ub2e8 \\uc870\\uc808 \\uc2ec\\uae30 \\uc804\\ud574 \\ub2e4\\uc2dc \\uc81c\\ub300\\ub85c \\ud06c\\uac8c \\ub3c4\\uc6c0\", \"\\ub3c4\\uc804 \\ud574\\ubcf4\\ub2e4 \\uc0b4\\ube60\\uc7c8\", \"\\uac11\\uc790\\uae30 \\ud3ec\\uc2a4 \\ucf5c\\ub9ac \\ubc29\\uc1a1 \\uc2dc\\uc791 \\ud488\\uc808 \\ub728\\ub2e4 \\ub808\\uc6b0\\uc2a4 \\ud3ec\\uc2a4 \\ucf5c\\ub9ac \\uc131\\ubd84 3\\ub144 \\uac00\\uae5d\\ub2e4 \\uccb4\\uc911 \\uc720\\uc9c0 \\ucc9c\\uc5f0 \\uc2dd\\ubb3c \\uc81c\\ud488 \\ub3c4\\ud574 \\uc704\\uc548 \\uc0bc\\ub2e4 \\uc81c\\ud488 \\uc2dd\\ub2e8 \\uc870\\uc808 \\ub2f9\\uc5f0\\ud558\\ub2e4 \\ube60\\uc9c0\\ub2e4 \\uc720\\uc9c0 \\uac00\\uaca9 \\uc800\\ub834\\ud558\\ub2e4 \\uc88b\\ub2e4\", \"\\uc77c\\uc5b4\\ub098\\ub2e4 \\ucd9c\\uadfc\\uae38 \\ucee4\\ud53c \\uc0ac\\uba39\\ub2e4 \\ud544\\uc694\", \"\\uac00\\uaca9 \\ub300\\ube44 \\ubc30\\uc1a1 \\uac00\\uc131 \\uc88b\\ub2e4\", \"\\ud5d0\\ub2e4 \\ub2e8\\uc2dd \\ubc43\\uc0b4 \\ube7c\\ub2e4 \\ub3c4\\uc6c0 \\uad6c\\ub9e4\", \"\\ub2e4\\uc774\\uc5b4\\ud2b8 \\ubcf4\\uc870 \\uc81c\\ub85c \\ube60\\uc9c0\\ub2e4 \\uccb4\\uc911 \\uc720\\uc9c0 \\ub3c4\\uc6c0 \\uc870\\uc808 \\uc6b4\\ub3d9 \\uac00\\ub054 \\ub2e4\\uc774\\uc5b4\\ud2b8 \\ubcf4\\uc870 \\uba39\\uc5b4\\uc8fc\\ub2e4 \\ubab8\\ubb34\\uac8c \\ud06c\\uac8c \\ubcc0\\ud654 \\uc88b\\ub2e4 \\ube60\\uc9c0\\ub2e4 \\uc911\\uc774 \\uc2dd\\ub2e8 \\uc870\\uc808\", \"\\ub178\\uc778\\uc131 \\uc9c8\\ud658 \\ub300\\ube44 \\ub450\\ub2e4\", \"\\uc368\\ub2e4 \\uc54c\\ub2e4 \\uc88b\\ub2e4\", \"\\ubc29\\uad11\\uc5fc \\uac78\\ub9ac\\ub2e4 \\ud56d\\uc0dd\\uc81c \\ud06c\\ub79c\\ubca0\\ub9ac \\uba39\\uc5b4\\uc8fc\\ub2e4 \\ud06c\\ub79c\\ubca0\\ub9ac \\ub300\\uc7a5\\uade0 \\uc694\\ub3c4 \\ubd99\\ub2e4 \\ubc29\\uc9c0 \\uc758\\uc0ac \\uc120\\uc0dd\\ub2d8 \\uadf8\\ub807\\ub2e4 \\uc0c1\\ud07c \\ub9c8\\uadf8\\ub124\\uc298 \\uc591\\uc81c \\ud074\\ub9b0 \\uc601\\uc591 \\uc81c\\uc778 \\ubc29\\uad11\\uc5fc \\uac78\\ub9ac\\ub2e4 \\uac81\\ub2c8\\ub2e4\", \"\\ubc29\\uad11\\uc5fc \\uc88b\\ub2e4 \\uc0ac\\ubcf4\\ub2e4 \\uac00\\uaca9 \\uc801\\ub2f9\\ud558\\ub2e4 \\uc54c\\uc57d \\ud06c\\ub2e4 \\ub4ed\\ub2c8 \\uac00\\uc871 \\ucd94\\uac00 \\uad6c\\ub9e4\", \"\\ubaa8\\ub974\\ub2e4\", \"\\ubc30\\uc1a1 \\ube68\\ub974\\ub2e4 \\uc131\\ub2a5 \\uc131\\ub2a5 \\ub6f0\\uc5b4\\ub098\\ub2e4 \\uc720\\ud1b5 \\uae30\\ud55c \\uae30\\ud55c \\ub109\\ub109\\ud558\\ub2e4\", \"\\ub144\\uc804 \\ud608\\ub1e8 \\uc591\\uc81c \\uadc0\\uc2e0 \\uac00\\ub054 \\uc0dd\\uac01\\ub098\\ub2e4 \\uad6c\\ub9e4\", \"\\uc0ac\\uc81c\\ud488 \\ucea1\\uc290 \\ubcf5\\uc6a9 \\ud640\\ub9ac \\ub370\\uc774\\uc988 \\ud06c\\ub79c\\ubca0\\ub9ac \\uc591\\uc81c 45 \\ud568\\ub7c9 \\ub9ce\\ub2e4 \\uc8fc\\ubb38 2\\uc77c \\ubcf5\\uc6a9 \\uc794\\ub1e8\\uac10 \\uc904\\uc5b4\\ub4e4\\ub2e4 \\uac07\\uc544\", \"\\ubc30\\uc1a1 \\ube68\\ub974\\ub2e4 \\uc131\\ub2a5 \\uc720\\ud1b5 \\uae30\\ud55c\", \"\\uad7f\\uad7f\", \"\\ubc30\\uc1a1 \\ube68\\ub974\\ub2e4 \\uc131\\ub2a5 \\uc131\\ub2a5 \\ub6f0\\uc5b4\\ub098\\ub2e4 \\uc720\\ud1b5 \\uae30\\ud55c\", \"\\uc2dd\\ud6c4 \\ub098\\uc058\\ub2e4 \\ud06c\\ub2e4 \\uae30\\ub300 \\uc548\\ud574\", \"\\uc798\\ub098\\uc624\\ub2e4\", \"\\uc88b\\ub2e4 \\ub098\\uc6b0 \\ud478\\ub4dc \\uc0bf\\ub294\\ub370 \\uc8fc\\ubb38 \\uc88b\\ub2e4 \\ub098\\uc6b0 \\ud478\\ub4dc \\uc88b\\ub2e4 \\ubc18\\ub824 \\uc787\\ub2e4\", \"\\ubc30\\uc1a1 \\uc800\\ub141 \\ub3c4\\ucc29 \\ud06c\\ub79c\\ubca0\\ub9ac \\ud56d\\uc0b0\\ud654 \\ub192\\ub2e4 \\uad6c\\uc785 \\ud574\\ubcf4\\ub2e4 \\ud06c\\ub79c\\ubca0\\ub9ac \\uc5ec\\ub7ec\\uac00\\uc9c0 \\ud608\\uc911 \\ucf5c\\ub808\\uc2a4\\ud14c\\ub864 \\uc800\\ud558 \\ud06c\\ub79c\\ubca0\\ub9ac \\uc88b\\ub2e4 \\ucf5c\\ub808\\uc2a4\\ud14c\\ub864 \\ucf5c\\ub808\\uc2a4\\ud14c\\ub864 \\ub18d\\ub3c4 \\uc99d\\uac00 \\uac15\\ub825\\ud558\\ub2e4 \\ud56d\\uc0b0\\ud654\\uc81c \\ub85c\\uc11c \\uc791\\uc6a9 \\uc2ec\\uc7a5 \\uac74\\uac15 \\uc99d\\uc9c4 \\uc5ec\\uc131 \\uc694\\ub85c \\uac74\\uac15 \\uc88b\\ub2e4 \\uc548\\ud1a0\\uc2dc\\uc544\\ub2c8\\ub518 \\uc131\\ubd84 \\ud2b9\\uc815 \\ubc15\\ud14c\\ub9ac\\uc544 \\uc694\\ub85c \\ub2ec\\ub77c\\ubd99\\ub2e4 \\ub9c9\\ub2e4 \\uc5ed\\ud560 \\uc694\\ub85c\\uac10\\uc5fc \\ubc29\\uc9c0 \\uc694\\ub85c\\uac10\\uc5fc \\ubc29\\uad11\\uc5fc \\uc790\\uc8fc \\uaca9\\uc73c\\uc2e0\\ub2e4 \\uac15\\ucd94 \\uacfc\\uc77c \\uc8fc\\uc5b4 \\uba39\\ub4ef \\ud640\\ub9ac \\ub370\\uc774\\uc988 \\ud0c0\\ube14\\ub9bf \\ud615\\ud0dc \\ud06c\\ub79c\\ubca0\\ub9ac \\uc88b\\ub2e4 \\ud0c0\\uc774\\ub808\\ub180 \\uc791\\ub2e4 \\ud06c\\uae30 \\uac78\\ub9ac\\ub2e4 \\uc0ac\\uc81c\\ud488 \\ud0c0\\ube14\\ub9bf \\ud06c\\uae30 \\uc6cc\\ub099 \\ucee4\\uc11c \\uac78\\ub9ac\\ub2e4 \\uc77c\\ub3c4 \\ub9ce\\ub2e4 \\ubd88\\ud3b8\\ud558\\ub2e4 \\uc81c\\ud488 \\uadf8\\ub807\\ub2e4 \\uc77c\\uc774 \\uc88b\\ub2e4 \\ud06c\\ub79c\\ubca0\\ub9ac 99% \\uc5ec\\uc11c \\uc778\\uc9c0 \\uc0c1\\ucf64 \\uae30\\ubd84 \\uc88b\\ub2e4 \\uc2dc\\uc791 \\uc88b\\ub2e4 90\\uc77c \\uce58\\ub974\\ub2e4 \\uc88b\\ub2e4\"], \"Freq\": [48.0, 30.0, 28.0, 29.0, 13.0, 13.0, 13.0, 13.0, 13.0, 13.0, 13.0, 13.0, 13.0, 13.0, 13.0, 13.0, 13.0, 13.0, 13.0, 13.0, 13.0, 13.0, 13.0, 13.0, 13.0, 13.0, 13.0, 13.0, 13.0, 13.0, 30.02889022747407, 12.278344524425556, 11.543956565463152, 11.543956565463152, 11.543946803704378, 11.543959819382742, 11.543942465144923, 11.543922941627375, 11.543905587389554, 11.54387304819364, 11.543856778595684, 11.543849186116638, 11.54384701683691, 11.543830747238953, 11.543824239399772, 11.54381556228086, 11.543794954123449, 11.543785192364675, 11.54377759988563, 11.543743976049852, 11.54374939924917, 11.54374939924917, 11.543743976049852, 11.543730960371487, 11.543726621812032, 11.543703844374892, 11.543698421175574, 11.543707098294485, 11.543700590455302, 11.543698421175574, 11.543700590455302, 12.509533276448161, 12.509495542140698, 12.509456864475549, 12.50937101892607, 12.509342718195473, 12.509180460673381, 12.509104992058456, 12.508882359644423, 12.508677651026435, 12.508617276134494, 12.508437094816358, 12.508044658018742, 12.507999376849785, 12.507892777431202, 12.507788064727992, 12.506326803671483, 12.493906556369996, 12.449913070656429, 12.448042392363945, 13.033343008855176, 13.03281284183532, 13.019668095830541, 13.016076733117739, 13.014936213674666, 12.986074185253809, 12.713709840700368, 12.560069891075834, 12.491277418497504, 27.14821730464149, 7.384189364829726, 11.083790580196112, 9.141306642041238, 9.138040242081285, 8.90509479941856, 8.904732055759563, 8.90470645032481, 8.904654385940812, 8.904553671230786, 8.904377847245483, 8.904146544818218, 8.904145691303725, 8.904136302644316, 8.904075703115401, 8.903920363477901, 8.901638065726944, 8.90079564692358, 8.897845047325577, 8.89580600120477, 8.894940537510129, 8.883813269081095, 8.877175486878702, 8.867116818593349, 9.268760254066297, 9.267715552328387, 25.90865431104557, 42.790744200749224, 8.971114145355948, 8.968407650902588, 3.729612943560843, 8.089643639936144, 3.275010640903368, 8.044144489409572, 8.03047630833858, 8.187186690112078, 8.167279318106344], \"Total\": [48.0, 30.0, 28.0, 29.0, 13.0, 13.0, 13.0, 13.0, 13.0, 13.0, 13.0, 13.0, 13.0, 13.0, 13.0, 13.0, 13.0, 13.0, 13.0, 13.0, 13.0, 13.0, 13.0, 13.0, 13.0, 13.0, 13.0, 13.0, 13.0, 13.0, 30.63943319693832, 12.792632345775962, 12.162023931408594, 12.162028455870615, 12.162025046337405, 12.162043484898351, 12.162036058387908, 12.16202717432805, 12.162034563568021, 12.162016049820565, 12.162011299861941, 12.162011905609361, 12.162016505477173, 12.162011602504487, 12.162019945521198, 12.16201590938863, 12.16200980817179, 12.16200401919241, 12.16200101435376, 12.162002409865012, 12.162010681377861, 12.162012785679245, 12.162009218315841, 12.16200760294903, 12.162011313809886, 12.161994192329594, 12.161990953454854, 12.162005953299989, 12.16199989468532, 12.162005447737803, 12.16201207409405, 13.124946441850815, 13.124935358151014, 13.124924633033265, 13.124899735866896, 13.124891679948584, 13.124844881205256, 13.124824215761748, 13.124761297501397, 13.124703065256732, 13.124686654614647, 13.124635493224984, 13.124523851649032, 13.124512100845413, 13.124481149564012, 13.124451600459391, 13.124037224689415, 13.120516040803734, 13.108029147345484, 13.107497817856487, 13.736972659994866, 13.73682109670603, 13.733085418008418, 13.732064116367793, 13.731740001941661, 13.723532164824205, 13.724199918190417, 13.601757880496152, 13.582032272947833, 29.759615959591937, 8.192426304107002, 13.176910293282862, 9.698075479471635, 9.698921484508103, 9.644793381559952, 9.644935592302012, 9.644944698284878, 9.644964966695674, 9.645004299620691, 9.645072096394385, 9.645165766102043, 9.645165367318896, 9.645169395590464, 9.645193390942296, 9.645253961347018, 9.646153162392881, 9.646481541484363, 9.64764286700538, 9.648442734763764, 9.648784996344924, 9.653159205970814, 9.655776404530254, 9.65973795921831, 10.137979220629061, 10.138397541309839, 28.49120555826561, 48.89199189422054, 10.25728480259181, 10.258376396157482, 4.508623967714125, 9.970063619701675, 4.047836521423873, 9.988379014328327, 9.993879439713673, 10.574104890708185, 10.582175916377704], \"Category\": [\"Default\", \"Default\", \"Default\", \"Default\", \"Default\", \"Default\", \"Default\", \"Default\", \"Default\", \"Default\", \"Default\", \"Default\", \"Default\", \"Default\", \"Default\", \"Default\", \"Default\", \"Default\", \"Default\", \"Default\", \"Default\", \"Default\", \"Default\", \"Default\", \"Default\", \"Default\", \"Default\", \"Default\", \"Default\", \"Default\", \"Topic1\", \"Topic1\", \"Topic1\", \"Topic1\", \"Topic1\", \"Topic1\", \"Topic1\", \"Topic1\", \"Topic1\", \"Topic1\", \"Topic1\", \"Topic1\", \"Topic1\", \"Topic1\", \"Topic1\", \"Topic1\", \"Topic1\", \"Topic1\", \"Topic1\", \"Topic1\", \"Topic1\", \"Topic1\", \"Topic1\", \"Topic1\", \"Topic1\", \"Topic1\", \"Topic1\", \"Topic1\", \"Topic1\", \"Topic1\", \"Topic1\", \"Topic2\", \"Topic2\", \"Topic2\", \"Topic2\", \"Topic2\", \"Topic2\", \"Topic2\", \"Topic2\", \"Topic2\", \"Topic2\", \"Topic2\", \"Topic2\", \"Topic2\", \"Topic2\", \"Topic2\", \"Topic2\", \"Topic2\", \"Topic2\", \"Topic2\", \"Topic2\", \"Topic2\", \"Topic2\", \"Topic2\", \"Topic2\", \"Topic2\", \"Topic2\", \"Topic2\", \"Topic2\", \"Topic2\", \"Topic2\", \"Topic2\", \"Topic3\", \"Topic3\", \"Topic3\", \"Topic3\", \"Topic3\", \"Topic3\", \"Topic3\", \"Topic3\", \"Topic3\", \"Topic3\", \"Topic3\", \"Topic3\", \"Topic3\", \"Topic3\", \"Topic3\", \"Topic3\", \"Topic3\", \"Topic3\", \"Topic3\", \"Topic3\", \"Topic3\", \"Topic3\", \"Topic3\", \"Topic3\", \"Topic3\", \"Topic3\", \"Topic3\", \"Topic3\", \"Topic3\", \"Topic3\", \"Topic3\", \"Topic3\", \"Topic3\", \"Topic3\"], \"logprob\": [30.0, 29.0, 28.0, 27.0, 26.0, 25.0, 24.0, 23.0, 22.0, 21.0, 20.0, 19.0, 18.0, 17.0, 16.0, 15.0, 14.0, 13.0, 12.0, 11.0, 10.0, 9.0, 8.0, 7.0, 6.0, 5.0, 4.0, 3.0, 2.0, 1.0, -4.3511, -5.2455, -5.3071, -5.3071, -5.3071, -5.3071, -5.3071, -5.3071, -5.3071, -5.3071, -5.3071, -5.3071, -5.3071, -5.3071, -5.3071, -5.3072, -5.3072, -5.3072, -5.3072, -5.3072, -5.3072, -5.3072, -5.3072, -5.3072, -5.3072, -5.3072, -5.3072, -5.3072, -5.3072, -5.3072, -5.3072, -5.0873, -5.0873, -5.0873, -5.0873, -5.0873, -5.0873, -5.0873, -5.0873, -5.0873, -5.0873, -5.0873, -5.0874, -5.0874, -5.0874, -5.0874, -5.0875, -5.0885, -5.092, -5.0922, -5.0462, -5.0463, -5.0473, -5.0476, -5.0476, -5.0499, -5.0711, -5.0832, -5.0887, -4.3124, -5.6144, -5.2083, -5.3009, -5.3012, -5.327, -5.3271, -5.3271, -5.3271, -5.3271, -5.3271, -5.3271, -5.3271, -5.3271, -5.3272, -5.3272, -5.3274, -5.3275, -5.3279, -5.3281, -5.3282, -5.3294, -5.3302, -5.3313, -5.287, -5.2871, -4.2591, -3.7573, -5.3196, -5.32, -6.1974, -5.4231, -6.3273, -5.4287, -5.4304, -5.4111, -5.4135], \"loglift\": [30.0, 29.0, 28.0, 27.0, 26.0, 25.0, 24.0, 23.0, 22.0, 21.0, 20.0, 19.0, 18.0, 17.0, 16.0, 15.0, 14.0, 13.0, 12.0, 11.0, 10.0, 9.0, 8.0, 7.0, 6.0, 5.0, 4.0, 3.0, 2.0, 1.0, 0.9569, 0.936, 0.9249, 0.9249, 0.9249, 0.9249, 0.9249, 0.9249, 0.9249, 0.9249, 0.9249, 0.9249, 0.9249, 0.9249, 0.9249, 0.9249, 0.9249, 0.9249, 0.9249, 0.9249, 0.9249, 0.9249, 0.9249, 0.9249, 0.9249, 0.9249, 0.9249, 0.9249, 0.9249, 0.9249, 0.9249, 1.0686, 1.0686, 1.0686, 1.0686, 1.0686, 1.0686, 1.0686, 1.0686, 1.0686, 1.0685, 1.0685, 1.0685, 1.0685, 1.0685, 1.0685, 1.0684, 1.0677, 1.0651, 1.065, 1.064, 1.064, 1.0633, 1.0631, 1.063, 1.0614, 1.0401, 1.0369, 1.0329, 1.0248, 1.0128, 0.9436, 1.1576, 1.1571, 1.1369, 1.1369, 1.1369, 1.1368, 1.1368, 1.1368, 1.1368, 1.1368, 1.1368, 1.1368, 1.1367, 1.1364, 1.1363, 1.1358, 1.1355, 1.1354, 1.1337, 1.1326, 1.1311, 1.1271, 1.1269, 1.1217, 1.0834, 1.0827, 1.0823, 1.027, 1.0077, 1.0048, 1.0002, 0.998, 0.9609, 0.9577]}, \"token.table\": {\"Topic\": [3, 3, 2, 1, 2, 2, 3, 3, 1, 1, 1, 1, 1, 2, 3, 3, 3, 2, 2, 3, 2, 3, 1, 3, 2, 1, 2, 3, 2, 3, 3, 2, 2, 3, 2, 2, 3, 1, 3, 1, 2, 3, 3, 1, 2, 2, 3, 2, 1, 2, 1, 2, 1, 3, 2, 1, 2, 3, 1, 2, 2, 3, 1, 1, 2, 3, 3, 1, 1, 1, 1, 1, 1, 1, 2, 2, 1, 2, 3, 1, 2, 3, 2, 3, 2, 3, 2, 1, 2, 2, 3, 2, 3, 2, 2, 2, 2, 1, 3, 2, 3, 1, 2, 3, 1, 2, 3, 3, 3, 1, 1, 1, 2, 3, 3], \"Freq\": [0.932793016179969, 0.9329826591483961, 0.9472779925653001, 0.9866797401050564, 0.9463511591501456, 0.20060052536152664, 0.8024021014461066, 0.9331459621734621, 0.9866788565192377, 0.9866787851209945, 0.9866793804332709, 0.9866784833416228, 0.9866777904403182, 0.09749168705419196, 0.8774251834877277, 0.9320845494907505, 0.9331072623646727, 0.9904810686878222, 0.9905153469957823, 0.9323372595401915, 0.9904818780658862, 0.9330144202030696, 0.9866793394180151, 0.9331014026242493, 0.9905036986901982, 0.9866792055852894, 0.8835202095566461, 0.07362668412972051, 0.07019709980014441, 0.9125622974018773, 0.9279382263662536, 0.9905130110827212, 0.09863898694575841, 0.8877508825118257, 0.94661903019644, 0.09863491699999014, 0.8877142529999111, 0.9380399338969759, 0.7411366501888064, 0.06135974182624018, 0.08181298910165358, 0.8794896328427759, 0.8871886474994726, 0.07286399250673795, 0.9472319025875933, 0.18899704709167256, 0.7559881883666902, 0.9904998376040614, 0.9866805563271006, 0.9145981730200992, 0.9866790745338478, 0.9904837569520186, 0.9866790266800366, 0.9331313223185649, 0.9904843649003682, 0.986677018329367, 0.0974813129663066, 0.8773318166967594, 0.9866785317010184, 0.9155065418856885, 0.20023269012229117, 0.8009307604891647, 0.9866788811095095, 0.98667689705819, 0.1035224769265814, 0.9317022923392326, 0.9331099734686835, 0.9866789045307067, 0.9866789558386158, 0.9866776178012443, 0.9866785203080738, 0.9866762945635278, 0.9866789056622748, 0.9866796268899267, 0.9154694321403861, 0.8544477228303881, 0.06720516832998218, 0.9072697724547593, 0.03360258416499109, 0.9866788428504237, 0.9905488515030976, 0.9328703522784516, 0.9904942044526822, 0.9331099348888872, 0.20012248617412784, 0.8004899446965114, 0.9905175770959425, 0.9791303842721798, 0.9904802322505176, 0.1891413051668767, 0.7565652206675068, 0.9904878966315226, 0.9280191744280313, 0.9904985991197895, 0.94671177856279, 0.9905121242449199, 0.9466894335648188, 0.9866782042582602, 0.9331095837585371, 0.8347935711156372, 0.15178064929375223, 0.9866794963283388, 0.9557588154573002, 0.07351990888133078, 0.9866798309416108, 0.9904894561854897, 0.9331189969398433, 0.9331255560304875, 0.9327599281577222, 0.9866775138326203, 0.9866778808919981, 0.9866802935630604, 0.9463616005829243, 0.9331293613898282, 0.933132203307116], \"Term\": [\"\\uac00\\uaca9 \\ub300\\ube44 \\ubc30\\uc1a1 \\uac00\\uc131 \\uc88b\\ub2e4\", \"\\uac11\\uc790\\uae30 \\ud3ec\\uc2a4 \\ucf5c\\ub9ac \\ubc29\\uc1a1 \\uc2dc\\uc791 \\ud488\\uc808 \\ub728\\ub2e4 \\ub808\\uc6b0\\uc2a4 \\ud3ec\\uc2a4 \\ucf5c\\ub9ac \\uc131\\ubd84 3\\ub144 \\uac00\\uae5d\\ub2e4 \\uccb4\\uc911 \\uc720\\uc9c0 \\ucc9c\\uc5f0 \\uc2dd\\ubb3c \\uc81c\\ud488 \\ub3c4\\ud574 \\uc704\\uc548 \\uc0bc\\ub2e4 \\uc81c\\ud488 \\uc2dd\\ub2e8 \\uc870\\uc808 \\ub2f9\\uc5f0\\ud558\\ub2e4 \\ube60\\uc9c0\\ub2e4 \\uc720\\uc9c0 \\uac00\\uaca9 \\uc800\\ub834\\ud558\\ub2e4 \\uc88b\\ub2e4\", \"\\uac31\\ub144\\uae30 \\uce5c\\uc815 \\ubcf4\\ub0b4\\ub2e4 \\ub4dc\\ub837\\ub354 \\uc88b\\ub2e4\", \"\\uac74\\uc870\\ud558\\ub2e4 \\uba39\\uae30 \\uc2dc\\uc791 \\uc624\\uba54\\uac00 \\uc2ec\\ud558\\ub2e4 \\uac74\\uc870\\ud558\\ub2e4 \\uad1c\\ucc2e\\ub2e4 \\ud06c\\uae30 \\ud06c\\ub2e4 \\uc544\\ub2c8\\ub2e4 \\uad1c\\ucc2e\\ub2e4 \\uad6c\\uc601\", \"\\uad1c\\ucc2e\\ub2e4 \\uad11\\uace0 \\ucca8\\uac00 \\uc5ec\\ub7ec \\uc131\\ubd84\", \"\\uad7f\\uad7f\", \"\\uad7f\\uad7f\", \"\\uadf8\\ub9b0\\ud2f0 \\ucd94\\ucd9c \\ub098\\uc6b0 \\ud478\\ub4dc \\ub530\\ub77c\\uc624\\ub2e4\", \"\\uafb8\\uc900\\ud558\\ub2e4 \\uc54c\\ud2f0 \\uc624\\uba54\\uac00 \\uc8fc\\ubb38 \\uacc4\\ud68d \\uc720\\uc775\\ud558\\ub2e4 \\uc885\\uadfc\\ub2f9 \\ubbff\\uc74c\", \"\\ub044\\ub2e4 \\uc624\\uba54\\uac00 \\uc911\\uc9c0 \\uac08\\uc544\\ud0c0\\ub2e4 \\ub098\\uc774 50 \\uc8fc\\ubd80 \\uc911\\uc131 \\uc9c0\\ubc29 37 \\uc885\\uadfc\\ub2f9 \\uc5b4\\ub5bb\\ub2e4 \\ubaa8\\ub974\\ub2e4 \\uac74\\uac15\\uac80\\uc9c4 \\ud68c\\uc0ac \\ube44\\uad50 \\ud574\\ubcf4\\ub2e4 \\uc0ac\\ub2e4 \\ub044\\ub2e4 \\ud06c\\uae30 \\ub3c4\\ud06c \\ube44\\uc2f8\\ub2e4\", \"\\ub098\\uc774 \\uac74\\uac15 \\uc2e0\\uacbd \\uc368\\ub2e4 \\uc624\\uba54\\uac00 \\uc54c\\uc57d \\ud06c\\uae30 \\ud06c\\ub2e4 \\ud2b9\\uc720 \\ube44\\ub9ac\\ub2e4 \\uc62c\\ub77c\\uc624\\ub2e4 \\uc2e4\\ud328\\ud558\\ub2e4 \\uac70\\ubd80 \\ub4e4\\uc5b4\\uc11c\\ub2e4 \\uad11\\uace0 \\uc131\\ubd84 \\uc81c\\uc870 \\ucc3e\\uc544\\ubcf4\\ub2e4 \\uc2dc\\uc791 \\uba40\\ud2f0 \\uc624\\uba54\\uac00 \\ub4c0\\uc5bc \\uc120\\ud0dd \\uc774\\uc720 \\uc624\\uba54\\uac00 \\ud568\\uc720 \\uc720\\uc9c0 \\ud608\\uc561 \\ud560\\ud558 \\ub9cc\\ub4e4\\ub2e4 \\ud608\\ud589 \\uac1c\\uc120 \\ud608\\uc911 \\uc911\\uc131 \\uc9c0\\uc9c8 \\uac1c\\uc120 \\ub3c4\\uc6c0 \\uace0\\ud574 \\uc810\\uc810 \\uac74\\uc870\\ud558\\ub2e4 600 \\uc624\\uba54\\uac00 \\uc12d\\ucde8 \\ud574\\uc8fc\\ub2e4 \\uac74\\uc870\\ud558\\ub2e4 \\uac1c\\uc120 \\ub3c4\\uc6c0 \\uc4f8\\ub2e4 \\ub0b4\\uc6a9 \\ubbfc\\uac10\\ud558\\ub2e4 \\uc5b4\\ucde8\\ub098 \\uc7a5\\uc6a9 \\ucea1\\uc290 \\uba39\\uae30 \\ud3b8\\ud558\\ub2e4 \\ub179\\ub2e4 \\uc544\\ub2c8\\ub2e4 \\ub179\\ub2e4 \\uc5b4\\ucde8 \\ub290\\ub07c\\ub2e4 \\uc190\\ud1b1 \\ud06c\\uae30 \\ub118\\uae40 \\ubd80\\ub4dc\\ub7fd\\ub2e4 \\uc624\\uba54\\uac00 \\uc120\\ud0dd \\uc774\\uc720 \\uc6d0\\ub8cc \\uc120\\uc815 \\uc81c\\uc870 \\ud488\\uc9c8 \\uad00\\ub9ac \\uc885\\uadfc\\ub2f9 \\ubc14\\ub2e4 \\uc624\\uc5fc \\uc624\\uba54\\uac00 \\ub298\\ub2e4 \\uc911\\uae08\\uc18d \\uc5fc\\ub3c4 \\ub0ae\\ub2e4 \\uc18c\\ud615 \\uc5b4\\ub958 \\uc544\\ub2c8\\ub2e4 10 \\ub2e8\\uacc4 \\uac70\\uce58\\ub2e4 \\uc6d0\\ub8cc \\uc815\\uc81c 25 \\ub2e8\\uacc4 \\uacf5\\uc815 \\uc815\\ubc00\\uac80\\uc0ac \\uae50\\uae50\\ud558\\ub2e4 \\ub9cc\\ub4e4\\uc5b4\\uc9c0\\ub2e4 \\uc815\\ub9d0 \\uc5ec\\ub7ec\\uac00\\uc9c0 \\uc131\\uacf5\\ud558\\ub2e4 \\uac74\\uac15 \\uc2dd\\ud488 \\uc88b\\ub2e4 \\ub9ac\\ubdf0 \\uc624\\uba54\\uac00 \\ub3c4\\uc6c0 \\uc88b\\ub2e4\", \"\\ub098\\uc774 \\ub4dc\\ub2c8 \\uc601\\uc591 \\uc81c\\ub098 \\uac74\\uac15 \\uc2dd\\ud488 \\ud608\\ud589 \\uac1c\\uc120 \\uc88b\\ub2e4 \\uac80\\uc0c9 \\ub0ab\\ub2e4 \\uad6c\\ub9e4 \\ub0b4\\ub2e4 \\uc54c\\uc57d \\uc0ac\\uc774\\uc988 \\uc791\\ub2e4 \\uba39\\uae30 \\ud3b8\\ud558\\ub2e4 \\ubc14\\ub77c\\ub2e4\", \"\\ub098\\uc774 \\ud544\\uc694\\ud558\\ub2e4 \\uc601\\uc591\\uc18c \\ub9ce\\ub2e4 \\uc74c\\uc2dd \\ub300\\uccb4 \\ub3fc\\ub2e4 \\uac74\\uac15 \\uc2dd\\ud488 \\ub3fc\\ub2e4 \\uc624\\uba54\\uac00 \\uaf2c\\ubc15\\uaf2c\\ubc15 \\ubaa8\\ub974\\ub2e4 \\uc6cc\\ub099 \\uc88b\\uc544\\ud558\\ub2e4 \\ub3c4\\ud574 \\uc815\\ub9d0 30 \\ub300\\ub2e4 \\uc911\\ubc18 \\uadf8\\ub807\\ub2e4 \\uacb0\\ud63c \\ub3c4\\ud558 \\uc900\\ube44 \\uc57c\\ud558\\ub2e4 \\ub4e4\\uc774\\ub2e4 \\ub9ce\\ub2e4 \\uc81c\\uc77c \\uba3c\\uc800 \\ubcf4\\uc774\\ub2e4 \\uad6c\\ub9e4 \\uc885\\ub958 \\ub9ce\\ub2e4 \\uba3c\\uc9c0 \\ubaa8\\ub974\\ub2e4 \\ub2e8\\uc810 \\ubcf4\\uc774\\ub2e4 \\uc54c\\uc57d \\ucee4\\uc11c \\ub118\\uae40 \\ud798\\ub4dc\\ub2e4 \\uc81c\\ud488 \\ube44\\ub9ac\\ub2e4 \\uc62c\\ub77c\\uc624\\ub2e4 \\ube44\\ub9ac\\ub2e4 \\uc62c\\ub77c\\uc624\\ub2e4 \\ucc38\\ub2e4 \\ud798\\ub4e4\\ub2e4 \\uc65c\\ub0d0\\uba74 \\uc0dd\\uc120 \\uc885\\ub958 \\ube44\\ub9ac\\ub2e4 \\ube44\\ub9ac\\ub2e4 \\uc62c\\ub77c\\uc624\\ub2e4 \\ucc38\\ub2e4 \\uc54c\\uc544\\ubcf4\\ub2e4 \\uad6c\\ub9e4 \\uc81c\\ud488 \\uc54c\\uc57d \\ud06c\\uae30 \\uc791\\ub2e4 \\ud3b8\\uc774 \\ub118\\uae40 \\ud55c\\uacb0 \\uc26c\\uc6d4 \\uba39\\uae30 \\ud3b8\\ud558\\ub2e4 \\ube44\\ub9ac\\ub2e4 \\ud3b8\\uc548\\ud558\\ub2e4 \\uac70\\ubd81 \\uc0ac\\ub77c\\uc9c0\\ub2e4 \\uc77c\\uc5b4\\ub098\\ub2e4 \\uac74\\uac15 \\ud6c4\\ub8e8\\ub8e9 \\uc77c\\uacfc \\uc2dc\\uc791 \\ud655\\uc2e4\\ud558\\ub2e4 \\uc5b4\\ub514\\uac00 \\uc88b\\uc544\\uc9c0\\ub2e4 \\ud53c\\uace4\\ud558\\ub2e4 \\uadf8\\ub807\\ub2e4 \\uac1c\\uc778 \\uc758\\uacac \\uc2e0\\ub791 \\uafb8\\uc900\\ud558\\ub2e4\", \"\\ub144\\uc804 \\ud608\\ub1e8 \\uc591\\uc81c \\uadc0\\uc2e0 \\uac00\\ub054 \\uc0dd\\uac01\\ub098\\ub2e4 \\uad6c\\ub9e4\", \"\\ub144\\uc804 \\ud608\\ub1e8 \\uc591\\uc81c \\uadc0\\uc2e0 \\uac00\\ub054 \\uc0dd\\uac01\\ub098\\ub2e4 \\uad6c\\ub9e4\", \"\\ub178\\uc778\\uc131 \\uc9c8\\ud658 \\ub300\\ube44 \\ub450\\ub2e4\", \"\\ub179\\ucc28 \\ub2e4\\uc774\\uc5b4\\ud2b8 \\ub3c4\\uc6c0 \\ub2e4\\ud574 \\uad6c\\ub9e4 \\ub179\\ucc28 \\uc6b0\\ub824 \\uc54c\\uc57d \\ud3b8\\ud558\\ub2e4 \\uc88b\\ub2e4 \\ub179\\ucc28 \\ucd94\\ucd9c 400 \\ub118\\ub2e4 \\uc88b\\ub2e4 \\uad6c\\ub9e4 \\uc2e0\\ubd84 \\uafb8\\uc900\\ud558\\ub2e4 \\ube48\\uc18d \\uc548\\ub300\", \"\\ub2e4\\uc774\\uc5b4\\ud2b8 \\ub3c4\\uc6c0 \\ud084\\ud06c \\uc2dd\\uc804 20\\ubd84 \\uadf8\\ub807\\ub2e4 3\\uc77c\", \"\\ub2e4\\uc774\\uc5b4\\ud2b8 \\ubaa8\\ub974\\ub2e4 \\ubcc0\\ube44 \\ud0c1\\uc6d4\\ud558\\ub2e4\", \"\\ub2e4\\uc774\\uc5b4\\ud2b8 \\ubcf4\\uc870 \\uc81c\\ub85c \\ube60\\uc9c0\\ub2e4 \\uccb4\\uc911 \\uc720\\uc9c0 \\ub3c4\\uc6c0 \\uc870\\uc808 \\uc6b4\\ub3d9 \\uac00\\ub054 \\ub2e4\\uc774\\uc5b4\\ud2b8 \\ubcf4\\uc870 \\uba39\\uc5b4\\uc8fc\\ub2e4 \\ubab8\\ubb34\\uac8c \\ud06c\\uac8c \\ubcc0\\ud654 \\uc88b\\ub2e4 \\ube60\\uc9c0\\ub2e4 \\uc911\\uc774 \\uc2dd\\ub2e8 \\uc870\\uc808\", \"\\ub2e4\\uc774\\uc5b4\\ud2b8 \\uccb4\\ud06c \\uad6c\\ub9e4 \\uc81c\\ud488\", \"\\ub3c4\\uc804 \\ud574\\ubcf4\\ub2e4 \\uc0b4\\ube60\\uc7c8\", \"\\ub450\\ubc88\\uc9f8 \\uad6c\\ub9e4 \\uc774\\ub984 \\ud50c\\ub7ec\\uc2a4 \\ucd94\\uac00 \\uc88b\\ub2e4\", \"\\ub450\\ubc88\\uc9f8 \\uad6c\\ub9e4 \\ud5d0\\ub2e4 \\ub2e8\\uc2dd \\ubc43\\uc0b4 \\ube7c\\ub2e4 \\ub3c4\\uc6c0 \\ub2e4\\ud574 \\ud5d0\\ub2e4 \\ud0a4\\ud1a0 \\ud0a4\\ud1a0 \\uc2dd\\ub2e8 \\uadf8\\ub807\\ub2e4 \\uc2dd\\ub2e8 \\uc870\\uc808 \\uc2ec\\uae30 \\uc804\\ud574 \\ub2e4\\uc2dc \\uc81c\\ub300\\ub85c \\ud06c\\uac8c \\ub3c4\\uc6c0\", \"\\ub450\\ubc88\\uc9f8 \\uad6c\\ub9e4 \\ud6c4\\uae30 \\ub0a8\\uae30\\ub2e4 \\uac1c\\uc6d4\\ud6c4 \\ud6c4\\uae30 \\ub0a8\\ub2e4\", \"\\ub77c\\uc139 \\uc548\\uad6c\\uac74\\uc870\\uc99d \\ube44\\ud0c0\\ubbfc \\uc624\\uba54\\uac00 \\ubcf5\\uc6a9 \\uc624\\uba54\\uac00 \\ud2b9\\uc720 \\uc6b8\\ub801\\uac70\\ub9ac\\ub2e4 \\uae54\\ub054\\ud558\\ub2e4\", \"\\uba74\\uc5ed \\ub5a8\\uc5b4\\uc9c0\\ub2e4 \\ud544\\uc694\\ud558\\ub2e4 \\uad6c\\uc785\", \"\\uba74\\uc5ed \\ub5a8\\uc5b4\\uc9c0\\ub2e4 \\ud544\\uc694\\ud558\\ub2e4 \\uad6c\\uc785\", \"\\ubaa8\\ub974\\ub2e4\", \"\\ubaa8\\ub974\\ub2e4\", \"\\ubaa8\\ub974\\ub2e4 \\uafb8\\uc900\\ud558\\ub2e4\", \"\\ubab0\\ub2e4\", \"\\ubc29\\uad11\\uc5fc \\uac78\\ub9ac\\ub2e4 \\ud56d\\uc0dd\\uc81c \\ud06c\\ub79c\\ubca0\\ub9ac \\uba39\\uc5b4\\uc8fc\\ub2e4 \\ud06c\\ub79c\\ubca0\\ub9ac \\ub300\\uc7a5\\uade0 \\uc694\\ub3c4 \\ubd99\\ub2e4 \\ubc29\\uc9c0 \\uc758\\uc0ac \\uc120\\uc0dd\\ub2d8 \\uadf8\\ub807\\ub2e4 \\uc0c1\\ud07c \\ub9c8\\uadf8\\ub124\\uc298 \\uc591\\uc81c \\ud074\\ub9b0 \\uc601\\uc591 \\uc81c\\uc778 \\ubc29\\uad11\\uc5fc \\uac78\\ub9ac\\ub2e4 \\uac81\\ub2c8\\ub2e4\", \"\\ubc29\\uad11\\uc5fc \\uac78\\ub9ac\\ub2e4 \\ud56d\\uc0dd\\uc81c \\ud06c\\ub79c\\ubca0\\ub9ac \\uba39\\uc5b4\\uc8fc\\ub2e4 \\ud06c\\ub79c\\ubca0\\ub9ac \\ub300\\uc7a5\\uade0 \\uc694\\ub3c4 \\ubd99\\ub2e4 \\ubc29\\uc9c0 \\uc758\\uc0ac \\uc120\\uc0dd\\ub2d8 \\uadf8\\ub807\\ub2e4 \\uc0c1\\ud07c \\ub9c8\\uadf8\\ub124\\uc298 \\uc591\\uc81c \\ud074\\ub9b0 \\uc601\\uc591 \\uc81c\\uc778 \\ubc29\\uad11\\uc5fc \\uac78\\ub9ac\\ub2e4 \\uac81\\ub2c8\\ub2e4\", \"\\ubc29\\uad11\\uc5fc \\uc7ac\\ubc1c \\uc790\\uc8fc \\ud06c\\ub79c\\ubca0\\ub9ac \\uc88b\\ub2e4 \\ub2e4\\ud574 \\uad6c\\ub9e4\", \"\\ubc29\\uad11\\uc5fc \\uc88b\\ub2e4 \\uc0ac\\ubcf4\\ub2e4 \\uac00\\uaca9 \\uc801\\ub2f9\\ud558\\ub2e4 \\uc54c\\uc57d \\ud06c\\ub2e4 \\ub4ed\\ub2c8 \\uac00\\uc871 \\ucd94\\uac00 \\uad6c\\ub9e4\", \"\\ubc29\\uad11\\uc5fc \\uc88b\\ub2e4 \\uc0ac\\ubcf4\\ub2e4 \\uac00\\uaca9 \\uc801\\ub2f9\\ud558\\ub2e4 \\uc54c\\uc57d \\ud06c\\ub2e4 \\ub4ed\\ub2c8 \\uac00\\uc871 \\ucd94\\uac00 \\uad6c\\ub9e4\", \"\\ubc30\\uc1a1 \\ube60\\ub974\\ub2e4 \\uc88b\\ub2e4\", \"\\ubc30\\uc1a1 \\ube68\\ub974\\ub2e4 \\uc131\\ub2a5 \\uc131\\ub2a5 \\ub6f0\\uc5b4\\ub098\\ub2e4 \\uc720\\ud1b5 \\uae30\\ud55c\", \"\\ubc30\\uc1a1 \\ube68\\ub974\\ub2e4 \\uc131\\ub2a5 \\uc131\\ub2a5 \\ub6f0\\uc5b4\\ub098\\ub2e4 \\uc720\\ud1b5 \\uae30\\ud55c \\uae30\\ud55c \\ub109\\ub109\\ud558\\ub2e4\", \"\\ubc30\\uc1a1 \\ube68\\ub974\\ub2e4 \\uc131\\ub2a5 \\uc131\\ub2a5 \\ub6f0\\uc5b4\\ub098\\ub2e4 \\uc720\\ud1b5 \\uae30\\ud55c \\uae30\\ud55c \\ub109\\ub109\\ud558\\ub2e4\", \"\\ubc30\\uc1a1 \\ube68\\ub974\\ub2e4 \\uc131\\ub2a5 \\uc131\\ub2a5 \\ub6f0\\uc5b4\\ub098\\ub2e4 \\uc720\\ud1b5 \\uae30\\ud55c \\uae30\\ud55c \\ub109\\ub109\\ud558\\ub2e4\", \"\\ubc30\\uc1a1 \\ube68\\ub974\\ub2e4 \\uc131\\ub2a5 \\uc720\\ud1b5 \\uae30\\ud55c\", \"\\ubc30\\uc1a1 \\uc131\\ub2a5 \\uc720\\ud1b5 \\uae30\\ud55c\", \"\\ubc30\\uc1a1 \\uc131\\ub2a5 \\uc720\\ud1b5 \\uae30\\ud55c\", \"\\ubc30\\uc1a1 \\uc800\\ub141 \\ub3c4\\ucc29 \\ud06c\\ub79c\\ubca0\\ub9ac \\ud56d\\uc0b0\\ud654 \\ub192\\ub2e4 \\uad6c\\uc785 \\ud574\\ubcf4\\ub2e4 \\ud06c\\ub79c\\ubca0\\ub9ac \\uc5ec\\ub7ec\\uac00\\uc9c0 \\ud608\\uc911 \\ucf5c\\ub808\\uc2a4\\ud14c\\ub864 \\uc800\\ud558 \\ud06c\\ub79c\\ubca0\\ub9ac \\uc88b\\ub2e4 \\ucf5c\\ub808\\uc2a4\\ud14c\\ub864 \\ucf5c\\ub808\\uc2a4\\ud14c\\ub864 \\ub18d\\ub3c4 \\uc99d\\uac00 \\uac15\\ub825\\ud558\\ub2e4 \\ud56d\\uc0b0\\ud654\\uc81c \\ub85c\\uc11c \\uc791\\uc6a9 \\uc2ec\\uc7a5 \\uac74\\uac15 \\uc99d\\uc9c4 \\uc5ec\\uc131 \\uc694\\ub85c \\uac74\\uac15 \\uc88b\\ub2e4 \\uc548\\ud1a0\\uc2dc\\uc544\\ub2c8\\ub518 \\uc131\\ubd84 \\ud2b9\\uc815 \\ubc15\\ud14c\\ub9ac\\uc544 \\uc694\\ub85c \\ub2ec\\ub77c\\ubd99\\ub2e4 \\ub9c9\\ub2e4 \\uc5ed\\ud560 \\uc694\\ub85c\\uac10\\uc5fc \\ubc29\\uc9c0 \\uc694\\ub85c\\uac10\\uc5fc \\ubc29\\uad11\\uc5fc \\uc790\\uc8fc \\uaca9\\uc73c\\uc2e0\\ub2e4 \\uac15\\ucd94 \\uacfc\\uc77c \\uc8fc\\uc5b4 \\uba39\\ub4ef \\ud640\\ub9ac \\ub370\\uc774\\uc988 \\ud0c0\\ube14\\ub9bf \\ud615\\ud0dc \\ud06c\\ub79c\\ubca0\\ub9ac \\uc88b\\ub2e4 \\ud0c0\\uc774\\ub808\\ub180 \\uc791\\ub2e4 \\ud06c\\uae30 \\uac78\\ub9ac\\ub2e4 \\uc0ac\\uc81c\\ud488 \\ud0c0\\ube14\\ub9bf \\ud06c\\uae30 \\uc6cc\\ub099 \\ucee4\\uc11c \\uac78\\ub9ac\\ub2e4 \\uc77c\\ub3c4 \\ub9ce\\ub2e4 \\ubd88\\ud3b8\\ud558\\ub2e4 \\uc81c\\ud488 \\uadf8\\ub807\\ub2e4 \\uc77c\\uc774 \\uc88b\\ub2e4 \\ud06c\\ub79c\\ubca0\\ub9ac 99% \\uc5ec\\uc11c \\uc778\\uc9c0 \\uc0c1\\ucf64 \\uae30\\ubd84 \\uc88b\\ub2e4 \\uc2dc\\uc791 \\uc88b\\ub2e4 90\\uc77c \\uce58\\ub974\\ub2e4 \\uc88b\\ub2e4\", \"\\ubc30\\uc1a1 \\uc800\\ub141 \\ub3c4\\ucc29 \\ud06c\\ub79c\\ubca0\\ub9ac \\ud56d\\uc0b0\\ud654 \\ub192\\ub2e4 \\uad6c\\uc785 \\ud574\\ubcf4\\ub2e4 \\ud06c\\ub79c\\ubca0\\ub9ac \\uc5ec\\ub7ec\\uac00\\uc9c0 \\ud608\\uc911 \\ucf5c\\ub808\\uc2a4\\ud14c\\ub864 \\uc800\\ud558 \\ud06c\\ub79c\\ubca0\\ub9ac \\uc88b\\ub2e4 \\ucf5c\\ub808\\uc2a4\\ud14c\\ub864 \\ucf5c\\ub808\\uc2a4\\ud14c\\ub864 \\ub18d\\ub3c4 \\uc99d\\uac00 \\uac15\\ub825\\ud558\\ub2e4 \\ud56d\\uc0b0\\ud654\\uc81c \\ub85c\\uc11c \\uc791\\uc6a9 \\uc2ec\\uc7a5 \\uac74\\uac15 \\uc99d\\uc9c4 \\uc5ec\\uc131 \\uc694\\ub85c \\uac74\\uac15 \\uc88b\\ub2e4 \\uc548\\ud1a0\\uc2dc\\uc544\\ub2c8\\ub518 \\uc131\\ubd84 \\ud2b9\\uc815 \\ubc15\\ud14c\\ub9ac\\uc544 \\uc694\\ub85c \\ub2ec\\ub77c\\ubd99\\ub2e4 \\ub9c9\\ub2e4 \\uc5ed\\ud560 \\uc694\\ub85c\\uac10\\uc5fc \\ubc29\\uc9c0 \\uc694\\ub85c\\uac10\\uc5fc \\ubc29\\uad11\\uc5fc \\uc790\\uc8fc \\uaca9\\uc73c\\uc2e0\\ub2e4 \\uac15\\ucd94 \\uacfc\\uc77c \\uc8fc\\uc5b4 \\uba39\\ub4ef \\ud640\\ub9ac \\ub370\\uc774\\uc988 \\ud0c0\\ube14\\ub9bf \\ud615\\ud0dc \\ud06c\\ub79c\\ubca0\\ub9ac \\uc88b\\ub2e4 \\ud0c0\\uc774\\ub808\\ub180 \\uc791\\ub2e4 \\ud06c\\uae30 \\uac78\\ub9ac\\ub2e4 \\uc0ac\\uc81c\\ud488 \\ud0c0\\ube14\\ub9bf \\ud06c\\uae30 \\uc6cc\\ub099 \\ucee4\\uc11c \\uac78\\ub9ac\\ub2e4 \\uc77c\\ub3c4 \\ub9ce\\ub2e4 \\ubd88\\ud3b8\\ud558\\ub2e4 \\uc81c\\ud488 \\uadf8\\ub807\\ub2e4 \\uc77c\\uc774 \\uc88b\\ub2e4 \\ud06c\\ub79c\\ubca0\\ub9ac 99% \\uc5ec\\uc11c \\uc778\\uc9c0 \\uc0c1\\ucf64 \\uae30\\ubd84 \\uc88b\\ub2e4 \\uc2dc\\uc791 \\uc88b\\ub2e4 90\\uc77c \\uce58\\ub974\\ub2e4 \\uc88b\\ub2e4\", \"\\ubc43\\uc0b4 \\ucc0c\\ub2e4\", \"\\ubc8c\\uc368 \\uc2dc\\ucf2f\\ub358 \\uc624\\uba54\\uac00 \\uc774\\uad6c 1\\ub144 \\uc2f6\\ub2e4 \\uc624\\uba54\\uac00 \\ub298\\ub2e4 \\ubbff\\ub2e4 \\uc81c\\uc911 \\uccb4\\uac10 \\uc131\\ub2a5 \\uc81c\\uc77c \\uc88b\\ub2e4 \\ubeb4\\ub193\\uace0 \\ub118\\uae40 \\uc5ec\\uc804\\ud558\\ub2e4 \\uac70\\ubd80 \\uc3d9\\uc3d9\", \"\\ubcf4\\uc774\\ub2e4\", \"\\ubd80\\ubaa8\\ub2d8 \\uac74\\uac15 \\uc120\\ubb3c \\uc790\\uc8fc \\uad6c\\ub9e4 \\uc885\\uadfc\\ub2f9 \\uc88b\\uc544\\ud558\\ub2e4 \\uc694\\uc0c8 \\uc54c\\ud2f0 \\uc624\\uba54\\uac00 \\ud06c\\uae30 \\uc801\\ub2f9\\ud558\\ub2e4 \\uc88b\\uc544\\ud558\\ub2e4 \\ub0c4\\uc0c8 \\uafb8\\uc900\\ud558\\ub2e4 \\uc88b\\ub2e4 \\ub728\\ub2e4 \\uc790\\uc8fc \\uad6c\\ub9e4 \\ub744\\ub2e4 \\uc88b\\ub2e4 \\ubaa8\\ub974\\ub2e4 \\uba39\\uc74c \\uc88b\\uc544\\uc9c0\\ub2e4 \\ubbff\\ub2e4 \\uc81c\\ud488\", \"\\ubd80\\ubaa8\\ub2d8 \\ub4dc\\ub9ac\\ub2e4 \\uc81c\\ud488 \\uc88b\\ub2e4 \\uac00\\uaca9 \\uc88b\\ub2e4 \\ud488\\uc9c8 \\ubbff\\ub2e4\", \"\\ubd80\\ubaa8\\ub2d8 \\ub4dc\\ub9ac\\ub2e4 \\uc8fc\\ubb38 \\uc591\\uc81c \\uc624\\ub798\\uc624\\ub798 \\uac74\\uac15\\ud558\\ub2e4 \\uc88b\\ub2e4 \\uc5b4\\ubc84\\uc774\\ub0a0 \\uc548\\ub0a8\\ub2e4 \\ub4dc\\ub9ac\\ub2e4 \\uc885\\uadfc\\ub2f9 \\uc120\\ud638 \\uc54c\\uc57d \\ub2e4\\ub098 \\uae30\\ub3c4 \\uc88b\\ub2e4 \\ud3ec\\uc7a5 \\ub3e0\\uc5b4 \\ud06c\\uae30 \\uc791\\ub2e4 \\ub118\\uae40 \\uc218\\uc6d4\\ud558\\ub2e4 \\uc88b\\ub2e4 \\uc2dc\\ub300\", \"\\ubd80\\uc791\\uc6a9 \\uc131\\ubd84 \\uc0ac\\ubcf4\\ub2e4 \\uc74c\\uc2dd \\ubcc0\\ub3c4 \\ubb3d\\ub2e4 \\ucabc\\ub054 \\ub9de\\ub2e4 \\uadf8\\ub807\\ub2e4 \\ubaa8\\ub974\\ub2e4 \\ud53c\\uace4\\ud558\\ub2e4\", \"\\ube0c\\ub79c\\ub4dc \\ubbff\\ub2e4 \\uc0c1\\ud488 \\uad6c\\ub9e4 \\uc54c\\ub2e4 \\ud06c\\ub2e4 \\uae30\\ub300\", \"\\ube44\\ud0c0\\ubbfc \\ucca8\\uac00 \\ub4c0\\uc5bc \\ud50c\\ub7ec\\uc2a4 \\ubc14\\uafb8\\ub2e4 \\uae30\\uc874 \\ub4c0\\uc5bc \\uafb8\\uc900\\ud558\\ub2e4 \\uc2dd\\uc0ac \\ube44\\ud0c0\\ubbfc \\uc12d\\ucde8 \\uc88b\\ub2e4 \\ub4c0\\uc5bc \\ud50c\\ub7ec\\uc2a4 \\uad6c\\ub9e4 \\ud574\\ubd24\\ub2e4\", \"\\uc0ac\\uc81c\\ud488 \\ucea1\\uc290 \\ubcf5\\uc6a9 \\ud640\\ub9ac \\ub370\\uc774\\uc988 \\ud06c\\ub79c\\ubca0\\ub9ac \\uc591\\uc81c 45 \\ud568\\ub7c9 \\ub9ce\\ub2e4 \\uc8fc\\ubb38 2\\uc77c \\ubcf5\\uc6a9 \\uc794\\ub1e8\\uac10 \\uc904\\uc5b4\\ub4e4\\ub2e4 \\uac07\\uc544\", \"\\uc0ac\\uc81c\\ud488 \\ucea1\\uc290 \\ubcf5\\uc6a9 \\ud640\\ub9ac \\ub370\\uc774\\uc988 \\ud06c\\ub79c\\ubca0\\ub9ac \\uc591\\uc81c 45 \\ud568\\ub7c9 \\ub9ce\\ub2e4 \\uc8fc\\ubb38 2\\uc77c \\ubcf5\\uc6a9 \\uc794\\ub1e8\\uac10 \\uc904\\uc5b4\\ub4e4\\ub2e4 \\uac07\\uc544\", \"\\uc0c1\\ud488 \\uc54c\\ud2f0 \\uc624\\uba54\\uac00 \\ub4c0\\uc5bc \\ud50c\\ub7ec\\uc2a4 \\uad6c\\uc131 \\ubc15\\uc2a4 \\ubc15\\uc2a4 60 \\ubc30\\uc1a1 2023.4 27 \\uc8fc\\ubb38 \\ub2f9\\uc77c \\ub3c4\\ucc29 \\uc5ed\\uc2dc \\ucfe0\\ud321 \\ub85c\\ucf13 \\ubc30\\uc1a1 \\uc720\\ud1b5 \\uae30\\ud55c 2025.3 30 \\uc81c\\ud488 \\ud2b9\\uc9d5 \\uac74\\uc870\\ud558\\ub2e4 \\uac1c\\uc120 \\ud608\\ud589 \\uac1c\\uc120 \\ud608\\uc911 \\uc9c0\\uc9c8 \\uac1c\\uc120 \\ud761\\uc218 \\uc7a5\\uc6a9 \\ucea1\\uc290 \\uc5b4\\ucde8 \\ucd5c\\uc18c \\uc790\\uc0ac \\uc81c\\ud488 \\ub300\\ube44 42% \\uac10\\uc18c \\uc791\\ub2e4 \\uc0ac\\uc774\\uc988 \\ucea1\\uc290 \\ubcf5\\uc6a9 \\ud6c4\\uae30 \\uc2b5\\uad00 \\ubcf5\\uc6a9 \\uc624\\uba54\\uac00 \\uc624\\uba54\\uac00 \\uc81c\\ud488 \\ucea1\\uc290 \\ud06c\\uae30 \\uc791\\ub2e4 \\ub118\\uae30\\ub2e4 \\ud3b8\\uc548\\ud558\\ub2e4 \\ubd88\\uc21c \\ud3ec\\ud654\\uc9c0\\ubc29\\uc0b0 \\uc904\\uc774\\ub2e4 \\uc21c\\ub3c4 \\ub192\\ub2e4 \\uccb4\\ub0b4 \\ud761\\uc218 \\uc6a9\\uc774\\ud558\\ub2e4 \\uc54c\\ud2f0 \\uc9c0\\ub77c \\ubbff\\ub2e4 \\ubcf5\\uc6a9 \\uc2dd\\ub2e8 \\ubcc0\\ud558\\ub2e4 \\ubc84\\ub9ac\\ub2e4 \\ud604\\ub300\\uc778 \\uc624\\uba54\\uac00 \\ubcf5\\uc6a9 \\uc88b\\ub2e4 \\uc2b5\\uad00 \\uac00\\uaca9 \\uad1c\\ucc2e\\ub2e4 \\ubbf8\\ub9ac \\ubc15\\uc2a4 \\uad6c\\ub9e4 \\uc624\\uba54\\uac00 \\ucd94\\ucc9c\", \"\\uc2dc\\uc791 \\uc88b\\ub2e4 \\uae30\\ub300\\ud558\\ub2e4\", \"\\uc2dd\\ud6c4 \\ub098\\uc058\\ub2e4 \\ud06c\\ub2e4 \\uae30\\ub300 \\uc548\\ud574\", \"\\uc2dd\\ud6c4 \\ub098\\uc058\\ub2e4 \\ud06c\\ub2e4 \\uae30\\ub300 \\uc548\\ud574\", \"\\uc2e0\\ub791 \\ud56d\\uc0c1 \\ud608\\uc561 \\uac74\\uac15 \\uc88b\\ub2e4 \\ud558\\ub2c8 \\ub0ab\\ub2e4 \\uac74\\uac15\\ud558\\ub2e4 \\ubc8c\\ub2e4\", \"\\uc2f8\\ub2e4 \\uc0ac\\ub2e4\", \"\\uc368\\ub2e4 \\uc54c\\ub2e4 \\uc88b\\ub2e4\", \"\\uc368\\ub2e4 \\uc54c\\ub2e4 \\uc88b\\ub2e4\", \"\\uc544\\ub2c8\\ub2e4 \\uc591\\uc81c \\ub4dc\\ub77c\\ub9c8\\ud2f1\\ud558\\ub2e4 \\uc2e0\\uccb4 \\ubcc0\\ud654 \\uae30\\ub300\\ud558\\ub2e4 \\ub9ce\\ub2e4 \\ud55c\\uc2a4 \\uadfc\\uc721 \\uc0dd\\uae30\\ub2e4 \\ubc14\\ubcf4 \\uc2dd\\uc0ac \\uc2dd\\uc0ac \\uc12d\\ucde8 \\uc2dd\\uc804 \\uacf5\\ubcf5 \\uc548\\uc88b\\ub2e4 \\ubc14\\ubcf4 \\uc778\\uc99d \\uc544\\ub2c8\\ub2e4\", \"\\uc54c\\ud2f0 \\uc624\\uba54\\uac00 \\ub4c0\\uc5bc \\ud50c\\ub7ec\\uc2a4 60 \\ucea1\\uc290 \\ub9ac\\ubdf0 \\ubd80\\ubaa8\\ub2d8 \\uc624\\uba54\\uac00 \\ub298\\ub2e4 \\uc815\\ub9d0 \\uc6cc\\ub099 \\ubd80\\ubaa8\\ub2d8 \\uc11c\\ub3c4 \\uacc4\\uc2dc\\ub2e4 \\uad6c\\ub9e4 \\uc54c\\ud2f0 \\uc624\\uba54\\uac00 \\ub4c0\\uc5bc \\ud50c\\ub7ec\\uc2a4 \\ud2b9\\uc9d5 \\ud761\\uc218 \\ub192\\ub2e4 \\ud761\\uc218 \\uc0dd\\uccb4 \\uc6a9\\uc774 \\uc7a5\\uc6a9 \\ucea1\\uc290 \\ub179\\uc9c0 \\ub179\\ub2e4 \\uc5b4\\ucde8 \\uc801\\ub2e4 \\uc791\\ub2e4 \\uc0ac\\uc774\\uc988 \\ucea1\\uc290 \\ub118\\uae40 \\ud3b8\\uc548\\ud568 \\uc138\\uacc4 \\ud310\\ub9e4 1\\ub4f1 \\ud488\\uc9c8 \\uc6d0\\ub8cc \\ube44\\ub2e4 \\ucea1\\uc290 \\uc0ac\\uc774\\uc988 \\uc791\\ub2e4 \\uc88b\\ub2e4 \\uc81c\\ud488 \\ucee4\\uc11c \\ud798\\ub4e4\\ub2e4 \\uc0ac\\uc774\\uc988 \\uc54c\\ub9de\\ub2e4 \\uba39\\uae30 \\ud3b8\\uc548\\ud558\\ub2e4 \\uc7a5\\uc6a9 \\ucea1\\uc290 \\ub179\\uc9c0 \\ub118\\ub2e4 \\uc911\\uc694\\ud558\\ub2e4 \\uc0dd\\uc120 \\ube44\\ub9ac\\ub2e4 \\uc62c\\ub77c\\uc624\\ub2e4 \\ube44\\ub9ac\\ub2e4 \\uac00\\ub054 \\uc18d\\uc774\\ub2e4 \\uc548\\uc88b\\ub2e4 \\uae30\\ub3c4 \\uc54c\\ud2f0 \\uc624\\uba54\\uac00 \\ub298\\ub2e4 \\uadf8\\ub807\\ub2e4 \\uac71\\uc815 \\ub2f9\\ub1e8 \\uc548\\uc88b\\ub2e4 \\uafb8\\uc900\\ud558\\ub2e4 \\uc624\\uba54\\uac00 \\uc88b\\uc544\\uc9c0\\ub2e4 \\uacc4\\uc138 \\ud56d\\uc0c1 \\uc12d\\ucde8 \\ube44\\ud0c0\\ubbfc \\ub354\\ud558\\ub2e4 \\ud56d\\uc0b0\\ud654 \\uc131\\uacfc \\uac74\\uac15 \\uc815\\ub9d0 \\uc624\\uba54\\uac00 \\ub9cc\\uc0ac \\uc624\\ucf00\\uc774 \\ubd80\\ubaa8\\ub2d8 \\uc88b\\uc544\\ud558\\ub2e4 \\uba39\\uae30 \\ud3b8\\ud558\\ub2e4 \\uc18d\\ub3c4 \\ud3b8\\uc548\\ud558\\ub2e4 \\uc88b\\uc544\\ud558\\ub2e4 \\uc81c\\ud488 \\uad6c\\ub9e4 \\ucd5c\\uace0\", \"\\uc54c\\ud2f0 \\uc624\\uba54\\uac00 \\ub4c0\\uc5bc \\ud50c\\ub7ec\\uc2a4 60 \\ucea1\\uc290 \\ud608\\ud589 \\uac74\\uac15 600 \\ud3ec\\ud568 \\uc131\\ubd84 \\uac74\\uac15 \\uac1c\\uc120 \\ud608\\ud589 \\uac1c\\uc120 \\ud608\\uc911 \\uc911\\uc131 \\uc9c0\\uc9c8 \\uac1c\\uc120 \\ud761\\uc218 \\ub192\\uc774\\ub2e4 \\ub179\\uc9c0 \\ub179\\ub2e4 \\uc5b4\\ucde8 \\uc801\\ub2e4 \\uc791\\ub2e4 \\uc0ac\\uc774\\uc988 \\ub118\\uae40 \\ud3b8\\ud558\\ub2e4 \\uc18c\\ud615 \\ucea1\\uc290 \\ubcf5\\uc6a9 \\uac1c\\ubcc4 \\ud3ec\\uc7a5 \\ud2b9\\uc9d5 \\uc7a5\\uc6a9 \\ucea1\\uc220 \\uc7a5\\uc6a9 \\ucea1\\uc220 \\ub179\\uc9c0 \\ub179\\ub2e4 \\uc5b4\\ucde8 \\uc801\\ub2e4 \\ucea1\\uc220 \\uc0ac\\uc774\\uc988 \\uc904\\uc774\\ub2e4 \\ud3b8\\ud558\\ub2e4 \\uc54c\\ud2f0 \\uc624\\uba54\\uac00 \\uae30\\ub974\\ub2e4 \\uc74c\\uc2dd \\uc721\\ub958 \\uc704\\uc8fc \\uc2b5\\uad00 \\uc9c0\\ubc29\\uc9c8 \\uc12d\\ucde8 \\ub9ce\\ub2e4 \\uc2e0\\ubd84 \\ud608\\ud589 \\uac1c\\uc120 \\ud608\\uc911 \\uc911\\uc131 \\uc9c0\\uc9c8 \\uac1c\\uc120 \\ud544\\uc694\\ud558\\ub2e4 \\uc2e0\\ubd84 \\ubd80\\uc871\\ud558\\ub2e4 \\uc6b4\\ub3d9 \\ud608\\ud589 \\uac74\\uac15 \\uac71\\uc815 \\uc778\\uc2a4\\ud134\\ud2b8 \\uc2dd\\ud488 \\uc12d\\ucde8 \\ub9ce\\ub2e4 \\uc2e0\\ubd84 \\uac74\\uac15 \\uc720\\uc9c0 \\uac74\\uac15 \\uc99d\\uc9c4 \\ud544\\uc694\\ud558\\ub2e4 \\uc2e0\\ubd84 \\uc911\\uc131 \\uc9c0\\ubc29 \\uc218\\uce58 \\uac71\\uc815 \\uc26c\\ub2e4 \\uc9c0\\uce58\\ub2e4 \\uc77c\\uc0c1 \\ub5a8\\uc5b4\\uc9c0\\ub2e4 \\uacfc\\ub3c4 \\uc5c5\\ubb34 \\ubd88\\uaddc\\uce59\\ud558\\ub2e4 \\uc2dd\\uc0ac \\uac74\\uac15 \\uac71\\uc815\", \"\\uc591\\uc81c \\uc885\\uadfc\\ub2f9 \\ubcf4\\ub0b4\\ub2e4 \\uc624\\uba54\\uac00 \\ub5a8\\uc5b4\\uc9c0\\ub2e4 \\uac04\\ub2e4 \\uc804\\ud654\\ud558\\ub2e4 \\uc9c0\\ub09c\\ubc88 \\uc0ac\\ub2e4 \\ucabc\\ub054 \\uc800\\ub834\\ud558\\ub2e4 \\uc0ac\\uc11c \\ubcf4\\ub0b4\\ub2e4 \\ub4dc\\ub9ac\\ub2e4 \\uaf2c\\ubc15\\uaf2c\\ubc15 \\ub3cc\\ub9ac\\ub2e4 \\uc5f4\\uae30 \\ud798\\ub4e4\\ub2e4 \\ucea1\\uc290 \\ub044\\ub2e4 \\ud3ec\\uc7a5 \\ub9c8\\uc74c \\uc88b\\ub2e4 \\uc885\\uadfc\\ub2f9 \\uac80\\uc0c9 \\uc591\\uc81c \\ud544\\uc694\\ud558\\ub2e4 \\uc3d9\\uc3d9 \\uad6c\\ub9e4 \\ubbff\\ub2e4 \\uc0b4\\ub2e4 \\ud3b8\\ud558\\ub2e4\", \"\\uc624\\uba54\\uac00 \\ub298\\ub2e4 \\ud544\\uc218 \\uc591\\uc81c \\uafb8\\uc900\\ud558\\ub2e4 1\\uc77c 1\\ud68c \\uc12d\\ucde8 \\uc624\\uba54\\uac00 \\uba39\\uae30 \\ud798\\ub4dc\\ub2e4 \\uc774\\uc720 \\uc54c\\uc57d \\ud06c\\uae30 \\ud06c\\ub2e4 \\uc62c\\ub77c\\uc624\\ub2e4 \\ud2b9\\uc720 \\ud06c\\uae30 \\uc808\\ubc18 \\ub77c\\uc11c \\ub118\\uae40 \\ud3b8\\ud558\\ub2e4 \\uc548\\ub098 \\uc18d\\uc774\\ub2e4 \\ud3b8\\ud558\\ub2e4\", \"\\uc624\\uba54\\uac00 \\uc54c\\ud2f0 \\uc9c0\\ub85c \\uad6c\\uc785 \\ubc18\\uc751 \\uc12d\\ucde8 1\\uc77c 1\\ud68c \\ucea1\\uc290 \\ub9d0\\ub791\\ub9d0\\ub791\\ud558\\ub2e4 \\ub118\\uae40 \\ubd80\\ub2f4 \\ud761\\uc218 \\uc728\\ub3c4 \\ub192\\ub2e4 \\uc88b\\ub2e4 \\uac74\\uac15 \\ud608\\ud589 \\ud608\\uc911 \\uac1c\\uc120 \\uac74\\uac15 \\uc88b\\ub2e4 \\uad6c\\uc785 \\uae30\\uc900 \\uc720\\ud1b5 \\uae30\\ud55c 1\\ub144\", \"\\uc624\\uba54\\uac00 \\ud06c\\ub2e4 \\ube44\\ub9ac\\ub2e4 \\ub0c4\\uc0c8 \\uba39\\uae30 \\uc88b\\ub2e4\", \"\\uc624\\uba54\\uac00 \\ud568\\ub7c9 \\ub300\\ube44 \\uac00\\uc131 \\uc88b\\ub2e4 \\uafb8\\uc900\\ud558\\ub2e4\", \"\\uc65c\\uc0bf \\ud3c9\\uc774 \\ub098\\uc058\\ub2e4\", \"\\uc720\\ud1b5 \\uae30\\ud55c \\uae30\\ud55c \\ub109\\ub109\\ud558\\ub2e4 \\ud3ec\\uc7a5 \\uc0c1\\ud0dc \\ud3ec\\uc7a5 \\uae54\\ub054\\ud558\\ub2e4\", \"\\uc720\\ud1b5 \\uae30\\ud55c \\uae30\\ud55c \\ub109\\ub109\\ud558\\ub2e4 \\ud3ec\\uc7a5 \\uc0c1\\ud0dc \\ud3ec\\uc7a5 \\uae54\\ub054\\ud558\\ub2e4 \\uc88b\\ub2e4\", \"\\uc720\\ud1b5 \\uae30\\ud55c \\uae30\\ud55c \\ub109\\ub109\\ud558\\ub2e4 \\ud3ec\\uc7a5 \\uc0c1\\ud0dc \\ud3ec\\uc7a5 \\uae54\\ub054\\ud558\\ub2e4 \\uc88b\\ub2e4\", \"\\uc720\\ud1b5 \\uae30\\ud55c \\uae30\\ud55c \\ub109\\ub109\\ud558\\ub2e4 \\ud3ec\\uc7a5 \\uc0c1\\ud0dc \\ud3ec\\uc7a5 \\uae54\\ub054\\ud558\\ub2e4 \\uc88b\\ub2e4\", \"\\uc720\\ud1b5 \\uae30\\ud55c \\ub109\\ub109\\ud558\\ub2e4 \\uc624\\uba54\\uac00 \\ub77c\\uc11c \\uc2f8\\ub2e4 \\uad6c\\ub9e4 \\uc624\\uba54\\uac00 \\ud2b9\\uc720 \\ube44\\ub9ac\\ub2e4 \\uafb8\\uc900\\ud558\\ub2e4 \\ubcf5\\uc6a9 \\ud06c\\ub2e4 \\ubd80\\ub2f4 \\uc88b\\ub2e4 \\uc7ac\\ub2e4 \\uc758\\uc0ac \\ud560\\uc778 \\ud574\\uc8fc\\ub2e4\", \"\\uc77c\\ub9ac \\uc591\\uc81c \\uccb4\\uc9c0\\ubc29 \\uad00\\ub9ac \\uc88b\\ub2e4\", \"\\uc77c\\uc5b4\\ub098\\ub2e4 \\ucd9c\\uadfc\\uae38 \\ucee4\\ud53c \\uc0ac\\uba39\\ub2e4 \\ud544\\uc694\", \"\\uc790\\ub9ac \\uadf8\\ub300\\ub85c \\uadfc\\uc721 \\ub6b1\\ub561\\uc774 \\uac08\\ub2e4 \\ub9c8\\uc74c \\ud3c9\\uc548 \\uc704\\ud574\", \"\\uc790\\uc8fc \\uc7a6\\ub2e4 \\uc6b4\\ub3d9 \\ud544\\uc694\\ud558\\ub2e4 \\uc81c\\ud488\", \"\\uc798\\ub098\\uc624\\ub2e4\", \"\\uc798\\ub098\\uc624\\ub2e4\", \"\\uc810\\uc2ec \\uc12d\\ucde8 \\ud5d0\\ub2e4 \\ub2e8\\uc2dd \\uc57c\\ud558\\ub2e4 \\uc591\\uc81c \\uac00\\ub974\\ub2e4 \\ube44\\ub2e4 \\ucc0c\\ub2e4 \\ub290\\uaef4\\uc9c0\\ub2e4\", \"\\uc88b\\ub2e4\", \"\\uc88b\\ub2e4 \\uac00\\uaca9 \\ucc29\\ud558\\ub2e4 \\uc790\\uc8fc\", \"\\uc88b\\ub2e4 \\ub098\\uc6b0 \\ud478\\ub4dc \\uc0bf\\ub294\\ub370 \\uc8fc\\ubb38 \\uc88b\\ub2e4 \\ub098\\uc6b0 \\ud478\\ub4dc \\uc88b\\ub2e4 \\ubc18\\ub824 \\uc787\\ub2e4\", \"\\uc88b\\ub2e4 \\ub098\\uc6b0 \\ud478\\ub4dc \\uc0bf\\ub294\\ub370 \\uc8fc\\ubb38 \\uc88b\\ub2e4 \\ub098\\uc6b0 \\ud478\\ub4dc \\uc88b\\ub2e4 \\ubc18\\ub824 \\uc787\\ub2e4\", \"\\uc88b\\ub2e4 \\ub2e4\\ud574 \\uc8fc\\ubb38 \\uac00\\ub974\\ub2e4 \\uc88b\\ub2e4\", \"\\uc88b\\ub2e4 \\uc88b\\ub2e4\", \"\\uc911\\uc774 \\ubaa8\\ub974\\ub2e4 \\uc57c\\ud558\\ub2e4 \\uc88b\\ub2e4 \\uc88b\\ub2e4\", \"\\uc911\\uc784 \\uad6c\\ub9e4 \\uc74d\\ub2c8 \\uac10\\uc0ac\\ud558\\ub2e4 \\ucc28\\ub2e4 \\uc2e0\\uccad \\ub2eb\\ub2e4\", \"\\uc9c0\\uae08\\uaecf \\ubcf4\\uc870 \\ubd80\\uc791\\uc6a9 \\ubcf4\\uc870 \\uc81c\\uc608\", \"\\uc9c8\\uc5fc \\uc0dd\\uae30\\ub2e4 \\ubcd1\\uc6d0 \\ub2e4\\ub2c8\\ub2e4 \\ub3c5\\ud558\\ub2e4 \\uc9c0\\uae0b\\uc9c0\\uae0b\\ud558\\ub2e4 \\ucc3e\\uc544\\ubcf4\\ub2e4 \\ud06c\\ub79c\\ubca0\\ub9ac \\uc591\\uc81c \\uc88b\\ub2e4 \\uad6c\\ub9e4 \\ud574\\ubd24\\ub2e4 \\ucda9\\ubd84\\ud558\\ub2e4 \\uc368\\ub2e4 \\ubb3c\\uc774 \\ub179\\ub2e4 \\uba39\\uae30 \\ucc28\\ub2e4 \\ud3b8\\ud558\\ub2e4 \\uc9c8\\uc5fc \\uc0dd\\uae30\\ub2e4 \\uc88b\\ub2e4\", \"\\uccb4\\ub0b4 \\ud761\\uc218 \\ub2e8\\uc5b4 \\uaf42\\ud788\\ub2e4 \\ud608\\ud589 \\uac74\\uac15 \\uac71\\uc815 \\uc624\\uba54\\uac00 \\uc54c\\uc544\\ubcf4\\ub2e4 \\uc624\\uba54\\uac00 \\ud608\\uad00 \\ubbf8\\uce58\\ub2e4 \\uc601\\ud5a5 \\ub300\\ud574 \\uad6d\\ubbfc \\ud544\\uc218 \\uc591\\uc81c \\uc624\\uba54\\uac00 \\uc885\\ub958 \\ucc28\\ub2e4 \\uc5b4\\ub835\\ub2e4 \\uccb4\\ub0b4 \\ud761\\uc218 \\ub192\\uc774\\ub2e4 \\uc0ac\\ub77c \\uc5b4\\ub958 \\ubd88\\uc21c \\ud3ec\\ud654\\uc9c0\\ubc29\\uc0b0 \\uc904\\uc774\\ub2e4 \\uc21c\\ub3c4 \\ub192\\ub2e4 \\uccb4\\ub0b4 \\ud761\\uc218 \\uc6a9\\uc774\\ud558\\ub2e4 \\ub9cc\\ub4e4\\ub2e4 \\ucd5c\\uc2e0 \\uae30\\uc220 \\uae30\\ubc95 \\uc5b4\\uca0c\\ub4e0 \\ucd5c\\uc2e0 \\uae30\\uc220 \\uba54\\ub2e4 \\ub354\\ud558\\ub2e4 \\ucd94\\uac00 \\uc131\\ubd84 \\ube44\\ud0c0\\ubbfc \\uc9c0\\uc6a9\\uc131 \\ube44\\ud0c0\\ubbfc \\ucd94\\uac00 \\ub354\\ud558\\ub2e4 \\uc9c0\\uc6a9\\uc131 \\ube44\\ud0c0\\ubbfc \\uc9c0\\ubc29 \\ub179\\uc774\\ub2e4 \\uc624\\uba54\\uac00 \\ub354\\ud558\\ub2e4 \\ud761\\uc218 \\ub192\\uc774\\ub2e4 \\ucd94\\uac00 \\uc544\\ub2c8\\ub2e4 \\ud574\\ubcf4\\ub2e4 \\ub298\\ub2e4 \\uac74\\uac15 \\ub298\\ub2e4 \\uac74\\uac15 \\ub298\\ub2e4 \\ud56d\\uc0b0\\ud654 \\uc720\\ud574 \\uc0b0\\uc18c \\uc138\\ud3ec \\ubcf4\\ud638 \\ud574\\uc8fc\\ub2e4 \\uc5ed\\ud560 \\uc7ac\\ub8cc \\ubb34\\uc2dc \\ub0a8\\ud0dc\\ud3c9\\uc591 \\uc7a1\\ub2e4 \\uc18c\\ud615 \\uc5b4\\ub958 \\uba85\\uc2dc \\uc18c\\ud615 \\uc5b4\\ub958 \\uc911\\uae08\\uc18d \\uc5fc\\ub3c4 \\uac00\\uc7a5 \\ub0ae\\ub2e4 \\uc911\\uae08\\uc18d \\uc624\\uc5fc \\uac00\\uc7a5 \\ub9ce\\ub2e4 \\ub530\\uc9c0\\ub2e4 \\uac00\\uac00 \\ub04c\\ub9ac\\ub2e4 \\uc54c\\uc57d \\ud06c\\uae30 \\uadf8\\ub9ac\\ub2e4 \\ud06c\\ub2e4 \\ub118\\uae40 \\uc88b\\ub2e4 \\ud06c\\ub2e4 \\uc0bc\\ud0a4\\ub2e4 \\ud798\\ub4dc\\ub2e4 \\uc0ac\\uc774\\uc988 \\uad1c\\ucc2e\\ub2e4 \\uac00\\uaca9 \\uac00\\uaca9 \\ucc28\\ub2e4 \\uad1c\\ucc2e\\ub2e4 \\ubc30\\uc1a1 \\uc8fc\\ubb38 \\uc0c8\\ubcbd \\uc9c4\\uc9dc\\uc9c4\\uc9dc \\uc774\\uc810 \\uc88b\\ub2e4 \\uc5ec\\uae30\\uc800\\uae30 \\ub3cc\\uc544\\ub2e4\\ub2c8\\ub2e4 \\uae30\\ub984\\uac12 \\ub3cc\\uc544\\ub2e4\\ub2c8\\ub2e4 \\ud798\\ub4dc\\ub2e4 \\ub85c\\ucf13 \\ubc30\\uc1a1 \\uc88b\\uc544\\ud558\\ub2e4 \\uc194\\uc9c1\\ud558\\ub2e4 \\ud6c4\\uae30 \\ud6c4\\uae30 \\ub3c4\\uc6c0 \\ucd94\\ucc9c \\ubd80\\ud0c1\\ub4dc\\ub9ac\\ub2e4 \\uac10\\uc0ac\\ud558\\ub2e4\", \"\\uccb4\\uc911 \\uac10\\ub7c9 \\ubaa8\\ub974\\ub2e4 \\uafb8\\uc900\\ud558\\ub2e4 \\uc800\\ub141 \\uc800\\ub141 \\ub204\\uc6b0 \\uc7a0\\ub4e4\\ub2e4 \\uac78\\ub9ac\\ub2e4 \\ub098\\uc11c\\ub2e4 \\uc800\\ub141 \\ub215\\ub2e4 \\uae30\\uc808 \\uccb4\\uc911 \\uac10\\ub7c9 \\uc219\\uba74 \\uc6d0\\ud558\\ub2e4 \\ucd94\\ucc9c\", \"\\uccb4\\uc9c0\\ubc29 \\uc904\\uc774\\ub2e4 \\uad6c\\ub9e4 \\uc88b\\ub2e4 \\ubc14\\ub77c\\ub2e4 \\uc2dc\\uc2dd \\ub2e4\\uc2dc \\ub9ac\\ubdf0 \\uc62c\\ub9ac\\ub2e4\", \"\\uccb4\\uc9c0\\ubc29 \\uc904\\uc774\\ub2e4 \\uad6c\\ub9e4 \\uc88b\\ub2e4 \\ubc14\\ub77c\\ub2e4 \\uc2dc\\uc2dd \\ub2e4\\uc2dc \\ub9ac\\ubdf0 \\uc62c\\ub9ac\\ub2e4\", \"\\ucea1\\uc290 \\uac1c\\ubcc4 \\ud3ec\\uc7a5 \\ud3b8\\ub9ac\\ud558\\ub2e4 \\uc18c\\uc9c0 \\uc12d\\ucde8 \\ubd88\\ucf8c\\ud558\\ub2e4 \\ub0c4\\uc0c8 \\ucd5c\\uc18c \\ud654\\ud558\\ub2e4 \\ub123\\ub2e4 \\uc790\\uadf9 \\ubd80\\ub2f4 \\uc12d\\ucde8\", \"\\ucea1\\uc290 \\ubc14\\uafb8\\ub2e4 \\ubcc4\\ub85c \\uc804\\uc548 \\ub9de\\ub2e4 \\uac00\\uc131 \\ube44\\ub2e4 \\ubc29\\uad11\\uc5fc \\ucea1\\uc290 \\uafb8\\uc911 \\uc0ac\\ub2e4 \\uc54c\\ub2e4 \\ubc18\\uc751 \\ubc18\\uc751\", \"\\ucea1\\uc290 \\ubc14\\uafb8\\ub2e4 \\ubcc4\\ub85c \\uc804\\uc548 \\ub9de\\ub2e4 \\uac00\\uc131 \\ube44\\ub2e4 \\ubc29\\uad11\\uc5fc \\ucea1\\uc290 \\uafb8\\uc911 \\uc0ac\\ub2e4 \\uc54c\\ub2e4 \\ubc18\\uc751 \\ubc18\\uc751\", \"\\ucfe0\\ud321 \\uad6c\\uc785\", \"\\ucfe0\\ud321 \\ud14c\\uc544\\ub2cc \\ubcf4\\uc870 \\uad6c\\ub9e4 \\ub2e4\\uc774\\uc5b4\\ud2b8 \\ubcf4\\uc870 \\uac80\\uc0c9 \\ud574\\ubcf4\\ub2e4 \\uc2dd\\uc804 \\ube0c\\ube14 \\ub85c\\ucee4 \\uc2dd\\ud6c4 \\ub0a0\\ub9ac\\ub2e4 \\ub808\\uc6b0\\uc2a4 \\ud3ec\\uc2a4 \\ucf5c\\ub9ac \\uba39\\uae30 \\uc2dc\\uc791 \\uc6b4\\ub3d9 40\\ubd84 \\uce74\\ub974\\ub2c8\\ud2f4 \\ud544\\ub77c\\ud14c\\uc2a4 20~30\\ubd84 \\uac1c\\uc778 \\uc6b4\\ub3d9 \\uc6b4\\ub3d9 \\uc0ac\\uc774 \\uce74\\ub974\\ub2c8\\ud2f4 \\uc5c4\\uccad\\ub098\\ub2e4 30\\ubd84 \\uac78\\ub2e4 1\\uc77c \\uc2dc\\uc791 163 63 \\ub450\\ub2e4 22\\uc77c \\ube60\\uc9c0\\ub2e4 59 \\ub3fc\\ub2e4 \\uc800\\ub141 \\ub9e5\\uc8fc \\uc800\\ub141 \\ub9c8\\uc2dc\\ub2e4 \\ub744\\uc5c4\\ub744\\uc5c4 \\ub9c8\\uc2dc\\ub2e4 \\ub808\\uc6b0\\uc2a4 \\ud3ec\\uc2a4 \\ucf5c\\ub9ac \\ubc14\\uc9c0 \\uc785\\ub2e4 \\uae5c\\uc9dd \\ub180\\ub77c\\ub2e4 \\uccb4\\uc9c0\\ubc29 \\uc904\\ub2e4 \\ub298\\uc5b4\\ub098\\ub2e4 \\uccb4\\uc911 \\ubcc0\\ud654 \\ube7c\\ub2e4 55 \\ud0a4\\ub85c \\ube7c\\ub2e4 \\uccb4\\uc911 \\uc720\\uc9c0 \\ubaa9\\ud45c \\ub098\\uc774 \\ub9c8\\ud754 \\ub118\\ub2e4 \\ube7c\\ub2e4 \\uc2f6\\ub2e4 \\uc2e0\\ubd84 \\ucd94\\ucc9c \\ubd80\\uc791\\uc6a9 \\ub808\\uc6b0\\uc2a4 \\ud3ec\\uc2a4 \\ucf5c\\ub9ac \\ube48\\uc18d \\uc4f0\\ub9ac\\ub2e4\", \"\\ud0c8\\ubaa8 \\uc88b\\ub2e4 \\ubc14\\ub77c\\ub2e4\", \"\\ud45c\\ud604 \\uc2f6\\ub2e4 \\ub808\\uc804\\ub4dc \\ub2e4\\uc774\\uc5b4\\ud2b8 \\ud50c\\ub9ac \\uba40\\ub2e4 \\uc810\\uc2ec \\uba39\\uae30 20\\ubd84 \\ube60\\uc9c0\\ub2e4 \\uc9c0\\uae08\\uaecf \\uc778\\uc2a4\\ud0c0 \\uacf5\\uad6c \\uad11\\uace0 \\uc5c4\\uccad\\ub098\\ub2e4 \\uad11\\uace0 \\ud604\\ud639 \\ub9ce\\ub2e4 \\ub2e4\\uc774\\uc5b4\\ud2b8 \\uac70\\ub4e4\\ub2e4 \\uc5d0\\ud0c0\\ubbfc \\ud55c\\uc758\\uc6d0 \\ub2e4\\uc774\\uc5b4\\ud2b8 \\ubb34\\uc218 \\ud574\\ubd23 \\uc591\\uc57d \\uae30\\ubcf8 \\uba39\\uc74c \\ubaa8\\ub4e0 \\ud574\\ubc29 \\uc57d\\uacfc \\ube60\\uc9c0\\ub2e4 \\uc0c1\\ud0dc \\uc6b4\\ub3d9 \\uc800\\ub141 \\ube60\\uc9c0\\ub2e4 \\uc601\\uc591 \\uc81c\\ub9cc\", \"\\ud5d0\\ub2e4 \\ub2e8\\uc2dd \\ubc43\\uc0b4 \\ube7c\\ub2e4 \\ub3c4\\uc6c0 \\uad6c\\ub9e4\", \"\\ud608\\ud589 \\uac1c\\uc120 \\ub3c4\\uc6c0 \\uafb8\\uc900\\ud558\\ub2e4 \\uc5ec\\uae30\\uc800\\uae30 \\uc54c\\uc544\\ubcf4\\ub2e4 \\uc694\\uae30 \\uc2f8\\ub2e4 \\ud310\\ub9e4 \\uc800\\ub834\\ud558\\ub2e4 \\uc8fc\\ubb38 \\uae30\\ubd84 \\uc88b\\ub2e4 \\uc7ac\\ub2e4 \\uc758\\uc0ac\", \"\\ud608\\ud589 \\uac1c\\uc120 \\ud608\\uc911 \\uc911\\uc131 \\uc9c0\\uc9c8 \\uac1c\\uc120 \\uac74\\uc870\\ud558\\ub2e4 \\uac1c\\uc120 \\ub3c4\\uc6c0 \\uad6c\\uc785 500 \\uc81c\\ud488 600 \\ucda9\\uc871 \\ub9cc\\uc871\\ud558\\ub2e4\", \"\\ud608\\ud589 \\uac1c\\uc120 \\ud608\\uc99d \\uc911\\uc131 \\uc9c0\\uc9c8 \\uac1c\\uc120 \\ub3c4\\uc6c0 \\uac74\\uc870\\ud558\\ub2e4 \\ucf00\\uc5b4 \\ucd09\\ucd09\\ud558\\ub2e4 \\ub9cc\\ub4e4\\ub2e4 \\uc624\\uba54\\uac00 \\uc8fc\\uc131\\ubd84 \\uc778\\ud558\\ub2e4 \\uac1c\\ubcc4 \\ud3ec\\uc7a5 \\uc791\\ub2e4 \\uc0ac\\uc774 \\uc12d\\ucde8 \\ud3b8\\uc758 \\ub192\\uc774\\ub2e4 \\uacf5\\uae30 \\uc628\\ub3c4 \\uc2b5\\ub3c4 \\ubbfc\\uac10\\ud558\\ub2e4 \\uc624\\uba54\\uac00 \\ud3ec\\uc7a5 \\uc678\\ubd80 \\ud658\\uacbd \\ubc18\\uc751 \\ucd5c\\uc18c \\ud654\\ud558\\ub2e4 \\uac1c\\ubcc4 \\ud3ec\\uc7a5 \\ud0c0\\uc785 \\ubd88\\uc21c \\ud3ec\\ud654\\uc9c0\\ubc29\\uc0b0 \\uc904\\uc774\\ub2e4 \\uc21c\\ub3c4 \\ub192\\ub2e4 \\uccb4\\ub0b4 \\ud761\\uc218 \\uc6a9\\uc774\\ud558\\ub2e4 \\ud06c\\ub2e4 \\uc911\\uae08\\uc18d \\uc5fc\\ub3c4 \\ub0ae\\ub2e4 \\uc18c\\ud615 \\uc5b4\\ub958 \\ucd94\\ucd9c \\uc6d0\\ub8cc 10 \\ub2e8\\uacc4 \\uc6d0\\ub8cc \\uc815\\uc81c \\uac70\\uce58\\ub2e4 \\ud488\\uc9c8 \\uc548\\uc804\\uc131 \\uac15\\ud654 25 \\ub2e8\\uacc4 \\uc81c\\uc870 \\uacf5\\uc815 \\uaf3c\\uaf3c\\ud558\\ub2e4 \\uc81c\\ud488 \\uac80\\uc218 \\uc815\\ubc00\\uac80\\uc0ac \\uc548\\uc2ec \\uc12d\\ucde8 \\uac00\\ub2a5 \\ub6f0\\uc5b4\\ub098\\ub2e4 \\uacfc\\uc815 \\uac80\\uc218 \\uace0\\ub974\\ub2e4 \\ub123\\ub2e4 \\uc81c\\ud488 \\uc800\\ub834\\ud558\\ub2e4 \\uac00\\uaca9 \\uacf5\\uae09 \\uc785\\uc7a5 \\ub354\\ud558\\ub2e4 \\ub098\\uc704 \\uc88b\\ub2e4 \\uc81c\\ud488 \\ubc14\\uc058\\ub2e4 \\uc0ac\\ud68c \\uc0b4\\ub2e4 \\ud604\\ub300\\uc778 \\ub9de\\ub2e4 \\uc591\\uc81c \\ubbff\\ub2e4 \\uafb8\\uc900\\ud558\\ub2e4 \\uad6c\\ub9e4 \\uc81c\\ud488\", \"\\ud640\\ub9ac \\ub370\\uc774\\uc988 \\ud504\\ub9ac\\ubbf8\\uc5c4 \\ud06c\\ub79c\\ubca0\\ub9ac \\ud0c0\\ube14\\ub81b \\ud06c\\ub79c\\ubca0\\ub9ac \\uc88b\\ub2e4 \\uacc4\\uc2dc \\uc88b\\ub2e4 \\ud604\\ub300 \\uc0dd\\ud65c \\uc815\\ub9d0 \\uc27d\\ub2e4 \\uc544\\ub2c8\\ub2e4 \\ud06c\\ub79c\\ubca0\\ub9ac \\uacfc\\uc77c \\ub354\\uc6b1\\uc774 \\ubcf4\\uad00 \\ud798\\ub4e4\\ub2e4 \\uc815\\ub7c9 \\uc12d\\ucde8 \\ud640\\ub9ac \\ub370\\uc774\\uc988 \\ud504\\ub9ac\\ubbf8\\uc5c4 \\ud06c\\ub79c\\ubca0\\ub9ac \\ud0c0\\ube14\\ub81b 99 \\ud568\\ub7c9 \\ub18d\\ucd95 \\ubd84\\ub9d0 \\ub18d\\ucd95 \\ud655\\uc778 \\ub18d\\ucd95 \\ubd84\\ub9d0 \\uc190\\uc2e4 \\ucd5c\\uc18c \\ucf1c\\ub2e4 100 \\ubd81\\ubbf8 \\ud06c\\ub79c\\ubca0\\ub9ac 1\\ud68c \\uac04\\ud3b8\\ud558\\ub2e4 \\uc12d\\ucde8 \\ud06c\\ub79c\\ubca0\\ub9ac \\ud0c0\\ube14\\ub81b \\uad73\\uc774 \\uacfc\\uc721 \\ud544\\uc694 \\ud0c0\\ube14\\ub81b \\ud06c\\uae30 \\uc791\\ub2e4 \\ub118\\uae40 \\ubd88\\ud3b8 \\uc5b4\\ub5bb\\ub2e4 \\ucee4\\uc11c \\ub118\\uae40 \\uc815\\ub9d0 \\ud798\\ub4dc\\ub2e4 \\uadf8\\ub807\\ub2e4 \\uc54c\\ub2e4 \\ub808\\ub180 \\uc791\\ub2e4 \\uc6cc\\ud0b9\\ub9d8 \\ud53c\\uace4\\ud558\\ub2e4 \\uc9c0\\uce58\\ub2e4 \\uc77c\\ub3c4 \\uc9d1\\uc548\\uc77c \\ubcd1\\ud589 \\ud544\\uc694\\ud558\\ub2e4 \\uc12d\\ucde8 \\uac04\\ub2e8\\ud558\\ub2e4 \\uc601\\uc591 \\ubcf4\\ucda9 \\uc2f6\\ub2e4 \\ud640\\ub9ac \\ub370\\uc774\\uc988 \\ud504\\ub9ac\\ubbf8\\uc5c4 \\ud06c\\ub79c\\ubca0\\ub9ac \\ud0c0\\ube14\\ub81b \\uc54c\\ub2e4 \\uc9c0\\uce58\\ub2e4 \\uc77c\\uc0c1 \\ud65c\\uae30\\ucc28\\ub2e4 \\uc77c\\uc0c1\", \"\\ud655\\uc2e4\\ud558\\ub2e4 \\ucc0c\\ub2e4\", \"\\ud6a8\\ub2a5 \\ubc1c\\uc554 \\uc5b5\\uc81c \\ub3d9\\ub9e5\\uacbd\\ud654 \\ud608\\uc555 \\uc0c1\\uc2b9 \\ud608\\uc804 \\uc608\\ubc29 \\ubc14\\uc774\\ub7ec\\uc2a4 \\ube44\\ub9cc \\ub098\\uc6b0 \\ucc29\\ud558\\ub2e4 \\uac00\\uaca9 \\uacf5\\uae09 \\uc8fc\\uc2dc \\uace0\\ub9d9\\ub2e4\"]}, \"R\": 30, \"lambda.step\": 0.01, \"plot.opts\": {\"xlab\": \"PC1\", \"ylab\": \"PC2\"}, \"topic.order\": [1, 3, 2]};\n",
       "\n",
       "function LDAvis_load_lib(url, callback){\n",
       "  var s = document.createElement('script');\n",
       "  s.src = url;\n",
       "  s.async = true;\n",
       "  s.onreadystatechange = s.onload = callback;\n",
       "  s.onerror = function(){console.warn(\"failed to load library \" + url);};\n",
       "  document.getElementsByTagName(\"head\")[0].appendChild(s);\n",
       "}\n",
       "\n",
       "if(typeof(LDAvis) !== \"undefined\"){\n",
       "   // already loaded: just create the visualization\n",
       "   !function(LDAvis){\n",
       "       new LDAvis(\"#\" + \"ldavis_el2817614049485147366723784654\", ldavis_el2817614049485147366723784654_data);\n",
       "   }(LDAvis);\n",
       "}else if(typeof define === \"function\" && define.amd){\n",
       "   // require.js is available: use it to load d3/LDAvis\n",
       "   require.config({paths: {d3: \"https://d3js.org/d3.v5\"}});\n",
       "   require([\"d3\"], function(d3){\n",
       "      window.d3 = d3;\n",
       "      LDAvis_load_lib(\"https://cdn.jsdelivr.net/gh/bmabey/pyLDAvis@3.4.0/pyLDAvis/js/ldavis.v3.0.0.js\", function(){\n",
       "        new LDAvis(\"#\" + \"ldavis_el2817614049485147366723784654\", ldavis_el2817614049485147366723784654_data);\n",
       "      });\n",
       "    });\n",
       "}else{\n",
       "    // require.js not available: dynamically load d3 & LDAvis\n",
       "    LDAvis_load_lib(\"https://d3js.org/d3.v5.js\", function(){\n",
       "         LDAvis_load_lib(\"https://cdn.jsdelivr.net/gh/bmabey/pyLDAvis@3.4.0/pyLDAvis/js/ldavis.v3.0.0.js\", function(){\n",
       "                 new LDAvis(\"#\" + \"ldavis_el2817614049485147366723784654\", ldavis_el2817614049485147366723784654_data);\n",
       "            })\n",
       "         });\n",
       "}\n",
       "</script>"
      ],
      "text/plain": [
       "<IPython.core.display.HTML object>"
      ]
     },
     "execution_count": 46,
     "metadata": {},
     "output_type": "execute_result"
    }
   ],
   "source": [
    "pyLDAvis.display(result_visualized)"
   ]
  },
  {
   "cell_type": "code",
   "execution_count": 48,
   "id": "54cfa60f-6e72-46a9-954f-0e6182235461",
   "metadata": {
    "tags": []
   },
   "outputs": [],
   "source": [
    "pyLDAvis.save_html(result_visualized, '../datasets/review_positive_result_visualized.html')"
   ]
  },
  {
   "cell_type": "code",
   "execution_count": null,
   "id": "fe1a0e07-3705-420b-85a4-3ccb37f5e7d7",
   "metadata": {},
   "outputs": [],
   "source": []
  }
 ],
 "metadata": {
  "kernelspec": {
   "display_name": "Python 3 (ipykernel)",
   "language": "python",
   "name": "python3"
  },
  "language_info": {
   "codemirror_mode": {
    "name": "ipython",
    "version": 3
   },
   "file_extension": ".py",
   "mimetype": "text/x-python",
   "name": "python",
   "nbconvert_exporter": "python",
   "pygments_lexer": "ipython3",
   "version": "3.11.3"
  }
 },
 "nbformat": 4,
 "nbformat_minor": 5
}
