{
 "cells": [
  {
   "cell_type": "code",
   "execution_count": 1,
   "id": "935aed44-c386-451a-8dbd-51e8394e5a96",
   "metadata": {
    "collapsed": true,
    "jupyter": {
     "outputs_hidden": true
    },
    "tags": []
   },
   "outputs": [
    {
     "name": "stdout",
     "output_type": "stream",
     "text": [
      "Requirement already satisfied: python-mecab-ko in c:\\users\\04-02\\anaconda3\\lib\\site-packages (1.3.3)\n",
      "Collecting pyLDAvis\n",
      "  Using cached pyLDAvis-3.4.1-py3-none-any.whl (2.6 MB)\n",
      "Requirement already satisfied: python-mecab-ko-dic in c:\\users\\04-02\\anaconda3\\lib\\site-packages (from python-mecab-ko) (2.1.1.post2)\n",
      "Requirement already satisfied: numpy>=1.24.2 in c:\\users\\04-02\\anaconda3\\lib\\site-packages (from pyLDAvis) (1.24.3)\n",
      "Requirement already satisfied: scipy in c:\\users\\04-02\\anaconda3\\lib\\site-packages (from pyLDAvis) (1.10.1)\n",
      "Requirement already satisfied: pandas>=2.0.0 in c:\\users\\04-02\\anaconda3\\lib\\site-packages (from pyLDAvis) (2.1.1)\n",
      "Requirement already satisfied: joblib>=1.2.0 in c:\\users\\04-02\\anaconda3\\lib\\site-packages (from pyLDAvis) (1.2.0)\n",
      "Requirement already satisfied: jinja2 in c:\\users\\04-02\\anaconda3\\lib\\site-packages (from pyLDAvis) (3.1.2)\n",
      "Requirement already satisfied: numexpr in c:\\users\\04-02\\anaconda3\\lib\\site-packages (from pyLDAvis) (2.8.4)\n",
      "Requirement already satisfied: funcy in c:\\users\\04-02\\anaconda3\\lib\\site-packages (from pyLDAvis) (2.0)\n",
      "Requirement already satisfied: scikit-learn>=1.0.0 in c:\\users\\04-02\\anaconda3\\lib\\site-packages (from pyLDAvis) (1.2.2)\n",
      "Requirement already satisfied: gensim in c:\\users\\04-02\\anaconda3\\lib\\site-packages (from pyLDAvis) (4.3.0)\n",
      "Requirement already satisfied: setuptools in c:\\users\\04-02\\anaconda3\\lib\\site-packages (from pyLDAvis) (67.8.0)\n",
      "Requirement already satisfied: python-dateutil>=2.8.2 in c:\\users\\04-02\\appdata\\roaming\\python\\python311\\site-packages (from pandas>=2.0.0->pyLDAvis) (2.8.2)\n",
      "Requirement already satisfied: pytz>=2020.1 in c:\\users\\04-02\\anaconda3\\lib\\site-packages (from pandas>=2.0.0->pyLDAvis) (2022.7)\n",
      "Requirement already satisfied: tzdata>=2022.1 in c:\\users\\04-02\\anaconda3\\lib\\site-packages (from pandas>=2.0.0->pyLDAvis) (2023.3)\n",
      "Requirement already satisfied: threadpoolctl>=2.0.0 in c:\\users\\04-02\\anaconda3\\lib\\site-packages (from scikit-learn>=1.0.0->pyLDAvis) (2.2.0)\n",
      "Requirement already satisfied: smart-open>=1.8.1 in c:\\users\\04-02\\anaconda3\\lib\\site-packages (from gensim->pyLDAvis) (5.2.1)\n",
      "Collecting FuzzyTM>=0.4.0 (from gensim->pyLDAvis)\n",
      "  Using cached FuzzyTM-2.0.5-py3-none-any.whl (29 kB)\n",
      "Requirement already satisfied: MarkupSafe>=2.0 in c:\\users\\04-02\\anaconda3\\lib\\site-packages (from jinja2->pyLDAvis) (2.1.1)\n",
      "Collecting pyfume (from FuzzyTM>=0.4.0->gensim->pyLDAvis)\n",
      "  Using cached pyFUME-0.2.25-py3-none-any.whl (67 kB)\n",
      "Requirement already satisfied: six>=1.5 in c:\\users\\04-02\\appdata\\roaming\\python\\python311\\site-packages (from python-dateutil>=2.8.2->pandas>=2.0.0->pyLDAvis) (1.16.0)\n",
      "Requirement already satisfied: simpful in c:\\users\\04-02\\anaconda3\\lib\\site-packages (from pyfume->FuzzyTM>=0.4.0->gensim->pyLDAvis) (2.11.0)\n",
      "Collecting fst-pso (from pyfume->FuzzyTM>=0.4.0->gensim->pyLDAvis)\n",
      "  Using cached fst_pso-1.8.1-py3-none-any.whl\n",
      "Collecting miniful (from fst-pso->pyfume->FuzzyTM>=0.4.0->gensim->pyLDAvis)\n",
      "  Using cached miniful-0.0.6-py3-none-any.whl\n",
      "Installing collected packages: miniful, fst-pso, pyfume, FuzzyTM, pyLDAvis\n",
      "Successfully installed FuzzyTM-2.0.5 fst-pso-1.8.1 miniful-0.0.6 pyLDAvis-3.4.1 pyfume-0.2.25\n"
     ]
    }
   ],
   "source": [
    "# !pip install python-mecab-ko pyLDAvis"
   ]
  },
  {
   "cell_type": "code",
   "execution_count": 1,
   "id": "0a485173-b2fb-44ca-b22f-323fb8bb7e5d",
   "metadata": {
    "tags": []
   },
   "outputs": [],
   "source": [
    "import numpy as np"
   ]
  },
  {
   "cell_type": "code",
   "execution_count": 2,
   "id": "ce83d4eb-32b5-4638-a7d0-993a8eda3dec",
   "metadata": {
    "tags": []
   },
   "outputs": [],
   "source": [
    "# cholesterolreview_negative.csv\n",
    "import pandas as pd\n",
    "df_review_negative = pd.read_csv('../datasets/cholesterolreview_negative.csv')"
   ]
  },
  {
   "cell_type": "code",
   "execution_count": 3,
   "id": "9ebd3241-ffbd-4dac-8ee2-1fbb82629ef2",
   "metadata": {
    "tags": []
   },
   "outputs": [
    {
     "name": "stdout",
     "output_type": "stream",
     "text": [
      "<class 'pandas.core.frame.DataFrame'>\n",
      "RangeIndex: 66 entries, 0 to 65\n",
      "Data columns (total 9 columns):\n",
      " #   Column            Non-Null Count  Dtype  \n",
      "---  ------            --------------  -----  \n",
      " 0   Unnamed: 0        66 non-null     int64  \n",
      " 1   _id               66 non-null     object \n",
      " 2   product_name      66 non-null     object \n",
      " 3   review_writer     66 non-null     object \n",
      " 4   review_date       66 non-null     object \n",
      " 5   review_star       66 non-null     float64\n",
      " 6   review_content    66 non-null     object \n",
      " 7   tokenizer_review  66 non-null     object \n",
      " 8   replaced_review   66 non-null     object \n",
      "dtypes: float64(1), int64(1), object(7)\n",
      "memory usage: 4.8+ KB\n"
     ]
    }
   ],
   "source": [
    "df_review_negative.info()"
   ]
  },
  {
   "cell_type": "code",
   "execution_count": 4,
   "id": "0e897db0-a1cc-49d2-9b73-853e30993f1a",
   "metadata": {
    "tags": []
   },
   "outputs": [],
   "source": [
    "df_review_negative = df_review_negative.dropna()"
   ]
  },
  {
   "cell_type": "code",
   "execution_count": 5,
   "id": "df8ab141-c59c-442f-9e93-273f83a3f405",
   "metadata": {
    "tags": []
   },
   "outputs": [],
   "source": [
    "# cholesterolreview_positive.csv\n",
    "import pandas as pd\n",
    "df_review_positive = pd.read_csv('../datasets/cholesterolreview_positive.csv')"
   ]
  },
  {
   "cell_type": "code",
   "execution_count": 6,
   "id": "b9f1c881-4466-4061-9854-780769d39b5d",
   "metadata": {
    "tags": []
   },
   "outputs": [
    {
     "name": "stdout",
     "output_type": "stream",
     "text": [
      "<class 'pandas.core.frame.DataFrame'>\n",
      "RangeIndex: 6205 entries, 0 to 6204\n",
      "Data columns (total 9 columns):\n",
      " #   Column            Non-Null Count  Dtype  \n",
      "---  ------            --------------  -----  \n",
      " 0   Unnamed: 0        6205 non-null   int64  \n",
      " 1   _id               6205 non-null   object \n",
      " 2   product_name      6205 non-null   object \n",
      " 3   review_writer     6205 non-null   object \n",
      " 4   review_date       6205 non-null   object \n",
      " 5   review_star       6205 non-null   float64\n",
      " 6   review_content    6205 non-null   object \n",
      " 7   tokenizer_review  6205 non-null   object \n",
      " 8   replaced_review   6188 non-null   object \n",
      "dtypes: float64(1), int64(1), object(7)\n",
      "memory usage: 436.4+ KB\n"
     ]
    }
   ],
   "source": [
    "df_review_positive.info()"
   ]
  },
  {
   "cell_type": "code",
   "execution_count": 7,
   "id": "078402b7-e3ee-45b8-b8da-7ae98c020e27",
   "metadata": {
    "tags": []
   },
   "outputs": [],
   "source": [
    "df_review_positive = df_review_positive.dropna()"
   ]
  },
  {
   "cell_type": "markdown",
   "id": "063b6532-b833-4876-bc55-53cb9801d85c",
   "metadata": {},
   "source": [
    "### LDA 분석"
   ]
  },
  {
   "cell_type": "markdown",
   "id": "01d207e4-a939-4466-bc2f-af8da9bbef69",
   "metadata": {},
   "source": [
    "##### 문장 벡터화"
   ]
  },
  {
   "cell_type": "code",
   "execution_count": 8,
   "id": "ce070acc-81dc-4ca9-80a1-185883e05bb8",
   "metadata": {
    "tags": []
   },
   "outputs": [],
   "source": [
    "from gensim.corpora import Dictionary"
   ]
  },
  {
   "cell_type": "code",
   "execution_count": 9,
   "id": "dc2827d9-40bb-4e4b-a15c-967386393183",
   "metadata": {
    "tags": []
   },
   "outputs": [
    {
     "data": {
      "text/plain": [
       "<gensim.corpora.dictionary.Dictionary at 0x1471bb3ad90>"
      ]
     },
     "execution_count": 9,
     "metadata": {},
     "output_type": "execute_result"
    }
   ],
   "source": [
    "# df_review_negative dictionary\n",
    "dictionary = Dictionary(df_review_negative[['replaced_review']].values)\n",
    "dictionary"
   ]
  },
  {
   "cell_type": "code",
   "execution_count": 10,
   "id": "404d4eb5-6d0a-476a-8a0b-32eca97eff8e",
   "metadata": {
    "tags": []
   },
   "outputs": [
    {
     "data": {
      "text/plain": [
       "[(3, 1)]"
      ]
     },
     "execution_count": 10,
     "metadata": {},
     "output_type": "execute_result"
    }
   ],
   "source": [
    "dictionary.doc2bow(df_review_negative[['replaced_review']].values[3])"
   ]
  },
  {
   "cell_type": "code",
   "execution_count": 11,
   "id": "2088e0ba-f9ed-4d6e-9901-5833b4f50d1d",
   "metadata": {
    "tags": []
   },
   "outputs": [],
   "source": [
    "# dictionary에 의한 한글 문장을 벡터화 변환\n",
    "corpus_list = list()\n",
    "for sentence in df_review_negative[['replaced_review']].values :\n",
    "  vectors = dictionary.doc2bow(sentence)\n",
    "  corpus_list.append(vectors)"
   ]
  },
  {
   "cell_type": "code",
   "execution_count": 12,
   "id": "55d2d2ce-e455-46e4-96aa-14450e7b3211",
   "metadata": {
    "tags": []
   },
   "outputs": [],
   "source": [
    "df_review_negative['문장벡터화'] = corpus_list"
   ]
  },
  {
   "cell_type": "code",
   "execution_count": 13,
   "id": "15ef6da6-9d6b-4ae5-ace9-4a09f2ce408e",
   "metadata": {
    "tags": []
   },
   "outputs": [
    {
     "data": {
      "text/plain": [
       "Index(['Unnamed: 0', '_id', 'product_name', 'review_writer', 'review_date',\n",
       "       'review_star', 'review_content', 'tokenizer_review', 'replaced_review',\n",
       "       '문장벡터화'],\n",
       "      dtype='object')"
      ]
     },
     "execution_count": 13,
     "metadata": {},
     "output_type": "execute_result"
    }
   ],
   "source": [
    "df_review_negative.columns"
   ]
  },
  {
   "cell_type": "markdown",
   "id": "d1a3749e-a02d-4899-a122-45b09e27b8a9",
   "metadata": {},
   "source": [
    "##### 토픽 잡기"
   ]
  },
  {
   "cell_type": "code",
   "execution_count": 14,
   "id": "7d3e2ca9-a9e1-4a06-b278-08a08ccd7094",
   "metadata": {
    "tags": []
   },
   "outputs": [],
   "source": [
    "from gensim.models import LdaModel"
   ]
  },
  {
   "cell_type": "code",
   "execution_count": 15,
   "id": "683ae0a6-8deb-49ca-82c7-cb7260c4729c",
   "metadata": {
    "tags": []
   },
   "outputs": [],
   "source": [
    "lda_model = LdaModel(corpus=corpus_list, id2word=dictionary, num_topics=5)"
   ]
  },
  {
   "cell_type": "code",
   "execution_count": 16,
   "id": "b16eaf94-419c-4f65-8de4-40833ec370ad",
   "metadata": {
    "tags": []
   },
   "outputs": [
    {
     "data": {
      "text/plain": [
       "[(0,\n",
       "  '0.073*\"배송 느리다 성능 성능 뛰어나다 유통 기한 기한 넉넉하다 배송 느리다\" + 0.072*\"줄줄\" + 0.072*\"제품 찌그러지다 해외 배송 믿다\" + 0.072*\"남성 32 사무직 직장인 5년 대리 수험생 도움 싶다 구매 느끼다\"'),\n",
       " (1,\n",
       "  '0.101*\"주문 해외 구매 대행 제품 반품 안되다 연락 안되다 차다 어이없다\" + 0.056*\"제품 루테인 건강 동시 건강 도움 2조 구입 유효 기간 2023년 9월 23일 이정 유효 기간 충분하다 배송 포장 상태 깜짝 놀라다 건강 보조 식품 제품 싸다 박스 포장 쿠팡 로켓 배송 비닐 포장 지로 포장 제품 어보 안좋다 예감 역쉬 제품 포장 터지다 포장 제도 이렇다 상태 배송 세균 주문 제품 바꾸다 쿠팡 체험 이벤트 상품 무료 제공 작성 구매 후기\" + 0.055*\"냄새 냄새 궁금하다 찝찝하다 속도 안좋다 아프다\" + 0.055*\"이유 종근당 제품 문해 혈압 낮아지다 꾸다 1년 그렇다 제품 다시 바꾸다 꾸준하다 복용 좋아지다 기대하다\"'),\n",
       " (2,\n",
       "  '0.116*\"배송 빨르다 성능 성능 별로 유통 기한 기한 넉넉하다 박스 규칙 혈압 측정 복용 전과 복용 개월차 별다르다 개선\" + 0.115*\"싸다 구입 좀쌀 피부 가려움 일어나서 중지 2일 중지 가려움증 성분 구입 19000원 택배 5만원\" + 0.044*\"기존 국내 제품 공구 판매 비싸다 성분 복용 해봤다 트러블\" + 0.044*\"0원 구매 쿄릭홍국 제품 품절 나서다 구매 몰리다 갑자기 가격 만원 올리다 판매 저렴하다 링크 남다 구매 하렵니\"'),\n",
       " (3,\n",
       "  '0.147*\"배송 느리다 성능 성능 뛰어나다 유통 기한 기한 넉넉하다 배송 느리다\" + 0.056*\"배송 빨르다 성능 성능 별로 유통 기한 기한 넉넉하다 박스 규칙 혈압 측정 복용 전과 복용 개월차 별다르다 개선\" + 0.056*\"대웅제약 우루사 알려지다 믿다 구매 판매 제조 코스 맥스 바이오 우쨋 먹기 재다 매다 병원 건강 안좋다 신경 써다\" + 0.056*\"검사 결과 크다 변화\"'),\n",
       " (4,\n",
       "  '0.120*\"먹기 혈액 검사 비교 해보다 레스 트롤 수치 감소 감마 수치 상승 야하다 양제 정확하다 상관관계 알다 의심 상황 복용 쉬다 기간 야하다\" + 0.120*\"택배 박스 젖다 제품 괜찬을줄 안다 약품 아니다 건강 식품 관리 보관 상태 중요 제품 박스 제품 젖다 괜찬을줄알 박스 개봉 해보다 박스 눌렸는 알약 튀어 벗기다 정말 제품 싸다 가격 아니다 다시 반품\" + 0.082*\"별로 좋다 사다 알약 넘다 넘어가다 걸리다 마냥 불편하다 알약 녹차 추출 물다 맞다 카페인 장기간 복용 우려 손상 손상 모르다 끊음 다이어트 쓰다 인용 청소년 사면 낭패\" + 0.045*\"0원 구매 쿄릭홍국 제품 품절 나서다 구매 몰리다 갑자기 가격 만원 올리다 판매 저렴하다 링크 남다 구매 하렵니\"')]"
      ]
     },
     "execution_count": 16,
     "metadata": {},
     "output_type": "execute_result"
    }
   ],
   "source": [
    "lda_model.print_topics(num_words=4)"
   ]
  },
  {
   "cell_type": "markdown",
   "id": "e73644c5-531d-4dbe-a99b-832f2dc5193c",
   "metadata": {},
   "source": [
    "##### 토픽 분석\n",
    "- review_negative.csv 토픽 분석\n",
    "- 토픽 수는 5으로 가정"
   ]
  },
  {
   "cell_type": "markdown",
   "id": "9e0f4888-5701-4dde-a1ec-b52dcdfb682c",
   "metadata": {},
   "source": [
    "##### LDA 시각화"
   ]
  },
  {
   "cell_type": "code",
   "execution_count": 25,
   "id": "3fbf590a-cbd6-411e-a900-da59dc414f8d",
   "metadata": {
    "collapsed": true,
    "jupyter": {
     "outputs_hidden": true
    },
    "tags": []
   },
   "outputs": [
    {
     "name": "stdout",
     "output_type": "stream",
     "text": [
      "Requirement already satisfied: pyLDAvis in c:\\users\\04-02\\anaconda3\\lib\\site-packages (3.4.1)\n",
      "Requirement already satisfied: numpy>=1.24.2 in c:\\users\\04-02\\anaconda3\\lib\\site-packages (from pyLDAvis) (1.24.3)\n",
      "Requirement already satisfied: scipy in c:\\users\\04-02\\anaconda3\\lib\\site-packages (from pyLDAvis) (1.10.1)\n",
      "Requirement already satisfied: pandas>=2.0.0 in c:\\users\\04-02\\anaconda3\\lib\\site-packages (from pyLDAvis) (2.1.1)\n",
      "Requirement already satisfied: joblib>=1.2.0 in c:\\users\\04-02\\anaconda3\\lib\\site-packages (from pyLDAvis) (1.2.0)\n",
      "Requirement already satisfied: jinja2 in c:\\users\\04-02\\anaconda3\\lib\\site-packages (from pyLDAvis) (3.1.2)\n",
      "Requirement already satisfied: numexpr in c:\\users\\04-02\\anaconda3\\lib\\site-packages (from pyLDAvis) (2.8.4)\n",
      "Requirement already satisfied: funcy in c:\\users\\04-02\\anaconda3\\lib\\site-packages (from pyLDAvis) (2.0)\n",
      "Requirement already satisfied: scikit-learn>=1.0.0 in c:\\users\\04-02\\anaconda3\\lib\\site-packages (from pyLDAvis) (1.2.2)\n",
      "Requirement already satisfied: gensim in c:\\users\\04-02\\anaconda3\\lib\\site-packages (from pyLDAvis) (4.3.0)\n",
      "Requirement already satisfied: setuptools in c:\\users\\04-02\\anaconda3\\lib\\site-packages (from pyLDAvis) (67.8.0)\n",
      "Requirement already satisfied: python-dateutil>=2.8.2 in c:\\users\\04-02\\appdata\\roaming\\python\\python311\\site-packages (from pandas>=2.0.0->pyLDAvis) (2.8.2)\n",
      "Requirement already satisfied: pytz>=2020.1 in c:\\users\\04-02\\anaconda3\\lib\\site-packages (from pandas>=2.0.0->pyLDAvis) (2022.7)\n",
      "Requirement already satisfied: tzdata>=2022.1 in c:\\users\\04-02\\anaconda3\\lib\\site-packages (from pandas>=2.0.0->pyLDAvis) (2023.3)\n",
      "Requirement already satisfied: threadpoolctl>=2.0.0 in c:\\users\\04-02\\anaconda3\\lib\\site-packages (from scikit-learn>=1.0.0->pyLDAvis) (2.2.0)\n",
      "Requirement already satisfied: smart-open>=1.8.1 in c:\\users\\04-02\\anaconda3\\lib\\site-packages (from gensim->pyLDAvis) (5.2.1)\n",
      "Requirement already satisfied: FuzzyTM>=0.4.0 in c:\\users\\04-02\\anaconda3\\lib\\site-packages (from gensim->pyLDAvis) (2.0.5)\n",
      "Requirement already satisfied: MarkupSafe>=2.0 in c:\\users\\04-02\\anaconda3\\lib\\site-packages (from jinja2->pyLDAvis) (2.1.1)\n",
      "Requirement already satisfied: pyfume in c:\\users\\04-02\\anaconda3\\lib\\site-packages (from FuzzyTM>=0.4.0->gensim->pyLDAvis) (0.2.25)\n",
      "Requirement already satisfied: six>=1.5 in c:\\users\\04-02\\appdata\\roaming\\python\\python311\\site-packages (from python-dateutil>=2.8.2->pandas>=2.0.0->pyLDAvis) (1.16.0)\n",
      "Requirement already satisfied: simpful in c:\\users\\04-02\\anaconda3\\lib\\site-packages (from pyfume->FuzzyTM>=0.4.0->gensim->pyLDAvis) (2.11.0)\n",
      "Requirement already satisfied: fst-pso in c:\\users\\04-02\\anaconda3\\lib\\site-packages (from pyfume->FuzzyTM>=0.4.0->gensim->pyLDAvis) (1.8.1)\n",
      "Requirement already satisfied: miniful in c:\\users\\04-02\\anaconda3\\lib\\site-packages (from fst-pso->pyfume->FuzzyTM>=0.4.0->gensim->pyLDAvis) (0.0.6)\n",
      "Note: you may need to restart the kernel to use updated packages.\n"
     ]
    }
   ],
   "source": [
    "# %pip install pyLDAvis"
   ]
  },
  {
   "cell_type": "code",
   "execution_count": 19,
   "id": "fcd4a836-44c8-4993-aa82-b2f784b3d005",
   "metadata": {
    "tags": []
   },
   "outputs": [],
   "source": [
    "import pyLDAvis.gensim_models"
   ]
  },
  {
   "cell_type": "code",
   "execution_count": 20,
   "id": "e3ec6520-26ec-4270-95d5-d442a900064e",
   "metadata": {
    "tags": []
   },
   "outputs": [],
   "source": [
    "pyLDAvis.enable_notebook() # 일반적인 python에선 불필요\n",
    "result_visualized = pyLDAvis.gensim_models.prepare(lda_model, corpus_list, dictionary)"
   ]
  },
  {
   "cell_type": "code",
   "execution_count": 21,
   "id": "6aeaca2f-757b-4ec6-beb7-b0b490c8df20",
   "metadata": {
    "tags": []
   },
   "outputs": [
    {
     "data": {
      "text/html": [
       "\n",
       "<link rel=\"stylesheet\" type=\"text/css\" href=\"https://cdn.jsdelivr.net/gh/bmabey/pyLDAvis@3.4.0/pyLDAvis/js/ldavis.v1.0.0.css\">\n",
       "\n",
       "\n",
       "<div id=\"ldavis_el2817614048397988006831836166\" style=\"background-color:white;\"></div>\n",
       "<script type=\"text/javascript\">\n",
       "\n",
       "var ldavis_el2817614048397988006831836166_data = {\"mdsDat\": {\"x\": [0.07741823841464354, -0.02267011716044298, -0.05474812125420056], \"y\": [0.0137140534759639, -0.05650403057884541, 0.04278997710288151], \"topics\": [1, 2, 3], \"cluster\": [1, 1, 1], \"Freq\": [36.95556654328054, 31.82477460300258, 31.21965885371688]}, \"tinfo\": {\"Term\": [\"\\ubc30\\uc1a1 \\ub290\\ub9ac\\ub2e4 \\uc131\\ub2a5 \\uc131\\ub2a5 \\ub6f0\\uc5b4\\ub098\\ub2e4 \\uc720\\ud1b5 \\uae30\\ud55c \\uae30\\ud55c \\ub109\\ub109\\ud558\\ub2e4 \\ubc30\\uc1a1 \\ub290\\ub9ac\\ub2e4\", \"\\ubc30\\uc1a1 \\ube68\\ub974\\ub2e4 \\uc131\\ub2a5 \\uc131\\ub2a5 \\ubcc4\\ub85c \\uc720\\ud1b5 \\uae30\\ud55c \\uae30\\ud55c \\ub109\\ub109\\ud558\\ub2e4 \\ubc15\\uc2a4 \\uaddc\\uce59 \\ud608\\uc555 \\uce21\\uc815 \\ubcf5\\uc6a9 \\uc804\\uacfc \\ubcf5\\uc6a9 \\uac1c\\uc6d4\\ucc28 \\ubcc4\\ub2e4\\ub974\\ub2e4 \\uac1c\\uc120\", \"\\ud0dd\\ubc30 \\ubc15\\uc2a4 \\uc816\\ub2e4 \\uc81c\\ud488 \\uad1c\\ucc2c\\uc744\\uc904 \\uc548\\ub2e4 \\uc57d\\ud488 \\uc544\\ub2c8\\ub2e4 \\uac74\\uac15 \\uc2dd\\ud488 \\uad00\\ub9ac \\ubcf4\\uad00 \\uc0c1\\ud0dc \\uc911\\uc694 \\uc81c\\ud488 \\ubc15\\uc2a4 \\uc81c\\ud488 \\uc816\\ub2e4 \\uad1c\\ucc2c\\uc744\\uc904\\uc54c \\ubc15\\uc2a4 \\uac1c\\ubd09 \\ud574\\ubcf4\\ub2e4 \\ubc15\\uc2a4 \\ub20c\\ub838\\ub294 \\uc54c\\uc57d \\ud280\\uc5b4 \\ubc97\\uae30\\ub2e4 \\uc815\\ub9d0 \\uc81c\\ud488 \\uc2f8\\ub2e4 \\uac00\\uaca9 \\uc544\\ub2c8\\ub2e4 \\ub2e4\\uc2dc \\ubc18\\ud488\", \"\\uba39\\uae30 \\ud608\\uc561 \\uac80\\uc0ac \\ube44\\uad50 \\ud574\\ubcf4\\ub2e4 \\ub808\\uc2a4 \\ud2b8\\ub864 \\uc218\\uce58 \\uac10\\uc18c \\uac10\\ub9c8 \\uc218\\uce58 \\uc0c1\\uc2b9 \\uc57c\\ud558\\ub2e4 \\uc591\\uc81c \\uc815\\ud655\\ud558\\ub2e4 \\uc0c1\\uad00\\uad00\\uacc4 \\uc54c\\ub2e4 \\uc758\\uc2ec \\uc0c1\\ud669 \\ubcf5\\uc6a9 \\uc26c\\ub2e4 \\uae30\\uac04 \\uc57c\\ud558\\ub2e4\", \"\\uac80\\uc0ac \\uacb0\\uacfc \\ud06c\\ub2e4 \\ubcc0\\ud654\", \"\\ub300\\uc6c5\\uc81c\\uc57d \\uc6b0\\ub8e8\\uc0ac \\uc54c\\ub824\\uc9c0\\ub2e4 \\ubbff\\ub2e4 \\uad6c\\ub9e4 \\ud310\\ub9e4 \\uc81c\\uc870 \\ucf54\\uc2a4 \\ub9e5\\uc2a4 \\ubc14\\uc774\\uc624 \\uc6b0\\uca0b \\uba39\\uae30 \\uc7ac\\ub2e4 \\ub9e4\\ub2e4 \\ubcd1\\uc6d0 \\uac74\\uac15 \\uc548\\uc88b\\ub2e4 \\uc2e0\\uacbd \\uc368\\ub2e4\", \"\\uc904\\uc904\", \"\\uc2f8\\ub2e4 \\uad6c\\uc785 \\uc880\\uc300 \\ud53c\\ubd80 \\uac00\\ub824\\uc6c0 \\uc77c\\uc5b4\\ub098\\uc11c \\uc911\\uc9c0 2\\uc77c \\uc911\\uc9c0 \\uac00\\ub824\\uc6c0\\uc99d \\uc131\\ubd84 \\uad6c\\uc785 19000\\uc6d0 \\ud0dd\\ubc30 5\\ub9cc\\uc6d0\", \"0\\uc6d0 \\uad6c\\ub9e4 \\ucfc4\\ub9ad\\ud64d\\uad6d \\uc81c\\ud488 \\ud488\\uc808 \\ub098\\uc11c\\ub2e4 \\uad6c\\ub9e4 \\ubab0\\ub9ac\\ub2e4 \\uac11\\uc790\\uae30 \\uac00\\uaca9 \\ub9cc\\uc6d0 \\uc62c\\ub9ac\\ub2e4 \\ud310\\ub9e4 \\uc800\\ub834\\ud558\\ub2e4 \\ub9c1\\ud06c \\ub0a8\\ub2e4 \\uad6c\\ub9e4 \\ud558\\ub835\\ub2c8\", \"\\uc8fc\\ubb38 \\ud574\\uc678 \\uad6c\\ub9e4 \\ub300\\ud589 \\uc81c\\ud488 \\ubc18\\ud488 \\uc548\\ub418\\ub2e4 \\uc5f0\\ub77d \\uc548\\ub418\\ub2e4 \\ucc28\\ub2e4 \\uc5b4\\uc774\\uc5c6\\ub2e4\", \"\\uc544\\uc27d\\ub2e4 \\uc548\\ucabd \\ub0a8\\ud3b8 \\ubcf5\\uc6a9 \\uba39\\uae30\", \"\\uae30\\uc874 \\uad6d\\ub0b4 \\uc81c\\ud488 \\uacf5\\uad6c \\ud310\\ub9e4 \\ube44\\uc2f8\\ub2e4 \\uc131\\ubd84 \\ubcf5\\uc6a9 \\ud574\\ubd24\\ub2e4 \\ud2b8\\ub7ec\\ube14\", \"\\uc7a5\\uae30 \\uc54c\\ub2e4 \\uc88b\\ub2e4 \\uc88b\\ub2e4 \\uc88b\\ub2e4 \\uc88b\\ub2e4 \\uc88b\\ub2e4 \\uc88b\\ub2e4 \\uc88b\\ub2e4 \\uc88b\\ub2e4\", \"\\ubcf5\\uc6a9 \\uc54c\\ub2e4 \\uadf8\\ub2e4\\uc9c0 \\ud06c\\ub2e4 \\ubcc0\\ud654 \\ubaa8\\ub974\\ub2e4\", \"\\ub0c4\\uc0c8 \\ub0c4\\uc0c8 \\uad81\\uae08\\ud558\\ub2e4 \\ucc1d\\ucc1d\\ud558\\ub2e4 \\uc18d\\ub3c4 \\uc548\\uc88b\\ub2e4 \\uc544\\ud504\\ub2e4\", \"\\uac00\\uaca9 \\uc2f8\\ub2e4 \\ubc30\\uc1a1 \\ube68\\ub974\\ub2e4 \\ubc30\\uc1a1 \\ube60\\ub974\\ub2e4 \\ube44\\ub2e4 \\uc800\\ub834\\ud558\\ub2e4\", \"\\uac00\\uaca9 \\uc2f8\\ub2e4 \\uc0ac\\ub2e4 \\ubc30\\uc1a1 \\ube68\\ub974\\ub2e4\", \"\\ucb48\\uc6b1 \\uc81c\\ud488 11 \\uc808\\ub54c \\ud560\\uc778 \\uc8fc\\ubb38 \\uc0c1\\uc138 \\uc0c1\\uc138\", \"\\ubc30\\uc1a1 \\uc798\\ubabb \\uac74\\uc9c0\\ub2e4 \\uadf8\\ub807\\ub2e4 \\ubc15\\uc2a4 \\ucc0c\\uadf8\\ub7ec\\uc9c0\\ub2e4 \\ucc22\\uae30\\ub2e4 \\ud280\\uc5b4\\ub098\\uc624\\ub2e4 \\uba87\\uac1c \\uadc0\\ucc2e\\ub2e4 \\ubc84\\ub9ac\\ub2e4 \\uc774\\ub807\\ub2e4 \\uc2e0\\uacbd \\uc368\\uc8fc\\ub2e4 \\uc9dc\\uc99d\\ub098\\ub2e4\", \"\\ubc30\\uc1a1 \\uc131\\ub2a5 \\uc131\\ub2a5 \\ubcc4\\ub85c \\uc720\\ud1b5 \\uae30\\ud55c \\uae30\\ud55c \\uc9e7\\ub2e4\", \"\\uc778\\uc9c0\\uc9c8 \\uc88b\\ub2e4 \\uc544\\uc2dc \\ub2e5\\ud130 \\ud06c\\ub9b4 \\uc624\\uc77c\\ud314 \\ud45c\\ud604 \\ud06c\\ub9b4 \\uc778\\uc9c0\\uc9c8 \\ub808\\uc2dc\\ud2f4 \\uc2f8\\ub2e4 \\ud568\\ub7c9 \\ub192\\ub2e4 \\ubd81\\uadf9\\ud574 \\uc0dd\\ud0dc\\uacc4 \\uc0b4\\ub9ac\\ub2e4 \\uc0c1\\uc138 \\uc0c1\\uc138\", \"\\uc720\\ud1b5 \\uae30\\ud55c \\ud3ec\\uc7a5 \\uc0c1\\ud0dc\", \"\\ubc30\\uc1a1 \\uc131\\ub2a5 \\uc131\\ub2a5 \\ubcc4\\ub85c \\uc720\\ud1b5 \\uae30\\ud55c \\uac10\\ub9c8 \\ub9ac\\ub180\\ub80c\\uc0b0 \\ud6a8\\ub2a5 \\uc5b4\\ub5bb\\ub2e4 \\uc81c\\uc57d\\ud68c\\uc0ac \\uc81c\\ud488 \\uc5ec\\uc131 \\uac31\\ub144\\uae30 \\uc720\\ub3c5 \\uc0c1\\ud488 \\uac00\\uaca9 \\ub192\\ub2e4 \\ud68c\\uc0ac \\ube44\\uad50 \\uac10\\ub9c8 \\ub9ac\\ub180\\ub80c\\uc0b0 \\ud568\\uc720 10% \\ub192\\ub2e4 \\uac00\\uaca9 \\ub192\\ub2e4 \\ud68c\\uc0ac \\uc81c\\ud488 40,000\\uc6d0 \\uac00\\uaca9 \\uc0c8\\ub2e4 \\ubaa8\\ub974\\ub2e4 30% \\uc62c\\ub9ac\\ub2e4 \\ub1a8\\ub124 90 \\ucea1\\uc290 \\ud310\\ub9e4 60 \\ucea1\\uc290 \\uc904\\uc774\\ub2e4 \\uad18\\uc538\\ud558\\ub2e4 \\ub2e4\\uc2dc\\ub2e4 \\uad6c\\uc785 \\uc0c1\\uc138 \\uc0c1\\uc138 \\uc0c1\\uc138\", \"\\uac00\\uaca9 \\uad1c\\ucc2e\\ub2e4 \\ubc30\\uc1a1\", \"\\uac00\\uaca9 \\ub9cc\\uc6d0\", \"\\uc0ac\\ub2e4 \\ubc30\\uc1a1 \\uc0c1\\ud0dc \\uae30\\ubd84 \\uc88b\\ub2e4\", \"\\ubc30\\uc1a1 \\ube68\\ub974\\ub2e4 \\uc131\\ub2a5 \\uc131\\ub2a5 \\ubcc4\\ub85c \\uc720\\ud1b5 \\uae30\\ud55c \\uae30\\ud55c \\ub109\\ub109\\ud558\\ub2e4 \\uc804\\ud600\", \"\\uc88b\\uc544\\uc9c0\\ub2e4 \\ubaa8\\ub974\\ub2e4 \\uc88b\\uc544\\uc9c0\\ub2e4 \\ubaa8\\ub974\\ub2e4 \\ubd80\\uc791\\uc6a9 \\uc548\\ub098 \\ub294\\uac78 \\uc5ec\\uae30\\ub2e4 \\uc57c\\ud558\\ub2e4\", \"\\ubcc4\\ub85c \\uc88b\\ub2e4 \\uc0ac\\ub2e4 \\uc54c\\uc57d \\ub118\\ub2e4 \\ub118\\uc5b4\\uac00\\ub2e4 \\uac78\\ub9ac\\ub2e4 \\ub9c8\\ub0e5 \\ubd88\\ud3b8\\ud558\\ub2e4 \\uc54c\\uc57d \\ub179\\ucc28 \\ucd94\\ucd9c \\ubb3c\\ub2e4 \\ub9de\\ub2e4 \\uce74\\ud398\\uc778 \\uc7a5\\uae30\\uac04 \\ubcf5\\uc6a9 \\uc6b0\\ub824 \\uc190\\uc0c1 \\uc190\\uc0c1 \\ubaa8\\ub974\\ub2e4 \\ub04a\\uc74c \\ub2e4\\uc774\\uc5b4\\ud2b8 \\uc4f0\\ub2e4 \\uc778\\uc6a9 \\uccad\\uc18c\\ub144 \\uc0ac\\uba74 \\ub0ad\\ud328\", \"\\uc131\\ub2a5 \\uc131\\ub2a5 \\ub6f0\\uc5b4\\ub098\\ub2e4\", \"\\ubc30\\uc1a1 \\ube68\\ub974\\ub2e4 \\uc131\\ub2a5 \\uc131\\ub2a5 \\ubcc4\\ub85c \\uc720\\ud1b5 \\uae30\\ud55c \\uae30\\ud55c \\ub109\\ub109\\ud558\\ub2e4 \\ubc15\\uc2a4 \\uaddc\\uce59 \\ud608\\uc555 \\uce21\\uc815 \\ubcf5\\uc6a9 \\uc804\\uacfc \\ubcf5\\uc6a9 \\uac1c\\uc6d4\\ucc28 \\ubcc4\\ub2e4\\ub974\\ub2e4 \\uac1c\\uc120\", \"\\ud0dd\\ubc30 \\ubc15\\uc2a4 \\uc816\\ub2e4 \\uc81c\\ud488 \\uad1c\\ucc2c\\uc744\\uc904 \\uc548\\ub2e4 \\uc57d\\ud488 \\uc544\\ub2c8\\ub2e4 \\uac74\\uac15 \\uc2dd\\ud488 \\uad00\\ub9ac \\ubcf4\\uad00 \\uc0c1\\ud0dc \\uc911\\uc694 \\uc81c\\ud488 \\ubc15\\uc2a4 \\uc81c\\ud488 \\uc816\\ub2e4 \\uad1c\\ucc2c\\uc744\\uc904\\uc54c \\ubc15\\uc2a4 \\uac1c\\ubd09 \\ud574\\ubcf4\\ub2e4 \\ubc15\\uc2a4 \\ub20c\\ub838\\ub294 \\uc54c\\uc57d \\ud280\\uc5b4 \\ubc97\\uae30\\ub2e4 \\uc815\\ub9d0 \\uc81c\\ud488 \\uc2f8\\ub2e4 \\uac00\\uaca9 \\uc544\\ub2c8\\ub2e4 \\ub2e4\\uc2dc \\ubc18\\ud488\", \"\\uba39\\uae30 \\ud608\\uc561 \\uac80\\uc0ac \\ube44\\uad50 \\ud574\\ubcf4\\ub2e4 \\ub808\\uc2a4 \\ud2b8\\ub864 \\uc218\\uce58 \\uac10\\uc18c \\uac10\\ub9c8 \\uc218\\uce58 \\uc0c1\\uc2b9 \\uc57c\\ud558\\ub2e4 \\uc591\\uc81c \\uc815\\ud655\\ud558\\ub2e4 \\uc0c1\\uad00\\uad00\\uacc4 \\uc54c\\ub2e4 \\uc758\\uc2ec \\uc0c1\\ud669 \\ubcf5\\uc6a9 \\uc26c\\ub2e4 \\uae30\\uac04 \\uc57c\\ud558\\ub2e4\", \"\\uc544\\uc27d\\ub2e4 \\uc548\\ucabd \\ub0a8\\ud3b8 \\ubcf5\\uc6a9 \\uba39\\uae30\", \"\\uae30\\uc874 \\uad6d\\ub0b4 \\uc81c\\ud488 \\uacf5\\uad6c \\ud310\\ub9e4 \\ube44\\uc2f8\\ub2e4 \\uc131\\ubd84 \\ubcf5\\uc6a9 \\ud574\\ubd24\\ub2e4 \\ud2b8\\ub7ec\\ube14\", \"\\ubcc4\\ub85c \\uc88b\\ub2e4 \\uc0ac\\ub2e4 \\uc54c\\uc57d \\ub118\\ub2e4 \\ub118\\uc5b4\\uac00\\ub2e4 \\uac78\\ub9ac\\ub2e4 \\ub9c8\\ub0e5 \\ubd88\\ud3b8\\ud558\\ub2e4 \\uc54c\\uc57d \\ub179\\ucc28 \\ucd94\\ucd9c \\ubb3c\\ub2e4 \\ub9de\\ub2e4 \\uce74\\ud398\\uc778 \\uc7a5\\uae30\\uac04 \\ubcf5\\uc6a9 \\uc6b0\\ub824 \\uc190\\uc0c1 \\uc190\\uc0c1 \\ubaa8\\ub974\\ub2e4 \\ub04a\\uc74c \\ub2e4\\uc774\\uc5b4\\ud2b8 \\uc4f0\\ub2e4 \\uc778\\uc6a9 \\uccad\\uc18c\\ub144 \\uc0ac\\uba74 \\ub0ad\\ud328\", \"\\uc2e0\\ub791 \\uc0ac\\ub2e4 \\ub808\\uc2dc\\ud2f4 \\uac04\\uc9c0\\ub7fd\\ub2e4 \\uae01\\ub2e4 \\ub300\\ub2e4 \\uc2e0\\ub791 \\ub808\\uc2dc\\ud2f4 \\ubd80\\uc791\\uc6a9 \\uac80\\uc0c9 \\ud574\\ubcf4\\ub2e4 \\uac04\\uc9c0\\ub7fd\\ub2e4 \\uc6c0\\uc99d \\ub450\\ub4dc\\ub7ec\\uae30 \\ubd80\\uc791\\uc6a9 \\uac00\\ub824\\uc6c0\\uc99d \\ube68\\uac1b\\ub2e4 \\uc88b\\uc544\\uc9c0\\ub2e4 \\uccb4\\uc9c8 \\ub2e4\\ub974\\ub2e4 \\ud310\\ub2e8 \\ud06c\\ub2e4 \\uc0c8\\ub07c\\uc190\\uac00\\ub77d \\ub9c8\\ub514 \\ud569\\uce58\\ub2e4\", \"\\uac00\\uaca9 \\uad1c\\ucc2e\\ub2e4 \\ubc30\\uc1a1 \\ube0c\\ub9ac \\uce90\\ub098\\ub2e4 \\uac10\\ub9c8 \\ub9ac\\ub180\\ub80c\\uc0b0 \\ubcf4\\ub77c \\uc624\\uc77c \\ub2ec\\ub9de\\uc774\\uaf43 \\uc790\\uc720\", \"\\ucfe0\\ud321 \\ud310\\ub9e4 \\uc81c\\ud488 \\uac00\\uaca9 \\uc218\\ub7c9 \\ud5c8\\uc704 \\uc815\\ubcf4 \\ub178\\ucd9c\\ud558\\ub2e4 \\uacb0\\uc81c \\ub098\\ub2c8 \\ud310\\ub9e4 \\uc790\\ub3c4 \\ubc1c\\uc1a1 \\ucfe0\\ud321 \\uc774\\uc720 \\uc218\\ub839 \\uc608\\uc815 \\ub0a0\\uc9dc \\ub2e4\\uac00\\uc624\\ub2e4 \\ucde8\\uc18c \\ud544\\uc694\\ud558\\ub2e4 \\ub0a0\\uc9dc \\uc784\\ubc15 \\uae09\\ud558\\ub2e4 \\ube44\\uc2f8\\ub2e4 \\uc6b8\\ub2e4 \\uaca8\\uc790 \\uba39\\uae30 \\uc790\\uc0ac \\ub85c\\ucf13 \\ubc30\\uc1a1 \\uc81c\\ud488 \\uad6c\\ub9e4 \\uc8fc\\ubb38 \\ub4e4\\uc5b4\\uc624\\ub2e4 \\ud310\\ub9e4 \\ubc1c\\uc1a1 \\uc815\\uc0c1 \\uc0ac\\uc720 \\uace0\\uac1d \\uace0\\uc9c0 \\uc0c1\\uc2dd \\uc544\\ub2c8\\ub2e4 \\uc774\\ub807\\ub2e4 \\uae30\\ubcf8 \\ub9e4\\ub274\\uc5bc \\uad50\\uc721 \\uc548\\ub418\\ub2e4 \\uac74\\uc9c0\\ub2e4 \\uc758\\ub3c4 \\ubc14\\uc778 \\uc5b4\\ub5bb\\ub2e4 \\uc8fc\\ubb38 \\uc9c0\\ub098\\ub2e4 \\uc18c\\uc2dd \\ud310\\ub9e4 \\ubb38\\uc758 \\ucfe0\\ud321 \\ubc30\\uc1a1 \\ubd88\\uac00 \\ucfe0\\ud321 \\ubb38\\uc758 \\ucde8\\uc18c \\uacbd\\uc704 \\ud5c8\\uc704 \\ub178\\ucd9c \\ud310\\ub9e4 \\uc758\\ubb34\\ubd88\\uc774\\ud589 \\ud30c\\uc545 \\uc5f0\\ub77d \\ubd80\\ud0c1 \\ucde8\\uc18c \\ubb38\\uc790 \\ub2ec\\ub791 \\uc815\\uc0c1\", \"\\ubc15\\uc2a4 \\uc655\\ucc3d \\ud30c\\uc190 \\ucc22\\uc5b4\\uc9c0\\ub2e4 \\ubc30\\uc1a1 \\ub3fc\\ub2e4 \\uae30\\ubd84 \\uc88b\\ub2e4\", \"\\uc81c\\ud488 \\ucc0c\\uadf8\\ub7ec\\uc9c0\\ub2e4 \\ud574\\uc678 \\ubc30\\uc1a1 \\ubbff\\ub2e4\", \"\\uc54c\\uc57d \\ub179\\ub2e4 \\ub3fc\\ub2e4 \\ub3fc\\ub2e4 \\uad73\\ub2e4 \\ube60\\uc9c0\\ub2e4 \\ubcd1\\uc18d \\ub369\\uc5b4\\ub9ac \\ubb49\\uce58\\ub2e4 \\ubc84\\ub9ac\\ub2e4 \\ubc18\\ud488 \\uadc0\\ucc2e\\ub2e4\", \"\\ubc30\\uc1a1 \\uc0c1\\ud488 \\uc0c1\\uc138\", \"\\uc81c\\ud488 \\ub8e8\\ud14c\\uc778 \\uac74\\uac15 \\ub3d9\\uc2dc \\uac74\\uac15 \\ub3c4\\uc6c0 2\\uc870 \\uad6c\\uc785 \\uc720\\ud6a8 \\uae30\\uac04 2023\\ub144 9\\uc6d4 23\\uc77c \\uc774\\uc815 \\uc720\\ud6a8 \\uae30\\uac04 \\ucda9\\ubd84\\ud558\\ub2e4 \\ubc30\\uc1a1 \\ud3ec\\uc7a5 \\uc0c1\\ud0dc \\uae5c\\uc9dd \\ub180\\ub77c\\ub2e4 \\uac74\\uac15 \\ubcf4\\uc870 \\uc2dd\\ud488 \\uc81c\\ud488 \\uc2f8\\ub2e4 \\ubc15\\uc2a4 \\ud3ec\\uc7a5 \\ucfe0\\ud321 \\ub85c\\ucf13 \\ubc30\\uc1a1 \\ube44\\ub2d0 \\ud3ec\\uc7a5 \\uc9c0\\ub85c \\ud3ec\\uc7a5 \\uc81c\\ud488 \\uc5b4\\ubcf4 \\uc548\\uc88b\\ub2e4 \\uc608\\uac10 \\uc5ed\\uc26c \\uc81c\\ud488 \\ud3ec\\uc7a5 \\ud130\\uc9c0\\ub2e4 \\ud3ec\\uc7a5 \\uc81c\\ub3c4 \\uc774\\ub807\\ub2e4 \\uc0c1\\ud0dc \\ubc30\\uc1a1 \\uc138\\uade0 \\uc8fc\\ubb38 \\uc81c\\ud488 \\ubc14\\uafb8\\ub2e4 \\ucfe0\\ud321 \\uccb4\\ud5d8 \\uc774\\ubca4\\ud2b8 \\uc0c1\\ud488 \\ubb34\\ub8cc \\uc81c\\uacf5 \\uc791\\uc131 \\uad6c\\ub9e4 \\ud6c4\\uae30\", \"\\uc544\\ud504\\ub2e4 \\uc0c1\\ud488 \\uad1c\\ucc2e\\ub2e4 \\ubcf4\\uc774\\ub2e4 \\ub9de\\ub2e4\", \"\\uc608\\uc120 \\ubcf4\\ub77c \\uc9c0\\uc720 \\uad6c\\ub9e4 \\ud574\\ubd24\\ub2e4 \\uc804\\ud600 \\uc0dd\\ub9ac \\uc99d\\ud6c4\\uad70\", \"\\ub0a8\\uc131 32 \\uc0ac\\ubb34\\uc9c1 \\uc9c1\\uc7a5\\uc778 5\\ub144 \\ub300\\ub9ac \\uc218\\ud5d8\\uc0dd \\ub3c4\\uc6c0 \\uc2f6\\ub2e4 \\uad6c\\ub9e4 \\ub290\\ub07c\\ub2e4\", \"\\uc131\\uc7a5 \\ube44\\uc2f8\\ub2e4 \\uc8fc\\ubba8 \\ud5c8\\ub2e4 \\ud06c\\ub2e4 \\uba39\\uc774\\ub2e4 \\uace0\\uc601 \\uc591\\uc81c \\uba39\\uc774\\ub2e4 \\ud06c\\ub2e4 \\uc720\\uc804 \\ud06c\\ub2e4 \\uc560\\uac00 \\ud06c\\ub2e4 \\uc560\\uac00 \\ud06c\\ub2e4 \\uc720\\uc804\\uc790 \\uac70\\ub098 \\ud06c\\ub2e4\", \"\\ubc30\\uc1a1 \\ube68\\ub974\\ub2e4 \\uc131\\ub2a5 \\uc131\\ub2a5 \\ubcc4\\ub85c \\uc720\\ud1b5 \\uae30\\ud55c \\uae30\\ud55c \\ub109\\ub109\\ud558\\ub2e4 \\ubd88\\ud589\\ud558\\ub2e4 \\uc640\\uc774\\ud504 \\ub298\\ub2e4\", \"\\uc131\\ub2a5 \\uc131\\ub2a5 \\ub6f0\\uc5b4\\ub098\\ub2e4\", \"\\ubc30\\uc1a1 \\ube68\\ub974\\ub2e4 \\uc720\\ud1b5 \\uae30\\ud55c \\uc2a4\\ud0a8 \\ucf5c\\ub808\\uc2a4\\ud2f4 \\ud608\\uad00 \\uac74\\uac15 \\ucf5c\\ub808\\uc2a4\\ud14c\\ub864 \\uac74\\uac15 \\ud64d\\uad6d \\ud568\\uc720 \\uc0c1\\uc138\", \"\\ubc30\\uc1a1 \\ube68\\ub974\\ub2e4 \\uc131\\ub2a5 \\uc131\\ub2a5 \\ubcc4\\ub85c \\uc720\\ud1b5 \\uae30\\ud55c \\uae30\\ud55c \\ub109\\ub109\\ud558\\ub2e4 \\uc804\\ud600\", \"\\ubc30\\uc1a1 \\uc131\\ub2a5 \\uc131\\ub2a5 \\ubcc4\\ub85c \\uc720\\ud1b5 \\uae30\\ud55c \\uac10\\ub9c8 \\ub9ac\\ub180\\ub80c\\uc0b0 \\ud6a8\\ub2a5 \\uc5b4\\ub5bb\\ub2e4 \\uc81c\\uc57d\\ud68c\\uc0ac \\uc81c\\ud488 \\uc5ec\\uc131 \\uac31\\ub144\\uae30 \\uc720\\ub3c5 \\uc0c1\\ud488 \\uac00\\uaca9 \\ub192\\ub2e4 \\ud68c\\uc0ac \\ube44\\uad50 \\uac10\\ub9c8 \\ub9ac\\ub180\\ub80c\\uc0b0 \\ud568\\uc720 10% \\ub192\\ub2e4 \\uac00\\uaca9 \\ub192\\ub2e4 \\ud68c\\uc0ac \\uc81c\\ud488 40,000\\uc6d0 \\uac00\\uaca9 \\uc0c8\\ub2e4 \\ubaa8\\ub974\\ub2e4 30% \\uc62c\\ub9ac\\ub2e4 \\ub1a8\\ub124 90 \\ucea1\\uc290 \\ud310\\ub9e4 60 \\ucea1\\uc290 \\uc904\\uc774\\ub2e4 \\uad18\\uc538\\ud558\\ub2e4 \\ub2e4\\uc2dc\\ub2e4 \\uad6c\\uc785 \\uc0c1\\uc138 \\uc0c1\\uc138 \\uc0c1\\uc138\", \"\\ubc30\\uc1a1 \\ub290\\ub9ac\\ub2e4 \\uc131\\ub2a5 \\uc131\\ub2a5 \\ubcc4\\ub85c \\uc720\\ud1b5 \\uae30\\ud55c \\ubcf4\\ub77c \\uc624\\uc77c \\ub2ec\\ub9de\\uc774\\uaf43 \\uc624\\uc77c \\uac31\\ub144\\uae30 \\uc99d\\uc0c1 \\ud6a8\\ub2a5 \\ud68c\\uc0ac \\ube44\\uad50 \\uac10\\ub9c8 \\ub9ac\\ub180\\ub80c\\uc0b0 \\ud568\\uc720 10% \\ub192\\ub2e4 \\uac00\\uaca9 \\uc0c1\\ub2f9\\ud558\\ub2e4 \\ube44\\uc2f8\\ub2e4 \\ud68c\\uc0ac 40,000\\uc6d0 \\uc81c\\ud488 48,000\\uc6d0 \\uac00\\uaca9 \\uc0c8\\ub2e4 \\ubaa8\\ub974\\ub2e4 30% \\uc62c\\ub9ac\\ub2e4 \\ud310\\ub9e4 \\uc904\\uc774\\ub2e4 \\uad18\\uc538\\ud558\\ub2e4 \\uc81c\\ud488 \\uad6c\\uc785 \\uc77c\\ub958 \\ub0b1\\uac1c \\ud3ec\\uc7a5 \\ubcf4\\uad00 \\uc628\\ub3c4 \\uc911\\uc694\\ud558\\ub2e4 \\uc81c\\ud488 \\uc800\\ub834\\ud558\\ub2e4 \\uc6a9\\ub7c9 \\ud3ec\\uc7a5 \\uad6c\\uc785 \\ub0c9\\uc7a5\\uace0 \\ub123\\ub2e4 \\uc0c1\\uc138 \\uc0c1\\uc138 \\uc0c1\\uc138 \\uc0c1\\uc138\", \"\\uac00\\uaca9 \\uad1c\\ucc2e\\ub2e4 \\ubc30\\uc1a1\", \"\\uc720\\ud1b5 \\uae30\\ud55c \\ud3ec\\uc7a5 \\uc0c1\\ud0dc\", \"\\ubc30\\uc1a1 \\uc131\\ub2a5 \\uc131\\ub2a5 \\ubcc4\\ub85c \\uc720\\ud1b5 \\uae30\\ud55c \\uae30\\ud55c \\uc9e7\\ub2e4\", \"\\uc774\\uc720 \\uc885\\uadfc\\ub2f9 \\uc81c\\ud488 \\ubb38\\ud574 \\ud608\\uc555 \\ub0ae\\uc544\\uc9c0\\ub2e4 \\uafb8\\ub2e4 1\\ub144 \\uadf8\\ub807\\ub2e4 \\uc81c\\ud488 \\ub2e4\\uc2dc \\ubc14\\uafb8\\ub2e4 \\uafb8\\uc900\\ud558\\ub2e4 \\ubcf5\\uc6a9 \\uc88b\\uc544\\uc9c0\\ub2e4 \\uae30\\ub300\\ud558\\ub2e4\", \"\\uc88b\\uc544\\uc9c0\\ub2e4 \\ubaa8\\ub974\\ub2e4 \\uc88b\\uc544\\uc9c0\\ub2e4 \\ubaa8\\ub974\\ub2e4 \\ubd80\\uc791\\uc6a9 \\uc548\\ub098 \\ub294\\uac78 \\uc5ec\\uae30\\ub2e4 \\uc57c\\ud558\\ub2e4\", \"\\uac00\\uaca9 \\ub9cc\\uc6d0\", \"0\\uc6d0 \\uad6c\\ub9e4 \\ucfc4\\ub9ad\\ud64d\\uad6d \\uc81c\\ud488 \\ud488\\uc808 \\ub098\\uc11c\\ub2e4 \\uad6c\\ub9e4 \\ubab0\\ub9ac\\ub2e4 \\uac11\\uc790\\uae30 \\uac00\\uaca9 \\ub9cc\\uc6d0 \\uc62c\\ub9ac\\ub2e4 \\ud310\\ub9e4 \\uc800\\ub834\\ud558\\ub2e4 \\ub9c1\\ud06c \\ub0a8\\ub2e4 \\uad6c\\ub9e4 \\ud558\\ub835\\ub2c8\", \"\\uc904\\uc904\", \"\\uc8fc\\ubb38 \\ud574\\uc678 \\uad6c\\ub9e4 \\ub300\\ud589 \\uc81c\\ud488 \\ubc18\\ud488 \\uc548\\ub418\\ub2e4 \\uc5f0\\ub77d \\uc548\\ub418\\ub2e4 \\ucc28\\ub2e4 \\uc5b4\\uc774\\uc5c6\\ub2e4\", \"\\uc2f8\\ub2e4 \\uad6c\\uc785 \\uc880\\uc300 \\ud53c\\ubd80 \\uac00\\ub824\\uc6c0 \\uc77c\\uc5b4\\ub098\\uc11c \\uc911\\uc9c0 2\\uc77c \\uc911\\uc9c0 \\uac00\\ub824\\uc6c0\\uc99d \\uc131\\ubd84 \\uad6c\\uc785 19000\\uc6d0 \\ud0dd\\ubc30 5\\ub9cc\\uc6d0\", \"\\ub300\\uc6c5\\uc81c\\uc57d \\uc6b0\\ub8e8\\uc0ac \\uc54c\\ub824\\uc9c0\\ub2e4 \\ubbff\\ub2e4 \\uad6c\\ub9e4 \\ud310\\ub9e4 \\uc81c\\uc870 \\ucf54\\uc2a4 \\ub9e5\\uc2a4 \\ubc14\\uc774\\uc624 \\uc6b0\\uca0b \\uba39\\uae30 \\uc7ac\\ub2e4 \\ub9e4\\ub2e4 \\ubcd1\\uc6d0 \\uac74\\uac15 \\uc548\\uc88b\\ub2e4 \\uc2e0\\uacbd \\uc368\\ub2e4\", \"\\ubc30\\uc1a1 \\ub290\\ub9ac\\ub2e4 \\uc131\\ub2a5 \\uc131\\ub2a5 \\ub6f0\\uc5b4\\ub098\\ub2e4 \\uc720\\ud1b5 \\uae30\\ud55c \\uae30\\ud55c \\ub109\\ub109\\ud558\\ub2e4 \\ubc30\\uc1a1 \\ub290\\ub9ac\\ub2e4\", \"\\uac80\\uc0ac \\uacb0\\uacfc \\ud06c\\ub2e4 \\ubcc0\\ud654\", \"\\uac80\\uc0ac \\uacb0\\uacfc \\ud06c\\ub2e4 \\ubcc0\\ud654\", \"\\ubcf5\\uc6a9 \\uc54c\\ub2e4 \\uadf8\\ub2e4\\uc9c0 \\ud06c\\ub2e4 \\ubcc0\\ud654 \\ubaa8\\ub974\\ub2e4\", \"\\uc8fc\\ubb38 \\ud574\\uc678 \\uad6c\\ub9e4 \\ub300\\ud589 \\uc81c\\ud488 \\ubc18\\ud488 \\uc548\\ub418\\ub2e4 \\uc5f0\\ub77d \\uc548\\ub418\\ub2e4 \\ucc28\\ub2e4 \\uc5b4\\uc774\\uc5c6\\ub2e4\", \"\\ub0c4\\uc0c8 \\ub0c4\\uc0c8 \\uad81\\uae08\\ud558\\ub2e4 \\ucc1d\\ucc1d\\ud558\\ub2e4 \\uc18d\\ub3c4 \\uc548\\uc88b\\ub2e4 \\uc544\\ud504\\ub2e4\", \"\\ubc30\\uc1a1 \\uc798\\ubabb \\uac74\\uc9c0\\ub2e4 \\uadf8\\ub807\\ub2e4 \\ubc15\\uc2a4 \\ucc0c\\uadf8\\ub7ec\\uc9c0\\ub2e4 \\ucc22\\uae30\\ub2e4 \\ud280\\uc5b4\\ub098\\uc624\\ub2e4 \\uba87\\uac1c \\uadc0\\ucc2e\\ub2e4 \\ubc84\\ub9ac\\ub2e4 \\uc774\\ub807\\ub2e4 \\uc2e0\\uacbd \\uc368\\uc8fc\\ub2e4 \\uc9dc\\uc99d\\ub098\\ub2e4\", \"\\ubc30\\uc1a1 \\uc131\\ub2a5 \\uc131\\ub2a5 \\ubcc4\\ub85c \\uc720\\ud1b5 \\uae30\\ud55c \\uae30\\ud55c \\uc9e7\\ub2e4\", \"\\uc778\\uc9c0\\uc9c8 \\uc88b\\ub2e4 \\uc544\\uc2dc \\ub2e5\\ud130 \\ud06c\\ub9b4 \\uc624\\uc77c\\ud314 \\ud45c\\ud604 \\ud06c\\ub9b4 \\uc778\\uc9c0\\uc9c8 \\ub808\\uc2dc\\ud2f4 \\uc2f8\\ub2e4 \\ud568\\ub7c9 \\ub192\\ub2e4 \\ubd81\\uadf9\\ud574 \\uc0dd\\ud0dc\\uacc4 \\uc0b4\\ub9ac\\ub2e4 \\uc0c1\\uc138 \\uc0c1\\uc138\", \"\\ubc30\\uc1a1 \\uc131\\ub2a5 \\uc131\\ub2a5 \\ubcc4\\ub85c \\uc720\\ud1b5 \\uae30\\ud55c \\uac10\\ub9c8 \\ub9ac\\ub180\\ub80c\\uc0b0 \\ud6a8\\ub2a5 \\uc5b4\\ub5bb\\ub2e4 \\uc81c\\uc57d\\ud68c\\uc0ac \\uc81c\\ud488 \\uc5ec\\uc131 \\uac31\\ub144\\uae30 \\uc720\\ub3c5 \\uc0c1\\ud488 \\uac00\\uaca9 \\ub192\\ub2e4 \\ud68c\\uc0ac \\ube44\\uad50 \\uac10\\ub9c8 \\ub9ac\\ub180\\ub80c\\uc0b0 \\ud568\\uc720 10% \\ub192\\ub2e4 \\uac00\\uaca9 \\ub192\\ub2e4 \\ud68c\\uc0ac \\uc81c\\ud488 40,000\\uc6d0 \\uac00\\uaca9 \\uc0c8\\ub2e4 \\ubaa8\\ub974\\ub2e4 30% \\uc62c\\ub9ac\\ub2e4 \\ub1a8\\ub124 90 \\ucea1\\uc290 \\ud310\\ub9e4 60 \\ucea1\\uc290 \\uc904\\uc774\\ub2e4 \\uad18\\uc538\\ud558\\ub2e4 \\ub2e4\\uc2dc\\ub2e4 \\uad6c\\uc785 \\uc0c1\\uc138 \\uc0c1\\uc138 \\uc0c1\\uc138\", \"\\ubc30\\uc1a1 \\ube68\\ub974\\ub2e4 \\uc131\\ub2a5 \\uc131\\ub2a5 \\ubcc4\\ub85c \\uc720\\ud1b5 \\uae30\\ud55c \\uae30\\ud55c \\ub109\\ub109\\ud558\\ub2e4 \\uc804\\ud600\", \"\\uac00\\uaca9 \\ub9cc\\uc6d0\", \"\\uc88b\\uc544\\uc9c0\\ub2e4 \\ubaa8\\ub974\\ub2e4 \\uc88b\\uc544\\uc9c0\\ub2e4 \\ubaa8\\ub974\\ub2e4 \\ubd80\\uc791\\uc6a9 \\uc548\\ub098 \\ub294\\uac78 \\uc5ec\\uae30\\ub2e4 \\uc57c\\ud558\\ub2e4\", \"\\uc131\\ub2a5 \\uc131\\ub2a5 \\ub6f0\\uc5b4\\ub098\\ub2e4\", \"\\ubc30\\uc1a1 \\ube68\\ub974\\ub2e4 \\uc720\\ud1b5 \\uae30\\ud55c \\uc2a4\\ud0a8 \\ucf5c\\ub808\\uc2a4\\ud2f4 \\ud608\\uad00 \\uac74\\uac15 \\ucf5c\\ub808\\uc2a4\\ud14c\\ub864 \\uac74\\uac15 \\ud64d\\uad6d \\ud568\\uc720 \\uc0c1\\uc138\", \"\\uc131\\uc7a5 \\ube44\\uc2f8\\ub2e4 \\uc8fc\\ubba8 \\ud5c8\\ub2e4 \\ud06c\\ub2e4 \\uba39\\uc774\\ub2e4 \\uace0\\uc601 \\uc591\\uc81c \\uba39\\uc774\\ub2e4 \\ud06c\\ub2e4 \\uc720\\uc804 \\ud06c\\ub2e4 \\uc560\\uac00 \\ud06c\\ub2e4 \\uc560\\uac00 \\ud06c\\ub2e4 \\uc720\\uc804\\uc790 \\uac70\\ub098 \\ud06c\\ub2e4\", \"\\ubc30\\uc1a1 \\ube68\\ub974\\ub2e4 \\uc131\\ub2a5 \\uc131\\ub2a5 \\ubcc4\\ub85c \\uc720\\ud1b5 \\uae30\\ud55c \\uae30\\ud55c \\ub109\\ub109\\ud558\\ub2e4 \\ubd88\\ud589\\ud558\\ub2e4 \\uc640\\uc774\\ud504 \\ub298\\ub2e4\", \"\\uc2f8\\ub2e4 \\uad6c\\uc785 \\uc880\\uc300 \\ud53c\\ubd80 \\uac00\\ub824\\uc6c0 \\uc77c\\uc5b4\\ub098\\uc11c \\uc911\\uc9c0 2\\uc77c \\uc911\\uc9c0 \\uac00\\ub824\\uc6c0\\uc99d \\uc131\\ubd84 \\uad6c\\uc785 19000\\uc6d0 \\ud0dd\\ubc30 5\\ub9cc\\uc6d0\", \"\\ub0a8\\uc131 32 \\uc0ac\\ubb34\\uc9c1 \\uc9c1\\uc7a5\\uc778 5\\ub144 \\ub300\\ub9ac \\uc218\\ud5d8\\uc0dd \\ub3c4\\uc6c0 \\uc2f6\\ub2e4 \\uad6c\\ub9e4 \\ub290\\ub07c\\ub2e4\", \"\\uc774\\uc720 \\uc885\\uadfc\\ub2f9 \\uc81c\\ud488 \\ubb38\\ud574 \\ud608\\uc555 \\ub0ae\\uc544\\uc9c0\\ub2e4 \\uafb8\\ub2e4 1\\ub144 \\uadf8\\ub807\\ub2e4 \\uc81c\\ud488 \\ub2e4\\uc2dc \\ubc14\\uafb8\\ub2e4 \\uafb8\\uc900\\ud558\\ub2e4 \\ubcf5\\uc6a9 \\uc88b\\uc544\\uc9c0\\ub2e4 \\uae30\\ub300\\ud558\\ub2e4\", \"\\uc544\\ud504\\ub2e4 \\uc0c1\\ud488 \\uad1c\\ucc2e\\ub2e4 \\ubcf4\\uc774\\ub2e4 \\ub9de\\ub2e4\", \"\\uc0ac\\ub2e4 \\ubc30\\uc1a1 \\uc0c1\\ud0dc \\uae30\\ubd84 \\uc88b\\ub2e4\", \"\\ubc30\\uc1a1 \\ub290\\ub9ac\\ub2e4 \\uc131\\ub2a5 \\uc131\\ub2a5 \\ubcc4\\ub85c \\uc720\\ud1b5 \\uae30\\ud55c \\ubcf4\\ub77c \\uc624\\uc77c \\ub2ec\\ub9de\\uc774\\uaf43 \\uc624\\uc77c \\uac31\\ub144\\uae30 \\uc99d\\uc0c1 \\ud6a8\\ub2a5 \\ud68c\\uc0ac \\ube44\\uad50 \\uac10\\ub9c8 \\ub9ac\\ub180\\ub80c\\uc0b0 \\ud568\\uc720 10% \\ub192\\ub2e4 \\uac00\\uaca9 \\uc0c1\\ub2f9\\ud558\\ub2e4 \\ube44\\uc2f8\\ub2e4 \\ud68c\\uc0ac 40,000\\uc6d0 \\uc81c\\ud488 48,000\\uc6d0 \\uac00\\uaca9 \\uc0c8\\ub2e4 \\ubaa8\\ub974\\ub2e4 30% \\uc62c\\ub9ac\\ub2e4 \\ud310\\ub9e4 \\uc904\\uc774\\ub2e4 \\uad18\\uc538\\ud558\\ub2e4 \\uc81c\\ud488 \\uad6c\\uc785 \\uc77c\\ub958 \\ub0b1\\uac1c \\ud3ec\\uc7a5 \\ubcf4\\uad00 \\uc628\\ub3c4 \\uc911\\uc694\\ud558\\ub2e4 \\uc81c\\ud488 \\uc800\\ub834\\ud558\\ub2e4 \\uc6a9\\ub7c9 \\ud3ec\\uc7a5 \\uad6c\\uc785 \\ub0c9\\uc7a5\\uace0 \\ub123\\ub2e4 \\uc0c1\\uc138 \\uc0c1\\uc138 \\uc0c1\\uc138 \\uc0c1\\uc138\", \"\\uc608\\uc120 \\ubcf4\\ub77c \\uc9c0\\uc720 \\uad6c\\ub9e4 \\ud574\\ubd24\\ub2e4 \\uc804\\ud600 \\uc0dd\\ub9ac \\uc99d\\ud6c4\\uad70\", \"\\uc81c\\ud488 \\ucc0c\\uadf8\\ub7ec\\uc9c0\\ub2e4 \\ud574\\uc678 \\ubc30\\uc1a1 \\ubbff\\ub2e4\", \"\\uc81c\\ud488 \\ub8e8\\ud14c\\uc778 \\uac74\\uac15 \\ub3d9\\uc2dc \\uac74\\uac15 \\ub3c4\\uc6c0 2\\uc870 \\uad6c\\uc785 \\uc720\\ud6a8 \\uae30\\uac04 2023\\ub144 9\\uc6d4 23\\uc77c \\uc774\\uc815 \\uc720\\ud6a8 \\uae30\\uac04 \\ucda9\\ubd84\\ud558\\ub2e4 \\ubc30\\uc1a1 \\ud3ec\\uc7a5 \\uc0c1\\ud0dc \\uae5c\\uc9dd \\ub180\\ub77c\\ub2e4 \\uac74\\uac15 \\ubcf4\\uc870 \\uc2dd\\ud488 \\uc81c\\ud488 \\uc2f8\\ub2e4 \\ubc15\\uc2a4 \\ud3ec\\uc7a5 \\ucfe0\\ud321 \\ub85c\\ucf13 \\ubc30\\uc1a1 \\ube44\\ub2d0 \\ud3ec\\uc7a5 \\uc9c0\\ub85c \\ud3ec\\uc7a5 \\uc81c\\ud488 \\uc5b4\\ubcf4 \\uc548\\uc88b\\ub2e4 \\uc608\\uac10 \\uc5ed\\uc26c \\uc81c\\ud488 \\ud3ec\\uc7a5 \\ud130\\uc9c0\\ub2e4 \\ud3ec\\uc7a5 \\uc81c\\ub3c4 \\uc774\\ub807\\ub2e4 \\uc0c1\\ud0dc \\ubc30\\uc1a1 \\uc138\\uade0 \\uc8fc\\ubb38 \\uc81c\\ud488 \\ubc14\\uafb8\\ub2e4 \\ucfe0\\ud321 \\uccb4\\ud5d8 \\uc774\\ubca4\\ud2b8 \\uc0c1\\ud488 \\ubb34\\ub8cc \\uc81c\\uacf5 \\uc791\\uc131 \\uad6c\\ub9e4 \\ud6c4\\uae30\", \"\\uac00\\uaca9 \\uc2f8\\ub2e4 \\uc0ac\\ub2e4 \\ubc30\\uc1a1 \\ube68\\ub974\\ub2e4\", \"\\ubc15\\uc2a4 \\uc655\\ucc3d \\ud30c\\uc190 \\ucc22\\uc5b4\\uc9c0\\ub2e4 \\ubc30\\uc1a1 \\ub3fc\\ub2e4 \\uae30\\ubd84 \\uc88b\\ub2e4\", \"\\ubc30\\uc1a1 \\uc0c1\\ud488 \\uc0c1\\uc138\", \"\\uac00\\uaca9 \\uad1c\\ucc2e\\ub2e4 \\ubc30\\uc1a1\", \"\\uac00\\uaca9 \\uad1c\\ucc2e\\ub2e4 \\ubc30\\uc1a1 \\ube0c\\ub9ac \\uce90\\ub098\\ub2e4 \\uac10\\ub9c8 \\ub9ac\\ub180\\ub80c\\uc0b0 \\ubcf4\\ub77c \\uc624\\uc77c \\ub2ec\\ub9de\\uc774\\uaf43 \\uc790\\uc720\", \"\\ucb48\\uc6b1 \\uc81c\\ud488 11 \\uc808\\ub54c \\ud560\\uc778 \\uc8fc\\ubb38 \\uc0c1\\uc138 \\uc0c1\\uc138\", \"\\ub300\\uc6c5\\uc81c\\uc57d \\uc6b0\\ub8e8\\uc0ac \\uc54c\\ub824\\uc9c0\\ub2e4 \\ubbff\\ub2e4 \\uad6c\\ub9e4 \\ud310\\ub9e4 \\uc81c\\uc870 \\ucf54\\uc2a4 \\ub9e5\\uc2a4 \\ubc14\\uc774\\uc624 \\uc6b0\\uca0b \\uba39\\uae30 \\uc7ac\\ub2e4 \\ub9e4\\ub2e4 \\ubcd1\\uc6d0 \\uac74\\uac15 \\uc548\\uc88b\\ub2e4 \\uc2e0\\uacbd \\uc368\\ub2e4\", \"0\\uc6d0 \\uad6c\\ub9e4 \\ucfc4\\ub9ad\\ud64d\\uad6d \\uc81c\\ud488 \\ud488\\uc808 \\ub098\\uc11c\\ub2e4 \\uad6c\\ub9e4 \\ubab0\\ub9ac\\ub2e4 \\uac11\\uc790\\uae30 \\uac00\\uaca9 \\ub9cc\\uc6d0 \\uc62c\\ub9ac\\ub2e4 \\ud310\\ub9e4 \\uc800\\ub834\\ud558\\ub2e4 \\ub9c1\\ud06c \\ub0a8\\ub2e4 \\uad6c\\ub9e4 \\ud558\\ub835\\ub2c8\", \"\\ubc30\\uc1a1 \\ube68\\ub974\\ub2e4 \\uc131\\ub2a5 \\uc131\\ub2a5 \\ubcc4\\ub85c \\uc720\\ud1b5 \\uae30\\ud55c \\uae30\\ud55c \\ub109\\ub109\\ud558\\ub2e4 \\ubc15\\uc2a4 \\uaddc\\uce59 \\ud608\\uc555 \\uce21\\uc815 \\ubcf5\\uc6a9 \\uc804\\uacfc \\ubcf5\\uc6a9 \\uac1c\\uc6d4\\ucc28 \\ubcc4\\ub2e4\\ub974\\ub2e4 \\uac1c\\uc120\", \"\\uba39\\uae30 \\ud608\\uc561 \\uac80\\uc0ac \\ube44\\uad50 \\ud574\\ubcf4\\ub2e4 \\ub808\\uc2a4 \\ud2b8\\ub864 \\uc218\\uce58 \\uac10\\uc18c \\uac10\\ub9c8 \\uc218\\uce58 \\uc0c1\\uc2b9 \\uc57c\\ud558\\ub2e4 \\uc591\\uc81c \\uc815\\ud655\\ud558\\ub2e4 \\uc0c1\\uad00\\uad00\\uacc4 \\uc54c\\ub2e4 \\uc758\\uc2ec \\uc0c1\\ud669 \\ubcf5\\uc6a9 \\uc26c\\ub2e4 \\uae30\\uac04 \\uc57c\\ud558\\ub2e4\", \"\\ubcc4\\ub85c \\uc88b\\ub2e4 \\uc0ac\\ub2e4 \\uc54c\\uc57d \\ub118\\ub2e4 \\ub118\\uc5b4\\uac00\\ub2e4 \\uac78\\ub9ac\\ub2e4 \\ub9c8\\ub0e5 \\ubd88\\ud3b8\\ud558\\ub2e4 \\uc54c\\uc57d \\ub179\\ucc28 \\ucd94\\ucd9c \\ubb3c\\ub2e4 \\ub9de\\ub2e4 \\uce74\\ud398\\uc778 \\uc7a5\\uae30\\uac04 \\ubcf5\\uc6a9 \\uc6b0\\ub824 \\uc190\\uc0c1 \\uc190\\uc0c1 \\ubaa8\\ub974\\ub2e4 \\ub04a\\uc74c \\ub2e4\\uc774\\uc5b4\\ud2b8 \\uc4f0\\ub2e4 \\uc778\\uc6a9 \\uccad\\uc18c\\ub144 \\uc0ac\\uba74 \\ub0ad\\ud328\", \"\\ubc30\\uc1a1 \\ub290\\ub9ac\\ub2e4 \\uc131\\ub2a5 \\uc131\\ub2a5 \\ub6f0\\uc5b4\\ub098\\ub2e4 \\uc720\\ud1b5 \\uae30\\ud55c \\uae30\\ud55c \\ub109\\ub109\\ud558\\ub2e4 \\ubc30\\uc1a1 \\ub290\\ub9ac\\ub2e4\", \"\\uae30\\uc874 \\uad6d\\ub0b4 \\uc81c\\ud488 \\uacf5\\uad6c \\ud310\\ub9e4 \\ube44\\uc2f8\\ub2e4 \\uc131\\ubd84 \\ubcf5\\uc6a9 \\ud574\\ubd24\\ub2e4 \\ud2b8\\ub7ec\\ube14\", \"\\ud0dd\\ubc30 \\ubc15\\uc2a4 \\uc816\\ub2e4 \\uc81c\\ud488 \\uad1c\\ucc2c\\uc744\\uc904 \\uc548\\ub2e4 \\uc57d\\ud488 \\uc544\\ub2c8\\ub2e4 \\uac74\\uac15 \\uc2dd\\ud488 \\uad00\\ub9ac \\ubcf4\\uad00 \\uc0c1\\ud0dc \\uc911\\uc694 \\uc81c\\ud488 \\ubc15\\uc2a4 \\uc81c\\ud488 \\uc816\\ub2e4 \\uad1c\\ucc2c\\uc744\\uc904\\uc54c \\ubc15\\uc2a4 \\uac1c\\ubd09 \\ud574\\ubcf4\\ub2e4 \\ubc15\\uc2a4 \\ub20c\\ub838\\ub294 \\uc54c\\uc57d \\ud280\\uc5b4 \\ubc97\\uae30\\ub2e4 \\uc815\\ub9d0 \\uc81c\\ud488 \\uc2f8\\ub2e4 \\uac00\\uaca9 \\uc544\\ub2c8\\ub2e4 \\ub2e4\\uc2dc \\ubc18\\ud488\", \"\\uc544\\uc27d\\ub2e4 \\uc548\\ucabd \\ub0a8\\ud3b8 \\ubcf5\\uc6a9 \\uba39\\uae30\", \"\\ubc30\\uc1a1 \\ub290\\ub9ac\\ub2e4 \\uc131\\ub2a5 \\uc131\\ub2a5 \\ub6f0\\uc5b4\\ub098\\ub2e4 \\uc720\\ud1b5 \\uae30\\ud55c \\uae30\\ud55c \\ub109\\ub109\\ud558\\ub2e4 \\ubc30\\uc1a1 \\ub290\\ub9ac\\ub2e4\", \"\\ub300\\uc6c5\\uc81c\\uc57d \\uc6b0\\ub8e8\\uc0ac \\uc54c\\ub824\\uc9c0\\ub2e4 \\ubbff\\ub2e4 \\uad6c\\ub9e4 \\ud310\\ub9e4 \\uc81c\\uc870 \\ucf54\\uc2a4 \\ub9e5\\uc2a4 \\ubc14\\uc774\\uc624 \\uc6b0\\uca0b \\uba39\\uae30 \\uc7ac\\ub2e4 \\ub9e4\\ub2e4 \\ubcd1\\uc6d0 \\uac74\\uac15 \\uc548\\uc88b\\ub2e4 \\uc2e0\\uacbd \\uc368\\ub2e4\", \"\\uc904\\uc904\", \"0\\uc6d0 \\uad6c\\ub9e4 \\ucfc4\\ub9ad\\ud64d\\uad6d \\uc81c\\ud488 \\ud488\\uc808 \\ub098\\uc11c\\ub2e4 \\uad6c\\ub9e4 \\ubab0\\ub9ac\\ub2e4 \\uac11\\uc790\\uae30 \\uac00\\uaca9 \\ub9cc\\uc6d0 \\uc62c\\ub9ac\\ub2e4 \\ud310\\ub9e4 \\uc800\\ub834\\ud558\\ub2e4 \\ub9c1\\ud06c \\ub0a8\\ub2e4 \\uad6c\\ub9e4 \\ud558\\ub835\\ub2c8\", \"\\uc7a5\\uae30 \\uc54c\\ub2e4 \\uc88b\\ub2e4 \\uc88b\\ub2e4 \\uc88b\\ub2e4 \\uc88b\\ub2e4 \\uc88b\\ub2e4 \\uc88b\\ub2e4 \\uc88b\\ub2e4 \\uc88b\\ub2e4\", \"\\uac00\\uaca9 \\uc2f8\\ub2e4 \\ubc30\\uc1a1 \\ube68\\ub974\\ub2e4 \\ubc30\\uc1a1 \\ube60\\ub974\\ub2e4 \\ube44\\ub2e4 \\uc800\\ub834\\ud558\\ub2e4\", \"\\uac00\\uaca9 \\uc2f8\\ub2e4 \\uc0ac\\ub2e4 \\ubc30\\uc1a1 \\ube68\\ub974\\ub2e4\", \"\\ucb48\\uc6b1 \\uc81c\\ud488 11 \\uc808\\ub54c \\ud560\\uc778 \\uc8fc\\ubb38 \\uc0c1\\uc138 \\uc0c1\\uc138\", \"\\uc720\\ud1b5 \\uae30\\ud55c \\ud3ec\\uc7a5 \\uc0c1\\ud0dc\", \"\\uac00\\uaca9 \\uad1c\\ucc2e\\ub2e4 \\ubc30\\uc1a1\", \"\\uc0ac\\ub2e4 \\ubc30\\uc1a1 \\uc0c1\\ud0dc \\uae30\\ubd84 \\uc88b\\ub2e4\", \"\\ubc30\\uc1a1 \\ub290\\ub9ac\\ub2e4 \\uc131\\ub2a5 \\uc131\\ub2a5 \\ubcc4\\ub85c \\uc720\\ud1b5 \\uae30\\ud55c \\ubcf4\\ub77c \\uc624\\uc77c \\ub2ec\\ub9de\\uc774\\uaf43 \\uc624\\uc77c \\uac31\\ub144\\uae30 \\uc99d\\uc0c1 \\ud6a8\\ub2a5 \\ud68c\\uc0ac \\ube44\\uad50 \\uac10\\ub9c8 \\ub9ac\\ub180\\ub80c\\uc0b0 \\ud568\\uc720 10% \\ub192\\ub2e4 \\uac00\\uaca9 \\uc0c1\\ub2f9\\ud558\\ub2e4 \\ube44\\uc2f8\\ub2e4 \\ud68c\\uc0ac 40,000\\uc6d0 \\uc81c\\ud488 48,000\\uc6d0 \\uac00\\uaca9 \\uc0c8\\ub2e4 \\ubaa8\\ub974\\ub2e4 30% \\uc62c\\ub9ac\\ub2e4 \\ud310\\ub9e4 \\uc904\\uc774\\ub2e4 \\uad18\\uc538\\ud558\\ub2e4 \\uc81c\\ud488 \\uad6c\\uc785 \\uc77c\\ub958 \\ub0b1\\uac1c \\ud3ec\\uc7a5 \\ubcf4\\uad00 \\uc628\\ub3c4 \\uc911\\uc694\\ud558\\ub2e4 \\uc81c\\ud488 \\uc800\\ub834\\ud558\\ub2e4 \\uc6a9\\ub7c9 \\ud3ec\\uc7a5 \\uad6c\\uc785 \\ub0c9\\uc7a5\\uace0 \\ub123\\ub2e4 \\uc0c1\\uc138 \\uc0c1\\uc138 \\uc0c1\\uc138 \\uc0c1\\uc138\", \"\\uc774\\uc720 \\uc885\\uadfc\\ub2f9 \\uc81c\\ud488 \\ubb38\\ud574 \\ud608\\uc555 \\ub0ae\\uc544\\uc9c0\\ub2e4 \\uafb8\\ub2e4 1\\ub144 \\uadf8\\ub807\\ub2e4 \\uc81c\\ud488 \\ub2e4\\uc2dc \\ubc14\\uafb8\\ub2e4 \\uafb8\\uc900\\ud558\\ub2e4 \\ubcf5\\uc6a9 \\uc88b\\uc544\\uc9c0\\ub2e4 \\uae30\\ub300\\ud558\\ub2e4\", \"\\uc2f8\\ub2e4 \\uad6c\\uc785 \\uc880\\uc300 \\ud53c\\ubd80 \\uac00\\ub824\\uc6c0 \\uc77c\\uc5b4\\ub098\\uc11c \\uc911\\uc9c0 2\\uc77c \\uc911\\uc9c0 \\uac00\\ub824\\uc6c0\\uc99d \\uc131\\ubd84 \\uad6c\\uc785 19000\\uc6d0 \\ud0dd\\ubc30 5\\ub9cc\\uc6d0\", \"\\uc54c\\uc57d \\ub179\\ub2e4 \\ub3fc\\ub2e4 \\ub3fc\\ub2e4 \\uad73\\ub2e4 \\ube60\\uc9c0\\ub2e4 \\ubcd1\\uc18d \\ub369\\uc5b4\\ub9ac \\ubb49\\uce58\\ub2e4 \\ubc84\\ub9ac\\ub2e4 \\ubc18\\ud488 \\uadc0\\ucc2e\\ub2e4\", \"\\uc88b\\uc544\\uc9c0\\ub2e4 \\ubaa8\\ub974\\ub2e4 \\uc88b\\uc544\\uc9c0\\ub2e4 \\ubaa8\\ub974\\ub2e4 \\ubd80\\uc791\\uc6a9 \\uc548\\ub098 \\ub294\\uac78 \\uc5ec\\uae30\\ub2e4 \\uc57c\\ud558\\ub2e4\", \"\\uac00\\uaca9 \\ub9cc\\uc6d0\", \"\\ubc30\\uc1a1 \\uc0c1\\ud488 \\uc0c1\\uc138\", \"\\uc81c\\ud488 \\ub8e8\\ud14c\\uc778 \\uac74\\uac15 \\ub3d9\\uc2dc \\uac74\\uac15 \\ub3c4\\uc6c0 2\\uc870 \\uad6c\\uc785 \\uc720\\ud6a8 \\uae30\\uac04 2023\\ub144 9\\uc6d4 23\\uc77c \\uc774\\uc815 \\uc720\\ud6a8 \\uae30\\uac04 \\ucda9\\ubd84\\ud558\\ub2e4 \\ubc30\\uc1a1 \\ud3ec\\uc7a5 \\uc0c1\\ud0dc \\uae5c\\uc9dd \\ub180\\ub77c\\ub2e4 \\uac74\\uac15 \\ubcf4\\uc870 \\uc2dd\\ud488 \\uc81c\\ud488 \\uc2f8\\ub2e4 \\ubc15\\uc2a4 \\ud3ec\\uc7a5 \\ucfe0\\ud321 \\ub85c\\ucf13 \\ubc30\\uc1a1 \\ube44\\ub2d0 \\ud3ec\\uc7a5 \\uc9c0\\ub85c \\ud3ec\\uc7a5 \\uc81c\\ud488 \\uc5b4\\ubcf4 \\uc548\\uc88b\\ub2e4 \\uc608\\uac10 \\uc5ed\\uc26c \\uc81c\\ud488 \\ud3ec\\uc7a5 \\ud130\\uc9c0\\ub2e4 \\ud3ec\\uc7a5 \\uc81c\\ub3c4 \\uc774\\ub807\\ub2e4 \\uc0c1\\ud0dc \\ubc30\\uc1a1 \\uc138\\uade0 \\uc8fc\\ubb38 \\uc81c\\ud488 \\ubc14\\uafb8\\ub2e4 \\ucfe0\\ud321 \\uccb4\\ud5d8 \\uc774\\ubca4\\ud2b8 \\uc0c1\\ud488 \\ubb34\\ub8cc \\uc81c\\uacf5 \\uc791\\uc131 \\uad6c\\ub9e4 \\ud6c4\\uae30\", \"\\ub0a8\\uc131 32 \\uc0ac\\ubb34\\uc9c1 \\uc9c1\\uc7a5\\uc778 5\\ub144 \\ub300\\ub9ac \\uc218\\ud5d8\\uc0dd \\ub3c4\\uc6c0 \\uc2f6\\ub2e4 \\uad6c\\ub9e4 \\ub290\\ub07c\\ub2e4\", \"\\ubc30\\uc1a1 \\ube68\\ub974\\ub2e4 \\uc131\\ub2a5 \\uc131\\ub2a5 \\ubcc4\\ub85c \\uc720\\ud1b5 \\uae30\\ud55c \\uae30\\ud55c \\ub109\\ub109\\ud558\\ub2e4 \\ubd88\\ud589\\ud558\\ub2e4 \\uc640\\uc774\\ud504 \\ub298\\ub2e4\", \"\\ubc30\\uc1a1 \\ube68\\ub974\\ub2e4 \\uc720\\ud1b5 \\uae30\\ud55c \\uc2a4\\ud0a8 \\ucf5c\\ub808\\uc2a4\\ud2f4 \\ud608\\uad00 \\uac74\\uac15 \\ucf5c\\ub808\\uc2a4\\ud14c\\ub864 \\uac74\\uac15 \\ud64d\\uad6d \\ud568\\uc720 \\uc0c1\\uc138\", \"\\uc131\\ub2a5 \\uc131\\ub2a5 \\ub6f0\\uc5b4\\ub098\\ub2e4\", \"\\ucfe0\\ud321 \\ud310\\ub9e4 \\uc81c\\ud488 \\uac00\\uaca9 \\uc218\\ub7c9 \\ud5c8\\uc704 \\uc815\\ubcf4 \\ub178\\ucd9c\\ud558\\ub2e4 \\uacb0\\uc81c \\ub098\\ub2c8 \\ud310\\ub9e4 \\uc790\\ub3c4 \\ubc1c\\uc1a1 \\ucfe0\\ud321 \\uc774\\uc720 \\uc218\\ub839 \\uc608\\uc815 \\ub0a0\\uc9dc \\ub2e4\\uac00\\uc624\\ub2e4 \\ucde8\\uc18c \\ud544\\uc694\\ud558\\ub2e4 \\ub0a0\\uc9dc \\uc784\\ubc15 \\uae09\\ud558\\ub2e4 \\ube44\\uc2f8\\ub2e4 \\uc6b8\\ub2e4 \\uaca8\\uc790 \\uba39\\uae30 \\uc790\\uc0ac \\ub85c\\ucf13 \\ubc30\\uc1a1 \\uc81c\\ud488 \\uad6c\\ub9e4 \\uc8fc\\ubb38 \\ub4e4\\uc5b4\\uc624\\ub2e4 \\ud310\\ub9e4 \\ubc1c\\uc1a1 \\uc815\\uc0c1 \\uc0ac\\uc720 \\uace0\\uac1d \\uace0\\uc9c0 \\uc0c1\\uc2dd \\uc544\\ub2c8\\ub2e4 \\uc774\\ub807\\ub2e4 \\uae30\\ubcf8 \\ub9e4\\ub274\\uc5bc \\uad50\\uc721 \\uc548\\ub418\\ub2e4 \\uac74\\uc9c0\\ub2e4 \\uc758\\ub3c4 \\ubc14\\uc778 \\uc5b4\\ub5bb\\ub2e4 \\uc8fc\\ubb38 \\uc9c0\\ub098\\ub2e4 \\uc18c\\uc2dd \\ud310\\ub9e4 \\ubb38\\uc758 \\ucfe0\\ud321 \\ubc30\\uc1a1 \\ubd88\\uac00 \\ucfe0\\ud321 \\ubb38\\uc758 \\ucde8\\uc18c \\uacbd\\uc704 \\ud5c8\\uc704 \\ub178\\ucd9c \\ud310\\ub9e4 \\uc758\\ubb34\\ubd88\\uc774\\ud589 \\ud30c\\uc545 \\uc5f0\\ub77d \\ubd80\\ud0c1 \\ucde8\\uc18c \\ubb38\\uc790 \\ub2ec\\ub791 \\uc815\\uc0c1\", \"\\uc131\\uc7a5 \\ube44\\uc2f8\\ub2e4 \\uc8fc\\ubba8 \\ud5c8\\ub2e4 \\ud06c\\ub2e4 \\uba39\\uc774\\ub2e4 \\uace0\\uc601 \\uc591\\uc81c \\uba39\\uc774\\ub2e4 \\ud06c\\ub2e4 \\uc720\\uc804 \\ud06c\\ub2e4 \\uc560\\uac00 \\ud06c\\ub2e4 \\uc560\\uac00 \\ud06c\\ub2e4 \\uc720\\uc804\\uc790 \\uac70\\ub098 \\ud06c\\ub2e4\", \"\\uc608\\uc120 \\ubcf4\\ub77c \\uc9c0\\uc720 \\uad6c\\ub9e4 \\ud574\\ubd24\\ub2e4 \\uc804\\ud600 \\uc0dd\\ub9ac \\uc99d\\ud6c4\\uad70\", \"\\uc778\\uc9c0\\uc9c8 \\uc88b\\ub2e4 \\uc544\\uc2dc \\ub2e5\\ud130 \\ud06c\\ub9b4 \\uc624\\uc77c\\ud314 \\ud45c\\ud604 \\ud06c\\ub9b4 \\uc778\\uc9c0\\uc9c8 \\ub808\\uc2dc\\ud2f4 \\uc2f8\\ub2e4 \\ud568\\ub7c9 \\ub192\\ub2e4 \\ubd81\\uadf9\\ud574 \\uc0dd\\ud0dc\\uacc4 \\uc0b4\\ub9ac\\ub2e4 \\uc0c1\\uc138 \\uc0c1\\uc138\", \"\\ub0c4\\uc0c8 \\ub0c4\\uc0c8 \\uad81\\uae08\\ud558\\ub2e4 \\ucc1d\\ucc1d\\ud558\\ub2e4 \\uc18d\\ub3c4 \\uc548\\uc88b\\ub2e4 \\uc544\\ud504\\ub2e4\", \"\\ubcc4\\ub85c \\uc88b\\ub2e4 \\uc0ac\\ub2e4 \\uc54c\\uc57d \\ub118\\ub2e4 \\ub118\\uc5b4\\uac00\\ub2e4 \\uac78\\ub9ac\\ub2e4 \\ub9c8\\ub0e5 \\ubd88\\ud3b8\\ud558\\ub2e4 \\uc54c\\uc57d \\ub179\\ucc28 \\ucd94\\ucd9c \\ubb3c\\ub2e4 \\ub9de\\ub2e4 \\uce74\\ud398\\uc778 \\uc7a5\\uae30\\uac04 \\ubcf5\\uc6a9 \\uc6b0\\ub824 \\uc190\\uc0c1 \\uc190\\uc0c1 \\ubaa8\\ub974\\ub2e4 \\ub04a\\uc74c \\ub2e4\\uc774\\uc5b4\\ud2b8 \\uc4f0\\ub2e4 \\uc778\\uc6a9 \\uccad\\uc18c\\ub144 \\uc0ac\\uba74 \\ub0ad\\ud328\", \"\\ubc30\\uc1a1 \\uc798\\ubabb \\uac74\\uc9c0\\ub2e4 \\uadf8\\ub807\\ub2e4 \\ubc15\\uc2a4 \\ucc0c\\uadf8\\ub7ec\\uc9c0\\ub2e4 \\ucc22\\uae30\\ub2e4 \\ud280\\uc5b4\\ub098\\uc624\\ub2e4 \\uba87\\uac1c \\uadc0\\ucc2e\\ub2e4 \\ubc84\\ub9ac\\ub2e4 \\uc774\\ub807\\ub2e4 \\uc2e0\\uacbd \\uc368\\uc8fc\\ub2e4 \\uc9dc\\uc99d\\ub098\\ub2e4\", \"\\uc8fc\\ubb38 \\ud574\\uc678 \\uad6c\\ub9e4 \\ub300\\ud589 \\uc81c\\ud488 \\ubc18\\ud488 \\uc548\\ub418\\ub2e4 \\uc5f0\\ub77d \\uc548\\ub418\\ub2e4 \\ucc28\\ub2e4 \\uc5b4\\uc774\\uc5c6\\ub2e4\", \"\\uac80\\uc0ac \\uacb0\\uacfc \\ud06c\\ub2e4 \\ubcc0\\ud654\", \"\\ubc30\\uc1a1 \\ube68\\ub974\\ub2e4 \\uc131\\ub2a5 \\uc131\\ub2a5 \\ubcc4\\ub85c \\uc720\\ud1b5 \\uae30\\ud55c \\uae30\\ud55c \\ub109\\ub109\\ud558\\ub2e4 \\ubc15\\uc2a4 \\uaddc\\uce59 \\ud608\\uc555 \\uce21\\uc815 \\ubcf5\\uc6a9 \\uc804\\uacfc \\ubcf5\\uc6a9 \\uac1c\\uc6d4\\ucc28 \\ubcc4\\ub2e4\\ub974\\ub2e4 \\uac1c\\uc120\", \"\\ud0dd\\ubc30 \\ubc15\\uc2a4 \\uc816\\ub2e4 \\uc81c\\ud488 \\uad1c\\ucc2c\\uc744\\uc904 \\uc548\\ub2e4 \\uc57d\\ud488 \\uc544\\ub2c8\\ub2e4 \\uac74\\uac15 \\uc2dd\\ud488 \\uad00\\ub9ac \\ubcf4\\uad00 \\uc0c1\\ud0dc \\uc911\\uc694 \\uc81c\\ud488 \\ubc15\\uc2a4 \\uc81c\\ud488 \\uc816\\ub2e4 \\uad1c\\ucc2c\\uc744\\uc904\\uc54c \\ubc15\\uc2a4 \\uac1c\\ubd09 \\ud574\\ubcf4\\ub2e4 \\ubc15\\uc2a4 \\ub20c\\ub838\\ub294 \\uc54c\\uc57d \\ud280\\uc5b4 \\ubc97\\uae30\\ub2e4 \\uc815\\ub9d0 \\uc81c\\ud488 \\uc2f8\\ub2e4 \\uac00\\uaca9 \\uc544\\ub2c8\\ub2e4 \\ub2e4\\uc2dc \\ubc18\\ud488\", \"\\uae30\\uc874 \\uad6d\\ub0b4 \\uc81c\\ud488 \\uacf5\\uad6c \\ud310\\ub9e4 \\ube44\\uc2f8\\ub2e4 \\uc131\\ubd84 \\ubcf5\\uc6a9 \\ud574\\ubd24\\ub2e4 \\ud2b8\\ub7ec\\ube14\", \"\\uba39\\uae30 \\ud608\\uc561 \\uac80\\uc0ac \\ube44\\uad50 \\ud574\\ubcf4\\ub2e4 \\ub808\\uc2a4 \\ud2b8\\ub864 \\uc218\\uce58 \\uac10\\uc18c \\uac10\\ub9c8 \\uc218\\uce58 \\uc0c1\\uc2b9 \\uc57c\\ud558\\ub2e4 \\uc591\\uc81c \\uc815\\ud655\\ud558\\ub2e4 \\uc0c1\\uad00\\uad00\\uacc4 \\uc54c\\ub2e4 \\uc758\\uc2ec \\uc0c1\\ud669 \\ubcf5\\uc6a9 \\uc26c\\ub2e4 \\uae30\\uac04 \\uc57c\\ud558\\ub2e4\", \"\\uc544\\uc27d\\ub2e4 \\uc548\\ucabd \\ub0a8\\ud3b8 \\ubcf5\\uc6a9 \\uba39\\uae30\"], \"Freq\": [2.0, 2.0, 2.0, 2.0, 1.0, 1.0, 1.0, 2.0, 1.0, 1.0, 1.0, 1.0, 1.0, 1.0, 1.0, 1.0, 1.0, 1.0, 1.0, 1.0, 1.0, 1.0, 1.0, 1.0, 1.0, 1.0, 1.0, 1.0, 1.0, 1.0, 2.1525321158174937, 1.71819958853332, 1.7122722746177466, 1.2306682512757994, 1.1957007881849369, 1.1199905607831768, 0.7397094048125996, 0.7111654548783958, 0.7081336511652869, 0.7005753128078349, 0.6892336483195821, 0.6755584572044206, 0.6747353352624705, 0.6719841144566077, 0.6662252593201903, 0.6654900466926056, 0.511248861392794, 0.2856503908341751, 0.28190952013194004, 0.27952331606316744, 0.2769665633814088, 0.26910890175899704, 0.2669324079719355, 0.2574494916662626, 0.2529262280661748, 0.24478771094949572, 0.24768783241573722, 0.2428670855130835, 0.2453353155596788, 0.2446755641058207, 0.3592494771872276, 0.3563779546426363, 0.36260904407785055, 0.3449920856257646, 0.2896969678807849, 0.34667481073934747, 0.29137955670085713, 1.1683865743288278, 0.7287299101375215, 1.0877562471724407, 0.7170407799155214, 0.7099874113059935, 0.7096012608535072, 0.7069256724903226, 0.6958701107006995, 0.6850650185358808, 0.6824442815338294, 0.6743120390765038, 0.6653093735931486, 0.6644297956323788, 0.661239261751907, 0.6542515817553197, 1.2232537414178446, 0.4234446832186245, 0.3014634329015593, 0.29476505275511494, 0.28564206247777557, 0.2789459710650162, 0.2816232026216158, 0.264474444907867, 0.25624269143981215, 0.2504176881551792, 0.2534482845432738, 0.25266813934592797, 0.248683590933216, 0.25146643679037145, 0.2463488478326514, 0.3249383483296394, 0.3237050925481528, 0.4246735962746576, 0.3712931279895393, 0.3067220039419069, 0.3542650667444755, 0.2904839079310252, 0.30857605428315305, 0.2833361535092761, 2.188803178241443, 1.1275798905115417, 1.1072106792448673, 1.0621005721979029, 0.7049638145618612, 0.6891925748515584, 0.6861735464666623, 0.6845376477369349, 0.6748373178677609, 0.6637758883234967, 0.6516369855027129, 0.6305107335443182, 0.6229599386825542, 0.7877976910494895, 0.26975839178235383, 0.2641823697079872, 0.2570390910979181, 0.2557502221240605, 0.25496859919847253, 0.24916832420842935, 0.24830761979512075, 0.24331633249686055, 0.24002584409611977, 0.23784128756114614, 0.23804366401576915, 0.2369310732622954, 0.23682478052740472, 0.23634085018104745, 0.34932490367237246, 0.2311442695666904, 0.32851244460094875, 0.31969387044137787, 0.3909601075898905, 0.34622846331915186, 0.29229790150456114, 0.2919619059286087, 0.2656243739092193], \"Total\": [2.0, 2.0, 2.0, 2.0, 1.0, 1.0, 1.0, 2.0, 1.0, 1.0, 1.0, 1.0, 1.0, 1.0, 1.0, 1.0, 1.0, 1.0, 1.0, 1.0, 1.0, 1.0, 1.0, 1.0, 1.0, 1.0, 1.0, 1.0, 1.0, 1.0, 2.9681658196820417, 2.373004106135625, 2.3755273085358946, 1.7796287786942948, 1.7784825976205232, 1.7760374683974562, 1.1844396503679735, 1.1846213228416407, 1.1838979015261626, 1.1842665759122728, 1.184278930856244, 1.1825058716230372, 1.1831536967324592, 1.1831954050948923, 1.1846549428482898, 1.1840443225765167, 1.183861868819848, 1.1849333166018512, 1.1844687216823806, 1.1848585337524358, 1.184712691510648, 1.185293243020016, 1.185679673607206, 1.166906196275597, 1.1653857073228875, 1.164895139734895, 1.1854830917843322, 1.167290457097197, 1.1838297243441698, 1.1841589367375682, 1.7450551419332831, 1.7429874025474388, 1.77887773585124, 2.3560435180930988, 1.742215206721966, 2.889743055725266, 1.7794600014710629, 1.7794600014710629, 1.1856441074949822, 1.77887773585124, 1.1851484496443354, 1.1853550003946023, 1.1854830917843322, 1.1851019546924477, 1.185679673607206, 1.185293243020016, 1.1841589367375682, 1.1838297243441698, 1.1848585337524358, 1.184712691510648, 1.1849333166018512, 1.1844687216823806, 2.3560435180930988, 1.183861868819848, 1.167290457097197, 1.1846549428482898, 1.166005091159029, 1.166906196275597, 1.1840443225765167, 1.184278930856244, 1.1831954050948923, 1.1644154009248644, 1.1842665759122728, 1.1831536967324592, 1.1653857073228875, 1.1846213228416407, 1.1644775128949845, 1.742215206721966, 1.7450551419332831, 2.9681658196820417, 2.3755273085358946, 1.7760374683974562, 2.889743055725266, 1.7784825976205232, 2.373004106135625, 1.7796287786942948, 2.889743055725266, 1.742215206721966, 1.7429874025474388, 1.7450551419332831, 1.1635639053335116, 1.1642452544048343, 1.1644154009248644, 1.1644775128949845, 1.164895139734895, 1.1653857073228875, 1.166005091159029, 1.166906196275597, 1.167290457097197, 2.3560435180930988, 1.1825058716230372, 1.1838297243441698, 1.1841589367375682, 1.1831536967324592, 1.1831954050948923, 1.183861868819848, 1.1844687216823806, 1.184712691510648, 1.1848585337524358, 1.1838979015261626, 1.1849333166018512, 1.1840443225765167, 1.1851019546924477, 1.1851484496443354, 1.7760374683974562, 1.1853550003946023, 1.77887773585124, 1.7794600014710629, 2.9681658196820417, 2.373004106135625, 1.7784825976205232, 2.3755273085358946, 1.7796287786942948], \"Category\": [\"Default\", \"Default\", \"Default\", \"Default\", \"Default\", \"Default\", \"Default\", \"Default\", \"Default\", \"Default\", \"Default\", \"Default\", \"Default\", \"Default\", \"Default\", \"Default\", \"Default\", \"Default\", \"Default\", \"Default\", \"Default\", \"Default\", \"Default\", \"Default\", \"Default\", \"Default\", \"Default\", \"Default\", \"Default\", \"Default\", \"Topic1\", \"Topic1\", \"Topic1\", \"Topic1\", \"Topic1\", \"Topic1\", \"Topic1\", \"Topic1\", \"Topic1\", \"Topic1\", \"Topic1\", \"Topic1\", \"Topic1\", \"Topic1\", \"Topic1\", \"Topic1\", \"Topic1\", \"Topic1\", \"Topic1\", \"Topic1\", \"Topic1\", \"Topic1\", \"Topic1\", \"Topic1\", \"Topic1\", \"Topic1\", \"Topic1\", \"Topic1\", \"Topic1\", \"Topic1\", \"Topic1\", \"Topic1\", \"Topic1\", \"Topic1\", \"Topic1\", \"Topic1\", \"Topic1\", \"Topic2\", \"Topic2\", \"Topic2\", \"Topic2\", \"Topic2\", \"Topic2\", \"Topic2\", \"Topic2\", \"Topic2\", \"Topic2\", \"Topic2\", \"Topic2\", \"Topic2\", \"Topic2\", \"Topic2\", \"Topic2\", \"Topic2\", \"Topic2\", \"Topic2\", \"Topic2\", \"Topic2\", \"Topic2\", \"Topic2\", \"Topic2\", \"Topic2\", \"Topic2\", \"Topic2\", \"Topic2\", \"Topic2\", \"Topic2\", \"Topic2\", \"Topic2\", \"Topic2\", \"Topic2\", \"Topic2\", \"Topic2\", \"Topic2\", \"Topic2\", \"Topic2\", \"Topic3\", \"Topic3\", \"Topic3\", \"Topic3\", \"Topic3\", \"Topic3\", \"Topic3\", \"Topic3\", \"Topic3\", \"Topic3\", \"Topic3\", \"Topic3\", \"Topic3\", \"Topic3\", \"Topic3\", \"Topic3\", \"Topic3\", \"Topic3\", \"Topic3\", \"Topic3\", \"Topic3\", \"Topic3\", \"Topic3\", \"Topic3\", \"Topic3\", \"Topic3\", \"Topic3\", \"Topic3\", \"Topic3\", \"Topic3\", \"Topic3\", \"Topic3\", \"Topic3\", \"Topic3\", \"Topic3\", \"Topic3\", \"Topic3\"], \"logprob\": [30.0, 29.0, 28.0, 27.0, 26.0, 25.0, 24.0, 23.0, 22.0, 21.0, 20.0, 19.0, 18.0, 17.0, 16.0, 15.0, 14.0, 13.0, 12.0, 11.0, 10.0, 9.0, 8.0, 7.0, 6.0, 5.0, 4.0, 3.0, 2.0, 1.0, -2.4276, -2.6529, -2.6564, -2.9866, -3.0155, -3.0809, -3.4957, -3.5351, -3.5393, -3.5501, -3.5664, -3.5864, -3.5876, -3.5917, -3.6003, -3.6014, -3.8651, -4.4472, -4.4604, -4.4689, -4.4781, -4.5068, -4.515, -4.5511, -4.5689, -4.6016, -4.5898, -4.6094, -4.5993, -4.602, -4.2179, -4.226, -4.2086, -4.2584, -4.4331, -4.2536, -4.4273, -2.8891, -3.3612, -2.9606, -3.3774, -3.3872, -3.3878, -3.3916, -3.4073, -3.423, -3.4268, -3.4388, -3.4522, -3.4536, -3.4584, -3.469, -2.8432, -3.9041, -4.2438, -4.2663, -4.2977, -4.3215, -4.3119, -4.3747, -4.4064, -4.4294, -4.4173, -4.4204, -4.4363, -4.4252, -4.4457, -4.1688, -4.1727, -3.9012, -4.0355, -4.2265, -4.0824, -4.2809, -4.2205, -4.3059, -2.2422, -2.9055, -2.9237, -2.9653, -3.3751, -3.3978, -3.4022, -3.4045, -3.4188, -3.4353, -3.4538, -3.4868, -3.4988, -3.264, -4.3358, -4.3566, -4.3841, -4.3891, -4.3921, -4.4152, -4.4186, -4.4389, -4.4525, -4.4617, -4.4608, -4.4655, -4.466, -4.468, -4.0773, -4.4902, -4.1387, -4.1659, -3.9647, -4.0862, -4.2555, -4.2567, -4.3512], \"loglift\": [30.0, 29.0, 28.0, 27.0, 26.0, 25.0, 24.0, 23.0, 22.0, 21.0, 20.0, 19.0, 18.0, 17.0, 16.0, 15.0, 14.0, 13.0, 12.0, 11.0, 10.0, 9.0, 8.0, 7.0, 6.0, 5.0, 4.0, 3.0, 2.0, 1.0, 0.6742, 0.6726, 0.6681, 0.6266, 0.5984, 0.5344, 0.5247, 0.4852, 0.4815, 0.4705, 0.4541, 0.4356, 0.4338, 0.4297, 0.4199, 0.4193, 0.1558, -0.4272, -0.44, -0.4488, -0.4579, -0.4872, -0.4956, -0.5158, -0.5323, -0.5645, -0.5703, -0.5745, -0.5784, -0.5814, -0.5851, -0.5919, -0.595, -0.9258, -0.7986, -1.1251, -0.814, 0.7242, 0.6582, 0.6531, 0.6424, 0.6324, 0.6317, 0.6283, 0.612, 0.5967, 0.5938, 0.5821, 0.5678, 0.5666, 0.5616, 0.5514, 0.4895, 0.1168, -0.2089, -0.2461, -0.2617, -0.2862, -0.2912, -0.3542, -0.3849, -0.3919, -0.3968, -0.3989, -0.3997, -0.4049, -0.4084, -0.5344, -0.5398, -0.7995, -0.7111, -0.6113, -0.954, -0.667, -0.895, -0.6926, 0.8863, 0.729, 0.7104, 0.6676, 0.663, 0.6398, 0.6353, 0.6328, 0.6182, 0.6013, 0.5823, 0.5485, 0.5362, 0.0686, -0.3137, -0.3357, -0.3634, -0.3676, -0.3707, -0.3943, -0.3983, -0.4188, -0.4325, -0.4408, -0.4409, -0.4448, -0.4461, -0.4482, -0.462, -0.4706, -0.525, -0.5526, -0.863, -0.7607, -0.6416, -0.9322, -0.738]}, \"token.table\": {\"Topic\": [3, 3, 1, 2, 3, 3, 2, 1, 1, 2, 3, 1, 1, 3, 3, 1, 2, 2, 2, 1, 2, 2, 2, 1, 2, 3, 2, 2, 1, 2, 3, 1, 1, 1, 1, 3, 3, 2, 3, 1, 1, 2, 2, 3, 3, 1, 1], \"Freq\": [0.5730477942904064, 0.858085004575172, 0.8441516126024343, 0.8444812338747891, 0.8589255538870142, 0.8588000461053044, 0.5619682370906395, 0.5622770789761594, 0.844693140591534, 0.8437761533587639, 0.5739819031206438, 0.8419183365366812, 0.844404478129996, 0.6921030560269108, 0.8569669123291058, 0.6738168018571973, 0.8442603689691635, 0.8436730791209893, 0.8440865090462417, 0.8451987284168755, 0.8433981135543037, 0.8435379693984906, 0.8436291234837682, 0.5630511843324534, 0.8434234132135913, 0.8576291883991544, 0.8439826118591639, 0.8439293469001256, 0.84428109080047, 0.42444037740413465, 0.42444037740413465, 0.5619149408977839, 0.8441276559364027, 0.8456617628692698, 0.8445629787100954, 0.8584463664494114, 0.85668480704176, 0.843809257119583, 0.8594285156287746, 0.8451689346442315, 0.8443956689130585, 0.8447160765066871, 0.5621521815952537, 0.5737276118797325, 0.8587542386404009, 0.84466743180379, 0.8428135437392679], \"Term\": [\"0\\uc6d0 \\uad6c\\ub9e4 \\ucfc4\\ub9ad\\ud64d\\uad6d \\uc81c\\ud488 \\ud488\\uc808 \\ub098\\uc11c\\ub2e4 \\uad6c\\ub9e4 \\ubab0\\ub9ac\\ub2e4 \\uac11\\uc790\\uae30 \\uac00\\uaca9 \\ub9cc\\uc6d0 \\uc62c\\ub9ac\\ub2e4 \\ud310\\ub9e4 \\uc800\\ub834\\ud558\\ub2e4 \\ub9c1\\ud06c \\ub0a8\\ub2e4 \\uad6c\\ub9e4 \\ud558\\ub835\\ub2c8\", \"\\uac00\\uaca9 \\uad1c\\ucc2e\\ub2e4 \\ubc30\\uc1a1\", \"\\uac00\\uaca9 \\uad1c\\ucc2e\\ub2e4 \\ubc30\\uc1a1 \\ube0c\\ub9ac \\uce90\\ub098\\ub2e4 \\uac10\\ub9c8 \\ub9ac\\ub180\\ub80c\\uc0b0 \\ubcf4\\ub77c \\uc624\\uc77c \\ub2ec\\ub9de\\uc774\\uaf43 \\uc790\\uc720\", \"\\uac00\\uaca9 \\ub9cc\\uc6d0\", \"\\uac00\\uaca9 \\uc2f8\\ub2e4 \\ubc30\\uc1a1 \\ube68\\ub974\\ub2e4 \\ubc30\\uc1a1 \\ube60\\ub974\\ub2e4 \\ube44\\ub2e4 \\uc800\\ub834\\ud558\\ub2e4\", \"\\uac00\\uaca9 \\uc2f8\\ub2e4 \\uc0ac\\ub2e4 \\ubc30\\uc1a1 \\ube68\\ub974\\ub2e4\", \"\\uac80\\uc0ac \\uacb0\\uacfc \\ud06c\\ub2e4 \\ubcc0\\ud654\", \"\\uae30\\uc874 \\uad6d\\ub0b4 \\uc81c\\ud488 \\uacf5\\uad6c \\ud310\\ub9e4 \\ube44\\uc2f8\\ub2e4 \\uc131\\ubd84 \\ubcf5\\uc6a9 \\ud574\\ubd24\\ub2e4 \\ud2b8\\ub7ec\\ube14\", \"\\ub0a8\\uc131 32 \\uc0ac\\ubb34\\uc9c1 \\uc9c1\\uc7a5\\uc778 5\\ub144 \\ub300\\ub9ac \\uc218\\ud5d8\\uc0dd \\ub3c4\\uc6c0 \\uc2f6\\ub2e4 \\uad6c\\ub9e4 \\ub290\\ub07c\\ub2e4\", \"\\ub0c4\\uc0c8 \\ub0c4\\uc0c8 \\uad81\\uae08\\ud558\\ub2e4 \\ucc1d\\ucc1d\\ud558\\ub2e4 \\uc18d\\ub3c4 \\uc548\\uc88b\\ub2e4 \\uc544\\ud504\\ub2e4\", \"\\ub300\\uc6c5\\uc81c\\uc57d \\uc6b0\\ub8e8\\uc0ac \\uc54c\\ub824\\uc9c0\\ub2e4 \\ubbff\\ub2e4 \\uad6c\\ub9e4 \\ud310\\ub9e4 \\uc81c\\uc870 \\ucf54\\uc2a4 \\ub9e5\\uc2a4 \\ubc14\\uc774\\uc624 \\uc6b0\\uca0b \\uba39\\uae30 \\uc7ac\\ub2e4 \\ub9e4\\ub2e4 \\ubcd1\\uc6d0 \\uac74\\uac15 \\uc548\\uc88b\\ub2e4 \\uc2e0\\uacbd \\uc368\\ub2e4\", \"\\uba39\\uae30 \\ud608\\uc561 \\uac80\\uc0ac \\ube44\\uad50 \\ud574\\ubcf4\\ub2e4 \\ub808\\uc2a4 \\ud2b8\\ub864 \\uc218\\uce58 \\uac10\\uc18c \\uac10\\ub9c8 \\uc218\\uce58 \\uc0c1\\uc2b9 \\uc57c\\ud558\\ub2e4 \\uc591\\uc81c \\uc815\\ud655\\ud558\\ub2e4 \\uc0c1\\uad00\\uad00\\uacc4 \\uc54c\\ub2e4 \\uc758\\uc2ec \\uc0c1\\ud669 \\ubcf5\\uc6a9 \\uc26c\\ub2e4 \\uae30\\uac04 \\uc57c\\ud558\\ub2e4\", \"\\ubc15\\uc2a4 \\uc655\\ucc3d \\ud30c\\uc190 \\ucc22\\uc5b4\\uc9c0\\ub2e4 \\ubc30\\uc1a1 \\ub3fc\\ub2e4 \\uae30\\ubd84 \\uc88b\\ub2e4\", \"\\ubc30\\uc1a1 \\ub290\\ub9ac\\ub2e4 \\uc131\\ub2a5 \\uc131\\ub2a5 \\ub6f0\\uc5b4\\ub098\\ub2e4 \\uc720\\ud1b5 \\uae30\\ud55c \\uae30\\ud55c \\ub109\\ub109\\ud558\\ub2e4 \\ubc30\\uc1a1 \\ub290\\ub9ac\\ub2e4\", \"\\ubc30\\uc1a1 \\ub290\\ub9ac\\ub2e4 \\uc131\\ub2a5 \\uc131\\ub2a5 \\ubcc4\\ub85c \\uc720\\ud1b5 \\uae30\\ud55c \\ubcf4\\ub77c \\uc624\\uc77c \\ub2ec\\ub9de\\uc774\\uaf43 \\uc624\\uc77c \\uac31\\ub144\\uae30 \\uc99d\\uc0c1 \\ud6a8\\ub2a5 \\ud68c\\uc0ac \\ube44\\uad50 \\uac10\\ub9c8 \\ub9ac\\ub180\\ub80c\\uc0b0 \\ud568\\uc720 10% \\ub192\\ub2e4 \\uac00\\uaca9 \\uc0c1\\ub2f9\\ud558\\ub2e4 \\ube44\\uc2f8\\ub2e4 \\ud68c\\uc0ac 40,000\\uc6d0 \\uc81c\\ud488 48,000\\uc6d0 \\uac00\\uaca9 \\uc0c8\\ub2e4 \\ubaa8\\ub974\\ub2e4 30% \\uc62c\\ub9ac\\ub2e4 \\ud310\\ub9e4 \\uc904\\uc774\\ub2e4 \\uad18\\uc538\\ud558\\ub2e4 \\uc81c\\ud488 \\uad6c\\uc785 \\uc77c\\ub958 \\ub0b1\\uac1c \\ud3ec\\uc7a5 \\ubcf4\\uad00 \\uc628\\ub3c4 \\uc911\\uc694\\ud558\\ub2e4 \\uc81c\\ud488 \\uc800\\ub834\\ud558\\ub2e4 \\uc6a9\\ub7c9 \\ud3ec\\uc7a5 \\uad6c\\uc785 \\ub0c9\\uc7a5\\uace0 \\ub123\\ub2e4 \\uc0c1\\uc138 \\uc0c1\\uc138 \\uc0c1\\uc138 \\uc0c1\\uc138\", \"\\ubc30\\uc1a1 \\ube68\\ub974\\ub2e4 \\uc131\\ub2a5 \\uc131\\ub2a5 \\ubcc4\\ub85c \\uc720\\ud1b5 \\uae30\\ud55c \\uae30\\ud55c \\ub109\\ub109\\ud558\\ub2e4 \\ubc15\\uc2a4 \\uaddc\\uce59 \\ud608\\uc555 \\uce21\\uc815 \\ubcf5\\uc6a9 \\uc804\\uacfc \\ubcf5\\uc6a9 \\uac1c\\uc6d4\\ucc28 \\ubcc4\\ub2e4\\ub974\\ub2e4 \\uac1c\\uc120\", \"\\ubc30\\uc1a1 \\ube68\\ub974\\ub2e4 \\uc131\\ub2a5 \\uc131\\ub2a5 \\ubcc4\\ub85c \\uc720\\ud1b5 \\uae30\\ud55c \\uae30\\ud55c \\ub109\\ub109\\ud558\\ub2e4 \\ubd88\\ud589\\ud558\\ub2e4 \\uc640\\uc774\\ud504 \\ub298\\ub2e4\", \"\\ubc30\\uc1a1 \\ube68\\ub974\\ub2e4 \\uc131\\ub2a5 \\uc131\\ub2a5 \\ubcc4\\ub85c \\uc720\\ud1b5 \\uae30\\ud55c \\uae30\\ud55c \\ub109\\ub109\\ud558\\ub2e4 \\uc804\\ud600\", \"\\ubc30\\uc1a1 \\ube68\\ub974\\ub2e4 \\uc720\\ud1b5 \\uae30\\ud55c \\uc2a4\\ud0a8 \\ucf5c\\ub808\\uc2a4\\ud2f4 \\ud608\\uad00 \\uac74\\uac15 \\ucf5c\\ub808\\uc2a4\\ud14c\\ub864 \\uac74\\uac15 \\ud64d\\uad6d \\ud568\\uc720 \\uc0c1\\uc138\", \"\\ubc30\\uc1a1 \\uc0c1\\ud488 \\uc0c1\\uc138\", \"\\ubc30\\uc1a1 \\uc131\\ub2a5 \\uc131\\ub2a5 \\ubcc4\\ub85c \\uc720\\ud1b5 \\uae30\\ud55c \\uac10\\ub9c8 \\ub9ac\\ub180\\ub80c\\uc0b0 \\ud6a8\\ub2a5 \\uc5b4\\ub5bb\\ub2e4 \\uc81c\\uc57d\\ud68c\\uc0ac \\uc81c\\ud488 \\uc5ec\\uc131 \\uac31\\ub144\\uae30 \\uc720\\ub3c5 \\uc0c1\\ud488 \\uac00\\uaca9 \\ub192\\ub2e4 \\ud68c\\uc0ac \\ube44\\uad50 \\uac10\\ub9c8 \\ub9ac\\ub180\\ub80c\\uc0b0 \\ud568\\uc720 10% \\ub192\\ub2e4 \\uac00\\uaca9 \\ub192\\ub2e4 \\ud68c\\uc0ac \\uc81c\\ud488 40,000\\uc6d0 \\uac00\\uaca9 \\uc0c8\\ub2e4 \\ubaa8\\ub974\\ub2e4 30% \\uc62c\\ub9ac\\ub2e4 \\ub1a8\\ub124 90 \\ucea1\\uc290 \\ud310\\ub9e4 60 \\ucea1\\uc290 \\uc904\\uc774\\ub2e4 \\uad18\\uc538\\ud558\\ub2e4 \\ub2e4\\uc2dc\\ub2e4 \\uad6c\\uc785 \\uc0c1\\uc138 \\uc0c1\\uc138 \\uc0c1\\uc138\", \"\\ubc30\\uc1a1 \\uc131\\ub2a5 \\uc131\\ub2a5 \\ubcc4\\ub85c \\uc720\\ud1b5 \\uae30\\ud55c \\uae30\\ud55c \\uc9e7\\ub2e4\", \"\\ubc30\\uc1a1 \\uc798\\ubabb \\uac74\\uc9c0\\ub2e4 \\uadf8\\ub807\\ub2e4 \\ubc15\\uc2a4 \\ucc0c\\uadf8\\ub7ec\\uc9c0\\ub2e4 \\ucc22\\uae30\\ub2e4 \\ud280\\uc5b4\\ub098\\uc624\\ub2e4 \\uba87\\uac1c \\uadc0\\ucc2e\\ub2e4 \\ubc84\\ub9ac\\ub2e4 \\uc774\\ub807\\ub2e4 \\uc2e0\\uacbd \\uc368\\uc8fc\\ub2e4 \\uc9dc\\uc99d\\ub098\\ub2e4\", \"\\ubcc4\\ub85c \\uc88b\\ub2e4 \\uc0ac\\ub2e4 \\uc54c\\uc57d \\ub118\\ub2e4 \\ub118\\uc5b4\\uac00\\ub2e4 \\uac78\\ub9ac\\ub2e4 \\ub9c8\\ub0e5 \\ubd88\\ud3b8\\ud558\\ub2e4 \\uc54c\\uc57d \\ub179\\ucc28 \\ucd94\\ucd9c \\ubb3c\\ub2e4 \\ub9de\\ub2e4 \\uce74\\ud398\\uc778 \\uc7a5\\uae30\\uac04 \\ubcf5\\uc6a9 \\uc6b0\\ub824 \\uc190\\uc0c1 \\uc190\\uc0c1 \\ubaa8\\ub974\\ub2e4 \\ub04a\\uc74c \\ub2e4\\uc774\\uc5b4\\ud2b8 \\uc4f0\\ub2e4 \\uc778\\uc6a9 \\uccad\\uc18c\\ub144 \\uc0ac\\uba74 \\ub0ad\\ud328\", \"\\ubcf5\\uc6a9 \\uc54c\\ub2e4 \\uadf8\\ub2e4\\uc9c0 \\ud06c\\ub2e4 \\ubcc0\\ud654 \\ubaa8\\ub974\\ub2e4\", \"\\uc0ac\\ub2e4 \\ubc30\\uc1a1 \\uc0c1\\ud0dc \\uae30\\ubd84 \\uc88b\\ub2e4\", \"\\uc131\\ub2a5 \\uc131\\ub2a5 \\ub6f0\\uc5b4\\ub098\\ub2e4\", \"\\uc131\\uc7a5 \\ube44\\uc2f8\\ub2e4 \\uc8fc\\ubba8 \\ud5c8\\ub2e4 \\ud06c\\ub2e4 \\uba39\\uc774\\ub2e4 \\uace0\\uc601 \\uc591\\uc81c \\uba39\\uc774\\ub2e4 \\ud06c\\ub2e4 \\uc720\\uc804 \\ud06c\\ub2e4 \\uc560\\uac00 \\ud06c\\ub2e4 \\uc560\\uac00 \\ud06c\\ub2e4 \\uc720\\uc804\\uc790 \\uac70\\ub098 \\ud06c\\ub2e4\", \"\\uc2e0\\ub791 \\uc0ac\\ub2e4 \\ub808\\uc2dc\\ud2f4 \\uac04\\uc9c0\\ub7fd\\ub2e4 \\uae01\\ub2e4 \\ub300\\ub2e4 \\uc2e0\\ub791 \\ub808\\uc2dc\\ud2f4 \\ubd80\\uc791\\uc6a9 \\uac80\\uc0c9 \\ud574\\ubcf4\\ub2e4 \\uac04\\uc9c0\\ub7fd\\ub2e4 \\uc6c0\\uc99d \\ub450\\ub4dc\\ub7ec\\uae30 \\ubd80\\uc791\\uc6a9 \\uac00\\ub824\\uc6c0\\uc99d \\ube68\\uac1b\\ub2e4 \\uc88b\\uc544\\uc9c0\\ub2e4 \\uccb4\\uc9c8 \\ub2e4\\ub974\\ub2e4 \\ud310\\ub2e8 \\ud06c\\ub2e4 \\uc0c8\\ub07c\\uc190\\uac00\\ub77d \\ub9c8\\ub514 \\ud569\\uce58\\ub2e4\", \"\\uc2f8\\ub2e4 \\uad6c\\uc785 \\uc880\\uc300 \\ud53c\\ubd80 \\uac00\\ub824\\uc6c0 \\uc77c\\uc5b4\\ub098\\uc11c \\uc911\\uc9c0 2\\uc77c \\uc911\\uc9c0 \\uac00\\ub824\\uc6c0\\uc99d \\uc131\\ubd84 \\uad6c\\uc785 19000\\uc6d0 \\ud0dd\\ubc30 5\\ub9cc\\uc6d0\", \"\\uc2f8\\ub2e4 \\uad6c\\uc785 \\uc880\\uc300 \\ud53c\\ubd80 \\uac00\\ub824\\uc6c0 \\uc77c\\uc5b4\\ub098\\uc11c \\uc911\\uc9c0 2\\uc77c \\uc911\\uc9c0 \\uac00\\ub824\\uc6c0\\uc99d \\uc131\\ubd84 \\uad6c\\uc785 19000\\uc6d0 \\ud0dd\\ubc30 5\\ub9cc\\uc6d0\", \"\\uc544\\uc27d\\ub2e4 \\uc548\\ucabd \\ub0a8\\ud3b8 \\ubcf5\\uc6a9 \\uba39\\uae30\", \"\\uc544\\ud504\\ub2e4 \\uc0c1\\ud488 \\uad1c\\ucc2e\\ub2e4 \\ubcf4\\uc774\\ub2e4 \\ub9de\\ub2e4\", \"\\uc54c\\uc57d \\ub179\\ub2e4 \\ub3fc\\ub2e4 \\ub3fc\\ub2e4 \\uad73\\ub2e4 \\ube60\\uc9c0\\ub2e4 \\ubcd1\\uc18d \\ub369\\uc5b4\\ub9ac \\ubb49\\uce58\\ub2e4 \\ubc84\\ub9ac\\ub2e4 \\ubc18\\ud488 \\uadc0\\ucc2e\\ub2e4\", \"\\uc608\\uc120 \\ubcf4\\ub77c \\uc9c0\\uc720 \\uad6c\\ub9e4 \\ud574\\ubd24\\ub2e4 \\uc804\\ud600 \\uc0dd\\ub9ac \\uc99d\\ud6c4\\uad70\", \"\\uc720\\ud1b5 \\uae30\\ud55c \\ud3ec\\uc7a5 \\uc0c1\\ud0dc\", \"\\uc774\\uc720 \\uc885\\uadfc\\ub2f9 \\uc81c\\ud488 \\ubb38\\ud574 \\ud608\\uc555 \\ub0ae\\uc544\\uc9c0\\ub2e4 \\uafb8\\ub2e4 1\\ub144 \\uadf8\\ub807\\ub2e4 \\uc81c\\ud488 \\ub2e4\\uc2dc \\ubc14\\uafb8\\ub2e4 \\uafb8\\uc900\\ud558\\ub2e4 \\ubcf5\\uc6a9 \\uc88b\\uc544\\uc9c0\\ub2e4 \\uae30\\ub300\\ud558\\ub2e4\", \"\\uc778\\uc9c0\\uc9c8 \\uc88b\\ub2e4 \\uc544\\uc2dc \\ub2e5\\ud130 \\ud06c\\ub9b4 \\uc624\\uc77c\\ud314 \\ud45c\\ud604 \\ud06c\\ub9b4 \\uc778\\uc9c0\\uc9c8 \\ub808\\uc2dc\\ud2f4 \\uc2f8\\ub2e4 \\ud568\\ub7c9 \\ub192\\ub2e4 \\ubd81\\uadf9\\ud574 \\uc0dd\\ud0dc\\uacc4 \\uc0b4\\ub9ac\\ub2e4 \\uc0c1\\uc138 \\uc0c1\\uc138\", \"\\uc7a5\\uae30 \\uc54c\\ub2e4 \\uc88b\\ub2e4 \\uc88b\\ub2e4 \\uc88b\\ub2e4 \\uc88b\\ub2e4 \\uc88b\\ub2e4 \\uc88b\\ub2e4 \\uc88b\\ub2e4 \\uc88b\\ub2e4\", \"\\uc81c\\ud488 \\ub8e8\\ud14c\\uc778 \\uac74\\uac15 \\ub3d9\\uc2dc \\uac74\\uac15 \\ub3c4\\uc6c0 2\\uc870 \\uad6c\\uc785 \\uc720\\ud6a8 \\uae30\\uac04 2023\\ub144 9\\uc6d4 23\\uc77c \\uc774\\uc815 \\uc720\\ud6a8 \\uae30\\uac04 \\ucda9\\ubd84\\ud558\\ub2e4 \\ubc30\\uc1a1 \\ud3ec\\uc7a5 \\uc0c1\\ud0dc \\uae5c\\uc9dd \\ub180\\ub77c\\ub2e4 \\uac74\\uac15 \\ubcf4\\uc870 \\uc2dd\\ud488 \\uc81c\\ud488 \\uc2f8\\ub2e4 \\ubc15\\uc2a4 \\ud3ec\\uc7a5 \\ucfe0\\ud321 \\ub85c\\ucf13 \\ubc30\\uc1a1 \\ube44\\ub2d0 \\ud3ec\\uc7a5 \\uc9c0\\ub85c \\ud3ec\\uc7a5 \\uc81c\\ud488 \\uc5b4\\ubcf4 \\uc548\\uc88b\\ub2e4 \\uc608\\uac10 \\uc5ed\\uc26c \\uc81c\\ud488 \\ud3ec\\uc7a5 \\ud130\\uc9c0\\ub2e4 \\ud3ec\\uc7a5 \\uc81c\\ub3c4 \\uc774\\ub807\\ub2e4 \\uc0c1\\ud0dc \\ubc30\\uc1a1 \\uc138\\uade0 \\uc8fc\\ubb38 \\uc81c\\ud488 \\ubc14\\uafb8\\ub2e4 \\ucfe0\\ud321 \\uccb4\\ud5d8 \\uc774\\ubca4\\ud2b8 \\uc0c1\\ud488 \\ubb34\\ub8cc \\uc81c\\uacf5 \\uc791\\uc131 \\uad6c\\ub9e4 \\ud6c4\\uae30\", \"\\uc81c\\ud488 \\ucc0c\\uadf8\\ub7ec\\uc9c0\\ub2e4 \\ud574\\uc678 \\ubc30\\uc1a1 \\ubbff\\ub2e4\", \"\\uc88b\\uc544\\uc9c0\\ub2e4 \\ubaa8\\ub974\\ub2e4 \\uc88b\\uc544\\uc9c0\\ub2e4 \\ubaa8\\ub974\\ub2e4 \\ubd80\\uc791\\uc6a9 \\uc548\\ub098 \\ub294\\uac78 \\uc5ec\\uae30\\ub2e4 \\uc57c\\ud558\\ub2e4\", \"\\uc8fc\\ubb38 \\ud574\\uc678 \\uad6c\\ub9e4 \\ub300\\ud589 \\uc81c\\ud488 \\ubc18\\ud488 \\uc548\\ub418\\ub2e4 \\uc5f0\\ub77d \\uc548\\ub418\\ub2e4 \\ucc28\\ub2e4 \\uc5b4\\uc774\\uc5c6\\ub2e4\", \"\\uc904\\uc904\", \"\\ucb48\\uc6b1 \\uc81c\\ud488 11 \\uc808\\ub54c \\ud560\\uc778 \\uc8fc\\ubb38 \\uc0c1\\uc138 \\uc0c1\\uc138\", \"\\ucfe0\\ud321 \\ud310\\ub9e4 \\uc81c\\ud488 \\uac00\\uaca9 \\uc218\\ub7c9 \\ud5c8\\uc704 \\uc815\\ubcf4 \\ub178\\ucd9c\\ud558\\ub2e4 \\uacb0\\uc81c \\ub098\\ub2c8 \\ud310\\ub9e4 \\uc790\\ub3c4 \\ubc1c\\uc1a1 \\ucfe0\\ud321 \\uc774\\uc720 \\uc218\\ub839 \\uc608\\uc815 \\ub0a0\\uc9dc \\ub2e4\\uac00\\uc624\\ub2e4 \\ucde8\\uc18c \\ud544\\uc694\\ud558\\ub2e4 \\ub0a0\\uc9dc \\uc784\\ubc15 \\uae09\\ud558\\ub2e4 \\ube44\\uc2f8\\ub2e4 \\uc6b8\\ub2e4 \\uaca8\\uc790 \\uba39\\uae30 \\uc790\\uc0ac \\ub85c\\ucf13 \\ubc30\\uc1a1 \\uc81c\\ud488 \\uad6c\\ub9e4 \\uc8fc\\ubb38 \\ub4e4\\uc5b4\\uc624\\ub2e4 \\ud310\\ub9e4 \\ubc1c\\uc1a1 \\uc815\\uc0c1 \\uc0ac\\uc720 \\uace0\\uac1d \\uace0\\uc9c0 \\uc0c1\\uc2dd \\uc544\\ub2c8\\ub2e4 \\uc774\\ub807\\ub2e4 \\uae30\\ubcf8 \\ub9e4\\ub274\\uc5bc \\uad50\\uc721 \\uc548\\ub418\\ub2e4 \\uac74\\uc9c0\\ub2e4 \\uc758\\ub3c4 \\ubc14\\uc778 \\uc5b4\\ub5bb\\ub2e4 \\uc8fc\\ubb38 \\uc9c0\\ub098\\ub2e4 \\uc18c\\uc2dd \\ud310\\ub9e4 \\ubb38\\uc758 \\ucfe0\\ud321 \\ubc30\\uc1a1 \\ubd88\\uac00 \\ucfe0\\ud321 \\ubb38\\uc758 \\ucde8\\uc18c \\uacbd\\uc704 \\ud5c8\\uc704 \\ub178\\ucd9c \\ud310\\ub9e4 \\uc758\\ubb34\\ubd88\\uc774\\ud589 \\ud30c\\uc545 \\uc5f0\\ub77d \\ubd80\\ud0c1 \\ucde8\\uc18c \\ubb38\\uc790 \\ub2ec\\ub791 \\uc815\\uc0c1\", \"\\ud0dd\\ubc30 \\ubc15\\uc2a4 \\uc816\\ub2e4 \\uc81c\\ud488 \\uad1c\\ucc2c\\uc744\\uc904 \\uc548\\ub2e4 \\uc57d\\ud488 \\uc544\\ub2c8\\ub2e4 \\uac74\\uac15 \\uc2dd\\ud488 \\uad00\\ub9ac \\ubcf4\\uad00 \\uc0c1\\ud0dc \\uc911\\uc694 \\uc81c\\ud488 \\ubc15\\uc2a4 \\uc81c\\ud488 \\uc816\\ub2e4 \\uad1c\\ucc2c\\uc744\\uc904\\uc54c \\ubc15\\uc2a4 \\uac1c\\ubd09 \\ud574\\ubcf4\\ub2e4 \\ubc15\\uc2a4 \\ub20c\\ub838\\ub294 \\uc54c\\uc57d \\ud280\\uc5b4 \\ubc97\\uae30\\ub2e4 \\uc815\\ub9d0 \\uc81c\\ud488 \\uc2f8\\ub2e4 \\uac00\\uaca9 \\uc544\\ub2c8\\ub2e4 \\ub2e4\\uc2dc \\ubc18\\ud488\"]}, \"R\": 30, \"lambda.step\": 0.01, \"plot.opts\": {\"xlab\": \"PC1\", \"ylab\": \"PC2\"}, \"topic.order\": [1, 2, 3]};\n",
       "\n",
       "function LDAvis_load_lib(url, callback){\n",
       "  var s = document.createElement('script');\n",
       "  s.src = url;\n",
       "  s.async = true;\n",
       "  s.onreadystatechange = s.onload = callback;\n",
       "  s.onerror = function(){console.warn(\"failed to load library \" + url);};\n",
       "  document.getElementsByTagName(\"head\")[0].appendChild(s);\n",
       "}\n",
       "\n",
       "if(typeof(LDAvis) !== \"undefined\"){\n",
       "   // already loaded: just create the visualization\n",
       "   !function(LDAvis){\n",
       "       new LDAvis(\"#\" + \"ldavis_el2817614048397988006831836166\", ldavis_el2817614048397988006831836166_data);\n",
       "   }(LDAvis);\n",
       "}else if(typeof define === \"function\" && define.amd){\n",
       "   // require.js is available: use it to load d3/LDAvis\n",
       "   require.config({paths: {d3: \"https://d3js.org/d3.v5\"}});\n",
       "   require([\"d3\"], function(d3){\n",
       "      window.d3 = d3;\n",
       "      LDAvis_load_lib(\"https://cdn.jsdelivr.net/gh/bmabey/pyLDAvis@3.4.0/pyLDAvis/js/ldavis.v3.0.0.js\", function(){\n",
       "        new LDAvis(\"#\" + \"ldavis_el2817614048397988006831836166\", ldavis_el2817614048397988006831836166_data);\n",
       "      });\n",
       "    });\n",
       "}else{\n",
       "    // require.js not available: dynamically load d3 & LDAvis\n",
       "    LDAvis_load_lib(\"https://d3js.org/d3.v5.js\", function(){\n",
       "         LDAvis_load_lib(\"https://cdn.jsdelivr.net/gh/bmabey/pyLDAvis@3.4.0/pyLDAvis/js/ldavis.v3.0.0.js\", function(){\n",
       "                 new LDAvis(\"#\" + \"ldavis_el2817614048397988006831836166\", ldavis_el2817614048397988006831836166_data);\n",
       "            })\n",
       "         });\n",
       "}\n",
       "</script>"
      ],
      "text/plain": [
       "<IPython.core.display.HTML object>"
      ]
     },
     "execution_count": 21,
     "metadata": {},
     "output_type": "execute_result"
    }
   ],
   "source": [
    "pyLDAvis.display(result_visualized)"
   ]
  },
  {
   "cell_type": "code",
   "execution_count": 29,
   "id": "4deeeb43-fb45-4630-b7b2-c817e4c30ca7",
   "metadata": {
    "tags": []
   },
   "outputs": [],
   "source": [
    "pyLDAvis.save_html(result_visualized, '../datasets/result_visualized.html')"
   ]
  },
  {
   "cell_type": "code",
   "execution_count": null,
   "id": "331de5a8-658f-489d-a799-a41f282ab173",
   "metadata": {},
   "outputs": [],
   "source": []
  }
 ],
 "metadata": {
  "kernelspec": {
   "display_name": "Python 3 (ipykernel)",
   "language": "python",
   "name": "python3"
  },
  "language_info": {
   "codemirror_mode": {
    "name": "ipython",
    "version": 3
   },
   "file_extension": ".py",
   "mimetype": "text/x-python",
   "name": "python",
   "nbconvert_exporter": "python",
   "pygments_lexer": "ipython3",
   "version": "3.11.3"
  }
 },
 "nbformat": 4,
 "nbformat_minor": 5
}
