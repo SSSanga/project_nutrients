{
 "cells": [
  {
   "cell_type": "code",
   "execution_count": 2,
   "id": "935aed44-c386-451a-8dbd-51e8394e5a96",
   "metadata": {
    "tags": []
   },
   "outputs": [],
   "source": [
    "# !pip install python-mecab-ko pyLDAvis"
   ]
  },
  {
   "cell_type": "code",
   "execution_count": 1,
   "id": "0a485173-b2fb-44ca-b22f-323fb8bb7e5d",
   "metadata": {
    "tags": []
   },
   "outputs": [],
   "source": [
    "import numpy as np"
   ]
  },
  {
   "cell_type": "code",
   "execution_count": 2,
   "id": "ce83d4eb-32b5-4638-a7d0-993a8eda3dec",
   "metadata": {
    "tags": []
   },
   "outputs": [],
   "source": [
    "# cholesterolreview_negative.csv\n",
    "import pandas as pd\n",
    "df_review_negative = pd.read_csv('../datasets/cholesterolreview_negative.csv')"
   ]
  },
  {
   "cell_type": "code",
   "execution_count": 3,
   "id": "9ebd3241-ffbd-4dac-8ee2-1fbb82629ef2",
   "metadata": {
    "tags": []
   },
   "outputs": [
    {
     "name": "stdout",
     "output_type": "stream",
     "text": [
      "<class 'pandas.core.frame.DataFrame'>\n",
      "RangeIndex: 66 entries, 0 to 65\n",
      "Data columns (total 9 columns):\n",
      " #   Column            Non-Null Count  Dtype  \n",
      "---  ------            --------------  -----  \n",
      " 0   Unnamed: 0        66 non-null     int64  \n",
      " 1   _id               66 non-null     object \n",
      " 2   product_name      66 non-null     object \n",
      " 3   review_writer     66 non-null     object \n",
      " 4   review_date       66 non-null     object \n",
      " 5   review_star       66 non-null     float64\n",
      " 6   review_content    66 non-null     object \n",
      " 7   tokenizer_review  66 non-null     object \n",
      " 8   replaced_review   66 non-null     object \n",
      "dtypes: float64(1), int64(1), object(7)\n",
      "memory usage: 4.8+ KB\n"
     ]
    }
   ],
   "source": [
    "df_review_negative.info()"
   ]
  },
  {
   "cell_type": "code",
   "execution_count": 4,
   "id": "0e897db0-a1cc-49d2-9b73-853e30993f1a",
   "metadata": {
    "tags": []
   },
   "outputs": [],
   "source": [
    "df_review_negative = df_review_negative.dropna()"
   ]
  },
  {
   "cell_type": "markdown",
   "id": "063b6532-b833-4876-bc55-53cb9801d85c",
   "metadata": {},
   "source": [
    "### LDA 분석(review_negative)"
   ]
  },
  {
   "cell_type": "markdown",
   "id": "01d207e4-a939-4466-bc2f-af8da9bbef69",
   "metadata": {},
   "source": [
    "##### 문장 벡터화(review_negative)"
   ]
  },
  {
   "cell_type": "code",
   "execution_count": 5,
   "id": "ce070acc-81dc-4ca9-80a1-185883e05bb8",
   "metadata": {
    "tags": []
   },
   "outputs": [],
   "source": [
    "from gensim.corpora import Dictionary"
   ]
  },
  {
   "cell_type": "code",
   "execution_count": 6,
   "id": "dc2827d9-40bb-4e4b-a15c-967386393183",
   "metadata": {
    "tags": []
   },
   "outputs": [
    {
     "data": {
      "text/plain": [
       "<gensim.corpora.dictionary.Dictionary at 0x19a8a0eaa90>"
      ]
     },
     "execution_count": 6,
     "metadata": {},
     "output_type": "execute_result"
    }
   ],
   "source": [
    "# df_review_negative dictionary\n",
    "dictionary = Dictionary(df_review_negative[['replaced_review']].values)\n",
    "dictionary"
   ]
  },
  {
   "cell_type": "code",
   "execution_count": 7,
   "id": "404d4eb5-6d0a-476a-8a0b-32eca97eff8e",
   "metadata": {
    "tags": []
   },
   "outputs": [
    {
     "data": {
      "text/plain": [
       "[(3, 1)]"
      ]
     },
     "execution_count": 7,
     "metadata": {},
     "output_type": "execute_result"
    }
   ],
   "source": [
    "dictionary.doc2bow(df_review_negative[['replaced_review']].values[3])"
   ]
  },
  {
   "cell_type": "code",
   "execution_count": 8,
   "id": "2088e0ba-f9ed-4d6e-9901-5833b4f50d1d",
   "metadata": {
    "tags": []
   },
   "outputs": [],
   "source": [
    "# dictionary에 의한 한글 문장을 벡터화 변환\n",
    "corpus_list = list()\n",
    "for sentence in df_review_negative[['replaced_review']].values :\n",
    "  vectors = dictionary.doc2bow(sentence)\n",
    "  corpus_list.append(vectors)"
   ]
  },
  {
   "cell_type": "code",
   "execution_count": 9,
   "id": "55d2d2ce-e455-46e4-96aa-14450e7b3211",
   "metadata": {
    "tags": []
   },
   "outputs": [],
   "source": [
    "df_review_negative['문장벡터화'] = corpus_list"
   ]
  },
  {
   "cell_type": "code",
   "execution_count": 10,
   "id": "15ef6da6-9d6b-4ae5-ace9-4a09f2ce408e",
   "metadata": {
    "tags": []
   },
   "outputs": [
    {
     "data": {
      "text/plain": [
       "Index(['Unnamed: 0', '_id', 'product_name', 'review_writer', 'review_date',\n",
       "       'review_star', 'review_content', 'tokenizer_review', 'replaced_review',\n",
       "       '문장벡터화'],\n",
       "      dtype='object')"
      ]
     },
     "execution_count": 10,
     "metadata": {},
     "output_type": "execute_result"
    }
   ],
   "source": [
    "df_review_negative.columns"
   ]
  },
  {
   "cell_type": "markdown",
   "id": "d1a3749e-a02d-4899-a122-45b09e27b8a9",
   "metadata": {},
   "source": [
    "##### 토픽 잡기(review_negative)"
   ]
  },
  {
   "cell_type": "code",
   "execution_count": 11,
   "id": "7d3e2ca9-a9e1-4a06-b278-08a08ccd7094",
   "metadata": {
    "tags": []
   },
   "outputs": [],
   "source": [
    "from gensim.models import LdaModel"
   ]
  },
  {
   "cell_type": "code",
   "execution_count": 12,
   "id": "683ae0a6-8deb-49ca-82c7-cb7260c4729c",
   "metadata": {
    "tags": []
   },
   "outputs": [],
   "source": [
    "lda_model = LdaModel(corpus=corpus_list, id2word=dictionary, num_topics=9)"
   ]
  },
  {
   "cell_type": "code",
   "execution_count": 13,
   "id": "b16eaf94-419c-4f65-8de4-40833ec370ad",
   "metadata": {
    "tags": []
   },
   "outputs": [
    {
     "data": {
      "text/plain": [
       "[(0,\n",
       "  '0.156*\"쭈욱 제품 11 절때 할인 주문 상세 상세\" + 0.156*\"박스 왕창 파손 찢어지다 배송 돼다 기분 좋다\" + 0.016*\"배송 빨르다 성능 성능 별로 유통 기한 기한 넉넉하다 박스 규칙 혈압 측정 복용 전과 복용 개월차 별다르다 개선\" + 0.016*\"배송 느리다 성능 성능 뛰어나다 유통 기한 기한 넉넉하다 배송 느리다\"'),\n",
       " (1,\n",
       "  '0.182*\"택배 박스 젖다 제품 괜찬을줄 안다 약품 아니다 건강 식품 관리 보관 상태 중요 제품 박스 제품 젖다 괜찬을줄알 박스 개봉 해보다 박스 눌렸는 알약 튀어 벗기다 정말 제품 싸다 가격 아니다 다시 반품\" + 0.123*\"대웅제약 우루사 알려지다 믿다 구매 판매 제조 코스 맥스 바이오 우쨋 먹기 재다 매다 병원 건강 안좋다 신경 써다\" + 0.123*\"배송 느리다 성능 성능 뛰어나다 유통 기한 기한 넉넉하다 배송 느리다\" + 0.123*\"줄줄\"'),\n",
       " (2,\n",
       "  '0.206*\"배송 빨르다 성능 성능 별로 유통 기한 기한 넉넉하다 박스 규칙 혈압 측정 복용 전과 복용 개월차 별다르다 개선\" + 0.140*\"0원 구매 쿄릭홍국 제품 품절 나서다 구매 몰리다 갑자기 가격 만원 올리다 판매 저렴하다 링크 남다 구매 하렵니\" + 0.140*\"아쉽다 안쪽 남편 복용 먹기\" + 0.073*\"냄새 냄새 궁금하다 찝찝하다 속도 안좋다 아프다\"'),\n",
       " (3,\n",
       "  '0.174*\"배송 느리다 성능 성능 뛰어나다 유통 기한 기한 넉넉하다 배송 느리다\" + 0.092*\"가격 만원\" + 0.092*\"검사 결과 크다 변화\" + 0.092*\"배송 성능 성능 별로 유통 기한 기한 짧다\"'),\n",
       " (4,\n",
       "  '0.110*\"주문 해외 구매 대행 제품 반품 안되다 연락 안되다 차다 어이없다\" + 0.058*\"먹기 혈액 검사 비교 해보다 레스 트롤 수치 감소 감마 수치 상승 야하다 양제 정확하다 상관관계 알다 의심 상황 복용 쉬다 기간 야하다\" + 0.058*\"배송 빨르다 성능 성능 별로 유통 기한 기한 넉넉하다 박스 규칙 혈압 측정 복용 전과 복용 개월차 별다르다 개선\" + 0.058*\"이유 종근당 제품 문해 혈압 낮아지다 꾸다 1년 그렇다 제품 다시 바꾸다 꾸준하다 복용 좋아지다 기대하다\"'),\n",
       " (5,\n",
       "  '0.100*\"기존 국내 제품 공구 판매 비싸다 성분 복용 해봤다 트러블\" + 0.100*\"신랑 사다 레시틴 간지럽다 긁다 대다 신랑 레시틴 부작용 검색 해보다 간지럽다 움증 두드러기 부작용 가려움증 빨갛다 좋아지다 체질 다르다 판단 크다 새끼손가락 마디 합치다\" + 0.100*\"남성 32 사무직 직장인 5년 대리 수험생 도움 싶다 구매 느끼다\" + 0.100*\"인지질 좋다 아시 닥터 크릴 오일팔 표현 크릴 인지질 레시틴 싸다 함량 높다 북극해 생태계 살리다 상세 상세\"'),\n",
       " (6,\n",
       "  '0.122*\"먹기 혈액 검사 비교 해보다 레스 트롤 수치 감소 감마 수치 상승 야하다 양제 정확하다 상관관계 알다 의심 상황 복용 쉬다 기간 야하다\" + 0.122*\"쿠팡 판매 제품 가격 수량 허위 정보 노출하다 결제 나니 판매 자도 발송 쿠팡 이유 수령 예정 날짜 다가오다 취소 필요하다 날짜 임박 급하다 비싸다 울다 겨자 먹기 자사 로켓 배송 제품 구매 주문 들어오다 판매 발송 정상 사유 고객 고지 상식 아니다 이렇다 기본 매뉴얼 교육 안되다 건지다 의도 바인 어떻다 주문 지나다 소식 판매 문의 쿠팡 배송 불가 쿠팡 문의 취소 경위 허위 노출 판매 의무불이행 파악 연락 부탁 취소 문자 달랑 정상\" + 0.122*\"배송 상품 상세\" + 0.122*\"알약 녹다 돼다 돼다 굳다 빠지다 병속 덩어리 뭉치다 버리다 반품 귀찮다\"'),\n",
       " (7,\n",
       "  '0.174*\"싸다 구입 좀쌀 피부 가려움 일어나서 중지 2일 중지 가려움증 성분 구입 19000원 택배 5만원\" + 0.092*\"배송 빨르다 성능 성능 별로 유통 기한 기한 넉넉하다 전혀\" + 0.092*\"기존 국내 제품 공구 판매 비싸다 성분 복용 해봤다 트러블\" + 0.092*\"별로 좋다 사다 알약 넘다 넘어가다 걸리다 마냥 불편하다 알약 녹차 추출 물다 맞다 카페인 장기간 복용 우려 손상 손상 모르다 끊음 다이어트 쓰다 인용 청소년 사면 낭패\"'),\n",
       " (8,\n",
       "  '0.122*\"별로 좋다 사다 알약 넘다 넘어가다 걸리다 마냥 불편하다 알약 녹차 추출 물다 맞다 카페인 장기간 복용 우려 손상 손상 모르다 끊음 다이어트 쓰다 인용 청소년 사면 낭패\" + 0.122*\"가격 싸다 배송 빨르다 배송 빠르다 비다 저렴하다\" + 0.122*\"가격 괜찮다 배송 브리 캐나다 감마 리놀렌산 보라 오일 달맞이꽃 자유\" + 0.122*\"검사 결과 크다 변화\"')]"
      ]
     },
     "execution_count": 13,
     "metadata": {},
     "output_type": "execute_result"
    }
   ],
   "source": [
    "lda_model.print_topics(num_words=4)"
   ]
  },
  {
   "cell_type": "markdown",
   "id": "8172fc2e-9450-4f92-85f4-e3898211cb98",
   "metadata": {},
   "source": [
    "##### 최적에 토픽 단어 수"
   ]
  },
  {
   "cell_type": "code",
   "execution_count": 14,
   "id": "ec3b1b08-8674-4431-9790-4c6b2cdf429c",
   "metadata": {
    "tags": []
   },
   "outputs": [
    {
     "data": {
      "text/plain": [
       "0     배송 성능 성능 별로 유통 기한 감마 리놀렌산 효능 어떻다 제약회사 제품 여성 갱년...\n",
       "1                      배송 빨르다 성능 성능 별로 유통 기한 기한 넉넉하다 전혀\n",
       "2                가격 괜찮다 배송 브리 캐나다 감마 리놀렌산 보라 오일 달맞이꽃 자유\n",
       "3                   좋아지다 모르다 좋아지다 모르다 부작용 안나 는걸 여기다 야하다\n",
       "4                                            성능 성능 뛰어나다\n",
       "                            ...                        \n",
       "61                                                   줄줄\n",
       "62                     기존 국내 제품 공구 판매 비싸다 성분 복용 해봤다 트러블\n",
       "63                 주문 해외 구매 대행 제품 반품 안되다 연락 안되다 차다 어이없다\n",
       "64                                  복용 알다 그다지 크다 변화 모르다\n",
       "65                                                가격 만원\n",
       "Name: replaced_review, Length: 66, dtype: object"
      ]
     },
     "execution_count": 14,
     "metadata": {},
     "output_type": "execute_result"
    }
   ],
   "source": [
    "sentences = df_review_negative['replaced_review']\n",
    "sentences"
   ]
  },
  {
   "cell_type": "code",
   "execution_count": 15,
   "id": "2930ad60-acf2-4e58-98e0-9b2a27c4f1c8",
   "metadata": {
    "tags": []
   },
   "outputs": [
    {
     "data": {
      "text/plain": [
       "pandas.core.series.Series"
      ]
     },
     "execution_count": 15,
     "metadata": {},
     "output_type": "execute_result"
    }
   ],
   "source": [
    "type(sentences)"
   ]
  },
  {
   "cell_type": "code",
   "execution_count": 16,
   "id": "5e7ff94f-d874-46e8-8db7-2fd851c24a02",
   "metadata": {
    "tags": []
   },
   "outputs": [],
   "source": [
    "# 각 문장을 공백으로 나누어 리스트에 저장\n",
    "tokenized_sentences = [sentence.split() for sentence in sentences]"
   ]
  },
  {
   "cell_type": "code",
   "execution_count": 19,
   "id": "73ec2c20-9dc4-4c7c-8cb8-e905fdbcf6a3",
   "metadata": {
    "tags": []
   },
   "outputs": [
    {
     "data": {
      "text/plain": [
       "[['배송',\n",
       "  '성능',\n",
       "  '성능',\n",
       "  '별로',\n",
       "  '유통',\n",
       "  '기한',\n",
       "  '감마',\n",
       "  '리놀렌산',\n",
       "  '효능',\n",
       "  '어떻다',\n",
       "  '제약회사',\n",
       "  '제품',\n",
       "  '여성',\n",
       "  '갱년기',\n",
       "  '유독',\n",
       "  '상품',\n",
       "  '가격',\n",
       "  '높다',\n",
       "  '회사',\n",
       "  '비교',\n",
       "  '감마',\n",
       "  '리놀렌산',\n",
       "  '함유',\n",
       "  '10%',\n",
       "  '높다',\n",
       "  '가격',\n",
       "  '높다',\n",
       "  '회사',\n",
       "  '제품',\n",
       "  '40,000원',\n",
       "  '가격',\n",
       "  '새다',\n",
       "  '모르다',\n",
       "  '30%',\n",
       "  '올리다',\n",
       "  '놨네',\n",
       "  '90',\n",
       "  '캡슐',\n",
       "  '판매',\n",
       "  '60',\n",
       "  '캡슐',\n",
       "  '줄이다',\n",
       "  '괘씸하다',\n",
       "  '다시다',\n",
       "  '구입',\n",
       "  '상세',\n",
       "  '상세',\n",
       "  '상세'],\n",
       " ['배송', '빨르다', '성능', '성능', '별로', '유통', '기한', '기한', '넉넉하다', '전혀'],\n",
       " ['가격', '괜찮다', '배송', '브리', '캐나다', '감마', '리놀렌산', '보라', '오일', '달맞이꽃', '자유'],\n",
       " ['좋아지다', '모르다', '좋아지다', '모르다', '부작용', '안나', '는걸', '여기다', '야하다'],\n",
       " ['성능', '성능', '뛰어나다'],\n",
       " ['배송',\n",
       "  '느리다',\n",
       "  '성능',\n",
       "  '성능',\n",
       "  '별로',\n",
       "  '유통',\n",
       "  '기한',\n",
       "  '보라',\n",
       "  '오일',\n",
       "  '달맞이꽃',\n",
       "  '오일',\n",
       "  '갱년기',\n",
       "  '증상',\n",
       "  '효능',\n",
       "  '회사',\n",
       "  '비교',\n",
       "  '감마',\n",
       "  '리놀렌산',\n",
       "  '함유',\n",
       "  '10%',\n",
       "  '높다',\n",
       "  '가격',\n",
       "  '상당하다',\n",
       "  '비싸다',\n",
       "  '회사',\n",
       "  '40,000원',\n",
       "  '제품',\n",
       "  '48,000원',\n",
       "  '가격',\n",
       "  '새다',\n",
       "  '모르다',\n",
       "  '30%',\n",
       "  '올리다',\n",
       "  '판매',\n",
       "  '줄이다',\n",
       "  '괘씸하다',\n",
       "  '제품',\n",
       "  '구입',\n",
       "  '일류',\n",
       "  '낱개',\n",
       "  '포장',\n",
       "  '보관',\n",
       "  '온도',\n",
       "  '중요하다',\n",
       "  '제품',\n",
       "  '저렴하다',\n",
       "  '용량',\n",
       "  '포장',\n",
       "  '구입',\n",
       "  '냉장고',\n",
       "  '넣다',\n",
       "  '상세',\n",
       "  '상세',\n",
       "  '상세',\n",
       "  '상세'],\n",
       " ['가격', '싸다', '사다', '배송', '빨르다'],\n",
       " ['배송', '성능', '성능', '별로', '유통', '기한', '기한', '짧다'],\n",
       " ['가격', '싸다', '배송', '빨르다', '배송', '빠르다', '비다', '저렴하다'],\n",
       " ['배송',\n",
       "  '빨르다',\n",
       "  '성능',\n",
       "  '성능',\n",
       "  '별로',\n",
       "  '유통',\n",
       "  '기한',\n",
       "  '기한',\n",
       "  '넉넉하다',\n",
       "  '불행하다',\n",
       "  '와이프',\n",
       "  '늘다'],\n",
       " ['가격', '괜찮다', '배송'],\n",
       " ['인지질',\n",
       "  '좋다',\n",
       "  '아시',\n",
       "  '닥터',\n",
       "  '크릴',\n",
       "  '오일팔',\n",
       "  '표현',\n",
       "  '크릴',\n",
       "  '인지질',\n",
       "  '레시틴',\n",
       "  '싸다',\n",
       "  '함량',\n",
       "  '높다',\n",
       "  '북극해',\n",
       "  '생태계',\n",
       "  '살리다',\n",
       "  '상세',\n",
       "  '상세'],\n",
       " ['쭈욱', '제품', '11', '절때', '할인', '주문', '상세', '상세'],\n",
       " ['배송',\n",
       "  '빨르다',\n",
       "  '성능',\n",
       "  '성능',\n",
       "  '별로',\n",
       "  '유통',\n",
       "  '기한',\n",
       "  '기한',\n",
       "  '넉넉하다',\n",
       "  '박스',\n",
       "  '규칙',\n",
       "  '혈압',\n",
       "  '측정',\n",
       "  '복용',\n",
       "  '전과',\n",
       "  '복용',\n",
       "  '개월차',\n",
       "  '별다르다',\n",
       "  '개선'],\n",
       " ['배송', '느리다', '성능', '성능', '뛰어나다', '유통', '기한', '기한', '넉넉하다', '배송', '느리다'],\n",
       " ['배송',\n",
       "  '빨르다',\n",
       "  '성능',\n",
       "  '성능',\n",
       "  '별로',\n",
       "  '유통',\n",
       "  '기한',\n",
       "  '기한',\n",
       "  '넉넉하다',\n",
       "  '박스',\n",
       "  '규칙',\n",
       "  '혈압',\n",
       "  '측정',\n",
       "  '복용',\n",
       "  '전과',\n",
       "  '복용',\n",
       "  '개월차',\n",
       "  '별다르다',\n",
       "  '개선'],\n",
       " ['배송', '느리다', '성능', '성능', '뛰어나다', '유통', '기한', '기한', '넉넉하다', '배송', '느리다'],\n",
       " ['배송',\n",
       "  '빨르다',\n",
       "  '성능',\n",
       "  '성능',\n",
       "  '별로',\n",
       "  '유통',\n",
       "  '기한',\n",
       "  '기한',\n",
       "  '넉넉하다',\n",
       "  '박스',\n",
       "  '규칙',\n",
       "  '혈압',\n",
       "  '측정',\n",
       "  '복용',\n",
       "  '전과',\n",
       "  '복용',\n",
       "  '개월차',\n",
       "  '별다르다',\n",
       "  '개선'],\n",
       " ['배송', '느리다', '성능', '성능', '뛰어나다', '유통', '기한', '기한', '넉넉하다', '배송', '느리다'],\n",
       " ['배송',\n",
       "  '빨르다',\n",
       "  '성능',\n",
       "  '성능',\n",
       "  '별로',\n",
       "  '유통',\n",
       "  '기한',\n",
       "  '기한',\n",
       "  '넉넉하다',\n",
       "  '박스',\n",
       "  '규칙',\n",
       "  '혈압',\n",
       "  '측정',\n",
       "  '복용',\n",
       "  '전과',\n",
       "  '복용',\n",
       "  '개월차',\n",
       "  '별다르다',\n",
       "  '개선'],\n",
       " ['배송', '느리다', '성능', '성능', '뛰어나다', '유통', '기한', '기한', '넉넉하다', '배송', '느리다'],\n",
       " ['장기', '알다', '좋다', '좋다', '좋다', '좋다', '좋다', '좋다', '좋다', '좋다'],\n",
       " ['배송',\n",
       "  '빨르다',\n",
       "  '유통',\n",
       "  '기한',\n",
       "  '스킨',\n",
       "  '콜레스틴',\n",
       "  '혈관',\n",
       "  '건강',\n",
       "  '콜레스테롤',\n",
       "  '건강',\n",
       "  '홍국',\n",
       "  '함유',\n",
       "  '상세'],\n",
       " ['유통', '기한', '포장', '상태'],\n",
       " ['배송', '상품', '상세'],\n",
       " ['0원',\n",
       "  '구매',\n",
       "  '쿄릭홍국',\n",
       "  '제품',\n",
       "  '품절',\n",
       "  '나서다',\n",
       "  '구매',\n",
       "  '몰리다',\n",
       "  '갑자기',\n",
       "  '가격',\n",
       "  '만원',\n",
       "  '올리다',\n",
       "  '판매',\n",
       "  '저렴하다',\n",
       "  '링크',\n",
       "  '남다',\n",
       "  '구매',\n",
       "  '하렵니'],\n",
       " ['성장',\n",
       "  '비싸다',\n",
       "  '주뮨',\n",
       "  '허다',\n",
       "  '크다',\n",
       "  '먹이다',\n",
       "  '고영',\n",
       "  '양제',\n",
       "  '먹이다',\n",
       "  '크다',\n",
       "  '유전',\n",
       "  '크다',\n",
       "  '애가',\n",
       "  '크다',\n",
       "  '애가',\n",
       "  '크다',\n",
       "  '유전자',\n",
       "  '거나',\n",
       "  '크다'],\n",
       " ['박스', '왕창', '파손', '찢어지다', '배송', '돼다', '기분', '좋다'],\n",
       " ['0원',\n",
       "  '구매',\n",
       "  '쿄릭홍국',\n",
       "  '제품',\n",
       "  '품절',\n",
       "  '나서다',\n",
       "  '구매',\n",
       "  '몰리다',\n",
       "  '갑자기',\n",
       "  '가격',\n",
       "  '만원',\n",
       "  '올리다',\n",
       "  '판매',\n",
       "  '저렴하다',\n",
       "  '링크',\n",
       "  '남다',\n",
       "  '구매',\n",
       "  '하렵니'],\n",
       " ['예선', '보라', '지유', '구매', '해봤다', '전혀', '생리', '증후군'],\n",
       " ['대웅제약',\n",
       "  '우루사',\n",
       "  '알려지다',\n",
       "  '믿다',\n",
       "  '구매',\n",
       "  '판매',\n",
       "  '제조',\n",
       "  '코스',\n",
       "  '맥스',\n",
       "  '바이오',\n",
       "  '우쨋',\n",
       "  '먹기',\n",
       "  '재다',\n",
       "  '매다',\n",
       "  '병원',\n",
       "  '건강',\n",
       "  '안좋다',\n",
       "  '신경',\n",
       "  '써다'],\n",
       " ['이유',\n",
       "  '종근당',\n",
       "  '제품',\n",
       "  '문해',\n",
       "  '혈압',\n",
       "  '낮아지다',\n",
       "  '꾸다',\n",
       "  '1년',\n",
       "  '그렇다',\n",
       "  '제품',\n",
       "  '다시',\n",
       "  '바꾸다',\n",
       "  '꾸준하다',\n",
       "  '복용',\n",
       "  '좋아지다',\n",
       "  '기대하다'],\n",
       " ['배송',\n",
       "  '잘못',\n",
       "  '건지다',\n",
       "  '그렇다',\n",
       "  '박스',\n",
       "  '찌그러지다',\n",
       "  '찢기다',\n",
       "  '튀어나오다',\n",
       "  '몇개',\n",
       "  '귀찮다',\n",
       "  '버리다',\n",
       "  '이렇다',\n",
       "  '신경',\n",
       "  '써주다',\n",
       "  '짜증나다'],\n",
       " ['택배',\n",
       "  '박스',\n",
       "  '젖다',\n",
       "  '제품',\n",
       "  '괜찬을줄',\n",
       "  '안다',\n",
       "  '약품',\n",
       "  '아니다',\n",
       "  '건강',\n",
       "  '식품',\n",
       "  '관리',\n",
       "  '보관',\n",
       "  '상태',\n",
       "  '중요',\n",
       "  '제품',\n",
       "  '박스',\n",
       "  '제품',\n",
       "  '젖다',\n",
       "  '괜찬을줄알',\n",
       "  '박스',\n",
       "  '개봉',\n",
       "  '해보다',\n",
       "  '박스',\n",
       "  '눌렸는',\n",
       "  '알약',\n",
       "  '튀어',\n",
       "  '벗기다',\n",
       "  '정말',\n",
       "  '제품',\n",
       "  '싸다',\n",
       "  '가격',\n",
       "  '아니다',\n",
       "  '다시',\n",
       "  '반품'],\n",
       " ['사다', '배송', '상태', '기분', '좋다'],\n",
       " ['쿠팡',\n",
       "  '판매',\n",
       "  '제품',\n",
       "  '가격',\n",
       "  '수량',\n",
       "  '허위',\n",
       "  '정보',\n",
       "  '노출하다',\n",
       "  '결제',\n",
       "  '나니',\n",
       "  '판매',\n",
       "  '자도',\n",
       "  '발송',\n",
       "  '쿠팡',\n",
       "  '이유',\n",
       "  '수령',\n",
       "  '예정',\n",
       "  '날짜',\n",
       "  '다가오다',\n",
       "  '취소',\n",
       "  '필요하다',\n",
       "  '날짜',\n",
       "  '임박',\n",
       "  '급하다',\n",
       "  '비싸다',\n",
       "  '울다',\n",
       "  '겨자',\n",
       "  '먹기',\n",
       "  '자사',\n",
       "  '로켓',\n",
       "  '배송',\n",
       "  '제품',\n",
       "  '구매',\n",
       "  '주문',\n",
       "  '들어오다',\n",
       "  '판매',\n",
       "  '발송',\n",
       "  '정상',\n",
       "  '사유',\n",
       "  '고객',\n",
       "  '고지',\n",
       "  '상식',\n",
       "  '아니다',\n",
       "  '이렇다',\n",
       "  '기본',\n",
       "  '매뉴얼',\n",
       "  '교육',\n",
       "  '안되다',\n",
       "  '건지다',\n",
       "  '의도',\n",
       "  '바인',\n",
       "  '어떻다',\n",
       "  '주문',\n",
       "  '지나다',\n",
       "  '소식',\n",
       "  '판매',\n",
       "  '문의',\n",
       "  '쿠팡',\n",
       "  '배송',\n",
       "  '불가',\n",
       "  '쿠팡',\n",
       "  '문의',\n",
       "  '취소',\n",
       "  '경위',\n",
       "  '허위',\n",
       "  '노출',\n",
       "  '판매',\n",
       "  '의무불이행',\n",
       "  '파악',\n",
       "  '연락',\n",
       "  '부탁',\n",
       "  '취소',\n",
       "  '문자',\n",
       "  '달랑',\n",
       "  '정상'],\n",
       " ['아쉽다', '안쪽', '남편', '복용', '먹기'],\n",
       " ['검사', '결과', '크다', '변화'],\n",
       " ['제품', '찌그러지다', '해외', '배송', '믿다'],\n",
       " ['제품',\n",
       "  '루테인',\n",
       "  '건강',\n",
       "  '동시',\n",
       "  '건강',\n",
       "  '도움',\n",
       "  '2조',\n",
       "  '구입',\n",
       "  '유효',\n",
       "  '기간',\n",
       "  '2023년',\n",
       "  '9월',\n",
       "  '23일',\n",
       "  '이정',\n",
       "  '유효',\n",
       "  '기간',\n",
       "  '충분하다',\n",
       "  '배송',\n",
       "  '포장',\n",
       "  '상태',\n",
       "  '깜짝',\n",
       "  '놀라다',\n",
       "  '건강',\n",
       "  '보조',\n",
       "  '식품',\n",
       "  '제품',\n",
       "  '싸다',\n",
       "  '박스',\n",
       "  '포장',\n",
       "  '쿠팡',\n",
       "  '로켓',\n",
       "  '배송',\n",
       "  '비닐',\n",
       "  '포장',\n",
       "  '지로',\n",
       "  '포장',\n",
       "  '제품',\n",
       "  '어보',\n",
       "  '안좋다',\n",
       "  '예감',\n",
       "  '역쉬',\n",
       "  '제품',\n",
       "  '포장',\n",
       "  '터지다',\n",
       "  '포장',\n",
       "  '제도',\n",
       "  '이렇다',\n",
       "  '상태',\n",
       "  '배송',\n",
       "  '세균',\n",
       "  '주문',\n",
       "  '제품',\n",
       "  '바꾸다',\n",
       "  '쿠팡',\n",
       "  '체험',\n",
       "  '이벤트',\n",
       "  '상품',\n",
       "  '무료',\n",
       "  '제공',\n",
       "  '작성',\n",
       "  '구매',\n",
       "  '후기'],\n",
       " ['먹기',\n",
       "  '혈액',\n",
       "  '검사',\n",
       "  '비교',\n",
       "  '해보다',\n",
       "  '레스',\n",
       "  '트롤',\n",
       "  '수치',\n",
       "  '감소',\n",
       "  '감마',\n",
       "  '수치',\n",
       "  '상승',\n",
       "  '야하다',\n",
       "  '양제',\n",
       "  '정확하다',\n",
       "  '상관관계',\n",
       "  '알다',\n",
       "  '의심',\n",
       "  '상황',\n",
       "  '복용',\n",
       "  '쉬다',\n",
       "  '기간',\n",
       "  '야하다'],\n",
       " ['싸다',\n",
       "  '구입',\n",
       "  '좀쌀',\n",
       "  '피부',\n",
       "  '가려움',\n",
       "  '일어나서',\n",
       "  '중지',\n",
       "  '2일',\n",
       "  '중지',\n",
       "  '가려움증',\n",
       "  '성분',\n",
       "  '구입',\n",
       "  '19000원',\n",
       "  '택배',\n",
       "  '5만원'],\n",
       " ['냄새', '냄새', '궁금하다', '찝찝하다', '속도', '안좋다', '아프다'],\n",
       " ['아쉽다', '안쪽', '남편', '복용', '먹기'],\n",
       " ['검사', '결과', '크다', '변화'],\n",
       " ['먹기',\n",
       "  '혈액',\n",
       "  '검사',\n",
       "  '비교',\n",
       "  '해보다',\n",
       "  '레스',\n",
       "  '트롤',\n",
       "  '수치',\n",
       "  '감소',\n",
       "  '감마',\n",
       "  '수치',\n",
       "  '상승',\n",
       "  '야하다',\n",
       "  '양제',\n",
       "  '정확하다',\n",
       "  '상관관계',\n",
       "  '알다',\n",
       "  '의심',\n",
       "  '상황',\n",
       "  '복용',\n",
       "  '쉬다',\n",
       "  '기간',\n",
       "  '야하다'],\n",
       " ['싸다',\n",
       "  '구입',\n",
       "  '좀쌀',\n",
       "  '피부',\n",
       "  '가려움',\n",
       "  '일어나서',\n",
       "  '중지',\n",
       "  '2일',\n",
       "  '중지',\n",
       "  '가려움증',\n",
       "  '성분',\n",
       "  '구입',\n",
       "  '19000원',\n",
       "  '택배',\n",
       "  '5만원'],\n",
       " ['먹기',\n",
       "  '혈액',\n",
       "  '검사',\n",
       "  '비교',\n",
       "  '해보다',\n",
       "  '레스',\n",
       "  '트롤',\n",
       "  '수치',\n",
       "  '감소',\n",
       "  '감마',\n",
       "  '수치',\n",
       "  '상승',\n",
       "  '야하다',\n",
       "  '양제',\n",
       "  '정확하다',\n",
       "  '상관관계',\n",
       "  '알다',\n",
       "  '의심',\n",
       "  '상황',\n",
       "  '복용',\n",
       "  '쉬다',\n",
       "  '기간',\n",
       "  '야하다'],\n",
       " ['싸다',\n",
       "  '구입',\n",
       "  '좀쌀',\n",
       "  '피부',\n",
       "  '가려움',\n",
       "  '일어나서',\n",
       "  '중지',\n",
       "  '2일',\n",
       "  '중지',\n",
       "  '가려움증',\n",
       "  '성분',\n",
       "  '구입',\n",
       "  '19000원',\n",
       "  '택배',\n",
       "  '5만원'],\n",
       " ['남성', '32', '사무직', '직장인', '5년', '대리', '수험생', '도움', '싶다', '구매', '느끼다'],\n",
       " ['아프다', '상품', '괜찮다', '보이다', '맞다'],\n",
       " ['알약', '녹다', '돼다', '돼다', '굳다', '빠지다', '병속', '덩어리', '뭉치다', '버리다', '반품', '귀찮다'],\n",
       " ['신랑',\n",
       "  '사다',\n",
       "  '레시틴',\n",
       "  '간지럽다',\n",
       "  '긁다',\n",
       "  '대다',\n",
       "  '신랑',\n",
       "  '레시틴',\n",
       "  '부작용',\n",
       "  '검색',\n",
       "  '해보다',\n",
       "  '간지럽다',\n",
       "  '움증',\n",
       "  '두드러기',\n",
       "  '부작용',\n",
       "  '가려움증',\n",
       "  '빨갛다',\n",
       "  '좋아지다',\n",
       "  '체질',\n",
       "  '다르다',\n",
       "  '판단',\n",
       "  '크다',\n",
       "  '새끼손가락',\n",
       "  '마디',\n",
       "  '합치다'],\n",
       " ['별로',\n",
       "  '좋다',\n",
       "  '사다',\n",
       "  '알약',\n",
       "  '넘다',\n",
       "  '넘어가다',\n",
       "  '걸리다',\n",
       "  '마냥',\n",
       "  '불편하다',\n",
       "  '알약',\n",
       "  '녹차',\n",
       "  '추출',\n",
       "  '물다',\n",
       "  '맞다',\n",
       "  '카페인',\n",
       "  '장기간',\n",
       "  '복용',\n",
       "  '우려',\n",
       "  '손상',\n",
       "  '손상',\n",
       "  '모르다',\n",
       "  '끊음',\n",
       "  '다이어트',\n",
       "  '쓰다',\n",
       "  '인용',\n",
       "  '청소년',\n",
       "  '사면',\n",
       "  '낭패'],\n",
       " ['줄줄'],\n",
       " ['택배',\n",
       "  '박스',\n",
       "  '젖다',\n",
       "  '제품',\n",
       "  '괜찬을줄',\n",
       "  '안다',\n",
       "  '약품',\n",
       "  '아니다',\n",
       "  '건강',\n",
       "  '식품',\n",
       "  '관리',\n",
       "  '보관',\n",
       "  '상태',\n",
       "  '중요',\n",
       "  '제품',\n",
       "  '박스',\n",
       "  '제품',\n",
       "  '젖다',\n",
       "  '괜찬을줄알',\n",
       "  '박스',\n",
       "  '개봉',\n",
       "  '해보다',\n",
       "  '박스',\n",
       "  '눌렸는',\n",
       "  '알약',\n",
       "  '튀어',\n",
       "  '벗기다',\n",
       "  '정말',\n",
       "  '제품',\n",
       "  '싸다',\n",
       "  '가격',\n",
       "  '아니다',\n",
       "  '다시',\n",
       "  '반품'],\n",
       " ['택배',\n",
       "  '박스',\n",
       "  '젖다',\n",
       "  '제품',\n",
       "  '괜찬을줄',\n",
       "  '안다',\n",
       "  '약품',\n",
       "  '아니다',\n",
       "  '건강',\n",
       "  '식품',\n",
       "  '관리',\n",
       "  '보관',\n",
       "  '상태',\n",
       "  '중요',\n",
       "  '제품',\n",
       "  '박스',\n",
       "  '제품',\n",
       "  '젖다',\n",
       "  '괜찬을줄알',\n",
       "  '박스',\n",
       "  '개봉',\n",
       "  '해보다',\n",
       "  '박스',\n",
       "  '눌렸는',\n",
       "  '알약',\n",
       "  '튀어',\n",
       "  '벗기다',\n",
       "  '정말',\n",
       "  '제품',\n",
       "  '싸다',\n",
       "  '가격',\n",
       "  '아니다',\n",
       "  '다시',\n",
       "  '반품'],\n",
       " ['대웅제약',\n",
       "  '우루사',\n",
       "  '알려지다',\n",
       "  '믿다',\n",
       "  '구매',\n",
       "  '판매',\n",
       "  '제조',\n",
       "  '코스',\n",
       "  '맥스',\n",
       "  '바이오',\n",
       "  '우쨋',\n",
       "  '먹기',\n",
       "  '재다',\n",
       "  '매다',\n",
       "  '병원',\n",
       "  '건강',\n",
       "  '안좋다',\n",
       "  '신경',\n",
       "  '써다'],\n",
       " ['기존', '국내', '제품', '공구', '판매', '비싸다', '성분', '복용', '해봤다', '트러블'],\n",
       " ['주문', '해외', '구매', '대행', '제품', '반품', '안되다', '연락', '안되다', '차다', '어이없다'],\n",
       " ['별로',\n",
       "  '좋다',\n",
       "  '사다',\n",
       "  '알약',\n",
       "  '넘다',\n",
       "  '넘어가다',\n",
       "  '걸리다',\n",
       "  '마냥',\n",
       "  '불편하다',\n",
       "  '알약',\n",
       "  '녹차',\n",
       "  '추출',\n",
       "  '물다',\n",
       "  '맞다',\n",
       "  '카페인',\n",
       "  '장기간',\n",
       "  '복용',\n",
       "  '우려',\n",
       "  '손상',\n",
       "  '손상',\n",
       "  '모르다',\n",
       "  '끊음',\n",
       "  '다이어트',\n",
       "  '쓰다',\n",
       "  '인용',\n",
       "  '청소년',\n",
       "  '사면',\n",
       "  '낭패'],\n",
       " ['줄줄'],\n",
       " ['기존', '국내', '제품', '공구', '판매', '비싸다', '성분', '복용', '해봤다', '트러블'],\n",
       " ['주문', '해외', '구매', '대행', '제품', '반품', '안되다', '연락', '안되다', '차다', '어이없다'],\n",
       " ['복용', '알다', '그다지', '크다', '변화', '모르다'],\n",
       " ['가격', '만원']]"
      ]
     },
     "execution_count": 19,
     "metadata": {},
     "output_type": "execute_result"
    }
   ],
   "source": [
    "# 결과 출력\n",
    "morphs_list = list()\n",
    "for tokens in tokenized_sentences:\n",
    "    morphs_list.append(tokens)\n",
    "morphs_list"
   ]
  },
  {
   "cell_type": "code",
   "execution_count": 20,
   "id": "a8f6d823-69b0-4b2f-a6ea-f519e2aaccba",
   "metadata": {
    "tags": []
   },
   "outputs": [],
   "source": [
    "preprocessed_sentences = morphs_list"
   ]
  },
  {
   "cell_type": "code",
   "execution_count": 21,
   "id": "3fbb5a87-995c-44ec-81d0-fc1476e51f00",
   "metadata": {
    "tags": []
   },
   "outputs": [
    {
     "data": {
      "text/plain": [
       "<gensim.corpora.dictionary.Dictionary at 0x19a8a052c10>"
      ]
     },
     "execution_count": 21,
     "metadata": {},
     "output_type": "execute_result"
    }
   ],
   "source": [
    "dictionary = Dictionary(preprocessed_sentences) # fix in like sklean\n",
    "dictionary"
   ]
  },
  {
   "cell_type": "code",
   "execution_count": 22,
   "id": "8f718c8e-6a17-406c-80fa-6b68680a2b08",
   "metadata": {
    "tags": []
   },
   "outputs": [
    {
     "data": {
      "text/plain": [
       "0.6278206871063718"
      ]
     },
     "execution_count": 22,
     "metadata": {},
     "output_type": "execute_result"
    }
   ],
   "source": [
    "# 일관성 점수\n",
    "from gensim.models.coherencemodel import CoherenceModel\n",
    "coherenceModel = CoherenceModel(model=lda_model, texts=morphs_list, dictionary=dictionary)\n",
    "coherenceModel.get_coherence()"
   ]
  },
  {
   "cell_type": "code",
   "execution_count": 23,
   "id": "742b4885-a489-4775-b2dd-ff5204e73933",
   "metadata": {
    "tags": []
   },
   "outputs": [
    {
     "data": {
      "text/plain": [
       "-6.028453254588859"
      ]
     },
     "execution_count": 23,
     "metadata": {},
     "output_type": "execute_result"
    }
   ],
   "source": [
    "# 혼잡도 점수\n",
    "lda_model.log_perplexity(corpus_list)"
   ]
  },
  {
   "cell_type": "code",
   "execution_count": 24,
   "id": "7d83d9c5-5e56-4da8-8fd8-e2e47cf38297",
   "metadata": {
    "tags": []
   },
   "outputs": [],
   "source": [
    "start_topic = 2\n",
    "end_topic = 10\n",
    "coherence_scores = list()\n",
    "perplexity_scores = list()\n",
    "for topic_number in range(start_topic, end_topic+1):\n",
    "    lda_model = LdaModel(corpus=corpus_list, id2word=dictionary, num_topics=topic_number) # fix\n",
    "    coherenceModel = CoherenceModel(model=lda_model, texts=morphs_list, dictionary=dictionary)\n",
    "    coherence_scores.append(coherenceModel.get_coherence()) # 일관성 점수\n",
    "    perplexity_scores.append(lda_model.log_perplexity(corpus_list))"
   ]
  },
  {
   "cell_type": "code",
   "execution_count": 25,
   "id": "43757f67-c01d-47a0-b934-1f710479fe15",
   "metadata": {
    "tags": []
   },
   "outputs": [
    {
     "data": {
      "text/html": [
       "<div>\n",
       "<style scoped>\n",
       "    .dataframe tbody tr th:only-of-type {\n",
       "        vertical-align: middle;\n",
       "    }\n",
       "\n",
       "    .dataframe tbody tr th {\n",
       "        vertical-align: top;\n",
       "    }\n",
       "\n",
       "    .dataframe thead th {\n",
       "        text-align: right;\n",
       "    }\n",
       "</style>\n",
       "<table border=\"1\" class=\"dataframe\">\n",
       "  <thead>\n",
       "    <tr style=\"text-align: right;\">\n",
       "      <th></th>\n",
       "      <th>0</th>\n",
       "      <th>1</th>\n",
       "    </tr>\n",
       "  </thead>\n",
       "  <tbody>\n",
       "    <tr>\n",
       "      <th>0</th>\n",
       "      <td>0.588480</td>\n",
       "      <td>-6.435574</td>\n",
       "    </tr>\n",
       "    <tr>\n",
       "      <th>1</th>\n",
       "      <td>0.648687</td>\n",
       "      <td>-6.701207</td>\n",
       "    </tr>\n",
       "    <tr>\n",
       "      <th>2</th>\n",
       "      <td>0.644539</td>\n",
       "      <td>-6.896666</td>\n",
       "    </tr>\n",
       "    <tr>\n",
       "      <th>3</th>\n",
       "      <td>0.632443</td>\n",
       "      <td>-7.014487</td>\n",
       "    </tr>\n",
       "    <tr>\n",
       "      <th>4</th>\n",
       "      <td>0.648292</td>\n",
       "      <td>-7.338083</td>\n",
       "    </tr>\n",
       "    <tr>\n",
       "      <th>5</th>\n",
       "      <td>0.626475</td>\n",
       "      <td>-7.447959</td>\n",
       "    </tr>\n",
       "    <tr>\n",
       "      <th>6</th>\n",
       "      <td>0.618135</td>\n",
       "      <td>-7.515810</td>\n",
       "    </tr>\n",
       "    <tr>\n",
       "      <th>7</th>\n",
       "      <td>0.625037</td>\n",
       "      <td>-7.716062</td>\n",
       "    </tr>\n",
       "    <tr>\n",
       "      <th>8</th>\n",
       "      <td>0.613404</td>\n",
       "      <td>-7.745789</td>\n",
       "    </tr>\n",
       "  </tbody>\n",
       "</table>\n",
       "</div>"
      ],
      "text/plain": [
       "          0         1\n",
       "0  0.588480 -6.435574\n",
       "1  0.648687 -6.701207\n",
       "2  0.644539 -6.896666\n",
       "3  0.632443 -7.014487\n",
       "4  0.648292 -7.338083\n",
       "5  0.626475 -7.447959\n",
       "6  0.618135 -7.515810\n",
       "7  0.625037 -7.716062\n",
       "8  0.613404 -7.745789"
      ]
     },
     "execution_count": 25,
     "metadata": {},
     "output_type": "execute_result"
    }
   ],
   "source": [
    "import pandas as pd\n",
    "scores = pd.DataFrame([coherence_scores,  perplexity_scores]).T\n",
    "scores"
   ]
  },
  {
   "cell_type": "code",
   "execution_count": 26,
   "id": "1d178cc8-141e-4932-8156-570efb0bd8ad",
   "metadata": {
    "tags": []
   },
   "outputs": [],
   "source": [
    "import seaborn as sns\n",
    "import matplotlib.pyplot as plt"
   ]
  },
  {
   "cell_type": "code",
   "execution_count": 27,
   "id": "b301261a-44da-4f4b-a160-78de26ef8536",
   "metadata": {
    "tags": []
   },
   "outputs": [
    {
     "name": "stderr",
     "output_type": "stream",
     "text": [
      "C:\\Users\\04-02\\anaconda3\\Lib\\site-packages\\seaborn\\_oldcore.py:1498: FutureWarning: is_categorical_dtype is deprecated and will be removed in a future version. Use isinstance(dtype, CategoricalDtype) instead\n",
      "  if pd.api.types.is_categorical_dtype(vector):\n",
      "C:\\Users\\04-02\\anaconda3\\Lib\\site-packages\\seaborn\\_oldcore.py:1498: FutureWarning: is_categorical_dtype is deprecated and will be removed in a future version. Use isinstance(dtype, CategoricalDtype) instead\n",
      "  if pd.api.types.is_categorical_dtype(vector):\n",
      "C:\\Users\\04-02\\anaconda3\\Lib\\site-packages\\seaborn\\_oldcore.py:1119: FutureWarning: use_inf_as_na option is deprecated and will be removed in a future version. Convert inf values to NaN before operating instead.\n",
      "  with pd.option_context('mode.use_inf_as_na', True):\n",
      "C:\\Users\\04-02\\anaconda3\\Lib\\site-packages\\seaborn\\_oldcore.py:1119: FutureWarning: use_inf_as_na option is deprecated and will be removed in a future version. Convert inf values to NaN before operating instead.\n",
      "  with pd.option_context('mode.use_inf_as_na', True):\n"
     ]
    },
    {
     "data": {
      "image/png": "[encoded data removed]",
      "text/plain": [
       "<Figure size 640x480 with 1 Axes>"
      ]
     },
     "metadata": {},
     "output_type": "display_data"
    },
    {
     "name": "stderr",
     "output_type": "stream",
     "text": [
      "C:\\Users\\04-02\\anaconda3\\Lib\\site-packages\\seaborn\\_oldcore.py:1498: FutureWarning: is_categorical_dtype is deprecated and will be removed in a future version. Use isinstance(dtype, CategoricalDtype) instead\n",
      "  if pd.api.types.is_categorical_dtype(vector):\n",
      "C:\\Users\\04-02\\anaconda3\\Lib\\site-packages\\seaborn\\_oldcore.py:1498: FutureWarning: is_categorical_dtype is deprecated and will be removed in a future version. Use isinstance(dtype, CategoricalDtype) instead\n",
      "  if pd.api.types.is_categorical_dtype(vector):\n",
      "C:\\Users\\04-02\\anaconda3\\Lib\\site-packages\\seaborn\\_oldcore.py:1119: FutureWarning: use_inf_as_na option is deprecated and will be removed in a future version. Convert inf values to NaN before operating instead.\n",
      "  with pd.option_context('mode.use_inf_as_na', True):\n",
      "C:\\Users\\04-02\\anaconda3\\Lib\\site-packages\\seaborn\\_oldcore.py:1119: FutureWarning: use_inf_as_na option is deprecated and will be removed in a future version. Convert inf values to NaN before operating instead.\n",
      "  with pd.option_context('mode.use_inf_as_na', True):\n"
     ]
    },
    {
     "data": {
      "image/png": "[encoded data removed]",
      "text/plain": [
       "<Figure size 640x480 with 1 Axes>"
      ]
     },
     "metadata": {},
     "output_type": "display_data"
    }
   ],
   "source": [
    "sns.lineplot(coherence_scores)\n",
    "plt.show()\n",
    "sns.lineplot(perplexity_scores)\n",
    "plt.show()"
   ]
  },
  {
   "cell_type": "code",
   "execution_count": null,
   "id": "c42343ab-8356-431e-afa2-a4d797cd7be5",
   "metadata": {},
   "outputs": [],
   "source": []
  },
  {
   "cell_type": "markdown",
   "id": "e73644c5-531d-4dbe-a99b-832f2dc5193c",
   "metadata": {},
   "source": [
    "##### 토픽 분석\n",
    "- review_negative.csv 토픽 분석\n",
    "- 토픽 수는 9으로 가정"
   ]
  },
  {
   "cell_type": "markdown",
   "id": "9e0f4888-5701-4dde-a1ec-b52dcdfb682c",
   "metadata": {},
   "source": [
    "##### LDA 시각화(review_negative)"
   ]
  },
  {
   "cell_type": "code",
   "execution_count": 28,
   "id": "3fbf590a-cbd6-411e-a900-da59dc414f8d",
   "metadata": {
    "tags": []
   },
   "outputs": [],
   "source": [
    "# %pip install pyLDAvis"
   ]
  },
  {
   "cell_type": "code",
   "execution_count": 29,
   "id": "fcd4a836-44c8-4993-aa82-b2f784b3d005",
   "metadata": {
    "tags": []
   },
   "outputs": [],
   "source": [
    "import pyLDAvis.gensim_models"
   ]
  },
  {
   "cell_type": "code",
   "execution_count": 30,
   "id": "e3ec6520-26ec-4270-95d5-d442a900064e",
   "metadata": {
    "tags": []
   },
   "outputs": [],
   "source": [
    "pyLDAvis.enable_notebook() # 일반적인 python에선 불필요\n",
    "result_visualized = pyLDAvis.gensim_models.prepare(lda_model, corpus_list, dictionary)"
   ]
  },
  {
   "cell_type": "code",
   "execution_count": 31,
   "id": "6aeaca2f-757b-4ec6-beb7-b0b490c8df20",
   "metadata": {
    "tags": []
   },
   "outputs": [
    {
     "data": {
      "text/html": [
       "\n",
       "<link rel=\"stylesheet\" type=\"text/css\" href=\"https://cdn.jsdelivr.net/gh/bmabey/pyLDAvis@3.4.0/pyLDAvis/js/ldavis.v1.0.0.css\">\n",
       "\n",
       "\n",
       "<div id=\"ldavis_el7274817633364945927388849531\" style=\"background-color:white;\"></div>\n",
       "<script type=\"text/javascript\">\n",
       "\n",
       "var ldavis_el7274817633364945927388849531_data = {\"mdsDat\": {\"x\": [-0.08656181352217322, 0.007035008372024168, 0.0469886488085082, 0.0029891336631850834, 0.016346135906955998, 0.007246995465968695, 0.0027438206044994237, 0.001123664049563237, 0.001247496548368966, 0.0008409101030994446], \"y\": [0.019469373727985934, -0.05943588200884011, 0.04037627295565414, -0.0035833701096668474, 0.0172192933780001, -0.0073762522203868796, -0.002279195469988046, -0.001341620749669698, -0.0018876828631005126, -0.0011609366399881465], \"topics\": [1, 2, 3, 4, 5, 6, 7, 8, 9, 10], \"cluster\": [1, 1, 1, 1, 1, 1, 1, 1, 1, 1], \"Freq\": [14.848525753593494, 14.848288706589729, 13.333355216968753, 9.545310191040205, 8.787927369685569, 8.030519509863693, 8.030327392120352, 8.030271399876208, 8.030246440430279, 6.515228019831717]}, \"tinfo\": {\"Term\": [\"\\ub2e4\\uc2dc\\ub2e4\", \"\\uc720\\ub3c5\", \"\\ub9ac\\ub180\\ub80c\\uc0b0\", \"\\ud568\\uc720\", \"\\ud68c\\uc0ac\", \"\\uc0c1\\uc138\", \"\\uc5b4\\ub5bb\\ub2e4\", \"\\uc904\\uc774\\ub2e4\", \"\\ube0c\\ub9ac\", \"\\ubcf4\\ub77c\", \"\\uc624\\uc77c\", \"\\uc804\\ud600\", \"\\ubc30\\uc1a1\", \"\\uac00\\uaca9\", \"\\ub1a8\\ub124\", \"\\uce90\\ub098\\ub2e4\", \"\\ubaa8\\ub974\\ub2e4\", \"\\ube68\\ub974\\ub2e4\", \"40,000\\uc6d0\", \"\\uc81c\\ud488\", \"\\uac31\\ub144\\uae30\", \"\\uad6c\\uc785\", \"90\", \"\\ud310\\ub9e4\", \"\\ub192\\ub2e4\", \"\\ubcc4\\ub85c\", \"\\ucea1\\uc290\", \"\\ub2ec\\ub9de\\uc774\\uaf43\", \"\\uad18\\uc538\\ud558\\ub2e4\", \"30%\", \"\\ub2e4\\uc2dc\\ub2e4\", \"\\ud568\\uc720\", \"\\uad1c\\ucc2e\\ub2e4\", \"60\", \"\\uc81c\\uc57d\\ud68c\\uc0ac\", \"\\uc790\\uc720\", \"\\uc5ec\\uc131\", \"10%\", \"\\ub2ec\\ub9de\\uc774\\uaf43\", \"\\ub294\\uac78\", \"\\ubd80\\uc791\\uc6a9\", \"\\uc548\\ub098\", \"\\uc57c\\ud558\\ub2e4\", \"\\uc5ec\\uae30\\ub2e4\", \"\\uc88b\\uc544\\uc9c0\\ub2e4\", \"\\ub6f0\\uc5b4\\ub098\\ub2e4\", \"48,000\\uc6d0\", \"\\ub0b1\\uac1c\", \"\\ub0c9\\uc7a5\\uace0\", \"\\ub123\\ub2e4\", \"\\ub290\\ub9ac\\ub2e4\", \"\\ubcf4\\uad00\", \"\\ube44\\uc2f8\\ub2e4\", \"\\uc0c1\\ub2f9\\ud558\\ub2e4\", \"\\uc628\\ub3c4\", \"\\uc6a9\\ub7c9\", \"\\uc77c\\ub958\", \"\\uc800\\ub834\\ud558\\ub2e4\", \"\\uc911\\uc694\\ud558\\ub2e4\", \"\\uc99d\\uc0c1\", \"\\ub9ac\\ub180\\ub80c\\uc0b0\", \"\\ud68c\\uc0ac\", \"\\uc720\\ub3c5\", \"\\uc904\\uc774\\ub2e4\", \"\\uc0c1\\uc138\", \"\\ubcf4\\ub77c\", \"\\uc624\\uc77c\", \"\\ube0c\\ub9ac\", \"\\uc5b4\\ub5bb\\ub2e4\", \"\\uc81c\\ud488\", \"\\uc62c\\ub9ac\\ub2e4\", \"\\ubc30\\uc1a1\", \"\\ud6a8\\ub2a5\", \"\\uce90\\ub098\\ub2e4\", \"\\ubaa8\\ub974\\ub2e4\", \"\\ucea1\\uc290\", \"\\uc0c1\\ud488\", \"\\ub192\\ub2e4\", \"\\uc0c8\\ub2e4\", \"\\uac10\\ub9c8\", \"\\ube44\\uad50\", \"\\uc904\\uc774\\ub2e4\", \"\\uae30\\ud55c\", \"\\uc0c8\\ub2e4\", \"\\uc131\\ub2a5\", \"\\ube44\\uad50\", \"\\ub109\\ub109\\ud558\\ub2e4\", \"\\uac10\\ub9c8\", \"\\ud6a8\\ub2a5\", \"\\uc81c\\ud488\", \"\\ub2ec\\ub9de\\uc774\\uaf43\", \"\\ub294\\uac78\", \"\\ubd80\\uc791\\uc6a9\", \"\\uc548\\ub098\", \"\\uc57c\\ud558\\ub2e4\", \"\\uc5ec\\uae30\\ub2e4\", \"\\uc88b\\uc544\\uc9c0\\ub2e4\", \"\\ub6f0\\uc5b4\\ub098\\ub2e4\", \"48,000\\uc6d0\", \"\\ub0b1\\uac1c\", \"\\ub0c9\\uc7a5\\uace0\", \"\\ub123\\ub2e4\", \"\\ub290\\ub9ac\\ub2e4\", \"\\ubcf4\\uad00\", \"\\ube44\\uc2f8\\ub2e4\", \"\\uc0c1\\ub2f9\\ud558\\ub2e4\", \"\\uc628\\ub3c4\", \"\\uc6a9\\ub7c9\", \"\\uc77c\\ub958\", \"\\uc800\\ub834\\ud558\\ub2e4\", \"\\uc911\\uc694\\ud558\\ub2e4\", \"\\ub9ac\\ub180\\ub80c\\uc0b0\", \"\\ub2e4\\uc2dc\\ub2e4\", \"\\ud568\\uc720\", \"\\uc720\\ub3c5\", \"\\ud68c\\uc0ac\", \"\\uc0c1\\uc138\", \"\\ubcf4\\ub77c\", \"\\ube0c\\ub9ac\", \"\\uc624\\uc77c\", \"\\ubc30\\uc1a1\", \"\\uc5b4\\ub5bb\\ub2e4\", \"10%\", \"\\uc5ec\\uc131\", \"\\ucea1\\uc290\", \"\\ubaa8\\ub974\\ub2e4\", \"\\uc81c\\uc57d\\ud68c\\uc0ac\", \"30%\", \"\\uc720\\ud1b5\", \"\\ub1a8\\ub124\", \"\\uc0c1\\ud488\", \"\\uc5b4\\ub5bb\\ub2e4\", \"\\ub9ac\\ub180\\ub80c\\uc0b0\", \"\\uad18\\uc538\\ud558\\ub2e4\", \"30%\", \"\\uc0c1\\ud488\", \"\\uc720\\ud1b5\", \"\\uc62c\\ub9ac\\ub2e4\", \"\\uc81c\\ud488\", \"\\ub294\\uac78\", \"\\ubd80\\uc791\\uc6a9\", \"\\uc548\\ub098\", \"\\uc57c\\ud558\\ub2e4\", \"\\uc5ec\\uae30\\ub2e4\", \"\\uc88b\\uc544\\uc9c0\\ub2e4\", \"\\ub6f0\\uc5b4\\ub098\\ub2e4\", \"48,000\\uc6d0\", \"\\ub0b1\\uac1c\", \"\\ub0c9\\uc7a5\\uace0\", \"\\ub123\\ub2e4\", \"\\ub290\\ub9ac\\ub2e4\", \"\\ubcf4\\uad00\", \"\\ube44\\uc2f8\\ub2e4\", \"\\uc0c1\\ub2f9\\ud558\\ub2e4\", \"\\uc628\\ub3c4\", \"\\uc6a9\\ub7c9\", \"\\uc77c\\ub958\", \"\\uc800\\ub834\\ud558\\ub2e4\", \"\\uc911\\uc694\\ud558\\ub2e4\", \"\\uc99d\\uc0c1\", \"\\ud3ec\\uc7a5\", \"\\ub2e4\\uc2dc\\ub2e4\", \"\\ud68c\\uc0ac\", \"\\uc720\\ub3c5\", \"\\ud568\\uc720\", \"\\ub2ec\\ub9de\\uc774\\uaf43\", \"\\uc904\\uc774\\ub2e4\", \"\\uc624\\uc77c\", \"\\uc0c1\\uc138\", \"\\ubcf4\\ub77c\", \"\\ube0c\\ub9ac\", \"\\ubc30\\uc1a1\", \"\\uc5ec\\uc131\", \"90\", \"10%\", \"\\uc790\\uc720\", \"\\ub109\\ub109\\ud558\\ub2e4\", \"\\ubaa8\\ub974\\ub2e4\", \"\\ud6a8\\ub2a5\", \"\\uc131\\ub2a5\", \"\\uac10\\ub9c8\", \"\\uce90\\ub098\\ub2e4\", \"\\ub1a8\\ub124\", \"\\ube68\\ub974\\ub2e4\", \"40,000\\uc6d0\", \"\\ubcf4\\ub77c\", \"\\uc624\\uc77c\", \"\\ub294\\uac78\", \"\\ubd80\\uc791\\uc6a9\", \"\\uc548\\ub098\", \"\\uc57c\\ud558\\ub2e4\", \"\\uc5ec\\uae30\\ub2e4\", \"\\uc88b\\uc544\\uc9c0\\ub2e4\", \"\\ub6f0\\uc5b4\\ub098\\ub2e4\", \"48,000\\uc6d0\", \"\\ub0b1\\uac1c\", \"\\ub0c9\\uc7a5\\uace0\", \"\\ub123\\ub2e4\", \"\\ub290\\ub9ac\\ub2e4\", \"\\ubcf4\\uad00\", \"\\ube44\\uc2f8\\ub2e4\", \"\\uc0c1\\ub2f9\\ud558\\ub2e4\", \"\\uc628\\ub3c4\", \"\\uc6a9\\ub7c9\", \"\\uc77c\\ub958\", \"\\uc800\\ub834\\ud558\\ub2e4\", \"\\uc911\\uc694\\ud558\\ub2e4\", \"\\uc99d\\uc0c1\", \"\\ud3ec\\uc7a5\", \"\\uc0ac\\ub2e4\", \"\\uc2f8\\ub2e4\", \"\\uc9e7\\ub2e4\", \"\\ube44\\ub2e4\", \"\\ub9ac\\ub180\\ub80c\\uc0b0\", \"\\ud68c\\uc0ac\", \"\\ub2e4\\uc2dc\\ub2e4\", \"\\uc720\\ub3c5\", \"\\ube0c\\ub9ac\", \"\\ub2ec\\ub9de\\uc774\\uaf43\", \"\\ud568\\uc720\", \"\\uc904\\uc774\\ub2e4\", \"\\uc81c\\ud488\", \"\\uc0c1\\uc138\", \"\\ubc30\\uc1a1\", \"\\uc5b4\\ub5bb\\ub2e4\", \"\\uc5ec\\uc131\", \"10%\", \"\\uc790\\uc720\", \"\\uc0c8\\ub2e4\", \"60\", \"\\ud6a8\\ub2a5\", \"\\ubcc4\\ub85c\", \"\\uc804\\ud600\", \"\\uce90\\ub098\\ub2e4\", \"\\uc62c\\ub9ac\\ub2e4\", \"\\ubaa8\\ub974\\ub2e4\", \"\\uac10\\ub9c8\", \"\\uc81c\\uc57d\\ud68c\\uc0ac\", \"\\uc131\\ub2a5\", \"\\uc0c1\\uc138\", \"\\uac31\\ub144\\uae30\", \"\\uad6c\\uc785\", \"90\", \"\\ub9ac\\ub180\\ub80c\\uc0b0\", \"\\ub294\\uac78\", \"\\ubd80\\uc791\\uc6a9\", \"\\uc548\\ub098\", \"\\uc57c\\ud558\\ub2e4\", \"\\uc5ec\\uae30\\ub2e4\", \"\\uc88b\\uc544\\uc9c0\\ub2e4\", \"\\ub6f0\\uc5b4\\ub098\\ub2e4\", \"48,000\\uc6d0\", \"\\ub0b1\\uac1c\", \"\\ub0c9\\uc7a5\\uace0\", \"\\ub123\\ub2e4\", \"\\ub290\\ub9ac\\ub2e4\", \"\\ubcf4\\uad00\", \"\\ube44\\uc2f8\\ub2e4\", \"\\uc0c1\\ub2f9\\ud558\\ub2e4\", \"\\uc628\\ub3c4\", \"\\uc6a9\\ub7c9\", \"\\uc77c\\ub958\", \"\\uc800\\ub834\\ud558\\ub2e4\", \"\\uc911\\uc694\\ud558\\ub2e4\", \"\\uc99d\\uc0c1\", \"\\ud3ec\\uc7a5\", \"\\uc0ac\\ub2e4\", \"\\uc2f8\\ub2e4\", \"\\uc9e7\\ub2e4\", \"\\ub2e4\\uc2dc\\ub2e4\", \"\\ud68c\\uc0ac\", \"\\uc720\\ub3c5\", \"\\uc624\\uc77c\", \"\\ub2ec\\ub9de\\uc774\\uaf43\", \"\\uc81c\\ud488\", \"\\ud568\\uc720\", \"\\ube0c\\ub9ac\", \"\\uc904\\uc774\\ub2e4\", \"\\ubcf4\\ub77c\", \"\\uce90\\ub098\\ub2e4\", \"\\uc5b4\\ub5bb\\ub2e4\", \"\\ubcc4\\ub85c\", \"60\", \"\\ub1a8\\ub124\", \"\\ucea1\\uc290\", \"\\uc790\\uc720\", \"\\ube68\\ub974\\ub2e4\", \"\\ube44\\uad50\", \"\\uc804\\ud600\", \"\\ubc30\\uc1a1\", \"\\ud6a8\\ub2a5\", \"\\uac10\\ub9c8\", \"\\uc62c\\ub9ac\\ub2e4\", \"\\uc5ec\\uc131\", \"\\ud310\\ub9e4\", \"\\ub192\\ub2e4\", \"\\ubcc4\\ub85c\", \"\\ucea1\\uc290\", \"\\ube0c\\ub9ac\", \"\\uc624\\uc77c\", \"\\ubcf4\\ub77c\", \"\\ub294\\uac78\", \"\\ubd80\\uc791\\uc6a9\", \"\\uc548\\ub098\", \"\\uc57c\\ud558\\ub2e4\", \"\\uc5ec\\uae30\\ub2e4\", \"\\uc88b\\uc544\\uc9c0\\ub2e4\", \"\\ub6f0\\uc5b4\\ub098\\ub2e4\", \"48,000\\uc6d0\", \"\\ub0b1\\uac1c\", \"\\ub0c9\\uc7a5\\uace0\", \"\\ub123\\ub2e4\", \"\\ub290\\ub9ac\\ub2e4\", \"\\ubcf4\\uad00\", \"\\ube44\\uc2f8\\ub2e4\", \"\\uc0c1\\ub2f9\\ud558\\ub2e4\", \"\\uc628\\ub3c4\", \"\\uc6a9\\ub7c9\", \"\\uc77c\\ub958\", \"\\uc800\\ub834\\ud558\\ub2e4\", \"\\uc911\\uc694\\ud558\\ub2e4\", \"\\uc99d\\uc0c1\", \"\\ud3ec\\uc7a5\", \"\\uc0ac\\ub2e4\", \"\\ub2e4\\uc2dc\\ub2e4\", \"\\ub9ac\\ub180\\ub80c\\uc0b0\", \"\\ud68c\\uc0ac\", \"\\uc720\\ub3c5\", \"\\ud568\\uc720\", \"\\uc81c\\ud488\", \"\\ub2ec\\ub9de\\uc774\\uaf43\", \"\\uc904\\uc774\\ub2e4\", \"\\uc0c1\\uc138\", \"\\uc5b4\\ub5bb\\ub2e4\", \"\\ubc30\\uc1a1\", \"\\uc131\\ub2a5\", \"\\uac10\\ub9c8\", \"\\uc790\\uc720\", \"10%\", \"\\ubaa8\\ub974\\ub2e4\", \"\\ube68\\ub974\\ub2e4\", \"90\", \"\\uc62c\\ub9ac\\ub2e4\", \"\\uc0c8\\ub2e4\", \"\\ub109\\ub109\\ud558\\ub2e4\", \"\\uc720\\ud1b5\", \"\\ud6a8\\ub2a5\", \"\\uc720\\ub3c5\", \"\\ubaa8\\ub974\\ub2e4\", \"\\ub294\\uac78\", \"\\ubd80\\uc791\\uc6a9\", \"\\uc548\\ub098\", \"\\uc57c\\ud558\\ub2e4\", \"\\uc5ec\\uae30\\ub2e4\", \"\\uc88b\\uc544\\uc9c0\\ub2e4\", \"\\ub6f0\\uc5b4\\ub098\\ub2e4\", \"48,000\\uc6d0\", \"\\ub0b1\\uac1c\", \"\\ub0c9\\uc7a5\\uace0\", \"\\ub123\\ub2e4\", \"\\ub290\\ub9ac\\ub2e4\", \"\\ubcf4\\uad00\", \"\\ube44\\uc2f8\\ub2e4\", \"\\uc0c1\\ub2f9\\ud558\\ub2e4\", \"\\uc628\\ub3c4\", \"\\uc6a9\\ub7c9\", \"\\uc77c\\ub958\", \"\\uc800\\ub834\\ud558\\ub2e4\", \"\\uc911\\uc694\\ud558\\ub2e4\", \"\\uc99d\\uc0c1\", \"\\ud3ec\\uc7a5\", \"\\uc0ac\\ub2e4\", \"\\uc2f8\\ub2e4\", \"\\uc9e7\\ub2e4\", \"\\ube44\\ub2e4\", \"\\ube60\\ub974\\ub2e4\", \"\\ub298\\ub2e4\", \"\\ub9ac\\ub180\\ub80c\\uc0b0\", \"\\ub2e4\\uc2dc\\ub2e4\", \"\\ud68c\\uc0ac\", \"\\ud568\\uc720\", \"\\ub2ec\\ub9de\\uc774\\uaf43\", \"\\ubcf4\\ub77c\", \"\\uc81c\\ud488\", \"\\uc624\\uc77c\", \"\\uc0c1\\uc138\", \"\\uc904\\uc774\\ub2e4\", \"\\ube0c\\ub9ac\", \"\\uc5b4\\ub5bb\\ub2e4\", \"\\uc720\\ud1b5\", \"\\ubc30\\uc1a1\", \"\\uce90\\ub098\\ub2e4\", \"\\ud6a8\\ub2a5\", \"40,000\\uc6d0\", \"\\uc5ec\\uc131\", \"\\ucea1\\uc290\", \"\\uc81c\\uc57d\\ud68c\\uc0ac\", \"\\uc790\\uc720\", \"\\ube44\\uad50\", \"\\ub1a8\\ub124\", \"\\uc804\\ud600\", \"\\ub192\\ub2e4\", \"\\uae30\\ud55c\", \"90\", \"\\uac00\\uaca9\", \"\\ud68c\\uc0ac\", \"\\ub1a8\\ub124\", \"\\ub294\\uac78\", \"\\ubd80\\uc791\\uc6a9\", \"\\uc548\\ub098\", \"\\uc57c\\ud558\\ub2e4\", \"\\uc5ec\\uae30\\ub2e4\", \"\\uc88b\\uc544\\uc9c0\\ub2e4\", \"\\ub6f0\\uc5b4\\ub098\\ub2e4\", \"48,000\\uc6d0\", \"\\ub0b1\\uac1c\", \"\\ub0c9\\uc7a5\\uace0\", \"\\ub123\\ub2e4\", \"\\ub290\\ub9ac\\ub2e4\", \"\\ubcf4\\uad00\", \"\\ube44\\uc2f8\\ub2e4\", \"\\uc0c1\\ub2f9\\ud558\\ub2e4\", \"\\uc628\\ub3c4\", \"\\uc6a9\\ub7c9\", \"\\uc77c\\ub958\", \"\\uc800\\ub834\\ud558\\ub2e4\", \"\\uc911\\uc694\\ud558\\ub2e4\", \"\\uc99d\\uc0c1\", \"\\ud3ec\\uc7a5\", \"\\uc0ac\\ub2e4\", \"\\uc2f8\\ub2e4\", \"\\uc9e7\\ub2e4\", \"\\ube44\\ub2e4\", \"\\ube60\\ub974\\ub2e4\", \"\\ub298\\ub2e4\", \"\\ub9ac\\ub180\\ub80c\\uc0b0\", \"\\ub2e4\\uc2dc\\ub2e4\", \"\\uc720\\ub3c5\", \"\\uc624\\uc77c\", \"\\ud568\\uc720\", \"\\ub2ec\\ub9de\\uc774\\uaf43\", \"\\ube0c\\ub9ac\", \"\\uc0c1\\uc138\", \"\\ubcf4\\ub77c\", \"\\uc81c\\ud488\", \"\\uc5b4\\ub5bb\\ub2e4\", \"\\uc904\\uc774\\ub2e4\", \"\\uce90\\ub098\\ub2e4\", \"\\ubc30\\uc1a1\", \"90\", \"\\uac10\\ub9c8\", \"\\uc790\\uc720\", \"\\ub192\\ub2e4\", \"\\ubcc4\\ub85c\", \"\\ucea1\\uc290\", \"\\uc804\\ud600\", \"\\ube44\\uad50\", \"10%\", \"\\uc62c\\ub9ac\\ub2e4\", \"40,000\\uc6d0\", \"\\uc131\\ub2a5\", \"\\uc5ec\\uc131\", \"\\ubaa8\\ub974\\ub2e4\", \"\\uac00\\uaca9\", \"\\uce90\\ub098\\ub2e4\", \"\\ube0c\\ub9ac\", \"\\ub294\\uac78\", \"\\ubd80\\uc791\\uc6a9\", \"\\uc548\\ub098\", \"\\uc57c\\ud558\\ub2e4\", \"\\uc5ec\\uae30\\ub2e4\", \"\\uc88b\\uc544\\uc9c0\\ub2e4\", \"\\ub6f0\\uc5b4\\ub098\\ub2e4\", \"48,000\\uc6d0\", \"\\ub0b1\\uac1c\", \"\\ub0c9\\uc7a5\\uace0\", \"\\ub123\\ub2e4\", \"\\ub290\\ub9ac\\ub2e4\", \"\\ubcf4\\uad00\", \"\\ube44\\uc2f8\\ub2e4\", \"\\uc0c1\\ub2f9\\ud558\\ub2e4\", \"\\uc628\\ub3c4\", \"\\uc6a9\\ub7c9\", \"\\uc77c\\ub958\", \"\\uc800\\ub834\\ud558\\ub2e4\", \"\\uc911\\uc694\\ud558\\ub2e4\", \"\\uc99d\\uc0c1\", \"\\ud3ec\\uc7a5\", \"\\uc0ac\\ub2e4\", \"\\uc2f8\\ub2e4\", \"\\uc9e7\\ub2e4\", \"\\ube44\\ub2e4\", \"\\ube60\\ub974\\ub2e4\", \"\\ub2e4\\uc2dc\\ub2e4\", \"\\ud68c\\uc0ac\", \"\\ub9ac\\ub180\\ub80c\\uc0b0\", \"\\ud568\\uc720\", \"\\uc720\\ub3c5\", \"\\ub2ec\\ub9de\\uc774\\uaf43\", \"\\ubcf4\\ub77c\", \"\\uc624\\uc77c\", \"\\uc81c\\ud488\", \"\\ub109\\ub109\\ud558\\ub2e4\", \"\\uc0c1\\uc138\", \"\\ubc30\\uc1a1\", \"\\uc904\\uc774\\ub2e4\", \"\\uc5b4\\ub5bb\\ub2e4\", \"\\uc5ec\\uc131\", \"10%\", \"\\ucea1\\uc290\", \"\\uac10\\ub9c8\", \"\\uc0c8\\ub2e4\", \"\\uc131\\ub2a5\", \"\\uc62c\\ub9ac\\ub2e4\", \"\\uc0c1\\ud488\", \"\\ud310\\ub9e4\", \"\\ud6a8\\ub2a5\", \"90\", \"40,000\\uc6d0\", \"\\ub192\\ub2e4\", \"\\uc804\\ud600\", \"\\ubc30\\uc1a1\", \"\\ud68c\\uc0ac\", \"\\ub294\\uac78\", \"\\ubd80\\uc791\\uc6a9\", \"\\uc548\\ub098\", \"\\uc57c\\ud558\\ub2e4\", \"\\uc5ec\\uae30\\ub2e4\", \"\\uc88b\\uc544\\uc9c0\\ub2e4\", \"\\ub6f0\\uc5b4\\ub098\\ub2e4\", \"48,000\\uc6d0\", \"\\ub0b1\\uac1c\", \"\\ub0c9\\uc7a5\\uace0\", \"\\ub123\\ub2e4\", \"\\ub290\\ub9ac\\ub2e4\", \"\\ubcf4\\uad00\", \"\\ube44\\uc2f8\\ub2e4\", \"\\uc0c1\\ub2f9\\ud558\\ub2e4\", \"\\uc628\\ub3c4\", \"\\uc6a9\\ub7c9\", \"\\uc77c\\ub958\", \"\\uc800\\ub834\\ud558\\ub2e4\", \"\\uc911\\uc694\\ud558\\ub2e4\", \"\\uc99d\\uc0c1\", \"\\ud3ec\\uc7a5\", \"\\uc0ac\\ub2e4\", \"\\uc2f8\\ub2e4\", \"\\uc9e7\\ub2e4\", \"\\ube44\\ub2e4\", \"\\ube60\\ub974\\ub2e4\", \"\\ub9ac\\ub180\\ub80c\\uc0b0\", \"\\uc720\\ub3c5\", \"\\ub2e4\\uc2dc\\ub2e4\", \"\\uc0c1\\uc138\", \"\\ub2ec\\ub9de\\uc774\\uaf43\", \"\\ud568\\uc720\", \"\\uc624\\uc77c\", \"\\ube0c\\ub9ac\", \"\\uc81c\\ud488\", \"\\uc904\\uc774\\ub2e4\", \"\\ubcf4\\ub77c\", \"\\ube44\\uad50\", \"\\uc5b4\\ub5bb\\ub2e4\", \"\\uc0c8\\ub2e4\", \"90\", \"\\uc790\\uc720\", \"10%\", \"\\uc5ec\\uc131\", \"\\ud6a8\\ub2a5\", \"\\ube68\\ub974\\ub2e4\", \"\\ub192\\ub2e4\", \"\\uc0c1\\ud488\", \"\\uce90\\ub098\\ub2e4\", \"\\ub109\\ub109\\ud558\\ub2e4\", \"\\uac10\\ub9c8\", \"\\ucea1\\uc290\", \"40,000\\uc6d0\"], \"Freq\": [0.0, 0.0, 0.0, 0.0, 0.0, 0.0, 0.0, 0.0, 0.0, 0.0, 0.0, 0.0, 0.0, 0.0, 0.0, 0.0, 0.0, 0.0, 0.0, 0.0, 0.0, 0.0, 0.0, 0.0, 0.0, 0.0, 0.0, 0.0, 0.0, 0.0, 0.7969395793004899, 0.602598191053922, 0.21383221295609095, 0.2138234145415532, 0.21381952644550228, 0.21380244072764476, 0.21380304310872308, 0.21379977564772257, 0.21380559866481288, 0.019446255354967565, 0.019446255354967565, 0.019446255354967565, 0.019446255354967565, 0.019446255354967565, 0.019446255354967565, 0.019446255354967565, 0.019446255354967565, 0.019446255354967565, 0.019446255354967565, 0.019446255354967565, 0.019446255354967565, 0.019446255354967565, 0.019446255354967565, 0.019446255354967565, 0.019446255354967565, 0.019446255354967565, 0.019446255354967565, 0.019446255354967565, 0.019446255354967565, 0.019446255354967565, 0.019474774904580435, 0.019471968356374672, 0.019471302086394117, 0.019463493949841173, 0.019461100397753492, 0.019460867659609603, 0.01945945754026719, 0.019459405060097492, 0.01945871597265185, 0.01945787628993663, 0.01945655515870806, 0.019456005257799454, 0.019455327579086357, 0.01945518611080281, 0.019455176983816776, 0.019454996725842586, 0.01945498531711004, 0.01945474801547313, 0.019454246031241205, 0.01945405436453447, 0.0194540361105624, 0.4340167792893053, 0.22734701881740482, 0.22734002765771308, 0.22733862212430248, 0.2273335658547604, 0.2273334928400378, 0.22732725008125299, 0.2273289111661928, 0.22734877117074792, 0.22734590534288474, 0.02067628861871938, 0.02067628861871938, 0.02067628861871938, 0.02067628861871938, 0.02067628861871938, 0.02067628861871938, 0.02067628861871938, 0.02067628861871938, 0.02067628861871938, 0.02067628861871938, 0.02067628861871938, 0.02067628861871938, 0.02067628861871938, 0.02067628861871938, 0.02067628861871938, 0.02067628861871938, 0.02067628861871938, 0.02067628861871938, 0.02067628861871938, 0.02067628861871938, 0.020702838597235387, 0.020702316085626574, 0.020699888346099156, 0.020698209007478686, 0.02069812002078548, 0.020695354588165904, 0.02069432553691885, 0.020692945102319144, 0.020692662170268956, 0.020690706744728546, 0.020686522088437864, 0.020686314452820386, 0.020685159907518815, 0.02068487925717871, 0.02068487013033838, 0.02068444801397318, 0.02068428829426743, 0.02068419246244398, 0.020684190180733898, 0.020684165081922994, 0.38976264531903926, 0.5753184308353394, 0.20415775145713533, 0.20415088350092436, 0.20414375328385573, 0.20414180271872662, 0.20413700006677002, 0.20414732658804186, 0.018566497208744613, 0.018566497208744613, 0.018566497208744613, 0.018566497208744613, 0.018566497208744613, 0.018566497208744613, 0.018566497208744613, 0.018566497208744613, 0.018566497208744613, 0.018566497208744613, 0.018566497208744613, 0.018566497208744613, 0.018566497208744613, 0.018566497208744613, 0.018566497208744613, 0.018566497208744613, 0.018566497208744613, 0.018566497208744613, 0.018566497208744613, 0.018566497208744613, 0.018566497208744613, 0.018566497208744613, 0.018594464870522506, 0.0185924302999624, 0.018584957914430975, 0.018584878006825893, 0.01858310159929758, 0.0185824766808476, 0.018580741251578305, 0.01858069412658044, 0.01858062036571421, 0.018578010050614942, 0.018575803371366974, 0.018575629213766157, 0.018574809648585853, 0.018574793257282247, 0.018574717447503067, 0.018574600659464875, 0.018574432648602913, 0.018574408061647504, 0.01857421136600423, 0.01857418268122292, 0.01857409867579194, 0.018574026963838662, 0.17145448385462497, 0.17145186706412605, 0.1714681545314466, 0.17145111605698735, 0.015593692206335363, 0.015593692206335363, 0.015593692206335363, 0.015593692206335363, 0.015593692206335363, 0.015593692206335363, 0.015593692206335363, 0.015593692206335363, 0.015593692206335363, 0.015593692206335363, 0.015593692206335363, 0.015593692206335363, 0.015593692206335363, 0.015593692206335363, 0.015593692206335363, 0.015593692206335363, 0.015593692206335363, 0.015593692206335363, 0.015593692206335363, 0.015593692206335363, 0.015593692206335363, 0.015593692206335363, 0.015593692206335363, 0.015593692206335363, 0.015593692206335363, 0.015593692206335363, 0.015617627625259776, 0.015614698404056684, 0.01561414835000002, 0.01561156676296074, 0.015607717851374905, 0.015607577037536399, 0.015606633878180572, 0.015606075023259, 0.015605645247689391, 0.01560424444335842, 0.01560354624140916, 0.015602245180213796, 0.015601269751019976, 0.015600782769828476, 0.015600391131340131, 0.015600344193393963, 0.01560032512485333, 0.01560021364723118, 0.015600196045501367, 0.015600152041176834, 0.01560004789760877, 0.01559998922517606, 0.015599949621283981, 0.015599895349283723, 0.015599885081607999, 0.015599782404850755, 0.28713787436076543, 0.15041911459176782, 0.1504161760666448, 0.15040349287365062, 0.15041476082108923, 0.013679554224208768, 0.013679554224208768, 0.013679554224208768, 0.013679554224208768, 0.013679554224208768, 0.013679554224208768, 0.013679554224208768, 0.013679554224208768, 0.013679554224208768, 0.013679554224208768, 0.013679554224208768, 0.013679554224208768, 0.013679554224208768, 0.013679554224208768, 0.013679554224208768, 0.013679554224208768, 0.013679554224208768, 0.013679554224208768, 0.013679554224208768, 0.013679554224208768, 0.013679554224208768, 0.013679554224208768, 0.013679554224208768, 0.013679554224208768, 0.013679554224208768, 0.013699603986387678, 0.013696442641115176, 0.013691383948509115, 0.013690683077857074, 0.013690433249204612, 0.013690002463582259, 0.013689648652193367, 0.01368950820797793, 0.01368854535484709, 0.013688356295326309, 0.013686452195867007, 0.013686399529286217, 0.013686294196124639, 0.01368603356407099, 0.013685720265436551, 0.013685566316969629, 0.01368555686399359, 0.013685455582107457, 0.01368529758236509, 0.013685093668167675, 0.01368500183925758, 0.013684947822251643, 0.013684861395042143, 0.013684800625910463, 0.01368460346383879, 0.1342869182748983, 0.1342789217240062, 0.13427691765014066, 0.13427252448329255, 0.1342835715702657, 0.134285911301823, 0.1342824757466249, 0.012212655839717248, 0.012212655839717248, 0.012212655839717248, 0.012212655839717248, 0.012212655839717248, 0.012212655839717248, 0.012212655839717248, 0.012212655839717248, 0.012212655839717248, 0.012212655839717248, 0.012212655839717248, 0.012212655839717248, 0.012212655839717248, 0.012212655839717248, 0.012212655839717248, 0.012212655839717248, 0.012212655839717248, 0.012212655839717248, 0.012212655839717248, 0.012212655839717248, 0.012212655839717248, 0.012212655839717248, 0.012212655839717248, 0.012232885385824323, 0.012229277065637836, 0.012228954982338015, 0.012228361411199266, 0.012225530533460621, 0.01222309207905279, 0.012221602598045576, 0.012220895495628731, 0.012220504306333547, 0.012219517077828352, 0.012218938315117181, 0.012218478019826635, 0.012218370658726694, 0.01221795355468325, 0.012217926405899356, 0.012217849895690205, 0.01221774623669716, 0.012217687002986848, 0.012217559897316804, 0.012217483387107651, 0.012217437727789285, 0.012217348877223817, 0.012217335302831872, 0.40649452497814764, 0.14423708047976394, 0.013118754732041275, 0.013118754732041275, 0.013118754732041275, 0.013118754732041275, 0.013118754732041275, 0.013118754732041275, 0.013118754732041275, 0.013118754732041275, 0.013118754732041275, 0.013118754732041275, 0.013118754732041275, 0.013118754732041275, 0.013118754732041275, 0.013118754732041275, 0.013118754732041275, 0.013118754732041275, 0.013118754732041275, 0.013118754732041275, 0.013118754732041275, 0.013118754732041275, 0.013118754732041275, 0.013118754732041275, 0.013118754732041275, 0.013118754732041275, 0.013118754732041275, 0.013118754732041275, 0.013118754732041275, 0.013118754732041275, 0.013136715690959255, 0.013135357050233134, 0.013135186757390078, 0.013130534554358763, 0.013130155714483269, 0.01312930301626188, 0.013128556442565872, 0.013128260281099688, 0.013127753104588847, 0.01312740634887219, 0.013127248396090224, 0.013126941128569058, 0.013125492405396972, 0.013125388748883807, 0.013125160457753623, 0.013125128373594787, 0.013124424990112599, 0.013124334907666634, 0.01312423001714736, 0.013124158444793033, 0.013123993087974413, 0.013123980747913322, 0.013123926451644521, 0.013123890665467357, 0.013123878325406266, 0.013123847475253539, 0.013123800583021393, 0.013123578461921755, 0.28234840237532505, 0.14790334753341905, 0.013451445239358508, 0.013451445239358508, 0.013451445239358508, 0.013451445239358508, 0.013451445239358508, 0.013451445239358508, 0.013451445239358508, 0.013451445239358508, 0.013451445239358508, 0.013451445239358508, 0.013451445239358508, 0.013451445239358508, 0.013451445239358508, 0.013451445239358508, 0.013451445239358508, 0.013451445239358508, 0.013451445239358508, 0.013451445239358508, 0.013451445239358508, 0.013451445239358508, 0.013451445239358508, 0.013451445239358508, 0.013451445239358508, 0.013451445239358508, 0.013451445239358508, 0.013451445239358508, 0.013451445239358508, 0.013451445239358508, 0.013472454046878982, 0.013468882858099877, 0.013466400055120072, 0.013464372597219564, 0.013463011497971689, 0.013461828094364515, 0.013461770096481786, 0.013461202457629544, 0.01346065209474237, 0.013459901824259407, 0.013459446479180109, 0.013459029388023461, 0.013458907222270479, 0.013458518513056444, 0.013458086613929738, 0.013457839814428763, 0.013457651012810518, 0.013457588078937769, 0.013457275877569036, 0.013457187029748685, 0.0134571401378435, 0.013456969846187827, 0.013456930358267671, 0.013456836574457301, 0.01345674032265192, 0.013456631730871492, 0.013456523139091063, 0.013456462673213324, 0.1479038355318597, 0.1478897285162311, 0.14790601723266722, 0.013451439215800942, 0.013451439215800942, 0.013451439215800942, 0.013451439215800942, 0.013451439215800942, 0.013451439215800942, 0.013451439215800942, 0.013451439215800942, 0.013451439215800942, 0.013451439215800942, 0.013451439215800942, 0.013451439215800942, 0.013451439215800942, 0.013451439215800942, 0.013451439215800942, 0.013451439215800942, 0.013451439215800942, 0.013451439215800942, 0.013451439215800942, 0.013451439215800942, 0.013451439215800942, 0.013451439215800942, 0.013451439215800942, 0.013451439215800942, 0.013451439215800942, 0.013451439215800942, 0.013451439215800942, 0.013471386723466794, 0.013469649260380278, 0.013468759550944641, 0.013464480060899162, 0.013462395845591545, 0.013461391374744653, 0.013460680594391079, 0.013460475751441959, 0.0134602684405055, 0.013458776542159195, 0.013458612421001164, 0.013458584039146768, 0.013458244690887683, 0.013458038613944893, 0.013458007764103158, 0.013457720243578188, 0.013457637566002338, 0.013457074864889092, 0.013456988485332234, 0.013456908275743723, 0.013456905807756384, 0.013456898403794368, 0.013456742920592023, 0.013456739218611015, 0.013456717006724966, 0.013456621989212422, 0.013456496121858143, 0.11999512477596175, 0.11997589404354711, 0.1199934507971718, 0.010913705958931017, 0.010913705958931017, 0.010913705958931017, 0.010913705958931017, 0.010913705958931017, 0.010913705958931017, 0.010913705958931017, 0.010913705958931017, 0.010913705958931017, 0.010913705958931017, 0.010913705958931017, 0.010913705958931017, 0.010913705958931017, 0.010913705958931017, 0.010913705958931017, 0.010913705958931017, 0.010913705958931017, 0.010913705958931017, 0.010913705958931017, 0.010913705958931017, 0.010913705958931017, 0.010913705958931017, 0.010913705958931017, 0.010913705958931017, 0.010913705958931017, 0.010913705958931017, 0.010913705958931017, 0.010931070485326242, 0.010926542132415402, 0.010925958442442592, 0.010923861964221213, 0.010923044998495977, 0.010922851770083022, 0.010922773677771051, 0.010922543405569085, 0.010922197997266136, 0.010920089504842915, 0.010919495803035237, 0.010919379665750767, 0.010919156401833208, 0.010918848037319271, 0.010918635786420067, 0.010918552688190662, 0.010918398505933694, 0.010918376479896984, 0.010918270354447382, 0.010918182250300543, 0.010918083133135349, 0.010918065111832586, 0.010918060105915152, 0.010917930953245353, 0.010917874886970092, 0.010917844851465488, 0.010917811812410423], \"Total\": [0.0, 0.0, 0.0, 0.0, 0.0, 0.0, 0.0, 0.0, 0.0, 0.0, 0.0, 0.0, 0.0, 0.0, 0.0, 0.0, 0.0, 0.0, 0.0, 0.0, 0.0, 0.0, 0.0, 0.0, 0.0, 0.0, 0.0, 0.0, 0.0, 0.0, 0.9287845830530934, 0.7343856483539942, 0.3455363436464974, 0.34553248246847423, 0.34552972871471366, 0.3455216724094056, 0.3455236623185339, 0.34551990474339295, 0.5522306386738702, 0.15111028859882467, 0.15111028859882467, 0.15111028859882467, 0.15111028859882467, 0.15111028859882467, 0.15111028859882467, 0.15111028859882467, 0.15111028859882467, 0.15111028859882467, 0.15111028859882467, 0.15111028859882467, 0.15111028859882467, 0.15111028859882467, 0.15111028859882467, 0.15111028859882467, 0.15111028859882467, 0.15111028859882467, 0.15111028859882467, 0.15111028859882467, 0.15111028859882467, 0.15111028859882467, 0.8447667096232511, 0.5292493038948997, 0.5446356441422475, 0.5645430357263551, 0.424671202170398, 0.429144931644071, 0.4291364537063141, 0.4077287369734584, 0.5223796277909846, 0.5434436385436477, 0.3367335057793589, 0.26024838711431303, 0.3578172925560211, 0.28560805692905433, 0.2822831991940946, 0.27322820846418394, 0.33673507561158306, 0.2732281183873068, 0.35782228929308296, 0.3578138559106951, 0.3578181163453026, 0.5645430357263551, 0.35782521052702815, 0.35782228929308296, 0.35782212876625197, 0.3578181163453026, 0.3578180383361731, 0.3578138559106951, 0.3578172925560211, 0.5434436385436477, 0.5522306386738702, 0.15111028859882467, 0.15111028859882467, 0.15111028859882467, 0.15111028859882467, 0.15111028859882467, 0.15111028859882467, 0.15111028859882467, 0.15111028859882467, 0.15111028859882467, 0.15111028859882467, 0.15111028859882467, 0.15111028859882467, 0.15111028859882467, 0.15111028859882467, 0.15111028859882467, 0.15111028859882467, 0.15111028859882467, 0.15111028859882467, 0.15111028859882467, 0.15111028859882467, 0.8447667096232511, 0.9287845830530934, 0.7343856483539942, 0.5446356441422475, 0.5292493038948997, 0.424671202170398, 0.429144931644071, 0.4077287369734584, 0.4291364537063141, 0.26024838711431303, 0.5223796277909846, 0.34551990474339295, 0.3455236623185339, 0.27322820846418394, 0.2822831991940946, 0.34552972871471366, 0.33674012197405073, 0.33673365169775626, 0.28561164826454316, 0.33673507561158306, 0.5223796277909846, 0.8447667096232511, 0.33674216582131644, 0.33674012197405073, 0.33673507561158306, 0.33673365169775626, 0.3367335057793589, 0.5434436385436477, 0.15111028859882467, 0.15111028859882467, 0.15111028859882467, 0.15111028859882467, 0.15111028859882467, 0.15111028859882467, 0.15111028859882467, 0.15111028859882467, 0.15111028859882467, 0.15111028859882467, 0.15111028859882467, 0.15111028859882467, 0.15111028859882467, 0.15111028859882467, 0.15111028859882467, 0.15111028859882467, 0.15111028859882467, 0.15111028859882467, 0.15111028859882467, 0.15111028859882467, 0.15111028859882467, 0.15111028859882467, 0.9287845830530934, 0.5292493038948997, 0.5446356441422475, 0.7343856483539942, 0.5522306386738702, 0.5645430357263551, 0.4291364537063141, 0.424671202170398, 0.429144931644071, 0.4077287369734584, 0.26024838711431303, 0.3455236623185339, 0.2878877936212891, 0.34551990474339295, 0.3455216724094056, 0.3578180383361731, 0.2822831991940946, 0.3578172925560211, 0.35782212876625197, 0.3578138559106951, 0.28560805692905433, 0.28561164826454316, 0.3070205837882759, 0.3070195570045832, 0.429144931644071, 0.4291364537063141, 0.15111028859882467, 0.15111028859882467, 0.15111028859882467, 0.15111028859882467, 0.15111028859882467, 0.15111028859882467, 0.15111028859882467, 0.15111028859882467, 0.15111028859882467, 0.15111028859882467, 0.15111028859882467, 0.15111028859882467, 0.15111028859882467, 0.15111028859882467, 0.15111028859882467, 0.15111028859882467, 0.15111028859882467, 0.15111028859882467, 0.15111028859882467, 0.15111028859882467, 0.15111028859882467, 0.15111028859882467, 0.15111028859882467, 0.15111028859882467, 0.15111028859882467, 0.15111028859882467, 0.8447667096232511, 0.5292493038948997, 0.9287845830530934, 0.5446356441422475, 0.4077287369734584, 0.5522306386738702, 0.7343856483539942, 0.5645430357263551, 0.5434436385436477, 0.424671202170398, 0.26024838711431303, 0.5223796277909846, 0.3455236623185339, 0.34551990474339295, 0.3455216724094056, 0.35782228929308296, 0.34553248246847423, 0.3578172925560211, 0.2732272775086098, 0.26024610728427167, 0.28560805692905433, 0.3367335057793589, 0.2822831991940946, 0.3578138559106951, 0.34552972871471366, 0.35782212876625197, 0.424671202170398, 0.2878928148448896, 0.2878929723265597, 0.2878877936212891, 0.8447667096232511, 0.15111028859882467, 0.15111028859882467, 0.15111028859882467, 0.15111028859882467, 0.15111028859882467, 0.15111028859882467, 0.15111028859882467, 0.15111028859882467, 0.15111028859882467, 0.15111028859882467, 0.15111028859882467, 0.15111028859882467, 0.15111028859882467, 0.15111028859882467, 0.15111028859882467, 0.15111028859882467, 0.15111028859882467, 0.15111028859882467, 0.15111028859882467, 0.15111028859882467, 0.15111028859882467, 0.15111028859882467, 0.15111028859882467, 0.15111028859882467, 0.15111028859882467, 0.9287845830530934, 0.5292493038948997, 0.5446356441422475, 0.4291364537063141, 0.5522306386738702, 0.5434436385436477, 0.7343856483539942, 0.4077287369734584, 0.5645430357263551, 0.429144931644071, 0.28560805692905433, 0.5223796277909846, 0.2732272775086098, 0.34553248246847423, 0.28561164826454316, 0.27322820846418394, 0.3455216724094056, 0.3070205837882759, 0.3578181163453026, 0.26024610728427167, 0.26024838711431303, 0.3578172925560211, 0.3578138559106951, 0.3367335057793589, 0.3455236623185339, 0.2732290932473882, 0.2732281183873068, 0.2732272775086098, 0.27322820846418394, 0.4077287369734584, 0.4291364537063141, 0.429144931644071, 0.15111028859882467, 0.15111028859882467, 0.15111028859882467, 0.15111028859882467, 0.15111028859882467, 0.15111028859882467, 0.15111028859882467, 0.15111028859882467, 0.15111028859882467, 0.15111028859882467, 0.15111028859882467, 0.15111028859882467, 0.15111028859882467, 0.15111028859882467, 0.15111028859882467, 0.15111028859882467, 0.15111028859882467, 0.15111028859882467, 0.15111028859882467, 0.15111028859882467, 0.15111028859882467, 0.15111028859882467, 0.15111028859882467, 0.9287845830530934, 0.8447667096232511, 0.5292493038948997, 0.5446356441422475, 0.7343856483539942, 0.5434436385436477, 0.5522306386738702, 0.5645430357263551, 0.424671202170398, 0.5223796277909846, 0.26024838711431303, 0.35782212876625197, 0.3578138559106951, 0.3455216724094056, 0.34551990474339295, 0.2822831991940946, 0.3070205837882759, 0.2878877936212891, 0.3367335057793589, 0.35782228929308296, 0.3578180383361731, 0.33673365169775626, 0.3578172925560211, 0.5446356441422475, 0.2822831991940946, 0.15111028859882467, 0.15111028859882467, 0.15111028859882467, 0.15111028859882467, 0.15111028859882467, 0.15111028859882467, 0.15111028859882467, 0.15111028859882467, 0.15111028859882467, 0.15111028859882467, 0.15111028859882467, 0.15111028859882467, 0.15111028859882467, 0.15111028859882467, 0.15111028859882467, 0.15111028859882467, 0.15111028859882467, 0.15111028859882467, 0.15111028859882467, 0.15111028859882467, 0.15111028859882467, 0.15111028859882467, 0.15111028859882467, 0.15111028859882467, 0.15111028859882467, 0.15111028859882467, 0.15111028859882467, 0.15111028859882467, 0.8447667096232511, 0.9287845830530934, 0.5292493038948997, 0.7343856483539942, 0.5522306386738702, 0.429144931644071, 0.5434436385436477, 0.4291364537063141, 0.424671202170398, 0.5645430357263551, 0.4077287369734584, 0.5223796277909846, 0.33673365169775626, 0.26024838711431303, 0.28560805692905433, 0.3578172925560211, 0.3070195570045832, 0.3455236623185339, 0.27322820846418394, 0.34552972871471366, 0.3455216724094056, 0.3578181163453026, 0.28561164826454316, 0.26024610728427167, 0.2732281183873068, 0.35782521052702815, 0.2878877936212891, 0.2856112346532668, 0.5292493038948997, 0.28561164826454316, 0.15111028859882467, 0.15111028859882467, 0.15111028859882467, 0.15111028859882467, 0.15111028859882467, 0.15111028859882467, 0.15111028859882467, 0.15111028859882467, 0.15111028859882467, 0.15111028859882467, 0.15111028859882467, 0.15111028859882467, 0.15111028859882467, 0.15111028859882467, 0.15111028859882467, 0.15111028859882467, 0.15111028859882467, 0.15111028859882467, 0.15111028859882467, 0.15111028859882467, 0.15111028859882467, 0.15111028859882467, 0.15111028859882467, 0.15111028859882467, 0.15111028859882467, 0.15111028859882467, 0.15111028859882467, 0.15111028859882467, 0.8447667096232511, 0.9287845830530934, 0.5446356441422475, 0.4291364537063141, 0.7343856483539942, 0.5522306386738702, 0.4077287369734584, 0.424671202170398, 0.429144931644071, 0.5434436385436477, 0.5223796277909846, 0.5645430357263551, 0.28560805692905433, 0.26024838711431303, 0.2878877936212891, 0.3578138559106951, 0.3455216724094056, 0.2732281183873068, 0.2732272775086098, 0.27322820846418394, 0.26024610728427167, 0.3578181163453026, 0.34551990474339295, 0.3367335057793589, 0.3070195570045832, 0.35782212876625197, 0.3455236623185339, 0.2822831991940946, 0.2856112346532668, 0.28560805692905433, 0.4077287369734584, 0.15111028859882467, 0.15111028859882467, 0.15111028859882467, 0.15111028859882467, 0.15111028859882467, 0.15111028859882467, 0.15111028859882467, 0.15111028859882467, 0.15111028859882467, 0.15111028859882467, 0.15111028859882467, 0.15111028859882467, 0.15111028859882467, 0.15111028859882467, 0.15111028859882467, 0.15111028859882467, 0.15111028859882467, 0.15111028859882467, 0.15111028859882467, 0.15111028859882467, 0.15111028859882467, 0.15111028859882467, 0.15111028859882467, 0.15111028859882467, 0.15111028859882467, 0.15111028859882467, 0.15111028859882467, 0.9287845830530934, 0.5292493038948997, 0.8447667096232511, 0.7343856483539942, 0.5446356441422475, 0.5522306386738702, 0.429144931644071, 0.4291364537063141, 0.5434436385436477, 0.3578180383361731, 0.424671202170398, 0.26024838711431303, 0.5645430357263551, 0.5223796277909846, 0.3455236623185339, 0.34551990474339295, 0.27322820846418394, 0.3578138559106951, 0.35782228929308296, 0.35782212876625197, 0.3367335057793589, 0.33673507561158306, 0.2732290932473882, 0.3578172925560211, 0.2878877936212891, 0.3070195570045832, 0.2732281183873068, 0.26024610728427167, 0.26024838711431303, 0.5292493038948997, 0.15111028859882467, 0.15111028859882467, 0.15111028859882467, 0.15111028859882467, 0.15111028859882467, 0.15111028859882467, 0.15111028859882467, 0.15111028859882467, 0.15111028859882467, 0.15111028859882467, 0.15111028859882467, 0.15111028859882467, 0.15111028859882467, 0.15111028859882467, 0.15111028859882467, 0.15111028859882467, 0.15111028859882467, 0.15111028859882467, 0.15111028859882467, 0.15111028859882467, 0.15111028859882467, 0.15111028859882467, 0.15111028859882467, 0.15111028859882467, 0.15111028859882467, 0.15111028859882467, 0.15111028859882467, 0.8447667096232511, 0.5446356441422475, 0.9287845830530934, 0.424671202170398, 0.5522306386738702, 0.7343856483539942, 0.4291364537063141, 0.4077287369734584, 0.5434436385436477, 0.5645430357263551, 0.429144931644071, 0.3578181163453026, 0.5223796277909846, 0.35782228929308296, 0.2878877936212891, 0.3455216724094056, 0.34551990474339295, 0.3455236623185339, 0.3578172925560211, 0.3070205837882759, 0.2732281183873068, 0.33673507561158306, 0.28560805692905433, 0.3578180383361731, 0.3578138559106951, 0.27322820846418394, 0.3070195570045832], \"Category\": [\"Default\", \"Default\", \"Default\", \"Default\", \"Default\", \"Default\", \"Default\", \"Default\", \"Default\", \"Default\", \"Default\", \"Default\", \"Default\", \"Default\", \"Default\", \"Default\", \"Default\", \"Default\", \"Default\", \"Default\", \"Default\", \"Default\", \"Default\", \"Default\", \"Default\", \"Default\", \"Default\", \"Default\", \"Default\", \"Default\", \"Topic1\", \"Topic1\", \"Topic1\", \"Topic1\", \"Topic1\", \"Topic1\", \"Topic1\", \"Topic1\", \"Topic1\", \"Topic1\", \"Topic1\", \"Topic1\", \"Topic1\", \"Topic1\", \"Topic1\", \"Topic1\", \"Topic1\", \"Topic1\", \"Topic1\", \"Topic1\", \"Topic1\", \"Topic1\", \"Topic1\", \"Topic1\", \"Topic1\", \"Topic1\", \"Topic1\", \"Topic1\", \"Topic1\", \"Topic1\", \"Topic1\", \"Topic1\", \"Topic1\", \"Topic1\", \"Topic1\", \"Topic1\", \"Topic1\", \"Topic1\", \"Topic1\", \"Topic1\", \"Topic1\", \"Topic1\", \"Topic1\", \"Topic1\", \"Topic1\", \"Topic1\", \"Topic1\", \"Topic1\", \"Topic1\", \"Topic1\", \"Topic1\", \"Topic2\", \"Topic2\", \"Topic2\", \"Topic2\", \"Topic2\", \"Topic2\", \"Topic2\", \"Topic2\", \"Topic2\", \"Topic2\", \"Topic2\", \"Topic2\", \"Topic2\", \"Topic2\", \"Topic2\", \"Topic2\", \"Topic2\", \"Topic2\", \"Topic2\", \"Topic2\", \"Topic2\", \"Topic2\", \"Topic2\", \"Topic2\", \"Topic2\", \"Topic2\", \"Topic2\", \"Topic2\", \"Topic2\", \"Topic2\", \"Topic2\", \"Topic2\", \"Topic2\", \"Topic2\", \"Topic2\", \"Topic2\", \"Topic2\", \"Topic2\", \"Topic2\", \"Topic2\", \"Topic2\", \"Topic2\", \"Topic2\", \"Topic2\", \"Topic2\", \"Topic2\", \"Topic2\", \"Topic2\", \"Topic2\", \"Topic2\", \"Topic3\", \"Topic3\", \"Topic3\", \"Topic3\", \"Topic3\", \"Topic3\", \"Topic3\", \"Topic3\", \"Topic3\", \"Topic3\", \"Topic3\", \"Topic3\", \"Topic3\", \"Topic3\", \"Topic3\", \"Topic3\", \"Topic3\", \"Topic3\", \"Topic3\", \"Topic3\", \"Topic3\", \"Topic3\", \"Topic3\", \"Topic3\", \"Topic3\", \"Topic3\", \"Topic3\", \"Topic3\", \"Topic3\", \"Topic3\", \"Topic3\", \"Topic3\", \"Topic3\", \"Topic3\", \"Topic3\", \"Topic3\", \"Topic3\", \"Topic3\", \"Topic3\", \"Topic3\", \"Topic3\", \"Topic3\", \"Topic3\", \"Topic3\", \"Topic3\", \"Topic3\", \"Topic3\", \"Topic3\", \"Topic3\", \"Topic3\", \"Topic3\", \"Topic3\", \"Topic4\", \"Topic4\", \"Topic4\", \"Topic4\", \"Topic4\", \"Topic4\", \"Topic4\", \"Topic4\", \"Topic4\", \"Topic4\", \"Topic4\", \"Topic4\", \"Topic4\", \"Topic4\", \"Topic4\", \"Topic4\", \"Topic4\", \"Topic4\", \"Topic4\", \"Topic4\", \"Topic4\", \"Topic4\", \"Topic4\", \"Topic4\", \"Topic4\", \"Topic4\", \"Topic4\", \"Topic4\", \"Topic4\", \"Topic4\", \"Topic4\", \"Topic4\", \"Topic4\", \"Topic4\", \"Topic4\", \"Topic4\", \"Topic4\", \"Topic4\", \"Topic4\", \"Topic4\", \"Topic4\", \"Topic4\", \"Topic4\", \"Topic4\", \"Topic4\", \"Topic4\", \"Topic4\", \"Topic4\", \"Topic4\", \"Topic4\", \"Topic4\", \"Topic4\", \"Topic4\", \"Topic4\", \"Topic4\", \"Topic4\", \"Topic5\", \"Topic5\", \"Topic5\", \"Topic5\", \"Topic5\", \"Topic5\", \"Topic5\", \"Topic5\", \"Topic5\", \"Topic5\", \"Topic5\", \"Topic5\", \"Topic5\", \"Topic5\", \"Topic5\", \"Topic5\", \"Topic5\", \"Topic5\", \"Topic5\", \"Topic5\", \"Topic5\", \"Topic5\", \"Topic5\", \"Topic5\", \"Topic5\", \"Topic5\", \"Topic5\", \"Topic5\", \"Topic5\", \"Topic5\", \"Topic5\", \"Topic5\", \"Topic5\", \"Topic5\", \"Topic5\", \"Topic5\", \"Topic5\", \"Topic5\", \"Topic5\", \"Topic5\", \"Topic5\", \"Topic5\", \"Topic5\", \"Topic5\", \"Topic5\", \"Topic5\", \"Topic5\", \"Topic5\", \"Topic5\", \"Topic5\", \"Topic5\", \"Topic5\", \"Topic5\", \"Topic5\", \"Topic5\", \"Topic6\", \"Topic6\", \"Topic6\", \"Topic6\", \"Topic6\", \"Topic6\", \"Topic6\", \"Topic6\", \"Topic6\", \"Topic6\", \"Topic6\", \"Topic6\", \"Topic6\", \"Topic6\", \"Topic6\", \"Topic6\", \"Topic6\", \"Topic6\", \"Topic6\", \"Topic6\", \"Topic6\", \"Topic6\", \"Topic6\", \"Topic6\", \"Topic6\", \"Topic6\", \"Topic6\", \"Topic6\", \"Topic6\", \"Topic6\", \"Topic6\", \"Topic6\", \"Topic6\", \"Topic6\", \"Topic6\", \"Topic6\", \"Topic6\", \"Topic6\", \"Topic6\", \"Topic6\", \"Topic6\", \"Topic6\", \"Topic6\", \"Topic6\", \"Topic6\", \"Topic6\", \"Topic6\", \"Topic6\", \"Topic6\", \"Topic6\", \"Topic6\", \"Topic6\", \"Topic6\", \"Topic7\", \"Topic7\", \"Topic7\", \"Topic7\", \"Topic7\", \"Topic7\", \"Topic7\", \"Topic7\", \"Topic7\", \"Topic7\", \"Topic7\", \"Topic7\", \"Topic7\", \"Topic7\", \"Topic7\", \"Topic7\", \"Topic7\", \"Topic7\", \"Topic7\", \"Topic7\", \"Topic7\", \"Topic7\", \"Topic7\", \"Topic7\", \"Topic7\", \"Topic7\", \"Topic7\", \"Topic7\", \"Topic7\", \"Topic7\", \"Topic7\", \"Topic7\", \"Topic7\", \"Topic7\", \"Topic7\", \"Topic7\", \"Topic7\", \"Topic7\", \"Topic7\", \"Topic7\", \"Topic7\", \"Topic7\", \"Topic7\", \"Topic7\", \"Topic7\", \"Topic7\", \"Topic7\", \"Topic7\", \"Topic7\", \"Topic7\", \"Topic7\", \"Topic7\", \"Topic7\", \"Topic7\", \"Topic7\", \"Topic7\", \"Topic7\", \"Topic7\", \"Topic8\", \"Topic8\", \"Topic8\", \"Topic8\", \"Topic8\", \"Topic8\", \"Topic8\", \"Topic8\", \"Topic8\", \"Topic8\", \"Topic8\", \"Topic8\", \"Topic8\", \"Topic8\", \"Topic8\", \"Topic8\", \"Topic8\", \"Topic8\", \"Topic8\", \"Topic8\", \"Topic8\", \"Topic8\", \"Topic8\", \"Topic8\", \"Topic8\", \"Topic8\", \"Topic8\", \"Topic8\", \"Topic8\", \"Topic8\", \"Topic8\", \"Topic8\", \"Topic8\", \"Topic8\", \"Topic8\", \"Topic8\", \"Topic8\", \"Topic8\", \"Topic8\", \"Topic8\", \"Topic8\", \"Topic8\", \"Topic8\", \"Topic8\", \"Topic8\", \"Topic8\", \"Topic8\", \"Topic8\", \"Topic8\", \"Topic8\", \"Topic8\", \"Topic8\", \"Topic8\", \"Topic8\", \"Topic8\", \"Topic8\", \"Topic8\", \"Topic8\", \"Topic9\", \"Topic9\", \"Topic9\", \"Topic9\", \"Topic9\", \"Topic9\", \"Topic9\", \"Topic9\", \"Topic9\", \"Topic9\", \"Topic9\", \"Topic9\", \"Topic9\", \"Topic9\", \"Topic9\", \"Topic9\", \"Topic9\", \"Topic9\", \"Topic9\", \"Topic9\", \"Topic9\", \"Topic9\", \"Topic9\", \"Topic9\", \"Topic9\", \"Topic9\", \"Topic9\", \"Topic9\", \"Topic9\", \"Topic9\", \"Topic9\", \"Topic9\", \"Topic9\", \"Topic9\", \"Topic9\", \"Topic9\", \"Topic9\", \"Topic9\", \"Topic9\", \"Topic9\", \"Topic9\", \"Topic9\", \"Topic9\", \"Topic9\", \"Topic9\", \"Topic9\", \"Topic9\", \"Topic9\", \"Topic9\", \"Topic9\", \"Topic9\", \"Topic9\", \"Topic9\", \"Topic9\", \"Topic9\", \"Topic9\", \"Topic9\", \"Topic10\", \"Topic10\", \"Topic10\", \"Topic10\", \"Topic10\", \"Topic10\", \"Topic10\", \"Topic10\", \"Topic10\", \"Topic10\", \"Topic10\", \"Topic10\", \"Topic10\", \"Topic10\", \"Topic10\", \"Topic10\", \"Topic10\", \"Topic10\", \"Topic10\", \"Topic10\", \"Topic10\", \"Topic10\", \"Topic10\", \"Topic10\", \"Topic10\", \"Topic10\", \"Topic10\", \"Topic10\", \"Topic10\", \"Topic10\", \"Topic10\", \"Topic10\", \"Topic10\", \"Topic10\", \"Topic10\", \"Topic10\", \"Topic10\", \"Topic10\", \"Topic10\", \"Topic10\", \"Topic10\", \"Topic10\", \"Topic10\", \"Topic10\", \"Topic10\", \"Topic10\", \"Topic10\", \"Topic10\", \"Topic10\", \"Topic10\", \"Topic10\", \"Topic10\", \"Topic10\", \"Topic10\", \"Topic10\", \"Topic10\", \"Topic10\"], \"logprob\": [30.0, 29.0, 28.0, 27.0, 26.0, 25.0, 24.0, 23.0, 22.0, 21.0, 20.0, 19.0, 18.0, 17.0, 16.0, 15.0, 14.0, 13.0, 12.0, 11.0, 10.0, 9.0, 8.0, 7.0, 6.0, 5.0, 4.0, 3.0, 2.0, 1.0, -2.5094, -2.7889, -3.8249, -3.825, -3.825, -3.8251, -3.8251, -3.8251, -3.8251, -6.2225, -6.2225, -6.2225, -6.2225, -6.2225, -6.2225, -6.2225, -6.2225, -6.2225, -6.2225, -6.2225, -6.2225, -6.2225, -6.2225, -6.2225, -6.2225, -6.2225, -6.2225, -6.2225, -6.2225, -6.2225, -6.221, -6.2212, -6.2212, -6.2216, -6.2217, -6.2217, -6.2218, -6.2218, -6.2218, -6.2219, -6.222, -6.222, -6.222, -6.222, -6.222, -6.222, -6.222, -6.222, -6.2221, -6.2221, -6.2221, -3.117, -3.7636, -3.7637, -3.7637, -3.7637, -3.7637, -3.7637, -3.7637, -3.7636, -3.7637, -6.1611, -6.1611, -6.1611, -6.1611, -6.1611, -6.1611, -6.1611, -6.1611, -6.1611, -6.1611, -6.1611, -6.1611, -6.1611, -6.1611, -6.1611, -6.1611, -6.1611, -6.1611, -6.1611, -6.1611, -6.1599, -6.1599, -6.16, -6.1601, -6.1601, -6.1602, -6.1603, -6.1603, -6.1603, -6.1604, -6.1606, -6.1607, -6.1607, -6.1607, -6.1607, -6.1607, -6.1608, -6.1608, -6.1608, -6.1608, -3.117, -2.7276, -3.7636, -3.7636, -3.7637, -3.7637, -3.7637, -3.7637, -6.1611, -6.1611, -6.1611, -6.1611, -6.1611, -6.1611, -6.1611, -6.1611, -6.1611, -6.1611, -6.1611, -6.1611, -6.1611, -6.1611, -6.1611, -6.1611, -6.1611, -6.1611, -6.1611, -6.1611, -6.1611, -6.1611, -6.1596, -6.1598, -6.1602, -6.1602, -6.1603, -6.1603, -6.1604, -6.1604, -6.1604, -6.1605, -6.1606, -6.1607, -6.1607, -6.1607, -6.1607, -6.1607, -6.1607, -6.1607, -6.1607, -6.1607, -6.1607, -6.1607, -3.604, -3.604, -3.6039, -3.604, -6.0014, -6.0014, -6.0014, -6.0014, -6.0014, -6.0014, -6.0014, -6.0014, -6.0014, -6.0014, -6.0014, -6.0014, -6.0014, -6.0014, -6.0014, -6.0014, -6.0014, -6.0014, -6.0014, -6.0014, -6.0014, -6.0014, -6.0014, -6.0014, -6.0014, -6.0014, -5.9999, -6.0001, -6.0001, -6.0003, -6.0005, -6.0005, -6.0006, -6.0006, -6.0007, -6.0007, -6.0008, -6.0009, -6.0009, -6.001, -6.001, -6.001, -6.001, -6.001, -6.001, -6.001, -6.001, -6.001, -6.001, -6.001, -6.001, -6.001, -3.0057, -3.6522, -3.6522, -3.6523, -3.6522, -6.0497, -6.0497, -6.0497, -6.0497, -6.0497, -6.0497, -6.0497, -6.0497, -6.0497, -6.0497, -6.0497, -6.0497, -6.0497, -6.0497, -6.0497, -6.0497, -6.0497, -6.0497, -6.0497, -6.0497, -6.0497, -6.0497, -6.0497, -6.0497, -6.0497, -6.0483, -6.0485, -6.0489, -6.0489, -6.0489, -6.049, -6.049, -6.049, -6.0491, -6.0491, -6.0492, -6.0492, -6.0492, -6.0492, -6.0493, -6.0493, -6.0493, -6.0493, -6.0493, -6.0493, -6.0493, -6.0493, -6.0493, -6.0493, -6.0493, -3.6755, -3.6756, -3.6756, -3.6756, -3.6755, -3.6755, -3.6755, -6.073, -6.073, -6.073, -6.073, -6.073, -6.073, -6.073, -6.073, -6.073, -6.073, -6.073, -6.073, -6.073, -6.073, -6.073, -6.073, -6.073, -6.073, -6.073, -6.073, -6.073, -6.073, -6.073, -6.0714, -6.0717, -6.0717, -6.0717, -6.072, -6.0722, -6.0723, -6.0723, -6.0724, -6.0725, -6.0725, -6.0725, -6.0725, -6.0726, -6.0726, -6.0726, -6.0726, -6.0726, -6.0726, -6.0726, -6.0726, -6.0726, -6.0726, -2.5679, -3.604, -6.0014, -6.0014, -6.0014, -6.0014, -6.0014, -6.0014, -6.0014, -6.0014, -6.0014, -6.0014, -6.0014, -6.0014, -6.0014, -6.0014, -6.0014, -6.0014, -6.0014, -6.0014, -6.0014, -6.0014, -6.0014, -6.0014, -6.0014, -6.0014, -6.0014, -6.0014, -6.0014, -6.0014, -6.0001, -6.0002, -6.0002, -6.0005, -6.0006, -6.0006, -6.0007, -6.0007, -6.0007, -6.0008, -6.0008, -6.0008, -6.0009, -6.0009, -6.0009, -6.0009, -6.001, -6.001, -6.001, -6.001, -6.001, -6.001, -6.001, -6.001, -6.001, -6.001, -6.001, -6.0011, -2.9323, -3.5789, -5.9764, -5.9764, -5.9764, -5.9764, -5.9764, -5.9764, -5.9764, -5.9764, -5.9764, -5.9764, -5.9764, -5.9764, -5.9764, -5.9764, -5.9764, -5.9764, -5.9764, -5.9764, -5.9764, -5.9764, -5.9764, -5.9764, -5.9764, -5.9764, -5.9764, -5.9764, -5.9764, -5.9764, -5.9748, -5.9751, -5.9753, -5.9754, -5.9755, -5.9756, -5.9756, -5.9756, -5.9757, -5.9757, -5.9758, -5.9758, -5.9758, -5.9758, -5.9759, -5.9759, -5.9759, -5.9759, -5.9759, -5.9759, -5.9759, -5.976, -5.976, -5.976, -5.976, -5.976, -5.976, -5.976, -3.5789, -3.579, -3.5789, -5.9764, -5.9764, -5.9764, -5.9764, -5.9764, -5.9764, -5.9764, -5.9764, -5.9764, -5.9764, -5.9764, -5.9764, -5.9764, -5.9764, -5.9764, -5.9764, -5.9764, -5.9764, -5.9764, -5.9764, -5.9764, -5.9764, -5.9764, -5.9764, -5.9764, -5.9764, -5.9764, -5.9749, -5.975, -5.9751, -5.9754, -5.9756, -5.9756, -5.9757, -5.9757, -5.9757, -5.9758, -5.9758, -5.9758, -5.9759, -5.9759, -5.9759, -5.9759, -5.9759, -5.976, -5.976, -5.976, -5.976, -5.976, -5.976, -5.976, -5.976, -5.976, -5.976, -3.5789, -3.5791, -3.5789, -5.9764, -5.9764, -5.9764, -5.9764, -5.9764, -5.9764, -5.9764, -5.9764, -5.9764, -5.9764, -5.9764, -5.9764, -5.9764, -5.9764, -5.9764, -5.9764, -5.9764, -5.9764, -5.9764, -5.9764, -5.9764, -5.9764, -5.9764, -5.9764, -5.9764, -5.9764, -5.9764, -5.9748, -5.9752, -5.9752, -5.9754, -5.9755, -5.9755, -5.9755, -5.9756, -5.9756, -5.9758, -5.9758, -5.9758, -5.9759, -5.9759, -5.9759, -5.9759, -5.9759, -5.9759, -5.9759, -5.976, -5.976, -5.976, -5.976, -5.976, -5.976, -5.976, -5.976], \"loglift\": [30.0, 29.0, 28.0, 27.0, 26.0, 25.0, 24.0, 23.0, 22.0, 21.0, 20.0, 19.0, 18.0, 17.0, 16.0, 15.0, 14.0, 13.0, 12.0, 11.0, 10.0, 9.0, 8.0, 7.0, 6.0, 5.0, 4.0, 3.0, 2.0, 1.0, 1.7542, 1.7095, 1.4274, 1.4273, 1.4273, 1.4273, 1.4273, 1.4273, 0.9584, -0.1431, -0.1431, -0.1431, -0.1431, -0.1431, -0.1431, -0.1431, -0.1431, -0.1431, -0.1431, -0.1431, -0.1431, -0.1431, -0.1431, -0.1431, -0.1431, -0.1431, -0.1431, -0.1431, -0.1431, -0.1431, -1.8627, -1.3952, -1.4239, -1.4602, -1.1756, -1.1861, -1.1862, -1.135, -1.3828, -1.4224, -0.9438, -0.6862, -1.0046, -0.7792, -0.7675, -0.7349, -0.9439, -0.7349, -1.0047, -1.0047, -1.0047, 1.6444, 1.4537, 1.4537, 1.4537, 1.4537, 1.4537, 1.4537, 1.4537, 1.0358, 1.0198, -0.0817, -0.0817, -0.0817, -0.0817, -0.0817, -0.0817, -0.0817, -0.0817, -0.0817, -0.0817, -0.0817, -0.0817, -0.0817, -0.0817, -0.0817, -0.0817, -0.0817, -0.0817, -0.0817, -0.0817, -1.8015, -1.8963, -1.6616, -1.3628, -1.3341, -1.1141, -1.1246, -1.0735, -1.1247, -0.6247, -1.3216, -0.9083, -0.9084, -0.6736, -0.7062, -0.9084, -0.8827, -0.8826, -0.718, -0.8826, 1.722, 1.6308, 1.5145, 1.5144, 1.5144, 1.5144, 1.5144, 1.0358, -0.0817, -0.0817, -0.0817, -0.0817, -0.0817, -0.0817, -0.0817, -0.0817, -0.0817, -0.0817, -0.0817, -0.0817, -0.0817, -0.0817, -0.0817, -0.0817, -0.0817, -0.0817, -0.0817, -0.0817, -0.0817, -0.0817, -1.8961, -1.3338, -1.3629, -1.6618, -1.3768, -1.3989, -1.1247, -1.1143, -1.1248, -1.0737, -0.6249, -0.9083, -0.7259, -0.9083, -0.9084, -0.9433, -0.7062, -0.9433, -0.9434, -0.9433, -0.718, -0.718, 1.7665, 1.7665, 1.4317, 1.4316, 0.078, 0.078, 0.078, 0.078, 0.078, 0.078, 0.078, 0.078, 0.078, 0.078, 0.078, 0.078, 0.078, 0.078, 0.078, 0.078, 0.078, 0.078, 0.078, 0.078, 0.078, 0.078, 0.078, 0.078, 0.078, 0.078, -1.6415, -1.1741, -1.7366, -1.203, -0.9137, -1.2171, -1.5022, -1.2392, -1.2012, -0.9547, -0.465, -1.1619, -0.7486, -0.7486, -0.7486, -0.7836, -0.7487, -0.7836, -0.5139, -0.4652, -0.5582, -0.7229, -0.5465, -0.7836, -0.7487, -0.7837, 2.0404, 1.7826, 1.7826, 1.7825, 0.7061, 0.0297, 0.0297, 0.0297, 0.0297, 0.0297, 0.0297, 0.0297, 0.0297, 0.0297, 0.0297, 0.0297, 0.0297, 0.0297, 0.0297, 0.0297, 0.0297, 0.0297, 0.0297, 0.0297, 0.0297, 0.0297, 0.0297, 0.0297, 0.0297, 0.0297, -1.7847, -1.2225, -1.2516, -1.0133, -1.2655, -1.2495, -1.5506, -0.9622, -1.2877, -1.0135, -0.6064, -1.2102, -0.5621, -0.7969, -0.6065, -0.5622, -0.7969, -0.6788, -0.8319, -0.5135, -0.5135, -0.8319, -0.8319, -0.7712, -0.797, 1.8116, 1.8115, 1.8115, 1.8115, 1.4113, 1.3601, 1.3601, 0.0064, 0.0064, 0.0064, 0.0064, 0.0064, 0.0064, 0.0064, 0.0064, 0.0064, 0.0064, 0.0064, 0.0064, 0.0064, 0.0064, 0.0064, 0.0064, 0.0064, 0.0064, 0.0064, 0.0064, 0.0064, 0.0064, 0.0064, -1.8078, -1.7133, -1.2457, -1.2744, -1.5736, -1.2727, -1.2888, -1.3109, -1.0263, -1.2334, -0.5367, -0.8552, -0.8552, -0.8202, -0.8202, -0.6181, -0.7021, -0.6378, -0.7945, -0.8552, -0.8552, -0.7945, -0.8552, 2.2294, 1.8505, 0.078, 0.078, 0.078, 0.078, 0.078, 0.078, 0.078, 0.078, 0.078, 0.078, 0.078, 0.078, 0.078, 0.078, 0.078, 0.078, 0.078, 0.078, 0.078, 0.078, 0.078, 0.078, 0.078, 0.078, 0.078, 0.078, 0.078, 0.078, -1.6417, -1.7366, -1.1742, -1.5021, -1.2171, -0.965, -1.2012, -0.9651, -0.9546, -1.2394, -0.914, -1.1618, -0.7228, -0.4651, -0.5581, -0.7835, -0.6305, -0.7486, -0.5139, -0.7487, -0.7487, -0.7836, -0.5583, -0.4652, -0.5139, -0.7837, -0.5662, -0.5583, 1.8936, 1.8639, 0.103, 0.103, 0.103, 0.103, 0.103, 0.103, 0.103, 0.103, 0.103, 0.103, 0.103, 0.103, 0.103, 0.103, 0.103, 0.103, 0.103, 0.103, 0.103, 0.103, 0.103, 0.103, 0.103, 0.103, 0.103, 0.103, 0.103, 0.103, -1.6165, -1.7115, -1.178, -0.9398, -1.4771, -1.1922, -0.8888, -0.9296, -0.9401, -1.1763, -1.1368, -1.2144, -0.533, -0.4401, -0.541, -0.7585, -0.7236, -0.4888, -0.4888, -0.4888, -0.4402, -0.7586, -0.7236, -0.6979, -0.6055, -0.7586, -0.7236, -0.5215, 1.8639, 1.8638, 1.5079, 0.103, 0.103, 0.103, 0.103, 0.103, 0.103, 0.103, 0.103, 0.103, 0.103, 0.103, 0.103, 0.103, 0.103, 0.103, 0.103, 0.103, 0.103, 0.103, 0.103, 0.103, 0.103, 0.103, 0.103, 0.103, 0.103, 0.103, -1.7114, -1.1491, -1.6167, -1.477, -1.1783, -1.1922, -0.9401, -0.9401, -1.1762, -0.7584, -0.9297, -0.4401, -1.2145, -1.1369, -0.7235, -0.7235, -0.4888, -0.7586, -0.7586, -0.7586, -0.6978, -0.6978, -0.4889, -0.7586, -0.5411, -0.6055, -0.4889, 1.9569, 1.9567, 1.247, 0.103, 0.103, 0.103, 0.103, 0.103, 0.103, 0.103, 0.103, 0.103, 0.103, 0.103, 0.103, 0.103, 0.103, 0.103, 0.103, 0.103, 0.103, 0.103, 0.103, 0.103, 0.103, 0.103, 0.103, 0.103, 0.103, 0.103, -1.6164, -1.1779, -1.7117, -0.9293, -1.1921, -1.4771, -0.9399, -0.8887, -1.1761, -1.2144, -0.9402, -0.7585, -1.1368, -0.7585, -0.5411, -0.7236, -0.7236, -0.7236, -0.7586, -0.6055, -0.4889, -0.6978, -0.5332, -0.7586, -0.7586, -0.4889, -0.6055]}, \"token.table\": {\"Topic\": [1, 3, 1], \"Freq\": [1.0766759249090976, 1.1837587686735191, 1.3616823834198517], \"Term\": [\"\\ub2e4\\uc2dc\\ub2e4\", \"\\ub9ac\\ub180\\ub80c\\uc0b0\", \"\\ud568\\uc720\"]}, \"R\": 30, \"lambda.step\": 0.01, \"plot.opts\": {\"xlab\": \"PC1\", \"ylab\": \"PC2\"}, \"topic.order\": [6, 10, 7, 8, 2, 3, 5, 9, 1, 4]};\n",
       "\n",
       "function LDAvis_load_lib(url, callback){\n",
       "  var s = document.createElement('script');\n",
       "  s.src = url;\n",
       "  s.async = true;\n",
       "  s.onreadystatechange = s.onload = callback;\n",
       "  s.onerror = function(){console.warn(\"failed to load library \" + url);};\n",
       "  document.getElementsByTagName(\"head\")[0].appendChild(s);\n",
       "}\n",
       "\n",
       "if(typeof(LDAvis) !== \"undefined\"){\n",
       "   // already loaded: just create the visualization\n",
       "   !function(LDAvis){\n",
       "       new LDAvis(\"#\" + \"ldavis_el7274817633364945927388849531\", ldavis_el7274817633364945927388849531_data);\n",
       "   }(LDAvis);\n",
       "}else if(typeof define === \"function\" && define.amd){\n",
       "   // require.js is available: use it to load d3/LDAvis\n",
       "   require.config({paths: {d3: \"https://d3js.org/d3.v5\"}});\n",
       "   require([\"d3\"], function(d3){\n",
       "      window.d3 = d3;\n",
       "      LDAvis_load_lib(\"https://cdn.jsdelivr.net/gh/bmabey/pyLDAvis@3.4.0/pyLDAvis/js/ldavis.v3.0.0.js\", function(){\n",
       "        new LDAvis(\"#\" + \"ldavis_el7274817633364945927388849531\", ldavis_el7274817633364945927388849531_data);\n",
       "      });\n",
       "    });\n",
       "}else{\n",
       "    // require.js not available: dynamically load d3 & LDAvis\n",
       "    LDAvis_load_lib(\"https://d3js.org/d3.v5.js\", function(){\n",
       "         LDAvis_load_lib(\"https://cdn.jsdelivr.net/gh/bmabey/pyLDAvis@3.4.0/pyLDAvis/js/ldavis.v3.0.0.js\", function(){\n",
       "                 new LDAvis(\"#\" + \"ldavis_el7274817633364945927388849531\", ldavis_el7274817633364945927388849531_data);\n",
       "            })\n",
       "         });\n",
       "}\n",
       "</script>"
      ],
      "text/plain": [
       "<IPython.core.display.HTML object>"
      ]
     },
     "execution_count": 31,
     "metadata": {},
     "output_type": "execute_result"
    }
   ],
   "source": [
    "pyLDAvis.display(result_visualized)"
   ]
  },
  {
   "cell_type": "code",
   "execution_count": 32,
   "id": "4deeeb43-fb45-4630-b7b2-c817e4c30ca7",
   "metadata": {
    "tags": []
   },
   "outputs": [],
   "source": [
    "# review_negative_result_visualized.html\n",
    "pyLDAvis.save_html(result_visualized, '../datasets/review_negative_result_visualized.html')"
   ]
  },
  {
   "cell_type": "code",
   "execution_count": null,
   "id": "af64879e-62f3-42c0-825a-70c757074dfc",
   "metadata": {},
   "outputs": [],
   "source": []
  },
  {
   "cell_type": "code",
   "execution_count": 33,
   "id": "331de5a8-658f-489d-a799-a41f282ab173",
   "metadata": {
    "tags": []
   },
   "outputs": [],
   "source": [
    "# cholesterolreview_positive.csv\n",
    "import pandas as pd\n",
    "df_review_positive = pd.read_csv('../datasets/cholesterolreview_positive.csv')"
   ]
  },
  {
   "cell_type": "code",
   "execution_count": 34,
   "id": "a730b86d-c56b-4eac-bd01-9264a005a2a1",
   "metadata": {
    "tags": []
   },
   "outputs": [
    {
     "name": "stdout",
     "output_type": "stream",
     "text": [
      "<class 'pandas.core.frame.DataFrame'>\n",
      "RangeIndex: 6205 entries, 0 to 6204\n",
      "Data columns (total 9 columns):\n",
      " #   Column            Non-Null Count  Dtype  \n",
      "---  ------            --------------  -----  \n",
      " 0   Unnamed: 0        6205 non-null   int64  \n",
      " 1   _id               6205 non-null   object \n",
      " 2   product_name      6205 non-null   object \n",
      " 3   review_writer     6205 non-null   object \n",
      " 4   review_date       6205 non-null   object \n",
      " 5   review_star       6205 non-null   float64\n",
      " 6   review_content    6205 non-null   object \n",
      " 7   tokenizer_review  6205 non-null   object \n",
      " 8   replaced_review   6188 non-null   object \n",
      "dtypes: float64(1), int64(1), object(7)\n",
      "memory usage: 436.4+ KB\n"
     ]
    }
   ],
   "source": [
    "df_review_positive.info()"
   ]
  },
  {
   "cell_type": "code",
   "execution_count": 35,
   "id": "56239052-af87-4eed-b042-b6a249a09171",
   "metadata": {
    "tags": []
   },
   "outputs": [],
   "source": [
    "df_review_positive = df_review_positive.dropna()"
   ]
  },
  {
   "cell_type": "markdown",
   "id": "dac51abe-1500-4c34-9429-89609659326c",
   "metadata": {},
   "source": [
    "### LDA 분석(review_positive)"
   ]
  },
  {
   "cell_type": "markdown",
   "id": "57545397-c16a-460e-97a5-e5ad2f013477",
   "metadata": {
    "tags": []
   },
   "source": [
    "##### 문장 벡터화(review_positive)"
   ]
  },
  {
   "cell_type": "code",
   "execution_count": 36,
   "id": "a0227626-3071-4aec-ad4b-347f405165be",
   "metadata": {
    "tags": []
   },
   "outputs": [],
   "source": [
    "# 'replaced_review' 열의 모든 값을 문자열로 변환\n",
    "df_review_positive['replaced_review'] = df_review_positive['replaced_review'].astype(str)"
   ]
  },
  {
   "cell_type": "code",
   "execution_count": 37,
   "id": "368c5af7-bc5b-41b9-8f82-1b1a61f6641b",
   "metadata": {
    "tags": []
   },
   "outputs": [
    {
     "data": {
      "text/plain": [
       "<gensim.corpora.dictionary.Dictionary at 0x19a8cdada90>"
      ]
     },
     "execution_count": 37,
     "metadata": {},
     "output_type": "execute_result"
    }
   ],
   "source": [
    "dictionary = Dictionary(df_review_positive[['replaced_review']].values)\n",
    "dictionary"
   ]
  },
  {
   "cell_type": "code",
   "execution_count": 38,
   "id": "a8fe12b5-ffc7-42f4-abc1-fab07f712fa5",
   "metadata": {
    "tags": []
   },
   "outputs": [],
   "source": [
    "# dictionary에 의한 한글 문장을 벡터화 변환\n",
    "corpus_list = list()\n",
    "for sentence in df_review_positive[['replaced_review']].values :\n",
    "  vectors = dictionary.doc2bow(sentence)\n",
    "  corpus_list.append(vectors)"
   ]
  },
  {
   "cell_type": "code",
   "execution_count": 39,
   "id": "aae45e11-818a-453a-a6b7-6694e1db6ee3",
   "metadata": {
    "tags": []
   },
   "outputs": [],
   "source": [
    "df_review_positive['문장벡터화'] = corpus_list"
   ]
  },
  {
   "cell_type": "code",
   "execution_count": 40,
   "id": "d2730e41-0c07-4536-82a5-170779ac50d3",
   "metadata": {
    "tags": []
   },
   "outputs": [
    {
     "data": {
      "text/html": [
       "<div>\n",
       "<style scoped>\n",
       "    .dataframe tbody tr th:only-of-type {\n",
       "        vertical-align: middle;\n",
       "    }\n",
       "\n",
       "    .dataframe tbody tr th {\n",
       "        vertical-align: top;\n",
       "    }\n",
       "\n",
       "    .dataframe thead th {\n",
       "        text-align: right;\n",
       "    }\n",
       "</style>\n",
       "<table border=\"1\" class=\"dataframe\">\n",
       "  <thead>\n",
       "    <tr style=\"text-align: right;\">\n",
       "      <th></th>\n",
       "      <th>Unnamed: 0</th>\n",
       "      <th>_id</th>\n",
       "      <th>product_name</th>\n",
       "      <th>review_writer</th>\n",
       "      <th>review_date</th>\n",
       "      <th>review_star</th>\n",
       "      <th>review_content</th>\n",
       "      <th>tokenizer_review</th>\n",
       "      <th>replaced_review</th>\n",
       "      <th>문장벡터화</th>\n",
       "    </tr>\n",
       "  </thead>\n",
       "  <tbody>\n",
       "    <tr>\n",
       "      <th>0</th>\n",
       "      <td>0</td>\n",
       "      <td>650d8884b2af41f5ca5ba6aa</td>\n",
       "      <td>브리오 보라지오일 감마리놀렌산 300 / 오메가6 보라지유 달맞이꽃종자유 영양제 /...</td>\n",
       "      <td>지오됴됴</td>\n",
       "      <td>2021.03.19</td>\n",
       "      <td>5.0</td>\n",
       "      <td>배송 빨라요 성능 보통이에요 유통기한 기한이 넉넉해요\\n감마리놀렌산이 여성에게 좋다...</td>\n",
       "      <td>['배송', '빨르다', '성능', '유통', '기한', '기한', '넉넉하다', ...</td>\n",
       "      <td>배송 빨르다 성능 유통 기한 기한 넉넉하다 감마 리놀렌산 여성 좋다 다해 초록색 비...</td>\n",
       "      <td>[(0, 1)]</td>\n",
       "    </tr>\n",
       "    <tr>\n",
       "      <th>1</th>\n",
       "      <td>1</td>\n",
       "      <td>650d8884b2af41f5ca5ba6ab</td>\n",
       "      <td>브리오 보라지오일 감마리놀렌산 300 / 오메가6 보라지유 달맞이꽃종자유 영양제 /...</td>\n",
       "      <td>ju82**</td>\n",
       "      <td>2023.07.05</td>\n",
       "      <td>5.0</td>\n",
       "      <td>유통기한 기한이 넉넉해요 포장상태 포장이 깔끔해요 효과 효과 좋아요\\n두번째 구입입...</td>\n",
       "      <td>['유통', '기한', '기한', '넉넉하다', '포장', '상태', '포장', '...</td>\n",
       "      <td>유통 기한 기한 넉넉하다 포장 상태 포장 깔끔하다 좋다 두번째 구입 월경 증후군 구...</td>\n",
       "      <td>[(1, 1)]</td>\n",
       "    </tr>\n",
       "    <tr>\n",
       "      <th>2</th>\n",
       "      <td>2</td>\n",
       "      <td>650d8884b2af41f5ca5ba6ac</td>\n",
       "      <td>브리오 보라지오일 감마리놀렌산 300 / 오메가6 보라지유 달맞이꽃종자유 영양제 /...</td>\n",
       "      <td>sns2**</td>\n",
       "      <td>2023.09.20</td>\n",
       "      <td>5.0</td>\n",
       "      <td>유통기한 기한이 넉넉해요 포장상태 포장이 깔끔해요 효과 효과 좋아요\\n유트브 보고 ...</td>\n",
       "      <td>['유통', '기한', '기한', '넉넉하다', '포장', '상태', '포장', '...</td>\n",
       "      <td>유통 기한 기한 넉넉하다 포장 상태 포장 깔끔하다 좋다 유트브 구매 피부 염증 좋다...</td>\n",
       "      <td>[(2, 1)]</td>\n",
       "    </tr>\n",
       "  </tbody>\n",
       "</table>\n",
       "</div>"
      ],
      "text/plain": [
       "   Unnamed: 0                       _id  \\\n",
       "0           0  650d8884b2af41f5ca5ba6aa   \n",
       "1           1  650d8884b2af41f5ca5ba6ab   \n",
       "2           2  650d8884b2af41f5ca5ba6ac   \n",
       "\n",
       "                                        product_name review_writer  \\\n",
       "0  브리오 보라지오일 감마리놀렌산 300 / 오메가6 보라지유 달맞이꽃종자유 영양제 /...          지오됴됴   \n",
       "1  브리오 보라지오일 감마리놀렌산 300 / 오메가6 보라지유 달맞이꽃종자유 영양제 /...        ju82**   \n",
       "2  브리오 보라지오일 감마리놀렌산 300 / 오메가6 보라지유 달맞이꽃종자유 영양제 /...        sns2**   \n",
       "\n",
       "  review_date  review_star                                     review_content  \\\n",
       "0  2021.03.19          5.0  배송 빨라요 성능 보통이에요 유통기한 기한이 넉넉해요\\n감마리놀렌산이 여성에게 좋다...   \n",
       "1  2023.07.05          5.0  유통기한 기한이 넉넉해요 포장상태 포장이 깔끔해요 효과 효과 좋아요\\n두번째 구입입...   \n",
       "2  2023.09.20          5.0  유통기한 기한이 넉넉해요 포장상태 포장이 깔끔해요 효과 효과 좋아요\\n유트브 보고 ...   \n",
       "\n",
       "                                    tokenizer_review  \\\n",
       "0  ['배송', '빨르다', '성능', '유통', '기한', '기한', '넉넉하다', ...   \n",
       "1  ['유통', '기한', '기한', '넉넉하다', '포장', '상태', '포장', '...   \n",
       "2  ['유통', '기한', '기한', '넉넉하다', '포장', '상태', '포장', '...   \n",
       "\n",
       "                                     replaced_review     문장벡터화  \n",
       "0  배송 빨르다 성능 유통 기한 기한 넉넉하다 감마 리놀렌산 여성 좋다 다해 초록색 비...  [(0, 1)]  \n",
       "1  유통 기한 기한 넉넉하다 포장 상태 포장 깔끔하다 좋다 두번째 구입 월경 증후군 구...  [(1, 1)]  \n",
       "2  유통 기한 기한 넉넉하다 포장 상태 포장 깔끔하다 좋다 유트브 구매 피부 염증 좋다...  [(2, 1)]  "
      ]
     },
     "execution_count": 40,
     "metadata": {},
     "output_type": "execute_result"
    }
   ],
   "source": [
    "df_review_positive[:3]"
   ]
  },
  {
   "cell_type": "code",
   "execution_count": 41,
   "id": "994294a7-e1a7-454e-a673-82becd4bf6bd",
   "metadata": {
    "tags": []
   },
   "outputs": [],
   "source": [
    "lda_model = LdaModel(corpus=corpus_list, id2word=dictionary, num_topics=9)"
   ]
  },
  {
   "cell_type": "code",
   "execution_count": 42,
   "id": "b311af48-cb7c-4f33-a6d4-0a784ed412fa",
   "metadata": {
    "tags": []
   },
   "outputs": [
    {
     "data": {
      "text/plain": [
       "[(0,\n",
       "  '0.037*\"배송 성능 유통 기한\" + 0.015*\"배송 빨르다 성능 유통 기한\" + 0.014*\"배송 빨르다 성능 성능 뛰어나다 유통 기한\" + 0.004*\"배송 빨르다 성능 성능 뛰어나다 유통 기한 기한 넉넉하다 기분 업다 상쾌하다 피로 좋다 힘차다 보내다 상세 상세 상세\"'),\n",
       " (1,\n",
       "  '0.011*\"배송 성능 성능 뛰어나다 유통 기한 기한 넉넉하다\" + 0.006*\"배송 빨르다\" + 0.005*\"가격 괜찮다 배송 빨르다\" + 0.005*\"배송 성능 성능 뛰어나다 유통 기한\"'),\n",
       " (2,\n",
       "  '0.091*\"좋다\" + 0.008*\"배송 빨르다 성능 성능 뛰어나다 유통 기한 기한 넉넉하다 좋다\" + 0.003*\"배송 빨르다 성능 성능 뛰어나다 유통 기한 기한 넉넉하다 포장 튼튼하다 해주다 상세\" + 0.003*\"유통 기한 기한 넉넉하다 포장 상태 포장 깔끔하다 좋다 장기 복용 혈압 조절\"'),\n",
       " (3,\n",
       "  '0.073*\"유통 기한 기한 넉넉하다 포장 상태 포장 깔끔하다 좋다\" + 0.016*\"가격 괜찮다 배송\" + 0.013*\"가격 괜찮다 배송 빨르다\" + 0.008*\"성능 유통 기한\"'),\n",
       " (4,\n",
       "  '0.037*\"모르다 꾸준하다\" + 0.035*\"불편하다\" + 0.003*\"유통 기한 기한 넉넉하다 포장 상태 포장 깔끔하다 좋다 구매 배송 예정일 제조 2월 유통 기한 기다 좋다 상세 상세\" + 0.003*\"배송 빨르다 성능 성능 뛰어나다 유통 기한 기한 넉넉하다 구매 구매\"'),\n",
       " (5,\n",
       "  '0.166*\"배송 빨르다 성능 성능 뛰어나다 유통 기한 기한 넉넉하다\" + 0.003*\"유통 기한 기한 넉넉하다 포장 상태 포장 깔끔하다 좋다\" + 0.003*\"배송 성능 성능 뛰어나다 유통 기한 기한 넉넉하다 혈관 건강 좋다 구입 좋다 결과 상세 상세\" + 0.003*\"배송 빨르다 성능 성능 뛰어나다 유통 기한 기한 넉넉하다 복용 지나다 좋아지다 기분 꾸준하다 복용\"'),\n",
       " (6,\n",
       "  '0.037*\"좋다 좋다\" + 0.009*\"가격 싸다 사다 배송 빨르다\" + 0.005*\"가격 싸다 사다 배송 빨르다 좋다\" + 0.004*\"배송\"'),\n",
       " (7,\n",
       "  '0.019*\"유통 기한 기한 넉넉하다 포장 상태 포장 깔끔하다\" + 0.013*\"배송 빨르다 성능 유통 기한 기한 넉넉하다\" + 0.010*\"가격 괜찮다 배송\" + 0.005*\"배송 빨르다 성능 성능 뛰어나다 유통 기한 기한 넉넉하다\"'),\n",
       " (8,\n",
       "  '0.007*\"가격 싸다 사다 배송 빨르다\" + 0.004*\"배송 유통 기한\" + 0.004*\"배송 성능 성능 뛰어나다 유통 기한 기한 넉넉하다 고혈압 먹기 단계 심사숙고 복용 복용 변화 느끼다 꾸준하다\" + 0.004*\"배송 빨르다 성능 성능 뛰어나다 유통 기한 기한 넉넉하다 세번 구매 지속 복용 상세\"')]"
      ]
     },
     "execution_count": 42,
     "metadata": {},
     "output_type": "execute_result"
    }
   ],
   "source": [
    "lda_model.print_topics(num_words=4)"
   ]
  },
  {
   "cell_type": "markdown",
   "id": "51d0202b-b807-49eb-bb1a-ee84932a6fb2",
   "metadata": {},
   "source": [
    "##### LDA 시각화(review_positive)"
   ]
  },
  {
   "cell_type": "code",
   "execution_count": 43,
   "id": "0de07704-31ec-4b88-852c-792dc8a1152d",
   "metadata": {
    "tags": []
   },
   "outputs": [],
   "source": [
    "pyLDAvis.enable_notebook() # 일반적인 python에선 불필요\n",
    "result_visualized = pyLDAvis.gensim_models.prepare(lda_model, corpus_list, dictionary)"
   ]
  },
  {
   "cell_type": "code",
   "execution_count": 44,
   "id": "8f80c832-89d1-410c-a242-1c24ce1af39c",
   "metadata": {
    "tags": []
   },
   "outputs": [
    {
     "data": {
      "text/html": [
       "\n",
       "<link rel=\"stylesheet\" type=\"text/css\" href=\"https://cdn.jsdelivr.net/gh/bmabey/pyLDAvis@3.4.0/pyLDAvis/js/ldavis.v1.0.0.css\">\n",
       "\n",
       "\n",
       "<div id=\"ldavis_el7274817633399836007304811774\" style=\"background-color:white;\"></div>\n",
       "<script type=\"text/javascript\">\n",
       "\n",
       "var ldavis_el7274817633399836007304811774_data = {\"mdsDat\": {\"x\": [0.07986248209435357, -0.015114458672267803, -0.010449302748046192, -0.010568650662229517, 0.003999322343155275, -0.006145788105162197, -0.015506838568284331, -0.022129648042505452, -0.003947117639013355], \"y\": [-0.0003886965137086043, 0.05370767196142748, -0.01356923916191804, -0.004082600424115508, 0.006127690429274439, -0.0021847658481368814, -0.03252940620162988, -0.00481549299127487, -0.0022651612499181464], \"topics\": [1, 2, 3, 4, 5, 6, 7, 8, 9], \"cluster\": [1, 1, 1, 1, 1, 1, 1, 1, 1], \"Freq\": [12.820514049615339, 12.45776672931437, 11.077170138281705, 11.068878178184601, 10.826861864564338, 10.593234175100086, 10.50299334991188, 10.422487062369287, 10.230094452658394]}, \"tinfo\": {\"Term\": [\"\\ubc30\\uc1a1 \\ube68\\ub974\\ub2e4 \\uc131\\ub2a5 \\uc131\\ub2a5 \\ub6f0\\uc5b4\\ub098\\ub2e4 \\uc720\\ud1b5 \\uae30\\ud55c \\uae30\\ud55c \\ub109\\ub109\\ud558\\ub2e4\", \"\\uc88b\\ub2e4\", \"\\uc720\\ud1b5 \\uae30\\ud55c \\uae30\\ud55c \\ub109\\ub109\\ud558\\ub2e4 \\ud3ec\\uc7a5 \\uc0c1\\ud0dc \\ud3ec\\uc7a5 \\uae54\\ub054\\ud558\\ub2e4 \\uc88b\\ub2e4\", \"\\uc88b\\ub2e4 \\uc88b\\ub2e4\", \"\\ubaa8\\ub974\\ub2e4 \\uafb8\\uc900\\ud558\\ub2e4\", \"\\ubc30\\uc1a1 \\uc131\\ub2a5 \\uc720\\ud1b5 \\uae30\\ud55c\", \"\\ubd88\\ud3b8\\ud558\\ub2e4\", \"\\uc720\\ud1b5 \\uae30\\ud55c \\uae30\\ud55c \\ub109\\ub109\\ud558\\ub2e4 \\ud3ec\\uc7a5 \\uc0c1\\ud0dc \\ud3ec\\uc7a5 \\uae54\\ub054\\ud558\\ub2e4\", \"\\uac00\\uaca9 \\uad1c\\ucc2e\\ub2e4 \\ubc30\\uc1a1\", \"\\ubc30\\uc1a1 \\ube68\\ub974\\ub2e4 \\uc131\\ub2a5 \\uc720\\ud1b5 \\uae30\\ud55c\", \"\\ubc30\\uc1a1 \\ube68\\ub974\\ub2e4 \\uc131\\ub2a5 \\uc131\\ub2a5 \\ub6f0\\uc5b4\\ub098\\ub2e4 \\uc720\\ud1b5 \\uae30\\ud55c\", \"\\uac00\\uaca9 \\uad1c\\ucc2e\\ub2e4 \\ubc30\\uc1a1 \\ube68\\ub974\\ub2e4\", \"\\ubc30\\uc1a1 \\ube68\\ub974\\ub2e4 \\uc131\\ub2a5 \\uc720\\ud1b5 \\uae30\\ud55c \\uae30\\ud55c \\ub109\\ub109\\ud558\\ub2e4\", \"\\ubc30\\uc1a1 \\uc131\\ub2a5 \\uc131\\ub2a5 \\ub6f0\\uc5b4\\ub098\\ub2e4 \\uc720\\ud1b5 \\uae30\\ud55c \\uae30\\ud55c \\ub109\\ub109\\ud558\\ub2e4\", \"\\uac00\\uaca9 \\uc2f8\\ub2e4 \\uc0ac\\ub2e4 \\ubc30\\uc1a1 \\ube68\\ub974\\ub2e4\", \"\\uc131\\ub2a5 \\uc720\\ud1b5 \\uae30\\ud55c\", \"\\ubc30\\uc1a1 \\ube68\\ub974\\ub2e4 \\uc131\\ub2a5 \\uc131\\ub2a5 \\ub6f0\\uc5b4\\ub098\\ub2e4 \\uc720\\ud1b5 \\uae30\\ud55c \\uae30\\ud55c \\ub109\\ub109\\ud558\\ub2e4 \\uc88b\\ub2e4\", \"\\ubc30\\uc1a1 \\ube68\\ub974\\ub2e4\", \"\\uac00\\uaca9 \\uc2f8\\ub2e4 \\uc0ac\\ub2e4 \\ubc30\\uc1a1 \\ube68\\ub974\\ub2e4 \\uc88b\\ub2e4\", \"\\ubc30\\uc1a1 \\uc131\\ub2a5 \\uc131\\ub2a5 \\ub6f0\\uc5b4\\ub098\\ub2e4 \\uc720\\ud1b5 \\uae30\\ud55c\", \"\\ubc30\\uc1a1 \\uc720\\ud1b5 \\uae30\\ud55c\", \"\\ubc30\\uc1a1\", \"\\ubc30\\uc1a1 \\uc131\\ub2a5 \\uc131\\ub2a5 \\ub6f0\\uc5b4\\ub098\\ub2e4 \\uc720\\ud1b5 \\uae30\\ud55c \\uae30\\ud55c \\ub109\\ub109\\ud558\\ub2e4 \\uace0\\ud608\\uc555 \\uba39\\uae30 \\ub2e8\\uacc4 \\uc2ec\\uc0ac\\uc219\\uace0 \\ubcf5\\uc6a9 \\ubcf5\\uc6a9 \\ubcc0\\ud654 \\ub290\\ub07c\\ub2e4 \\uafb8\\uc900\\ud558\\ub2e4\", \"\\ubc30\\uc1a1 \\ube68\\ub974\\ub2e4 \\uc131\\ub2a5 \\uc131\\ub2a5 \\ub6f0\\uc5b4\\ub098\\ub2e4 \\uc720\\ud1b5 \\uae30\\ud55c \\uae30\\ud55c \\ub109\\ub109\\ud558\\ub2e4 \\uc138\\ubc88 \\uad6c\\ub9e4 \\uc9c0\\uc18d \\ubcf5\\uc6a9 \\uc0c1\\uc138\", \"\\uc720\\ud1b5 \\uae30\\ud55c \\uae30\\ud55c \\ub109\\ub109\\ud558\\ub2e4 \\ud3ec\\uc7a5 \\uc0c1\\ud0dc \\ud3ec\\uc7a5 \\uae54\\ub054\\ud558\\ub2e4 \\uc88b\\ub2e4 \\ud608\\uc555 \\uafb8\\uc900\\ud558\\ub2e4 \\ubcf5\\uc6a9 \\ubaa8\\ub974\\ub2e4 \\ubd88\\uc548\\ud558\\ub2e4 \\ubcf5\\uc6a9\", \"\\ubc30\\uc1a1 \\ube68\\ub974\\ub2e4 \\uc131\\ub2a5 \\uc131\\ub2a5 \\ub6f0\\uc5b4\\ub098\\ub2e4 \\uc720\\ud1b5 \\uae30\\ud55c \\uae30\\ud55c \\ub109\\ub109\\ud558\\ub2e4 \\uace0\\uc9c0\\ud608\\uc99d \\uad6c\\uc785 \\ubcf5\\uc6a9\", \"\\ubc30\\uc1a1 \\ube68\\ub974\\ub2e4 \\uc131\\ub2a5 \\uc131\\ub2a5 \\ub6f0\\uc5b4\\ub098\\ub2e4 \\uc720\\ud1b5 \\uae30\\ud55c \\uae30\\ud55c \\ub109\\ub109\\ud558\\ub2e4 60 \\ub300\\uc785 \\ud56d\\uc0c1 \\uc800\\ub9ac \\uc950\\ub2e4 \\uac83\\ud608\\ud589 \\uc88b\\ub2e4 \\uc774\\ub780 \\ud574\\ub3c4 \\ucc28\\ub3c4 \\uc9c0\\uc778 \\uc18c\\uac1c \\uc368\\ub2e4 \\uc2dc\\uc548 \\uad6c\\ub9e4 \\uc800\\ub9ac \\uc950\\ub2e4 \\ub9ac\\uac00 \\uc88b\\ub2e4 \\uc800\\uc11c 2\\ub144 \\ud608\\uc555 \\uc88b\\uc544\\uc9c0\\ub2e4 \\ub808\\uc2a4\\ud130 \\uce58\\uc218 \\uc88b\\ub2e4 \\uc800\\uc2b5 \\uc9c8\\ud658 \\uad8c\\ud558\\ub2e4 \\uad8c\\ud587 \\ub354\\ub2c8 \\uc88b\\ub2e4 \\uc0ac\\uc8fc\\ub2e4 \\ud655\\uc2e4\\ud558\\ub2e4 \\uc77c\\ubc18\\uc778 \\uacbd\\ud5d8 \\ud6c4\\uae30 \\uac00\\uaca9 \\ub9cc\\ucc2c \\uac8c\\uc880 \\ud5c8\\ub2e4 \\ub2eb\\ub2e4 \\uc0c1\\uc138\", \"\\uc720\\ud1b5 \\uae30\\ud55c \\uae30\\ud55c \\ub109\\ub109\\ud558\\ub2e4 \\ud3ec\\uc7a5 \\uc0c1\\ud0dc \\ud3ec\\uc7a5 \\uae54\\ub054\\ud558\\ub2e4 \\uc0c1\\ud488 \\ub4e4\\uc774\\ub2e4 \\uc2dc\\ub098 \\uad6c\\ub9e4 \\uc0c1\\uc138\", \"\\ubc30\\uc1a1 \\ube68\\ub974\\ub2e4 \\uc131\\ub2a5 \\uc131\\ub2a5 \\ub6f0\\uc5b4\\ub098\\ub2e4 \\uc720\\ud1b5 \\uae30\\ud55c \\uae30\\ud55c \\ub109\\ub109\\ud558\\ub2e4 \\ucf5c\\ub808\\uc2a4\\ud14c\\ub864 \\uce58\\uac00 \\ub192\\ub2e4 \\ub3c4\\uc6c0 \\ud6c4\\uae30 \\uad6c\\ub9e4 \\ud6c4\\uae30 \\ub2e4\\uc2dc \\uc62c\\ub9ac\\ub2e4\", \"\\ubc30\\uc1a1 \\ube68\\ub974\\ub2e4 \\uc131\\ub2a5 \\uc131\\ub2a5 \\ubcc4\\ub85c \\uc720\\ud1b5 \\uae30\\ud55c \\uc720\\ud29c\\ube0c \\ucc3e\\uc544\\ubcf4\\ub2e4 \\ub9e4\\ub2e4 \\ucf5c\\ub808\\uc2a4\\ud14c\\ub864 \\ub5a8\\uc5b4\\uc9c0\\ub2e4 \\uc88b\\ub2e4 \\uaca0\\ub2e4 \\uc0c1\\uc138\", \"\\ubc30\\uc1a1 \\ube68\\ub974\\ub2e4 \\uc131\\ub2a5 \\uc131\\ub2a5 \\ub6f0\\uc5b4\\ub098\\ub2e4 \\uc720\\ud1b5 \\uae30\\ud55c \\uae30\\ud55c \\ub109\\ub109\\ud558\\ub2e4\", \"\\ubc30\\uc1a1 \\uc131\\ub2a5 \\uc131\\ub2a5 \\ub6f0\\uc5b4\\ub098\\ub2e4 \\uc720\\ud1b5 \\uae30\\ud55c \\uae30\\ud55c \\ub109\\ub109\\ud558\\ub2e4 \\ud608\\uad00 \\uac74\\uac15 \\uc88b\\ub2e4 \\uad6c\\uc785 \\uc88b\\ub2e4 \\uacb0\\uacfc \\uc0c1\\uc138 \\uc0c1\\uc138\", \"\\ubc30\\uc1a1 \\ube68\\ub974\\ub2e4 \\uc131\\ub2a5 \\uc131\\ub2a5 \\ub6f0\\uc5b4\\ub098\\ub2e4 \\uc720\\ud1b5 \\uae30\\ud55c \\uae30\\ud55c \\ub109\\ub109\\ud558\\ub2e4 \\ubcf5\\uc6a9 \\uc9c0\\ub098\\ub2e4 \\uc88b\\uc544\\uc9c0\\ub2e4 \\uae30\\ubd84 \\uafb8\\uc900\\ud558\\ub2e4 \\ubcf5\\uc6a9\", \"\\uc720\\ud1b5 \\uae30\\ud55c \\uae30\\ud55c \\ub109\\ub109\\ud558\\ub2e4 \\ud3ec\\uc7a5 \\uc0c1\\ud0dc \\ud3ec\\uc7a5 \\uae54\\ub054\\ud558\\ub2e4 \\uc88b\\ub2e4 \\uc368\\ub2e4 \\uc2dc\\uc548 \\uc2dc\\ub974\\ub2e4 \\uc778\\ud130\\ub137 \\uac80\\uc0c9 \\uc88b\\ub2e4 \\uad6c\\ub9e4\", \"\\uc720\\ud1b5 \\uae30\\ud55c \\ud3ec\\uc7a5 \\uc0c1\\ud0dc \\ud3ec\\uc7a5 \\uae54\\ub054\\ud558\\ub2e4 \\uc88b\\ub2e4 \\ub808\\uc2a4 \\ud2b8\\ub864 \\uc218\\uce58 \\ub192\\ub2e4 \\uc8fc\\ubb38 \\uc88b\\ub2e4 \\uc0c1\\ud488 \\uc88b\\ub2e4 \\ubbff\\ub2e4\", \"\\ubc30\\uc1a1 \\uc131\\ub2a5 \\uc720\\ud1b5 \\uae30\\ud55c \\uae30\\ud55c \\ub109\\ub109\\ud558\\ub2e4\", \"\\uc131\\ub2a5 \\uc131\\ub2a5 \\ub6f0\\uc5b4\\ub098\\ub2e4\", \"\\uc720\\ud1b5 \\uae30\\ud55c \\uae30\\ud55c \\ub109\\ub109\\ud558\\ub2e4 \\ud3ec\\uc7a5 \\uc0c1\\ud0dc \\ud3ec\\uc7a5 \\uae54\\ub054\\ud558\\ub2e4 \\uc88b\\ub2e4 \\uc624\\uba54\\uac00 \\ub3c4\\uc6c0 \\uc368\\ube44\\uc2a4 \\uc81c\\ud488 \\ubcf4\\ub0b4\\ub2e4\", \"\\uac00\\uaca9 \\uad1c\\ucc2e\\ub2e4 \\ubc30\\uc1a1 \\ube68\\ub974\\ub2e4 \\uad6c\\ub9e4 \\ud568\\ub7c9 \\uc0c1\\ud488 \\ud3c9\\uc774 \\uc88b\\ub2e4 \\uad6c\\ub9e4 \\ubc30\\uc1a1 \\ube60\\ub974\\ub2e4 \\ud3ec\\uc7a5 \\uaf3c\\uaf3c\\ud558\\ub2e4 \\ud574\\uc8fc\\ub2e4 \\ub118\\ub2e4 \\ub9cc\\uc871\\ud558\\ub2e4 \\uc720\\ud1b5 \\uae30\\ud55c 2019\\ub144 9\\uc6d4 20\\uc77c \\ub109\\ub109\\ud558\\ub2e4 \\ubcf4\\ub0b4\\ub2e4 \\ub118\\ub2e4 \\uc88b\\ub2e4 \\uafb8\\uc900\\ud558\\ub2e4 \\uac10\\uc0ac\\ud558\\ub2e4 \\uc0c1\\uc138\", \"\\ubc30\\uc1a1 \\uc131\\ub2a5 \\uc720\\ud1b5 \\uae30\\ud55c \\uac74\\uac15 \\ubcf4\\uc870 \\uc2dd\\ud488 \\uc0c1\\uc138\", \"\\ubc30\\uc1a1 \\uc720\\ud1b5 \\uae30\\ud55c \\uae30\\ud55c \\ub109\\ub109\\ud558\\ub2e4 \\ubc30\\uc1a1 \\ud3ec\\uc7a5 \\ub098\\uc058\\ub2e4 \\uc720\\ud1b5 \\uae30\\ud55c \\ub109\\ub109\\ud558\\ub2e4 \\ubc15\\uc2a4 \\ucea1\\uc290 \\uae30\\uc7ac \\ub3fc\\ub2e4 \\uc88b\\ub2e4 \\ucea1\\uc290 \\ud3ec\\uc7a5 \\ud568\\ub7c9 \\ub300\\ube44 \\uac00\\uc131 \\uc88b\\ub2e4 \\uc0c1\\uc138\", \"\\ubc30\\uc1a1 \\ube68\\ub974\\ub2e4 \\uc131\\ub2a5 \\uc131\\ub2a5 \\ub6f0\\uc5b4\\ub098\\ub2e4 \\uc720\\ud1b5 \\uae30\\ud55c \\uae30\\ud55c \\ub109\\ub109\\ud558\\ub2e4 \\uc0c1\\ud488 \\ubc30\\uc1a1 \\ub9cc\\uc871\\ud558\\ub2e4\", \"\\ubc30\\uc1a1 \\ube68\\ub974\\ub2e4 \\ub9db\\uc788\\ub2e4 \\uc720\\ud1b5 \\uae30\\ud55c \\uc88b\\ub2e4\", \"\\ubc30\\uc1a1 \\uc131\\ub2a5 \\uc131\\ub2a5 \\ub6f0\\uc5b4\\ub098\\ub2e4 \\uc720\\ud1b5 \\uae30\\ud55c \\uae30\\ud55c \\ub109\\ub109\\ud558\\ub2e4 \\ub450\\ubc88\\uc9f8 \\uad6c\\ub9e4\", \"\\ubc30\\uc1a1 \\uc131\\ub2a5 \\uc720\\ud1b5 \\uae30\\ud55c \\ubaa8\\ub974\\ub2e4 \\uba38\\ucf54 \\ub098\\uc11c\\ub2e4 \\ud6c4\\uae30 \\uc62c\\ub9ac\\ub2e4\", \"\\uac00\\uaca9 \\uad1c\\ucc2e\\ub2e4 \\ubc30\\uc1a1 \\ub290\\ub9ac\\ub2e4 \\uc548\\uad6c \\uac74\\uc870 \\uc2ec\\ub2e4 \\ubc29\\uc1a1 \\ub8e8\\ud14c\\uc778 \\ub2ec\\ub9de\\uc774 \\ubcf5\\uc6a9 \\uc88b\\ub2e4\", \"\\ubc30\\uc1a1 \\ube68\\ub974\\ub2e4 \\uc131\\ub2a5 \\uc131\\ub2a5 \\ub6f0\\uc5b4\\ub098\\ub2e4 \\uc720\\ud1b5 \\uae30\\ud55c \\uae30\\ud55c \\ub109\\ub109\\ud558\\ub2e4 \\ub2e4\\uc2dc \\uc8fc\\ubb38\", \"\\uc720\\ud1b5 \\uae30\\ud55c \\uae30\\ud55c \\ub109\\ub109\\ud558\\ub2e4 \\ud3ec\\uc7a5 \\uc0c1\\ud0dc \\ud3ec\\uc7a5 \\uae54\\ub054\\ud558\\ub2e4 \\uc88b\\ub2e4 \\ub450\\ubc88\\uc9f8 \\uad6c\\uc785 \\uc6d4\\uacbd \\uc99d\\ud6c4\\uad70 \\uad6c\\uc785 100 \\ubaa8\\ub974\\ub2e4 \\uc601\\ud5a5 \\ub2e4\\uc2dc \\uc8fc\\ubb38 \\uc54c\\uc57d \\ud06c\\uae30 \\ud06c\\ub2e4 \\ud3b8\\uc785 \\uc0c1\\uc138 \\uc0c1\\uc138 \\uc0c1\\uc138 \\ud310\\ub9e4 \\ub2f5\\uae00 \\ud310\\ub9e4 2023.07 17 \\uc548\\ub155\\ud558\\ub2e4 \\uace0\\uac1d \\ube0c\\ub9ac \\uc81c\\ud488 \\uad6c\\ub9e4 \\ud574\\uc8fc\\ub2e4 \\ub300\\ub2e8\\ud558\\ub2e4 \\uac10\\uc0ac\\ud558\\ub2e4 \\ube0c\\ub9ac \\uc81c\\ud488 \\uace0\\uac1d \\uac74\\uac15 \\ub9ce\\ub2e4 \\ub3c4\\uc6c0 \\uc88b\\ub2e4 \\ubb38\\uc758\\uc0ac\\ud56d \\uc5f0\\ub77d \\uc904\\ub2e4 \\uac10\\uc0ac\\ud558\\ub2e4 \\ube0c\\ub9ac \\uc62c\\ub9ac\\ub2e4\", \"\\ud574\\ubcf4\\ub2e4 \\uc591\\uc81c \\uae30\\ub300\", \"\\uac00\\uaca9 \\uc2f8\\ub2e4 \\uc0ac\\ub2e4 \\ubc30\\uc1a1 \\ube68\\ub974\\ub2e4 \\ud608\\uc561 \\uc21c\\ud658 \\uc548\\ub418\\ub2e4 \\uc8fc\\ubb38 \\uc88b\\ub2e4\", \"\\uac00\\uaca9 \\uc2f8\\ub2e4 \\uc0ac\\ub2e4 \\ubc30\\uc1a1 \\ube68\\ub974\\ub2e4 \\ub9cc\\uc871\\ud558\\ub2e4 \\uacc4\\uc2dc\\ub2e4 \\ud6a8\\ub2a5 \\uc88b\\ub2e4\", \"\\ubc30\\uc1a1 \\ube68\\ub974\\ub2e4 \\uc131\\ub2a5 \\uc131\\ub2a5 \\ub6f0\\uc5b4\\ub098\\ub2e4 \\uc720\\ud1b5 \\uae30\\ud55c \\uae30\\ud55c \\ub109\\ub109\\ud558\\ub2e4 \\uc9c0\\uc778 \\uc18c\\uac1c \\uc8fc\\ubb38 \\ub531\\ud558\\ub2e4 \\ubd88\\ud3b8\\ud558\\ub2e4 \\ubaa8\\ub974\\ub2e4\", \"\\ubc30\\uc1a1 \\ube68\\ub974\\ub2e4 \\ud30c\\ub2e4\", \"\\ubc30\\uc1a1 \\ube68\\ub974\\ub2e4 \\uc131\\ub2a5 \\uc720\\ud1b5 \\uae30\\ud55c \\uce90\\ub098\\ub2e4 \\ud604\\uc9c0 \\ud3ec\\uc7a5 \\ub2ec\\ub77c \\ubbff\\ub2e4 \\uc758\\ubb38 \\uc0dd\\uae30\\ub2e4\", \"\\ubc30\\uc1a1 \\ube68\\ub974\\ub2e4 \\uc131\\ub2a5 \\uc131\\ub2a5 \\ub6f0\\uc5b4\\ub098\\ub2e4 \\uc720\\ud1b5 \\uae30\\ud55c \\uae30\\ud55c \\ub109\\ub109\\ud558\\ub2e4 \\uad6c\\ub9e4 \\uac00\\uaca9 \\uc384\\ub2e4 \\ud3b8\\uc774 \\ubd84\\ub7c9 \\uce90\\ub098\\ub2e4 \\uc0b0\\uc774 \\uad6c\\ub9e4 \\uc591\\uc81c \\uce90\\ub098\\ub2e4 \\uc0b0\\uc774 \\uc88b\\ub2e4 \\uc704\\ud574 \\uafb8\\uc900\\ud558\\ub2e4 \\uc0c1\\uc138 \\uc0c1\\uc138\", \"\\ubc30\\uc1a1 \\uc720\\ud1b5 \\uae30\\ud55c \\ud608\\uc555 \\ucf5c\\ub808\\uc2a4\\ud14c\\ub864 \\uac1c\\uc120 \\ub3c4\\uc6c0 \\uad6c\\ub9e4 \\ubaa8\\ub974\\ub2e4 \\uc88b\\ub2e4 \\uc88b\\ub2e4 \\uc7ac\\ub2e4 \\uc758\\ud5a5\", \"\\ubc30\\uc1a1 \\ube68\\ub974\\ub2e4 \\uc131\\ub2a5 \\uc131\\ub2a5 \\ub6f0\\uc5b4\\ub098\\ub2e4 \\uc720\\ud1b5 \\uae30\\ud55c \\uae30\\ud55c \\ub109\\ub109\\ud558\\ub2e4 \\ud56d\\uc0c1 \\ubbff\\ub2e4 \\uad6c\\ub9e4\", \"\\uc720\\ud1b5 \\uae30\\ud55c \\uae30\\ud55c \\ub109\\ub109\\ud558\\ub2e4 \\ud3ec\\uc7a5 \\uc0c1\\ud0dc \\ud3ec\\uc7a5 \\uae54\\ub054\\ud558\\ub2e4 \\uc608\\uc815\", \"\\uac00\\uaca9 \\uad1c\\ucc2e\\ub2e4 \\ubc30\\uc1a1 \\ube68\\ub974\\ub2e4 \\uc0ac\\ub2e4 \\uc798\\uc4f0\\ub2e4 \\uc0ac\\ub2e4 \\uc798\\uc4f0\\ub2e4 \\uc0ac\\ub2e4 \\uc798\\uc4f0\\ub2e4 \\uc0ac\\ub2e4 \\uc798\\uc4f0\\ub2e4 \\uc0ac\\ub2e4 \\uc798\\uc4f0\\ub2e4 \\uc0ac\\ub2e4 \\uc798\\uc4f0\\ub2e4 \\uc0ac\\ub2e4 \\uc798\\uc4f0\\ub2e4 \\uc0ac\\ub2e4 \\uc798\\uc4f0\\ub2e4 \\uc0ac\\ub2e4 \\uc798\\uc4f0\\ub2e4 \\uc0ac\\ub2e4 \\uc798\\uc4f0\\ub2e4 \\uc0ac\\ub2e4 \\uc798\\uc4f0\\ub2e4\", \"\\ubc30\\uc1a1 \\ube68\\ub974\\ub2e4 \\uc131\\ub2a5 \\uc131\\ub2a5 \\ub6f0\\uc5b4\\ub098\\ub2e4 \\uc720\\ud1b5 \\uae30\\ud55c \\uae30\\ud55c \\ub109\\ub109\\ud558\\ub2e4 \\ubaa8\\ub974\\ub2e4 \\uc0c1\\uc138\", \"\\ubc30\\uc1a1 \\ube68\\ub974\\ub2e4 \\uc131\\ub2a5 \\uc720\\ud1b5 \\uae30\\ud55c \\uae30\\ud55c \\ub109\\ub109\\ud558\\ub2e4\", \"\\uac00\\uaca9 \\uc2f8\\ub2e4 \\uc0ac\\ub2e4 \\ubc30\\uc1a1 \\ube68\\ub974\\ub2e4\", \"\\uc720\\ud1b5 \\uae30\\ud55c \\ud3ec\\uc7a5 \\uc0c1\\ud0dc\", \"\\uc720\\ud1b5 \\uae30\\ud55c \\uae30\\ud55c \\ub109\\ub109\\ud558\\ub2e4 \\ud3ec\\uc7a5 \\uc0c1\\ud0dc \\ud3ec\\uc7a5 \\uae54\\ub054\\ud558\\ub2e4 \\uc88b\\ub2e4\", \"\\ubc30\\uc1a1 \\ube68\\ub974\\ub2e4 \\uc131\\ub2a5 \\uc720\\ud1b5 \\uae30\\ud55c\", \"\\uc720\\ud1b5 \\uae30\\ud55c \\uae30\\ud55c \\ub109\\ub109\\ud558\\ub2e4 \\ud3ec\\uc7a5 \\uc0c1\\ud0dc \\ud3ec\\uc7a5 \\uae54\\ub054\\ud558\\ub2e4\", \"\\uc720\\ud1b5 \\uae30\\ud55c \\uae30\\ud55c \\ub109\\ub109\\ud558\\ub2e4 \\ud3ec\\uc7a5 \\uc0c1\\ud0dc \\ud3ec\\uc7a5 \\uae54\\ub054\\ud558\\ub2e4 \\uc88b\\ub2e4\", \"\\uc131\\ub2a5 \\uc720\\ud1b5 \\uae30\\ud55c\", \"\\uc720\\ud1b5 \\uae30\\ud55c \\uae30\\ud55c \\ub109\\ub109\\ud558\\ub2e4 \\ud3ec\\uc7a5 \\uc0c1\\ud0dc \\ud3ec\\uc7a5 \\uae54\\ub054\\ud558\\ub2e4 \\uc88b\\ub2e4 \\uae30\\uac04 \\ub109\\ub109\\ud558\\ub2e4 \\ud3ec\\uc7a5 \\uc54c\\ub2e4\", \"\\uc2e0\\uae30\\ud558\\ub2e4 \\ud608\\uc555 \\ub192\\ub2e4 \\ub4dc\\ub9ac\\ub2e4 \\ubcf5\\uc6a9 \\uc548\\ub418\\ub2e4 \\ud608\\uc555 148 \\ubcd1\\uc6d0 \\uc11c\\uc7ac 127 78 \\uc815\\uc0c1 \\uc218\\uce58 \\uc88b\\uc544\\ud558\\ub2e4 \\uc7a5\\uae30 \\ubcf5\\uc6a9\", \"\\uc720\\ud1b5 \\uae30\\ud55c \\uae30\\ud55c \\ub109\\ub109\\ud558\\ub2e4 \\ud3ec\\uc7a5 \\uc0c1\\ud0dc \\ud3ec\\uc7a5 \\uae54\\ub054\\ud558\\ub2e4 \\uc88b\\ub2e4 1\\ub144 \\uad6c\\ub9e4 \\ubcf5\\uc6a9 \\uc815\\ud655\\ud558\\ub2e4 \\uac80\\uc0ac \\ud574\\ubcf4\\ub2e4 \\uc218\\uce58 \\ubaa8\\ub974\\ub2e4 \\ubb34\\uac70 \\uc950\\ub2e4 \\ud655\\uc2e4\\ud558\\ub2e4 \\uc88b\\uc544\\uc9c0\\ub2e4 \\uc88b\\ub2e4 \\uc601\\ud5a5 \\ubbff\\ub2e4 \\uc2f6\\ub2e4 \\uad6c\\ub9e4 \\uc81c\\ud488 \\ubd84\\ub9ac \\ud798\\ub4e4\\ub2e4 \\ub2e4\\uc2dc \\ubd84\\ub9ac \\uc27d\\ub2e4 \\uc0c1\\uc138 \\uc0c1\\uc138 \\uc0c1\\uc138\", \"\\ubc30\\uc1a1 \\ube68\\ub974\\ub2e4 \\uc131\\ub2a5 \\uc131\\ub2a5 \\ub6f0\\uc5b4\\ub098\\ub2e4 \\uc720\\ud1b5 \\uae30\\ud55c \\uae30\\ud55c \\ub109\\ub109\\ud558\\ub2e4 \\ubd80\\ubaa8\\ub2d8 \\uc190\\ubc1c \\uc800\\ub9ac\\ub2e4 \\uad6c\\ub9e4 \\ube44\\uc2f8\\ub2e4 \\uc0b4\\ub2e4 \\uc2f8\\ub2e4 \\uc0ac\\ub2e4 \\uc0ac\\ub974\\ub2e4\", \"\\ubc30\\uc1a1 \\uc131\\ub2a5 \\uc720\\ud1b5 \\uae30\\ud55c \\ubcf4\\uc9c0 \\uc0c1\\ud488 \\ud3c9\\uc774 \\uc88b\\ub2e4 \\uad6c\\uc785 \\ubcf4\\uad6c \\uc560\\uae30 \\ud574\\ub4dc\\ub9ac\\ub2e4 \\ub2eb\\ub2e4 \\uc0c1\\uc138\", \"\\uc720\\ud1b5 \\uae30\\ud55c \\uae30\\ud55c \\ub109\\ub109\\ud558\\ub2e4 \\ud3ec\\uc7a5 \\uc0c1\\ud0dc \\ud3ec\\uc7a5 \\uae54\\ub054\\ud558\\ub2e4 \\uc88b\\ub2e4 \\uc88b\\ub2e4 \\uac00\\uaca9 \\ubd80\\ub2f4 \\uc0c1\\uc138\", \"\\ubc30\\uc1a1 \\ube68\\ub974\\ub2e4 \\uc131\\ub2a5 \\uc131\\ub2a5 \\ub6f0\\uc5b4\\ub098\\ub2e4 \\uc720\\ud1b5 \\uae30\\ud55c \\uae30\\ud55c \\ub109\\ub109\\ud558\\ub2e4 \\uac1c\\ubcf4 \\uc2f8\\ub2e4 \\ubb34\\uc870\\uac74 \\uc0ac\\ub2e4 \\uac00\\uaca9 \\ud658\\uac00 79000\\uc6d0 \\uac00\\uaca9 158,000\\uc6d0 139,000\\uc6d0 \\uad6c\\uc131 \\ud560\\uc778 \\uae5c\\uc9dd \\ub180\\ub798\\ub2e4 \\ubb34\\uc870\\uac74 \\uc635\\uc158 \\uad6c\\ub9e4 20 \\ub300\\ub2e4 \\ud6c4\\ubc18 \\uc9c1\\uc7a5 \\uc778\\uad6c \\ub4dc\\ub9ac\\ub2e4 \\uad6c\\ub9e4 \\uc774\\uc608 50 \\ub300\\ub2e4 \\ud6c4\\ubc18 \\uac00\\uc815 \\uc8fc\\ubd80 \\ubc31\\ub0b4\\uc7a5 \\uc218\\uc220 \\uc608\\uc57d \\ud608\\uc555 \\ub192\\ub2e4 \\uc218\\uc220 \\uc548\\ub418\\ub2e4 \\ubcd1\\uc6d0 \\uace0\\ud608\\uc555 \\ud608\\uc555 \\uc870\\uc808 \\uc218\\uc220 \\uace0\\ud608\\uc555 \\uc57c\\ud558\\ub2e4 \\ubd80\\uc791\\uc6a9 \\uc548\\ub418\\ub2e4 \\uace0\\ud608\\uc555 \\uc591\\uc81c \\uac80\\uc0c9 \\ud574\\ubcf4\\ub2e4 \\uc368\\ub2e4 \\uc548\\uc774 \\ud6c4\\uae30 \\uace0\\ud608\\uc555 \\ud658\\uc790 \\uac70\\ub098 \\uace0\\ud608\\uc555 \\uacbd\\uacc4 \\ub2e8\\uacc4 \\uad00\\ub9ac \\uc774\\uc57c\\uae30 \\ub9ce\\ub2e4 \\uad6c\\ub9e4 \\uc368\\ub2e4 \\uc2dc\\uc548 \\uc2dd\\uc0ac \\ud655\\uc2e4\\ud558\\ub2e4 \\uace0\\ud608\\uc555 \\ud608\\uc555 \\uace0\\ud608\\uc555 1\\uc6d4 165/110 \\uace0\\ud608\\uc555 \\ubcf5\\uc6a9 3\\uc6d4 145/103 \\uc368\\ub2e4 \\uc2dc\\uc548 \\ubcf5\\uc6a9 5\\uc6d4 135/92 \\uace0\\ud608\\uc555 \\uc57d\\uacfc \\ubcf5\\uc6a9 \\ub5a8\\uc5b4\\uc9c0\\ub2e4 \\ud608\\uc555 \\uace0\\ud608\\uc555 \\ub04a\\ub2e4 \\uae30\\ub300 \\ud574\\ubcf4\\ub2e4 \\uc88b\\ub2e4 \\ud608\\uc555 \\uac00\\uc871 \\uac71\\uc815 \\uad00\\ub9ac \\uc88b\\uc544\\uc9c0\\ub2e4 \\ud76c\\ub9dd\\uc774 \\ubcf4\\uc774\\ub2e4 \\uac10\\uc0ac\\ud558\\ub2e4 \\uc0c1\\uc138 \\uc0c1\\uc138 \\uc0c1\\uc138 \\uc0c1\\uc138\", \"\\uac00\\uaca9 \\uad1c\\ucc2e\\ub2e4 \\ubc30\\uc1a1 \\ube68\\ub974\\ub2e4\", \"\\uc720\\ud1b5 \\uae30\\ud55c \\ud3ec\\uc7a5 \\uc0c1\\ud0dc\", \"\\uac00\\uaca9 \\uad1c\\ucc2e\\ub2e4 \\ubc30\\uc1a1\", \"\\ubc30\\uc1a1 \\ube68\\ub974\\ub2e4 \\uc131\\ub2a5 \\uc131\\ub2a5 \\ub6f0\\uc5b4\\ub098\\ub2e4 \\uc720\\ud1b5 \\uae30\\ud55c \\uae30\\ud55c \\ub109\\ub109\\ud558\\ub2e4 \\ubc30\\uc1a1 \\ube60\\ub974\\ub2e4 \\uc88b\\ub2e4\", \"\\uac10\\uc0ac\\ud558\\ub2e4 \\uc0c1\\uc138\", \"\\ubc30\\uc1a1 \\ube68\\ub974\\ub2e4 \\uc131\\ub2a5 \\uc131\\ub2a5 \\ub6f0\\uc5b4\\ub098\\ub2e4 \\uc720\\ud1b5 \\uae30\\ud55c \\uae30\\ud55c \\ub109\\ub109\\ud558\\ub2e4 \\uc790\\uc8fc \\uc8fc\\ubb38 \\uc0c1\\uc138\", \"\\ubc30\\uc1a1 \\ube68\\ub974\\ub2e4 \\uc131\\ub2a5 \\uc131\\ub2a5 \\ub6f0\\uc5b4\\ub098\\ub2e4 \\uc720\\ud1b5 \\uae30\\ud55c \\uae30\\ud55c \\ub109\\ub109\\ud558\\ub2e4 1\\ub144 \\ub118\\ub2e4 \\uace0\\ud608\\uc555 \\uba39\\uae30 \\ub450\\ud1b5 \\uc790\\uc8fc \\uc0ac\\ub77c\\uc9c0\\ub2e4 \\uafb8\\uc900\\ud558\\ub2e4 \\uad6c\\ub9e4\", \"\\uac00\\uaca9 \\uad1c\\ucc2e\\ub2e4 \\ubc30\\uc1a1 \\ube68\\ub974\\ub2e4 \\uafb8\\uc900\\ud558\\ub2e4\", \"\\ubc30\\uc1a1 \\ube68\\ub974\\ub2e4 \\uc131\\ub2a5 \\uc131\\ub2a5 \\ub6f0\\uc5b4\\ub098\\ub2e4 \\uc720\\ud1b5 \\uae30\\ud55c \\uae30\\ud55c \\ub109\\ub109\\ud558\\ub2e4 \\uc190\\ubc1c \\uc800\\ub9bc \\ub290\\uaef4\\uc9c0\\ub2e4 \\uc8fc\\ubb38 \\uce90\\ub098\\ub2e4 \\ud0c1\\uc6d4\\ud558\\ub2e4 \\uc790\\uc5f0\\ud658\\uacbd \\uc5c4\\uc120 \\uc2dd\\ubb3c \\ucd94\\ucd9c \\ubb3c\\uc774 \\ubbff\\ub2e4 \\uc12d\\ucde8 \\uc0c1\\uc138\", \"\\ubc30\\uc1a1 \\ube68\\ub974\\ub2e4 \\uc131\\ub2a5 \\uc131\\ub2a5 \\ub6f0\\uc5b4\\ub098\\ub2e4 \\uc720\\ud1b5 \\uae30\\ud55c \\uae30\\ud55c \\ub109\\ub109\\ud558\\ub2e4 \\ubc30\\uc1a1 \\ube68\\ub974\\ub2e4 \\ud3ec\\uc7a5 \\ub118\\ub2e4 \\uae54\\ub054\\ud558\\ub2e4 \\ub118\\uae40 \\uad1c\\ucc2e\\ub2e4 \\uc88b\\ub2e4 \\uafb8\\uc900\\ud558\\ub2e4 \\uc0c1\\uc138\", \"\\ubc30\\uc1a1 \\ube68\\ub974\\ub2e4 \\ub9db\\uc788\\ub2e4 \\uc720\\ud1b5 \\uae30\\ud55c \\uae30\\ud55c \\ub109\\ub109\\ud558\\ub2e4 \\uac10\\uc0ac\\ud558\\ub2e4 \\uc88b\\ub2e4 \\ud589\\ubcf5\\ud558\\ub2e4 \\ubcf4\\ub0b4\\ub2e4\", \"\\ubc30\\uc1a1 \\uc131\\ub2a5 \\uc131\\ub2a5 \\ub6f0\\uc5b4\\ub098\\ub2e4 \\uc720\\ud1b5 \\uae30\\ud55c \\uc7ac\\ub2e4\", \"\\uac00\\uaca9 \\uad1c\\ucc2e\\ub2e4 \\ubc30\\uc1a1 \\ube68\\ub974\\ub2e4 \\ubaa8\\ub974\\ub2e4 \\ub118\\ub2e4 \\uc368\\ub2e4\", \"\\ubc30\\uc1a1 \\ube68\\ub974\\ub2e4 \\uc131\\ub2a5 \\uc131\\ub2a5 \\ub6f0\\uc5b4\\ub098\\ub2e4 \\uc720\\ud1b5 \\uae30\\ud55c \\uae30\\ud55c \\ub109\\ub109\\ud558\\ub2e4 \\uac31\\ub144\\uae30 \\uc9c8\\ud658 \\uac1c\\uc120\", \"\\uac00\\uaca9 \\uc2f8\\ub2e4 \\uc0ac\\ub2e4 \\ubc30\\uc1a1 \\ube68\\ub974\\ub2e4 \\uafb8\\uc900\\ud558\\ub2e4 \\ubcf5\\uc6a9 \\ud574\\ubcf4\\ub2e4\", \"\\uac00\\uaca9 \\uad1c\\ucc2e\\ub2e4 \\ubc30\\uc1a1 \\ubc30\\uc1a1 \\ube60\\ub974\\ub2e4\", \"\\uac00\\uaca9 \\uc2f8\\ub2e4 \\uc0ac\\ub2e4 \\ubc30\\uc1a1 \\ube68\\ub974\\ub2e4 \\uba39\\uc5c7\\uc2b5\\ub2c8 \\uc787\\ub2e4 \\ubbff\\ub2e4 \\ubcfc\\ub835 \\ud3ec\\uc7a5 \\ub4e0\\ub4e0\\ud558\\ub2e4 \\ubcf4\\ub0b4\\ub2e4\", \"\\ubc30\\uc1a1 \\ube68\\ub974\\ub2e4 \\uc131\\ub2a5 \\uc131\\ub2a5 \\ub6f0\\uc5b4\\ub098\\ub2e4 \\uc720\\ud1b5 \\uae30\\ud55c \\uae30\\ud55c \\ub109\\ub109\\ud558\\ub2e4 \\ud568\\uc720\\ub7c9 \\uc6a9\\ub7c9 \\ube44\\uad50 \\uc88b\\ub2e4 \\uad6c\\ub9e4 \\uc0c1\\uc138\", \"\\ubc30\\uc1a1 \\ube68\\ub974\\ub2e4 \\uc131\\ub2a5 \\uc131\\ub2a5 \\ub6f0\\uc5b4\\ub098\\ub2e4 \\uc720\\ud1b5 \\uae30\\ud55c \\uae30\\ud55c \\ub109\\ub109\\ud558\\ub2e4 \\ube0c\\ub9ac \\uac10\\ub9c8 \\uc88b\\ub2e4 11 \\ubc88\\uac00 \\uc800\\ub834\\ud558\\ub2e4 \\uc0ac\\ub2e4 \\ubc30\\uc1a1 \\ube60\\ub974\\ub2e4\", \"\\ubc30\\uc1a1 \\ube68\\ub974\\ub2e4 \\uc720\\ud1b5 \\uae30\\ud55c \\uae30\\ud55c \\ub109\\ub109\\ud558\\ub2e4 \\uc88b\\ub2e4 \\uc0c1\\ube44 \\ub193\\ub2e4 \\uc591\\uc81c \\uc720\\ud1b5 \\uae30\\ud55c \\uae30\\ub2e4 \\uc88b\\ub2e4 \\uac10\\uc0ac\\ud558\\ub2e4 \\uc0c1\\uc138 \\uc0c1\\uc138\", \"\\uc88b\\ub2e4 \\uc81c\\ud488 \\uc800\\ub834\\ud558\\ub2e4 \\uad6c\\ub9e4 \\uc88b\\ub2e4 \\ubc30\\uc1a1 \\uad1c\\ucc2e\\ub2e4 \\uad6c\\ub9e4 \\ud30c\\ub2e4 \\uc81c\\ud488 \\uc88b\\ub2e4\", \"\\ubc30\\uc1a1 \\ube68\\ub974\\ub2e4 \\ub9db\\uc788\\ub2e4 \\uc720\\ud1b5 \\uae30\\ud55c \\uae30\\ud55c \\ub109\\ub109\\ud558\\ub2e4 \\uc88b\\ub2e4\", \"\\uac00\\uaca9 \\uc2f8\\ub2e4 \\uc0ac\\ub2e4 \\ubc30\\uc1a1 \\ube68\\ub974\\ub2e4\", \"\\ubc30\\uc1a1 \\ube68\\ub974\\ub2e4 \\uc131\\ub2a5 \\uc131\\ub2a5 \\ub6f0\\uc5b4\\ub098\\ub2e4 \\uc720\\ud1b5 \\uae30\\ud55c \\uae30\\ud55c \\ub109\\ub109\\ud558\\ub2e4 \\uc88b\\ub2e4\", \"\\uc720\\ud1b5 \\uae30\\ud55c \\uae30\\ud55c \\ub109\\ub109\\ud558\\ub2e4 \\ud3ec\\uc7a5 \\uc0c1\\ud0dc \\ud3ec\\uc7a5 \\uae54\\ub054\\ud558\\ub2e4\", \"\\ubc30\\uc1a1 \\ube68\\ub974\\ub2e4 \\uc131\\ub2a5 \\uc131\\ub2a5 \\ub6f0\\uc5b4\\ub098\\ub2e4 \\uc720\\ud1b5 \\uae30\\ud55c \\uae30\\ud55c \\ub109\\ub109\\ud558\\ub2e4\", \"\\ubc30\\uc1a1 \\uc131\\ub2a5 \\uc131\\ub2a5 \\ub6f0\\uc5b4\\ub098\\ub2e4 \\uc720\\ud1b5 \\uae30\\ud55c\", \"\\ubc30\\uc1a1 \\uc131\\ub2a5 \\uc720\\ud1b5 \\uae30\\ud55c\", \"\\ubc30\\uc1a1 \\ube68\\ub974\\ub2e4 \\uc131\\ub2a5 \\uc131\\ub2a5 \\ub6f0\\uc5b4\\ub098\\ub2e4 \\uc720\\ud1b5 \\uae30\\ud55c\", \"\\ubc30\\uc1a1 \\ube68\\ub974\\ub2e4 \\uc131\\ub2a5 \\uc720\\ud1b5 \\uae30\\ud55c\", \"\\ubc30\\uc1a1 \\ube68\\ub974\\ub2e4 \\uc131\\ub2a5 \\uc131\\ub2a5 \\ub6f0\\uc5b4\\ub098\\ub2e4 \\uc720\\ud1b5 \\uae30\\ud55c \\uae30\\ud55c \\ub109\\ub109\\ud558\\ub2e4 \\uae30\\ubd84 \\uc5c5\\ub2e4 \\uc0c1\\ucf8c\\ud558\\ub2e4 \\ud53c\\ub85c \\uc88b\\ub2e4 \\ud798\\ucc28\\ub2e4 \\ubcf4\\ub0b4\\ub2e4 \\uc0c1\\uc138 \\uc0c1\\uc138 \\uc0c1\\uc138\", \"\\ubc30\\uc1a1 \\ube68\\ub974\\ub2e4 \\uc131\\ub2a5 \\uc131\\ub2a5 \\ub6f0\\uc5b4\\ub098\\ub2e4 \\uc720\\ud1b5 \\uae30\\ud55c \\uae30\\ud55c \\ub109\\ub109\\ud558\\ub2e4 \\ub450\\ubc88\\uc9f8 \\uad6c\\ub9e4 \\uafb8\\uc900\\ud558\\ub2e4 \\uc0ac\\ub2e4 \\uc0c1\\uc138\", \"\\uc720\\ud1b5 \\uae30\\ud55c \\ud3ec\\uc7a5 \\uc0c1\\ud0dc \\ud3ec\\uc7a5 \\uae54\\ub054\\ud558\\ub2e4 \\uc9c0\\ud608 \\ud608\\uc555 \\ub192\\ub2e4 \\ub3c4\\uc6c0 \\uad6c\\uc785 \\ubcf5\\uc6a9 \\ud638\\uacfc \\uad6c\\uc785 \\uba8c\\uc815 \\uc0c1\\uc138\", \"\\ubc30\\uc1a1 \\ube68\\ub974\\ub2e4 \\uc131\\ub2a5 \\uc720\\ud1b5 \\uae30\\ud55c \\uae30\\ud55c \\ub109\\ub109\\ud558\\ub2e4 \\ubd80\\ubaa8\\ub2d8 \\uac74\\uac15 \\uc704\\ud574 \\uac80\\uc0c9 \\ud6c4\\uae30 \\ub9ce\\ub2e4 \\uc88b\\ub2e4 \\uc0c1\\ud488 \\uce6d\\ucc2c \\ub9ce\\ub2e4 \\uad6c\\ub9e4 \\ud6a8\\ub2a5 \\uc54c\\ub2e4 \\ubcf5\\uc6a9 \\uc7ac\\ub2e4 \\ub9e4\\ub2e4 \\uc9c0\\ucf1c\\ubcf4\\ub2e4 \\uac10\\uc0ac\\ud558\\ub2e4\", \"\\ubc30\\uc1a1 \\ube68\\ub974\\ub2e4 \\uc131\\ub2a5 \\uc131\\ub2a5 \\ub6f0\\uc5b4\\ub098\\ub2e4 \\uc720\\ud1b5 \\uae30\\ud55c \\uae30\\ud55c \\ub109\\ub109\\ud558\\ub2e4 \\ub450\\ubc88\\uc9f8 \\uad6c\\uc785 \\ud648\\uc1fc\\ud551 \\uc81c\\ud488 \\ube44\\uc2f8\\ub2e4 \\uc88b\\ub2e4 \\uba39\\uae30 \\ud608\\ud589 \\uac1c\\uc120 \\ud6a8\\ub2a5 240 \\ucf5c\\ub808\\uc2a4\\ud14c\\ub864 190 \\ub5a8\\uc5b4\\uc9c0\\ub2e4 \\uc0c1\\uc138\", \"\\ubc30\\uc1a1 \\ube68\\ub974\\ub2e4 \\uc131\\ub2a5 \\uc720\\ud1b5 \\uae30\\ud55c \\uae30\\ud55c \\ub109\\ub109\\ud558\\ub2e4 \\ud608\\uc555 \\uc88b\\ub2e4 \\ubaa8\\ub974\\ub2e4\", \"\\ube60\\ub974\\ub2e4 \\ubc30\\uc1a1 \\uac10\\uc0ac\\ud558\\ub2e4\", \"\\ubc30\\uc1a1 \\ube68\\ub974\\ub2e4 \\uc131\\ub2a5 \\uc131\\ub2a5 \\ub6f0\\uc5b4\\ub098\\ub2e4 \\uc720\\ud1b5 \\uae30\\ud55c \\uae30\\ud55c \\ub109\\ub109\\ud558\\ub2e4 \\ubcf5\\uc6a9\", \"\\ubc30\\uc1a1 \\ube68\\ub974\\ub2e4 \\uc131\\ub2a5 \\uc720\\ud1b5 \\uae30\\ud55c \\uae30\\ud55c \\ub109\\ub109\\ud558\\ub2e4 \\ubaa8\\ub974\\ub2e4\", \"\\ubc30\\uc1a1 \\ube68\\ub974\\ub2e4 \\uc720\\ud1b5 \\uae30\\ud55c \\uae30\\ud55c \\ub109\\ub109\\ud558\\ub2e4 \\ud3ec\\uc7a5 \\uaf3c\\uaf3c\\ud558\\ub2e4 \\ud574\\uc8fc\\uc2dc \\ud6c4\\uae30 \\uc62c\\ub9ac\\ub2e4\", \"\\uac00\\uaca9 \\uc2f8\\ub2e4 \\uc0ac\\ub2e4 \\ubc30\\uc1a1 \\ube60\\ub974\\ub2e4 \\ubc30\\uc1a1 \\uac10\\uc0ac\\ud558\\ub2e4 \\ub0a8\\ud3b8 \\uad6c\\ub9e4 \\uc88b\\ub2e4\", \"\\ubc30\\uc1a1 \\ube68\\ub974\\ub2e4 \\ub9db\\uc788\\ub2e4 \\uc720\\ud1b5 \\uae30\\ud55c \\uae30\\ud55c \\ub109\\ub109\\ud558\\ub2e4 \\uc88b\\ub2e4 \\uc74c\\uc808 \\uc548\\ub418\\ub2e4 \\uc0c1\\uc138\", \"\\ubc30\\uc1a1 \\ube68\\ub974\\ub2e4 \\uc131\\ub2a5 \\uc131\\ub2a5 \\ub6f0\\uc5b4\\ub098\\ub2e4 \\uc720\\ud1b5 \\uae30\\ud55c \\uae30\\ud55c \\ub109\\ub109\\ud558\\ub2e4 \\ub098\\uc774 \\uc99d\\uac70 \\uc790\\uafb8 \\uac74\\uac15 \\uc2dd\\ud488 \\uae30\\uc6c3 \\uac70\\ub9ac \\uc624\\uba54\\uac00 \\uc88b\\ub2e4 \\uc598\\uae30 \\ub4e3\\ub2e4 \\uac31\\ub144\\uae30 \\ud608\\uad00 \\uac74\\uac15 \\uad6c\\uc785 \\ucee4\\uc11c \\uba39\\uae30 \\ud798\\ub4e4\\ub2e4 \\ubd88\\ud3b8\\ud558\\ub2e4 \\ud6c4\\uae30 \\ud574\\uc624\\ub2e4 \\uc624\\uc77c \\uc81c\\ud488 \\ud06c\\ub2e4 \\uad6c\\uc785 \\uac74\\uac15\\ud558\\ub2e4 \\uc0c1\\uc138 \\uc0c1\\uc138 \\uc0c1\\uc138\", \"\\ubc30\\uc1a1 \\ube68\\ub974\\ub2e4 \\uc720\\ud1b5 \\uae30\\ud55c \\uc88b\\ub2e4 \\uad6c\\ub9e4 \\ub531\\ud558\\ub2e4 \\uc88b\\ub2e4\", \"\\ucee4\\ud53c \\ub179\\ub2e4 \\uc74c\\uc2dd \\ub123\\ub2e4\", \"\\ubc30\\uc1a1 \\ube68\\ub974\\ub2e4 \\uc131\\ub2a5 \\uc131\\ub2a5 \\ub6f0\\uc5b4\\ub098\\ub2e4 \\uc720\\ud1b5 \\uae30\\ud55c \\uae30\\ud55c \\ub109\\ub109\\ud558\\ub2e4 \\uc624\\uba54\\uac00 \\uc4f0\\ub9ac\\ub2e4 \\uc88b\\ub2e4 \\uc7ac\\ub2e4 \\ub9e4\\ud558 \\uc0c1\\ud488 \\uc0c1\\uc138\", \"\\ubc30\\uc1a1 \\ube68\\ub974\\ub2e4 \\uc131\\ub2a5 \\uc720\\ud1b5 \\uae30\\ud55c \\uae30\\ud55c \\ub109\\ub109\\ud558\\ub2e4 \\ubc30\\uc1a1 \\ube60\\ub974\\ub2e4 \\uc88b\\ub2e4 \\ub9cc\\uc871\\ud558\\ub2e4 \\uc0c1\\uc138\", \"\\ubc30\\uc1a1 \\ube68\\ub974\\ub2e4 \\uc131\\ub2a5 \\uc131\\ub2a5 \\ub6f0\\uc5b4\\ub098\\ub2e4 \\uc720\\ud1b5 \\uae30\\ud55c \\uae30\\ud55c \\ub109\\ub109\\ud558\\ub2e4 \\ube0c\\ub9ac \\uc624\\uc774 \\uc0c1\\ud488 \\uace0\\uc9d1 \\ube0c\\ub79c\\ub4dc \\ud06c\\uae30 \\uadf8\\ub807\\ub2e4 \\uc6a9\\ub7c9 \\ucee4\\uc11c \\uc81c\\ub300\\ub85c \\ube0c\\ub9ac \\uc624\\ub9cc \\uad6c\\ub9e4\", \"\\ub450\\ubc88\\uc9f8 \\uad6c\\ub9e4 \\uc88b\\ub2e4 \\uc77c\\uc5b4\\ub098\\ub2e4 \\uac70\\ub72c\\ud558\\ub2e4 \\uae30\\ubd84 \\uc88b\\ub2e4 \\uc74d\\ub2c8 \\ube60\\ub974\\ub2e4 \\ubc30\\uc1a1 \\uac10\\uc0ac\\ud558\\ub2e4\", \"\\uc8fc\\ubb34\\uc2dc\\ub2e4 \\ucd94\\ucc9c \\uc548\\uc815 \\uc131\\ubd84 \\uc7a0\\uc790\\ub2e4 \\uac00\\ub8e8 \\ud615\\ud0dc \\ucd95\\ucd95\\ud558\\ub2e4 \\ubcf4\\uad00 \\uc2e0\\uacbd \\uc4f8\\ub2e4 \\uc0c1\\uc138\", \"\\ubd80\\ubaa8\\ub2d8 \\uc120\\ubb3c \\ub4dc\\ub9ac\\ub2e4 \\ud310\\ub9e4 \\ubbff\\ub2e4 \\uad6c\\ub9e4 \\ud3b8\\uc9c0 \\ub123\\ub2e4 \\uc88b\\ub2e4 \\uc81c\\ud488 \\uc591\\uc2ec \\ud310\\ub9e4 \\ubd80\\ubaa8\\ub2d8 \\ud56d\\uc0c1 \\uac74\\uac15\\ud558\\ub2e4 \\uc88b\\ub2e4\", \"\\ubc30\\uc1a1 \\ube68\\ub974\\ub2e4 \\uc131\\ub2a5 \\uc131\\ub2a5 \\ub6f0\\uc5b4\\ub098\\ub2e4 \\uc720\\ud1b5 \\uae30\\ud55c \\uae30\\ud55c \\ub109\\ub109\\ud558\\ub2e4 \\ud608\\uc555 \\uce58\\uac00 \\ub192\\ub2e4 \\ud06c\\ub2e4 \\uad6c\\uc785 \\ubcf5\\uc6a9 \\ud574\\ubcf4\\ub2e4 \\uc99d\\uc0c1 \\ud06c\\uae30 \\ubd80\\ub2f4 \\uc2f6\\ub2e4 \\uc801\\ub2f9\\ud558\\ub2e4 \\ud06c\\uae30 \\ub118\\uae40 \\uc27d\\ub2e4 \\uaf2c\\ubc15\\uaf2c\\ubc15 \\uac74\\uac15 \\ubc14\\ub77c\\ub2e4 \\uc0c1\\ud0dc \\ub77c\\uba74 \\uc7ac\\ub2e4 \\ub9e4\\uac01\", \"\\ubc30\\uc1a1 \\uc720\\ud1b5 \\uae30\\ud55c \\uae30\\ud55c \\ub109\\ub109\\ud558\\ub2e4 \\uac31\\ub144\\uae30 \\uc99d\\uc0c1 \\uc2ec\\ud558\\ub2e4 \\uc8fc\\ubb38 \\uad1c\\ucc2e\\ub2e4 \\uc88b\\ub2e4\", \"\\ubc30\\uc1a1 \\ube68\\ub974\\ub2e4 \\uc131\\ub2a5 \\uc720\\ud1b5 \\uae30\\ud55c \\uae30\\ud55c \\ub109\\ub109\\ud558\\ub2e4 \\ubcf4\\uc9c0 \\ubbff\\ub2e4 \\uc88b\\ub2e4 \\uc7ac\\ub2e4\", \"\\ubc30\\uc1a1 \\ube68\\ub974\\ub2e4 \\uc131\\ub2a5 \\uc131\\ub2a5 \\ub6f0\\uc5b4\\ub098\\ub2e4 \\uc720\\ud1b5 \\uae30\\ud55c \\uae30\\ud55c \\ub109\\ub109\\ud558\\ub2e4 \\uc0dd\\ub9ac\\ud1b5 \\uc2ec\\ud558\\ub2e4 \\uac74\\uae30 \\ube0c\\ub9ac \\uc81c\\ud488 \\ud6c4\\uae30 \\uc88b\\ub2e4 \\uad6c\\ub9e4 \\uafb8\\uc900\\ud558\\ub2e4 \\uc88b\\ub2e4 \\ud734\\ub300 \\ubbf8\\ub2c8 \\ube14\\ub9ac\\uc2a4 \\ub044\\ub2e4 \\ub123\\ub2e4 \\uc0c1\\uc138\", \"\\ubd88\\uba74\\uc99d \\uc2ec\\ud558\\ub2e4 \\uc218\\uba74\\uc81c \\ubcf5\\uc6a9 \\ub04a\\ub2e4 \\uc8fc\\ubb38 \\uc218\\uba74 \\ub298\\uc5b4\\ub098\\ub2e4 \\uc7a0\\ub4e4\\ub2e4 \\ub3c4\\uc6c0 \\uc218\\uc800 \\uacc4\\ub7c9 \\uc2a4\\ud47c \\uc0ac\\ub2e4 \\uc2a4\\ud47c \\uc544\\uc26c\\uc6c0 \\ub2eb\\ub2e4\", \"\\uac00\\uaca9 \\uc2f8\\ub2e4 \\uc0ac\\ub2e4 \\ubc30\\uc1a1 \\ube68\\ub974\\ub2e4 \\ud14c\\ub808\\ube44 \\uc88b\\ub2e4 \\ub4dc\\ub9ac\\ub2e4 \\uc5ec\\uc131 \\uc778\\uae30 \\ub9ce\\ub2e4 \\uc81c\\ud488 \\uc5b4\\ub5bb\\ub2e4 \\uae30\\ub300 \\uac74\\uac15\\ud558\\ub2e4 \\ucd5c\\uace0 \\uc88b\\ub2e4 \\uac10\\uc0ac\\ud558\\ub2e4\", \"\\uac00\\uaca9 \\uad1c\\ucc2e\\ub2e4 \\ubc30\\uc1a1 \\uc88b\\ub2e4\", \"\\uc720\\ud1b5 \\uae30\\ud55c \\uae30\\ud55c \\ub109\\ub109\\ud558\\ub2e4 \\ud3ec\\uc7a5 \\uc0c1\\ud0dc \\ud3ec\\uc7a5 \\uae54\\ub054\\ud558\\ub2e4 \\uc88b\\ub2e4\", \"\\uac00\\uaca9 \\uad1c\\ucc2e\\ub2e4 \\ubc30\\uc1a1\", \"\\uc88b\\ub2e4 \\uc88b\\ub2e4\", \"\\uac00\\uaca9 \\uc2f8\\ub2e4 \\uc0ac\\ub2e4 \\ubc30\\uc1a1 \\ube68\\ub974\\ub2e4 \\uc88b\\ub2e4\", \"\\ubc30\\uc1a1\", \"\\uc720\\ud1b5 \\uae30\\ud55c \\uae30\\ud55c \\ub109\\ub109\\ud558\\ub2e4 \\ud3ec\\uc7a5 \\uc0c1\\ud0dc \\ud3ec\\uc7a5 \\uae54\\ub054\\ud558\\ub2e4 \\uc88b\\ub2e4 \\uafb8\\uc900\\ud558\\ub2e4 \\ubcf5\\uc6a9 \\ud608\\uc555 \\uc548\\uc815\", \"\\ubc30\\uc1a1 \\ube68\\ub974\\ub2e4 \\uc131\\ub2a5 \\uc131\\ub2a5 \\ub6f0\\uc5b4\\ub098\\ub2e4 \\uc720\\ud1b5 \\uae30\\ud55c \\uae30\\ud55c \\ub109\\ub109\\ud558\\ub2e4 \\uac74\\uac15\\uac80\\uc9c4 \\ucf5c\\ub808\\uc2a4\\ud14c\\ub864 \\uc218\\uce58 \\uace0\\uc9c0\\ud608\\uc99d \\ub192\\ub2e4 \\uae5c\\ub180 \\uc54c\\uc544\\ubcf4\\ub2e4 \\ud6c4\\uae30 \\uc88b\\ub2e4 \\uad6c\\ub9e4 \\uaca8\\uc6b8 \\uc190\\ubc1c \\ucc28\\ub2e4 \\ub450\\ub8e8 \\ub450\\ub8e8 \\uc88b\\ub2e4 \\uae30\\ub300\\ud558\\ub2e4 \\ud6c4\\uae30 \\uc62c\\ub9ac\\ub2e4\", \"\\ubc30\\uc1a1 \\ube68\\ub974\\ub2e4 \\uc131\\ub2a5 \\uc131\\ub2a5 \\ub6f0\\uc5b4\\ub098\\ub2e4 \\uc720\\ud1b5 \\uae30\\ud55c \\uae30\\ud55c \\ub109\\ub109\\ud558\\ub2e4 \\ub3d9\\ubb3c\\uc131 \\uc624\\uba54\\uac00 \\uc911\\uae08\\uc18d \\ud574\\uc870\\ub958 \\uc624\\uba54\\uac00 \\uad6c\\ub9e4 \\uc5ed\\uc2dc \\uc2dd\\ubb3c\\uc131 \\uadf8\\ub807\\ub2e4 \\ube44\\ub9ac\\ub2e4 \\uba39\\uae30 \\uc88b\\ub2e4 \\ud608\\uc561 \\uc21c\\ud658 \\uace0\\uc9c0\\ud608\\uc99d \\ucf5c\\ub808\\uc2a4\\ud14c\\ub864 \\uc218\\uce58 \\uc88b\\uc544\\uc9c0\\ub2e4 \\uc2e0\\uae30\\ud558\\ub2e4 \\uafb8\\uc900\\ud558\\ub2e4 \\ud608\\uc555 \\ub192\\ub2e4 \\ubd84\\ud558\\ub2e4 \\uc88b\\ub2e4 \\ub2eb\\ub2e4 \\uc0c1\\uc138 \\uc0c1\\uc138 \\uc0c1\\uc138\", \"\\uc131\\ub2a5 \\uc131\\ub2a5 \\ub6f0\\uc5b4\\ub098\\ub2e4 \\uc720\\ud1b5 \\uae30\\ud55c \\uae30\\ud55c \\ub109\\ub109\\ud558\\ub2e4 \\uc720\\ud1b5 \\uae30\\ud55c \\ub109\\ub109\\ud558\\ub2e4 \\uc0bc\\ud0a4\\ub2e4 \\ubd80\\ub2f4 \\uc0ac\\uc774\\uc988 \\uc7a5\\uae30\\uac04 \\uc54c\\ub2e4 \\uc2e0\\uc785\\uc0ac\\uc6d0 \\ud3b8\\uc9c0 \\uc88b\\ub2e4 \\ubbf8\\ub9ac \\ub290\\ub07c\\ub2e4 \\uc0c1\\uc138\", \"\\ubc30\\uc1a1 \\ube68\\ub974\\ub2e4 \\uc131\\ub2a5 \\uc131\\ub2a5 \\ub6f0\\uc5b4\\ub098\\ub2e4 \\uc720\\ud1b5 \\uae30\\ud55c \\uae30\\ud55c \\ub109\\ub109\\ud558\\ub2e4 \\ud608\\uc804 \\uc548\\uc2ec \\ub3fc\\ub2e4 \\ucf54\\ub85c\\ub098 \\ubc31\\uc2e0 \\ubd80\\uc791\\uc6a9 \\ud608\\uc804 \\ub365\\ub2e4 \\ud608\\uc804 \\uc0dd\\uae30 \\ud608\\uad00 \\uc881\\ub2e4 \\uc2ec\\ud558\\ub2e4 \\ud608\\uad00 \\uc544\\uc608 \\ub9c9\\ub2e4 \\ubc84\\ub9ac\\ub2e4 \\ud608\\uc561 \\ud750\\ub984 \\uba48\\ucd94\\ub2e4 \\ub300\\uc694 \\uc911\\uc131 \\uc9c0\\ubc29 \\uc218\\uce58 \\ub192\\ub2e4 \\ucf5c\\ub808\\uc2a4\\ud14c\\ub864 \\uc218\\uce58 \\ub192\\ub2e4 \\ud608\\uc804 \\uc0dd\\uae30\\ub2e4 \\uc26c\\ub2e4 \\uc704\\ud5d8\\ud558\\ub2e4 \\uc2b5\\uad00 \\uc778\\uc9c0 \\uac00\\uc871 \\ucf5c\\ub808\\uc2a4\\ud14c\\ub864 \\ub192\\ub2e4 \\uc2dd\\ub2e8 \\uc870\\uc808 \\ubc31\\uc2e0 \\ubd80\\uc791\\uc6a9 \\ud608\\uc804 \\ud558\\ub2c8 \\ubd88\\uc548\\ud558\\ub2e4 \\ucee4\\uc9c0\\ub2e4 \\uac00\\uc871 4\\ubd84 \\ubc31\\uc2e0 \\ub9de\\ub2e4 \\uad00\\ub9ac \\uc2dc\\uc791 \\ud608\\uad00 \\uc591\\uc81c \\uad6c\\ub9e4 \\ud608\\uad00 \\uc591\\uc81c \\uace0\\ub974\\ub2e4 \\uc81c\\ud488 \\uae30\\uc5b5 \\uac1c\\uc120 \\uc815\\ub9e5 \\uc21c\\ud658 \\ucd08\\uc810 \\ub9de\\ucd94\\ub2e4 \\uc368\\ub2e4 \\uc2dc\\uc548 \\ud608\\uad00 \\uac74\\uac15 \\ucd08\\uc810 \\ub9de\\ucd94\\ub2e4 \\ucf5c\\ub808\\uc2a4\\ud14c\\ub864 \\ud608\\ud589 \\uad00\\ub9ac \\uc911\\uc810 \\uad00\\ub9ac \\ud574\\uc8fc\\ub2e4 \\uad6c\\ub9e4 \\uc624\\uba54\\uac00 \\ub3d9\\ubb3c\\uc131 \\uc544\\ub2c8\\ub2e4 \\ud574\\uc870\\ub958 \\ub9cc\\ub4e4\\ub2e4 \\uc2dd\\ubb3c\\uc131 \\uac74\\uac15 \\uc81c\\ud488 \\ud655\\uc2e4\\ud558\\ub2e4 \\ub2e4\\ub974\\ub2e4 \\ub290\\uaef4\\uc9c0\\ub2e4 \\ucc28\\uc11c \\ub450\\uaecd\\ub2e4 \\uc591\\ub9d0 \\uc2e0\\ub2e4 \\ud608\\uc561 \\uc21c\\ud658 \\ub3fc\\ub2e4 \\uadf8\\ub807\\ub2e4 \\ub365\\ub2e4 \\uc591\\ub9d0 \\ubc97\\ub2e4 \\ubc84\\ub9ac\\ub2e4 \\uc313\\uc774\\ub2e4 \\ucf5c\\ub808\\uc2a4\\ud14c\\ub864 \\ud608\\uc804 \\uc21c\\ud658 \\uc88b\\ub2e4 \\uc81c\\ud488 \\uac10\\uc0ac\\ud558\\ub2e4 \\ub2eb\\ub2e4 \\uc0c1\\uc138 \\uc0c1\\uc138 \\uc0c1\\uc138 \\uc0c1\\uc138\", \"\\ubc30\\uc1a1 \\ube68\\ub974\\ub2e4 \\uc720\\ud1b5 \\uae30\\ud55c \\uae30\\ud55c \\ub109\\ub109\\ud558\\ub2e4 \\uc624\\uba54\\uac00 \\ud64d\\uad6d \\ucf54\\ud050\\ud150 \\uc88b\\ub2e4 \\ud655\\uc2e4\\ud558\\ub2e4 \\uc624\\uba54\\uac00 \\uc88b\\ub2e4 \\ud3b8\\ud558\\ub2e4 \\uc88b\\ub2e4 \\uad6c\\ub9e4 \\uc9dc\\ub2e4 \\uad6c\\uc131 \\uc800\\ub834\\ud558\\ub2e4 \\ub2e8\\uac00 \\uac10\\uc0ac\\ud558\\ub2e4 \\ub2eb\\ub2e4 \\uc0c1\\uc138 \\uc0c1\\uc138 \\uc0c1\\uc138\", \"\\ubc30\\uc1a1 \\ube68\\ub974\\ub2e4 \\uc131\\ub2a5 \\uc131\\ub2a5 \\ub6f0\\uc5b4\\ub098\\ub2e4 \\uc720\\ud1b5 \\uae30\\ud55c \\uae30\\ud55c \\ub109\\ub109\\ud558\\ub2e4 \\uace0\\ud608\\uc555 \\uac00\\uc871 \\ud608\\uad00 \\uac74\\uac15 \\uac71\\uc815 \\ub3fc\\ub2e4 \\ud608\\uad00 \\uc88b\\ub2e4 \\uc624\\uba54\\uac00 \\uc54c\\uc544\\ubcf4\\ub2e4 \\uc0dd\\uc120 \\ub9cc\\ub4e4\\ub2e4 \\ub3d9\\ubb3c\\uc131 \\uc624\\uba54\\uac00 \\ub298\\ub2e4 \\uc911\\uae08\\uc18d \\uc704\\ud5d8 \\ud574\\uc870\\ub958 \\uc624\\uba54\\uac00 \\uad6c\\ub9e4 \\uc784\\uc0b0\\ubd80 \\uc18c\\ub9ac \\ubbff\\ub2e4 \\uad6c\\ub9e4 \\uc624\\uba54\\uac00 \\ub298\\ub2e4 \\ud608\\uad00 \\uc911\\uc131 \\uc9c0\\ubc29 \\ub179\\uc774\\ub2e4 \\ud608\\uad00 \\uccad\\uc18c \\ud574\\uc8fc\\ub2e4 \\ud608\\uc561 \\uc21c\\ud658 \\ub3c4\\uc640\\uc8fc\\ub2e4 \\ubd88\\uaddc\\uce59\\ud558\\ub2e4 \\uc2b5\\uad00 \\uc911\\uc131 \\uc9c0\\ubc29 \\uac71\\uc815 \\ud544\\uc694\\ud558\\ub2e4 \\uc591\\uc81c \\ub365\\ub2e4 \\ucf54\\uc5d4\\uc790\\uc784 \\ud050\\ud150 \\ud765\\uad6d \\ucf54\\uc5d4\\uc790\\uc784 \\ud050\\ud150 \\ubcc4\\uba85 \\uc2ec\\uc7a5 \\ube44\\ud0c0\\ubbfc \\uc2ec\\uc7a5 \\ud38c\\ud54c \\ub3c4\\uc640\\uc8fc\\ub2e4 \\ud608\\uc561 \\uc21c\\ud658 \\uc88b\\ub2e4 \\ub3c4\\uc640\\uc8fc\\ub2e4 \\ub300\\uc694 \\ud765\\uad6d \\uc88b\\ub2e4 \\ucf5c\\ub808\\uc2a4\\ud2b8\\ub864 \\ub192\\uc774\\ub2e4 \\ub098\\uc058\\ub2e4 \\ucf5c\\ub808\\uc2a4\\ud14c\\ub864 \\ub0ae\\ucd94\\ub2e4 \\ud608\\uad00 \\ub354\\uc6b1 \\uad00\\ub9ac \\uc88b\\ub2e4 \\uc591\\uc81c \\uba39\\uae30 \\uac00\\uaca9 \\ubd80\\ub2f4 \\uac2f\\uc218 \\ub9ce\\uc544\\uc9c0\\ub2e4 \\uba39\\uae30 \\uc26c\\ub2e4 \\uc368\\ub2e4 \\uc2dc\\uc548 \\ubaa8\\ub4e0 \\uc88b\\ub2e4 \\ub2e4\\uac00 \\uba74\\uc5ed \\uc88b\\ub2e4 \\ud608\\uad00 \\uc810\\ub9c9 \\uc88b\\ub2e4 \\uc62c\\uc778\\uc6d0 \\ud608\\uad00 \\uad00\\ub9ac\\uc81c \\ub044\\ub2e4 \\ub2eb\\ub2e4 \\uc0c1\\uc138 \\uc0c1\\uc138 \\uc0c1\\uc138\", \"\\uc131\\ub2a5 \\uc131\\ub2a5 \\ub6f0\\uc5b4\\ub098\\ub2e4 \\uc720\\ud1b5 \\uae30\\ud55c \\uae30\\ud55c \\ub109\\ub109\\ud558\\ub2e4\", \"\\ubbff\\ub2e4 \\uc0c1\\uc138\", \"\\ubc30\\uc1a1 \\ube68\\ub974\\ub2e4 \\uc131\\ub2a5 \\uc131\\ub2a5 \\ub6f0\\uc5b4\\ub098\\ub2e4 \\uc720\\ud1b5 \\uae30\\ud55c \\uae30\\ud55c \\ub109\\ub109\\ud558\\ub2e4 \\uc88b\\ub2e4 \\uad6c\\ub9e4\", \"\\ubc30\\uc1a1 \\ube68\\ub974\\ub2e4 \\uc131\\ub2a5 \\uc131\\ub2a5 \\ub6f0\\uc5b4\\ub098\\ub2e4 \\uc720\\ud1b5 \\uae30\\ud55c \\uae30\\ud55c \\ub109\\ub109\\ud558\\ub2e4 \\uc0c1\\uc138\", \"\\uac00\\uaca9 \\uc2f8\\ub2e4 \\uc0ac\\ub2e4 \\ubc30\\uc1a1 \\ube68\\ub974\\ub2e4\", \"\\ud06c\\ub9b4 \\uc624\\uc77c \\uc624\\uba54\\uac00 \\ub808\\uc2dc\\ud2f4 \\ub0ab\\ub2e4 \\uad6c\\ub9e4 \\uac70\\ubd80 \\uc2dd\\uac10 \\uba39\\uae30 \\uadf8\\ub807\\ub2e4 \\ubb3c\\uc774 \\uafc0\\ub5a1 \\uafc0\\ub5a1 \\uc0bc\\ud0a4\\ub2e4 \\uad1c\\ucc2e\\ub2e4 \\uc2a4\\ud47c \\ub3d9\\ubd09 \\uc54c\\ub2e4 \\uc544\\uc27d\\ub2e4 \\uc0c1\\uc138\", \"\\ubc30\\uc1a1 \\ube68\\ub974\\ub2e4 \\uc131\\ub2a5 \\uc131\\ub2a5 \\ub6f0\\uc5b4\\ub098\\ub2e4 \\uc720\\ud1b5 \\uae30\\ud55c \\uae30\\ud55c \\ub109\\ub109\\ud558\\ub2e4 \\uc81c\\ud488 \\ub5a8\\uc5b4\\uc9c0\\ub2e4 \\uad6c\\uc785 \\uac31\\ub144\\uae30 \\uc5ec\\uc131 \\ud544\\uc694\\ud558\\ub2e4 \\uc81c\\ud488 \\uc0c1\\uc138\", \"\\ubc30\\uc1a1 \\ube68\\ub974\\ub2e4 \\uc131\\ub2a5 \\uc131\\ub2a5 \\ub6f0\\uc5b4\\ub098\\ub2e4 \\uc720\\ud1b5 \\uae30\\ud55c \\uae30\\ud55c \\ub109\\ub109\\ud558\\ub2e4 \\ubc30\\uc1a1 \\ub4dc\\ub9ac\\ub2e4 \\uc0ac\\ub2e4 \\uc88b\\ub2e4 \\ubd09\\ud22c \\uc8fc\\uc2dc \\uc12c\\uc138\\ud558\\ub2e4 \\uc0c1\\uc138\", \"\\ubc30\\uc1a1 \\ube68\\ub974\\ub2e4 \\uc131\\ub2a5 \\uc131\\ub2a5 \\ub6f0\\uc5b4\\ub098\\ub2e4 \\uc720\\ud1b5 \\uae30\\ud55c \\uae30\\ud55c \\ub109\\ub109\\ud558\\ub2e4 \\ubcfc\\ub835\", \"\\uc131\\ub2a5 \\uc720\\ud1b5 \\uae30\\ud55c \\uae30\\ud55c \\ub109\\ub109\\ud558\\ub2e4\", \"\\ubc30\\uc1a1 \\ube68\\ub974\\ub2e4 \\ub9db\\uc788\\ub2e4 \\uc720\\ud1b5 \\uae30\\ud55c \\uae30\\ud55c \\ub109\\ub109\\ud558\\ub2e4 \\uc88b\\ub2e4 \\ub530\\ub2e4 \\ud655\\uc2e4\\ud558\\ub2e4 \\ube44\\uad50 \\ub9d0\\ub85c \\uc124\\uba85\", \"\\ubc30\\uc1a1 \\ube68\\ub974\\ub2e4 \\uc131\\ub2a5 \\uc131\\ub2a5 \\ub6f0\\uc5b4\\ub098\\ub2e4 \\uc720\\ud1b5 \\uae30\\ud55c \\uae30\\ud55c \\ub109\\ub109\\ud558\\ub2e4 \\ubee3\\ubee3\\ud558\\ub2e4 \\ubee3\\ubee3\\ud558\\ub2e4 \\ud604\\uc0c1 \\uc0ac\\ub77c\\uc9c0\\ub2e4 \\uc77c\\uc5b4\\ub098\\uc9c0 \\uc7a0\\ub3c4 \\uc88b\\ub2e4 \\uc7ac\\ub2e4 \\uc0c1\\uc138\", \"\\ubc30\\uc1a1 \\ube68\\ub974\\ub2e4 \\ud56d\\uc0c1 \\uc8fc\\ubb38 \\uc0c1\\ud488 \\uac31\\ub144\\uae30 \\ubcf4\\uc2dc \\ud6c4\\ud68c\", \"\\ubc30\\uc1a1 \\ube68\\ub974\\ub2e4 \\uc720\\ud1b5 \\uae30\\ud55c \\uae30\\ud55c \\ub109\\ub109\\ud558\\ub2e4 \\ubcf5\\uc6a9 \\uc790\\uc138 \\ud55c\\uae00 \\ub0a8\\uae30\\ub2e4 \\uc88b\\ub2e4\", \"\\ubc30\\uc1a1 \\uc131\\ub2a5 \\uc720\\ud1b5 \\uae30\\ud55c \\uac74\\uc9c0\\ub2e4 \\uac74\\uc9c0\\ub2e4 \\uc808\\ubc18 \\ubaa8\\ub974\\ub2e4\", \"\\uce58\\ub9e4 \\uc608\\ubc29 \\ub3c4\\uc6c0 \\uc81c\\ud488 \\ub9cc\\uc871\\ud558\\ub2e4\", \"\\ubc30\\uc1a1 \\ube68\\ub974\\ub2e4 \\uc131\\ub2a5 \\uc131\\ub2a5 \\ub6f0\\uc5b4\\ub098\\ub2e4 \\uc720\\ud1b5 \\uae30\\ud55c \\uae30\\ud55c \\ub109\\ub109\\ud558\\ub2e4 \\ub9c9\\ub2e4 \\uc57c\\ud558\\ub2e4 \\uad6c\\ub9e4 \\ud574\\ubd24\\ub2e4 \\uba40\\ub2e4 \\uc88b\\ub2e4\", \"\\ubc30\\uc1a1 \\ube68\\ub974\\ub2e4 \\uc131\\ub2a5 \\uc720\\ud1b5 \\uae30\\ud55c \\uae30\\ud55c \\ub109\\ub109\\ud558\\ub2e4 \\uc131\\ub2a5 \\ubaa8\\ub974\\ub2e4\", \"\\uac00\\uaca9 \\uad1c\\ucc2e\\ub2e4 \\ubc30\\uc1a1 \\uad1c\\ucc2e\\ub2e4\", \"\\ubc30\\uc1a1 \\ube68\\ub974\\ub2e4 \\uc720\\ud1b5 \\uae30\\ud55c \\uae30\\ud55c \\ub109\\ub109\\ud558\\ub2e4 \\uc2e0\\ub791 \\ucf5c\\ub808\\uc2a4\\ud14c\\ub864 \\ub192\\ub2e4 \\uc7ac\\ub2e4 \\uafb8\\uc900\\ud558\\ub2e4 \\uba39\\uc774\\ub2e4 \\uc0c1\\uc138\", \"\\uac00\\uaca9 \\uad1c\\ucc2e\\ub2e4 \\ubc30\\uc1a1 \\uc88b\\ub2e4\", \"\\uac00\\uaca9 \\uad1c\\ucc2e\\ub2e4 \\ubc30\\uc1a1\", \"\\ubc30\\uc1a1 \\uc131\\ub2a5 \\uc131\\ub2a5 \\ub6f0\\uc5b4\\ub098\\ub2e4 \\uc720\\ud1b5 \\uae30\\ud55c \\uae30\\ud55c \\ub109\\ub109\\ud558\\ub2e4\", \"\\uc720\\ud1b5 \\uae30\\ud55c \\uae30\\ud55c \\ub109\\ub109\\ud558\\ub2e4 \\ud3ec\\uc7a5 \\uc0c1\\ud0dc \\ud3ec\\uc7a5 \\uae54\\ub054\\ud558\\ub2e4\", \"\\ubc30\\uc1a1 \\ube68\\ub974\\ub2e4 \\uc131\\ub2a5 \\uc720\\ud1b5 \\uae30\\ud55c \\uae30\\ud55c \\ub109\\ub109\\ud558\\ub2e4\", \"\\ubc30\\uc1a1 \\ube68\\ub974\\ub2e4 \\uc131\\ub2a5 \\uc131\\ub2a5 \\ub6f0\\uc5b4\\ub098\\ub2e4 \\uc720\\ud1b5 \\uae30\\ud55c \\uae30\\ud55c \\ub109\\ub109\\ud558\\ub2e4 \\ub9d1\\ub2e4 \\uae30\\ubd84 \\uc88b\\ub2e4 \\uae30\\ub300\\ud558\\ub2e4 \\uc0c1\\uc138\", \"\\ubc30\\uc1a1 \\ube68\\ub974\\ub2e4 \\uc131\\ub2a5 \\uc131\\ub2a5 \\ub6f0\\uc5b4\\ub098\\ub2e4 \\uc720\\ud1b5 \\uae30\\ud55c \\uae30\\ud55c \\ub109\\ub109\\ud558\\ub2e4 \\uc911\\uc131 \\uc9c0\\uc9c8 \\ucf5c\\ub808\\uc2a4\\ud14c\\ub864 \\ub192\\ub2e4 \\uc2ec\\ud558\\ub2e4 \\uac74\\uac15\\uac80\\uc9c4 \\uc8fc\\uc758 \\ud558\\ub798 \\uac31\\ub144\\uae30 \\uc624\\ub2c8 \\ud608\\uad00 \\uc9c8\\ud658 \\uc0dd\\uae30 \\ud608\\uc555 \\uc815\\uc0c1 \\uac80\\uc9c4 \\uacbd\\uacc4 \\ud608\\uc555 \\uae5c\\ub180 \\ub808\\uc2a4 \\ud2b8\\ub864 \\uc218\\uce58 \\ub192\\ub2e4 \\ub180\\ub798\\ub2e4 \\uc0ac\\uc774 \\uac31\\ub144\\uae30 \\uc811\\ub2e4 \\ub298\\ub2e4 \\ub3c4\\ud574 \\uc758\\uc0ac \\uac31\\ub144\\uae30 \\uadf8\\ub807\\ub2e4 \\ud608\\uad00 \\uc9c8\\ud658 \\ubc1c\\uc0dd \\uc6b4\\ub3d9 \\ud558\\ub77c \\uc6b4\\ub3d9 \\uc548\\ud574 \\uc815\\uc0c1 \\uc815\\ub9d0 \\ub180\\ub798\\ub2e4 \\uc6b4\\ub3d9 \\uac74\\uac15 \\ubcf4\\uc870 \\uc2dd\\ud488 \\ub178\\ub9ac\\ub2e4 \\ub098\\uc774 \\uc11c\\ub7fd\\ub2e4 \\uc624\\uc2ed \\ubaa8\\ub85c \\ud798\\ub4dc\\ub2e4 \\uc0c1\\uc138\", \"\\uc720\\ud1b5 \\uae30\\ud55c \\uae30\\ud55c \\ub109\\ub109\\ud558\\ub2e4 \\ud3ec\\uc7a5 \\uc0c1\\ud0dc \\ud3ec\\uc7a5 \\uae54\\ub054\\ud558\\ub2e4 \\uc88b\\ub2e4 \\uc81c\\ud488 \\ub6f0\\uc5b4\\ub098\\ub2e4\", \"\\ubc30\\uc1a1 \\ube68\\ub974\\ub2e4 \\uc131\\ub2a5 \\uc720\\ud1b5 \\uae30\\ud55c \\uae30\\ud55c \\ub109\\ub109\\ud558\\ub2e4 \\uc774\\uc8fc \\uc9c0\\ub098\\ub2e4\", \"\\ubc30\\uc1a1 \\ube68\\ub974\\ub2e4 \\uc131\\ub2a5 \\uc131\\ub2a5 \\ub6f0\\uc5b4\\ub098\\ub2e4 \\uc720\\ud1b5 \\uae30\\ud55c \\uae30\\ud55c \\ub109\\ub109\\ud558\\ub2e4 \\uafb8\\uc900\\ud558\\ub2e4 \\ubcf5\\uc6a9 \\ud608\\uc555 \\uc548\\uc815 \\ub0ae\\uc544\\uc9c0\\ub2e4\", \"\\ubc30\\uc1a1 \\ube68\\ub974\\ub2e4 \\uc131\\ub2a5 \\uc720\\ud1b5 \\uae30\\ud55c \\ubaa8\\ub974\\ub2e4 \\uafb8\\uc900\\ud558\\ub2e4 1\\ub144 \\ud608\\uad00 \\uad00\\ub9ac \\ub93c\\ud574\", \"\\uc720\\ud1b5 \\uae30\\ud55c \\uae30\\ud55c \\ub109\\ub109\\ud558\\ub2e4 \\ud3ec\\uc7a5 \\uc0c1\\ud0dc \\ud3ec\\uc7a5 \\uae54\\ub054\\ud558\\ub2e4 \\uc88b\\ub2e4 \\ubc8c\\uc368 \\ub450\\ubc88\\uc9f8 \\uad6c\\uc785 \\uac00\\uc871 \\ubcf5\\uc6a9 \\ub6f0\\uc5b4\\ub098\\ub2e4 \\ub290\\ub07c\\ub2e4 \\ubbff\\ub2e4 \\ub2f9\\ubd84\\uac04 \\uafb8\\uc900\\ud558\\ub2e4 \\ubcf5\\uc6a9 \\uc54c\\uc57d \\uc0bc\\ud0a4\\ub2e4 \\ud3b8\\ud558\\ub2e4 \\ubd80\\ub4dc\\ub7fd\\ub2e4 \\ud544\\uc694\\ud558\\ub2e4 \\uc131\\ubd84 \\uc88b\\ub2e4 \\uc0c1\\uc138 \\uc0c1\\uc138\", \"\\uc720\\ud1b5 \\uae30\\ud55c \\uae30\\ud55c \\ub109\\ub109\\ud558\\ub2e4 \\ud3ec\\uc7a5 \\uc0c1\\ud0dc \\ud3ec\\uc7a5 \\uae54\\ub054\\ud558\\ub2e4 \\ud3ec\\uc7a5 \\ubc29\\ubc95 \\uc124\\uba85 \\ud6c4\\uae30 \\uc88b\\ub2e4 \\ub298\\ub2e4 \\uc8fc\\ubb38 \\ubcf5\\uc6a9 \\ud574\\ubcf4\\ub2e4 \\ub9ac\\ubdf0 \\uc218\\uc815 \\uc0c1\\uc138\", \"\\ubc30\\uc1a1 \\ube68\\ub974\\ub2e4 \\uc131\\ub2a5 \\uc131\\ub2a5 \\ub6f0\\uc5b4\\ub098\\ub2e4 \\uc720\\ud1b5 \\uae30\\ud55c \\uae30\\ud55c \\ub109\\ub109\\ud558\\ub2e4 \\uc544\\ub4e4 \\uc190\\ubc1c \\ucc28\\uac11\\ub2e4 \\ub2e4\\ud574 \\uc368\\ub2e4 \\uc548\\uc774 \\uc88b\\uc544\\ud558\\ub2e4 \\uc0bf\\uc5b4 \\uc88b\\ub2e4 \\uc88b\\ub2e4 \\uc0c1\\uc138\", \"\\ubc30\\uc1a1 \\uc131\\ub2a5 \\uc131\\ub2a5 \\ub6f0\\uc5b4\\ub098\\ub2e4 \\uc720\\ud1b5 \\uae30\\ud55c \\uae30\\ud55c \\ub109\\ub109\\ud558\\ub2e4 \\uc88b\\ub2e4\", \"\\ubc30\\uc1a1 \\ube68\\ub974\\ub2e4 \\uc720\\ud1b5 \\uae30\\ud55c \\uae30\\ud55c \\ub109\\ub109\\ud558\\ub2e4\", \"\\uac00\\uaca9 \\uad1c\\ucc2e\\ub2e4 \\ubc30\\uc1a1\", \"\\ubc30\\uc1a1 \\ube68\\ub974\\ub2e4 \\uc720\\ud1b5 \\uae30\\ud55c \\uc81c\\ud488 \\uc54c\\uc57d \\uc0ac\\uc774\\uc988 \\ucee4\\uc11c \\uba39\\uae30 \\ubd88\\ud3b8\\ud558\\ub2e4 \\uc81c\\ud488 \\uc801\\ub2f9\\ud558\\ub2e4 \\ub118\\ub2e4 \\uad1c\\ucc2e\\ub2e4 \\uc0c1\\uc138\", \"\\ud608\\uad00 \\uac74\\uac15 \\uc2a4\\ud2b8\\ub808\\uc2a4 \\uc644\\ud654 \\uc0ac\\ub2e4\", \"\\ubc30\\uc1a1 \\uc88b\\ub2e4 \\ud558\\ub2c8 \\uad1c\\ucc2e\\ub2e4 \\ub2e4\\uc2dc \\uc8fc\\ubb38 \\ud3ec\\uc7a5 \\uc0c1\\ud0dc \\uc88b\\ub2e4\", \"\\ubc30\\uc1a1 \\uc131\\ub2a5 \\uc131\\ub2a5 \\ub6f0\\uc5b4\\ub098\\ub2e4 \\uc720\\ud1b5 \\uae30\\ud55c \\ube44\\uc2f8\\ub2e4 \\ub5a8\\uc5b4\\uc9c0\\ub2e4 \\uae54\\ub2e4 \\uc0b4\\ub2e4 \\ubd80\\ub2f4\\uc2a4\\ub7fd\\ub2e4 \\uac00\\uaca9\", \"\\ubc30\\uc1a1 \\ube68\\ub974\\ub2e4 \\uc131\\ub2a5 \\uc131\\ub2a5 \\ub6f0\\uc5b4\\ub098\\ub2e4 \\uc720\\ud1b5 \\uae30\\ud55c \\uae30\\ud55c \\ub109\\ub109\\ud558\\ub2e4 \\uc88b\\ub2e4 \\ud568\\ub7c9 \\uc0c1\\uc138\", \"\\uac00\\uaca9 \\uad1c\\ucc2e\\ub2e4 \\ubc30\\uc1a1 \\ube68\\ub974\\ub2e4 \\uad6c\\uc785 \\uc18d\\ub3c4 \\ud3b8\\ud558\\ub2e4 \\uad1c\\ucc2e\\ub2e4 \\uc57d\\ud6a8\", \"\\ubc30\\uc1a1 \\ube68\\ub974\\ub2e4 \\uc131\\ub2a5 \\uc131\\ub2a5 \\ub6f0\\uc5b4\\ub098\\ub2e4 \\uc720\\ud1b5 \\uae30\\ud55c \\uae30\\ud55c \\ub109\\ub109\\ud558\\ub2e4 \\ub2e4\\uc2dc \\uc8fc\\ubb38 \\ubd80\\ub2f4\", \"\\ubc30\\uc1a1 \\ube68\\ub974\\ub2e4 \\uc131\\ub2a5 \\uc131\\ub2a5 \\ub6f0\\uc5b4\\ub098\\ub2e4 \\uc720\\ud1b5 \\uae30\\ud55c \\uae30\\ud55c \\ub109\\ub109\\ud558\\ub2e4 \\uc624\\uba54\\uac00 \\uac00\\uc131 \\ube44\\uc81c \\ud488\\ub2e4 \\uc785\\ud558 \\uc88b\\ub2e4 \\ud608\\uad00 \\uac74\\uac15 \\uc88b\\ub2e4 \\uc548\\uad6c\\uac74\\uc870\\uc99d \\ub3c4\\uc6c0 \\uafb8\\uc900\\ud558\\ub2e4 \\ud2b9\\ubcc4\\ud558\\ub2e4 \\uc88b\\uc544\\uc9c0\\ub2e4 \\uc54c\\ub2e4 \\uac74\\uac15\\uac80\\uc9c4 \\uacb0\\uacfc \\uc815\\uc0c1 \\uc218\\uce58 \\ubcf4\\uc544 \\uc0c1\\uc138\", \"\\ubc30\\uc1a1 \\ube68\\ub974\\ub2e4 \\uc131\\ub2a5 \\uc131\\ub2a5 \\ub6f0\\uc5b4\\ub098\\ub2e4 \\uc720\\ud1b5 \\uae30\\ud55c \\uae30\\ud55c \\ub109\\ub109\\ud558\\ub2e4 \\uac10\\uc0ac\\ud558\\ub2e4 \\uac10\\uc0ac\\ud558\\ub2e4\", \"\\ubc30\\uc1a1 \\ube68\\ub974\\ub2e4 \\uc131\\ub2a5 \\uc131\\ub2a5 \\ub6f0\\uc5b4\\ub098\\ub2e4 \\uc720\\ud1b5 \\uae30\\ud55c \\uae30\\ud55c \\ub109\\ub109\\ud558\\ub2e4 \\uc81c\\ud488 \\uac31\\ub144\\uae30 \\uc99d\\uc138 \\uc88b\\uc544\\uc9c0\\ub2e4\", \"\\ubc30\\uc1a1 \\ube68\\ub974\\ub2e4 \\uc720\\ud1b5 \\uae30\\ud55c \\uae30\\ud55c \\ub109\\ub109\\ud558\\ub2e4 \\ubc14\\uc058\\ub2e4 \\uc0c1\\uc18d \\uc88b\\ub2e4 \\uc800\\ub834\\ud558\\ub2e4 \\uc0ac\\ub2e4 \\uc88b\\ub2e4 \\ub2e4\\uc2dc \\uc62c\\ub9ac\\ub2e4\", \"\\ubc30\\uc1a1 \\ube68\\ub974\\ub2e4 \\uc131\\ub2a5 \\uc131\\ub2a5 \\ub6f0\\uc5b4\\ub098\\ub2e4 \\uc720\\ud1b5 \\uae30\\ud55c \\uae30\\ud55c \\ub109\\ub109\\ud558\\ub2e4 \\uad6c\\uc785 \\uc81c\\ud488 \\ub5a8\\uc5b4\\uc9c0\\ub2e4 \\uad6c\\uc785 \\uac31\\ub144\\uae30 \\ub3c4\\uc6c0 \\uc0c1\\uc138\", \"\\ubc30\\uc1a1 \\ube68\\ub974\\ub2e4 \\uc131\\ub2a5 \\uc131\\ub2a5 \\ub6f0\\uc5b4\\ub098\\ub2e4 \\uc720\\ud1b5 \\uae30\\ud55c \\uae30\\ud55c \\ub109\\ub109\\ud558\\ub2e4 \\ubbff\\ub2e4 \\uc624\\uba54\\uac00 \\uc8fc\\ubb38 \\uc0c1\\uc138\", \"\\ubc30\\uc1a1 \\ube68\\ub974\\ub2e4 \\uc131\\ub2a5 \\uc131\\ub2a5 \\ub6f0\\uc5b4\\ub098\\ub2e4 \\uc81c\\ud488 \\uad1c\\ucc2e\\ub2e4 \\uafb8\\uc900\\ud558\\ub2e4 \\uc787\\ub2e4 \\ub2e4\\ub974\\ub2e4 \\ubc14\\uafb8\\ub2e4 \\uc787\\ub2e4 \\uc0c1\\uc138\", \"\\uac00\\uaca9 \\uad1c\\ucc2e\\ub2e4 \\ubc30\\uc1a1 \\uc6cc\\ub099 \\uc88b\\ub2e4 \\ud558\\ub2c8 \\ubbff\\ub2e4\", \"\\ubc30\\uc1a1 \\ube68\\ub974\\ub2e4 \\uc131\\ub2a5 \\uc131\\ub2a5 \\ub6f0\\uc5b4\\ub098\\ub2e4 \\uc720\\ud1b5 \\uae30\\ud55c \\uae30\\ud55c \\ub109\\ub109\\ud558\\ub2e4 \\uc88b\\ub2e4 \\uc88b\\ub2e4 \\uc88b\\ub2e4\", \"\\ubc30\\uc1a1 \\ube68\\ub974\\ub2e4 \\uc131\\ub2a5 \\uc131\\ub2a5 \\ub6f0\\uc5b4\\ub098\\ub2e4 \\uc720\\ud1b5 \\uae30\\ud55c \\uae30\\ud55c \\ub109\\ub109\\ud558\\ub2e4 \\uc88b\\ub2e4\", \"\\ubc30\\uc1a1 \\ube68\\ub974\\ub2e4 \\uc131\\ub2a5 \\uc131\\ub2a5 \\ub6f0\\uc5b4\\ub098\\ub2e4 \\uc720\\ud1b5 \\uae30\\ud55c \\uae30\\ud55c \\ub109\\ub109\\ud558\\ub2e4\", \"\\uc720\\ud1b5 \\uae30\\ud55c \\uae30\\ud55c \\ub109\\ub109\\ud558\\ub2e4 \\ud3ec\\uc7a5 \\uc0c1\\ud0dc \\ud3ec\\uc7a5 \\uae54\\ub054\\ud558\\ub2e4 \\uc88b\\ub2e4\", \"\\ubc30\\uc1a1 \\uc131\\ub2a5 \\uc720\\ud1b5 \\uae30\\ud55c\", \"\\ubc30\\uc1a1 \\ube68\\ub974\\ub2e4\", \"\\ubc30\\uc1a1 \\uc131\\ub2a5 \\uc131\\ub2a5 \\ub6f0\\uc5b4\\ub098\\ub2e4 \\uc720\\ud1b5 \\uae30\\ud55c \\uae30\\ud55c \\ub109\\ub109\\ud558\\ub2e4\", \"\\uc720\\ud1b5 \\uae30\\ud55c \\ud3ec\\uc7a5 \\uc0c1\\ud0dc \\uc88b\\ub2e4 \\uc7ac\\ub2e4\", \"\\ubc30\\uc1a1 \\uc131\\ub2a5 \\uc131\\ub2a5 \\ub6f0\\uc5b4\\ub098\\ub2e4 \\uc720\\ud1b5 \\uae30\\ud55c \\uae30\\ud55c \\ub109\\ub109\\ud558\\ub2e4 \\ubbff\\ub2e4 \\uc81c\\ud488 \\uc774\\ub0b4 \\ub3c4\\uc6c0\", \"\\uc720\\ud1b5 \\uae30\\ud55c \\uae30\\ud55c \\ub109\\ub109\\ud558\\ub2e4 \\ud3ec\\uc7a5 \\uc0c1\\ud0dc \\ud3ec\\uc7a5 \\uae54\\ub054\\ud558\\ub2e4 \\uc88b\\ub2e4 \\uad6c\\ub9e4 \\ud574\\ubcf4\\ub2e4 \\ucc28\\uadfc\\ucc28\\uadfc \\uc54c\\ub2e4 \\uc131\\ubd84 \\uc88b\\ub2e4 \\uad6c\\ub9e4 \\uc624\\uba54\\uac00 \\ucf54\\uc5d4\\uc790\\uc784 \\uc5fd\\uc0b0 \\uc81c\\ud488 \\uad6c\\ub9e4 \\uad6c\\ub9e4 \\uba39\\uae30 \\uadc0\\ucc2e\\ub2e4 \\uac00\\uaca9 \\uc810\\ub3c4 \\ub2e4\\uc2dc \\uad6c\\ub9e4 \\uc0c1\\uc138\", \"\\uc720\\ud1b5 \\uae30\\ud55c \\uae30\\ud55c \\ub109\\ub109\\ud558\\ub2e4 \\ud3ec\\uc7a5 \\uc0c1\\ud0dc \\ud3ec\\uc7a5 \\uae54\\ub054\\ud558\\ub2e4 \\uc88b\\ub2e4 \\ucd08\\uae30 \\uc9c4\\uc785 \\ub2e8\\uacc4 \\uad6c\\uc785 \\uc0c1\\uc138\", \"\\ubc30\\uc1a1 \\ube68\\ub974\\ub2e4 \\uc131\\ub2a5 \\uc131\\ub2a5 \\ub6f0\\uc5b4\\ub098\\ub2e4 \\uc720\\ud1b5 \\uae30\\ud55c \\uae30\\ud55c \\ub109\\ub109\\ud558\\ub2e4 \\uafb8\\uc900\\ud558\\ub2e4 \\ubcf5\\uc6a9 \\ud574\\ubcf4\\ub2e4 \\uac00\\uaca9 \\uc800\\ub834\", \"\\ubc30\\uc1a1 \\uc131\\ub2a5 \\uc131\\ub2a5 \\ub6f0\\uc5b4\\ub098\\ub2e4 \\uc720\\ud1b5 \\uae30\\ud55c\", \"\\ubc30\\uc1a1 \\ube68\\ub974\\ub2e4 \\ub9db\\uc788\\ub2e4 \\uc720\\ud1b5 \\uae30\\ud55c \\uae30\\ud55c \\ub109\\ub109\\ud558\\ub2e4\", \"\\ubc30\\uc1a1 \\ube68\\ub974\\ub2e4 \\uc131\\ub2a5 \\uc131\\ub2a5 \\ub6f0\\uc5b4\\ub098\\ub2e4 \\uc720\\ud1b5 \\uae30\\ud55c \\uae30\\ud55c \\ub109\\ub109\\ud558\\ub2e4 \\ub9cc\\uc871\\ud558\\ub2e4\", \"\\ubc30\\uc1a1 \\ube68\\ub974\\ub2e4 \\uc131\\ub2a5 \\uc131\\ub2a5 \\ub6f0\\uc5b4\\ub098\\ub2e4 \\uc720\\ud1b5 \\uae30\\ud55c \\uae30\\ud55c \\ub109\\ub109\\ud558\\ub2e4 \\uc81c\\ud488 \\ub5a8\\uc5b4\\uc9c0\\ub2e4 \\uad6c\\uc785 \\uc0c1\\uc138\", \"\\ubc30\\uc1a1 \\ube68\\ub974\\ub2e4 \\uc88b\\ub2e4\", \"\\uac00\\uaca9 \\uc2f8\\ub2e4 \\uc0ac\\ub2e4 \\ubc30\\uc1a1\", \"\\ubc30\\uc1a1 \\ube68\\ub974\\ub2e4 \\uc131\\ub2a5 \\uc131\\ub2a5 \\ub6f0\\uc5b4\\ub098\\ub2e4 \\uc720\\ud1b5 \\uae30\\ud55c \\uae30\\ud55c \\ub109\\ub109\\ud558\\ub2e4 \\uc88b\\ub2e4 \\uc81c\\ud488 \\uc800\\ub834\\ud558\\ub2e4 \\uc0ac\\ub2e4\", \"\\ubc30\\uc1a1 \\uc131\\ub2a5 \\uc131\\ub2a5 \\ub6f0\\uc5b4\\ub098\\ub2e4 \\uc720\\ud1b5 \\uae30\\ud55c \\uafb8\\uc900\\ud558\\ub2e4 \\uc88b\\uc544\\uc9c0\\ub2e4 \\uccb4\\uac10 \\uac74\\uac15\\uac80\\uc9c4 \\ucf5c\\ub808\\uc2a4\\ud14c\\ub864 \\uc218\\uce58\\ubcf4 \\uc54c\\ub2e4 \\uafb8\\uc900\\ud558\\ub2e4 \\ubcf5\\uc6a9\", \"\\ubc30\\uc1a1 \\ube68\\ub974\\ub2e4 \\uc131\\ub2a5 \\uc131\\ub2a5 \\ub6f0\\uc5b4\\ub098\\ub2e4 \\uc720\\ud1b5 \\uae30\\ud55c \\uae30\\ud55c \\ub109\\ub109\\ud558\\ub2e4 \\ub450\\ubc88\\uc9f8 \\uad6c\\ub9e4 \\uc815\\ub9d0 \\uc88b\\ub2e4 \\uc0c1\\uc138\", \"\\ubc30\\uc1a1 \\ube68\\ub974\\ub2e4 \\uc131\\ub2a5 \\uc131\\ub2a5 \\ub6f0\\uc5b4\\ub098\\ub2e4 \\uc720\\ud1b5 \\uae30\\ud55c \\uae30\\ud55c \\ub109\\ub109\\ud558\\ub2e4 \\uc624\\uba54\\uac00 \\uc88b\\ub2e4 \\uad6c\\ub9e4 \\ubcf5\\uc6a9 \\ud3b8\\ud558\\ub2e4 5\\uc77c \\ubcf4\\uad6c \\ud638\\uacfc\\uc788\\uc2b4 \\uafb8\\uc900\\ud558\\ub2e4\", \"\\uc720\\ud1b5 \\uae30\\ud55c \\uae30\\ud55c \\ub109\\ub109\\ud558\\ub2e4 \\ud3ec\\uc7a5 \\uc0c1\\ud0dc \\ud3ec\\uc7a5 \\uae54\\ub054\\ud558\\ub2e4 \\ubcf5\\ubd80\\ube44\\ub9cc \\uad6c\\ub9e4 \\ud608\\uc911 \\ucf5c\\ub808\\uc2a4\\ud14c\\ub864 \\uac1c\\uc120 \\ub3c4\\uc6c0 \\uac10\\ub9c8 \\ub9ac\\ub180\\ub80c\\uc0b0 300 \\ubc00\\ub9ac\\uadf8\\ub7a8 \\uad6c\\ub9e4 \\uba74\\uc5ed \\uacfc\\ubbfc\\ubc18\\uc751 \\uc758\\ud558\\ub2e4 \\ud53c\\ubd80 \\uc0c1\\ud0dc \\uac1c\\uc120 \\ub3c4\\uc6c0 \\uc791\\ub2e4 \\uc2b5\\uc9c4 \\uc778\\ud558\\ub2e4 \\uac00\\ub824\\uc6c0\\uc99d \\ub3c4\\uc6c0 \\ub3fc\\ub2e4 \\uc88b\\ub2e4 \\ubcc4\\ub85c \\uc88b\\uc544\\ud558\\ub2e4 \\ube0c\\ub9ac \\ubcf4\\ub77c \\uc624\\uc77c \\uc0c1\\uc138\", \"\\ub808\\uc2dc\\ud2f4 \\uafb8\\uc900\\ud558\\ub2e4 \\ud3b8\\uc774 \\uad6c\\ub9e4 \\uc591\\uc81c \\uc544\\ub2c8\\ub2e4 \\uac04\\uc2dd \\uc88b\\ub2e4 \\uc0c1\\uc138\", \"\\uc2e0\\ub791 \\uc88b\\ub2e4\", \"\\ubc30\\uc1a1 \\uc131\\ub2a5 \\uc131\\ub2a5 \\ub6f0\\uc5b4\\ub098\\ub2e4 \\uc720\\ud1b5 \\uae30\\ud55c \\uae30\\ud55c \\ub109\\ub109\\ud558\\ub2e4 \\ud6a8\\ub2a5 \\uc88b\\ub2e4 \\uc12d\\ucde8 \\uc54c\\ub2e4\", \"\\ubc30\\uc1a1 \\uc131\\ub2a5 \\uc131\\ub2a5 \\ub6f0\\uc5b4\\ub098\\ub2e4 \\uc720\\ud1b5 \\uae30\\ud55c \\uae30\\ud55c \\ub109\\ub109\\ud558\\ub2e4 \\uc81c\\ud488 \\uad6c\\uc785 \\uc81c\\ud488 \\ub9de\\ub2e4 \\ub2e4\\uc2dc \\uad6c\\ub9e4 \\uc138\\ubc88 \\uad6c\\ub9e4 \\uafb8\\uc900\\ud558\\ub2e4 \\uc81c\\ud488 \\uad6c\\uc785 \\uc0c1\\uc138\", \"\\uc12d\\ucde8 \\uc2a4\\ud47c \\ud544\\uc694\\ud558\\ub2e4 \\uc88b\\ub2e4 \\uc0c1\\uc138\", \"\\ubc30\\uc1a1 \\ube68\\ub974\\ub2e4 \\uc131\\ub2a5 \\uc720\\ud1b5 \\uae30\\ud55c \\uae30\\ud55c \\ub109\\ub109\\ud558\\ub2e4 \\uad6c\\ub9e4 \\uc88b\\ub2e4 \\uc0c1\\uc138\", \"\\ubc30\\uc1a1 \\ube68\\ub974\\ub2e4 \\uc131\\ub2a5 \\uc131\\ub2a5 \\ub6f0\\uc5b4\\ub098\\ub2e4 \\uc720\\ud1b5 \\uae30\\ud55c \\uae30\\ud55c \\ub109\\ub109\\ud558\\ub2e4 \\uc720\\ud6a8 \\uae30\\uac04 2023.3 11 \\uad6c\\ub9e4 \\ubcf4\\ub77c \\uc624\\uc77c \\uc0dd\\ub9ac \\ubd89\\ub2e4 \\uc740\\uc0c9 \\ud1b5\\uc815 \\ubc1d\\ub2e4 \\uc740\\uc0c9 \\ubc14\\ub00c\\ub2e4 \\uc6b4\\ub3d9 \\ubcd1\\ud589 \\ud55c\\ubaab \\uaca0\\ub2e4 \\ubcc0\\ud654 \\ub2e4\\uc2dc \\uad6c\\ub9e4 \\ub3fc\\ub2e4 \\ud06c\\ub2e4 \\uac78\\ub9ac\\ub2e4 \\uc870\\uc2ec\\ud558\\ub2e4 \\ub2eb\\ub2e4 \\uc0c1\\uc138\", \"\\ubc30\\uc1a1 \\uc131\\ub2a5 \\uc131\\ub2a5 \\ub6f0\\uc5b4\\ub098\\ub2e4 \\uc720\\ud1b5 \\uae30\\ud55c \\uae30\\ud55c \\ub109\\ub109\\ud558\\ub2e4 \\uc88b\\ub2e4 \\ubbff\\ub2e4\", \"\\uc88b\\ub2e4 \\ubc30\\uc1a1 \\ube60\\ub974\\ub2e4\", \"\\ubc30\\uc1a1 \\ube68\\ub974\\ub2e4 \\uc131\\ub2a5 \\uc131\\ub2a5 \\ub6f0\\uc5b4\\ub098\\ub2e4 \\uc720\\ud1b5 \\uae30\\ud55c \\uae30\\ud55c \\ub109\\ub109\\ud558\\ub2e4 \\uac31\\ub144\\uae30 \\ubcf4\\uc870 \\uc2dd\\ud488 \\uc12d\\ucde8 \\ub118\\ub2e4 \\ub118\\ub2e4 \\uc88b\\ub2e4\", \"\\ube60\\ub974\\ub2e4 \\uc88b\\ub2e4\", \"\\ubc30\\uc1a1 \\ube68\\ub974\\ub2e4 \\uc131\\ub2a5 \\uc131\\ub2a5 \\ub6f0\\uc5b4\\ub098\\ub2e4 \\uc720\\ud1b5 \\uae30\\ud55c \\uae30\\ud55c \\ub109\\ub109\\ud558\\ub2e4 \\uc88b\\ub2e4 \\uc81c\\ud488 \\uc800\\ub834\\ud558\\ub2e4 \\uac10\\uc0ac\", \"\\ubc30\\uc1a1 \\ube68\\ub974\\ub2e4 \\uc131\\ub2a5 \\uc131\\ub2a5 \\ub6f0\\uc5b4\\ub098\\ub2e4 \\uc720\\ud1b5 \\uae30\\ud55c \\uae30\\ud55c \\ub109\\ub109\\ud558\\ub2e4 \\uc0c1\\uc138\", \"\\uac00\\uaca9 \\uad1c\\ucc2e\\ub2e4 \\ubc30\\uc1a1 \\ube68\\ub974\\ub2e4\", \"\\uac00\\uaca9 \\uc2f8\\ub2e4 \\uc0ac\\ub2e4 \\ubc30\\uc1a1 \\ube68\\ub974\\ub2e4\", \"\\uc720\\ud1b5 \\uae30\\ud55c \\uae30\\ud55c \\ub109\\ub109\\ud558\\ub2e4 \\ud3ec\\uc7a5 \\uc0c1\\ud0dc \\ud3ec\\uc7a5 \\uae54\\ub054\\ud558\\ub2e4\", \"\\ubc30\\uc1a1 \\ube68\\ub974\\ub2e4 \\uc131\\ub2a5 \\uc720\\ud1b5 \\uae30\\ud55c \\uae30\\ud55c \\ub109\\ub109\\ud558\\ub2e4\", \"\\uac00\\uaca9 \\uad1c\\ucc2e\\ub2e4 \\ubc30\\uc1a1 \\uc88b\\ub2e4\", \"\\uc131\\ub2a5 \\uc131\\ub2a5 \\ub6f0\\uc5b4\\ub098\\ub2e4\", \"\\uac00\\uaca9 \\uad1c\\ucc2e\\ub2e4 \\ubc30\\uc1a1 \\uafb8\\uc900\\ud558\\ub2e4\", \"\\ubaa8\\ub974\\ub2e4 \\uafb8\\uc900\\ud558\\ub2e4\", \"\\ubd88\\ud3b8\\ud558\\ub2e4\", \"\\uc720\\ud1b5 \\uae30\\ud55c \\uae30\\ud55c \\ub109\\ub109\\ud558\\ub2e4 \\ud3ec\\uc7a5 \\uc0c1\\ud0dc \\ud3ec\\uc7a5 \\uae54\\ub054\\ud558\\ub2e4 \\uc88b\\ub2e4 \\uad6c\\ub9e4 \\ubc30\\uc1a1 \\uc608\\uc815\\uc77c \\uc81c\\uc870 2\\uc6d4 \\uc720\\ud1b5 \\uae30\\ud55c \\uae30\\ub2e4 \\uc88b\\ub2e4 \\uc0c1\\uc138 \\uc0c1\\uc138\", \"\\ubc30\\uc1a1 \\ube68\\ub974\\ub2e4 \\uc131\\ub2a5 \\uc131\\ub2a5 \\ub6f0\\uc5b4\\ub098\\ub2e4 \\uc720\\ud1b5 \\uae30\\ud55c \\uae30\\ud55c \\ub109\\ub109\\ud558\\ub2e4 \\uad6c\\ub9e4 \\uad6c\\ub9e4\", \"\\ubc30\\uc1a1 \\ube68\\ub974\\ub2e4 \\uc720\\ud1b5 \\uae30\\ud55c \\uae30\\ud55c \\ub109\\ub109\\ud558\\ub2e4 \\uccb4\\ud5d8 \\uc804\\uc774 \\ub290\\ub07c\\ub2e4 \\uc7ac\\ub2e4\", \"\\ubc30\\uc1a1 \\ube68\\ub974\\ub2e4 \\uc131\\ub2a5 \\uc131\\ub2a5 \\ub6f0\\uc5b4\\ub098\\ub2e4 \\uc720\\ud1b5 \\uae30\\ud55c \\uae30\\ud55c \\ub109\\ub109\\ud558\\ub2e4 \\ud608\\uc561 \\uac80\\uc0ac \\ub2e8\\uacc4 \\uc544\\ub2c8\\ub2e4 \\uad00\\ub9ac \\uac80\\uc0c9 \\uc8fc\\ubb38 \\ud06c\\uae30 \\ucee4\\uc11c \\uba38\\uae30 \\ubd88\\ud3b8\\ud558\\ub2e4 \\uafb8\\uc900\\ud558\\ub2e4 \\ub2e4\\uc2dc \\ud608\\uac80 \\ucf5c\\ub808\\uc2a4\\ud14c\\ub864 \\uc218\\uce58 \\uc218\\uce58 30 \\ub5a8\\uc5b4\\uc9c0\\ub2e4 \\uc7ac\\ub2e4 \\uc0c1\\uc138\", \"\\uc720\\ud1b5 \\uae30\\ud55c \\uae30\\ud55c \\ub109\\ub109\\ud558\\ub2e4 \\ud3ec\\uc7a5 \\uc0c1\\ud0dc \\ud3ec\\uc7a5 \\uae54\\ub054\\ud558\\ub2e4 \\uc9c0\\uc778 \\uba3c\\uc800 \\ucd94\\ucc9c \\uad6c\\ub9e4 \\uc2e0\\ub791 \\uc800\\ub141 \\ud3ec\\uc7a5 \\uae54\\ub054\\ud558\\ub2e4 \\ube60\\ub974\\ub2e4 \\ubc30\\uc1a1 \\uc88b\\ub2e4 \\uafb8\\uc900\\ud558\\ub2e4 \\uad6c\\ub9e4 \\uc0c1\\uc138\", \"\\ubc30\\uc1a1 \\ube68\\ub974\\ub2e4 \\uc131\\ub2a5 \\uc131\\ub2a5 \\ub6f0\\uc5b4\\ub098\\ub2e4 \\uc720\\ud1b5 \\uae30\\ud55c \\uae30\\ud55c \\ub109\\ub109\\ud558\\ub2e4 60 \\uace0\\ud608\\uc555 \\ub0a8\\ud3b8 \\uafb8\\uc900\\ud558\\ub2e4 \\uc88b\\ub2e4 \\uac00\\uaca9 \\uad6c\\ub9e4 \\ubd80\\ub2f4 \\uc904\\uc5b4\\ub4e4\\ub2e4 \\uc88b\\ub2e4 \\ud655\\uc2e4\\ud558\\ub2e4 \\ud608\\ud589 \\uac1c\\uc120 \\ub3c4\\uc6c0 \\uc720\\ud1b5 \\uae30\\ud55c 24\\ub144 3\\uc6d4 20\\uc77c \\ub109\\ub109\\ud558\\ub2e4 \\uc81c\\ud488 \\ube60\\ub974\\ub2e4 \\ubcf4\\ub0b4\\ub2e4 \\uac10\\uc0ac\\ud558\\ub2e4 \\uc0c1\\uc138 \\uc0c1\\uc138 \\uc0c1\\uc138\", \"\\ubc30\\uc1a1 \\ube68\\ub974\\ub2e4 \\uc131\\ub2a5 \\uc131\\ub2a5 \\ub6f0\\uc5b4\\ub098\\ub2e4 \\uc720\\ud1b5 \\uae30\\ud55c \\uae30\\ud55c \\ub109\\ub109\\ud558\\ub2e4 \\uc778\\ud130\\ub137 \\ube14\\ub85c\\uadf8 \\uc62c\\ub77c\\uc624\\ub2e4 \\ubcf4\\uad6c \\uad6c\\ub9e4 \\uc54c\\ub2e4 \\uc0c1\\uc138\", \"\\ubc30\\uc1a1 \\ube68\\ub974\\ub2e4 \\uc131\\ub2a5 \\uc131\\ub2a5 \\ub6f0\\uc5b4\\ub098\\ub2e4 \\uc720\\ud1b5 \\uae30\\ud55c \\uae30\\ud55c \\ub109\\ub109\\ud558\\ub2e4 \\ubd80\\ubaa8\\ub2d8 \\ub4dc\\ub9ac\\ub2e4 \\ud544\\uc694 \\uad6c\\uc131 \\uc88b\\ub2e4\", \"\\ubc30\\uc1a1 \\ube68\\ub974\\ub2e4 \\uc131\\ub2a5 \\uc131\\ub2a5 \\ub6f0\\uc5b4\\ub098\\ub2e4 \\uc720\\ud1b5 \\uae30\\ud55c \\uae30\\ud55c \\ub109\\ub109\\ud558\\ub2e4 \\uad6c\\ub9e4 \\uac00\\ubfd0\\ud558\\ub2e4 \\ub118\\uce58\\ub2e4 \\uc801\\uadf9 \\uc7a5\\ud558\\ub2e4 \\uc88b\\ub2e4 \\ud608\\ud589 \\uac1c\\uc120 \\ud1a1\\ud1a1\\ud558\\ub2e4 \\uc0c1\\uc138 \\uc0c1\\uc138 \\uc0c1\\uc138 \\uc0c1\\uc138\", \"\\ubc30\\uc1a1 \\ube68\\ub974\\ub2e4 \\ub9db\\uc788\\ub2e4 \\uc720\\ud1b5 \\uae30\\ud55c \\uae30\\ud55c \\ub109\\ub109\\ud558\\ub2e4 \\uc88b\\ub2e4\", \"\\ubc30\\uc1a1 \\ube68\\ub974\\ub2e4 \\uc131\\ub2a5 \\uc131\\ub2a5 \\ub6f0\\uc5b4\\ub098\\ub2e4 \\uc720\\ud1b5 \\uae30\\ud55c \\uae30\\ud55c \\ub109\\ub109\\ud558\\ub2e4 \\ube60\\ub974\\ub2e4 \\ubc30\\uc1a1 \\uac10\\uc0ac\\ud558\\ub2e4\", \"\\uc88b\\ub2e4 \\uc0c1\\uc138\", \"\\ube60\\ub974\\ub2e4 \\ubc30\\uc1a1 \\uac10\\uc0ac\\ud558\\ub2e4 \\ube60\\ub974\\ub2e4 \\ubc30\\uc1a1 \\uac10\\uc0ac\\ud558\\ub2e4 \\uc0c1\\uc138\", \"\\ubc30\\uc1a1 \\ube68\\ub974\\ub2e4 \\uc131\\ub2a5 \\uc131\\ub2a5 \\ub6f0\\uc5b4\\ub098\\ub2e4 \\uc720\\ud1b5 \\uae30\\ud55c \\uae30\\ud55c \\ub109\\ub109\\ud558\\ub2e4 \\ub9c8\\ub974\\ub2e4 \\uccb4\\ud615 \\ubd88\\uad6c \\ucf5c\\ub808\\uc2a4\\ud14c\\ub864 \\uc218\\uce58 170 \\ub098\\ud558 \\uac80\\uc0c9 \\ucc3e\\uc544\\ub0b4\\ub2e4 \\uc624\\uba54\\uac00 \\uc2dd\\ub2e8 \\uc6b4\\ub3d9 \\ubcd1\\ud589 \\uafb8\\uc900\\ud558\\ub2e4 90 \\ub300\\ub2e4 \\ub0b4\\ub824\\uc624\\ub2e4 \\uc591\\uc81c \\ub3c4\\uc6c0 \\uad6c\\ub9e4 \\uc131\\ubd84 \\uc88b\\ub2e4 \\uc798\\ub9de\\ub2e4 \\uc624\\uba54\\uac00 \\ud560\\uc778 \\ud574\\uc8fc\\ub2e4 \\uc88b\\ub2e4 \\ub2eb\\ub2e4 \\uc0c1\\uc138\", \"\\ubc30\\uc1a1 \\uc131\\ub2a5 \\uc131\\ub2a5 \\ub6f0\\uc5b4\\ub098\\ub2e4 \\uc720\\ud1b5 \\uae30\\ud55c \\uae30\\ud55c \\ub109\\ub109\\ud558\\ub2e4 \\ud56d\\uc0c1 \\uc88b\\ub2e4\", \"\\ubc30\\uc1a1 \\ube68\\ub974\\ub2e4 \\uc131\\ub2a5 \\uc131\\ub2a5 \\ub6f0\\uc5b4\\ub098\\ub2e4 \\uc720\\ud1b5 \\uae30\\ud55c \\uae30\\ud55c \\ub109\\ub109\\ud558\\ub2e4 \\ub2e4\\ub974\\ub2e4 \\ubcd1\\uc6d0 \\uc120\\uc0dd\\ub2d8 \\ucd94\\ucc9c \\ud574\\uc8fc\\ub2e4 \\uc9f8\\ub2e4 \\uc88b\\ub2e4 \\uc7ac\\ub2e4 \\uc787\\ub2e4 \\uc74d\\ub2c8\", \"\\ubc30\\uc1a1 \\ube68\\ub974\\ub2e4 \\uc131\\ub2a5 \\uc131\\ub2a5 \\ub6f0\\uc5b4\\ub098\\ub2e4 \\uc720\\ud1b5 \\uae30\\ud55c \\uae30\\ud55c \\ub109\\ub109\\ud558\\ub2e4 \\uc138\\ubc88 \\uad6c\\ub9e4 \\uc88b\\ub2e4 \\uc0c1\\uc138\", \"\\uac00\\uaca9 \\uad1c\\ucc2e\\ub2e4 \\ubc30\\uc1a1 \\ubcf5\\uc6a9\", \"\\ubc30\\uc1a1 \\ube68\\ub974\\ub2e4 \\uc131\\ub2a5 \\uc720\\ud1b5 \\uae30\\ud55c \\uae30\\ud55c \\ub109\\ub109\\ud558\\ub2e4 \\ucee4\\uc11c \\ub118\\uae40 \\ubd88\\ud3b8\\ud558\\ub2e4 \\uac71\\uc815 \\uac71\\uc815 \\uc0c1\\uc138 \\uc0c1\\uc138\", \"\\uac00\\uaca9 \\uad1c\\ucc2e\\ub2e4 \\ubc30\\uc1a1 \\ube68\\ub974\\ub2e4 \\ub450\\ubc88\\uc9f8\", \"\\ub9cc\\uc871\\ud558\\ub2e4 \\uc8fc\\ubcc0 \\uc9c0\\uc778 \\uc18c\\uac1c \\ub2ec\\ub9de\\uc774\\uaf43 \\uc790\\uc720 \\uad6c\\ub9e4 \\uc88b\\ub2e4 \\uc88b\\ub2e4\", \"\\ubc30\\uc1a1 \\ube68\\ub974\\ub2e4 \\uc131\\ub2a5 \\uc131\\ub2a5 \\ub6f0\\uc5b4\\ub098\\ub2e4 \\uc720\\ud1b5 \\uae30\\ud55c \\uae30\\ud55c \\ub109\\ub109\\ud558\\ub2e4 10\\uc77c \\ubcf5\\uc6a9 \\uafb8\\uc900\\ud558\\ub2e4 \\uc0dd\\uae30\\ub2e4 \\uc0c1\\uc138\", \"\\uc54c\\ub2e4 \\ub123\\ub2e4 \\ube44\\ud0c0\\ubbfc \\uc2e0\\ub791 \\ube8f\\ub2e4 \\uc787\\ub2e4 \\ub9c8\\uad6c\", \"\\ubc30\\uc1a1 \\uc131\\ub2a5 \\uc720\\ud1b5 \\uae30\\ud55c \\uafb8\\uc900\\ud558\\ub2e4 \\uc0c1\\uc138\", \"\\ubc30\\uc1a1 \\ube68\\ub974\\ub2e4 \\uc131\\ub2a5 \\uc131\\ub2a5 \\ub6f0\\uc5b4\\ub098\\ub2e4 \\uc720\\ud1b5 \\uae30\\ud55c \\uae30\\ud55c \\ub109\\ub109\\ud558\\ub2e4 \\uc0c1\\ud488 \\ud3c9\\uc774 \\uc88b\\ub2e4 \\uad6c\\ub9e4 \\uc0c1\\uc138\", \"\\ubc30\\uc1a1 \\ube68\\ub974\\ub2e4 \\uc131\\ub2a5 \\uc131\\ub2a5 \\ub6f0\\uc5b4\\ub098\\ub2e4 \\uc720\\ud1b5 \\uae30\\ud55c \\uae30\\ud55c \\ub109\\ub109\\ud558\\ub2e4 \\uac31\\ub144\\uae30 \\ub3c4\\uc6c0 \\ub3fc\\ub2e4 \\uafb8\\uc900\\ud558\\ub2e4 \\ubcf5\\uc6a9 \\uc720\\ud1b5 \\uae30\\ud55c \\ub109\\ub109\\ud558\\ub2e4 \\ubc30\\uc1a1 \\ube68\\ub974\\ub2e4 \\uc88b\\ub2e4 \\uc0c1\\uc138\", \"\\ubc30\\uc1a1 \\ube68\\ub974\\ub2e4 \\ub9db\\uc788\\ub2e4 \\uc720\\ud1b5 \\uae30\\ud55c \\uae30\\ud55c \\ub109\\ub109\\ud558\\ub2e4 \\ud2b8\\ub9ac \\uac10\\ub9c8 \\ub9ac\\ub180\\ub80c\\uc0b0 \\ubcf4\\ub77c \\uc624\\uc77c \\ub2ec\\ub9de\\uc774\\uaf43 \\uc790\\uc720 \\uc635\\uc158 \\uc81c\\ud488 \\uc120\\ud0dd \\ud2b8\\ub9ac \\uac10\\ub9c8 \\ub9ac\\ub180\\ub80c\\uc0b0 \\uc624\\uba54\\uac00 \\ud608\\uc561 \\uc21c\\ud658 \\uc801\\ub9bd \\ud61c\\ud0dd \\ud3ec\\ud1a0 \\ub9ac\\ubdf0 \\uc791\\uc131 \\uce90\\uc26c\\ubc31 30 \\ucd94\\uac00 \\uc801\\ub9bd \\uce90\\uc26c\\ubc31 \\uc801\\ub9bd \\uae30\\uc900 \\ud655\\uc778\", \"\\uac00\\uaca9 \\uc2f8\\ub2e4 \\uc0ac\\ub2e4 \\ubc30\\uc1a1 \\ube68\\ub974\\ub2e4 \\ud53c\\ubd80 \\uc88b\\ub2e4 \\uc2a4\\ud47c \\ub728\\ub2e4 \\uc624\\uc77c \\ube44\\uc704 \\uc0c1\\ud574 \\ucea1\\uc290 \\uba39\\uae30 \\ud3b8\\ud558\\ub2e4\", \"\\ubc30\\uc1a1 \\uc131\\ub2a5 \\uc131\\ub2a5 \\ub6f0\\uc5b4\\ub098\\ub2e4 \\uc720\\ud1b5 \\uae30\\ud55c\", \"\\ubc30\\uc1a1 \\uc131\\ub2a5 \\uc720\\ud1b5 \\uae30\\ud55c\", \"\\ubc30\\uc1a1 \\ube68\\ub974\\ub2e4 \\uc131\\ub2a5 \\uc131\\ub2a5 \\ub6f0\\uc5b4\\ub098\\ub2e4 \\uc720\\ud1b5 \\uae30\\ud55c \\uae30\\ud55c \\ub109\\ub109\\ud558\\ub2e4\", \"\\uac00\\uaca9 \\uc2f8\\ub2e4 \\uc0ac\\ub2e4 \\ubc30\\uc1a1 \\ube68\\ub974\\ub2e4\", \"\\uc88b\\ub2e4\", \"\\ubc30\\uc1a1 \\ube68\\ub974\\ub2e4 \\uc131\\ub2a5 \\uc131\\ub2a5 \\ub6f0\\uc5b4\\ub098\\ub2e4 \\uc720\\ud1b5 \\uae30\\ud55c \\uae30\\ud55c \\ub109\\ub109\\ud558\\ub2e4 \\ud3ec\\uc7a5 \\ud2bc\\ud2bc\\ud558\\ub2e4 \\ud574\\uc8fc\\ub2e4 \\uc0c1\\uc138\", \"\\uc720\\ud1b5 \\uae30\\ud55c \\uae30\\ud55c \\ub109\\ub109\\ud558\\ub2e4 \\ud3ec\\uc7a5 \\uc0c1\\ud0dc \\ud3ec\\uc7a5 \\uae54\\ub054\\ud558\\ub2e4 \\uc88b\\ub2e4 \\uc7a5\\uae30 \\ubcf5\\uc6a9 \\ud608\\uc555 \\uc870\\uc808\", \"\\ubc30\\uc1a1 \\ube68\\ub974\\ub2e4 \\uc131\\ub2a5 \\uc131\\ub2a5 \\ub6f0\\uc5b4\\ub098\\ub2e4 \\uc720\\ud1b5 \\uae30\\ud55c \\uae30\\ud55c \\ub109\\ub109\\ud558\\ub2e4 \\uc190\\ubc1c \\uc800\\ub9bc \\uafb8\\uc900\\ud558\\ub2e4 \\uad1c\\ucc2e\\ub2e4 \\uc7ac\\ub2e4\", \"\\ubc30\\uc1a1 \\ube68\\ub974\\ub2e4 \\uc131\\ub2a5 \\uc131\\ub2a5 \\ub6f0\\uc5b4\\ub098\\ub2e4 \\uc720\\ud1b5 \\uae30\\ud55c \\uae30\\ud55c \\ub109\\ub109\\ud558\\ub2e4 \\uc88b\\ub2e4\", \"\\ubc30\\uc1a1 \\ube68\\ub974\\ub2e4 \\uc131\\ub2a5 \\uc131\\ub2a5 \\ub6f0\\uc5b4\\ub098\\ub2e4 \\uc720\\ud1b5 \\uae30\\ud55c \\uae30\\ud55c \\ub109\\ub109\\ud558\\ub2e4 \\uad6c\\uc785 \\uc81c\\ud488 \\uac31\\ub144\\uae30 \\ub3c4\\uc6c0 \\uc0c1\\uc138\", \"\\ub298\\ub2e4 \\ub354\\ub514\\ub2e4 \\ubc09\\ub2e4 \\uc11c\\ub2e4 \\ub298\\ub2e4 \\ub354\\ub514\\ub2e4 \\ubc09\\ub2e4 \\uc11c\\ub2e4 \\ub298\\ub2e4 \\ub354\\ub514\\ub2e4 \\ubc09\\ub2e4 \\uc11c\\ub2e4\", \"\\ubc30\\uc1a1 \\ube68\\ub974\\ub2e4 \\uc131\\ub2a5 \\uc131\\ub2a5 \\ub6f0\\uc5b4\\ub098\\ub2e4 \\uc720\\ud1b5 \\uae30\\ud55c \\uae30\\ud55c \\ub109\\ub109\\ud558\\ub2e4 \\uc0c1\\uc138 \\uc0c1\\uc138\", \"\\ubc30\\uc1a1 \\ube68\\ub974\\ub2e4 \\uc720\\ud1b5 \\uae30\\ud55c\", \"\\ubc30\\uc1a1 \\ube68\\ub974\\ub2e4 \\uc131\\ub2a5 \\uc131\\ub2a5 \\ub6f0\\uc5b4\\ub098\\ub2e4\", \"\\uac00\\uaca9 \\uad1c\\ucc2e\\ub2e4 \\ubc30\\uc1a1 \\ube68\\ub974\\ub2e4 \\uc88b\\ub2e4 \\uc4f8\\ub2e4\", \"\\ubc30\\uc1a1 \\ube68\\ub974\\ub2e4 \\uc131\\ub2a5 \\uc131\\ub2a5 \\ub6f0\\uc5b4\\ub098\\ub2e4 \\uc720\\ud1b5 \\uae30\\ud55c \\uae30\\ud55c \\ub109\\ub109\\ud558\\ub2e4 \\uc2dd\\ubb3c\\uc131 \\uad6c\\ub9e4 \\uc88b\\ub2e4 \\ubbff\\ub2e4 \\uc0c1\\uc138\", \"\\ubc30\\uc1a1 \\ube68\\ub974\\ub2e4 \\uc720\\ud1b5 \\uae30\\ud55c 3\\uc77c \\uae30\\ubd84 \\uc88b\\ub2e4 \\uc9c0\\ub2e4 \\uc0c1\\uc138\", \"\\uc81c\\ud488 \\uc790\\uc8fc \\uad6c\\ub9e4 \\ubc30\\uc1a1 \\ube60\\ub974\\ub2e4 4\\uc6d4 4\\uc77c 7\\uc77c \\uc7ac\\ub2e4\", \"\\ubc30\\uc1a1 \\ube68\\ub974\\ub2e4 \\uc131\\ub2a5 \\uc131\\ub2a5 \\ub6f0\\uc5b4\\ub098\\ub2e4 \\uc720\\ud1b5 \\uae30\\ud55c \\uae30\\ud55c \\ub109\\ub109\\ud558\\ub2e4 \\ubc30\\uc1a1 \\ube60\\ub974\\ub2e4 \\ubcf5\\uc6a9 \\uc81c\\ud488 \\ud6c4\\uae30 \\uc88b\\ub2e4 \\uad6c\\ub9e4 \\ud574\\ubd24\\ub2e4 \\ub300\\uac00 \\ud608\\uc561 \\uc21c\\ud658 \\ub300\\uac00 \\uc8fc\\ubb38 \\uc0c1\\uc138\", \"\\ubc30\\uc1a1 \\ube68\\ub974\\ub2e4 \\uc131\\ub2a5 \\uc131\\ub2a5 \\ub6f0\\uc5b4\\ub098\\ub2e4 \\uc720\\ud1b5 \\uae30\\ud55c \\uae30\\ud55c \\ub109\\ub109\\ud558\\ub2e4 \\uc54c\\ub2e4 \\uac00\\uaca9 \\uc880\\ube44 \\uc2f8\\ub2e4\", \"\\ubc30\\uc1a1 \\ube68\\ub974\\ub2e4 \\uc131\\ub2a5 \\uc131\\ub2a5 \\ub6f0\\uc5b4\\ub098\\ub2e4 \\uc720\\ud1b5 \\uae30\\ud55c \\uc608\\uc815\", \"\\ubc30\\uc1a1 \\ube68\\ub974\\ub2e4 \\uc131\\ub2a5 \\uc720\\ud1b5 \\uae30\\ud55c \\uae30\\ud55c \\ub109\\ub109\\ud558\\ub2e4 \\uc88b\\ub2e4\", \"\\uc2e0\\ub791 \\ucf5c\\ub808\\uc2a4\\ud14c\\ub864 \\uc218\\uce58 \\ub192\\uc544\\uc9c0\\ub2e4 \\ud608\\uc561 \\uc21c\\ud658 \\uc548\\ub418\\ub2e4 \\uc0ac\\uba39\\ub2e4 2\\ub144 \\uac00\\uae4c\\uc774 \\ube44\\uc2f8\\ub2e4 35000 \\uc9dc\\ub2e4 \\uac10\\ub9c8 \\ub9ac\\ub180\\ub80c\\uc0b0 \\uc218\\uce58 \\uc0c1\\ud488 \\ub0ae\\ub2e4 \\uc2e0\\ub791 \\uc598\\ub8e8 \\uba39\\uc774\\ub2e4 \\ube44\\uc2f8\\ub2e4 \\uc0ac\\ub2e4 \\ube44\\uc2f8\\ub2e4 \\ube7c\\ub2e4 \\uc0c1\\uc138\", \"\\ubc30\\uc1a1 \\ube68\\ub974\\ub2e4 \\uc131\\ub2a5 \\uc131\\ub2a5 \\ub6f0\\uc5b4\\ub098\\ub2e4 \\uc720\\ud1b5 \\uae30\\ud55c \\uae30\\ud55c \\ub109\\ub109\\ud558\\ub2e4 \\ube60\\ub974\\ub2e4 \\ubc30\\uc1a1\", \"\\ubc30\\uc1a1 \\ube68\\ub974\\ub2e4 \\uc131\\ub2a5 \\uc131\\ub2a5 \\ub6f0\\uc5b4\\ub098\\ub2e4 \\uc720\\ud1b5 \\uae30\\ud55c \\uae30\\ud55c \\ub109\\ub109\\ud558\\ub2e4 \\uc0ac\\ub77c \\uc0ac\\ub2e4 \\ud6c4\\uae30 \\uc368\\ub2e4\", \"\\uac00\\uaca9 \\uc2f8\\ub2e4 \\uc0ac\\ub2e4 \\ubc30\\uc1a1 \\ube68\\ub974\\ub2e4 \\ud53c\\ubd80 \\uac00\\ub824\\uc6c0 \\uc5c6\\uc5b4\\uc9c0\\ub2e4 \\ub3c4\\uc6c0 \\ub41c\\uac70\", \"\\ud14c\\uadf8 \\uc0c1\\ud488 \\uad6c\\ub9e4 \\uc804\\ud600 \\uc548\\ub098 \\ucea1\\uc290 \\ud06c\\ub2e4 \\ud30c\\ub2e4\", \"\\ub0a8\\ud3b8 \\ud6a8\\ub2a5 \\ubaa8\\ub974\\ub2e4 \\uafb8\\uc900\\ud558\\ub2e4 \\uc0c1\\uc138 \\uc0c1\\uc138\", \"\\uac00\\uaca9 \\uad1c\\ucc2e\\ub2e4 \\ubc30\\uc1a1 \\ube68\\ub974\\ub2e4 \\ub2ec\\ub77c\\uc9c0\\ub2e4 \\uafb8\\uc900\\ud558\\ub2e4 \\ub9cc\\uc871\\ud558\\ub2e4\", \"\\uac00\\uaca9 \\uad1c\\ucc2e\\ub2e4 \\ubc30\\uc1a1 \\ube68\\ub974\\ub2e4 \\uc88b\\ub2e4 \\uc0c1\\ud488 \\ube60\\ub974\\ub2e4 \\ubc30\\uc1a1 \\uc0c1\\ud488 \\ub9c8\\uc74c \\uc801\\uadf9 \\ucd94\\ucc9c \\ud30c\\ub2e4\", \"\\ubc30\\uc1a1 \\uc131\\ub2a5 \\uc720\\ud1b5 \\uae30\\ud55c \\uafb8\\uc900\\ud558\\ub2e4\", \"\\ubc30\\uc1a1 \\ube68\\ub974\\ub2e4 \\uc131\\ub2a5 \\uc720\\ud1b5 \\uae30\\ud55c \\uae30\\ud55c \\ub109\\ub109\\ud558\\ub2e4 \\uc88b\\ub2e4 \\uac00\\uaca9 \\uc798\\uc0b4\\ub2e4\", \"\\ubc30\\uc1a1 \\ube68\\ub974\\ub2e4 \\uc131\\ub2a5 \\uc131\\ub2a5 \\ub6f0\\uc5b4\\ub098\\ub2e4 \\uc720\\ud1b5 \\uae30\\ud55c \\uae30\\ud55c \\ub109\\ub109\\ud558\\ub2e4 \\uc5ec\\uc131 \\uc88b\\uc544\\ud558\\ub2e4\", \"\\uace0\\ubb34\\uc904 \\uc539\\ub2e4 \\uace0\\ud1b5 \\ubc30\\uc1a1 \\ube60\\ub974\\ub2e4 \\uae54\\ub054\\ud558\\ub2e4\", \"\\uc720\\ud1b5 \\uae30\\ud55c \\uae30\\ud55c \\ub109\\ub109\\ud558\\ub2e4 \\ud3ec\\uc7a5 \\uc0c1\\ud0dc \\ud3ec\\uc7a5 \\uae54\\ub054\\ud558\\ub2e4 \\uc88b\\ub2e4\", \"\\uac00\\uaca9 \\uad1c\\ucc2e\\ub2e4 \\ubc30\\uc1a1 \\ube68\\ub974\\ub2e4\", \"\\ubc30\\uc1a1 \\uc131\\ub2a5 \\uc131\\ub2a5 \\ub6f0\\uc5b4\\ub098\\ub2e4 \\uc720\\ud1b5 \\uae30\\ud55c \\uae30\\ud55c \\ub109\\ub109\\ud558\\ub2e4\", \"\\uc720\\ud1b5 \\uae30\\ud55c \\uae30\\ud55c \\ub109\\ub109\\ud558\\ub2e4 \\ud3ec\\uc7a5 \\uc0c1\\ud0dc \\ud3ec\\uc7a5 \\uae54\\ub054\\ud558\\ub2e4\", \"\\ubc30\\uc1a1 \\ube68\\ub974\\ub2e4 \\uc720\\ud1b5 \\uae30\\ud55c \\uae30\\ud55c \\ub109\\ub109\\ud558\\ub2e4\", \"\\ubc30\\uc1a1 \\ube68\\ub974\\ub2e4 \\uc131\\ub2a5 \\uc131\\ub2a5 \\ub6f0\\uc5b4\\ub098\\ub2e4 \\uc720\\ud1b5 \\uae30\\ud55c \\uae30\\ud55c \\ub109\\ub109\\ud558\\ub2e4 1\\ub144 \\ub118\\ub2e4 \\uace0\\ud608\\uc555 \\uba39\\uae30 \\ub450\\ud1b5 \\uc790\\uc8fc \\uc0ac\\ub77c\\uc9c0\\ub2e4 \\uafb8\\uc900\\ud558\\ub2e4 \\uad6c\\ub9e4\", \"\\ubc30\\uc1a1 \\uc720\\ud1b5 \\uae30\\ud55c\", \"\\ubc30\\uc1a1 \\uc131\\ub2a5 \\uc131\\ub2a5 \\ub6f0\\uc5b4\\ub098\\ub2e4 \\uc720\\ud1b5 \\uae30\\ud55c \\uae30\\ud55c \\ub109\\ub109\\ud558\\ub2e4 \\uace0\\ud608\\uc555 \\uba39\\uae30 \\ub2e8\\uacc4 \\uc2ec\\uc0ac\\uc219\\uace0 \\ubcf5\\uc6a9 \\ubcf5\\uc6a9 \\ubcc0\\ud654 \\ub290\\ub07c\\ub2e4 \\uafb8\\uc900\\ud558\\ub2e4\", \"\\ubc30\\uc1a1 \\ube68\\ub974\\ub2e4 \\uc131\\ub2a5 \\uc131\\ub2a5 \\ub6f0\\uc5b4\\ub098\\ub2e4 \\uc720\\ud1b5 \\uae30\\ud55c \\uae30\\ud55c \\ub109\\ub109\\ud558\\ub2e4 \\uc138\\ubc88 \\uad6c\\ub9e4 \\uc9c0\\uc18d \\ubcf5\\uc6a9 \\uc0c1\\uc138\", \"\\uc720\\ud1b5 \\uae30\\ud55c \\uae30\\ud55c \\ub109\\ub109\\ud558\\ub2e4 \\ud3ec\\uc7a5 \\uc0c1\\ud0dc \\ud3ec\\uc7a5 \\uae54\\ub054\\ud558\\ub2e4 \\uc88b\\ub2e4 \\ud608\\uc555 \\uafb8\\uc900\\ud558\\ub2e4 \\ubcf5\\uc6a9 \\ubaa8\\ub974\\ub2e4 \\ubd88\\uc548\\ud558\\ub2e4 \\ubcf5\\uc6a9\", \"\\ubc30\\uc1a1 \\ube68\\ub974\\ub2e4 \\uc131\\ub2a5 \\uc131\\ub2a5 \\ub6f0\\uc5b4\\ub098\\ub2e4 \\uc720\\ud1b5 \\uae30\\ud55c \\uae30\\ud55c \\ub109\\ub109\\ud558\\ub2e4 \\uace0\\uc9c0\\ud608\\uc99d \\uad6c\\uc785 \\ubcf5\\uc6a9\", \"\\ubc30\\uc1a1 \\ube68\\ub974\\ub2e4 \\uc131\\ub2a5 \\uc131\\ub2a5 \\ub6f0\\uc5b4\\ub098\\ub2e4 \\uc720\\ud1b5 \\uae30\\ud55c \\uae30\\ud55c \\ub109\\ub109\\ud558\\ub2e4 60 \\ub300\\uc785 \\ud56d\\uc0c1 \\uc800\\ub9ac \\uc950\\ub2e4 \\uac83\\ud608\\ud589 \\uc88b\\ub2e4 \\uc774\\ub780 \\ud574\\ub3c4 \\ucc28\\ub3c4 \\uc9c0\\uc778 \\uc18c\\uac1c \\uc368\\ub2e4 \\uc2dc\\uc548 \\uad6c\\ub9e4 \\uc800\\ub9ac \\uc950\\ub2e4 \\ub9ac\\uac00 \\uc88b\\ub2e4 \\uc800\\uc11c 2\\ub144 \\ud608\\uc555 \\uc88b\\uc544\\uc9c0\\ub2e4 \\ub808\\uc2a4\\ud130 \\uce58\\uc218 \\uc88b\\ub2e4 \\uc800\\uc2b5 \\uc9c8\\ud658 \\uad8c\\ud558\\ub2e4 \\uad8c\\ud587 \\ub354\\ub2c8 \\uc88b\\ub2e4 \\uc0ac\\uc8fc\\ub2e4 \\ud655\\uc2e4\\ud558\\ub2e4 \\uc77c\\ubc18\\uc778 \\uacbd\\ud5d8 \\ud6c4\\uae30 \\uac00\\uaca9 \\ub9cc\\ucc2c \\uac8c\\uc880 \\ud5c8\\ub2e4 \\ub2eb\\ub2e4 \\uc0c1\\uc138\", \"\\uc720\\ud1b5 \\uae30\\ud55c \\uae30\\ud55c \\ub109\\ub109\\ud558\\ub2e4 \\ud3ec\\uc7a5 \\uc0c1\\ud0dc \\ud3ec\\uc7a5 \\uae54\\ub054\\ud558\\ub2e4 \\uc0c1\\ud488 \\ub4e4\\uc774\\ub2e4 \\uc2dc\\ub098 \\uad6c\\ub9e4 \\uc0c1\\uc138\", \"\\ubc30\\uc1a1 \\ube68\\ub974\\ub2e4 \\uc131\\ub2a5 \\uc131\\ub2a5 \\ub6f0\\uc5b4\\ub098\\ub2e4 \\uc720\\ud1b5 \\uae30\\ud55c \\uae30\\ud55c \\ub109\\ub109\\ud558\\ub2e4 \\ucf5c\\ub808\\uc2a4\\ud14c\\ub864 \\uce58\\uac00 \\ub192\\ub2e4 \\ub3c4\\uc6c0 \\ud6c4\\uae30 \\uad6c\\ub9e4 \\ud6c4\\uae30 \\ub2e4\\uc2dc \\uc62c\\ub9ac\\ub2e4\", \"\\ubc30\\uc1a1 \\ube68\\ub974\\ub2e4 \\uc131\\ub2a5 \\uc131\\ub2a5 \\ubcc4\\ub85c \\uc720\\ud1b5 \\uae30\\ud55c \\uc720\\ud29c\\ube0c \\ucc3e\\uc544\\ubcf4\\ub2e4 \\ub9e4\\ub2e4 \\ucf5c\\ub808\\uc2a4\\ud14c\\ub864 \\ub5a8\\uc5b4\\uc9c0\\ub2e4 \\uc88b\\ub2e4 \\uaca0\\ub2e4 \\uc0c1\\uc138\", \"\\ubc30\\uc1a1 \\ube68\\ub974\\ub2e4 \\uc720\\ud1b5 \\uae30\\ud55c \\uae30\\ud55c \\ub109\\ub109\\ud558\\ub2e4 \\uc88b\\ub2e4\", \"\\ubc30\\uc1a1 \\ube68\\ub974\\ub2e4 \\uc720\\ud1b5 \\uae30\\ud55c \\uc7ac\\ub2e4 \\uc0dd\\ub9ac \\ub9ce\\uc544\\uc9c0\\ub2e4 5\\uc77c \\uc0dd\\ub9ac \\uc99d\\ud6c4\\uad70 \\uc904\\uc5b4\\ub4e4\\ub2e4\", \"\\ubc30\\uc1a1 \\ube68\\ub974\\ub2e4 \\uc131\\ub2a5 \\uc131\\ub2a5 \\ub6f0\\uc5b4\\ub098\\ub2e4 \\uc720\\ud1b5 \\uae30\\ud55c \\uae30\\ud55c \\ub109\\ub109\\ud558\\ub2e4 \\ud608\\uc555 \\ub192\\ub2e4 \\uafb8\\uc900\\ud558\\ub2e4 \\ub450\\ud1b5 \\uc5c6\\uc5b4\\uc9c0\\ub2e4 \\uc608\\uc815 \\uc8fc\\uc2e0 \\uc81c\\ud488 \\uc0c1\\uc138\", \"\\ubc30\\uc1a1 \\ube68\\ub974\\ub2e4 \\uc131\\ub2a5 \\uc720\\ud1b5 \\uae30\\ud55c \\uc12d\\ucde8 \\ud544\\uc694\\ud558\\ub2e4 \\uc54c\\uc544\\ubcf4\\ub2e4 \\ub2ec\\ub9de\\uc774 \\uc790\\uc720 \\ubcf4\\ub77c \\uc88b\\ub2e4 \\ub2e4\\ud574 \\uc120\\ud0dd \\uac74\\uac15\\ud558\\ub2e4 \\ubc18\\uc751 \\uae30\\ub300\\ud558\\ub2e4 \\uc12d\\ucde8 \\uc720\\ud1b5 \\uae30\\ud55c 2023\\ub144 3\\uc6d4 \\ubc30\\uc1a1 \\ube68\\ub974\\ub2e4 \\uc0c1\\uc138 \\uc0c1\\uc138\", \"\\ubc30\\uc1a1 \\ube68\\ub974\\ub2e4 \\uc720\\ud1b5 \\uae30\\ud55c \\uae30\\ud55c \\ub109\\ub109\\ud558\\ub2e4 \\uc0dd\\ub9ac \\uc99d\\ud6c4\\uad70 \\uac10\\ub9c8 \\ub9ac\\ub180\\ub80c\\uc0b0 \\uc88b\\ub2e4 \\uba39\\uae30 \\uc2dc\\uc791 \\uafb8\\uc900\\ud558\\ub2e4 \\ub3c4\\uc6c0 \\ud655\\uc2e4\\ud558\\ub2e4 \\ubbff\\ub2e4 \\ud06c\\ub2e4 \\uc12d\\ucde8 \\uc0bc\\ud0a4\\ub2e4 \\ub9cc\\ud574 \\uc0c1\\uc138 \\uc0c1\\uc138 \\uc0c1\\uc138\", \"\\ubc30\\uc1a1 \\ube68\\ub974\\ub2e4 \\ub9db\\uc788\\ub2e4 \\uc720\\ud1b5 \\uae30\\ud55c \\uae30\\ud55c \\ub109\\ub109\\ud558\\ub2e4 \\uc88b\\ub2e4 \\uac10\\uc0ac\\ud558\\ub2e4\", \"\\ubc30\\uc1a1 \\ube68\\ub974\\ub2e4 \\uc131\\ub2a5 \\ub9c8\\ub9ac \\ub180\\ub798\\ub2e4 \\uac80\\uc0c9 \\uad6c\\uc785 \\ubd80\\ub2f4 \\uac1c\\ubcc4 \\ud3ec\\uc7a5 \\uad6c\\uc785 \\ubd80\\ubaa8\\ub2d8 \\ub4dc\\ub9ac\\ub2e4 \\uad6c\\uc785 \\ubc14\\ub77c\\ub2e4\", \"\\ubc30\\uc1a1 \\ube68\\ub974\\ub2e4 \\uc131\\ub2a5 \\uc131\\ub2a5 \\ub6f0\\uc5b4\\ub098\\ub2e4 \\uc720\\ud1b5 \\uae30\\ud55c \\uae30\\ud55c \\ub109\\ub109\\ud558\\ub2e4 \\uc5ec\\ub7ec\\uac00\\uc9c0 \\uc131\\ubd84 \\uc815\\uacfc\\uc815 \\ub9c8\\uc74c \\ub4e4\\uc5b4\\uc11c\\ub2e4 \\uc0ac\\ub2e4 \\uce90\\ub098\\ub2e4 \\ud558\\ub2c8 \\ubbff\\ub2e4 \\uc54c\\ub9f9\\uc774 \\ud06c\\ub2e4 \\uba39\\uae30 \\uac70\\ubd81\\ud558\\ub2e4 \\uc544\\ub2c8\\ub2e4 \\uc0c1\\uc138\", \"\\ubc30\\uc1a1 \\ube68\\ub974\\ub2e4 \\uc131\\ub2a5 \\uc131\\ub2a5 \\ub6f0\\uc5b4\\ub098\\ub2e4 \\uc720\\ud1b5 \\uae30\\ud55c \\uae30\\ud55c \\ub109\\ub109\\ud558\\ub2e4 \\ud3b8\\ud558\\ub2e4 \\ucfe0\\ud3f0 \\ucc29\\ud558\\ub2e4 \\uac00\\uaca9 \\uad6c\\ub9e4 \\ubcf4\\ub0b4\\ub2e4 \\uc138\\uc2ec \\ubc30\\ub824 \\uac10\\uc0ac \\ub4dc\\ub9ac\\ub2e4 \\uc0c1\\uc138\", \"\\ubc30\\uc1a1 \\ube68\\ub974\\ub2e4 \\uc131\\ub2a5 \\uc131\\ub2a5 \\ub6f0\\uc5b4\\ub098\\ub2e4 \\uc720\\ud1b5 \\uae30\\ud55c \\ub450\\ubc88\\uc9f8 \\uad6c\\ub9e4 \\uc9c0\\uc778 \\ucd94\\ucc9c \\ub298\\ub2e4 \\uc7ac\\ub2e4 \\uac10\\uc0ac\\ud558\\ub2e4\", \"\\ubd80\\ubaa8\\ub2d8 \\ubcf4\\ub77c \\uc624\\uc77c \\ud504\\ub85c\\ud3f4\\ub9ac\\uc2a4 \\ube44\\ud0c0\\ubbfc \\uad6c\\uc785 \\uc88b\\ub2e4 \\ub4dc\\ub9b4\", \"\\uc720\\ud1b5 \\uae30\\ud55c \\uae30\\ud55c \\ub109\\ub109\\ud558\\ub2e4 \\uc88b\\ub2e4 \\uafb8\\uc900\\ud558\\ub2e4 \\uc88b\\ub2e4\", \"\\ubc30\\uc1a1 \\ube68\\ub974\\ub2e4 \\uc131\\ub2a5 \\uc131\\ub2a5 \\ub6f0\\uc5b4\\ub098\\ub2e4 \\uc720\\ud1b5 \\uae30\\ud55c \\uae30\\ud55c \\ub109\\ub109\\ud558\\ub2e4 \\uc720\\ud1b5 \\uae30\\ud55c \\uae38\\ub2e4 \\ubc30\\uc1a1 \\uc88b\\ub2e4\", \"\\ubc30\\uc1a1 \\ube68\\ub974\\ub2e4 \\ubc30\\uc1a1 \\ube60\\ub974\\ub2e4 \\ud3ec\\uc7a5 \\uc0c1\\ud0dc \\uc88b\\ub2e4 \\ubcf5\\uc6a9 \\uad6c\\ub9e4 \\ud3c9\\uc774 \\ub9ce\\ub2e4 \\uad6c\\ub9e4\", \"\\ubc30\\uc1a1 \\ube68\\ub974\\ub2e4 \\uc131\\ub2a5 \\uc131\\ub2a5 \\ub6f0\\uc5b4\\ub098\\ub2e4 \\uc720\\ud1b5 \\uae30\\ud55c \\uae30\\ud55c \\ub109\\ub109\\ud558\\ub2e4 \\ubcf5\\uc6a9 \\ud608\\uad00 \\uc0c1\\ud0dc \\uc9c4\\ub2e8 \\uacb0\\uacfc \\uc88b\\ub2e4 \\uae30\\ubd84 \\uc88b\\ub2e4\", \"\\ubcf5\\uc6a9 \\ud3c9\\uac00 \\uc5b4\\ub835\\ub2e4 \\uc2e0\\uc18d\\ud558\\ub2e4 \\ubc30\\uc1a1 \\ub9cc\\uc871\\ud558\\ub2e4 \\uae30\\uc0ac \\uac10\\uc0ac\", \"\\uc720\\ud1b5 \\uae30\\ud55c \\uae30\\ud55c \\ub109\\ub109\\ud558\\ub2e4 \\uafb8\\uc900\\ud558\\ub2e4 \\uc54c\\ub2e4 \\uc88b\\ub2e4\", \"\\ud328\\ud0a4\\uc9c0 \\ub07c\\ub2e4 \\ub2f9\\ud669 \\uad1c\\ucc2e\\ub2e4 \\uc81c\\ud488 \\ub9cc\\uc871\\ud558\\ub2e4 \\uc0c1\\uc138\", \"\\uc88b\\ub2e4 \\uc57d\\uc0ac \\ub9d0\\uc500 \\ub4e3\\ub2e4 \\uad6c\\ub9e4 \\ubd80\\uc791\\uc6a9 \\ubc18\\uc751 \\ubaa8\\ub974\\ub2e4 \\uc0c1\\uc138\", \"\\uac00\\uaca9 \\uc2f8\\ub2e4 \\uc0ac\\ub2e4 \\ubc30\\uc1a1 \\ube68\\ub974\\ub2e4 \\ubcf5\\uc6a9 \\uc81c\\ud488 \\ucfe0\\ud3f0 \\ub365\\ub2e4 \\uad6c\\ub9e4 \\uae30\\ud55c \\uc88b\\ub2e4 \\uac10\\uc0ac\\ud558\\ub2e4 \\uc0c1\\uc138 \\uc0c1\\uc138\", \"\\ubc30\\uc1a1 \\ube68\\ub974\\ub2e4 \\uc131\\ub2a5 \\uc131\\ub2a5 \\ub6f0\\uc5b4\\ub098\\ub2e4 \\uc720\\ud1b5 \\uae30\\ud55c \\uae30\\ud55c \\ub109\\ub109\\ud558\\ub2e4 \\uad6c\\uc785 \\uc88b\\ub2e4\", \"\\uac00\\uaca9 \\uc2f8\\ub2e4 \\uc0ac\\ub2e4 \\ubc30\\uc1a1 \\ube68\\ub974\\ub2e4\", \"\\uac00\\uaca9 \\uad1c\\ucc2e\\ub2e4 \\ubc30\\uc1a1 \\ube68\\ub974\\ub2e4\", \"\\uc720\\ud1b5 \\uae30\\ud55c \\uae30\\ud55c \\ub109\\ub109\\ud558\\ub2e4 \\ud3ec\\uc7a5 \\uc0c1\\ud0dc \\ud3ec\\uc7a5 \\uae54\\ub054\\ud558\\ub2e4\", \"\\ubc30\\uc1a1 \\ube68\\ub974\\ub2e4 \\uc720\\ud1b5 \\uae30\\ud55c \\uae30\\ud55c \\ub109\\ub109\\ud558\\ub2e4\", \"\\uac00\\uaca9 \\uad1c\\ucc2e\\ub2e4 \\ubc30\\uc1a1 \\ube68\\ub974\\ub2e4 \\uafb8\\uc900\\ud558\\ub2e4\", \"\\uc911\\uc774 \\ub098\\uc544\\uc9c0\\ub2e4 \\uc88b\\ub2e4 \\uc81c\\ud488 \\ud30c\\ub2e4 \\uafb8\\uc900\\ud558\\ub2e4\"], \"Freq\": [136.0, 59.0, 63.0, 26.0, 25.0, 27.0, 23.0, 16.0, 22.0, 12.0, 10.0, 16.0, 11.0, 9.0, 18.0, 7.0, 8.0, 5.0, 4.0, 5.0, 3.0, 3.0, 3.0, 3.0, 3.0, 3.0, 3.0, 3.0, 3.0, 3.0, 131.82086058328844, 2.521429124998444, 2.5213979086149174, 2.5213303039026647, 2.521304998313652, 1.8340947862102053, 0.73635112617144, 0.4512731835196139, 0.45126168517716103, 0.45125946862921834, 0.4512579447525077, 0.4512566517662078, 0.4512485244237512, 0.4512340706840414, 0.4512165691909104, 0.45121901662926384, 0.4512129211224214, 0.45121001190324656, 0.45120834949228955, 0.45120197691695424, 0.45119232569778706, 0.45119070946491213, 0.4511903862183372, 0.45117888787588434, 0.4511853528073839, 0.451179765259445, 0.4511835980402626, 0.4511784260950629, 0.4511750089169846, 0.451175147451231, 2.163186028689219, 2.163672191537987, 0.7365907442396636, 2.735268555935909, 0.7367995615270998, 0.7369055864036929, 56.354872699113784, 6.144701183411624, 2.5944286666188976, 2.594397256564577, 2.5943647695941086, 2.594297462334851, 2.594271436861271, 2.5942402062929752, 2.5941991039933217, 10.14915213702941, 2.4714277913304477, 12.20600741620049, 1.1743533673772433, 1.1742627269347758, 0.7578236498616668, 0.7575174467035494, 0.7577723168586061, 0.46429812812599675, 0.4642859679478242, 0.4642831859144415, 0.4642835448864909, 0.46427542314387377, 0.46428085259612056, 0.46426501295444184, 0.4642537950778989, 0.46425541045212104, 0.4642462117933558, 0.4642471092234792, 0.464244955391183, 0.4642440130895534, 0.7579355593980597, 2.519805915966733, 1.3452753061401101, 1.051877847683055, 0.4699027587328991, 0.46465436301349594, 25.273897684997348, 9.535199664618759, 10.277237875869341, 2.453102287677707, 2.4529639188160655, 2.452931840221844, 2.4529015171725796, 2.4528683214133853, 2.452857947738637, 1.110207269435043, 0.7163213927647337, 0.7162906707279794, 0.43900485832901254, 0.4389535884365069, 0.4389520323852946, 0.4389495985616037, 0.43894760362415214, 0.4389407809380677, 0.4389433743567548, 0.4389387461018671, 0.43893359916324204, 0.4389300082758292, 0.43892885121210723, 0.4389253800209415, 0.43892458204596085, 0.43891751996738226, 0.43891484675119713, 0.4389111361675372, 0.4389185573348571, 0.43891333059873394, 0.7163089443550358, 0.9957314544608945, 0.4408791818622723, 25.586378935578132, 3.484900409025792, 2.6798012767927215, 2.4484212614941767, 2.448402762332788, 2.4483807547097567, 2.448327489883, 2.4483156886938384, 2.448309469148199, 2.448298146385625, 1.2692673317531016, 0.992057478082924, 0.7152086770108821, 0.9921429569665815, 6.255069770250691, 0.43817440589836687, 0.43814693623846007, 0.43814765387834154, 0.43813864351094106, 0.4381333409495948, 0.43813409845835855, 0.43813126776771505, 0.43813401872059393, 0.4381271214039555, 0.4381281181260131, 0.4381269619284263, 0.43812460966437045, 0.43812500835319346, 0.43812118094049235, 0.43811787182326123, 0.7150444172157938, 2.6555547768068677, 0.9923124794541338, 12.829306438078598, 8.423047208770363, 2.419561702935391, 2.4194904161156723, 2.4194599983260767, 2.4194635860653624, 2.4194164774886553, 2.419420221216605, 2.4193988507695563, 2.4194141376586864, 2.4193522101588427, 0.7066330182882136, 0.9805743054825877, 6.7293079376640685, 0.4330187223319921, 0.43301513459270646, 0.43299376414565727, 0.43295827672446235, 0.4329563658633211, 0.43294852743292533, 0.4329477864867685, 0.43294295083816614, 0.43294037702520033, 0.43293585335392715, 0.43293795920089917, 0.43293487842477346, 0.4329374912349054, 0.4329334745267921, 0.43293675028874856, 0.4329362043284225, 1.2543235706308482, 3.175956041160711, 1.256023535097581, 0.7075254294383492, 4.015103523206966, 7.1038039860004165, 2.445393663316809, 2.445344518820424, 2.445289422040315, 2.4452779753408462, 2.445199222048502, 3.480779833635149, 0.9911781775458808, 0.9908227193717151, 0.7140565595523215, 0.7141303526082292, 0.7141321840801442, 0.437595759519086, 0.43758236688070773, 0.4375824050363726, 0.4375762619743244, 0.43757549886102654, 0.4375766053753085, 0.4375748502147233, 0.43756813481770174, 0.43757099649256886, 0.4375668756807602, 0.43756893608666453, 0.43756721908174423, 0.43756519683150474, 0.4375624114679674, 0.43756096155270136, 0.43755451324533406, 0.43755779463251504, 0.7142474904994582, 3.4808243994517465, 2.098427413930219, 0.43811162410847204, 0.43792580602043135, 0.4376297562165078, 0.43759026510334104, 0.4375815656117449, 23.75338000622042, 22.53144226830196, 2.27304310655917, 2.272974103494858, 2.2729644188542526, 2.2729474707331936, 2.272916449618755, 2.2729096401058295, 2.2729253776468132, 2.2729099427508483, 2.2728963237249977, 1.1782357971875435, 0.6639250134171922, 0.6636420403245094, 0.40678028976893327, 0.40676523317924235, 0.4067566456268307, 0.40674336707662595, 0.40674593955928673, 0.4067404919489463, 0.40673769248252134, 0.40672562451239225, 0.4067241112872977, 0.4067157885492776, 0.4067154480736313, 0.40671068141458344, 0.4067123081315601, 0.4067113245352486, 0.4067072388274933, 0.40670871422196053, 0.9210999637367151, 0.9219839898369575, 0.4116206807095326, 0.40817964467512846, 58.57832855111176, 2.245693248917953, 2.2456650183472227, 2.2455591537069837, 5.35982072049858, 0.655858250306643, 0.655850967420045, 0.6557538872925066, 0.6557250560713351, 0.6556764784669135, 0.40192565559079924, 0.40186585333125996, 0.40185327721265, 0.4018493354441305, 0.40184336648037233, 0.40183653408160513, 0.40183627129703714, 0.40183788554509753, 0.40182489647930936, 0.40182718645911597, 0.4018242582882157, 0.40182148027992576, 0.4018175760520588, 0.4018188899748986, 0.4018189650562038, 0.40181566147877784, 0.4018140472307175, 0.4018139346087598, 0.4018158491820407, 0.4018123203606994, 1.6742079906622296, 0.9110102780398215, 0.6562125589855706, 0.40234701187521155, 0.40192126333444894, 0.40185962158293387, 2.5537859303292056, 2.3961433204975267, 2.396128581427311, 2.39612710752029, 2.396106767603393, 2.396092765486688, 2.396049137838851, 2.3960355778942533, 2.395978685083222, 0.9711114242807025, 0.4288058332428051, 0.42876224244264344, 0.42875984734373346, 0.42875929462860035, 0.4287528831330567, 0.42875483605986026, 0.42874359751882113, 0.4287461768561088, 0.42874322904206574, 0.42873630167906457, 0.4287347540766919, 0.42873534363950055, 0.4287215257611737, 0.4287226311914399, 0.4287263159589937, 0.4287185779471307, 0.428714082530715, 0.42870969765732597, 0.42871507741795456, 0.4287081132072778, 4.495258707607356, 1.5137709003944686, 0.7003634741728918, 0.42883560616463995, 0.4287877041864403, 0.42874849825966765], \"Total\": [136.0, 59.0, 63.0, 26.0, 25.0, 27.0, 23.0, 16.0, 22.0, 12.0, 10.0, 16.0, 11.0, 9.0, 18.0, 7.0, 8.0, 5.0, 4.0, 5.0, 3.0, 3.0, 3.0, 3.0, 3.0, 3.0, 3.0, 3.0, 3.0, 3.0, 136.68900775020714, 3.7895860999867215, 3.78957565500396, 3.789529229567843, 3.7895194126795575, 3.5547696147707994, 2.559192034326234, 1.7194141278881243, 1.7194033443857322, 1.7194014636386177, 1.7194113318111366, 1.7194115871917195, 1.719412613301105, 1.719376053096467, 1.7193652532414005, 1.7193770341434993, 1.719360595206469, 1.7193631357261543, 1.7193771477319526, 1.7193552503773877, 1.7193616849548505, 1.719356297627759, 1.7193636597591482, 1.7193345301381944, 1.7193616602730342, 1.7193453903535114, 1.7193624062288226, 1.7193465091797726, 1.7193404647241894, 1.7193435106870214, 11.974468780753062, 18.413925081573797, 4.3061764538290435, 63.65124842453969, 12.121882406712277, 16.632356392532305, 63.65124842453969, 7.408088602073943, 3.857806438760828, 3.857778891702877, 3.8577544170842684, 3.857713187855155, 3.857693936348328, 3.8576746439998364, 3.857653198639482, 16.858830920949217, 4.3061764538290435, 22.821883202437196, 2.4377116331711415, 2.4376527803821557, 2.0213809099789004, 2.2754313117521847, 2.2926552279118324, 1.7276537478589313, 1.727642463615143, 1.7276325150888547, 1.727639348525668, 1.7276155441227878, 1.727636043311393, 1.727633036814707, 1.7276109234960115, 1.7276331415014792, 1.7276072473593935, 1.7276124049607755, 1.7276118426600742, 1.727609924021373, 3.3049097553201614, 18.413925081573797, 8.917910131718521, 16.632356392532305, 136.68900775020714, 5.821686823204977, 27.872406997049968, 10.809780696728597, 12.121882406712277, 3.725754668785918, 3.725661454082282, 3.7256509165772873, 3.725625744940551, 3.725603396407466, 3.725598143601228, 2.382933547633205, 1.9892841341427552, 2.2746124085729287, 1.711655671890834, 1.711624036341348, 1.7116228390671868, 1.7116235333517287, 1.711628511073878, 1.7116023556856432, 1.7116204415921015, 1.7116137106627547, 1.7116130936699048, 1.7115996270756817, 1.711609288727245, 1.7116068558962618, 1.7116092662308038, 1.7115898677954513, 1.711596316316587, 1.71159068479265, 1.7116206385422512, 1.7116030231434358, 3.0744622203589604, 63.65124842453969, 22.821883202437196, 26.859384784378573, 4.760199333270468, 3.9530027852093053, 3.7214039904698097, 3.7213876292978405, 3.721369914371499, 3.721331608782533, 3.721335275900494, 3.7213322322450884, 3.7213230547759286, 2.5428651750630014, 2.5227221849060517, 1.988386845129122, 2.819185142287441, 18.413925081573797, 1.7111260449082035, 1.7111084795284155, 1.7111190099822309, 1.7111015178191047, 1.711097369040384, 1.7111046837315962, 1.7110969250759376, 1.711112499072003, 1.7110988846776964, 1.7111040963219082, 1.7111025869356313, 1.7110978765411888, 1.7111031102977783, 1.7110930681204422, 1.7111058684094849, 3.0744622203589604, 22.821883202437196, 9.719424189060485, 16.632356392532305, 11.974468780753062, 3.6944221361902523, 3.6943735554058033, 3.6943481152826676, 3.6943638410495567, 3.6943221565838793, 3.694332559151722, 3.6943034366526657, 3.694337202857332, 3.6942916637651035, 1.9817403234904147, 2.7813540638850416, 22.821883202437196, 1.7078573599111055, 1.707866034754809, 1.7078518603035524, 1.7078247796886807, 1.7078298016199402, 1.7078227002498911, 1.707828699428018, 1.7078205380504312, 1.7078263328071734, 1.7078100961812042, 1.7078195765937476, 1.7078086985281835, 1.7078196113367718, 1.7078076126359405, 1.7078205410472889, 1.70782044334463, 8.917910131718521, 136.68900775020714, 63.65124842453969, 27.872406997049968, 5.288501667047206, 9.719424189060485, 3.7185492168352936, 3.7185342407772994, 3.7184915943675616, 3.7185005597633354, 3.718432670467287, 5.821686823204977, 2.264660223455981, 2.2645034021126507, 1.9874771321263647, 2.2417339793899074, 2.5441216929921406, 1.7107663688468755, 1.7107574607181815, 1.710758340453617, 1.710741478290831, 1.71074148443826, 1.7107626372151286, 1.7107621881963966, 1.710740347780937, 1.7107538104576805, 1.7107400573176712, 1.7107526951537597, 1.7107477133881255, 1.7107445917987167, 1.710742269300238, 1.710738820162712, 1.7107300565313617, 1.7107529692731678, 2.819185142287441, 16.858830920949217, 18.413925081573797, 16.632356392532305, 11.974468780753062, 3.0744622203589604, 2.559192034326234, 1.9879160036641401, 25.037941997083728, 23.815963333595327, 3.5575522630445127, 3.5575111450161407, 3.557511441532099, 3.5574966080063333, 3.5574719625380564, 3.5574672412428066, 3.557494196855867, 3.557486602036845, 3.557479741931391, 3.3049097553201614, 1.9486615641240514, 1.9484500896862487, 1.6912725003653766, 1.6912697861284887, 1.6912639294030778, 1.6912419381182044, 1.6912543799405275, 1.691248654786916, 1.6912446046156462, 1.6912421620126306, 1.6912582656467627, 1.6912252122088052, 1.691238419028251, 1.6912285889297265, 1.6912404577911995, 1.6912418761677637, 1.6912309742904799, 1.6912371394643095, 5.821686823204977, 27.872406997049968, 136.68900775020714, 18.413925081573797, 59.86556113749343, 3.532016974392361, 3.5319964850244863, 3.531924504655383, 8.917910131718521, 1.942383395637078, 1.9424087148108162, 1.9423430276867704, 1.942329146184237, 1.9422820466616917, 1.6881995418166262, 1.6881655192017782, 1.688168622726845, 1.6881662347277828, 1.6881553853998978, 1.6881423304745886, 1.6881453474037782, 1.688157320883739, 1.6881370495898094, 1.6881536650009152, 1.688144811524638, 1.6881374158580214, 1.6881274400614092, 1.6881347914221636, 1.6881398572509978, 1.6881390603062807, 1.6881337036010822, 1.688137775789543, 1.6881466571363763, 1.6881321605664745, 63.65124842453969, 16.858830920949217, 9.719424189060485, 16.632356392532305, 2.7813540638850416, 2.2754313117521847, 3.8307460049609823, 3.672563945313205, 3.672556647610951, 3.67255648735176, 3.6725379128396214, 3.6725322757848753, 3.6725131944152043, 3.672499509884097, 3.672476980683342, 2.5216971335760254, 1.7051992044533284, 1.70517594660644, 1.7051784984084424, 1.7051897304874668, 1.7051681355112223, 1.70517713253086, 1.7051587786722793, 1.7051703380177297, 1.7051622864927727, 1.7051583797526364, 1.7051554374724167, 1.705159239538875, 1.7051393729170385, 1.7051465773308345, 1.7051753329887416, 1.705152529973348, 1.705141189101722, 1.7051242115095029, 1.7051483470694935, 1.7051293423118248, 18.413925081573797, 16.858830920949217, 16.632356392532305, 2.7813540638850416, 2.2926552279118324, 1.9906296856284336], \"Category\": [\"Default\", \"Default\", \"Default\", \"Default\", \"Default\", \"Default\", \"Default\", \"Default\", \"Default\", \"Default\", \"Default\", \"Default\", \"Default\", \"Default\", \"Default\", \"Default\", \"Default\", \"Default\", \"Default\", \"Default\", \"Default\", \"Default\", \"Default\", \"Default\", \"Default\", \"Default\", \"Default\", \"Default\", \"Default\", \"Default\", \"Topic1\", \"Topic1\", \"Topic1\", \"Topic1\", \"Topic1\", \"Topic1\", \"Topic1\", \"Topic1\", \"Topic1\", \"Topic1\", \"Topic1\", \"Topic1\", \"Topic1\", \"Topic1\", \"Topic1\", \"Topic1\", \"Topic1\", \"Topic1\", \"Topic1\", \"Topic1\", \"Topic1\", \"Topic1\", \"Topic1\", \"Topic1\", \"Topic1\", \"Topic1\", \"Topic1\", \"Topic1\", \"Topic1\", \"Topic1\", \"Topic1\", \"Topic1\", \"Topic1\", \"Topic1\", \"Topic1\", \"Topic1\", \"Topic2\", \"Topic2\", \"Topic2\", \"Topic2\", \"Topic2\", \"Topic2\", \"Topic2\", \"Topic2\", \"Topic2\", \"Topic2\", \"Topic2\", \"Topic2\", \"Topic2\", \"Topic2\", \"Topic2\", \"Topic2\", \"Topic2\", \"Topic2\", \"Topic2\", \"Topic2\", \"Topic2\", \"Topic2\", \"Topic2\", \"Topic2\", \"Topic2\", \"Topic2\", \"Topic2\", \"Topic2\", \"Topic2\", \"Topic2\", \"Topic2\", \"Topic2\", \"Topic2\", \"Topic2\", \"Topic2\", \"Topic2\", \"Topic3\", \"Topic3\", \"Topic3\", \"Topic3\", \"Topic3\", \"Topic3\", \"Topic3\", \"Topic3\", \"Topic3\", \"Topic3\", \"Topic3\", \"Topic3\", \"Topic3\", \"Topic3\", \"Topic3\", \"Topic3\", \"Topic3\", \"Topic3\", \"Topic3\", \"Topic3\", \"Topic3\", \"Topic3\", \"Topic3\", \"Topic3\", \"Topic3\", \"Topic3\", \"Topic3\", \"Topic3\", \"Topic3\", \"Topic3\", \"Topic3\", \"Topic3\", \"Topic3\", \"Topic4\", \"Topic4\", \"Topic4\", \"Topic4\", \"Topic4\", \"Topic4\", \"Topic4\", \"Topic4\", \"Topic4\", \"Topic4\", \"Topic4\", \"Topic4\", \"Topic4\", \"Topic4\", \"Topic4\", \"Topic4\", \"Topic4\", \"Topic4\", \"Topic4\", \"Topic4\", \"Topic4\", \"Topic4\", \"Topic4\", \"Topic4\", \"Topic4\", \"Topic4\", \"Topic4\", \"Topic4\", \"Topic4\", \"Topic4\", \"Topic4\", \"Topic4\", \"Topic4\", \"Topic5\", \"Topic5\", \"Topic5\", \"Topic5\", \"Topic5\", \"Topic5\", \"Topic5\", \"Topic5\", \"Topic5\", \"Topic5\", \"Topic5\", \"Topic5\", \"Topic5\", \"Topic5\", \"Topic5\", \"Topic5\", \"Topic5\", \"Topic5\", \"Topic5\", \"Topic5\", \"Topic5\", \"Topic5\", \"Topic5\", \"Topic5\", \"Topic5\", \"Topic5\", \"Topic5\", \"Topic5\", \"Topic5\", \"Topic5\", \"Topic5\", \"Topic5\", \"Topic5\", \"Topic5\", \"Topic6\", \"Topic6\", \"Topic6\", \"Topic6\", \"Topic6\", \"Topic6\", \"Topic6\", \"Topic6\", \"Topic6\", \"Topic6\", \"Topic6\", \"Topic6\", \"Topic6\", \"Topic6\", \"Topic6\", \"Topic6\", \"Topic6\", \"Topic6\", \"Topic6\", \"Topic6\", \"Topic6\", \"Topic6\", \"Topic6\", \"Topic6\", \"Topic6\", \"Topic6\", \"Topic6\", \"Topic6\", \"Topic6\", \"Topic6\", \"Topic6\", \"Topic6\", \"Topic6\", \"Topic6\", \"Topic6\", \"Topic6\", \"Topic6\", \"Topic6\", \"Topic7\", \"Topic7\", \"Topic7\", \"Topic7\", \"Topic7\", \"Topic7\", \"Topic7\", \"Topic7\", \"Topic7\", \"Topic7\", \"Topic7\", \"Topic7\", \"Topic7\", \"Topic7\", \"Topic7\", \"Topic7\", \"Topic7\", \"Topic7\", \"Topic7\", \"Topic7\", \"Topic7\", \"Topic7\", \"Topic7\", \"Topic7\", \"Topic7\", \"Topic7\", \"Topic7\", \"Topic7\", \"Topic7\", \"Topic7\", \"Topic7\", \"Topic7\", \"Topic7\", \"Topic7\", \"Topic8\", \"Topic8\", \"Topic8\", \"Topic8\", \"Topic8\", \"Topic8\", \"Topic8\", \"Topic8\", \"Topic8\", \"Topic8\", \"Topic8\", \"Topic8\", \"Topic8\", \"Topic8\", \"Topic8\", \"Topic8\", \"Topic8\", \"Topic8\", \"Topic8\", \"Topic8\", \"Topic8\", \"Topic8\", \"Topic8\", \"Topic8\", \"Topic8\", \"Topic8\", \"Topic8\", \"Topic8\", \"Topic8\", \"Topic8\", \"Topic8\", \"Topic8\", \"Topic8\", \"Topic8\", \"Topic8\", \"Topic8\", \"Topic9\", \"Topic9\", \"Topic9\", \"Topic9\", \"Topic9\", \"Topic9\", \"Topic9\", \"Topic9\", \"Topic9\", \"Topic9\", \"Topic9\", \"Topic9\", \"Topic9\", \"Topic9\", \"Topic9\", \"Topic9\", \"Topic9\", \"Topic9\", \"Topic9\", \"Topic9\", \"Topic9\", \"Topic9\", \"Topic9\", \"Topic9\", \"Topic9\", \"Topic9\", \"Topic9\", \"Topic9\", \"Topic9\", \"Topic9\", \"Topic9\", \"Topic9\", \"Topic9\", \"Topic9\", \"Topic9\", \"Topic9\"], \"logprob\": [30.0, 29.0, 28.0, 27.0, 26.0, 25.0, 24.0, 23.0, 22.0, 21.0, 20.0, 19.0, 18.0, 17.0, 16.0, 15.0, 14.0, 13.0, 12.0, 11.0, 10.0, 9.0, 8.0, 7.0, 6.0, 5.0, 4.0, 3.0, 2.0, 1.0, -1.7948, -5.7514, -5.7514, -5.7515, -5.7515, -6.0697, -6.9823, -7.4719, -7.472, -7.472, -7.472, -7.472, -7.472, -7.472, -7.4721, -7.472, -7.4721, -7.4721, -7.4721, -7.4721, -7.4721, -7.4721, -7.4721, -7.4721, -7.4721, -7.4721, -7.4721, -7.4721, -7.4721, -7.4721, -5.9047, -5.9044, -6.982, -5.67, -6.9817, -6.9815, -2.6159, -4.832, -5.6942, -5.6942, -5.6942, -5.6942, -5.6942, -5.6942, -5.6943, -4.3302, -5.7427, -4.1456, -6.4868, -6.4869, -6.9248, -6.9252, -6.9249, -7.4148, -7.4148, -7.4148, -7.4148, -7.4148, -7.4148, -7.4148, -7.4149, -7.4149, -7.4149, -7.4149, -7.4149, -7.4149, -6.9247, -5.7234, -6.3509, -6.597, -7.4028, -7.414, -3.3003, -4.2751, -4.2002, -5.6327, -5.6328, -5.6328, -5.6328, -5.6328, -5.6328, -6.4255, -6.8637, -6.8638, -7.3533, -7.3534, -7.3534, -7.3535, -7.3535, -7.3535, -7.3535, -7.3535, -7.3535, -7.3535, -7.3535, -7.3535, -7.3535, -7.3535, -7.3535, -7.3535, -7.3535, -7.3535, -6.8637, -6.5344, -7.3491, -3.2873, -5.2809, -5.5436, -5.6339, -5.6339, -5.6339, -5.6339, -5.6339, -5.6339, -5.6339, -6.2909, -6.5373, -6.8645, -6.5372, -4.6959, -7.3545, -7.3545, -7.3545, -7.3546, -7.3546, -7.3546, -7.3546, -7.3546, -7.3546, -7.3546, -7.3546, -7.3546, -7.3546, -7.3546, -7.3546, -6.8647, -5.5527, -6.5371, -3.9555, -4.3763, -5.6236, -5.6237, -5.6237, -5.6237, -5.6237, -5.6237, -5.6237, -5.6237, -5.6237, -6.8545, -6.5268, -4.6008, -7.3442, -7.3442, -7.3443, -7.3443, -7.3443, -7.3444, -7.3444, -7.3444, -7.3444, -7.3444, -7.3444, -7.3444, -7.3444, -7.3444, -7.3444, -7.3444, -6.2806, -5.3516, -6.2793, -6.8532, -5.0953, -4.5248, -5.5912, -5.5912, -5.5912, -5.5913, -5.5913, -5.2382, -6.4943, -6.4946, -6.8222, -6.8221, -6.8221, -7.3119, -7.3119, -7.3119, -7.3119, -7.3119, -7.3119, -7.3119, -7.3119, -7.3119, -7.3119, -7.3119, -7.3119, -7.3119, -7.3119, -7.312, -7.312, -7.312, -6.8219, -5.2381, -5.7442, -7.3107, -7.3111, -7.3118, -7.3119, -7.3119, -3.3091, -3.3619, -5.6557, -5.6558, -5.6558, -5.6558, -5.6558, -5.6558, -5.6558, -5.6558, -5.6558, -6.3128, -6.8864, -6.8869, -7.3763, -7.3764, -7.3764, -7.3764, -7.3764, -7.3764, -7.3764, -7.3765, -7.3765, -7.3765, -7.3765, -7.3765, -7.3765, -7.3765, -7.3765, -7.3765, -6.559, -6.5581, -7.3645, -7.3729, -2.3988, -5.6601, -5.6602, -5.6602, -4.7902, -6.891, -6.891, -6.8911, -6.8912, -6.8913, -7.3807, -7.3808, -7.3808, -7.3808, -7.3809, -7.3809, -7.3809, -7.3809, -7.3809, -7.3809, -7.3809, -7.3809, -7.3809, -7.3809, -7.3809, -7.3809, -7.3809, -7.3809, -7.3809, -7.3809, -5.9538, -6.5624, -6.8904, -7.3796, -7.3807, -7.3808, -5.513, -5.5767, -5.5767, -5.5767, -5.5767, -5.5767, -5.5767, -5.5767, -5.5767, -6.4798, -7.2973, -7.2974, -7.2974, -7.2974, -7.2974, -7.2974, -7.2974, -7.2974, -7.2974, -7.2974, -7.2974, -7.2974, -7.2975, -7.2975, -7.2975, -7.2975, -7.2975, -7.2975, -7.2975, -7.2975, -4.9475, -6.0359, -6.8067, -7.2972, -7.2973, -7.2974], \"loglift\": [30.0, 29.0, 28.0, 27.0, 26.0, 25.0, 24.0, 23.0, 22.0, 21.0, 20.0, 19.0, 18.0, 17.0, 16.0, 15.0, 14.0, 13.0, 12.0, 11.0, 10.0, 9.0, 8.0, 7.0, 6.0, 5.0, 4.0, 3.0, 2.0, 1.0, 2.0179, 1.6467, 1.6467, 1.6467, 1.6467, 1.3924, 0.8084, 0.7165, 0.7164, 0.7164, 0.7164, 0.7164, 0.7164, 0.7164, 0.7164, 0.7164, 0.7164, 0.7163, 0.7163, 0.7163, 0.7163, 0.7163, 0.7163, 0.7163, 0.7163, 0.7163, 0.7163, 0.7163, 0.7163, 0.7163, 0.3429, -0.0872, 0.2884, -1.0931, -0.7463, -1.0625, 1.9611, 1.8958, 1.6861, 1.6861, 1.6861, 1.6861, 1.6861, 1.6861, 1.686, 1.5753, 1.5276, 1.457, 1.3525, 1.3524, 1.1017, 0.9829, 0.9757, 0.7688, 0.7688, 0.7688, 0.7688, 0.7688, 0.7688, 0.7688, 0.7688, 0.7688, 0.7687, 0.7687, 0.7687, 0.7687, 0.6103, 0.0939, 0.1914, -0.6779, -3.5901, -0.4452, 2.1024, 2.0748, 2.0352, 1.7824, 1.7823, 1.7823, 1.7823, 1.7823, 1.7823, 1.4365, 1.1789, 1.0448, 0.8396, 0.8395, 0.8395, 0.8395, 0.8395, 0.8395, 0.8395, 0.8395, 0.8394, 0.8394, 0.8394, 0.8394, 0.8394, 0.8394, 0.8394, 0.8394, 0.8394, 0.8394, 0.7435, -1.9574, -1.7464, 2.1525, 1.8892, 1.8123, 1.7824, 1.7824, 1.7824, 1.7824, 1.7824, 1.7823, 1.7823, 1.5062, 1.2677, 1.1785, 1.1567, 1.1213, 0.8387, 0.8387, 0.8387, 0.8387, 0.8387, 0.8387, 0.8387, 0.8387, 0.8387, 0.8387, 0.8386, 0.8386, 0.8386, 0.8386, 0.8386, 0.7425, 0.05, -0.0808, 1.9635, 1.8713, 1.7999, 1.7999, 1.7999, 1.7999, 1.7999, 1.7999, 1.7999, 1.7999, 1.7999, 1.1919, 1.1806, 1.0019, 0.8509, 0.8509, 0.8509, 0.8508, 0.8508, 0.8508, 0.8508, 0.8508, 0.8508, 0.8508, 0.8508, 0.8508, 0.8508, 0.8508, 0.8508, 0.8508, 0.2617, -1.539, -1.7023, -1.4505, 1.9695, 1.9315, 1.8258, 1.8258, 1.8258, 1.8258, 1.8258, 1.7306, 1.4187, 1.4184, 1.2213, 1.101, 0.9745, 0.8816, 0.8815, 0.8815, 0.8815, 0.8815, 0.8815, 0.8815, 0.8815, 0.8815, 0.8815, 0.8815, 0.8815, 0.8815, 0.8815, 0.8815, 0.8815, 0.8815, 0.872, 0.6673, 0.073, -1.3917, -1.0635, 0.2954, 0.4788, 0.7314, 2.2008, 2.1981, 1.8056, 1.8055, 1.8055, 1.8055, 1.8055, 1.8055, 1.8055, 1.8055, 1.8055, 1.2221, 1.1768, 1.1765, 0.8285, 0.8285, 0.8285, 0.8285, 0.8285, 0.8285, 0.8285, 0.8284, 0.8284, 0.8284, 0.8284, 0.8284, 0.8284, 0.8284, 0.8284, 0.8284, 0.4097, -1.1554, -3.5519, -1.5556, 2.2395, 1.8083, 1.8083, 1.8083, 1.7521, 1.1755, 1.1755, 1.1753, 1.1753, 1.1753, 0.8261, 0.8259, 0.8259, 0.8259, 0.8259, 0.8259, 0.8259, 0.8259, 0.8258, 0.8258, 0.8258, 0.8258, 0.8258, 0.8258, 0.8258, 0.8258, 0.8258, 0.8258, 0.8258, 0.8258, -1.3769, -0.6569, -0.4342, -1.4606, 0.3268, 0.5274, 1.8744, 1.8528, 1.8528, 1.8528, 1.8528, 1.8528, 1.8528, 1.8528, 1.8528, 1.3256, 0.8994, 0.8993, 0.8993, 0.8993, 0.8993, 0.8993, 0.8993, 0.8993, 0.8993, 0.8993, 0.8993, 0.8993, 0.8992, 0.8992, 0.8992, 0.8992, 0.8992, 0.8992, 0.8992, 0.8992, 0.8698, -0.1304, -0.8877, 0.4102, 0.6033, 0.7445]}, \"token.table\": {\"Topic\": [2, 4, 5, 2, 6, 8, 9, 2, 3, 4, 6, 1, 2, 4, 6, 9, 4, 2, 8, 7, 4, 4, 6, 6, 2, 7, 8, 3, 1, 5, 2, 7, 9, 2, 4, 9, 4, 7, 7, 8, 3, 6, 5, 4, 3, 3, 6, 5, 2, 3, 1, 7, 2, 7, 4, 6, 8, 9, 8, 5, 7, 2, 6, 2, 5, 8, 4, 5, 9, 8, 7, 4, 9, 1, 3, 1, 5, 3, 3, 5, 3, 5, 8, 5, 4, 9, 7, 6, 6, 7, 4, 6, 8, 9, 6, 5, 1, 3, 5, 7, 1, 2, 9, 7, 3, 1, 4, 4, 2, 2, 1, 2, 5, 9, 9, 1, 2, 3, 5, 8, 2, 7, 6, 2, 4, 5, 1, 8, 5, 2, 6, 9, 7, 5, 1, 2, 6, 1, 3, 8, 7, 4], \"Freq\": [0.5258111214379756, 0.1314527803594939, 0.30672315417215246, 0.5931609402152401, 0.17794828206457203, 0.05931609402152401, 0.11863218804304802, 0.4361754823950601, 0.32526013602575493, 0.32526013602575493, 0.3930629587234486, 0.10861345373894964, 0.16292018060842445, 0.3258403612168489, 0.10861345373894964, 0.21722690747789927, 0.630225709043757, 0.4102306973527329, 0.5148247082990443, 0.9585452351792882, 0.39639719584788163, 0.7589167432982608, 0.7563578971571676, 0.44156734402918585, 0.3025801229187045, 0.3025801229187045, 0.5148582831822781, 0.9250881475353461, 0.965695794948076, 0.02194763170336536, 0.43947712015527945, 0.5621977278703758, 0.5445833691339227, 0.7776748830242285, 0.5374339357325602, 0.5445825332415947, 0.5374432615929997, 0.5621957523542159, 0.5621907897047294, 0.5148314190937635, 0.5368039975245402, 0.5378610229746783, 0.5413713031051385, 0.5374364940921976, 0.5368174281666306, 0.5368257936227364, 0.44159792344187154, 0.5413566523457528, 0.4102207933015981, 0.5026933975075065, 0.7916453643137162, 0.5621946682399018, 0.7776627898218545, 0.5131727429793654, 0.3547124255871384, 0.3547124255871384, 0.5148421188974782, 0.5445797551689305, 0.5662635193260294, 0.5413757716037136, 0.5621934680224105, 0.49471131099701454, 0.5031504432607578, 0.11213389518731284, 0.11213389518731284, 0.5606694759365642, 0.5029202453484658, 0.5413637711523498, 0.5445882278860044, 0.5662486943013842, 0.5621930869867577, 0.5374414965918483, 0.5445915687204274, 0.08249543812157983, 0.8249543812157984, 0.16702202299067015, 0.6680880919626806, 0.4396353401709397, 0.5368225734203245, 0.5413651946722732, 0.5368265505057304, 0.5413697787021188, 0.5148457983882544, 0.35953710927517923, 0.5374419361620383, 0.3965583283912836, 0.562190742846541, 0.4460832592956244, 0.5153145627899697, 0.17177152092998987, 0.10288675342779371, 0.720207273994556, 0.10288675342779371, 0.5445786730418483, 0.5378463315109698, 0.5046069801106496, 0.7916431823545352, 0.8969444225841713, 0.035877776903366854, 0.035877776903366854, 0.5626243657787521, 0.7776666706845551, 0.7831372782520349, 0.965738806271829, 0.4196508127527213, 0.3907483247005623, 0.3932571847719863, 0.537442026203711, 0.8099255182126548, 0.7776495450406071, 0.06012377178551717, 0.06012377178551717, 0.7816090332117233, 0.06012377178551717, 0.5445861986395046, 0.04713183282738881, 0.8797942127779245, 0.015710610942462937, 0.015710610942462937, 0.031421221884925875, 0.777654478655858, 0.5621842919289745, 0.5378524999301925, 0.7776439921551985, 0.5374315729014708, 0.5413740463647891, 0.7916550627430098, 0.5662519791511442, 0.5413674991066653, 0.7776705598192815, 0.5378512031546636, 0.5445797789327341, 0.5621969817502405, 0.5413690982114813, 0.232224575727918, 0.464449151455836, 0.5378441653925772, 0.7916571135543304, 0.5368189464828812, 0.985541584826951, 0.5132284400269274, 0.9680043012422834], \"Term\": [\"\\uac00\\uaca9 \\uad1c\\ucc2e\\ub2e4 \\ubc30\\uc1a1\", \"\\uac00\\uaca9 \\uad1c\\ucc2e\\ub2e4 \\ubc30\\uc1a1\", \"\\uac00\\uaca9 \\uad1c\\ucc2e\\ub2e4 \\ubc30\\uc1a1\", \"\\uac00\\uaca9 \\uad1c\\ucc2e\\ub2e4 \\ubc30\\uc1a1 \\ube68\\ub974\\ub2e4\", \"\\uac00\\uaca9 \\uad1c\\ucc2e\\ub2e4 \\ubc30\\uc1a1 \\ube68\\ub974\\ub2e4\", \"\\uac00\\uaca9 \\uad1c\\ucc2e\\ub2e4 \\ubc30\\uc1a1 \\ube68\\ub974\\ub2e4\", \"\\uac00\\uaca9 \\uad1c\\ucc2e\\ub2e4 \\ubc30\\uc1a1 \\ube68\\ub974\\ub2e4\", \"\\uac00\\uaca9 \\uad1c\\ucc2e\\ub2e4 \\ubc30\\uc1a1 \\ube68\\ub974\\ub2e4 \\uafb8\\uc900\\ud558\\ub2e4\", \"\\uac00\\uaca9 \\uad1c\\ucc2e\\ub2e4 \\ubc30\\uc1a1 \\uc88b\\ub2e4\", \"\\uac00\\uaca9 \\uad1c\\ucc2e\\ub2e4 \\ubc30\\uc1a1 \\uc88b\\ub2e4\", \"\\uac00\\uaca9 \\uc2f8\\ub2e4 \\uc0ac\\ub2e4 \\ubc30\\uc1a1\", \"\\uac00\\uaca9 \\uc2f8\\ub2e4 \\uc0ac\\ub2e4 \\ubc30\\uc1a1 \\ube68\\ub974\\ub2e4\", \"\\uac00\\uaca9 \\uc2f8\\ub2e4 \\uc0ac\\ub2e4 \\ubc30\\uc1a1 \\ube68\\ub974\\ub2e4\", \"\\uac00\\uaca9 \\uc2f8\\ub2e4 \\uc0ac\\ub2e4 \\ubc30\\uc1a1 \\ube68\\ub974\\ub2e4\", \"\\uac00\\uaca9 \\uc2f8\\ub2e4 \\uc0ac\\ub2e4 \\ubc30\\uc1a1 \\ube68\\ub974\\ub2e4\", \"\\uac00\\uaca9 \\uc2f8\\ub2e4 \\uc0ac\\ub2e4 \\ubc30\\uc1a1 \\ube68\\ub974\\ub2e4\", \"\\uac00\\uaca9 \\uc2f8\\ub2e4 \\uc0ac\\ub2e4 \\ubc30\\uc1a1 \\ube68\\ub974\\ub2e4 \\uc88b\\ub2e4\", \"\\uac10\\uc0ac\\ud558\\ub2e4 \\uc0c1\\uc138\", \"\\ub298\\ub2e4 \\ub354\\ub514\\ub2e4 \\ubc09\\ub2e4 \\uc11c\\ub2e4 \\ub298\\ub2e4 \\ub354\\ub514\\ub2e4 \\ubc09\\ub2e4 \\uc11c\\ub2e4 \\ub298\\ub2e4 \\ub354\\ub514\\ub2e4 \\ubc09\\ub2e4 \\uc11c\\ub2e4\", \"\\ubaa8\\ub974\\ub2e4 \\uafb8\\uc900\\ud558\\ub2e4\", \"\\ubbff\\ub2e4 \\uc0c1\\uc138\", \"\\ubc30\\uc1a1\", \"\\ubc30\\uc1a1 \\ube68\\ub974\\ub2e4\", \"\\ubc30\\uc1a1 \\ube68\\ub974\\ub2e4 \\ub9db\\uc788\\ub2e4 \\uc720\\ud1b5 \\uae30\\ud55c \\uae30\\ud55c \\ub109\\ub109\\ud558\\ub2e4\", \"\\ubc30\\uc1a1 \\ube68\\ub974\\ub2e4 \\ub9db\\uc788\\ub2e4 \\uc720\\ud1b5 \\uae30\\ud55c \\uae30\\ud55c \\ub109\\ub109\\ud558\\ub2e4 \\uc88b\\ub2e4\", \"\\ubc30\\uc1a1 \\ube68\\ub974\\ub2e4 \\ub9db\\uc788\\ub2e4 \\uc720\\ud1b5 \\uae30\\ud55c \\uae30\\ud55c \\ub109\\ub109\\ud558\\ub2e4 \\uc88b\\ub2e4\", \"\\ubc30\\uc1a1 \\ube68\\ub974\\ub2e4 \\uc131\\ub2a5 \\uc131\\ub2a5 \\ub6f0\\uc5b4\\ub098\\ub2e4\", \"\\ubc30\\uc1a1 \\ube68\\ub974\\ub2e4 \\uc131\\ub2a5 \\uc131\\ub2a5 \\ub6f0\\uc5b4\\ub098\\ub2e4 \\uc720\\ud1b5 \\uae30\\ud55c\", \"\\ubc30\\uc1a1 \\ube68\\ub974\\ub2e4 \\uc131\\ub2a5 \\uc131\\ub2a5 \\ub6f0\\uc5b4\\ub098\\ub2e4 \\uc720\\ud1b5 \\uae30\\ud55c \\uae30\\ud55c \\ub109\\ub109\\ud558\\ub2e4\", \"\\ubc30\\uc1a1 \\ube68\\ub974\\ub2e4 \\uc131\\ub2a5 \\uc131\\ub2a5 \\ub6f0\\uc5b4\\ub098\\ub2e4 \\uc720\\ud1b5 \\uae30\\ud55c \\uae30\\ud55c \\ub109\\ub109\\ud558\\ub2e4\", \"\\ubc30\\uc1a1 \\ube68\\ub974\\ub2e4 \\uc131\\ub2a5 \\uc131\\ub2a5 \\ub6f0\\uc5b4\\ub098\\ub2e4 \\uc720\\ud1b5 \\uae30\\ud55c \\uae30\\ud55c \\ub109\\ub109\\ud558\\ub2e4 1\\ub144 \\ub118\\ub2e4 \\uace0\\ud608\\uc555 \\uba39\\uae30 \\ub450\\ud1b5 \\uc790\\uc8fc \\uc0ac\\ub77c\\uc9c0\\ub2e4 \\uafb8\\uc900\\ud558\\ub2e4 \\uad6c\\ub9e4\", \"\\ubc30\\uc1a1 \\ube68\\ub974\\ub2e4 \\uc131\\ub2a5 \\uc131\\ub2a5 \\ub6f0\\uc5b4\\ub098\\ub2e4 \\uc720\\ud1b5 \\uae30\\ud55c \\uae30\\ud55c \\ub109\\ub109\\ud558\\ub2e4 60 \\uace0\\ud608\\uc555 \\ub0a8\\ud3b8 \\uafb8\\uc900\\ud558\\ub2e4 \\uc88b\\ub2e4 \\uac00\\uaca9 \\uad6c\\ub9e4 \\ubd80\\ub2f4 \\uc904\\uc5b4\\ub4e4\\ub2e4 \\uc88b\\ub2e4 \\ud655\\uc2e4\\ud558\\ub2e4 \\ud608\\ud589 \\uac1c\\uc120 \\ub3c4\\uc6c0 \\uc720\\ud1b5 \\uae30\\ud55c 24\\ub144 3\\uc6d4 20\\uc77c \\ub109\\ub109\\ud558\\ub2e4 \\uc81c\\ud488 \\ube60\\ub974\\ub2e4 \\ubcf4\\ub0b4\\ub2e4 \\uac10\\uc0ac\\ud558\\ub2e4 \\uc0c1\\uc138 \\uc0c1\\uc138 \\uc0c1\\uc138\", \"\\ubc30\\uc1a1 \\ube68\\ub974\\ub2e4 \\uc131\\ub2a5 \\uc131\\ub2a5 \\ub6f0\\uc5b4\\ub098\\ub2e4 \\uc720\\ud1b5 \\uae30\\ud55c \\uae30\\ud55c \\ub109\\ub109\\ud558\\ub2e4 60 \\ub300\\uc785 \\ud56d\\uc0c1 \\uc800\\ub9ac \\uc950\\ub2e4 \\uac83\\ud608\\ud589 \\uc88b\\ub2e4 \\uc774\\ub780 \\ud574\\ub3c4 \\ucc28\\ub3c4 \\uc9c0\\uc778 \\uc18c\\uac1c \\uc368\\ub2e4 \\uc2dc\\uc548 \\uad6c\\ub9e4 \\uc800\\ub9ac \\uc950\\ub2e4 \\ub9ac\\uac00 \\uc88b\\ub2e4 \\uc800\\uc11c 2\\ub144 \\ud608\\uc555 \\uc88b\\uc544\\uc9c0\\ub2e4 \\ub808\\uc2a4\\ud130 \\uce58\\uc218 \\uc88b\\ub2e4 \\uc800\\uc2b5 \\uc9c8\\ud658 \\uad8c\\ud558\\ub2e4 \\uad8c\\ud587 \\ub354\\ub2c8 \\uc88b\\ub2e4 \\uc0ac\\uc8fc\\ub2e4 \\ud655\\uc2e4\\ud558\\ub2e4 \\uc77c\\ubc18\\uc778 \\uacbd\\ud5d8 \\ud6c4\\uae30 \\uac00\\uaca9 \\ub9cc\\ucc2c \\uac8c\\uc880 \\ud5c8\\ub2e4 \\ub2eb\\ub2e4 \\uc0c1\\uc138\", \"\\ubc30\\uc1a1 \\ube68\\ub974\\ub2e4 \\uc131\\ub2a5 \\uc131\\ub2a5 \\ub6f0\\uc5b4\\ub098\\ub2e4 \\uc720\\ud1b5 \\uae30\\ud55c \\uae30\\ud55c \\ub109\\ub109\\ud558\\ub2e4 \\uac1c\\ubcf4 \\uc2f8\\ub2e4 \\ubb34\\uc870\\uac74 \\uc0ac\\ub2e4 \\uac00\\uaca9 \\ud658\\uac00 79000\\uc6d0 \\uac00\\uaca9 158,000\\uc6d0 139,000\\uc6d0 \\uad6c\\uc131 \\ud560\\uc778 \\uae5c\\uc9dd \\ub180\\ub798\\ub2e4 \\ubb34\\uc870\\uac74 \\uc635\\uc158 \\uad6c\\ub9e4 20 \\ub300\\ub2e4 \\ud6c4\\ubc18 \\uc9c1\\uc7a5 \\uc778\\uad6c \\ub4dc\\ub9ac\\ub2e4 \\uad6c\\ub9e4 \\uc774\\uc608 50 \\ub300\\ub2e4 \\ud6c4\\ubc18 \\uac00\\uc815 \\uc8fc\\ubd80 \\ubc31\\ub0b4\\uc7a5 \\uc218\\uc220 \\uc608\\uc57d \\ud608\\uc555 \\ub192\\ub2e4 \\uc218\\uc220 \\uc548\\ub418\\ub2e4 \\ubcd1\\uc6d0 \\uace0\\ud608\\uc555 \\ud608\\uc555 \\uc870\\uc808 \\uc218\\uc220 \\uace0\\ud608\\uc555 \\uc57c\\ud558\\ub2e4 \\ubd80\\uc791\\uc6a9 \\uc548\\ub418\\ub2e4 \\uace0\\ud608\\uc555 \\uc591\\uc81c \\uac80\\uc0c9 \\ud574\\ubcf4\\ub2e4 \\uc368\\ub2e4 \\uc548\\uc774 \\ud6c4\\uae30 \\uace0\\ud608\\uc555 \\ud658\\uc790 \\uac70\\ub098 \\uace0\\ud608\\uc555 \\uacbd\\uacc4 \\ub2e8\\uacc4 \\uad00\\ub9ac \\uc774\\uc57c\\uae30 \\ub9ce\\ub2e4 \\uad6c\\ub9e4 \\uc368\\ub2e4 \\uc2dc\\uc548 \\uc2dd\\uc0ac \\ud655\\uc2e4\\ud558\\ub2e4 \\uace0\\ud608\\uc555 \\ud608\\uc555 \\uace0\\ud608\\uc555 1\\uc6d4 165/110 \\uace0\\ud608\\uc555 \\ubcf5\\uc6a9 3\\uc6d4 145/103 \\uc368\\ub2e4 \\uc2dc\\uc548 \\ubcf5\\uc6a9 5\\uc6d4 135/92 \\uace0\\ud608\\uc555 \\uc57d\\uacfc \\ubcf5\\uc6a9 \\ub5a8\\uc5b4\\uc9c0\\ub2e4 \\ud608\\uc555 \\uace0\\ud608\\uc555 \\ub04a\\ub2e4 \\uae30\\ub300 \\ud574\\ubcf4\\ub2e4 \\uc88b\\ub2e4 \\ud608\\uc555 \\uac00\\uc871 \\uac71\\uc815 \\uad00\\ub9ac \\uc88b\\uc544\\uc9c0\\ub2e4 \\ud76c\\ub9dd\\uc774 \\ubcf4\\uc774\\ub2e4 \\uac10\\uc0ac\\ud558\\ub2e4 \\uc0c1\\uc138 \\uc0c1\\uc138 \\uc0c1\\uc138 \\uc0c1\\uc138\", \"\\ubc30\\uc1a1 \\ube68\\ub974\\ub2e4 \\uc131\\ub2a5 \\uc131\\ub2a5 \\ub6f0\\uc5b4\\ub098\\ub2e4 \\uc720\\ud1b5 \\uae30\\ud55c \\uae30\\ud55c \\ub109\\ub109\\ud558\\ub2e4 \\uac74\\uac15\\uac80\\uc9c4 \\ucf5c\\ub808\\uc2a4\\ud14c\\ub864 \\uc218\\uce58 \\uace0\\uc9c0\\ud608\\uc99d \\ub192\\ub2e4 \\uae5c\\ub180 \\uc54c\\uc544\\ubcf4\\ub2e4 \\ud6c4\\uae30 \\uc88b\\ub2e4 \\uad6c\\ub9e4 \\uaca8\\uc6b8 \\uc190\\ubc1c \\ucc28\\ub2e4 \\ub450\\ub8e8 \\ub450\\ub8e8 \\uc88b\\ub2e4 \\uae30\\ub300\\ud558\\ub2e4 \\ud6c4\\uae30 \\uc62c\\ub9ac\\ub2e4\", \"\\ubc30\\uc1a1 \\ube68\\ub974\\ub2e4 \\uc131\\ub2a5 \\uc131\\ub2a5 \\ub6f0\\uc5b4\\ub098\\ub2e4 \\uc720\\ud1b5 \\uae30\\ud55c \\uae30\\ud55c \\ub109\\ub109\\ud558\\ub2e4 \\uace0\\uc9c0\\ud608\\uc99d \\uad6c\\uc785 \\ubcf5\\uc6a9\", \"\\ubc30\\uc1a1 \\ube68\\ub974\\ub2e4 \\uc131\\ub2a5 \\uc131\\ub2a5 \\ub6f0\\uc5b4\\ub098\\ub2e4 \\uc720\\ud1b5 \\uae30\\ud55c \\uae30\\ud55c \\ub109\\ub109\\ud558\\ub2e4 \\uace0\\ud608\\uc555 \\uac00\\uc871 \\ud608\\uad00 \\uac74\\uac15 \\uac71\\uc815 \\ub3fc\\ub2e4 \\ud608\\uad00 \\uc88b\\ub2e4 \\uc624\\uba54\\uac00 \\uc54c\\uc544\\ubcf4\\ub2e4 \\uc0dd\\uc120 \\ub9cc\\ub4e4\\ub2e4 \\ub3d9\\ubb3c\\uc131 \\uc624\\uba54\\uac00 \\ub298\\ub2e4 \\uc911\\uae08\\uc18d \\uc704\\ud5d8 \\ud574\\uc870\\ub958 \\uc624\\uba54\\uac00 \\uad6c\\ub9e4 \\uc784\\uc0b0\\ubd80 \\uc18c\\ub9ac \\ubbff\\ub2e4 \\uad6c\\ub9e4 \\uc624\\uba54\\uac00 \\ub298\\ub2e4 \\ud608\\uad00 \\uc911\\uc131 \\uc9c0\\ubc29 \\ub179\\uc774\\ub2e4 \\ud608\\uad00 \\uccad\\uc18c \\ud574\\uc8fc\\ub2e4 \\ud608\\uc561 \\uc21c\\ud658 \\ub3c4\\uc640\\uc8fc\\ub2e4 \\ubd88\\uaddc\\uce59\\ud558\\ub2e4 \\uc2b5\\uad00 \\uc911\\uc131 \\uc9c0\\ubc29 \\uac71\\uc815 \\ud544\\uc694\\ud558\\ub2e4 \\uc591\\uc81c \\ub365\\ub2e4 \\ucf54\\uc5d4\\uc790\\uc784 \\ud050\\ud150 \\ud765\\uad6d \\ucf54\\uc5d4\\uc790\\uc784 \\ud050\\ud150 \\ubcc4\\uba85 \\uc2ec\\uc7a5 \\ube44\\ud0c0\\ubbfc \\uc2ec\\uc7a5 \\ud38c\\ud54c \\ub3c4\\uc640\\uc8fc\\ub2e4 \\ud608\\uc561 \\uc21c\\ud658 \\uc88b\\ub2e4 \\ub3c4\\uc640\\uc8fc\\ub2e4 \\ub300\\uc694 \\ud765\\uad6d \\uc88b\\ub2e4 \\ucf5c\\ub808\\uc2a4\\ud2b8\\ub864 \\ub192\\uc774\\ub2e4 \\ub098\\uc058\\ub2e4 \\ucf5c\\ub808\\uc2a4\\ud14c\\ub864 \\ub0ae\\ucd94\\ub2e4 \\ud608\\uad00 \\ub354\\uc6b1 \\uad00\\ub9ac \\uc88b\\ub2e4 \\uc591\\uc81c \\uba39\\uae30 \\uac00\\uaca9 \\ubd80\\ub2f4 \\uac2f\\uc218 \\ub9ce\\uc544\\uc9c0\\ub2e4 \\uba39\\uae30 \\uc26c\\ub2e4 \\uc368\\ub2e4 \\uc2dc\\uc548 \\ubaa8\\ub4e0 \\uc88b\\ub2e4 \\ub2e4\\uac00 \\uba74\\uc5ed \\uc88b\\ub2e4 \\ud608\\uad00 \\uc810\\ub9c9 \\uc88b\\ub2e4 \\uc62c\\uc778\\uc6d0 \\ud608\\uad00 \\uad00\\ub9ac\\uc81c \\ub044\\ub2e4 \\ub2eb\\ub2e4 \\uc0c1\\uc138 \\uc0c1\\uc138 \\uc0c1\\uc138\", \"\\ubc30\\uc1a1 \\ube68\\ub974\\ub2e4 \\uc131\\ub2a5 \\uc131\\ub2a5 \\ub6f0\\uc5b4\\ub098\\ub2e4 \\uc720\\ud1b5 \\uae30\\ud55c \\uae30\\ud55c \\ub109\\ub109\\ud558\\ub2e4 \\uad6c\\ub9e4 \\uac00\\ubfd0\\ud558\\ub2e4 \\ub118\\uce58\\ub2e4 \\uc801\\uadf9 \\uc7a5\\ud558\\ub2e4 \\uc88b\\ub2e4 \\ud608\\ud589 \\uac1c\\uc120 \\ud1a1\\ud1a1\\ud558\\ub2e4 \\uc0c1\\uc138 \\uc0c1\\uc138 \\uc0c1\\uc138 \\uc0c1\\uc138\", \"\\ubc30\\uc1a1 \\ube68\\ub974\\ub2e4 \\uc131\\ub2a5 \\uc131\\ub2a5 \\ub6f0\\uc5b4\\ub098\\ub2e4 \\uc720\\ud1b5 \\uae30\\ud55c \\uae30\\ud55c \\ub109\\ub109\\ud558\\ub2e4 \\uad6c\\ub9e4 \\uad6c\\ub9e4\", \"\\ubc30\\uc1a1 \\ube68\\ub974\\ub2e4 \\uc131\\ub2a5 \\uc131\\ub2a5 \\ub6f0\\uc5b4\\ub098\\ub2e4 \\uc720\\ud1b5 \\uae30\\ud55c \\uae30\\ud55c \\ub109\\ub109\\ud558\\ub2e4 \\uad6c\\uc785 \\uc81c\\ud488 \\uac31\\ub144\\uae30 \\ub3c4\\uc6c0 \\uc0c1\\uc138\", \"\\ubc30\\uc1a1 \\ube68\\ub974\\ub2e4 \\uc131\\ub2a5 \\uc131\\ub2a5 \\ub6f0\\uc5b4\\ub098\\ub2e4 \\uc720\\ud1b5 \\uae30\\ud55c \\uae30\\ud55c \\ub109\\ub109\\ud558\\ub2e4 \\uae30\\ubd84 \\uc5c5\\ub2e4 \\uc0c1\\ucf8c\\ud558\\ub2e4 \\ud53c\\ub85c \\uc88b\\ub2e4 \\ud798\\ucc28\\ub2e4 \\ubcf4\\ub0b4\\ub2e4 \\uc0c1\\uc138 \\uc0c1\\uc138 \\uc0c1\\uc138\", \"\\ubc30\\uc1a1 \\ube68\\ub974\\ub2e4 \\uc131\\ub2a5 \\uc131\\ub2a5 \\ub6f0\\uc5b4\\ub098\\ub2e4 \\uc720\\ud1b5 \\uae30\\ud55c \\uae30\\ud55c \\ub109\\ub109\\ud558\\ub2e4 \\uafb8\\uc900\\ud558\\ub2e4 \\ubcf5\\uc6a9 \\ud574\\ubcf4\\ub2e4 \\uac00\\uaca9 \\uc800\\ub834\", \"\\ubc30\\uc1a1 \\ube68\\ub974\\ub2e4 \\uc131\\ub2a5 \\uc131\\ub2a5 \\ub6f0\\uc5b4\\ub098\\ub2e4 \\uc720\\ud1b5 \\uae30\\ud55c \\uae30\\ud55c \\ub109\\ub109\\ud558\\ub2e4 \\uafb8\\uc900\\ud558\\ub2e4 \\ubcf5\\uc6a9 \\ud608\\uc555 \\uc548\\uc815 \\ub0ae\\uc544\\uc9c0\\ub2e4\", \"\\ubc30\\uc1a1 \\ube68\\ub974\\ub2e4 \\uc131\\ub2a5 \\uc131\\ub2a5 \\ub6f0\\uc5b4\\ub098\\ub2e4 \\uc720\\ud1b5 \\uae30\\ud55c \\uae30\\ud55c \\ub109\\ub109\\ud558\\ub2e4 \\ub3d9\\ubb3c\\uc131 \\uc624\\uba54\\uac00 \\uc911\\uae08\\uc18d \\ud574\\uc870\\ub958 \\uc624\\uba54\\uac00 \\uad6c\\ub9e4 \\uc5ed\\uc2dc \\uc2dd\\ubb3c\\uc131 \\uadf8\\ub807\\ub2e4 \\ube44\\ub9ac\\ub2e4 \\uba39\\uae30 \\uc88b\\ub2e4 \\ud608\\uc561 \\uc21c\\ud658 \\uace0\\uc9c0\\ud608\\uc99d \\ucf5c\\ub808\\uc2a4\\ud14c\\ub864 \\uc218\\uce58 \\uc88b\\uc544\\uc9c0\\ub2e4 \\uc2e0\\uae30\\ud558\\ub2e4 \\uafb8\\uc900\\ud558\\ub2e4 \\ud608\\uc555 \\ub192\\ub2e4 \\ubd84\\ud558\\ub2e4 \\uc88b\\ub2e4 \\ub2eb\\ub2e4 \\uc0c1\\uc138 \\uc0c1\\uc138 \\uc0c1\\uc138\", \"\\ubc30\\uc1a1 \\ube68\\ub974\\ub2e4 \\uc131\\ub2a5 \\uc131\\ub2a5 \\ub6f0\\uc5b4\\ub098\\ub2e4 \\uc720\\ud1b5 \\uae30\\ud55c \\uae30\\ud55c \\ub109\\ub109\\ud558\\ub2e4 \\ub450\\ubc88\\uc9f8 \\uad6c\\ub9e4 \\uafb8\\uc900\\ud558\\ub2e4 \\uc0ac\\ub2e4 \\uc0c1\\uc138\", \"\\ubc30\\uc1a1 \\ube68\\ub974\\ub2e4 \\uc131\\ub2a5 \\uc131\\ub2a5 \\ub6f0\\uc5b4\\ub098\\ub2e4 \\uc720\\ud1b5 \\uae30\\ud55c \\uae30\\ud55c \\ub109\\ub109\\ud558\\ub2e4 \\ub450\\ubc88\\uc9f8 \\uad6c\\uc785 \\ud648\\uc1fc\\ud551 \\uc81c\\ud488 \\ube44\\uc2f8\\ub2e4 \\uc88b\\ub2e4 \\uba39\\uae30 \\ud608\\ud589 \\uac1c\\uc120 \\ud6a8\\ub2a5 240 \\ucf5c\\ub808\\uc2a4\\ud14c\\ub864 190 \\ub5a8\\uc5b4\\uc9c0\\ub2e4 \\uc0c1\\uc138\", \"\\ubc30\\uc1a1 \\ube68\\ub974\\ub2e4 \\uc131\\ub2a5 \\uc131\\ub2a5 \\ub6f0\\uc5b4\\ub098\\ub2e4 \\uc720\\ud1b5 \\uae30\\ud55c \\uae30\\ud55c \\ub109\\ub109\\ud558\\ub2e4 \\ub9cc\\uc871\\ud558\\ub2e4\", \"\\ubc30\\uc1a1 \\ube68\\ub974\\ub2e4 \\uc131\\ub2a5 \\uc131\\ub2a5 \\ub6f0\\uc5b4\\ub098\\ub2e4 \\uc720\\ud1b5 \\uae30\\ud55c \\uae30\\ud55c \\ub109\\ub109\\ud558\\ub2e4 \\ub9d1\\ub2e4 \\uae30\\ubd84 \\uc88b\\ub2e4 \\uae30\\ub300\\ud558\\ub2e4 \\uc0c1\\uc138\", \"\\ubc30\\uc1a1 \\ube68\\ub974\\ub2e4 \\uc131\\ub2a5 \\uc131\\ub2a5 \\ub6f0\\uc5b4\\ub098\\ub2e4 \\uc720\\ud1b5 \\uae30\\ud55c \\uae30\\ud55c \\ub109\\ub109\\ud558\\ub2e4 \\ubc30\\uc1a1 \\ube60\\ub974\\ub2e4 \\uc88b\\ub2e4\", \"\\ubc30\\uc1a1 \\ube68\\ub974\\ub2e4 \\uc131\\ub2a5 \\uc131\\ub2a5 \\ub6f0\\uc5b4\\ub098\\ub2e4 \\uc720\\ud1b5 \\uae30\\ud55c \\uae30\\ud55c \\ub109\\ub109\\ud558\\ub2e4 \\ubcf5\\uc6a9\", \"\\ubc30\\uc1a1 \\ube68\\ub974\\ub2e4 \\uc131\\ub2a5 \\uc131\\ub2a5 \\ub6f0\\uc5b4\\ub098\\ub2e4 \\uc720\\ud1b5 \\uae30\\ud55c \\uae30\\ud55c \\ub109\\ub109\\ud558\\ub2e4 \\ubcf5\\uc6a9 \\uc9c0\\ub098\\ub2e4 \\uc88b\\uc544\\uc9c0\\ub2e4 \\uae30\\ubd84 \\uafb8\\uc900\\ud558\\ub2e4 \\ubcf5\\uc6a9\", \"\\ubc30\\uc1a1 \\ube68\\ub974\\ub2e4 \\uc131\\ub2a5 \\uc131\\ub2a5 \\ub6f0\\uc5b4\\ub098\\ub2e4 \\uc720\\ud1b5 \\uae30\\ud55c \\uae30\\ud55c \\ub109\\ub109\\ud558\\ub2e4 \\ubd80\\ubaa8\\ub2d8 \\ub4dc\\ub9ac\\ub2e4 \\ud544\\uc694 \\uad6c\\uc131 \\uc88b\\ub2e4\", \"\\ubc30\\uc1a1 \\ube68\\ub974\\ub2e4 \\uc131\\ub2a5 \\uc131\\ub2a5 \\ub6f0\\uc5b4\\ub098\\ub2e4 \\uc720\\ud1b5 \\uae30\\ud55c \\uae30\\ud55c \\ub109\\ub109\\ud558\\ub2e4 \\ubd80\\ubaa8\\ub2d8 \\uc190\\ubc1c \\uc800\\ub9ac\\ub2e4 \\uad6c\\ub9e4 \\ube44\\uc2f8\\ub2e4 \\uc0b4\\ub2e4 \\uc2f8\\ub2e4 \\uc0ac\\ub2e4 \\uc0ac\\ub974\\ub2e4\", \"\\ubc30\\uc1a1 \\ube68\\ub974\\ub2e4 \\uc131\\ub2a5 \\uc131\\ub2a5 \\ub6f0\\uc5b4\\ub098\\ub2e4 \\uc720\\ud1b5 \\uae30\\ud55c \\uae30\\ud55c \\ub109\\ub109\\ud558\\ub2e4 \\ube60\\ub974\\ub2e4 \\ubc30\\uc1a1 \\uac10\\uc0ac\\ud558\\ub2e4\", \"\\ubc30\\uc1a1 \\ube68\\ub974\\ub2e4 \\uc131\\ub2a5 \\uc131\\ub2a5 \\ub6f0\\uc5b4\\ub098\\ub2e4 \\uc720\\ud1b5 \\uae30\\ud55c \\uae30\\ud55c \\ub109\\ub109\\ud558\\ub2e4 \\uc0c1\\uc138\", \"\\ubc30\\uc1a1 \\ube68\\ub974\\ub2e4 \\uc131\\ub2a5 \\uc131\\ub2a5 \\ub6f0\\uc5b4\\ub098\\ub2e4 \\uc720\\ud1b5 \\uae30\\ud55c \\uae30\\ud55c \\ub109\\ub109\\ud558\\ub2e4 \\uc0c1\\uc138\", \"\\ubc30\\uc1a1 \\ube68\\ub974\\ub2e4 \\uc131\\ub2a5 \\uc131\\ub2a5 \\ub6f0\\uc5b4\\ub098\\ub2e4 \\uc720\\ud1b5 \\uae30\\ud55c \\uae30\\ud55c \\ub109\\ub109\\ud558\\ub2e4 \\uc0c1\\uc138 \\uc0c1\\uc138\", \"\\ubc30\\uc1a1 \\ube68\\ub974\\ub2e4 \\uc131\\ub2a5 \\uc131\\ub2a5 \\ub6f0\\uc5b4\\ub098\\ub2e4 \\uc720\\ud1b5 \\uae30\\ud55c \\uae30\\ud55c \\ub109\\ub109\\ud558\\ub2e4 \\uc138\\ubc88 \\uad6c\\ub9e4 \\uc9c0\\uc18d \\ubcf5\\uc6a9 \\uc0c1\\uc138\", \"\\ubc30\\uc1a1 \\ube68\\ub974\\ub2e4 \\uc131\\ub2a5 \\uc131\\ub2a5 \\ub6f0\\uc5b4\\ub098\\ub2e4 \\uc720\\ud1b5 \\uae30\\ud55c \\uae30\\ud55c \\ub109\\ub109\\ud558\\ub2e4 \\uc190\\ubc1c \\uc800\\ub9bc \\uafb8\\uc900\\ud558\\ub2e4 \\uad1c\\ucc2e\\ub2e4 \\uc7ac\\ub2e4\", \"\\ubc30\\uc1a1 \\ube68\\ub974\\ub2e4 \\uc131\\ub2a5 \\uc131\\ub2a5 \\ub6f0\\uc5b4\\ub098\\ub2e4 \\uc720\\ud1b5 \\uae30\\ud55c \\uae30\\ud55c \\ub109\\ub109\\ud558\\ub2e4 \\uc544\\ub4e4 \\uc190\\ubc1c \\ucc28\\uac11\\ub2e4 \\ub2e4\\ud574 \\uc368\\ub2e4 \\uc548\\uc774 \\uc88b\\uc544\\ud558\\ub2e4 \\uc0bf\\uc5b4 \\uc88b\\ub2e4 \\uc88b\\ub2e4 \\uc0c1\\uc138\", \"\\ubc30\\uc1a1 \\ube68\\ub974\\ub2e4 \\uc131\\ub2a5 \\uc131\\ub2a5 \\ub6f0\\uc5b4\\ub098\\ub2e4 \\uc720\\ud1b5 \\uae30\\ud55c \\uae30\\ud55c \\ub109\\ub109\\ud558\\ub2e4 \\uc778\\ud130\\ub137 \\ube14\\ub85c\\uadf8 \\uc62c\\ub77c\\uc624\\ub2e4 \\ubcf4\\uad6c \\uad6c\\ub9e4 \\uc54c\\ub2e4 \\uc0c1\\uc138\", \"\\ubc30\\uc1a1 \\ube68\\ub974\\ub2e4 \\uc131\\ub2a5 \\uc131\\ub2a5 \\ub6f0\\uc5b4\\ub098\\ub2e4 \\uc720\\ud1b5 \\uae30\\ud55c \\uae30\\ud55c \\ub109\\ub109\\ud558\\ub2e4 \\uc790\\uc8fc \\uc8fc\\ubb38 \\uc0c1\\uc138\", \"\\ubc30\\uc1a1 \\ube68\\ub974\\ub2e4 \\uc131\\ub2a5 \\uc131\\ub2a5 \\ub6f0\\uc5b4\\ub098\\ub2e4 \\uc720\\ud1b5 \\uae30\\ud55c \\uae30\\ud55c \\ub109\\ub109\\ud558\\ub2e4 \\uc81c\\ud488 \\ub5a8\\uc5b4\\uc9c0\\ub2e4 \\uad6c\\uc785 \\uc0c1\\uc138\", \"\\ubc30\\uc1a1 \\ube68\\ub974\\ub2e4 \\uc131\\ub2a5 \\uc131\\ub2a5 \\ub6f0\\uc5b4\\ub098\\ub2e4 \\uc720\\ud1b5 \\uae30\\ud55c \\uae30\\ud55c \\ub109\\ub109\\ud558\\ub2e4 \\uc88b\\ub2e4\", \"\\ubc30\\uc1a1 \\ube68\\ub974\\ub2e4 \\uc131\\ub2a5 \\uc131\\ub2a5 \\ub6f0\\uc5b4\\ub098\\ub2e4 \\uc720\\ud1b5 \\uae30\\ud55c \\uae30\\ud55c \\ub109\\ub109\\ud558\\ub2e4 \\uc88b\\ub2e4\", \"\\ubc30\\uc1a1 \\ube68\\ub974\\ub2e4 \\uc131\\ub2a5 \\uc131\\ub2a5 \\ub6f0\\uc5b4\\ub098\\ub2e4 \\uc720\\ud1b5 \\uae30\\ud55c \\uae30\\ud55c \\ub109\\ub109\\ud558\\ub2e4 \\uc88b\\ub2e4\", \"\\ubc30\\uc1a1 \\ube68\\ub974\\ub2e4 \\uc131\\ub2a5 \\uc131\\ub2a5 \\ub6f0\\uc5b4\\ub098\\ub2e4 \\uc720\\ud1b5 \\uae30\\ud55c \\uae30\\ud55c \\ub109\\ub109\\ud558\\ub2e4 \\uc88b\\ub2e4 \\uad6c\\ub9e4\", \"\\ubc30\\uc1a1 \\ube68\\ub974\\ub2e4 \\uc131\\ub2a5 \\uc131\\ub2a5 \\ub6f0\\uc5b4\\ub098\\ub2e4 \\uc720\\ud1b5 \\uae30\\ud55c \\uae30\\ud55c \\ub109\\ub109\\ud558\\ub2e4 \\uc911\\uc131 \\uc9c0\\uc9c8 \\ucf5c\\ub808\\uc2a4\\ud14c\\ub864 \\ub192\\ub2e4 \\uc2ec\\ud558\\ub2e4 \\uac74\\uac15\\uac80\\uc9c4 \\uc8fc\\uc758 \\ud558\\ub798 \\uac31\\ub144\\uae30 \\uc624\\ub2c8 \\ud608\\uad00 \\uc9c8\\ud658 \\uc0dd\\uae30 \\ud608\\uc555 \\uc815\\uc0c1 \\uac80\\uc9c4 \\uacbd\\uacc4 \\ud608\\uc555 \\uae5c\\ub180 \\ub808\\uc2a4 \\ud2b8\\ub864 \\uc218\\uce58 \\ub192\\ub2e4 \\ub180\\ub798\\ub2e4 \\uc0ac\\uc774 \\uac31\\ub144\\uae30 \\uc811\\ub2e4 \\ub298\\ub2e4 \\ub3c4\\ud574 \\uc758\\uc0ac \\uac31\\ub144\\uae30 \\uadf8\\ub807\\ub2e4 \\ud608\\uad00 \\uc9c8\\ud658 \\ubc1c\\uc0dd \\uc6b4\\ub3d9 \\ud558\\ub77c \\uc6b4\\ub3d9 \\uc548\\ud574 \\uc815\\uc0c1 \\uc815\\ub9d0 \\ub180\\ub798\\ub2e4 \\uc6b4\\ub3d9 \\uac74\\uac15 \\ubcf4\\uc870 \\uc2dd\\ud488 \\ub178\\ub9ac\\ub2e4 \\ub098\\uc774 \\uc11c\\ub7fd\\ub2e4 \\uc624\\uc2ed \\ubaa8\\ub85c \\ud798\\ub4dc\\ub2e4 \\uc0c1\\uc138\", \"\\ubc30\\uc1a1 \\ube68\\ub974\\ub2e4 \\uc131\\ub2a5 \\uc131\\ub2a5 \\ub6f0\\uc5b4\\ub098\\ub2e4 \\uc720\\ud1b5 \\uae30\\ud55c \\uae30\\ud55c \\ub109\\ub109\\ud558\\ub2e4 \\ucf5c\\ub808\\uc2a4\\ud14c\\ub864 \\uce58\\uac00 \\ub192\\ub2e4 \\ub3c4\\uc6c0 \\ud6c4\\uae30 \\uad6c\\ub9e4 \\ud6c4\\uae30 \\ub2e4\\uc2dc \\uc62c\\ub9ac\\ub2e4\", \"\\ubc30\\uc1a1 \\ube68\\ub974\\ub2e4 \\uc131\\ub2a5 \\uc131\\ub2a5 \\ub6f0\\uc5b4\\ub098\\ub2e4 \\uc720\\ud1b5 \\uae30\\ud55c \\uae30\\ud55c \\ub109\\ub109\\ud558\\ub2e4 \\ud3ec\\uc7a5 \\ud2bc\\ud2bc\\ud558\\ub2e4 \\ud574\\uc8fc\\ub2e4 \\uc0c1\\uc138\", \"\\ubc30\\uc1a1 \\ube68\\ub974\\ub2e4 \\uc131\\ub2a5 \\uc131\\ub2a5 \\ub6f0\\uc5b4\\ub098\\ub2e4 \\uc720\\ud1b5 \\uae30\\ud55c \\uae30\\ud55c \\ub109\\ub109\\ud558\\ub2e4 \\ud608\\uc561 \\uac80\\uc0ac \\ub2e8\\uacc4 \\uc544\\ub2c8\\ub2e4 \\uad00\\ub9ac \\uac80\\uc0c9 \\uc8fc\\ubb38 \\ud06c\\uae30 \\ucee4\\uc11c \\uba38\\uae30 \\ubd88\\ud3b8\\ud558\\ub2e4 \\uafb8\\uc900\\ud558\\ub2e4 \\ub2e4\\uc2dc \\ud608\\uac80 \\ucf5c\\ub808\\uc2a4\\ud14c\\ub864 \\uc218\\uce58 \\uc218\\uce58 30 \\ub5a8\\uc5b4\\uc9c0\\ub2e4 \\uc7ac\\ub2e4 \\uc0c1\\uc138\", \"\\ubc30\\uc1a1 \\ube68\\ub974\\ub2e4 \\uc131\\ub2a5 \\uc131\\ub2a5 \\ub6f0\\uc5b4\\ub098\\ub2e4 \\uc720\\ud1b5 \\uae30\\ud55c \\uae30\\ud55c \\ub109\\ub109\\ud558\\ub2e4 \\ud608\\uc804 \\uc548\\uc2ec \\ub3fc\\ub2e4 \\ucf54\\ub85c\\ub098 \\ubc31\\uc2e0 \\ubd80\\uc791\\uc6a9 \\ud608\\uc804 \\ub365\\ub2e4 \\ud608\\uc804 \\uc0dd\\uae30 \\ud608\\uad00 \\uc881\\ub2e4 \\uc2ec\\ud558\\ub2e4 \\ud608\\uad00 \\uc544\\uc608 \\ub9c9\\ub2e4 \\ubc84\\ub9ac\\ub2e4 \\ud608\\uc561 \\ud750\\ub984 \\uba48\\ucd94\\ub2e4 \\ub300\\uc694 \\uc911\\uc131 \\uc9c0\\ubc29 \\uc218\\uce58 \\ub192\\ub2e4 \\ucf5c\\ub808\\uc2a4\\ud14c\\ub864 \\uc218\\uce58 \\ub192\\ub2e4 \\ud608\\uc804 \\uc0dd\\uae30\\ub2e4 \\uc26c\\ub2e4 \\uc704\\ud5d8\\ud558\\ub2e4 \\uc2b5\\uad00 \\uc778\\uc9c0 \\uac00\\uc871 \\ucf5c\\ub808\\uc2a4\\ud14c\\ub864 \\ub192\\ub2e4 \\uc2dd\\ub2e8 \\uc870\\uc808 \\ubc31\\uc2e0 \\ubd80\\uc791\\uc6a9 \\ud608\\uc804 \\ud558\\ub2c8 \\ubd88\\uc548\\ud558\\ub2e4 \\ucee4\\uc9c0\\ub2e4 \\uac00\\uc871 4\\ubd84 \\ubc31\\uc2e0 \\ub9de\\ub2e4 \\uad00\\ub9ac \\uc2dc\\uc791 \\ud608\\uad00 \\uc591\\uc81c \\uad6c\\ub9e4 \\ud608\\uad00 \\uc591\\uc81c \\uace0\\ub974\\ub2e4 \\uc81c\\ud488 \\uae30\\uc5b5 \\uac1c\\uc120 \\uc815\\ub9e5 \\uc21c\\ud658 \\ucd08\\uc810 \\ub9de\\ucd94\\ub2e4 \\uc368\\ub2e4 \\uc2dc\\uc548 \\ud608\\uad00 \\uac74\\uac15 \\ucd08\\uc810 \\ub9de\\ucd94\\ub2e4 \\ucf5c\\ub808\\uc2a4\\ud14c\\ub864 \\ud608\\ud589 \\uad00\\ub9ac \\uc911\\uc810 \\uad00\\ub9ac \\ud574\\uc8fc\\ub2e4 \\uad6c\\ub9e4 \\uc624\\uba54\\uac00 \\ub3d9\\ubb3c\\uc131 \\uc544\\ub2c8\\ub2e4 \\ud574\\uc870\\ub958 \\ub9cc\\ub4e4\\ub2e4 \\uc2dd\\ubb3c\\uc131 \\uac74\\uac15 \\uc81c\\ud488 \\ud655\\uc2e4\\ud558\\ub2e4 \\ub2e4\\ub974\\ub2e4 \\ub290\\uaef4\\uc9c0\\ub2e4 \\ucc28\\uc11c \\ub450\\uaecd\\ub2e4 \\uc591\\ub9d0 \\uc2e0\\ub2e4 \\ud608\\uc561 \\uc21c\\ud658 \\ub3fc\\ub2e4 \\uadf8\\ub807\\ub2e4 \\ub365\\ub2e4 \\uc591\\ub9d0 \\ubc97\\ub2e4 \\ubc84\\ub9ac\\ub2e4 \\uc313\\uc774\\ub2e4 \\ucf5c\\ub808\\uc2a4\\ud14c\\ub864 \\ud608\\uc804 \\uc21c\\ud658 \\uc88b\\ub2e4 \\uc81c\\ud488 \\uac10\\uc0ac\\ud558\\ub2e4 \\ub2eb\\ub2e4 \\uc0c1\\uc138 \\uc0c1\\uc138 \\uc0c1\\uc138 \\uc0c1\\uc138\", \"\\ubc30\\uc1a1 \\ube68\\ub974\\ub2e4 \\uc131\\ub2a5 \\uc131\\ub2a5 \\ubcc4\\ub85c \\uc720\\ud1b5 \\uae30\\ud55c \\uc720\\ud29c\\ube0c \\ucc3e\\uc544\\ubcf4\\ub2e4 \\ub9e4\\ub2e4 \\ucf5c\\ub808\\uc2a4\\ud14c\\ub864 \\ub5a8\\uc5b4\\uc9c0\\ub2e4 \\uc88b\\ub2e4 \\uaca0\\ub2e4 \\uc0c1\\uc138\", \"\\ubc30\\uc1a1 \\ube68\\ub974\\ub2e4 \\uc131\\ub2a5 \\uc720\\ud1b5 \\uae30\\ud55c\", \"\\ubc30\\uc1a1 \\ube68\\ub974\\ub2e4 \\uc131\\ub2a5 \\uc720\\ud1b5 \\uae30\\ud55c\", \"\\ubc30\\uc1a1 \\ube68\\ub974\\ub2e4 \\uc131\\ub2a5 \\uc720\\ud1b5 \\uae30\\ud55c \\uae30\\ud55c \\ub109\\ub109\\ud558\\ub2e4\", \"\\ubc30\\uc1a1 \\ube68\\ub974\\ub2e4 \\uc131\\ub2a5 \\uc720\\ud1b5 \\uae30\\ud55c \\uae30\\ud55c \\ub109\\ub109\\ud558\\ub2e4\", \"\\ubc30\\uc1a1 \\ube68\\ub974\\ub2e4 \\uc131\\ub2a5 \\uc720\\ud1b5 \\uae30\\ud55c \\uae30\\ud55c \\ub109\\ub109\\ud558\\ub2e4 \\ubaa8\\ub974\\ub2e4\", \"\\ubc30\\uc1a1 \\ube68\\ub974\\ub2e4 \\uc131\\ub2a5 \\uc720\\ud1b5 \\uae30\\ud55c \\uae30\\ud55c \\ub109\\ub109\\ud558\\ub2e4 \\ubd80\\ubaa8\\ub2d8 \\uac74\\uac15 \\uc704\\ud574 \\uac80\\uc0c9 \\ud6c4\\uae30 \\ub9ce\\ub2e4 \\uc88b\\ub2e4 \\uc0c1\\ud488 \\uce6d\\ucc2c \\ub9ce\\ub2e4 \\uad6c\\ub9e4 \\ud6a8\\ub2a5 \\uc54c\\ub2e4 \\ubcf5\\uc6a9 \\uc7ac\\ub2e4 \\ub9e4\\ub2e4 \\uc9c0\\ucf1c\\ubcf4\\ub2e4 \\uac10\\uc0ac\\ud558\\ub2e4\", \"\\ubc30\\uc1a1 \\ube68\\ub974\\ub2e4 \\uc131\\ub2a5 \\uc720\\ud1b5 \\uae30\\ud55c \\uae30\\ud55c \\ub109\\ub109\\ud558\\ub2e4 \\uc774\\uc8fc \\uc9c0\\ub098\\ub2e4\", \"\\ubc30\\uc1a1 \\ube68\\ub974\\ub2e4 \\uc131\\ub2a5 \\uc720\\ud1b5 \\uae30\\ud55c \\uae30\\ud55c \\ub109\\ub109\\ud558\\ub2e4 \\ud608\\uc555 \\uc88b\\ub2e4 \\ubaa8\\ub974\\ub2e4\", \"\\ubc30\\uc1a1 \\ube68\\ub974\\ub2e4 \\uc131\\ub2a5 \\uc720\\ud1b5 \\uae30\\ud55c \\ubaa8\\ub974\\ub2e4 \\uafb8\\uc900\\ud558\\ub2e4 1\\ub144 \\ud608\\uad00 \\uad00\\ub9ac \\ub93c\\ud574\", \"\\ubc30\\uc1a1 \\ube68\\ub974\\ub2e4 \\uc720\\ud1b5 \\uae30\\ud55c\", \"\\ubc30\\uc1a1 \\ube68\\ub974\\ub2e4 \\uc720\\ud1b5 \\uae30\\ud55c \\uae30\\ud55c \\ub109\\ub109\\ud558\\ub2e4\", \"\\ubc30\\uc1a1 \\ube68\\ub974\\ub2e4 \\uc720\\ud1b5 \\uae30\\ud55c \\uae30\\ud55c \\ub109\\ub109\\ud558\\ub2e4 \\uc624\\uba54\\uac00 \\ud64d\\uad6d \\ucf54\\ud050\\ud150 \\uc88b\\ub2e4 \\ud655\\uc2e4\\ud558\\ub2e4 \\uc624\\uba54\\uac00 \\uc88b\\ub2e4 \\ud3b8\\ud558\\ub2e4 \\uc88b\\ub2e4 \\uad6c\\ub9e4 \\uc9dc\\ub2e4 \\uad6c\\uc131 \\uc800\\ub834\\ud558\\ub2e4 \\ub2e8\\uac00 \\uac10\\uc0ac\\ud558\\ub2e4 \\ub2eb\\ub2e4 \\uc0c1\\uc138 \\uc0c1\\uc138 \\uc0c1\\uc138\", \"\\ubc30\\uc1a1 \\ube68\\ub974\\ub2e4 \\uc720\\ud1b5 \\uae30\\ud55c \\uae30\\ud55c \\ub109\\ub109\\ud558\\ub2e4 \\uc88b\\ub2e4\", \"\\ubc30\\uc1a1 \\ube68\\ub974\\ub2e4 \\uc720\\ud1b5 \\uae30\\ud55c \\uae30\\ud55c \\ub109\\ub109\\ud558\\ub2e4 \\uccb4\\ud5d8 \\uc804\\uc774 \\ub290\\ub07c\\ub2e4 \\uc7ac\\ub2e4\", \"\\ubc30\\uc1a1 \\ube68\\ub974\\ub2e4 \\uc88b\\ub2e4\", \"\\ubc30\\uc1a1 \\uc131\\ub2a5 \\uc131\\ub2a5 \\ub6f0\\uc5b4\\ub098\\ub2e4 \\uc720\\ud1b5 \\uae30\\ud55c\", \"\\ubc30\\uc1a1 \\uc131\\ub2a5 \\uc131\\ub2a5 \\ub6f0\\uc5b4\\ub098\\ub2e4 \\uc720\\ud1b5 \\uae30\\ud55c\", \"\\ubc30\\uc1a1 \\uc131\\ub2a5 \\uc131\\ub2a5 \\ub6f0\\uc5b4\\ub098\\ub2e4 \\uc720\\ud1b5 \\uae30\\ud55c \\uae30\\ud55c \\ub109\\ub109\\ud558\\ub2e4\", \"\\ubc30\\uc1a1 \\uc131\\ub2a5 \\uc131\\ub2a5 \\ub6f0\\uc5b4\\ub098\\ub2e4 \\uc720\\ud1b5 \\uae30\\ud55c \\uae30\\ud55c \\ub109\\ub109\\ud558\\ub2e4\", \"\\ubc30\\uc1a1 \\uc131\\ub2a5 \\uc131\\ub2a5 \\ub6f0\\uc5b4\\ub098\\ub2e4 \\uc720\\ud1b5 \\uae30\\ud55c \\uae30\\ud55c \\ub109\\ub109\\ud558\\ub2e4\", \"\\ubc30\\uc1a1 \\uc131\\ub2a5 \\uc131\\ub2a5 \\ub6f0\\uc5b4\\ub098\\ub2e4 \\uc720\\ud1b5 \\uae30\\ud55c \\uae30\\ud55c \\ub109\\ub109\\ud558\\ub2e4 \\uace0\\ud608\\uc555 \\uba39\\uae30 \\ub2e8\\uacc4 \\uc2ec\\uc0ac\\uc219\\uace0 \\ubcf5\\uc6a9 \\ubcf5\\uc6a9 \\ubcc0\\ud654 \\ub290\\ub07c\\ub2e4 \\uafb8\\uc900\\ud558\\ub2e4\", \"\\ubc30\\uc1a1 \\uc131\\ub2a5 \\uc131\\ub2a5 \\ub6f0\\uc5b4\\ub098\\ub2e4 \\uc720\\ud1b5 \\uae30\\ud55c \\uae30\\ud55c \\ub109\\ub109\\ud558\\ub2e4 \\ubbff\\ub2e4 \\uc81c\\ud488 \\uc774\\ub0b4 \\ub3c4\\uc6c0\", \"\\ubc30\\uc1a1 \\uc131\\ub2a5 \\uc131\\ub2a5 \\ub6f0\\uc5b4\\ub098\\ub2e4 \\uc720\\ud1b5 \\uae30\\ud55c \\uae30\\ud55c \\ub109\\ub109\\ud558\\ub2e4 \\uc88b\\ub2e4\", \"\\ubc30\\uc1a1 \\uc131\\ub2a5 \\uc131\\ub2a5 \\ub6f0\\uc5b4\\ub098\\ub2e4 \\uc720\\ud1b5 \\uae30\\ud55c \\uae30\\ud55c \\ub109\\ub109\\ud558\\ub2e4 \\ud608\\uad00 \\uac74\\uac15 \\uc88b\\ub2e4 \\uad6c\\uc785 \\uc88b\\ub2e4 \\uacb0\\uacfc \\uc0c1\\uc138 \\uc0c1\\uc138\", \"\\ubc30\\uc1a1 \\uc131\\ub2a5 \\uc720\\ud1b5 \\uae30\\ud55c\", \"\\ubc30\\uc1a1 \\uc131\\ub2a5 \\uc720\\ud1b5 \\uae30\\ud55c\", \"\\ubc30\\uc1a1 \\uc131\\ub2a5 \\uc720\\ud1b5 \\uae30\\ud55c\", \"\\ubc30\\uc1a1 \\uc131\\ub2a5 \\uc720\\ud1b5 \\uae30\\ud55c \\uae30\\ud55c \\ub109\\ub109\\ud558\\ub2e4\", \"\\ubc30\\uc1a1 \\uc131\\ub2a5 \\uc720\\ud1b5 \\uae30\\ud55c \\ubcf4\\uc9c0 \\uc0c1\\ud488 \\ud3c9\\uc774 \\uc88b\\ub2e4 \\uad6c\\uc785 \\ubcf4\\uad6c \\uc560\\uae30 \\ud574\\ub4dc\\ub9ac\\ub2e4 \\ub2eb\\ub2e4 \\uc0c1\\uc138\", \"\\ubc30\\uc1a1 \\uc720\\ud1b5 \\uae30\\ud55c\", \"\\ubd88\\ud3b8\\ud558\\ub2e4\", \"\\ube60\\ub974\\ub2e4 \\ubc30\\uc1a1 \\uac10\\uc0ac\\ud558\\ub2e4\", \"\\uc131\\ub2a5 \\uc131\\ub2a5 \\ub6f0\\uc5b4\\ub098\\ub2e4\", \"\\uc131\\ub2a5 \\uc131\\ub2a5 \\ub6f0\\uc5b4\\ub098\\ub2e4 \\uc720\\ud1b5 \\uae30\\ud55c \\uae30\\ud55c \\ub109\\ub109\\ud558\\ub2e4\", \"\\uc131\\ub2a5 \\uc131\\ub2a5 \\ub6f0\\uc5b4\\ub098\\ub2e4 \\uc720\\ud1b5 \\uae30\\ud55c \\uae30\\ud55c \\ub109\\ub109\\ud558\\ub2e4 \\uc720\\ud1b5 \\uae30\\ud55c \\ub109\\ub109\\ud558\\ub2e4 \\uc0bc\\ud0a4\\ub2e4 \\ubd80\\ub2f4 \\uc0ac\\uc774\\uc988 \\uc7a5\\uae30\\uac04 \\uc54c\\ub2e4 \\uc2e0\\uc785\\uc0ac\\uc6d0 \\ud3b8\\uc9c0 \\uc88b\\ub2e4 \\ubbf8\\ub9ac \\ub290\\ub07c\\ub2e4 \\uc0c1\\uc138\", \"\\uc131\\ub2a5 \\uc720\\ud1b5 \\uae30\\ud55c\", \"\\uc2e0\\uae30\\ud558\\ub2e4 \\ud608\\uc555 \\ub192\\ub2e4 \\ub4dc\\ub9ac\\ub2e4 \\ubcf5\\uc6a9 \\uc548\\ub418\\ub2e4 \\ud608\\uc555 148 \\ubcd1\\uc6d0 \\uc11c\\uc7ac 127 78 \\uc815\\uc0c1 \\uc218\\uce58 \\uc88b\\uc544\\ud558\\ub2e4 \\uc7a5\\uae30 \\ubcf5\\uc6a9\", \"\\uc720\\ud1b5 \\uae30\\ud55c \\uae30\\ud55c \\ub109\\ub109\\ud558\\ub2e4 \\ud3ec\\uc7a5 \\uc0c1\\ud0dc \\ud3ec\\uc7a5 \\uae54\\ub054\\ud558\\ub2e4\", \"\\uc720\\ud1b5 \\uae30\\ud55c \\uae30\\ud55c \\ub109\\ub109\\ud558\\ub2e4 \\ud3ec\\uc7a5 \\uc0c1\\ud0dc \\ud3ec\\uc7a5 \\uae54\\ub054\\ud558\\ub2e4\", \"\\uc720\\ud1b5 \\uae30\\ud55c \\uae30\\ud55c \\ub109\\ub109\\ud558\\ub2e4 \\ud3ec\\uc7a5 \\uc0c1\\ud0dc \\ud3ec\\uc7a5 \\uae54\\ub054\\ud558\\ub2e4\", \"\\uc720\\ud1b5 \\uae30\\ud55c \\uae30\\ud55c \\ub109\\ub109\\ud558\\ub2e4 \\ud3ec\\uc7a5 \\uc0c1\\ud0dc \\ud3ec\\uc7a5 \\uae54\\ub054\\ud558\\ub2e4\", \"\\uc720\\ud1b5 \\uae30\\ud55c \\uae30\\ud55c \\ub109\\ub109\\ud558\\ub2e4 \\ud3ec\\uc7a5 \\uc0c1\\ud0dc \\ud3ec\\uc7a5 \\uae54\\ub054\\ud558\\ub2e4 \\uc0c1\\ud488 \\ub4e4\\uc774\\ub2e4 \\uc2dc\\ub098 \\uad6c\\ub9e4 \\uc0c1\\uc138\", \"\\uc720\\ud1b5 \\uae30\\ud55c \\uae30\\ud55c \\ub109\\ub109\\ud558\\ub2e4 \\ud3ec\\uc7a5 \\uc0c1\\ud0dc \\ud3ec\\uc7a5 \\uae54\\ub054\\ud558\\ub2e4 \\uc88b\\ub2e4\", \"\\uc720\\ud1b5 \\uae30\\ud55c \\uae30\\ud55c \\ub109\\ub109\\ud558\\ub2e4 \\ud3ec\\uc7a5 \\uc0c1\\ud0dc \\ud3ec\\uc7a5 \\uae54\\ub054\\ud558\\ub2e4 \\uc88b\\ub2e4\", \"\\uc720\\ud1b5 \\uae30\\ud55c \\uae30\\ud55c \\ub109\\ub109\\ud558\\ub2e4 \\ud3ec\\uc7a5 \\uc0c1\\ud0dc \\ud3ec\\uc7a5 \\uae54\\ub054\\ud558\\ub2e4 \\uc88b\\ub2e4\", \"\\uc720\\ud1b5 \\uae30\\ud55c \\uae30\\ud55c \\ub109\\ub109\\ud558\\ub2e4 \\ud3ec\\uc7a5 \\uc0c1\\ud0dc \\ud3ec\\uc7a5 \\uae54\\ub054\\ud558\\ub2e4 \\uc88b\\ub2e4\", \"\\uc720\\ud1b5 \\uae30\\ud55c \\uae30\\ud55c \\ub109\\ub109\\ud558\\ub2e4 \\ud3ec\\uc7a5 \\uc0c1\\ud0dc \\ud3ec\\uc7a5 \\uae54\\ub054\\ud558\\ub2e4 \\uc88b\\ub2e4\", \"\\uc720\\ud1b5 \\uae30\\ud55c \\uae30\\ud55c \\ub109\\ub109\\ud558\\ub2e4 \\ud3ec\\uc7a5 \\uc0c1\\ud0dc \\ud3ec\\uc7a5 \\uae54\\ub054\\ud558\\ub2e4 \\uc88b\\ub2e4 1\\ub144 \\uad6c\\ub9e4 \\ubcf5\\uc6a9 \\uc815\\ud655\\ud558\\ub2e4 \\uac80\\uc0ac \\ud574\\ubcf4\\ub2e4 \\uc218\\uce58 \\ubaa8\\ub974\\ub2e4 \\ubb34\\uac70 \\uc950\\ub2e4 \\ud655\\uc2e4\\ud558\\ub2e4 \\uc88b\\uc544\\uc9c0\\ub2e4 \\uc88b\\ub2e4 \\uc601\\ud5a5 \\ubbff\\ub2e4 \\uc2f6\\ub2e4 \\uad6c\\ub9e4 \\uc81c\\ud488 \\ubd84\\ub9ac \\ud798\\ub4e4\\ub2e4 \\ub2e4\\uc2dc \\ubd84\\ub9ac \\uc27d\\ub2e4 \\uc0c1\\uc138 \\uc0c1\\uc138 \\uc0c1\\uc138\", \"\\uc720\\ud1b5 \\uae30\\ud55c \\uae30\\ud55c \\ub109\\ub109\\ud558\\ub2e4 \\ud3ec\\uc7a5 \\uc0c1\\ud0dc \\ud3ec\\uc7a5 \\uae54\\ub054\\ud558\\ub2e4 \\uc88b\\ub2e4 \\uad6c\\ub9e4 \\ubc30\\uc1a1 \\uc608\\uc815\\uc77c \\uc81c\\uc870 2\\uc6d4 \\uc720\\ud1b5 \\uae30\\ud55c \\uae30\\ub2e4 \\uc88b\\ub2e4 \\uc0c1\\uc138 \\uc0c1\\uc138\", \"\\uc720\\ud1b5 \\uae30\\ud55c \\uae30\\ud55c \\ub109\\ub109\\ud558\\ub2e4 \\ud3ec\\uc7a5 \\uc0c1\\ud0dc \\ud3ec\\uc7a5 \\uae54\\ub054\\ud558\\ub2e4 \\uc88b\\ub2e4 \\uad6c\\ub9e4 \\ud574\\ubcf4\\ub2e4 \\ucc28\\uadfc\\ucc28\\uadfc \\uc54c\\ub2e4 \\uc131\\ubd84 \\uc88b\\ub2e4 \\uad6c\\ub9e4 \\uc624\\uba54\\uac00 \\ucf54\\uc5d4\\uc790\\uc784 \\uc5fd\\uc0b0 \\uc81c\\ud488 \\uad6c\\ub9e4 \\uad6c\\ub9e4 \\uba39\\uae30 \\uadc0\\ucc2e\\ub2e4 \\uac00\\uaca9 \\uc810\\ub3c4 \\ub2e4\\uc2dc \\uad6c\\ub9e4 \\uc0c1\\uc138\", \"\\uc720\\ud1b5 \\uae30\\ud55c \\uae30\\ud55c \\ub109\\ub109\\ud558\\ub2e4 \\ud3ec\\uc7a5 \\uc0c1\\ud0dc \\ud3ec\\uc7a5 \\uae54\\ub054\\ud558\\ub2e4 \\uc88b\\ub2e4 \\uae30\\uac04 \\ub109\\ub109\\ud558\\ub2e4 \\ud3ec\\uc7a5 \\uc54c\\ub2e4\", \"\\uc720\\ud1b5 \\uae30\\ud55c \\uae30\\ud55c \\ub109\\ub109\\ud558\\ub2e4 \\ud3ec\\uc7a5 \\uc0c1\\ud0dc \\ud3ec\\uc7a5 \\uae54\\ub054\\ud558\\ub2e4 \\uc88b\\ub2e4 \\uafb8\\uc900\\ud558\\ub2e4 \\ubcf5\\uc6a9 \\ud608\\uc555 \\uc548\\uc815\", \"\\uc720\\ud1b5 \\uae30\\ud55c \\uae30\\ud55c \\ub109\\ub109\\ud558\\ub2e4 \\ud3ec\\uc7a5 \\uc0c1\\ud0dc \\ud3ec\\uc7a5 \\uae54\\ub054\\ud558\\ub2e4 \\uc88b\\ub2e4 \\ubc8c\\uc368 \\ub450\\ubc88\\uc9f8 \\uad6c\\uc785 \\uac00\\uc871 \\ubcf5\\uc6a9 \\ub6f0\\uc5b4\\ub098\\ub2e4 \\ub290\\ub07c\\ub2e4 \\ubbff\\ub2e4 \\ub2f9\\ubd84\\uac04 \\uafb8\\uc900\\ud558\\ub2e4 \\ubcf5\\uc6a9 \\uc54c\\uc57d \\uc0bc\\ud0a4\\ub2e4 \\ud3b8\\ud558\\ub2e4 \\ubd80\\ub4dc\\ub7fd\\ub2e4 \\ud544\\uc694\\ud558\\ub2e4 \\uc131\\ubd84 \\uc88b\\ub2e4 \\uc0c1\\uc138 \\uc0c1\\uc138\", \"\\uc720\\ud1b5 \\uae30\\ud55c \\uae30\\ud55c \\ub109\\ub109\\ud558\\ub2e4 \\ud3ec\\uc7a5 \\uc0c1\\ud0dc \\ud3ec\\uc7a5 \\uae54\\ub054\\ud558\\ub2e4 \\uc88b\\ub2e4 \\uc368\\ub2e4 \\uc2dc\\uc548 \\uc2dc\\ub974\\ub2e4 \\uc778\\ud130\\ub137 \\uac80\\uc0c9 \\uc88b\\ub2e4 \\uad6c\\ub9e4\", \"\\uc720\\ud1b5 \\uae30\\ud55c \\uae30\\ud55c \\ub109\\ub109\\ud558\\ub2e4 \\ud3ec\\uc7a5 \\uc0c1\\ud0dc \\ud3ec\\uc7a5 \\uae54\\ub054\\ud558\\ub2e4 \\uc88b\\ub2e4 \\uc7a5\\uae30 \\ubcf5\\uc6a9 \\ud608\\uc555 \\uc870\\uc808\", \"\\uc720\\ud1b5 \\uae30\\ud55c \\uae30\\ud55c \\ub109\\ub109\\ud558\\ub2e4 \\ud3ec\\uc7a5 \\uc0c1\\ud0dc \\ud3ec\\uc7a5 \\uae54\\ub054\\ud558\\ub2e4 \\uc88b\\ub2e4 \\uc81c\\ud488 \\ub6f0\\uc5b4\\ub098\\ub2e4\", \"\\uc720\\ud1b5 \\uae30\\ud55c \\uae30\\ud55c \\ub109\\ub109\\ud558\\ub2e4 \\ud3ec\\uc7a5 \\uc0c1\\ud0dc \\ud3ec\\uc7a5 \\uae54\\ub054\\ud558\\ub2e4 \\uc88b\\ub2e4 \\uc88b\\ub2e4 \\uac00\\uaca9 \\ubd80\\ub2f4 \\uc0c1\\uc138\", \"\\uc720\\ud1b5 \\uae30\\ud55c \\uae30\\ud55c \\ub109\\ub109\\ud558\\ub2e4 \\ud3ec\\uc7a5 \\uc0c1\\ud0dc \\ud3ec\\uc7a5 \\uae54\\ub054\\ud558\\ub2e4 \\uc88b\\ub2e4 \\ucd08\\uae30 \\uc9c4\\uc785 \\ub2e8\\uacc4 \\uad6c\\uc785 \\uc0c1\\uc138\", \"\\uc720\\ud1b5 \\uae30\\ud55c \\uae30\\ud55c \\ub109\\ub109\\ud558\\ub2e4 \\ud3ec\\uc7a5 \\uc0c1\\ud0dc \\ud3ec\\uc7a5 \\uae54\\ub054\\ud558\\ub2e4 \\uc88b\\ub2e4 \\ud608\\uc555 \\uafb8\\uc900\\ud558\\ub2e4 \\ubcf5\\uc6a9 \\ubaa8\\ub974\\ub2e4 \\ubd88\\uc548\\ud558\\ub2e4 \\ubcf5\\uc6a9\", \"\\uc720\\ud1b5 \\uae30\\ud55c \\uae30\\ud55c \\ub109\\ub109\\ud558\\ub2e4 \\ud3ec\\uc7a5 \\uc0c1\\ud0dc \\ud3ec\\uc7a5 \\uae54\\ub054\\ud558\\ub2e4 \\uc9c0\\uc778 \\uba3c\\uc800 \\ucd94\\ucc9c \\uad6c\\ub9e4 \\uc2e0\\ub791 \\uc800\\ub141 \\ud3ec\\uc7a5 \\uae54\\ub054\\ud558\\ub2e4 \\ube60\\ub974\\ub2e4 \\ubc30\\uc1a1 \\uc88b\\ub2e4 \\uafb8\\uc900\\ud558\\ub2e4 \\uad6c\\ub9e4 \\uc0c1\\uc138\", \"\\uc720\\ud1b5 \\uae30\\ud55c \\uae30\\ud55c \\ub109\\ub109\\ud558\\ub2e4 \\ud3ec\\uc7a5 \\uc0c1\\ud0dc \\ud3ec\\uc7a5 \\uae54\\ub054\\ud558\\ub2e4 \\ud3ec\\uc7a5 \\ubc29\\ubc95 \\uc124\\uba85 \\ud6c4\\uae30 \\uc88b\\ub2e4 \\ub298\\ub2e4 \\uc8fc\\ubb38 \\ubcf5\\uc6a9 \\ud574\\ubcf4\\ub2e4 \\ub9ac\\ubdf0 \\uc218\\uc815 \\uc0c1\\uc138\", \"\\uc720\\ud1b5 \\uae30\\ud55c \\ud3ec\\uc7a5 \\uc0c1\\ud0dc\", \"\\uc720\\ud1b5 \\uae30\\ud55c \\ud3ec\\uc7a5 \\uc0c1\\ud0dc\", \"\\uc720\\ud1b5 \\uae30\\ud55c \\ud3ec\\uc7a5 \\uc0c1\\ud0dc \\uc88b\\ub2e4 \\uc7ac\\ub2e4\", \"\\uc720\\ud1b5 \\uae30\\ud55c \\ud3ec\\uc7a5 \\uc0c1\\ud0dc \\ud3ec\\uc7a5 \\uae54\\ub054\\ud558\\ub2e4 \\uc88b\\ub2e4 \\ub808\\uc2a4 \\ud2b8\\ub864 \\uc218\\uce58 \\ub192\\ub2e4 \\uc8fc\\ubb38 \\uc88b\\ub2e4 \\uc0c1\\ud488 \\uc88b\\ub2e4 \\ubbff\\ub2e4\", \"\\uc720\\ud1b5 \\uae30\\ud55c \\ud3ec\\uc7a5 \\uc0c1\\ud0dc \\ud3ec\\uc7a5 \\uae54\\ub054\\ud558\\ub2e4 \\uc9c0\\ud608 \\ud608\\uc555 \\ub192\\ub2e4 \\ub3c4\\uc6c0 \\uad6c\\uc785 \\ubcf5\\uc6a9 \\ud638\\uacfc \\uad6c\\uc785 \\uba8c\\uc815 \\uc0c1\\uc138\", \"\\uc88b\\ub2e4\", \"\\uc88b\\ub2e4 \\uc0c1\\uc138\", \"\\uc88b\\ub2e4 \\uc88b\\ub2e4\"]}, \"R\": 30, \"lambda.step\": 0.01, \"plot.opts\": {\"xlab\": \"PC1\", \"ylab\": \"PC2\"}, \"topic.order\": [6, 4, 1, 7, 8, 2, 5, 3, 9]};\n",
       "\n",
       "function LDAvis_load_lib(url, callback){\n",
       "  var s = document.createElement('script');\n",
       "  s.src = url;\n",
       "  s.async = true;\n",
       "  s.onreadystatechange = s.onload = callback;\n",
       "  s.onerror = function(){console.warn(\"failed to load library \" + url);};\n",
       "  document.getElementsByTagName(\"head\")[0].appendChild(s);\n",
       "}\n",
       "\n",
       "if(typeof(LDAvis) !== \"undefined\"){\n",
       "   // already loaded: just create the visualization\n",
       "   !function(LDAvis){\n",
       "       new LDAvis(\"#\" + \"ldavis_el7274817633399836007304811774\", ldavis_el7274817633399836007304811774_data);\n",
       "   }(LDAvis);\n",
       "}else if(typeof define === \"function\" && define.amd){\n",
       "   // require.js is available: use it to load d3/LDAvis\n",
       "   require.config({paths: {d3: \"https://d3js.org/d3.v5\"}});\n",
       "   require([\"d3\"], function(d3){\n",
       "      window.d3 = d3;\n",
       "      LDAvis_load_lib(\"https://cdn.jsdelivr.net/gh/bmabey/pyLDAvis@3.4.0/pyLDAvis/js/ldavis.v3.0.0.js\", function(){\n",
       "        new LDAvis(\"#\" + \"ldavis_el7274817633399836007304811774\", ldavis_el7274817633399836007304811774_data);\n",
       "      });\n",
       "    });\n",
       "}else{\n",
       "    // require.js not available: dynamically load d3 & LDAvis\n",
       "    LDAvis_load_lib(\"https://d3js.org/d3.v5.js\", function(){\n",
       "         LDAvis_load_lib(\"https://cdn.jsdelivr.net/gh/bmabey/pyLDAvis@3.4.0/pyLDAvis/js/ldavis.v3.0.0.js\", function(){\n",
       "                 new LDAvis(\"#\" + \"ldavis_el7274817633399836007304811774\", ldavis_el7274817633399836007304811774_data);\n",
       "            })\n",
       "         });\n",
       "}\n",
       "</script>"
      ],
      "text/plain": [
       "<IPython.core.display.HTML object>"
      ]
     },
     "execution_count": 44,
     "metadata": {},
     "output_type": "execute_result"
    }
   ],
   "source": [
    "pyLDAvis.display(result_visualized)"
   ]
  },
  {
   "cell_type": "code",
   "execution_count": 45,
   "id": "54cfa60f-6e72-46a9-954f-0e6182235461",
   "metadata": {
    "tags": []
   },
   "outputs": [],
   "source": [
    "pyLDAvis.save_html(result_visualized, '../datasets/review_positive_result_visualized.html')"
   ]
  }
 ],
 "metadata": {
  "kernelspec": {
   "display_name": "Python 3 (ipykernel)",
   "language": "python",
   "name": "python3"
  },
  "language_info": {
   "codemirror_mode": {
    "name": "ipython",
    "version": 3
   },
   "file_extension": ".py",
   "mimetype": "text/x-python",
   "name": "python",
   "nbconvert_exporter": "python",
   "pygments_lexer": "ipython3",
   "version": "3.11.3"
  }
 },
 "nbformat": 4,
 "nbformat_minor": 5
}
